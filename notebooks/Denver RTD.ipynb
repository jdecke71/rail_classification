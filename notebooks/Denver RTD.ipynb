{
 "cells": [
  {
   "cell_type": "code",
   "execution_count": 1,
   "metadata": {},
   "outputs": [],
   "source": [
    "import pandas as pd\n",
    "import geopandas as gpd\n",
    "import matplotlib.pyplot as plt\n",
    "from shapely.geometry import mapping\n",
    "import folium\n",
    "import gmaps\n",
    "import os\n",
    "import requests\n",
    "import shutil"
   ]
  },
  {
   "cell_type": "code",
   "execution_count": 2,
   "metadata": {},
   "outputs": [],
   "source": [
    "with open('../resources/key.txt') as f:\n",
    "    token = f.read()\n",
    "    \n",
    "gmaps.configure(api_key = token)"
   ]
  },
  {
   "cell_type": "code",
   "execution_count": 3,
   "metadata": {},
   "outputs": [],
   "source": [
    "input_folder = '../data/railways/denver_RTD/'\n",
    "input_file = input_folder+'LightrailLines_Center.shp'\n",
    "\n",
    "output_folder = '../data/output_images/DenverRTD/'\n",
    "output_csv = output_folder+'DEN.csv'\n",
    "\n",
    "update_folder = output_folder+'/set_3/'"
   ]
  },
  {
   "cell_type": "markdown",
   "metadata": {},
   "source": [
    "### Import Routes"
   ]
  },
  {
   "cell_type": "code",
   "execution_count": 4,
   "metadata": {},
   "outputs": [
    {
     "data": {
      "text/html": [
       "<div>\n",
       "<style scoped>\n",
       "    .dataframe tbody tr th:only-of-type {\n",
       "        vertical-align: middle;\n",
       "    }\n",
       "\n",
       "    .dataframe tbody tr th {\n",
       "        vertical-align: top;\n",
       "    }\n",
       "\n",
       "    .dataframe thead th {\n",
       "        text-align: right;\n",
       "    }\n",
       "</style>\n",
       "<table border=\"1\" class=\"dataframe\">\n",
       "  <thead>\n",
       "    <tr style=\"text-align: right;\">\n",
       "      <th></th>\n",
       "      <th>OBJECTID</th>\n",
       "      <th>PROJECTCOR</th>\n",
       "      <th>SOURCE</th>\n",
       "      <th>Shape__Len</th>\n",
       "      <th>geometry</th>\n",
       "    </tr>\n",
       "  </thead>\n",
       "  <tbody>\n",
       "    <tr>\n",
       "      <th>0</th>\n",
       "      <td>142</td>\n",
       "      <td>110</td>\n",
       "      <td>A-Line</td>\n",
       "      <td>87291.422422</td>\n",
       "      <td>(LINESTRING (-105.001090582883 39.753148821931...</td>\n",
       "    </tr>\n",
       "    <tr>\n",
       "      <th>1</th>\n",
       "      <td>143</td>\n",
       "      <td>112</td>\n",
       "      <td>G-Line</td>\n",
       "      <td>35177.373865</td>\n",
       "      <td>(LINESTRING (-105.137784196155 39.786794639271...</td>\n",
       "    </tr>\n",
       "    <tr>\n",
       "      <th>2</th>\n",
       "      <td>144</td>\n",
       "      <td>113</td>\n",
       "      <td>B-Line</td>\n",
       "      <td>7281.026112</td>\n",
       "      <td>(LINESTRING (-105.007403102142 39.806185928394...</td>\n",
       "    </tr>\n",
       "    <tr>\n",
       "      <th>3</th>\n",
       "      <td>145</td>\n",
       "      <td>109</td>\n",
       "      <td>L-Line</td>\n",
       "      <td>2816.281729</td>\n",
       "      <td>(LINESTRING (-104.988737522449 39.748187234728...</td>\n",
       "    </tr>\n",
       "    <tr>\n",
       "      <th>4</th>\n",
       "      <td>146</td>\n",
       "      <td>113</td>\n",
       "      <td>B-G Lines</td>\n",
       "      <td>20179.760544</td>\n",
       "      <td>(LINESTRING (-104.999945166902 39.754022112124...</td>\n",
       "    </tr>\n",
       "  </tbody>\n",
       "</table>\n",
       "</div>"
      ],
      "text/plain": [
       "   OBJECTID  PROJECTCOR     SOURCE    Shape__Len  \\\n",
       "0       142         110     A-Line  87291.422422   \n",
       "1       143         112     G-Line  35177.373865   \n",
       "2       144         113     B-Line   7281.026112   \n",
       "3       145         109     L-Line   2816.281729   \n",
       "4       146         113  B-G Lines  20179.760544   \n",
       "\n",
       "                                            geometry  \n",
       "0  (LINESTRING (-105.001090582883 39.753148821931...  \n",
       "1  (LINESTRING (-105.137784196155 39.786794639271...  \n",
       "2  (LINESTRING (-105.007403102142 39.806185928394...  \n",
       "3  (LINESTRING (-104.988737522449 39.748187234728...  \n",
       "4  (LINESTRING (-104.999945166902 39.754022112124...  "
      ]
     },
     "execution_count": 4,
     "metadata": {},
     "output_type": "execute_result"
    }
   ],
   "source": [
    "routes = gpd.read_file(input_file)\n",
    "\n",
    "routes.head()"
   ]
  },
  {
   "cell_type": "code",
   "execution_count": 5,
   "metadata": {},
   "outputs": [
    {
     "data": {
      "text/plain": [
       "(84, 5)"
      ]
     },
     "execution_count": 5,
     "metadata": {},
     "output_type": "execute_result"
    }
   ],
   "source": [
    "# Number of routes\n",
    "routes.shape"
   ]
  },
  {
   "cell_type": "code",
   "execution_count": 20,
   "metadata": {},
   "outputs": [
    {
     "name": "stdout",
     "output_type": "stream",
     "text": [
      "18893 points\n"
     ]
    }
   ],
   "source": [
    "'''\n",
    "Get all points\n",
    "'''\n",
    "\n",
    "points = []\n",
    "rows = routes.index.tolist()\n",
    "\n",
    "geom_types = routes['geometry'].tolist()\n",
    "for i in rows:\n",
    "    try:\n",
    "        route = routes.loc[i]\n",
    "        if route.geometry.geom_type == 'LineString':\n",
    "            g = route.geometry\n",
    "            sec_points = mapping(g)[\"coordinates\"]\n",
    "            for j in sec_points:\n",
    "                tmp = (j[0],j[1])\n",
    "                points.append(tmp)\n",
    "        elif route.geometry.geom_type == 'MultiLineString':\n",
    "            g = route.geometry\n",
    "            tmp = mapping(g)[\"coordinates\"]\n",
    "            for sec_points in tmp:\n",
    "                for j in sec_points:\n",
    "                    tmp = (j[0],j[1])\n",
    "                    points.append(tmp)\n",
    "    except Exception as e:\n",
    "        print(\"Skipped route number\",i,'because',e)        \n",
    "        \n",
    "    \n",
    "print(len(points),'points')   "
   ]
  },
  {
   "cell_type": "code",
   "execution_count": null,
   "metadata": {},
   "outputs": [],
   "source": [
    "'''\n",
    "Get points for 1 or more routes\n",
    "'''\n",
    "\n",
    "rows = [0]\n",
    "\n",
    "points = []\n",
    "for i in range(0,len(routes.OBJECTID.tolist())):\n",
    "    if i in rows:\n",
    "    #     print('Route',i)\n",
    "        try:\n",
    "            route = routes.iloc[i]\n",
    "            g = [m for m in route.geometry]\n",
    "    #         print('\\t',len(g),'sections')\n",
    "            for j in range(0,len(g)):\n",
    "    #             print('   section',j)\n",
    "                sec_points = mapping(g[j])[\"coordinates\"]\n",
    "                for k in range(0,len(sec_points)):\n",
    "    #                 print('      point',k)\n",
    "#                     points.append(sec_points[k])\n",
    "        except Exception as e:\n",
    "            print(\"Skipped route number\",i,'because',e)\n",
    "\n",
    "print(len(points),'points')"
   ]
  },
  {
   "cell_type": "code",
   "execution_count": null,
   "metadata": {},
   "outputs": [],
   "source": [
    "'''\n",
    "Get points for single route/section\n",
    "'''\n",
    "\n",
    "row = 0\n",
    "section = 0\n",
    "\n",
    "points = []\n",
    "try:\n",
    "    route = routes.iloc[row]\n",
    "    g = [i for i in route.geometry]\n",
    "    len(g)\n",
    "\n",
    "    points = mapping(g[section])[\"coordinates\"]\n",
    "except Exception as e:\n",
    "    print(\"Skipped route number\",row,'because',e)\n",
    "    \n",
    "print(len(points),'points')"
   ]
  },
  {
   "cell_type": "code",
   "execution_count": 22,
   "metadata": {},
   "outputs": [
    {
     "data": {
      "text/html": [
       "<div>\n",
       "<style scoped>\n",
       "    .dataframe tbody tr th:only-of-type {\n",
       "        vertical-align: middle;\n",
       "    }\n",
       "\n",
       "    .dataframe tbody tr th {\n",
       "        vertical-align: top;\n",
       "    }\n",
       "\n",
       "    .dataframe thead th {\n",
       "        text-align: right;\n",
       "    }\n",
       "</style>\n",
       "<table border=\"1\" class=\"dataframe\">\n",
       "  <thead>\n",
       "    <tr style=\"text-align: right;\">\n",
       "      <th></th>\n",
       "      <th>Name</th>\n",
       "      <th>Longitude</th>\n",
       "      <th>Latitude</th>\n",
       "      <th>Catenary</th>\n",
       "    </tr>\n",
       "  </thead>\n",
       "  <tbody>\n",
       "    <tr>\n",
       "      <th>44</th>\n",
       "      <td>-105.130738422881_39.7236596419501</td>\n",
       "      <td>-105.130738</td>\n",
       "      <td>39.723660</td>\n",
       "      <td>1</td>\n",
       "    </tr>\n",
       "    <tr>\n",
       "      <th>45</th>\n",
       "      <td>-104.87303039361_39.5657739981097</td>\n",
       "      <td>-104.873030</td>\n",
       "      <td>39.565774</td>\n",
       "      <td>0</td>\n",
       "    </tr>\n",
       "    <tr>\n",
       "      <th>46</th>\n",
       "      <td>-104.97354011384_39.7584472286395</td>\n",
       "      <td>-104.973540</td>\n",
       "      <td>39.758447</td>\n",
       "      <td>0</td>\n",
       "    </tr>\n",
       "    <tr>\n",
       "      <th>47</th>\n",
       "      <td>-104.998248729006_39.7429942760075</td>\n",
       "      <td>-104.998249</td>\n",
       "      <td>39.742994</td>\n",
       "      <td>0</td>\n",
       "    </tr>\n",
       "    <tr>\n",
       "      <th>48</th>\n",
       "      <td>-105.001090582883_39.7531488219317</td>\n",
       "      <td>-105.001091</td>\n",
       "      <td>39.753149</td>\n",
       "      <td>0</td>\n",
       "    </tr>\n",
       "  </tbody>\n",
       "</table>\n",
       "</div>"
      ],
      "text/plain": [
       "                                  Name   Longitude   Latitude  Catenary\n",
       "44  -105.130738422881_39.7236596419501 -105.130738  39.723660         1\n",
       "45   -104.87303039361_39.5657739981097 -104.873030  39.565774         0\n",
       "46   -104.97354011384_39.7584472286395 -104.973540  39.758447         0\n",
       "47  -104.998248729006_39.7429942760075 -104.998249  39.742994         0\n",
       "48  -105.001090582883_39.7531488219317 -105.001091  39.753149         0"
      ]
     },
     "execution_count": 22,
     "metadata": {},
     "output_type": "execute_result"
    }
   ],
   "source": [
    "'''\n",
    "Open csv with current points\n",
    "'''\n",
    "\n",
    "curr_df = pd.read_csv(output_csv)\n",
    "curr_df.tail()"
   ]
  },
  {
   "cell_type": "code",
   "execution_count": 27,
   "metadata": {},
   "outputs": [
    {
     "name": "stdout",
     "output_type": "stream",
     "text": [
      "103\n"
     ]
    }
   ],
   "source": [
    "'''\n",
    "Get subselection of points excuding current points\n",
    "'''\n",
    "curr_points = list(zip(curr_df['Longitude'].tolist(),curr_df['Latitude'].tolist()))\n",
    "# curr_points\n",
    "\n",
    "route_points = []\n",
    "for point in range(0,len(points),185):\n",
    "    tmp = points[point]\n",
    "    if tmp not in curr_points:\n",
    "        route_points.append(tmp)\n",
    "\n",
    "print(len(route_points))"
   ]
  },
  {
   "cell_type": "code",
   "execution_count": 28,
   "metadata": {},
   "outputs": [
    {
     "data": {
      "text/html": [
       "<div>\n",
       "<style scoped>\n",
       "    .dataframe tbody tr th:only-of-type {\n",
       "        vertical-align: middle;\n",
       "    }\n",
       "\n",
       "    .dataframe tbody tr th {\n",
       "        vertical-align: top;\n",
       "    }\n",
       "\n",
       "    .dataframe thead th {\n",
       "        text-align: right;\n",
       "    }\n",
       "</style>\n",
       "<table border=\"1\" class=\"dataframe\">\n",
       "  <thead>\n",
       "    <tr style=\"text-align: right;\">\n",
       "      <th></th>\n",
       "      <th>Name</th>\n",
       "      <th>Longitude</th>\n",
       "      <th>Latitude</th>\n",
       "    </tr>\n",
       "  </thead>\n",
       "  <tbody>\n",
       "    <tr>\n",
       "      <th>0</th>\n",
       "      <td>-105.001090582883_39.7531488219317</td>\n",
       "      <td>-105.001091</td>\n",
       "      <td>39.753149</td>\n",
       "    </tr>\n",
       "    <tr>\n",
       "      <th>1</th>\n",
       "      <td>-104.793074695928_39.7566259201284</td>\n",
       "      <td>-104.793075</td>\n",
       "      <td>39.756626</td>\n",
       "    </tr>\n",
       "    <tr>\n",
       "      <th>2</th>\n",
       "      <td>-104.933980528945_39.77629712982</td>\n",
       "      <td>-104.933981</td>\n",
       "      <td>39.776297</td>\n",
       "    </tr>\n",
       "    <tr>\n",
       "      <th>3</th>\n",
       "      <td>-104.957176173497_39.7740824619342</td>\n",
       "      <td>-104.957176</td>\n",
       "      <td>39.774082</td>\n",
       "    </tr>\n",
       "    <tr>\n",
       "      <th>4</th>\n",
       "      <td>-104.787524175553_39.7866594856642</td>\n",
       "      <td>-104.787524</td>\n",
       "      <td>39.786659</td>\n",
       "    </tr>\n",
       "  </tbody>\n",
       "</table>\n",
       "</div>"
      ],
      "text/plain": [
       "                                 Name   Longitude   Latitude\n",
       "0  -105.001090582883_39.7531488219317 -105.001091  39.753149\n",
       "1  -104.793074695928_39.7566259201284 -104.793075  39.756626\n",
       "2    -104.933980528945_39.77629712982 -104.933981  39.776297\n",
       "3  -104.957176173497_39.7740824619342 -104.957176  39.774082\n",
       "4  -104.787524175553_39.7866594856642 -104.787524  39.786659"
      ]
     },
     "execution_count": 28,
     "metadata": {},
     "output_type": "execute_result"
    }
   ],
   "source": [
    "'''\n",
    "Create dataframe\n",
    "'''\n",
    "\n",
    "df = pd.DataFrame(route_points, columns=['Longitude','Latitude'])\n",
    "\n",
    "tmp = list(df.Latitude.tolist())\n",
    "names = []\n",
    "for i in range(0,len(tmp)):\n",
    "    name = str(df.iloc[i].Longitude)+'_'+str(df.iloc[i].Latitude)\n",
    "    names.append(name)\n",
    "\n",
    "df['Name'] = names\n",
    "\n",
    "columns = ['Name','Longitude','Latitude']\n",
    "df= df[columns]\n",
    "\n",
    "\n",
    "df.head()"
   ]
  },
  {
   "cell_type": "code",
   "execution_count": 34,
   "metadata": {},
   "outputs": [
    {
     "data": {
      "text/plain": [
       "Name         -105.001090582883_39.7531488219317\n",
       "Longitude                              -105.001\n",
       "Latitude                                39.7531\n",
       "Name: 0, dtype: object"
      ]
     },
     "execution_count": 34,
     "metadata": {},
     "output_type": "execute_result"
    }
   ],
   "source": [
    "df.iloc[0]"
   ]
  },
  {
   "cell_type": "code",
   "execution_count": 30,
   "metadata": {},
   "outputs": [],
   "source": [
    "'''\n",
    "Export points\n",
    "'''\n",
    "\n",
    "# Update\n",
    "with open(output_csv, 'a') as f:\n",
    "    df.to_csv(f, header=False,index=None)\n",
    "\n",
    "# Write new\n",
    "# df.to_csv(output_csv,header=True,index=None)\n",
    "# df.to_csv('tmp.csv',header=True,index=None)"
   ]
  },
  {
   "cell_type": "code",
   "execution_count": 29,
   "metadata": {
    "scrolled": false
   },
   "outputs": [
    {
     "data": {
      "text/html": [
       "<div style=\"width:100%;\"><div style=\"position:relative;width:100%;height:0;padding-bottom:60%;\"><iframe src=\"data:text/html;charset=utf-8;base64,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\" style=\"position:absolute;width:100%;height:100%;left:0;top:0;border:none !important;\" allowfullscreen webkitallowfullscreen mozallowfullscreen></iframe></div></div>"
      ],
      "text/plain": [
       "<folium.folium.Map at 0x116afcc88>"
      ]
     },
     "execution_count": 29,
     "metadata": {},
     "output_type": "execute_result"
    }
   ],
   "source": [
    "'''\n",
    "Plot markers\n",
    "'''\n",
    "\n",
    "rows = df.index.tolist()\n",
    "\n",
    "marker_points = []\n",
    "for row in rows:\n",
    "    marker_points.append((df.iloc[row].Latitude,df.iloc[row].Longitude))\n",
    "    \n",
    "# Set map centerpoint\n",
    "coords = marker_points[0]\n",
    "       \n",
    "# Define map\n",
    "m = folium.Map(\n",
    "    location = coords,\n",
    "    zoom_start = 13\n",
    ")\n",
    "  \n",
    "# Add points    \n",
    "for mp in marker_points:\n",
    "    folium.Marker(mp).add_to(m)\n",
    "m"
   ]
  },
  {
   "cell_type": "code",
   "execution_count": null,
   "metadata": {},
   "outputs": [],
   "source": [
    "'''\n",
    "Get satellite preview for image\n",
    "'''\n",
    "\n",
    "row = 10\n",
    "\n",
    "figure_layout = {\n",
    "    'width': '100%',\n",
    "    'height': '800px'\n",
    "}\n",
    "fig = gmaps.figure(center = (df.iloc[row].Latitude,df.iloc[row].Longitude), zoom_level = 19,map_type='SATELLITE',layout=figure_layout)\n",
    "fig"
   ]
  },
  {
   "cell_type": "code",
   "execution_count": 35,
   "metadata": {},
   "outputs": [],
   "source": [
    "'''\n",
    "Get all images \n",
    "'''\n",
    "\n",
    "root = os.path.dirname(os.path.abspath('Africa.ipynb'))\n",
    "image_folder = root[:-9]+update_folder[3:]\n",
    "image_folder\n",
    "\n",
    "url = 'https://maps.googleapis.com/maps/api/staticmap?'\n",
    "rows = df.index.tolist()\n",
    "for i in range(0,len(rows)):\n",
    "    row = df.iloc[i]\n",
    "    center = str(row.Latitude)+','+str(row.Longitude)\n",
    "    payload = {\n",
    "        'center': center, \n",
    "        'zoom': 20,\n",
    "        'size': '640x640',\n",
    "        'scale': 2,\n",
    "        'format': 'png32',\n",
    "        'maptype': 'satellite',\n",
    "        'key': token\n",
    "    }\n",
    "    \n",
    "    r = requests.get(url,params=payload,stream=True)\n",
    "\n",
    "    name = df.iloc[i]['Name']\n",
    "    filename = image_folder+name+'.png'\n",
    "    if r.status_code == 200:\n",
    "        with open(filename, 'wb') as f:\n",
    "            r.raw.decode_content = True\n",
    "            shutil.copyfileobj(r.raw, f) "
   ]
  },
  {
   "cell_type": "code",
   "execution_count": null,
   "metadata": {},
   "outputs": [],
   "source": []
  }
 ],
 "metadata": {
  "kernelspec": {
   "display_name": "Python 3",
   "language": "python",
   "name": "python3"
  },
  "language_info": {
   "codemirror_mode": {
    "name": "ipython",
    "version": 3
   },
   "file_extension": ".py",
   "mimetype": "text/x-python",
   "name": "python",
   "nbconvert_exporter": "python",
   "pygments_lexer": "ipython3",
   "version": "3.7.3"
  }
 },
 "nbformat": 4,
 "nbformat_minor": 2
}
