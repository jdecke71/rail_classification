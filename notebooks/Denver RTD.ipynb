{
 "cells": [
  {
   "cell_type": "code",
   "execution_count": 3,
   "metadata": {},
   "outputs": [],
   "source": [
    "import pandas as pd\n",
    "import geopandas as gpd\n",
    "import matplotlib.pyplot as plt\n",
    "from shapely.geometry import mapping\n",
    "import folium\n",
    "import gmaps\n",
    "import os\n",
    "import requests\n",
    "import shutil"
   ]
  },
  {
   "cell_type": "code",
   "execution_count": 4,
   "metadata": {},
   "outputs": [],
   "source": [
    "with open('../resources/key.txt') as f:\n",
    "    token = f.read()\n",
    "    \n",
    "gmaps.configure(api_key = token)"
   ]
  },
  {
   "cell_type": "code",
   "execution_count": 5,
   "metadata": {},
   "outputs": [],
   "source": [
    "input_folder = '../data/railways/denver_RTD/'\n",
    "input_file = input_folder+'LightrailLines_Center.shp'\n",
    "\n",
    "output_folder = '../data/output_images/DenverRTD/'\n",
    "output_csv = output_folder+'DEN.csv'\n",
    "\n",
    "update_folder = output_folder+'/set_2/'"
   ]
  },
  {
   "cell_type": "markdown",
   "metadata": {},
   "source": [
    "### Import Routes"
   ]
  },
  {
   "cell_type": "code",
   "execution_count": 4,
   "metadata": {},
   "outputs": [
    {
     "data": {
      "text/html": [
       "<div>\n",
       "<style scoped>\n",
       "    .dataframe tbody tr th:only-of-type {\n",
       "        vertical-align: middle;\n",
       "    }\n",
       "\n",
       "    .dataframe tbody tr th {\n",
       "        vertical-align: top;\n",
       "    }\n",
       "\n",
       "    .dataframe thead th {\n",
       "        text-align: right;\n",
       "    }\n",
       "</style>\n",
       "<table border=\"1\" class=\"dataframe\">\n",
       "  <thead>\n",
       "    <tr style=\"text-align: right;\">\n",
       "      <th></th>\n",
       "      <th>OBJECTID</th>\n",
       "      <th>PROJECTCOR</th>\n",
       "      <th>SOURCE</th>\n",
       "      <th>Shape__Len</th>\n",
       "      <th>geometry</th>\n",
       "    </tr>\n",
       "  </thead>\n",
       "  <tbody>\n",
       "    <tr>\n",
       "      <th>0</th>\n",
       "      <td>142</td>\n",
       "      <td>110</td>\n",
       "      <td>A-Line</td>\n",
       "      <td>87291.422422</td>\n",
       "      <td>(LINESTRING (-105.001090582883 39.753148821931...</td>\n",
       "    </tr>\n",
       "    <tr>\n",
       "      <th>1</th>\n",
       "      <td>143</td>\n",
       "      <td>112</td>\n",
       "      <td>G-Line</td>\n",
       "      <td>35177.373865</td>\n",
       "      <td>(LINESTRING (-105.137784196155 39.786794639271...</td>\n",
       "    </tr>\n",
       "    <tr>\n",
       "      <th>2</th>\n",
       "      <td>144</td>\n",
       "      <td>113</td>\n",
       "      <td>B-Line</td>\n",
       "      <td>7281.026112</td>\n",
       "      <td>(LINESTRING (-105.007403102142 39.806185928394...</td>\n",
       "    </tr>\n",
       "    <tr>\n",
       "      <th>3</th>\n",
       "      <td>145</td>\n",
       "      <td>109</td>\n",
       "      <td>L-Line</td>\n",
       "      <td>2816.281729</td>\n",
       "      <td>(LINESTRING (-104.988737522449 39.748187234728...</td>\n",
       "    </tr>\n",
       "    <tr>\n",
       "      <th>4</th>\n",
       "      <td>146</td>\n",
       "      <td>113</td>\n",
       "      <td>B-G Lines</td>\n",
       "      <td>20179.760544</td>\n",
       "      <td>(LINESTRING (-104.999945166902 39.754022112124...</td>\n",
       "    </tr>\n",
       "  </tbody>\n",
       "</table>\n",
       "</div>"
      ],
      "text/plain": [
       "   OBJECTID  PROJECTCOR     SOURCE    Shape__Len  \\\n",
       "0       142         110     A-Line  87291.422422   \n",
       "1       143         112     G-Line  35177.373865   \n",
       "2       144         113     B-Line   7281.026112   \n",
       "3       145         109     L-Line   2816.281729   \n",
       "4       146         113  B-G Lines  20179.760544   \n",
       "\n",
       "                                            geometry  \n",
       "0  (LINESTRING (-105.001090582883 39.753148821931...  \n",
       "1  (LINESTRING (-105.137784196155 39.786794639271...  \n",
       "2  (LINESTRING (-105.007403102142 39.806185928394...  \n",
       "3  (LINESTRING (-104.988737522449 39.748187234728...  \n",
       "4  (LINESTRING (-104.999945166902 39.754022112124...  "
      ]
     },
     "execution_count": 4,
     "metadata": {},
     "output_type": "execute_result"
    }
   ],
   "source": [
    "routes = gpd.read_file(input_file)\n",
    "\n",
    "routes.head()"
   ]
  },
  {
   "cell_type": "code",
   "execution_count": 4,
   "metadata": {},
   "outputs": [
    {
     "data": {
      "text/plain": [
       "(84, 5)"
      ]
     },
     "execution_count": 4,
     "metadata": {},
     "output_type": "execute_result"
    }
   ],
   "source": [
    "# Number of routes\n",
    "routes.shape"
   ]
  },
  {
   "cell_type": "code",
   "execution_count": 5,
   "metadata": {},
   "outputs": [
    {
     "name": "stdout",
     "output_type": "stream",
     "text": [
      "14230 points\n"
     ]
    }
   ],
   "source": [
    "'''\n",
    "Get all points\n",
    "'''\n",
    "\n",
    "points = []\n",
    "for i in range(0,len(routes.OBJECTID.tolist())):\n",
    "    try:\n",
    "        route = routes.iloc[i]\n",
    "        g = [m for m in route.geometry]\n",
    "        for j in range(0,len(g)):\n",
    "            sec_points = mapping(g[j])[\"coordinates\"]\n",
    "            for k in range(0,len(sec_points)):\n",
    "                points.append(sec_points[k])\n",
    "    except Exception as e:\n",
    "        pass\n",
    "#         print(\"Skipped route number\",i,'because',e)\n",
    "\n",
    "print(len(points),'points')"
   ]
  },
  {
   "cell_type": "code",
   "execution_count": null,
   "metadata": {},
   "outputs": [],
   "source": [
    "'''\n",
    "Get points for 1 or more routes\n",
    "'''\n",
    "\n",
    "rows = [0]\n",
    "\n",
    "points = []\n",
    "for i in range(0,len(routes.OBJECTID.tolist())):\n",
    "    if i in rows:\n",
    "    #     print('Route',i)\n",
    "        try:\n",
    "            route = routes.iloc[i]\n",
    "            g = [m for m in route.geometry]\n",
    "    #         print('\\t',len(g),'sections')\n",
    "            for j in range(0,len(g)):\n",
    "    #             print('   section',j)\n",
    "                sec_points = mapping(g[j])[\"coordinates\"]\n",
    "                for k in range(0,len(sec_points)):\n",
    "    #                 print('      point',k)\n",
    "#                     points.append(sec_points[k])\n",
    "        except Exception as e:\n",
    "            print(\"Skipped route number\",i,'because',e)\n",
    "\n",
    "print(len(points),'points')"
   ]
  },
  {
   "cell_type": "code",
   "execution_count": null,
   "metadata": {},
   "outputs": [],
   "source": [
    "'''\n",
    "Get points for single route/section\n",
    "'''\n",
    "\n",
    "row = 0\n",
    "section = 0\n",
    "\n",
    "points = []\n",
    "try:\n",
    "    route = routes.iloc[row]\n",
    "    g = [i for i in route.geometry]\n",
    "    len(g)\n",
    "\n",
    "    points = mapping(g[section])[\"coordinates\"]\n",
    "except Exception as e:\n",
    "    print(\"Skipped route number\",row,'because',e)\n",
    "    \n",
    "print(len(points),'points')"
   ]
  },
  {
   "cell_type": "code",
   "execution_count": 6,
   "metadata": {},
   "outputs": [
    {
     "name": "stdout",
     "output_type": "stream",
     "text": [
      "50\n"
     ]
    }
   ],
   "source": [
    "'''\n",
    "Get subselection of points\n",
    "'''\n",
    "\n",
    "route_points = []\n",
    "for point in range(0,len(points),290):\n",
    "    tmp = points[point]\n",
    "    route_points.append(tmp)\n",
    "\n",
    "print(len(route_points))"
   ]
  },
  {
   "cell_type": "code",
   "execution_count": 7,
   "metadata": {},
   "outputs": [
    {
     "data": {
      "text/html": [
       "<div>\n",
       "<style scoped>\n",
       "    .dataframe tbody tr th:only-of-type {\n",
       "        vertical-align: middle;\n",
       "    }\n",
       "\n",
       "    .dataframe tbody tr th {\n",
       "        vertical-align: top;\n",
       "    }\n",
       "\n",
       "    .dataframe thead th {\n",
       "        text-align: right;\n",
       "    }\n",
       "</style>\n",
       "<table border=\"1\" class=\"dataframe\">\n",
       "  <thead>\n",
       "    <tr style=\"text-align: right;\">\n",
       "      <th></th>\n",
       "      <th>Name</th>\n",
       "      <th>Longitude</th>\n",
       "      <th>Latitude</th>\n",
       "    </tr>\n",
       "  </thead>\n",
       "  <tbody>\n",
       "    <tr>\n",
       "      <th>0</th>\n",
       "      <td>-105.001090582883_39.7531488219317</td>\n",
       "      <td>-105.001091</td>\n",
       "      <td>39.753149</td>\n",
       "    </tr>\n",
       "    <tr>\n",
       "      <th>1</th>\n",
       "      <td>-104.971298339626_39.7725748058909</td>\n",
       "      <td>-104.971298</td>\n",
       "      <td>39.772575</td>\n",
       "    </tr>\n",
       "    <tr>\n",
       "      <th>2</th>\n",
       "      <td>-104.946459678545_39.7758692108252</td>\n",
       "      <td>-104.946460</td>\n",
       "      <td>39.775869</td>\n",
       "    </tr>\n",
       "    <tr>\n",
       "      <th>3</th>\n",
       "      <td>-104.776118952483_39.8273629960361</td>\n",
       "      <td>-104.776119</td>\n",
       "      <td>39.827363</td>\n",
       "    </tr>\n",
       "    <tr>\n",
       "      <th>4</th>\n",
       "      <td>-104.865441855775_39.7687013714991</td>\n",
       "      <td>-104.865442</td>\n",
       "      <td>39.768701</td>\n",
       "    </tr>\n",
       "  </tbody>\n",
       "</table>\n",
       "</div>"
      ],
      "text/plain": [
       "                                 Name   Longitude   Latitude\n",
       "0  -105.001090582883_39.7531488219317 -105.001091  39.753149\n",
       "1  -104.971298339626_39.7725748058909 -104.971298  39.772575\n",
       "2  -104.946459678545_39.7758692108252 -104.946460  39.775869\n",
       "3  -104.776118952483_39.8273629960361 -104.776119  39.827363\n",
       "4  -104.865441855775_39.7687013714991 -104.865442  39.768701"
      ]
     },
     "execution_count": 7,
     "metadata": {},
     "output_type": "execute_result"
    }
   ],
   "source": [
    "'''\n",
    "Create dataframe\n",
    "'''\n",
    "\n",
    "df = pd.DataFrame(route_points, columns=['Longitude','Latitude'])\n",
    "\n",
    "tmp = list(df.Latitude.tolist())\n",
    "names = []\n",
    "for i in range(0,len(tmp)):\n",
    "    name = str(df.iloc[i].Longitude)+'_'+str(df.iloc[i].Latitude)\n",
    "    names.append(name)\n",
    "\n",
    "df['Name'] = names\n",
    "\n",
    "columns = ['Name','Longitude','Latitude']\n",
    "df= df[columns]\n",
    "\n",
    "\n",
    "df.head()"
   ]
  },
  {
   "cell_type": "code",
   "execution_count": 8,
   "metadata": {},
   "outputs": [],
   "source": [
    "'''\n",
    "Export points\n",
    "'''\n",
    "\n",
    "df.to_csv(output_csv,header=True,index=None)"
   ]
  },
  {
   "cell_type": "code",
   "execution_count": 6,
   "metadata": {},
   "outputs": [
    {
     "data": {
      "text/html": [
       "<div>\n",
       "<style scoped>\n",
       "    .dataframe tbody tr th:only-of-type {\n",
       "        vertical-align: middle;\n",
       "    }\n",
       "\n",
       "    .dataframe tbody tr th {\n",
       "        vertical-align: top;\n",
       "    }\n",
       "\n",
       "    .dataframe thead th {\n",
       "        text-align: right;\n",
       "    }\n",
       "</style>\n",
       "<table border=\"1\" class=\"dataframe\">\n",
       "  <thead>\n",
       "    <tr style=\"text-align: right;\">\n",
       "      <th></th>\n",
       "      <th>Name</th>\n",
       "      <th>Longitude</th>\n",
       "      <th>Latitude</th>\n",
       "      <th>Catenary</th>\n",
       "    </tr>\n",
       "  </thead>\n",
       "  <tbody>\n",
       "    <tr>\n",
       "      <th>0</th>\n",
       "      <td>-104.731949563008_39.8367816516765</td>\n",
       "      <td>-104.731950</td>\n",
       "      <td>39.836782</td>\n",
       "      <td>1</td>\n",
       "    </tr>\n",
       "    <tr>\n",
       "      <th>1</th>\n",
       "      <td>-104.776118952483_39.8273629960361</td>\n",
       "      <td>-104.776119</td>\n",
       "      <td>39.827363</td>\n",
       "      <td>1</td>\n",
       "    </tr>\n",
       "    <tr>\n",
       "      <th>2</th>\n",
       "      <td>-104.831955844378_39.7520964362027</td>\n",
       "      <td>-104.831956</td>\n",
       "      <td>39.752096</td>\n",
       "      <td>1</td>\n",
       "    </tr>\n",
       "    <tr>\n",
       "      <th>3</th>\n",
       "      <td>-104.865441855775_39.7687013714991</td>\n",
       "      <td>-104.865442</td>\n",
       "      <td>39.768701</td>\n",
       "      <td>1</td>\n",
       "    </tr>\n",
       "    <tr>\n",
       "      <th>4</th>\n",
       "      <td>-104.872393928745_39.563547904778</td>\n",
       "      <td>-104.872394</td>\n",
       "      <td>39.563548</td>\n",
       "      <td>1</td>\n",
       "    </tr>\n",
       "  </tbody>\n",
       "</table>\n",
       "</div>"
      ],
      "text/plain": [
       "                                 Name   Longitude   Latitude  Catenary\n",
       "0  -104.731949563008_39.8367816516765 -104.731950  39.836782         1\n",
       "1  -104.776118952483_39.8273629960361 -104.776119  39.827363         1\n",
       "2  -104.831955844378_39.7520964362027 -104.831956  39.752096         1\n",
       "3  -104.865441855775_39.7687013714991 -104.865442  39.768701         1\n",
       "4   -104.872393928745_39.563547904778 -104.872394  39.563548         1"
      ]
     },
     "execution_count": 6,
     "metadata": {},
     "output_type": "execute_result"
    }
   ],
   "source": [
    "'''\n",
    "Open csv\n",
    "'''\n",
    "\n",
    "df = pd.read_csv(output_csv)\n",
    "df.head()"
   ]
  },
  {
   "cell_type": "code",
   "execution_count": 7,
   "metadata": {
    "scrolled": false
   },
   "outputs": [
    {
     "data": {
      "text/html": [
       "<div style=\"width:100%;\"><div style=\"position:relative;width:100%;height:0;padding-bottom:60%;\"><iframe src=\"data:text/html;charset=utf-8;base64,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\" style=\"position:absolute;width:100%;height:100%;left:0;top:0;border:none !important;\" allowfullscreen webkitallowfullscreen mozallowfullscreen></iframe></div></div>"
      ],
      "text/plain": [
       "<folium.folium.Map at 0x123145748>"
      ]
     },
     "execution_count": 7,
     "metadata": {},
     "output_type": "execute_result"
    }
   ],
   "source": [
    "'''\n",
    "Plot markers\n",
    "'''\n",
    "\n",
    "rows = df.index.tolist()\n",
    "\n",
    "marker_points = []\n",
    "for row in rows:\n",
    "    marker_points.append((df.iloc[row].Latitude,df.iloc[row].Longitude))\n",
    "    \n",
    "# Set map centerpoint\n",
    "coords = marker_points[0]\n",
    "       \n",
    "# Define map\n",
    "m = folium.Map(\n",
    "    location = coords,\n",
    "    zoom_start = 13\n",
    ")\n",
    "  \n",
    "# Add points    \n",
    "for mp in marker_points:\n",
    "    folium.Marker(mp).add_to(m)\n",
    "m"
   ]
  },
  {
   "cell_type": "code",
   "execution_count": null,
   "metadata": {},
   "outputs": [],
   "source": [
    "'''\n",
    "Get satellite preview for image\n",
    "'''\n",
    "\n",
    "row = 10\n",
    "\n",
    "figure_layout = {\n",
    "    'width': '100%',\n",
    "    'height': '800px'\n",
    "}\n",
    "fig = gmaps.figure(center = (df.iloc[row].Latitude,df.iloc[row].Longitude), zoom_level = 19,map_type='SATELLITE',layout=figure_layout)\n",
    "fig"
   ]
  },
  {
   "cell_type": "code",
   "execution_count": 11,
   "metadata": {},
   "outputs": [],
   "source": [
    "'''\n",
    "Get all images \n",
    "'''\n",
    "\n",
    "root = os.path.dirname(os.path.abspath('Africa.ipynb'))\n",
    "image_folder = root[:-9]+update_folder[3:]\n",
    "image_folder\n",
    "\n",
    "url = 'https://maps.googleapis.com/maps/api/staticmap?'\n",
    "rows = df.index.tolist()\n",
    "for i in range(0,2):\n",
    "    row = df.iloc[i]\n",
    "    center = str(row.Latitude)+','+str(row.Longitude)\n",
    "    payload = {\n",
    "        'center': center, \n",
    "        'zoom': 20,\n",
    "        'size': '640x640',\n",
    "        'scale': 2,\n",
    "        'format': 'png32',\n",
    "        'maptype': 'satellite',\n",
    "        'key': token\n",
    "    }\n",
    "    \n",
    "    r = requests.get(url,params=payload,stream=True)\n",
    "\n",
    "    name = df.iloc[i]['Name']\n",
    "    filename = image_folder+name+'.png'\n",
    "    if r.status_code == 200:\n",
    "        with open(filename, 'wb') as f:\n",
    "            r.raw.decode_content = True\n",
    "            shutil.copyfileobj(r.raw, f) "
   ]
  },
  {
   "cell_type": "code",
   "execution_count": null,
   "metadata": {},
   "outputs": [],
   "source": []
  }
 ],
 "metadata": {
  "kernelspec": {
   "display_name": "Python 3",
   "language": "python",
   "name": "python3"
  },
  "language_info": {
   "codemirror_mode": {
    "name": "ipython",
    "version": 3
   },
   "file_extension": ".py",
   "mimetype": "text/x-python",
   "name": "python",
   "nbconvert_exporter": "python",
   "pygments_lexer": "ipython3",
   "version": "3.7.3"
  }
 },
 "nbformat": 4,
 "nbformat_minor": 2
}
