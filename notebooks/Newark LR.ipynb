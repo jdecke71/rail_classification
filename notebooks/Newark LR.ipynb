{
 "cells": [
  {
   "cell_type": "code",
   "execution_count": 1,
   "metadata": {},
   "outputs": [],
   "source": [
    "import pandas as pd\n",
    "import geopandas as gpd\n",
    "import matplotlib.pyplot as plt\n",
    "from shapely.geometry import mapping\n",
    "import folium\n",
    "import gmaps\n",
    "import os\n",
    "import requests\n",
    "import shutil"
   ]
  },
  {
   "cell_type": "code",
   "execution_count": 2,
   "metadata": {},
   "outputs": [],
   "source": [
    "with open('../resources/key.txt') as f:\n",
    "    token = f.read()\n",
    "    \n",
    "gmaps.configure(api_key = token)"
   ]
  },
  {
   "cell_type": "code",
   "execution_count": 3,
   "metadata": {},
   "outputs": [],
   "source": [
    "input_folder = '../data/railways/Newark_LR/'\n",
    "input_file = input_folder+'Passenger_Railroad_Lines_in_New_Jersey.shp'\n",
    "\n",
    "output_folder = '../data/output_images/NewarkLR/'\n",
    "output_csv = output_folder+'NEW.csv'\n",
    "\n",
    "update_folder = output_folder+'/set_2/'"
   ]
  },
  {
   "cell_type": "markdown",
   "metadata": {},
   "source": [
    "### Import Routes"
   ]
  },
  {
   "cell_type": "code",
   "execution_count": 3,
   "metadata": {},
   "outputs": [
    {
     "data": {
      "text/html": [
       "<div>\n",
       "<style scoped>\n",
       "    .dataframe tbody tr th:only-of-type {\n",
       "        vertical-align: middle;\n",
       "    }\n",
       "\n",
       "    .dataframe tbody tr th {\n",
       "        vertical-align: top;\n",
       "    }\n",
       "\n",
       "    .dataframe thead th {\n",
       "        text-align: right;\n",
       "    }\n",
       "</style>\n",
       "<table border=\"1\" class=\"dataframe\">\n",
       "  <thead>\n",
       "    <tr style=\"text-align: right;\">\n",
       "      <th></th>\n",
       "      <th>OBJECTID</th>\n",
       "      <th>RAIL_LINE</th>\n",
       "      <th>SERVICE</th>\n",
       "      <th>Shape_Leng</th>\n",
       "      <th>DATE_STAMP</th>\n",
       "      <th>geometry</th>\n",
       "    </tr>\n",
       "  </thead>\n",
       "  <tbody>\n",
       "    <tr>\n",
       "      <th>0</th>\n",
       "      <td>1</td>\n",
       "      <td>ATLANTIC CITY RAIL LINE</td>\n",
       "      <td>None</td>\n",
       "      <td>356957.019400</td>\n",
       "      <td>2016-08-30T00:00:00.000Z</td>\n",
       "      <td>LINESTRING (-74.44147959928382 39.363302944444...</td>\n",
       "    </tr>\n",
       "    <tr>\n",
       "      <th>1</th>\n",
       "      <td>2</td>\n",
       "      <td>BERGEN COUNTY LINE</td>\n",
       "      <td>HOBOKEN</td>\n",
       "      <td>155780.575084</td>\n",
       "      <td>2013-11-04T00:00:00.000Z</td>\n",
       "      <td>LINESTRING (-74.02804352228098 40.734841217805...</td>\n",
       "    </tr>\n",
       "    <tr>\n",
       "      <th>2</th>\n",
       "      <td>3</td>\n",
       "      <td>MAIN LINE</td>\n",
       "      <td>HOBOKEN</td>\n",
       "      <td>161721.051881</td>\n",
       "      <td>2013-11-04T00:00:00.000Z</td>\n",
       "      <td>LINESTRING (-74.1534482892289 41.1135474560739...</td>\n",
       "    </tr>\n",
       "    <tr>\n",
       "      <th>3</th>\n",
       "      <td>4</td>\n",
       "      <td>MEADOWLANDS RAIL LINE</td>\n",
       "      <td>None</td>\n",
       "      <td>56328.562168</td>\n",
       "      <td>2013-11-04T00:00:00.000Z</td>\n",
       "      <td>LINESTRING (-74.02804352228098 40.734841217805...</td>\n",
       "    </tr>\n",
       "    <tr>\n",
       "      <th>4</th>\n",
       "      <td>5</td>\n",
       "      <td>MONTCLAIR BOONTON LINE</td>\n",
       "      <td>NEW YORK CITY</td>\n",
       "      <td>328910.733006</td>\n",
       "      <td>2013-11-04T00:00:00.000Z</td>\n",
       "      <td>LINESTRING (-74.83535386691111 40.851441958709...</td>\n",
       "    </tr>\n",
       "  </tbody>\n",
       "</table>\n",
       "</div>"
      ],
      "text/plain": [
       "   OBJECTID                RAIL_LINE        SERVICE     Shape_Leng  \\\n",
       "0         1  ATLANTIC CITY RAIL LINE           None  356957.019400   \n",
       "1         2       BERGEN COUNTY LINE        HOBOKEN  155780.575084   \n",
       "2         3                MAIN LINE        HOBOKEN  161721.051881   \n",
       "3         4    MEADOWLANDS RAIL LINE           None   56328.562168   \n",
       "4         5   MONTCLAIR BOONTON LINE  NEW YORK CITY  328910.733006   \n",
       "\n",
       "                 DATE_STAMP                                           geometry  \n",
       "0  2016-08-30T00:00:00.000Z  LINESTRING (-74.44147959928382 39.363302944444...  \n",
       "1  2013-11-04T00:00:00.000Z  LINESTRING (-74.02804352228098 40.734841217805...  \n",
       "2  2013-11-04T00:00:00.000Z  LINESTRING (-74.1534482892289 41.1135474560739...  \n",
       "3  2013-11-04T00:00:00.000Z  LINESTRING (-74.02804352228098 40.734841217805...  \n",
       "4  2013-11-04T00:00:00.000Z  LINESTRING (-74.83535386691111 40.851441958709...  "
      ]
     },
     "execution_count": 3,
     "metadata": {},
     "output_type": "execute_result"
    }
   ],
   "source": [
    "routes = gpd.read_file(input_file)\n",
    "\n",
    "routes = routes.to_crs({'init' :'epsg:4269'})\n",
    "\n",
    "routes.head()"
   ]
  },
  {
   "cell_type": "code",
   "execution_count": 4,
   "metadata": {},
   "outputs": [
    {
     "data": {
      "text/plain": [
       "(30, 6)"
      ]
     },
     "execution_count": 4,
     "metadata": {},
     "output_type": "execute_result"
    }
   ],
   "source": [
    "# Number of routes\n",
    "routes.shape"
   ]
  },
  {
   "cell_type": "code",
   "execution_count": 5,
   "metadata": {},
   "outputs": [
    {
     "name": "stdout",
     "output_type": "stream",
     "text": [
      "Skipped route number 0 because 'LineString' object is not iterable\n",
      "Skipped route number 1 because 'LineString' object is not iterable\n",
      "Skipped route number 2 because 'LineString' object is not iterable\n",
      "Skipped route number 3 because 'LineString' object is not iterable\n",
      "Skipped route number 4 because 'LineString' object is not iterable\n",
      "Skipped route number 5 because 'LineString' object is not iterable\n",
      "Skipped route number 6 because 'LineString' object is not iterable\n",
      "Skipped route number 7 because 'LineString' object is not iterable\n",
      "Skipped route number 8 because 'LineString' object is not iterable\n",
      "Skipped route number 9 because 'LineString' object is not iterable\n",
      "Skipped route number 10 because 'LineString' object is not iterable\n",
      "Skipped route number 11 because 'LineString' object is not iterable\n",
      "Skipped route number 12 because 'LineString' object is not iterable\n",
      "Skipped route number 13 because 'LineString' object is not iterable\n",
      "Skipped route number 14 because 'LineString' object is not iterable\n",
      "Skipped route number 15 because 'LineString' object is not iterable\n",
      "Skipped route number 16 because 'LineString' object is not iterable\n",
      "Skipped route number 17 because 'LineString' object is not iterable\n",
      "Skipped route number 18 because 'LineString' object is not iterable\n",
      "Skipped route number 19 because 'LineString' object is not iterable\n",
      "Skipped route number 20 because 'LineString' object is not iterable\n",
      "Skipped route number 25 because 'LineString' object is not iterable\n",
      "Skipped route number 27 because 'LineString' object is not iterable\n",
      "Skipped route number 29 because 'LineString' object is not iterable\n",
      "1328 points\n"
     ]
    }
   ],
   "source": [
    "'''\n",
    "Get all points\n",
    "'''\n",
    "\n",
    "points = []\n",
    "for i in range(0,len(routes.OBJECTID.tolist())):\n",
    "    try:\n",
    "        route = routes.iloc[i]\n",
    "        g = [m for m in route.geometry]\n",
    "        for j in range(0,len(g)):\n",
    "            sec_points = mapping(g[j])[\"coordinates\"]\n",
    "            for k in range(0,len(sec_points)):\n",
    "                points.append(sec_points[k])\n",
    "    except Exception as e:\n",
    "        print(\"Skipped route number\",i,'because',e)\n",
    "\n",
    "print(len(points),'points')"
   ]
  },
  {
   "cell_type": "code",
   "execution_count": null,
   "metadata": {},
   "outputs": [],
   "source": [
    "'''\n",
    "Get points for 1 or more routes\n",
    "'''\n",
    "\n",
    "rows = [0]\n",
    "\n",
    "points = []\n",
    "for i in range(0,len(routes.OBJECTID.tolist())):\n",
    "    if i in rows:\n",
    "    #     print('Route',i)\n",
    "        try:\n",
    "            route = routes.iloc[i]\n",
    "            g = [m for m in route.geometry]\n",
    "    #         print('\\t',len(g),'sections')\n",
    "            for j in range(0,len(g)):\n",
    "    #             print('   section',j)\n",
    "                sec_points = mapping(g[j])[\"coordinates\"]\n",
    "                for k in range(0,len(sec_points)):\n",
    "    #                 print('      point',k)\n",
    "                    points.append(sec_points[k])\n",
    "        except Exception as e:\n",
    "            print(\"Skipped route number\",i,'because',e)\n",
    "\n",
    "print(len(points),'points')"
   ]
  },
  {
   "cell_type": "code",
   "execution_count": null,
   "metadata": {},
   "outputs": [],
   "source": [
    "'''\n",
    "Get points for single route/section\n",
    "'''\n",
    "\n",
    "row = 0\n",
    "section = 0\n",
    "\n",
    "points = []\n",
    "try:\n",
    "    route = routes.iloc[row]\n",
    "    g = [i for i in route.geometry]\n",
    "    len(g)\n",
    "\n",
    "    points = mapping(g[section])[\"coordinates\"]\n",
    "except Exception as e:\n",
    "    print(\"Skipped route number\",row,'because',e)\n",
    "    \n",
    "print(len(points),'points')"
   ]
  },
  {
   "cell_type": "code",
   "execution_count": 6,
   "metadata": {},
   "outputs": [
    {
     "name": "stdout",
     "output_type": "stream",
     "text": [
      "48\n"
     ]
    }
   ],
   "source": [
    "'''\n",
    "Get subselection of points\n",
    "'''\n",
    "\n",
    "route_points = []\n",
    "for point in range(0,len(points),28):\n",
    "    tmp = points[point]\n",
    "    route_points.append(tmp)\n",
    "\n",
    "print(len(route_points))"
   ]
  },
  {
   "cell_type": "code",
   "execution_count": 7,
   "metadata": {},
   "outputs": [
    {
     "data": {
      "text/html": [
       "<div>\n",
       "<style scoped>\n",
       "    .dataframe tbody tr th:only-of-type {\n",
       "        vertical-align: middle;\n",
       "    }\n",
       "\n",
       "    .dataframe tbody tr th {\n",
       "        vertical-align: top;\n",
       "    }\n",
       "\n",
       "    .dataframe thead th {\n",
       "        text-align: right;\n",
       "    }\n",
       "</style>\n",
       "<table border=\"1\" class=\"dataframe\">\n",
       "  <thead>\n",
       "    <tr style=\"text-align: right;\">\n",
       "      <th></th>\n",
       "      <th>Name</th>\n",
       "      <th>Longitude</th>\n",
       "      <th>Latitude</th>\n",
       "    </tr>\n",
       "  </thead>\n",
       "  <tbody>\n",
       "    <tr>\n",
       "      <th>0</th>\n",
       "      <td>-74.05845669376798_40.70884040173425</td>\n",
       "      <td>-74.058457</td>\n",
       "      <td>40.708840</td>\n",
       "    </tr>\n",
       "    <tr>\n",
       "      <th>1</th>\n",
       "      <td>-74.12620906945746_40.654272756355624</td>\n",
       "      <td>-74.126209</td>\n",
       "      <td>40.654273</td>\n",
       "    </tr>\n",
       "    <tr>\n",
       "      <th>2</th>\n",
       "      <td>-74.03693162147681_40.73212872881783</td>\n",
       "      <td>-74.036932</td>\n",
       "      <td>40.732129</td>\n",
       "    </tr>\n",
       "    <tr>\n",
       "      <th>3</th>\n",
       "      <td>-74.03701150336938_40.72429823532735</td>\n",
       "      <td>-74.037012</td>\n",
       "      <td>40.724298</td>\n",
       "    </tr>\n",
       "    <tr>\n",
       "      <th>4</th>\n",
       "      <td>-74.03434450827966_40.71743624880018</td>\n",
       "      <td>-74.034345</td>\n",
       "      <td>40.717436</td>\n",
       "    </tr>\n",
       "  </tbody>\n",
       "</table>\n",
       "</div>"
      ],
      "text/plain": [
       "                                    Name  Longitude   Latitude\n",
       "0   -74.05845669376798_40.70884040173425 -74.058457  40.708840\n",
       "1  -74.12620906945746_40.654272756355624 -74.126209  40.654273\n",
       "2   -74.03693162147681_40.73212872881783 -74.036932  40.732129\n",
       "3   -74.03701150336938_40.72429823532735 -74.037012  40.724298\n",
       "4   -74.03434450827966_40.71743624880018 -74.034345  40.717436"
      ]
     },
     "execution_count": 7,
     "metadata": {},
     "output_type": "execute_result"
    }
   ],
   "source": [
    "'''\n",
    "Create dataframe\n",
    "'''\n",
    "\n",
    "df = pd.DataFrame(route_points, columns=['Longitude','Latitude'])\n",
    "\n",
    "tmp = list(df.Latitude.tolist())\n",
    "names = []\n",
    "for i in range(0,len(tmp)):\n",
    "    name = str(df.iloc[i].Longitude)+'_'+str(df.iloc[i].Latitude)\n",
    "    names.append(name)\n",
    "\n",
    "df['Name'] = names\n",
    "\n",
    "columns = ['Name','Longitude','Latitude']\n",
    "df= df[columns]\n",
    "\n",
    "\n",
    "df.head()"
   ]
  },
  {
   "cell_type": "code",
   "execution_count": 8,
   "metadata": {},
   "outputs": [],
   "source": [
    "'''\n",
    "Export points\n",
    "'''\n",
    "\n",
    "df.to_csv(output_csv,header=True,index=None)"
   ]
  },
  {
   "cell_type": "code",
   "execution_count": 4,
   "metadata": {},
   "outputs": [
    {
     "data": {
      "text/html": [
       "<div>\n",
       "<style scoped>\n",
       "    .dataframe tbody tr th:only-of-type {\n",
       "        vertical-align: middle;\n",
       "    }\n",
       "\n",
       "    .dataframe tbody tr th {\n",
       "        vertical-align: top;\n",
       "    }\n",
       "\n",
       "    .dataframe thead th {\n",
       "        text-align: right;\n",
       "    }\n",
       "</style>\n",
       "<table border=\"1\" class=\"dataframe\">\n",
       "  <thead>\n",
       "    <tr style=\"text-align: right;\">\n",
       "      <th></th>\n",
       "      <th>Name</th>\n",
       "      <th>Longitude</th>\n",
       "      <th>Latitude</th>\n",
       "      <th>Catenary</th>\n",
       "    </tr>\n",
       "  </thead>\n",
       "  <tbody>\n",
       "    <tr>\n",
       "      <th>0</th>\n",
       "      <td>-73.99942158108672_40.734131217013584</td>\n",
       "      <td>-73.999422</td>\n",
       "      <td>40.734131</td>\n",
       "      <td>0</td>\n",
       "    </tr>\n",
       "    <tr>\n",
       "      <th>1</th>\n",
       "      <td>-74.00713156551443_40.732835218887026</td>\n",
       "      <td>-74.007132</td>\n",
       "      <td>40.732835</td>\n",
       "      <td>0</td>\n",
       "    </tr>\n",
       "    <tr>\n",
       "      <th>2</th>\n",
       "      <td>-74.0085845620593_40.73108522271284</td>\n",
       "      <td>-74.008585</td>\n",
       "      <td>40.731085</td>\n",
       "      <td>0</td>\n",
       "    </tr>\n",
       "    <tr>\n",
       "      <th>3</th>\n",
       "      <td>-74.01026255940353_40.73120122234362</td>\n",
       "      <td>-74.010263</td>\n",
       "      <td>40.731201</td>\n",
       "      <td>0</td>\n",
       "    </tr>\n",
       "    <tr>\n",
       "      <th>4</th>\n",
       "      <td>-74.01245755256961_40.71078926264628</td>\n",
       "      <td>-74.012458</td>\n",
       "      <td>40.710789</td>\n",
       "      <td>0</td>\n",
       "    </tr>\n",
       "  </tbody>\n",
       "</table>\n",
       "</div>"
      ],
      "text/plain": [
       "                                    Name  Longitude   Latitude  Catenary\n",
       "0  -73.99942158108672_40.734131217013584 -73.999422  40.734131         0\n",
       "1  -74.00713156551443_40.732835218887026 -74.007132  40.732835         0\n",
       "2    -74.0085845620593_40.73108522271284 -74.008585  40.731085         0\n",
       "3   -74.01026255940353_40.73120122234362 -74.010263  40.731201         0\n",
       "4   -74.01245755256961_40.71078926264628 -74.012458  40.710789         0"
      ]
     },
     "execution_count": 4,
     "metadata": {},
     "output_type": "execute_result"
    }
   ],
   "source": [
    "'''\n",
    "Open csv\n",
    "'''\n",
    "\n",
    "df = pd.read_csv(output_csv)\n",
    "df.head()"
   ]
  },
  {
   "cell_type": "code",
   "execution_count": 5,
   "metadata": {
    "scrolled": false
   },
   "outputs": [
    {
     "data": {
      "text/html": [
       "<div style=\"width:100%;\"><div style=\"position:relative;width:100%;height:0;padding-bottom:60%;\"><iframe src=\"data:text/html;charset=utf-8;base64,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\" style=\"position:absolute;width:100%;height:100%;left:0;top:0;border:none !important;\" allowfullscreen webkitallowfullscreen mozallowfullscreen></iframe></div></div>"
      ],
      "text/plain": [
       "<folium.folium.Map at 0x1174cbe10>"
      ]
     },
     "execution_count": 5,
     "metadata": {},
     "output_type": "execute_result"
    }
   ],
   "source": [
    "'''\n",
    "Plot markers\n",
    "'''\n",
    "\n",
    "rows = df.index.tolist()\n",
    "\n",
    "marker_points = []\n",
    "for row in rows:\n",
    "    marker_points.append((df.iloc[row].Latitude,df.iloc[row].Longitude))\n",
    "    \n",
    "# Set map centerpoint\n",
    "coords = marker_points[0]\n",
    "       \n",
    "# Define map\n",
    "m = folium.Map(\n",
    "    location = coords,\n",
    "    zoom_start = 13\n",
    ")\n",
    "  \n",
    "# Add points    \n",
    "for mp in marker_points:\n",
    "    folium.Marker(mp).add_to(m)\n",
    "m"
   ]
  },
  {
   "cell_type": "code",
   "execution_count": 29,
   "metadata": {},
   "outputs": [
    {
     "data": {
      "application/vnd.jupyter.widget-view+json": {
       "model_id": "17eff2ae4de04c1b82a6d910e5f863db",
       "version_major": 2,
       "version_minor": 0
      },
      "text/plain": [
       "Figure(layout=FigureLayout(height='800px', width='100%'))"
      ]
     },
     "metadata": {},
     "output_type": "display_data"
    }
   ],
   "source": [
    "'''\n",
    "Get satellite preview for image\n",
    "'''\n",
    "\n",
    "row = 0\n",
    "\n",
    "figure_layout = {\n",
    "    'width': '100%',\n",
    "    'height': '800px'\n",
    "}\n",
    "fig = gmaps.figure(center = (df.iloc[row].Latitude,df.iloc[row].Longitude), zoom_level = 19,map_type='SATELLITE',layout=figure_layout)\n",
    "fig"
   ]
  },
  {
   "cell_type": "code",
   "execution_count": 6,
   "metadata": {},
   "outputs": [],
   "source": [
    "'''\n",
    "Get all images \n",
    "'''\n",
    "\n",
    "root = os.path.dirname(os.path.abspath('Africa.ipynb'))\n",
    "image_folder = root[:-9]+update_folder[3:]\n",
    "image_folder\n",
    "\n",
    "url = 'https://maps.googleapis.com/maps/api/staticmap?'\n",
    "rows = df.index.tolist()\n",
    "for i in range(0,len(rows)):\n",
    "    row = df.iloc[i]\n",
    "    center = str(row.Latitude)+','+str(row.Longitude)\n",
    "    payload = {\n",
    "        'center': center, \n",
    "        'zoom': 20,\n",
    "        'size': '640x640',\n",
    "        'scale': 2,\n",
    "        'format': 'png32',\n",
    "        'maptype': 'satellite',\n",
    "        'key': token\n",
    "    }\n",
    "    \n",
    "    r = requests.get(url,params=payload,stream=True)\n",
    "\n",
    "    name = df.iloc[i]['Name']\n",
    "    filename = image_folder+name+'.png'\n",
    "    if r.status_code == 200:\n",
    "        with open(filename, 'wb') as f:\n",
    "            r.raw.decode_content = True\n",
    "            shutil.copyfileobj(r.raw, f) "
   ]
  },
  {
   "cell_type": "code",
   "execution_count": null,
   "metadata": {},
   "outputs": [],
   "source": []
  }
 ],
 "metadata": {
  "kernelspec": {
   "display_name": "Python 3",
   "language": "python",
   "name": "python3"
  },
  "language_info": {
   "codemirror_mode": {
    "name": "ipython",
    "version": 3
   },
   "file_extension": ".py",
   "mimetype": "text/x-python",
   "name": "python",
   "nbconvert_exporter": "python",
   "pygments_lexer": "ipython3",
   "version": "3.7.3"
  }
 },
 "nbformat": 4,
 "nbformat_minor": 2
}
