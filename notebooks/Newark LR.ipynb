{
 "cells": [
  {
   "cell_type": "code",
   "execution_count": 1,
   "metadata": {},
   "outputs": [],
   "source": [
    "import pandas as pd\n",
    "import geopandas as gpd\n",
    "import matplotlib.pyplot as plt\n",
    "from shapely.geometry import mapping\n",
    "import folium\n",
    "import gmaps\n",
    "import os\n",
    "import requests\n",
    "import shutil"
   ]
  },
  {
   "cell_type": "code",
   "execution_count": 2,
   "metadata": {},
   "outputs": [],
   "source": [
    "with open('../resources/key.txt') as f:\n",
    "    token = f.read()\n",
    "    \n",
    "gmaps.configure(api_key = token)"
   ]
  },
  {
   "cell_type": "code",
   "execution_count": 3,
   "metadata": {},
   "outputs": [],
   "source": [
    "input_folder = '../data/railways/Newark_LR/'\n",
    "input_file = input_folder+'Passenger_Railroad_Lines_in_New_Jersey.shp'\n",
    "\n",
    "output_folder = '../data/output_images/NewarkLR/'\n",
    "output_csv = output_folder+'NEW.csv'\n",
    "\n",
    "update_folder = output_folder+'set_3/'"
   ]
  },
  {
   "cell_type": "markdown",
   "metadata": {},
   "source": [
    "### Import Routes"
   ]
  },
  {
   "cell_type": "code",
   "execution_count": 4,
   "metadata": {},
   "outputs": [
    {
     "data": {
      "text/html": [
       "<div>\n",
       "<style scoped>\n",
       "    .dataframe tbody tr th:only-of-type {\n",
       "        vertical-align: middle;\n",
       "    }\n",
       "\n",
       "    .dataframe tbody tr th {\n",
       "        vertical-align: top;\n",
       "    }\n",
       "\n",
       "    .dataframe thead th {\n",
       "        text-align: right;\n",
       "    }\n",
       "</style>\n",
       "<table border=\"1\" class=\"dataframe\">\n",
       "  <thead>\n",
       "    <tr style=\"text-align: right;\">\n",
       "      <th></th>\n",
       "      <th>OBJECTID</th>\n",
       "      <th>RAIL_LINE</th>\n",
       "      <th>SERVICE</th>\n",
       "      <th>Shape_Leng</th>\n",
       "      <th>DATE_STAMP</th>\n",
       "      <th>geometry</th>\n",
       "    </tr>\n",
       "  </thead>\n",
       "  <tbody>\n",
       "    <tr>\n",
       "      <th>0</th>\n",
       "      <td>1</td>\n",
       "      <td>ATLANTIC CITY RAIL LINE</td>\n",
       "      <td>None</td>\n",
       "      <td>356957.019400</td>\n",
       "      <td>2016-08-30T00:00:00.000Z</td>\n",
       "      <td>LINESTRING (-74.44147959928382 39.363302944444...</td>\n",
       "    </tr>\n",
       "    <tr>\n",
       "      <th>1</th>\n",
       "      <td>2</td>\n",
       "      <td>BERGEN COUNTY LINE</td>\n",
       "      <td>HOBOKEN</td>\n",
       "      <td>155780.575084</td>\n",
       "      <td>2013-11-04T00:00:00.000Z</td>\n",
       "      <td>LINESTRING (-74.02804352228098 40.734841217805...</td>\n",
       "    </tr>\n",
       "    <tr>\n",
       "      <th>2</th>\n",
       "      <td>3</td>\n",
       "      <td>MAIN LINE</td>\n",
       "      <td>HOBOKEN</td>\n",
       "      <td>161721.051881</td>\n",
       "      <td>2013-11-04T00:00:00.000Z</td>\n",
       "      <td>LINESTRING (-74.1534482892289 41.1135474560739...</td>\n",
       "    </tr>\n",
       "    <tr>\n",
       "      <th>3</th>\n",
       "      <td>4</td>\n",
       "      <td>MEADOWLANDS RAIL LINE</td>\n",
       "      <td>None</td>\n",
       "      <td>56328.562168</td>\n",
       "      <td>2013-11-04T00:00:00.000Z</td>\n",
       "      <td>LINESTRING (-74.02804352228098 40.734841217805...</td>\n",
       "    </tr>\n",
       "    <tr>\n",
       "      <th>4</th>\n",
       "      <td>5</td>\n",
       "      <td>MONTCLAIR BOONTON LINE</td>\n",
       "      <td>NEW YORK CITY</td>\n",
       "      <td>328910.733006</td>\n",
       "      <td>2013-11-04T00:00:00.000Z</td>\n",
       "      <td>LINESTRING (-74.83535386691111 40.851441958709...</td>\n",
       "    </tr>\n",
       "  </tbody>\n",
       "</table>\n",
       "</div>"
      ],
      "text/plain": [
       "   OBJECTID                RAIL_LINE        SERVICE     Shape_Leng  \\\n",
       "0         1  ATLANTIC CITY RAIL LINE           None  356957.019400   \n",
       "1         2       BERGEN COUNTY LINE        HOBOKEN  155780.575084   \n",
       "2         3                MAIN LINE        HOBOKEN  161721.051881   \n",
       "3         4    MEADOWLANDS RAIL LINE           None   56328.562168   \n",
       "4         5   MONTCLAIR BOONTON LINE  NEW YORK CITY  328910.733006   \n",
       "\n",
       "                 DATE_STAMP                                           geometry  \n",
       "0  2016-08-30T00:00:00.000Z  LINESTRING (-74.44147959928382 39.363302944444...  \n",
       "1  2013-11-04T00:00:00.000Z  LINESTRING (-74.02804352228098 40.734841217805...  \n",
       "2  2013-11-04T00:00:00.000Z  LINESTRING (-74.1534482892289 41.1135474560739...  \n",
       "3  2013-11-04T00:00:00.000Z  LINESTRING (-74.02804352228098 40.734841217805...  \n",
       "4  2013-11-04T00:00:00.000Z  LINESTRING (-74.83535386691111 40.851441958709...  "
      ]
     },
     "execution_count": 4,
     "metadata": {},
     "output_type": "execute_result"
    }
   ],
   "source": [
    "routes = gpd.read_file(input_file)\n",
    "\n",
    "routes = routes.to_crs({'init' :'epsg:4269'})\n",
    "\n",
    "routes.head()"
   ]
  },
  {
   "cell_type": "code",
   "execution_count": 5,
   "metadata": {},
   "outputs": [
    {
     "data": {
      "text/plain": [
       "(30, 6)"
      ]
     },
     "execution_count": 5,
     "metadata": {},
     "output_type": "execute_result"
    }
   ],
   "source": [
    "# Number of routes\n",
    "routes.shape"
   ]
  },
  {
   "cell_type": "code",
   "execution_count": 6,
   "metadata": {},
   "outputs": [
    {
     "name": "stdout",
     "output_type": "stream",
     "text": [
      "29155 points\n"
     ]
    }
   ],
   "source": [
    "'''\n",
    "Get all points\n",
    "'''\n",
    "\n",
    "points = []\n",
    "rows = routes.index.tolist()\n",
    "\n",
    "geom_types = routes['geometry'].tolist()\n",
    "for i in rows:\n",
    "    try:\n",
    "        route = routes.loc[i]\n",
    "        if route.geometry.geom_type == 'LineString':\n",
    "            g = route.geometry\n",
    "            sec_points = mapping(g)[\"coordinates\"]\n",
    "            for j in sec_points:\n",
    "                tmp = (j[0],j[1])\n",
    "                points.append(tmp)\n",
    "        elif route.geometry.geom_type == 'MultiLineString':\n",
    "            g = route.geometry\n",
    "            tmp = mapping(g)[\"coordinates\"]\n",
    "            for sec_points in tmp:\n",
    "                for j in sec_points:\n",
    "                    tmp = (j[0],j[1])\n",
    "                    points.append(tmp)\n",
    "    except Exception as e:\n",
    "        print(\"Skipped route number\",i,'because',e)        \n",
    "        \n",
    "    \n",
    "print(len(points),'points')   "
   ]
  },
  {
   "cell_type": "code",
   "execution_count": null,
   "metadata": {},
   "outputs": [],
   "source": [
    "'''\n",
    "Get points for 1 or more routes\n",
    "'''\n",
    "\n",
    "rows = [0]\n",
    "\n",
    "points = []\n",
    "for i in range(0,len(routes.OBJECTID.tolist())):\n",
    "    if i in rows:\n",
    "    #     print('Route',i)\n",
    "        try:\n",
    "            route = routes.iloc[i]\n",
    "            g = [m for m in route.geometry]\n",
    "    #         print('\\t',len(g),'sections')\n",
    "            for j in range(0,len(g)):\n",
    "    #             print('   section',j)\n",
    "                sec_points = mapping(g[j])[\"coordinates\"]\n",
    "                for k in range(0,len(sec_points)):\n",
    "    #                 print('      point',k)\n",
    "                    points.append(sec_points[k])\n",
    "        except Exception as e:\n",
    "            print(\"Skipped route number\",i,'because',e)\n",
    "\n",
    "print(len(points),'points')"
   ]
  },
  {
   "cell_type": "code",
   "execution_count": null,
   "metadata": {},
   "outputs": [],
   "source": [
    "'''\n",
    "Get points for single route/section\n",
    "'''\n",
    "\n",
    "row = 0\n",
    "section = 0\n",
    "\n",
    "points = []\n",
    "try:\n",
    "    route = routes.iloc[row]\n",
    "    g = [i for i in route.geometry]\n",
    "    len(g)\n",
    "\n",
    "    points = mapping(g[section])[\"coordinates\"]\n",
    "except Exception as e:\n",
    "    print(\"Skipped route number\",row,'because',e)\n",
    "    \n",
    "print(len(points),'points')"
   ]
  },
  {
   "cell_type": "code",
   "execution_count": 7,
   "metadata": {},
   "outputs": [
    {
     "data": {
      "text/html": [
       "<div>\n",
       "<style scoped>\n",
       "    .dataframe tbody tr th:only-of-type {\n",
       "        vertical-align: middle;\n",
       "    }\n",
       "\n",
       "    .dataframe tbody tr th {\n",
       "        vertical-align: top;\n",
       "    }\n",
       "\n",
       "    .dataframe thead th {\n",
       "        text-align: right;\n",
       "    }\n",
       "</style>\n",
       "<table border=\"1\" class=\"dataframe\">\n",
       "  <thead>\n",
       "    <tr style=\"text-align: right;\">\n",
       "      <th></th>\n",
       "      <th>Name</th>\n",
       "      <th>Longitude</th>\n",
       "      <th>Latitude</th>\n",
       "      <th>Catenary</th>\n",
       "    </tr>\n",
       "  </thead>\n",
       "  <tbody>\n",
       "    <tr>\n",
       "      <th>0</th>\n",
       "      <td>-73.99942158108672_40.734131217013584</td>\n",
       "      <td>-73.999422</td>\n",
       "      <td>40.734131</td>\n",
       "      <td>0</td>\n",
       "    </tr>\n",
       "    <tr>\n",
       "      <th>1</th>\n",
       "      <td>-74.00713156551443_40.732835218887026</td>\n",
       "      <td>-74.007132</td>\n",
       "      <td>40.732835</td>\n",
       "      <td>0</td>\n",
       "    </tr>\n",
       "    <tr>\n",
       "      <th>2</th>\n",
       "      <td>-74.0085845620593_40.73108522271284</td>\n",
       "      <td>-74.008585</td>\n",
       "      <td>40.731085</td>\n",
       "      <td>0</td>\n",
       "    </tr>\n",
       "    <tr>\n",
       "      <th>3</th>\n",
       "      <td>-74.01026255940353_40.73120122234362</td>\n",
       "      <td>-74.010263</td>\n",
       "      <td>40.731201</td>\n",
       "      <td>0</td>\n",
       "    </tr>\n",
       "    <tr>\n",
       "      <th>4</th>\n",
       "      <td>-74.01245755256961_40.71078926264628</td>\n",
       "      <td>-74.012458</td>\n",
       "      <td>40.710789</td>\n",
       "      <td>0</td>\n",
       "    </tr>\n",
       "  </tbody>\n",
       "</table>\n",
       "</div>"
      ],
      "text/plain": [
       "                                    Name  Longitude   Latitude  Catenary\n",
       "0  -73.99942158108672_40.734131217013584 -73.999422  40.734131         0\n",
       "1  -74.00713156551443_40.732835218887026 -74.007132  40.732835         0\n",
       "2    -74.0085845620593_40.73108522271284 -74.008585  40.731085         0\n",
       "3   -74.01026255940353_40.73120122234362 -74.010263  40.731201         0\n",
       "4   -74.01245755256961_40.71078926264628 -74.012458  40.710789         0"
      ]
     },
     "execution_count": 7,
     "metadata": {},
     "output_type": "execute_result"
    }
   ],
   "source": [
    "'''\n",
    "Open csv with current points\n",
    "'''\n",
    "\n",
    "curr_df = pd.read_csv(output_csv)\n",
    "curr_df.head()"
   ]
  },
  {
   "cell_type": "code",
   "execution_count": 9,
   "metadata": {},
   "outputs": [
    {
     "name": "stdout",
     "output_type": "stream",
     "text": [
      "117\n"
     ]
    }
   ],
   "source": [
    "'''\n",
    "Get subselection of points excuding current points\n",
    "'''\n",
    "rows = curr_df.index.tolist()\n",
    "curr_points = []\n",
    "for row in rows:\n",
    "    tmp = curr_df.iloc[row].Name\n",
    "    space = tmp.find('_') \n",
    "    longitude = tmp[:space]\n",
    "    latitude = tmp[space+1:]\n",
    "    curr_points.append((longitude,latitude))\n",
    "\n",
    "route_points = []\n",
    "for point in range(0,len(points),250):\n",
    "    tmp = points[point]\n",
    "    if tmp not in curr_points:\n",
    "        route_points.append(tmp)\n",
    "\n",
    "print(len(route_points))"
   ]
  },
  {
   "cell_type": "code",
   "execution_count": 10,
   "metadata": {},
   "outputs": [
    {
     "data": {
      "text/html": [
       "<div>\n",
       "<style scoped>\n",
       "    .dataframe tbody tr th:only-of-type {\n",
       "        vertical-align: middle;\n",
       "    }\n",
       "\n",
       "    .dataframe tbody tr th {\n",
       "        vertical-align: top;\n",
       "    }\n",
       "\n",
       "    .dataframe thead th {\n",
       "        text-align: right;\n",
       "    }\n",
       "</style>\n",
       "<table border=\"1\" class=\"dataframe\">\n",
       "  <thead>\n",
       "    <tr style=\"text-align: right;\">\n",
       "      <th></th>\n",
       "      <th>Name</th>\n",
       "      <th>Longitude</th>\n",
       "      <th>Latitude</th>\n",
       "    </tr>\n",
       "  </thead>\n",
       "  <tbody>\n",
       "    <tr>\n",
       "      <th>0</th>\n",
       "      <td>-74.44147959928382_39.36330294444477</td>\n",
       "      <td>-74.441480</td>\n",
       "      <td>39.363303</td>\n",
       "    </tr>\n",
       "    <tr>\n",
       "      <th>1</th>\n",
       "      <td>-75.18970415767845_39.979072662428905</td>\n",
       "      <td>-75.189704</td>\n",
       "      <td>39.979073</td>\n",
       "    </tr>\n",
       "    <tr>\n",
       "      <th>2</th>\n",
       "      <td>-74.08009306353142_40.78318998752632</td>\n",
       "      <td>-74.080093</td>\n",
       "      <td>40.783190</td>\n",
       "    </tr>\n",
       "    <tr>\n",
       "      <th>3</th>\n",
       "      <td>-74.12701133454532_40.969129745578755</td>\n",
       "      <td>-74.127011</td>\n",
       "      <td>40.969130</td>\n",
       "    </tr>\n",
       "    <tr>\n",
       "      <th>4</th>\n",
       "      <td>-74.08679261028185_40.77522781309017</td>\n",
       "      <td>-74.086793</td>\n",
       "      <td>40.775228</td>\n",
       "    </tr>\n",
       "  </tbody>\n",
       "</table>\n",
       "</div>"
      ],
      "text/plain": [
       "                                    Name  Longitude   Latitude\n",
       "0   -74.44147959928382_39.36330294444477 -74.441480  39.363303\n",
       "1  -75.18970415767845_39.979072662428905 -75.189704  39.979073\n",
       "2   -74.08009306353142_40.78318998752632 -74.080093  40.783190\n",
       "3  -74.12701133454532_40.969129745578755 -74.127011  40.969130\n",
       "4   -74.08679261028185_40.77522781309017 -74.086793  40.775228"
      ]
     },
     "execution_count": 10,
     "metadata": {},
     "output_type": "execute_result"
    }
   ],
   "source": [
    "'''\n",
    "Create dataframe\n",
    "'''\n",
    "\n",
    "df = pd.DataFrame(route_points, columns=['Longitude','Latitude'])\n",
    "\n",
    "tmp = list(df.Latitude.tolist())\n",
    "names = []\n",
    "for i in range(0,len(tmp)):\n",
    "    name = str(df.iloc[i].Longitude)+'_'+str(df.iloc[i].Latitude)\n",
    "    names.append(name)\n",
    "\n",
    "df['Name'] = names\n",
    "\n",
    "columns = ['Name','Longitude','Latitude']\n",
    "df= df[columns]\n",
    "\n",
    "\n",
    "df.head()"
   ]
  },
  {
   "cell_type": "code",
   "execution_count": 26,
   "metadata": {},
   "outputs": [],
   "source": [
    "'''\n",
    "Export points\n",
    "'''\n",
    "\n",
    "# Update\n",
    "with open(output_csv, 'a') as f:\n",
    "    df.to_csv(f, header=False,index=None)\n",
    "\n",
    "# Write new\n",
    "# df.to_csv(output_csv,header=True,index=None)\n",
    "# df.to_csv('tmp.csv',header=True,index=None)"
   ]
  },
  {
   "cell_type": "code",
   "execution_count": 21,
   "metadata": {
    "scrolled": false
   },
   "outputs": [
    {
     "data": {
      "text/html": [
       "<div style=\"width:100%;\"><div style=\"position:relative;width:100%;height:0;padding-bottom:60%;\"><iframe src=\"data:text/html;charset=utf-8;base64,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\" style=\"position:absolute;width:100%;height:100%;left:0;top:0;border:none !important;\" allowfullscreen webkitallowfullscreen mozallowfullscreen></iframe></div></div>"
      ],
      "text/plain": [
       "<folium.folium.Map at 0x125f0ac88>"
      ]
     },
     "execution_count": 21,
     "metadata": {},
     "output_type": "execute_result"
    }
   ],
   "source": [
    "'''\n",
    "Plot markers\n",
    "'''\n",
    "\n",
    "rows = df.index.tolist()\n",
    "\n",
    "marker_points = []\n",
    "for row in rows:\n",
    "    marker_points.append((df.iloc[row].Latitude,df.iloc[row].Longitude))\n",
    "    \n",
    "# Set map centerpoint\n",
    "coords = marker_points[0]\n",
    "       \n",
    "# Define map\n",
    "m = folium.Map(\n",
    "    location = coords,\n",
    "    zoom_start = 13\n",
    ")\n",
    "  \n",
    "# Add points    \n",
    "for mp in marker_points:\n",
    "    folium.Marker(mp).add_to(m)\n",
    "m"
   ]
  },
  {
   "cell_type": "code",
   "execution_count": 29,
   "metadata": {},
   "outputs": [
    {
     "data": {
      "application/vnd.jupyter.widget-view+json": {
       "model_id": "17eff2ae4de04c1b82a6d910e5f863db",
       "version_major": 2,
       "version_minor": 0
      },
      "text/plain": [
       "Figure(layout=FigureLayout(height='800px', width='100%'))"
      ]
     },
     "metadata": {},
     "output_type": "display_data"
    }
   ],
   "source": [
    "'''\n",
    "Get satellite preview for image\n",
    "'''\n",
    "\n",
    "row = 0\n",
    "\n",
    "figure_layout = {\n",
    "    'width': '100%',\n",
    "    'height': '800px'\n",
    "}\n",
    "fig = gmaps.figure(center = (df.iloc[row].Latitude,df.iloc[row].Longitude), zoom_level = 19,map_type='SATELLITE',layout=figure_layout)\n",
    "fig"
   ]
  },
  {
   "cell_type": "code",
   "execution_count": 6,
   "metadata": {},
   "outputs": [],
   "source": [
    "'''\n",
    "Get all images \n",
    "'''\n",
    "\n",
    "root = os.path.dirname(os.path.abspath('Africa.ipynb'))\n",
    "image_folder = root[:-9]+update_folder[3:]\n",
    "image_folder\n",
    "\n",
    "url = 'https://maps.googleapis.com/maps/api/staticmap?'\n",
    "rows = df.index.tolist()\n",
    "for i in range(0,len(rows)):\n",
    "    row = df.iloc[i]\n",
    "    center = str(row.Latitude)+','+str(row.Longitude)\n",
    "    payload = {\n",
    "        'center': center, \n",
    "        'zoom': 20,\n",
    "        'size': '640x640',\n",
    "        'scale': 2,\n",
    "        'format': 'png32',\n",
    "        'maptype': 'satellite',\n",
    "        'key': token\n",
    "    }\n",
    "    \n",
    "    r = requests.get(url,params=payload,stream=True)\n",
    "\n",
    "    name = df.iloc[i]['Name']\n",
    "    filename = image_folder+name+'.png'\n",
    "    if r.status_code == 200:\n",
    "        with open(filename, 'wb') as f:\n",
    "            r.raw.decode_content = True\n",
    "            shutil.copyfileobj(r.raw, f) "
   ]
  },
  {
   "cell_type": "code",
   "execution_count": null,
   "metadata": {},
   "outputs": [],
   "source": []
  }
 ],
 "metadata": {
  "kernelspec": {
   "display_name": "Python 3",
   "language": "python",
   "name": "python3"
  },
  "language_info": {
   "codemirror_mode": {
    "name": "ipython",
    "version": 3
   },
   "file_extension": ".py",
   "mimetype": "text/x-python",
   "name": "python",
   "nbconvert_exporter": "python",
   "pygments_lexer": "ipython3",
   "version": "3.7.3"
  }
 },
 "nbformat": 4,
 "nbformat_minor": 2
}
