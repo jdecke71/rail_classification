{
 "cells": [
  {
   "cell_type": "code",
   "execution_count": 1,
   "metadata": {},
   "outputs": [
    {
     "ename": "ModuleNotFoundError",
     "evalue": "No module named 'tensorflow'",
     "output_type": "error",
     "traceback": [
      "\u001b[0;31m---------------------------------------------------------------------------\u001b[0m",
      "\u001b[0;31mModuleNotFoundError\u001b[0m                       Traceback (most recent call last)",
      "\u001b[0;32m<ipython-input-1-e90e419f480c>\u001b[0m in \u001b[0;36m<module>\u001b[0;34m\u001b[0m\n\u001b[1;32m      1\u001b[0m \u001b[0;32mimport\u001b[0m \u001b[0mos\u001b[0m\u001b[0;34m\u001b[0m\u001b[0;34m\u001b[0m\u001b[0m\n\u001b[0;32m----> 2\u001b[0;31m \u001b[0;32mimport\u001b[0m \u001b[0mtensorflow\u001b[0m \u001b[0;32mas\u001b[0m \u001b[0mtf\u001b[0m\u001b[0;34m\u001b[0m\u001b[0;34m\u001b[0m\u001b[0m\n\u001b[0m\u001b[1;32m      3\u001b[0m \u001b[0;32mimport\u001b[0m \u001b[0mpandas\u001b[0m \u001b[0;32mas\u001b[0m \u001b[0mpd\u001b[0m\u001b[0;34m\u001b[0m\u001b[0;34m\u001b[0m\u001b[0m\n\u001b[1;32m      4\u001b[0m \u001b[0;32mimport\u001b[0m \u001b[0mnumpy\u001b[0m \u001b[0;32mas\u001b[0m \u001b[0mnp\u001b[0m\u001b[0;34m\u001b[0m\u001b[0;34m\u001b[0m\u001b[0m\n\u001b[1;32m      5\u001b[0m \u001b[0;32mfrom\u001b[0m \u001b[0mshutil\u001b[0m \u001b[0;32mimport\u001b[0m \u001b[0mcopyfile\u001b[0m\u001b[0;34m\u001b[0m\u001b[0;34m\u001b[0m\u001b[0m\n",
      "\u001b[0;31mModuleNotFoundError\u001b[0m: No module named 'tensorflow'"
     ]
    }
   ],
   "source": [
    "import os\n",
    "import tensorflow as tf\n",
    "import pandas as pd\n",
    "import numpy as np\n",
    "from shutil import copyfile\n",
    "from tensorflow.keras.preprocessing.image import ImageDataGenerator\n",
    "from tensorflow.keras import optimizers, models, layers\n",
    "import matplotlib.pyplot as plt\n",
    "from tensorflow.keras.models import load_model, Model\n",
    "from scipy.stats import mode\n",
    "from sklearn.metrics import confusion_matrix\n",
    "import cv2"
   ]
  },
  {
   "cell_type": "code",
   "execution_count": 2,
   "metadata": {},
   "outputs": [
    {
     "name": "stdout",
     "output_type": "stream",
     "text": [
      "Z:\\Study\\GE Project\n"
     ]
    }
   ],
   "source": [
    "cwd = os.getcwd()\n",
    "print(cwd)"
   ]
  },
  {
   "cell_type": "code",
   "execution_count": 3,
   "metadata": {},
   "outputs": [],
   "source": [
    "wd = cwd+\"\\\\output_images\""
   ]
  },
  {
   "cell_type": "code",
   "execution_count": 4,
   "metadata": {},
   "outputs": [],
   "source": [
    "folder_list = os.listdir(wd)"
   ]
  },
  {
   "cell_type": "code",
   "execution_count": 7,
   "metadata": {},
   "outputs": [],
   "source": [
    "#os.mkdir(cwd+'\\\\set_image')"
   ]
  },
  {
   "cell_type": "code",
   "execution_count": 5,
   "metadata": {},
   "outputs": [],
   "source": [
    "#checking how many images we have in total\n",
    "set_1=[]\n",
    "set_2=[]\n",
    "for files in os.listdir(wd):\n",
    "    if files!='Random':\n",
    "        for file in os.listdir(wd+'//'+files+'//set_1'):\n",
    "            set_1.append(file)\n",
    "    for file in os.listdir(wd+'//'+files+'//set_2'):\n",
    "        set_2.append(file)"
   ]
  },
  {
   "cell_type": "code",
   "execution_count": 6,
   "metadata": {},
   "outputs": [
    {
     "name": "stdout",
     "output_type": "stream",
     "text": [
      "number of images in set_1 (zoomed out):  742\n",
      "number of images in set_2 (zoomed in):  1322\n",
      "number of images total:  2064\n"
     ]
    }
   ],
   "source": [
    "print(\"number of images in set_1 (zoomed out): \", len(set_1))\n",
    "print(\"number of images in set_2 (zoomed in): \", len(set_2))\n",
    "print(\"number of images total: \", len(set_1)+len(set_2))"
   ]
  },
  {
   "cell_type": "code",
   "execution_count": 98,
   "metadata": {},
   "outputs": [],
   "source": [
    "#This cell is for using both set_1 and set_2\n",
    "#finding csv files to move images from git to local and divide it into train, test, validation\n",
    "# os.mkdir(cwd+'\\\\image_set1_set2')\n",
    "\n",
    "#After testing, not including set_1 gave better result.\n",
    "\n",
    "# for folder_name in folder_list:\n",
    "#     folder = wd+'\\\\'+folder_name\n",
    "#     for files in os.listdir(folder):\n",
    "#         if files[-3:]=='csv':\n",
    "#             continue\n",
    "#         elif files=='set_2':\n",
    "#             for zoom_file in os.listdir(folder+'\\\\'+files):\n",
    "#                 if zoom_file[:-4]+'_zoom'+zoom_file[-4:] in os.listdir(cwd+'\\\\image_set1_set2'):\n",
    "#                     continue\n",
    "#                 else:\n",
    "#                     copyfile(folder+'\\\\'+files+'\\\\'+zoom_file, cwd+'\\\\image_set1_set2\\\\'+zoom_file[:-4]+'_zoom'+zoom_file[-4:])\n",
    "#         elif files in os.listdir(cwd+'\\\\image_set1_set2'):\n",
    "#             continue\n",
    "#         elif files=='set_1':\n",
    "#             for nonzoom_file in os.listdir(folder+'\\\\'+files):\n",
    "#                 if nonzoom_file in os.listdir(cwd+'\\\\image_set1_set2'):\n",
    "#                     continue\n",
    "#                 else:\n",
    "#                     copyfile(folder+'\\\\'+files+'\\\\'+nonzoom_file, cwd+'\\\\image_set1_set2\\\\'+nonzoom_file)\n",
    "#         else:\n",
    "#             continue\n",
    "# #             copyfile(folder+'\\\\'+files, cwd+'\\\\set_image\\\\'+files)"
   ]
  },
  {
   "cell_type": "code",
   "execution_count": 5,
   "metadata": {},
   "outputs": [],
   "source": [
    "#finding csv files to move images from git to local and divide it into train, test, validation\n",
    "# os.mkdir(cwd+'\\\\image')\n",
    "#this cell is for only using set_2\n",
    "\n",
    "for folder_name in folder_list:\n",
    "    folder = wd+'\\\\'+folder_name\n",
    "    for files in os.listdir(folder):\n",
    "        if files[-3:]=='csv':\n",
    "            continue\n",
    "        elif files=='set_2':\n",
    "            for zoom_file in os.listdir(folder+'\\\\'+files):\n",
    "                if zoom_file[:-4]+'_zoom'+zoom_file[-4:] in os.listdir(cwd+'\\\\set_image'):\n",
    "                    continue\n",
    "                else:\n",
    "                    copyfile(folder+'\\\\'+files+'\\\\'+zoom_file, cwd+'\\\\set_image\\\\'+zoom_file[:-4]+'_zoom'+zoom_file[-4:])\n",
    "        elif files in os.listdir(cwd+'\\\\set_image'):\n",
    "            continue\n",
    "        elif files=='set_1':\n",
    "            continue\n",
    "        else:\n",
    "            #decided to skip zoomed_out images\n",
    "            continue\n",
    "#             copyfile(folder+'\\\\'+files, cwd+'\\\\set_image\\\\'+files)"
   ]
  },
  {
   "cell_type": "code",
   "execution_count": 6,
   "metadata": {},
   "outputs": [
    {
     "data": {
      "text/plain": [
       "['Z:\\\\Study\\\\GE Project\\\\output_images\\\\Amtrak_non_cat_2\\\\ANC2.csv',\n",
       " 'Z:\\\\Study\\\\GE Project\\\\output_images\\\\Australia\\\\AUS.csv',\n",
       " 'Z:\\\\Study\\\\GE Project\\\\output_images\\\\Random\\\\RAN.csv',\n",
       " 'Z:\\\\Study\\\\GE Project\\\\output_images\\\\Amtrak_non_cat_1\\\\ANC.csv',\n",
       " 'Z:\\\\Study\\\\GE Project\\\\output_images\\\\DenverRTD\\\\DEN.csv',\n",
       " 'Z:\\\\Study\\\\GE Project\\\\output_images\\\\LosAngelesMR\\\\LAA.csv',\n",
       " 'Z:\\\\Study\\\\GE Project\\\\output_images\\\\Switzerland\\\\SWZ.csv',\n",
       " 'Z:\\\\Study\\\\GE Project\\\\output_images\\\\Germany\\\\GRM.csv',\n",
       " 'Z:\\\\Study\\\\GE Project\\\\output_images\\\\Netherlands\\\\NET.csv',\n",
       " 'Z:\\\\Study\\\\GE Project\\\\output_images\\\\NewarkLR\\\\NEW.csv',\n",
       " 'Z:\\\\Study\\\\GE Project\\\\output_images\\\\BostonMTBA\\\\BOS.csv',\n",
       " 'Z:\\\\Study\\\\GE Project\\\\output_images\\\\Amtrak_non_cat_3\\\\ANC3.csv',\n",
       " 'Z:\\\\Study\\\\GE Project\\\\output_images\\\\Amtrak\\\\AMT.csv',\n",
       " 'Z:\\\\Study\\\\GE Project\\\\output_images\\\\SeattleLLR\\\\SEA.csv']"
      ]
     },
     "execution_count": 6,
     "metadata": {},
     "output_type": "execute_result"
    }
   ],
   "source": [
    "csv_list"
   ]
  },
  {
   "cell_type": "code",
   "execution_count": 34,
   "metadata": {},
   "outputs": [
    {
     "data": {
      "text/plain": [
       "['D:\\\\GE Project\\\\rail_classification\\\\data\\\\output_images\\\\Amtrak\\\\AMT.csv',\n",
       " 'D:\\\\GE Project\\\\rail_classification\\\\data\\\\output_images\\\\Amtrak_non_cat_1\\\\ANC.csv',\n",
       " 'D:\\\\GE Project\\\\rail_classification\\\\data\\\\output_images\\\\Amtrak_non_cat_2\\\\ANC2.csv',\n",
       " 'D:\\\\GE Project\\\\rail_classification\\\\data\\\\output_images\\\\Amtrak_non_cat_3\\\\ANC3.csv',\n",
       " 'D:\\\\GE Project\\\\rail_classification\\\\data\\\\output_images\\\\Australia\\\\AUS.csv',\n",
       " 'D:\\\\GE Project\\\\rail_classification\\\\data\\\\output_images\\\\BostonMTBA\\\\BOS.csv',\n",
       " 'D:\\\\GE Project\\\\rail_classification\\\\data\\\\output_images\\\\DenverRTD\\\\DEN.csv',\n",
       " 'D:\\\\GE Project\\\\rail_classification\\\\data\\\\output_images\\\\Germany\\\\GRM.csv',\n",
       " 'D:\\\\GE Project\\\\rail_classification\\\\data\\\\output_images\\\\LosAngelesMR\\\\LAA.csv',\n",
       " 'D:\\\\GE Project\\\\rail_classification\\\\data\\\\output_images\\\\Netherlands\\\\NET.csv',\n",
       " 'D:\\\\GE Project\\\\rail_classification\\\\data\\\\output_images\\\\NewarkLR\\\\NEW.csv',\n",
       " 'D:\\\\GE Project\\\\rail_classification\\\\data\\\\output_images\\\\SeattleLLR\\\\SEA.csv',\n",
       " 'D:\\\\GE Project\\\\rail_classification\\\\data\\\\output_images\\\\Switzerland\\\\SWZ.csv',\n",
       " 'D:\\\\GE Project\\\\rail_classification\\\\data\\\\output_images\\\\Random\\\\RAN.csv']"
      ]
     },
     "execution_count": 34,
     "metadata": {},
     "output_type": "execute_result"
    }
   ],
   "source": [
    "new_csv=[]\n",
    "for files in os.listdir('D:\\\\GE Project\\\\rail_classification\\\\data\\\\output_images'):\n",
    "    for file in os.listdir('D:\\\\GE Project\\\\rail_classification\\\\data\\\\output_images\\\\'+files):\n",
    "        if file=='SEA_dup.csv':\n",
    "            continue\n",
    "        elif file[-3:]=='csv':\n",
    "            new_csv.append('D:\\\\GE Project\\\\rail_classification\\\\data\\\\output_images\\\\'+files+'\\\\'+file)\n",
    "\n",
    "new_csv"
   ]
  },
  {
   "cell_type": "code",
   "execution_count": 44,
   "metadata": {},
   "outputs": [
    {
     "name": "stdout",
     "output_type": "stream",
     "text": [
      "1428\n"
     ]
    }
   ],
   "source": [
    "df = pd.read_csv(new_csv[0])\n",
    "df2 = pd.read_csv(new_csv[1])\n",
    "df3 = pd.read_csv(new_csv[2])\n",
    "df4 = pd.read_csv(new_csv[3])\n",
    "df5 = pd.read_csv(new_csv[4])\n",
    "df6 = pd.read_csv(new_csv[5])\n",
    "df7 = pd.read_csv(new_csv[6])\n",
    "df8 = pd.read_csv(new_csv[7])\n",
    "df9 = pd.read_csv(new_csv[8])\n",
    "df10 = pd.read_csv(new_csv[9])\n",
    "df11 = pd.read_csv(new_csv[10])\n",
    "df12 = pd.read_csv(new_csv[11])\n",
    "df13 = pd.read_csv(new_csv[12])\n",
    "df14 = pd.read_csv(new_csv[13])\n",
    "\n",
    "total = len(df)+len(df2)+len(df3)+len(df4)+len(df5)+len(df6)+len(df7)+len(df8)+len(df9)+len(df10)+len(df11)+len(df12)+len(df13)+len(df14)\n",
    "print(total)"
   ]
  },
  {
   "cell_type": "code",
   "execution_count": null,
   "metadata": {},
   "outputs": [],
   "source": []
  },
  {
   "cell_type": "code",
   "execution_count": 45,
   "metadata": {},
   "outputs": [
    {
     "data": {
      "text/html": [
       "<div>\n",
       "<style scoped>\n",
       "    .dataframe tbody tr th:only-of-type {\n",
       "        vertical-align: middle;\n",
       "    }\n",
       "\n",
       "    .dataframe tbody tr th {\n",
       "        vertical-align: top;\n",
       "    }\n",
       "\n",
       "    .dataframe thead th {\n",
       "        text-align: right;\n",
       "    }\n",
       "</style>\n",
       "<table border=\"1\" class=\"dataframe\">\n",
       "  <thead>\n",
       "    <tr style=\"text-align: right;\">\n",
       "      <th></th>\n",
       "      <th>Name</th>\n",
       "      <th>Longitude</th>\n",
       "      <th>Latitude</th>\n",
       "      <th>Catenary</th>\n",
       "    </tr>\n",
       "  </thead>\n",
       "  <tbody>\n",
       "    <tr>\n",
       "      <th>0</th>\n",
       "      <td>-71.0986135186152_42.32525050375276</td>\n",
       "      <td>-71.098614</td>\n",
       "      <td>42.325251</td>\n",
       "      <td>1</td>\n",
       "    </tr>\n",
       "    <tr>\n",
       "      <th>1</th>\n",
       "      <td>-71.1537173899704_42.160718367371224</td>\n",
       "      <td>-71.153717</td>\n",
       "      <td>42.160718</td>\n",
       "      <td>1</td>\n",
       "    </tr>\n",
       "    <tr>\n",
       "      <th>2</th>\n",
       "      <td>-71.28022732996062_41.94747480732387</td>\n",
       "      <td>-71.280227</td>\n",
       "      <td>41.947475</td>\n",
       "      <td>1</td>\n",
       "    </tr>\n",
       "    <tr>\n",
       "      <th>3</th>\n",
       "      <td>-71.41494832260199_41.84486643575766</td>\n",
       "      <td>-71.414948</td>\n",
       "      <td>41.844866</td>\n",
       "      <td>1</td>\n",
       "    </tr>\n",
       "    <tr>\n",
       "      <th>4</th>\n",
       "      <td>-71.42193732420859_41.78370544868109</td>\n",
       "      <td>-71.421937</td>\n",
       "      <td>41.783705</td>\n",
       "      <td>1</td>\n",
       "    </tr>\n",
       "  </tbody>\n",
       "</table>\n",
       "</div>"
      ],
      "text/plain": [
       "                                   Name  Longitude   Latitude  Catenary\n",
       "0   -71.0986135186152_42.32525050375276 -71.098614  42.325251         1\n",
       "1  -71.1537173899704_42.160718367371224 -71.153717  42.160718         1\n",
       "2  -71.28022732996062_41.94747480732387 -71.280227  41.947475         1\n",
       "3  -71.41494832260199_41.84486643575766 -71.414948  41.844866         1\n",
       "4  -71.42193732420859_41.78370544868109 -71.421937  41.783705         1"
      ]
     },
     "execution_count": 45,
     "metadata": {},
     "output_type": "execute_result"
    }
   ],
   "source": [
    "df.head()"
   ]
  },
  {
   "cell_type": "code",
   "execution_count": 46,
   "metadata": {},
   "outputs": [],
   "source": [
    "for i in range(1,len(new_csv)):\n",
    "    df1 = pd.read_csv(new_csv[i])\n",
    "    df = pd.concat([df,df1])"
   ]
  },
  {
   "cell_type": "code",
   "execution_count": 47,
   "metadata": {},
   "outputs": [
    {
     "name": "stdout",
     "output_type": "stream",
     "text": [
      "1428\n"
     ]
    }
   ],
   "source": [
    "print(len(df))\n",
    "df.reset_index(inplace=True)"
   ]
  },
  {
   "cell_type": "code",
   "execution_count": 48,
   "metadata": {},
   "outputs": [
    {
     "name": "stdout",
     "output_type": "stream",
     "text": [
      "0.0    827\n",
      "1.0    496\n",
      "Name: Catenary, dtype: int64\n"
     ]
    }
   ],
   "source": [
    "print(df['Catenary'].value_counts())\n",
    "if True in df['Name'].duplicated().values:\n",
    "    i, = np.where(df['Name'].duplicated().values == True)\n",
    "    df.drop(df.index[i])"
   ]
  },
  {
   "cell_type": "code",
   "execution_count": 49,
   "metadata": {},
   "outputs": [],
   "source": [
    "df.reset_index(inplace=True)"
   ]
  },
  {
   "cell_type": "code",
   "execution_count": 50,
   "metadata": {},
   "outputs": [],
   "source": [
    "name_zoom=[]\n",
    "for i in range(len(df)):\n",
    "    name_zoom.append(str(df['Name'][i])+'_zoom.png')"
   ]
  },
  {
   "cell_type": "code",
   "execution_count": 51,
   "metadata": {},
   "outputs": [],
   "source": [
    "df['Name_zoom']=name_zoom"
   ]
  },
  {
   "cell_type": "code",
   "execution_count": 103,
   "metadata": {
    "scrolled": true
   },
   "outputs": [
    {
     "name": "stdout",
     "output_type": "stream",
     "text": [
      "NUcNh9PcYg4_zoom.png\n",
      "-105.012593717053_39.6165487405455_zoom.png\n",
      "-isw4ET_gsQ_zoom.png\n",
      "-105.012593717053_39.6165487405455.png\n",
      "8.4085251_49.1204456_zoom.png\n",
      "9.9349599_53.5625094.png\n",
      "9.9349599_53.5625094_zoom.png\n",
      "-PswYeKBWTo_zoom.png\n"
     ]
    }
   ],
   "source": [
    "#making a image set and label set\n",
    "# image_set=cwd+'\\\\set_image'\n",
    "image_set=cwd+'\\\\image_set1_set2'\n",
    "input_set = []\n",
    "label_set = []\n",
    "for image in os.listdir(image_set):\n",
    "    input_img = cv2.imread(image_set+'\\\\'+image)\n",
    "    input_set.append(input_img)\n",
    "    if image[-8:-4]=='zoom':\n",
    "        try:\n",
    "            label_set.append(df.loc[df['Name_zoom']==image]['Catenary'].values[0])\n",
    "        except:\n",
    "            print(image)\n",
    "            label_set.append(0)\n",
    "    else:\n",
    "        try:\n",
    "            label_set.append(df.loc[df['Name']==image[:-4]]['Catenary'].values[0])\n",
    "        except:\n",
    "            print(image)\n",
    "            label_set.append(0)\n",
    "    "
   ]
  },
  {
   "cell_type": "code",
   "execution_count": 104,
   "metadata": {},
   "outputs": [],
   "source": [
    "true_label_set = [0 if np.isnan(label) else int(label) for label in label_set]"
   ]
  },
  {
   "cell_type": "code",
   "execution_count": 105,
   "metadata": {},
   "outputs": [
    {
     "name": "stdout",
     "output_type": "stream",
     "text": [
      "length of labels:  2063\n",
      "length of images:  2063\n"
     ]
    }
   ],
   "source": [
    "#checking if number of items match in label set and image set\n",
    "print(\"length of labels: \" , len(true_label_set))\n",
    "print(\"length of images: \", len(input_set))"
   ]
  },
  {
   "cell_type": "code",
   "execution_count": 106,
   "metadata": {},
   "outputs": [],
   "source": [
    "#removing non type images and labels that was damaged\n",
    "for i in range(len(input_set)):\n",
    "    if input_set[i] is None:\n",
    "        print(i)\n",
    "        input_set.pop(i)\n",
    "        true_label_set.pop(i)"
   ]
  },
  {
   "cell_type": "code",
   "execution_count": 107,
   "metadata": {},
   "outputs": [
    {
     "name": "stdout",
     "output_type": "stream",
     "text": [
      "2063\n",
      "2063\n"
     ]
    }
   ],
   "source": [
    "print(len(input_set))\n",
    "print(len(true_label_set))"
   ]
  },
  {
   "cell_type": "code",
   "execution_count": 108,
   "metadata": {},
   "outputs": [
    {
     "name": "stdout",
     "output_type": "stream",
     "text": [
      "(array([0, 1]), array([1249,  814], dtype=int64))\n"
     ]
    }
   ],
   "source": [
    "#checking if train set has balanced labels\n",
    "print(np.unique(true_label_set, return_counts=True))"
   ]
  },
  {
   "cell_type": "code",
   "execution_count": 109,
   "metadata": {},
   "outputs": [],
   "source": [
    "del_idx=[]\n",
    "for i in range(len(true_label_set)):\n",
    "    if true_label_set[i]==0:\n",
    "        del_idx.append(i)"
   ]
  },
  {
   "cell_type": "code",
   "execution_count": 110,
   "metadata": {},
   "outputs": [],
   "source": [
    "import random\n",
    "random.shuffle(del_idx)"
   ]
  },
  {
   "cell_type": "code",
   "execution_count": 125,
   "metadata": {},
   "outputs": [],
   "source": [
    "new_true_label_set = np.delete(true_label_set, del_idx[:435])\n",
    "# new_input_set = np.delete(input_set, del_idx[:435], 0)"
   ]
  },
  {
   "cell_type": "code",
   "execution_count": 121,
   "metadata": {},
   "outputs": [],
   "source": [
    "new_input_set = []\n",
    "for i in range(len(input_set)):\n",
    "    if i in del_idx[:435]:\n",
    "        continue\n",
    "    else:\n",
    "        new_input_set.append(input_set[i])"
   ]
  },
  {
   "cell_type": "code",
   "execution_count": 128,
   "metadata": {},
   "outputs": [
    {
     "name": "stdout",
     "output_type": "stream",
     "text": [
      "(array([0, 1]), array([814, 814], dtype=int64))\n"
     ]
    }
   ],
   "source": [
    "#data set is balanced now\n",
    "\n",
    "print(np.unique(new_true_label_set, return_counts=True))"
   ]
  },
  {
   "cell_type": "code",
   "execution_count": null,
   "metadata": {},
   "outputs": [],
   "source": []
  },
  {
   "cell_type": "code",
   "execution_count": 129,
   "metadata": {},
   "outputs": [],
   "source": [
    "#selecting random indexes so later we can divide into train, validation and test sets.\n",
    "import math\n",
    "\n",
    "index = list(range(len(new_true_label_set)))\n",
    "random.shuffle(index)\n",
    "test_index = index[:math.ceil(len(new_true_label_set)*0.10)]\n",
    "val_index_cal = math.ceil((len(new_true_label_set)-math.ceil(len(new_true_label_set)*0.10))*0.20+math.ceil(len(new_true_label_set)*0.10))\n",
    "val_index = index[math.ceil(len(new_true_label_set)*0.10):val_index_cal]\n",
    "train_index = index[val_index_cal:]"
   ]
  },
  {
   "cell_type": "code",
   "execution_count": null,
   "metadata": {},
   "outputs": [],
   "source": []
  },
  {
   "cell_type": "code",
   "execution_count": 130,
   "metadata": {},
   "outputs": [],
   "source": [
    "#dividing image set and label set into train, validation and test sets.\n",
    "x_train = np.asarray([cv2.resize(new_input_set[i],(150,150)) for i in train_index])\n",
    "y_train = np.asarray([new_true_label_set[i] for i in train_index])\n",
    "\n",
    "x_val = np.asarray([cv2.resize(new_input_set[i],(150,150)) for i in val_index])\n",
    "y_val = np.asarray([new_true_label_set[i] for i in val_index])\n",
    "\n",
    "x_test = np.asarray([cv2.resize(new_input_set[i],(150,150)) for i in test_index])\n",
    "y_test = np.asarray([new_true_label_set[i] for i in test_index])"
   ]
  },
  {
   "cell_type": "code",
   "execution_count": 132,
   "metadata": {},
   "outputs": [],
   "source": [
    "np.save('true_label_set_with_random_both.npy', true_label_set)"
   ]
  },
  {
   "cell_type": "code",
   "execution_count": 133,
   "metadata": {},
   "outputs": [],
   "source": [
    "np.save('x_train_with_random_both.npy', x_train)"
   ]
  },
  {
   "cell_type": "code",
   "execution_count": 134,
   "metadata": {},
   "outputs": [],
   "source": [
    "np.save('y_train_with_random_both.npy', y_train)\n",
    "np.save('x_val_with_random_both.npy', x_val)\n",
    "np.save('y_val_with_random_both.npy', y_val)\n",
    "np.save('x_test_with_random_both.npy', x_test)\n",
    "np.save('y_test_with_random_both.npy', y_test)"
   ]
  },
  {
   "cell_type": "code",
   "execution_count": 135,
   "metadata": {},
   "outputs": [
    {
     "name": "stdout",
     "output_type": "stream",
     "text": [
      "number of images in train:  1172\n",
      "number of images in validation:  293\n",
      "number of images in test:  163\n"
     ]
    }
   ],
   "source": [
    "print('number of images in train: ', len(x_train))\n",
    "print('number of images in validation: ', len(x_val))\n",
    "print('number of images in test: ', len(x_test))\n",
    "\n",
    "#let's move all the random images only for the test later"
   ]
  },
  {
   "cell_type": "code",
   "execution_count": 136,
   "metadata": {},
   "outputs": [
    {
     "name": "stdout",
     "output_type": "stream",
     "text": [
      "label distribution for train set:  (array([0, 1]), array([588, 584], dtype=int64))\n",
      "label distribution for validation set:  (array([0, 1]), array([143, 150], dtype=int64))\n",
      "label distribution for test set:  (array([0, 1]), array([83, 80], dtype=int64))\n"
     ]
    }
   ],
   "source": [
    "#checking category distributions for each set\n",
    "print(\"label distribution for train set: \", np.unique(y_train, return_counts=True))\n",
    "print(\"label distribution for validation set: \", np.unique(y_val, return_counts=True))\n",
    "print(\"label distribution for test set: \", np.unique(y_test, return_counts=True))"
   ]
  },
  {
   "cell_type": "code",
   "execution_count": 137,
   "metadata": {},
   "outputs": [],
   "source": [
    "#creating data generator with image augmentation to cover the small amount of images.\n",
    "train_datagen = ImageDataGenerator(\n",
    "        width_shift_range=0.2, \n",
    "        height_shift_range=0.2,\n",
    "        rescale=1./255,\n",
    "        rotation_range=40,\n",
    "        shear_range=0.2,\n",
    "        horizontal_flip=True,\n",
    "        vertical_flip=True,\n",
    "        fill_mode='nearest')\n",
    "\n",
    "# train_datagen.fit(x_train)\n",
    "\n",
    "test_datagen = ImageDataGenerator(rescale=1./255)\n",
    "\n",
    "\n",
    "train_generator = train_datagen.flow(\n",
    "        x_train,\n",
    "        y_train,\n",
    "        batch_size=10)\n",
    "\n",
    "validation_generator = test_datagen.flow(\n",
    "        x_val,\n",
    "        y_val,\n",
    "        batch_size=10)"
   ]
  },
  {
   "cell_type": "code",
   "execution_count": 138,
   "metadata": {},
   "outputs": [],
   "source": [
    "#creating test generator\n",
    "test_generator = test_datagen.flow(\n",
    "        x_test,\n",
    "        y_test,\n",
    "        batch_size=20)"
   ]
  },
  {
   "cell_type": "code",
   "execution_count": 148,
   "metadata": {},
   "outputs": [],
   "source": [
    "#loading pretrained VGG16 model to use for classification\n",
    "from tensorflow.keras.applications import VGG16\n",
    "\n",
    "\n",
    "conv_base = VGG16(weights='imagenet',\n",
    "                  include_top=False,\n",
    "                  input_shape=(150,150,3))"
   ]
  },
  {
   "cell_type": "code",
   "execution_count": 149,
   "metadata": {},
   "outputs": [],
   "source": [
    "#adding sigmoid activated layer for the binary classification on top of the model\n",
    "model = models.Sequential()\n",
    "model.add(conv_base)\n",
    "model.add(layers.Flatten())\n",
    "model.add(layers.Dense(256, activation='relu'))\n",
    "# model.add(layers.Dropout(0.3))\n",
    "model.add(layers.Dense(1, activation='sigmoid'))"
   ]
  },
  {
   "cell_type": "code",
   "execution_count": 150,
   "metadata": {},
   "outputs": [
    {
     "name": "stdout",
     "output_type": "stream",
     "text": [
      "This is the number of trainable weights before freezing the conv base:  30\n",
      "This is the number of trainable weights after freezing the conv base:  4\n"
     ]
    }
   ],
   "source": [
    "#freezing the pretrained part of the model so it won't get updated as we train our model\n",
    "print('This is the number of trainable weights before freezing the conv base: ', len(model.trainable_weights))\n",
    "conv_base.trainable=False\n",
    "print('This is the number of trainable weights after freezing the conv base: ', len(model.trainable_weights))"
   ]
  },
  {
   "cell_type": "code",
   "execution_count": 151,
   "metadata": {},
   "outputs": [
    {
     "name": "stdout",
     "output_type": "stream",
     "text": [
      "Epoch 1/200\n",
      "100/100 [==============================] - 27s 267ms/step - loss: 0.7183 - acc: 0.4909 - val_loss: 0.7191 - val_acc: 0.4909\n",
      "Epoch 2/200\n",
      "100/100 [==============================] - 27s 271ms/step - loss: 0.7062 - acc: 0.4960 - val_loss: 0.7137 - val_acc: 0.4645\n",
      "Epoch 3/200\n",
      "100/100 [==============================] - 28s 283ms/step - loss: 0.7025 - acc: 0.4960 - val_loss: 0.7084 - val_acc: 0.4604\n",
      "Epoch 4/200\n",
      "100/100 [==============================] - 28s 280ms/step - loss: 0.7011 - acc: 0.5111 - val_loss: 0.7026 - val_acc: 0.4645\n",
      "Epoch 5/200\n",
      "100/100 [==============================] - 27s 273ms/step - loss: 0.6903 - acc: 0.5312 - val_loss: 0.7035 - val_acc: 0.4807\n",
      "Epoch 6/200\n",
      "100/100 [==============================] - 28s 277ms/step - loss: 0.6954 - acc: 0.5060 - val_loss: 0.6943 - val_acc: 0.4949\n",
      "Epoch 7/200\n",
      "100/100 [==============================] - 27s 270ms/step - loss: 0.6950 - acc: 0.5262 - val_loss: 0.6968 - val_acc: 0.5010\n",
      "Epoch 8/200\n",
      "100/100 [==============================] - 28s 276ms/step - loss: 0.6816 - acc: 0.5685 - val_loss: 0.6916 - val_acc: 0.5030\n",
      "Epoch 9/200\n",
      "100/100 [==============================] - 27s 271ms/step - loss: 0.6832 - acc: 0.5464 - val_loss: 0.6877 - val_acc: 0.5152\n",
      "Epoch 10/200\n",
      "100/100 [==============================] - 27s 274ms/step - loss: 0.6846 - acc: 0.5600 - val_loss: 0.6853 - val_acc: 0.5456\n",
      "Epoch 11/200\n",
      "100/100 [==============================] - 27s 275ms/step - loss: 0.6794 - acc: 0.5635 - val_loss: 0.6827 - val_acc: 0.5375\n",
      "Epoch 12/200\n",
      "100/100 [==============================] - 27s 274ms/step - loss: 0.6740 - acc: 0.5958 - val_loss: 0.6795 - val_acc: 0.5517\n",
      "Epoch 13/200\n",
      "100/100 [==============================] - 28s 276ms/step - loss: 0.6764 - acc: 0.5806 - val_loss: 0.6789 - val_acc: 0.5619\n",
      "Epoch 14/200\n",
      "100/100 [==============================] - 28s 282ms/step - loss: 0.6706 - acc: 0.5847 - val_loss: 0.6720 - val_acc: 0.5781\n",
      "Epoch 15/200\n",
      "100/100 [==============================] - 27s 275ms/step - loss: 0.6694 - acc: 0.6090 - val_loss: 0.6704 - val_acc: 0.5822\n",
      "Epoch 16/200\n",
      "100/100 [==============================] - 26s 261ms/step - loss: 0.6756 - acc: 0.5706 - val_loss: 0.6686 - val_acc: 0.5781\n",
      "Epoch 17/200\n",
      "100/100 [==============================] - 26s 258ms/step - loss: 0.6643 - acc: 0.6109 - val_loss: 0.6622 - val_acc: 0.5923\n",
      "Epoch 18/200\n",
      "100/100 [==============================] - 25s 253ms/step - loss: 0.6623 - acc: 0.6119 - val_loss: 0.6619 - val_acc: 0.5903\n",
      "Epoch 19/200\n",
      "100/100 [==============================] - 25s 249ms/step - loss: 0.6530 - acc: 0.6512 - val_loss: 0.6609 - val_acc: 0.5943\n",
      "Epoch 20/200\n",
      "100/100 [==============================] - 25s 248ms/step - loss: 0.6651 - acc: 0.6200 - val_loss: 0.6596 - val_acc: 0.5923\n",
      "Epoch 21/200\n",
      "100/100 [==============================] - 24s 242ms/step - loss: 0.6609 - acc: 0.6260 - val_loss: 0.6571 - val_acc: 0.6207\n",
      "Epoch 22/200\n",
      "100/100 [==============================] - 25s 251ms/step - loss: 0.6655 - acc: 0.6140 - val_loss: 0.6552 - val_acc: 0.6085\n",
      "Epoch 23/200\n",
      "100/100 [==============================] - 25s 250ms/step - loss: 0.6444 - acc: 0.6453 - val_loss: 0.6556 - val_acc: 0.6207\n",
      "Epoch 24/200\n",
      "100/100 [==============================] - 25s 246ms/step - loss: 0.6556 - acc: 0.6230 - val_loss: 0.6488 - val_acc: 0.6105\n",
      "Epoch 25/200\n",
      "100/100 [==============================] - 25s 246ms/step - loss: 0.6508 - acc: 0.6230 - val_loss: 0.6492 - val_acc: 0.6024\n",
      "Epoch 26/200\n",
      "100/100 [==============================] - 25s 247ms/step - loss: 0.6483 - acc: 0.6321 - val_loss: 0.6494 - val_acc: 0.6065\n",
      "Epoch 27/200\n",
      "100/100 [==============================] - 25s 250ms/step - loss: 0.6529 - acc: 0.6230 - val_loss: 0.6452 - val_acc: 0.6146\n",
      "Epoch 28/200\n",
      "100/100 [==============================] - 25s 249ms/step - loss: 0.6463 - acc: 0.6321 - val_loss: 0.6469 - val_acc: 0.5963\n",
      "Epoch 29/200\n",
      "100/100 [==============================] - 24s 242ms/step - loss: 0.6444 - acc: 0.6411 - val_loss: 0.6456 - val_acc: 0.6024\n",
      "Epoch 30/200\n",
      "100/100 [==============================] - 24s 245ms/step - loss: 0.6445 - acc: 0.6340 - val_loss: 0.6393 - val_acc: 0.6166\n",
      "Epoch 31/200\n",
      "100/100 [==============================] - 25s 248ms/step - loss: 0.6433 - acc: 0.6321 - val_loss: 0.6456 - val_acc: 0.5963\n",
      "Epoch 32/200\n",
      "100/100 [==============================] - 25s 245ms/step - loss: 0.6432 - acc: 0.6460 - val_loss: 0.6352 - val_acc: 0.6247\n",
      "Epoch 33/200\n",
      "100/100 [==============================] - 25s 249ms/step - loss: 0.6349 - acc: 0.6653 - val_loss: 0.6399 - val_acc: 0.6126\n",
      "Epoch 34/200\n",
      "100/100 [==============================] - 25s 247ms/step - loss: 0.6376 - acc: 0.6512 - val_loss: 0.6282 - val_acc: 0.6430\n",
      "Epoch 35/200\n",
      "100/100 [==============================] - 25s 251ms/step - loss: 0.6356 - acc: 0.6490 - val_loss: 0.6289 - val_acc: 0.6207\n",
      "Epoch 36/200\n",
      "100/100 [==============================] - 25s 245ms/step - loss: 0.6369 - acc: 0.6532 - val_loss: 0.6396 - val_acc: 0.6024\n",
      "Epoch 37/200\n",
      "100/100 [==============================] - 24s 241ms/step - loss: 0.6477 - acc: 0.6270 - val_loss: 0.6324 - val_acc: 0.6187\n",
      "Epoch 38/200\n",
      "100/100 [==============================] - 24s 243ms/step - loss: 0.6371 - acc: 0.6542 - val_loss: 0.6327 - val_acc: 0.6187\n",
      "Epoch 39/200\n",
      "100/100 [==============================] - 24s 241ms/step - loss: 0.6361 - acc: 0.6555 - val_loss: 0.6284 - val_acc: 0.6369\n",
      "Epoch 40/200\n",
      "100/100 [==============================] - 25s 253ms/step - loss: 0.6313 - acc: 0.6470 - val_loss: 0.6312 - val_acc: 0.6207\n",
      "Epoch 41/200\n",
      "100/100 [==============================] - 25s 249ms/step - loss: 0.6331 - acc: 0.6320 - val_loss: 0.6214 - val_acc: 0.6308\n",
      "Epoch 42/200\n",
      "100/100 [==============================] - 24s 243ms/step - loss: 0.6362 - acc: 0.6494 - val_loss: 0.6311 - val_acc: 0.6166\n",
      "Epoch 43/200\n",
      "100/100 [==============================] - 25s 246ms/step - loss: 0.6262 - acc: 0.6520 - val_loss: 0.6239 - val_acc: 0.6187\n",
      "Epoch 44/200\n",
      "100/100 [==============================] - 25s 246ms/step - loss: 0.6385 - acc: 0.6492 - val_loss: 0.6193 - val_acc: 0.6389\n",
      "Epoch 45/200\n",
      "100/100 [==============================] - 25s 248ms/step - loss: 0.6261 - acc: 0.6613 - val_loss: 0.6221 - val_acc: 0.6207\n",
      "Epoch 46/200\n",
      "100/100 [==============================] - 25s 247ms/step - loss: 0.6237 - acc: 0.6492 - val_loss: 0.6174 - val_acc: 0.6430\n",
      "Epoch 47/200\n",
      "100/100 [==============================] - 25s 248ms/step - loss: 0.6263 - acc: 0.6522 - val_loss: 0.6143 - val_acc: 0.6410\n",
      "Epoch 48/200\n",
      "100/100 [==============================] - 25s 248ms/step - loss: 0.6287 - acc: 0.6492 - val_loss: 0.6185 - val_acc: 0.6288\n",
      "Epoch 49/200\n",
      "100/100 [==============================] - 25s 250ms/step - loss: 0.6215 - acc: 0.6603 - val_loss: 0.6225 - val_acc: 0.6247\n",
      "Epoch 50/200\n",
      "100/100 [==============================] - 25s 246ms/step - loss: 0.6221 - acc: 0.6640 - val_loss: 0.6234 - val_acc: 0.6268\n",
      "Epoch 51/200\n",
      "100/100 [==============================] - 25s 251ms/step - loss: 0.6249 - acc: 0.6433 - val_loss: 0.6206 - val_acc: 0.6166\n",
      "Epoch 52/200\n",
      "100/100 [==============================] - 25s 246ms/step - loss: 0.6256 - acc: 0.6520 - val_loss: 0.6178 - val_acc: 0.6308\n",
      "Epoch 53/200\n",
      "100/100 [==============================] - 25s 249ms/step - loss: 0.6211 - acc: 0.6704 - val_loss: 0.6165 - val_acc: 0.6146\n",
      "Epoch 54/200\n",
      "100/100 [==============================] - 25s 251ms/step - loss: 0.6191 - acc: 0.6744 - val_loss: 0.6114 - val_acc: 0.6329\n",
      "Epoch 55/200\n",
      "100/100 [==============================] - 25s 247ms/step - loss: 0.6384 - acc: 0.6341 - val_loss: 0.6126 - val_acc: 0.6430\n",
      "Epoch 56/200\n",
      "100/100 [==============================] - 24s 245ms/step - loss: 0.6073 - acc: 0.6865 - val_loss: 0.6044 - val_acc: 0.6450\n",
      "Epoch 57/200\n",
      "100/100 [==============================] - 25s 248ms/step - loss: 0.6175 - acc: 0.6530 - val_loss: 0.6114 - val_acc: 0.6369\n",
      "Epoch 58/200\n",
      "100/100 [==============================] - 24s 244ms/step - loss: 0.6209 - acc: 0.6714 - val_loss: 0.6017 - val_acc: 0.6471\n",
      "Epoch 59/200\n",
      "100/100 [==============================] - 24s 241ms/step - loss: 0.6138 - acc: 0.6673 - val_loss: 0.6095 - val_acc: 0.6349\n",
      "Epoch 60/200\n",
      "100/100 [==============================] - 25s 247ms/step - loss: 0.6232 - acc: 0.6573 - val_loss: 0.6153 - val_acc: 0.6247\n",
      "Epoch 61/200\n",
      "100/100 [==============================] - 25s 246ms/step - loss: 0.6097 - acc: 0.6623 - val_loss: 0.6046 - val_acc: 0.6511\n",
      "Epoch 62/200\n",
      "100/100 [==============================] - 26s 257ms/step - loss: 0.6108 - acc: 0.6900 - val_loss: 0.6090 - val_acc: 0.6349\n",
      "Epoch 63/200\n",
      "100/100 [==============================] - 25s 248ms/step - loss: 0.6104 - acc: 0.6673 - val_loss: 0.5998 - val_acc: 0.6491\n",
      "Epoch 64/200\n",
      "100/100 [==============================] - 24s 244ms/step - loss: 0.6285 - acc: 0.6462 - val_loss: 0.6117 - val_acc: 0.6268\n",
      "Epoch 65/200\n",
      "100/100 [==============================] - 25s 248ms/step - loss: 0.6191 - acc: 0.6583 - val_loss: 0.6056 - val_acc: 0.6247\n",
      "Epoch 66/200\n",
      "100/100 [==============================] - 25s 253ms/step - loss: 0.6174 - acc: 0.6643 - val_loss: 0.6065 - val_acc: 0.6389\n",
      "Epoch 67/200\n",
      "100/100 [==============================] - 24s 244ms/step - loss: 0.6077 - acc: 0.6804 - val_loss: 0.6081 - val_acc: 0.6471\n",
      "Epoch 68/200\n",
      "100/100 [==============================] - 25s 245ms/step - loss: 0.6063 - acc: 0.6660 - val_loss: 0.6067 - val_acc: 0.6288\n",
      "Epoch 69/200\n",
      "100/100 [==============================] - 25s 246ms/step - loss: 0.6171 - acc: 0.6603 - val_loss: 0.6074 - val_acc: 0.6389\n",
      "Epoch 70/200\n",
      "100/100 [==============================] - 24s 242ms/step - loss: 0.6042 - acc: 0.6951 - val_loss: 0.5971 - val_acc: 0.6471\n",
      "Epoch 71/200\n",
      "100/100 [==============================] - 25s 247ms/step - loss: 0.6241 - acc: 0.6610 - val_loss: 0.5971 - val_acc: 0.6511\n",
      "Epoch 72/200\n",
      "100/100 [==============================] - 25s 253ms/step - loss: 0.6086 - acc: 0.6744 - val_loss: 0.6115 - val_acc: 0.6450\n",
      "Epoch 73/200\n",
      "100/100 [==============================] - 25s 250ms/step - loss: 0.6048 - acc: 0.6774 - val_loss: 0.5973 - val_acc: 0.6471\n",
      "Epoch 74/200\n",
      "100/100 [==============================] - 25s 252ms/step - loss: 0.6035 - acc: 0.6704 - val_loss: 0.5985 - val_acc: 0.6491\n",
      "Epoch 75/200\n",
      "100/100 [==============================] - 25s 253ms/step - loss: 0.5968 - acc: 0.6905 - val_loss: 0.6014 - val_acc: 0.6471\n",
      "Epoch 76/200\n",
      "100/100 [==============================] - 24s 238ms/step - loss: 0.6176 - acc: 0.6620 - val_loss: 0.5899 - val_acc: 0.6673\n",
      "Epoch 77/200\n",
      "100/100 [==============================] - 25s 250ms/step - loss: 0.6134 - acc: 0.6633 - val_loss: 0.5940 - val_acc: 0.6511\n",
      "Epoch 78/200\n",
      "100/100 [==============================] - 25s 249ms/step - loss: 0.6021 - acc: 0.6935 - val_loss: 0.6053 - val_acc: 0.6430\n",
      "Epoch 79/200\n",
      "100/100 [==============================] - 25s 246ms/step - loss: 0.6088 - acc: 0.6673 - val_loss: 0.5952 - val_acc: 0.6552\n",
      "Epoch 80/200\n",
      "100/100 [==============================] - 23s 234ms/step - loss: 0.5979 - acc: 0.7026 - val_loss: 0.6004 - val_acc: 0.6471\n",
      "Epoch 81/200\n",
      "100/100 [==============================] - 23s 226ms/step - loss: 0.6026 - acc: 0.6845 - val_loss: 0.5928 - val_acc: 0.6471\n",
      "Epoch 82/200\n",
      "100/100 [==============================] - 41s 408ms/step - loss: 0.5991 - acc: 0.6976 - val_loss: 0.5892 - val_acc: 0.6694\n",
      "Epoch 83/200\n",
      "100/100 [==============================] - 106s 1s/step - loss: 0.6109 - acc: 0.6710 - val_loss: 0.5847 - val_acc: 0.6673\n",
      "Epoch 84/200\n",
      "100/100 [==============================] - 109s 1s/step - loss: 0.5970 - acc: 0.6815 - val_loss: 0.5868 - val_acc: 0.6653\n",
      "Epoch 85/200\n",
      "100/100 [==============================] - 109s 1s/step - loss: 0.6056 - acc: 0.6815 - val_loss: 0.5961 - val_acc: 0.6491\n",
      "Epoch 86/200\n",
      "100/100 [==============================] - 110s 1s/step - loss: 0.6058 - acc: 0.6683 - val_loss: 0.5947 - val_acc: 0.6714\n",
      "Epoch 87/200\n",
      "100/100 [==============================] - 110s 1s/step - loss: 0.6088 - acc: 0.6580 - val_loss: 0.5879 - val_acc: 0.6653\n",
      "Epoch 88/200\n",
      "100/100 [==============================] - 109s 1s/step - loss: 0.6046 - acc: 0.6778 - val_loss: 0.5912 - val_acc: 0.6471\n",
      "Epoch 89/200\n",
      "100/100 [==============================] - 110s 1s/step - loss: 0.6075 - acc: 0.6562 - val_loss: 0.5918 - val_acc: 0.6653\n",
      "Epoch 90/200\n",
      "100/100 [==============================] - 110s 1s/step - loss: 0.6090 - acc: 0.6630 - val_loss: 0.5934 - val_acc: 0.6572\n",
      "Epoch 91/200\n",
      "100/100 [==============================] - 110s 1s/step - loss: 0.5957 - acc: 0.6885 - val_loss: 0.5823 - val_acc: 0.6592\n",
      "Epoch 92/200\n",
      "100/100 [==============================] - 110s 1s/step - loss: 0.6049 - acc: 0.6623 - val_loss: 0.5977 - val_acc: 0.6471\n",
      "Epoch 93/200\n",
      "100/100 [==============================] - 109s 1s/step - loss: 0.5995 - acc: 0.6915 - val_loss: 0.5929 - val_acc: 0.6491\n",
      "Epoch 94/200\n",
      "100/100 [==============================] - 110s 1s/step - loss: 0.6052 - acc: 0.6720 - val_loss: 0.5757 - val_acc: 0.6714\n",
      "Epoch 95/200\n",
      "100/100 [==============================] - 110s 1s/step - loss: 0.5878 - acc: 0.7127 - val_loss: 0.5963 - val_acc: 0.6450\n",
      "Epoch 96/200\n",
      "100/100 [==============================] - 110s 1s/step - loss: 0.6025 - acc: 0.6744 - val_loss: 0.5824 - val_acc: 0.6613\n",
      "Epoch 97/200\n",
      "100/100 [==============================] - 109s 1s/step - loss: 0.5887 - acc: 0.7002 - val_loss: 0.5993 - val_acc: 0.6491\n",
      "Epoch 98/200\n",
      "100/100 [==============================] - 110s 1s/step - loss: 0.6002 - acc: 0.6810 - val_loss: 0.5867 - val_acc: 0.6673\n",
      "Epoch 99/200\n",
      "100/100 [==============================] - 110s 1s/step - loss: 0.5953 - acc: 0.6925 - val_loss: 0.5906 - val_acc: 0.6430\n",
      "Epoch 100/200\n",
      "100/100 [==============================] - 110s 1s/step - loss: 0.5940 - acc: 0.6825 - val_loss: 0.5826 - val_acc: 0.6613\n",
      "Epoch 101/200\n",
      "100/100 [==============================] - 110s 1s/step - loss: 0.5943 - acc: 0.6694 - val_loss: 0.5861 - val_acc: 0.6471\n",
      "Epoch 102/200\n",
      "100/100 [==============================] - 110s 1s/step - loss: 0.6032 - acc: 0.6720 - val_loss: 0.5781 - val_acc: 0.6673\n",
      "Epoch 103/200\n",
      "100/100 [==============================] - 128s 1s/step - loss: 0.5953 - acc: 0.6870 - val_loss: 0.5787 - val_acc: 0.6734\n",
      "Epoch 104/200\n",
      "100/100 [==============================] - 133s 1s/step - loss: 0.5870 - acc: 0.6946 - val_loss: 0.5843 - val_acc: 0.6491\n",
      "Epoch 105/200\n",
      "100/100 [==============================] - 134s 1s/step - loss: 0.5976 - acc: 0.6870 - val_loss: 0.5875 - val_acc: 0.6552\n",
      "Epoch 106/200\n",
      "100/100 [==============================] - 133s 1s/step - loss: 0.6017 - acc: 0.6694 - val_loss: 0.5866 - val_acc: 0.6653\n",
      "Epoch 107/200\n",
      "100/100 [==============================] - 134s 1s/step - loss: 0.5937 - acc: 0.6920 - val_loss: 0.5801 - val_acc: 0.6775\n",
      "Epoch 108/200\n",
      "100/100 [==============================] - 133s 1s/step - loss: 0.5831 - acc: 0.6976 - val_loss: 0.5837 - val_acc: 0.6653\n",
      "Epoch 109/200\n",
      "100/100 [==============================] - 132s 1s/step - loss: 0.5835 - acc: 0.6921 - val_loss: 0.5849 - val_acc: 0.6572\n",
      "Epoch 110/200\n",
      "100/100 [==============================] - 134s 1s/step - loss: 0.6000 - acc: 0.6570 - val_loss: 0.5845 - val_acc: 0.6592\n",
      "Epoch 111/200\n",
      "100/100 [==============================] - 133s 1s/step - loss: 0.5983 - acc: 0.6774 - val_loss: 0.5909 - val_acc: 0.6531\n",
      "Epoch 112/200\n",
      "100/100 [==============================] - 133s 1s/step - loss: 0.5986 - acc: 0.6764 - val_loss: 0.5654 - val_acc: 0.6734\n",
      "Epoch 113/200\n",
      "100/100 [==============================] - 133s 1s/step - loss: 0.6015 - acc: 0.6714 - val_loss: 0.5742 - val_acc: 0.6714\n",
      "Epoch 114/200\n",
      "100/100 [==============================] - 134s 1s/step - loss: 0.5952 - acc: 0.6920 - val_loss: 0.5825 - val_acc: 0.6613\n",
      "Epoch 115/200\n",
      "100/100 [==============================] - 133s 1s/step - loss: 0.5856 - acc: 0.6956 - val_loss: 0.5832 - val_acc: 0.6613\n",
      "Epoch 116/200\n",
      "100/100 [==============================] - 133s 1s/step - loss: 0.5981 - acc: 0.6794 - val_loss: 0.5857 - val_acc: 0.6572\n",
      "Epoch 117/200\n",
      "100/100 [==============================] - 133s 1s/step - loss: 0.5862 - acc: 0.7077 - val_loss: 0.5800 - val_acc: 0.6775\n",
      "Epoch 118/200\n",
      "100/100 [==============================] - 133s 1s/step - loss: 0.5912 - acc: 0.6885 - val_loss: 0.5822 - val_acc: 0.6613\n",
      "Epoch 119/200\n",
      "100/100 [==============================] - 133s 1s/step - loss: 0.5922 - acc: 0.6865 - val_loss: 0.5727 - val_acc: 0.6775\n",
      "Epoch 120/200\n",
      "100/100 [==============================] - 133s 1s/step - loss: 0.5778 - acc: 0.7036 - val_loss: 0.5787 - val_acc: 0.6673\n",
      "Epoch 121/200\n",
      "100/100 [==============================] - 133s 1s/step - loss: 0.5918 - acc: 0.6976 - val_loss: 0.5825 - val_acc: 0.6572\n",
      "Epoch 122/200\n",
      "100/100 [==============================] - 133s 1s/step - loss: 0.5869 - acc: 0.7046 - val_loss: 0.5782 - val_acc: 0.6572\n",
      "Epoch 123/200\n",
      "100/100 [==============================] - 134s 1s/step - loss: 0.5773 - acc: 0.6940 - val_loss: 0.5762 - val_acc: 0.6694\n",
      "Epoch 124/200\n",
      "100/100 [==============================] - 133s 1s/step - loss: 0.5905 - acc: 0.6956 - val_loss: 0.5779 - val_acc: 0.6552\n",
      "Epoch 125/200\n",
      "100/100 [==============================] - 133s 1s/step - loss: 0.5908 - acc: 0.6925 - val_loss: 0.5839 - val_acc: 0.6491\n",
      "Epoch 126/200\n",
      "100/100 [==============================] - 133s 1s/step - loss: 0.5992 - acc: 0.6835 - val_loss: 0.5672 - val_acc: 0.6815\n",
      "Epoch 127/200\n",
      "100/100 [==============================] - 134s 1s/step - loss: 0.5846 - acc: 0.6980 - val_loss: 0.5798 - val_acc: 0.6694\n",
      "Epoch 128/200\n",
      "100/100 [==============================] - 133s 1s/step - loss: 0.5946 - acc: 0.6799 - val_loss: 0.5763 - val_acc: 0.6673\n",
      "Epoch 129/200\n",
      "100/100 [==============================] - 108s 1s/step - loss: 0.5772 - acc: 0.7010 - val_loss: 0.5731 - val_acc: 0.6714\n",
      "Epoch 130/200\n",
      "100/100 [==============================] - 69s 694ms/step - loss: 0.5895 - acc: 0.6860 - val_loss: 0.5665 - val_acc: 0.6815\n",
      "Epoch 131/200\n",
      "100/100 [==============================] - 29s 289ms/step - loss: 0.5892 - acc: 0.6770 - val_loss: 0.5719 - val_acc: 0.6856\n",
      "Epoch 132/200\n",
      "100/100 [==============================] - 25s 250ms/step - loss: 0.5903 - acc: 0.6956 - val_loss: 0.5685 - val_acc: 0.6694\n",
      "Epoch 133/200\n",
      "100/100 [==============================] - 25s 251ms/step - loss: 0.5852 - acc: 0.6870 - val_loss: 0.5848 - val_acc: 0.6694\n",
      "Epoch 134/200\n",
      "100/100 [==============================] - 24s 241ms/step - loss: 0.5866 - acc: 0.6845 - val_loss: 0.5777 - val_acc: 0.6592\n",
      "Epoch 135/200\n",
      "100/100 [==============================] - 24s 242ms/step - loss: 0.5853 - acc: 0.6885 - val_loss: 0.5661 - val_acc: 0.6795\n",
      "Epoch 136/200\n",
      "100/100 [==============================] - 25s 248ms/step - loss: 0.5861 - acc: 0.6865 - val_loss: 0.5732 - val_acc: 0.6694\n",
      "Epoch 137/200\n",
      "100/100 [==============================] - 25s 251ms/step - loss: 0.5841 - acc: 0.6976 - val_loss: 0.5875 - val_acc: 0.6572\n",
      "Epoch 138/200\n",
      "100/100 [==============================] - 22s 215ms/step - loss: 0.5853 - acc: 0.6956 - val_loss: 0.5750 - val_acc: 0.6694\n",
      "Epoch 139/200\n",
      "100/100 [==============================] - 19s 194ms/step - loss: 0.5862 - acc: 0.6810 - val_loss: 0.5715 - val_acc: 0.6633\n",
      "Epoch 140/200\n",
      "100/100 [==============================] - 18s 180ms/step - loss: 0.5913 - acc: 0.6754 - val_loss: 0.5741 - val_acc: 0.6755\n",
      "Epoch 141/200\n",
      "100/100 [==============================] - 17s 173ms/step - loss: 0.5808 - acc: 0.6956 - val_loss: 0.5722 - val_acc: 0.6714\n",
      "Epoch 142/200\n",
      "100/100 [==============================] - 17s 171ms/step - loss: 0.5601 - acc: 0.7063 - val_loss: 0.5804 - val_acc: 0.6653\n",
      "Epoch 143/200\n",
      "100/100 [==============================] - 17s 170ms/step - loss: 0.5904 - acc: 0.6860 - val_loss: 0.5694 - val_acc: 0.6673\n",
      "Epoch 144/200\n",
      "100/100 [==============================] - 17s 169ms/step - loss: 0.5831 - acc: 0.7056 - val_loss: 0.5702 - val_acc: 0.6755\n",
      "Epoch 145/200\n",
      "100/100 [==============================] - 17s 168ms/step - loss: 0.5938 - acc: 0.6905 - val_loss: 0.5661 - val_acc: 0.6734\n",
      "Epoch 146/200\n",
      "100/100 [==============================] - 17s 169ms/step - loss: 0.5756 - acc: 0.7016 - val_loss: 0.5765 - val_acc: 0.6694\n",
      "Epoch 147/200\n",
      "100/100 [==============================] - 17s 170ms/step - loss: 0.5857 - acc: 0.6935 - val_loss: 0.5745 - val_acc: 0.6755\n",
      "Epoch 148/200\n",
      "100/100 [==============================] - 17s 173ms/step - loss: 0.5795 - acc: 0.7040 - val_loss: 0.5651 - val_acc: 0.6755\n",
      "Epoch 149/200\n",
      "100/100 [==============================] - 18s 175ms/step - loss: 0.5812 - acc: 0.6744 - val_loss: 0.5727 - val_acc: 0.6734\n",
      "Epoch 150/200\n",
      "100/100 [==============================] - 18s 175ms/step - loss: 0.5687 - acc: 0.7097 - val_loss: 0.5627 - val_acc: 0.6714\n",
      "Epoch 151/200\n",
      "100/100 [==============================] - 18s 181ms/step - loss: 0.5895 - acc: 0.6966 - val_loss: 0.5702 - val_acc: 0.6653\n",
      "Epoch 152/200\n",
      "100/100 [==============================] - 19s 190ms/step - loss: 0.5848 - acc: 0.6734 - val_loss: 0.5608 - val_acc: 0.6815\n",
      "Epoch 153/200\n",
      "100/100 [==============================] - 20s 201ms/step - loss: 0.5757 - acc: 0.7177 - val_loss: 0.5622 - val_acc: 0.6876\n",
      "Epoch 154/200\n",
      "100/100 [==============================] - 21s 210ms/step - loss: 0.5711 - acc: 0.7020 - val_loss: 0.5886 - val_acc: 0.6633\n",
      "Epoch 155/200\n",
      "100/100 [==============================] - 24s 237ms/step - loss: 0.5631 - acc: 0.7137 - val_loss: 0.5714 - val_acc: 0.6673\n",
      "Epoch 156/200\n",
      "100/100 [==============================] - 24s 242ms/step - loss: 0.5840 - acc: 0.6794 - val_loss: 0.5771 - val_acc: 0.6714\n",
      "Epoch 157/200\n",
      "100/100 [==============================] - 26s 258ms/step - loss: 0.5806 - acc: 0.6931 - val_loss: 0.5682 - val_acc: 0.6755\n",
      "Epoch 158/200\n",
      "100/100 [==============================] - 25s 247ms/step - loss: 0.5709 - acc: 0.7050 - val_loss: 0.5679 - val_acc: 0.6613\n",
      "Epoch 159/200\n",
      "100/100 [==============================] - 24s 243ms/step - loss: 0.5656 - acc: 0.7157 - val_loss: 0.5624 - val_acc: 0.6836\n",
      "Epoch 160/200\n",
      "100/100 [==============================] - 23s 227ms/step - loss: 0.5933 - acc: 0.6724 - val_loss: 0.5782 - val_acc: 0.6572\n",
      "Epoch 161/200\n",
      "100/100 [==============================] - 23s 227ms/step - loss: 0.5612 - acc: 0.7339 - val_loss: 0.5675 - val_acc: 0.6592\n",
      "Epoch 162/200\n",
      "100/100 [==============================] - 22s 219ms/step - loss: 0.5902 - acc: 0.6780 - val_loss: 0.5594 - val_acc: 0.6795\n",
      "Epoch 163/200\n",
      "100/100 [==============================] - 21s 207ms/step - loss: 0.5680 - acc: 0.7083 - val_loss: 0.5744 - val_acc: 0.6592\n",
      "Epoch 164/200\n",
      "100/100 [==============================] - 21s 209ms/step - loss: 0.5814 - acc: 0.7050 - val_loss: 0.5643 - val_acc: 0.6552\n",
      "Epoch 165/200\n",
      "100/100 [==============================] - 21s 208ms/step - loss: 0.5769 - acc: 0.7107 - val_loss: 0.5720 - val_acc: 0.6531\n",
      "Epoch 166/200\n",
      "100/100 [==============================] - 21s 206ms/step - loss: 0.5622 - acc: 0.7147 - val_loss: 0.5638 - val_acc: 0.6795\n",
      "Epoch 167/200\n",
      "100/100 [==============================] - 20s 202ms/step - loss: 0.5866 - acc: 0.6910 - val_loss: 0.5736 - val_acc: 0.6795\n",
      "Epoch 168/200\n",
      "100/100 [==============================] - 20s 200ms/step - loss: 0.5798 - acc: 0.6966 - val_loss: 0.5581 - val_acc: 0.6876\n",
      "Epoch 169/200\n",
      "100/100 [==============================] - 20s 197ms/step - loss: 0.5797 - acc: 0.7067 - val_loss: 0.5711 - val_acc: 0.6775\n",
      "Epoch 170/200\n",
      "100/100 [==============================] - 20s 198ms/step - loss: 0.5724 - acc: 0.7107 - val_loss: 0.5641 - val_acc: 0.6815\n",
      "Epoch 171/200\n",
      "100/100 [==============================] - 20s 201ms/step - loss: 0.5725 - acc: 0.6990 - val_loss: 0.5548 - val_acc: 0.6937\n",
      "Epoch 172/200\n",
      "100/100 [==============================] - 19s 194ms/step - loss: 0.5693 - acc: 0.6972 - val_loss: 0.5736 - val_acc: 0.6795\n",
      "Epoch 173/200\n",
      "100/100 [==============================] - 21s 206ms/step - loss: 0.5721 - acc: 0.7050 - val_loss: 0.5555 - val_acc: 0.6897\n",
      "Epoch 174/200\n",
      "100/100 [==============================] - 21s 211ms/step - loss: 0.5728 - acc: 0.6996 - val_loss: 0.5766 - val_acc: 0.6795\n",
      "Epoch 175/200\n",
      "100/100 [==============================] - 24s 239ms/step - loss: 0.5739 - acc: 0.6966 - val_loss: 0.5602 - val_acc: 0.6694\n",
      "Epoch 176/200\n",
      "100/100 [==============================] - 25s 249ms/step - loss: 0.5575 - acc: 0.7026 - val_loss: 0.5609 - val_acc: 0.6755\n",
      "Epoch 177/200\n",
      "100/100 [==============================] - 27s 269ms/step - loss: 0.5824 - acc: 0.6754 - val_loss: 0.5607 - val_acc: 0.6876\n",
      "Epoch 178/200\n",
      "100/100 [==============================] - 27s 273ms/step - loss: 0.5726 - acc: 0.7016 - val_loss: 0.5739 - val_acc: 0.6694\n",
      "Epoch 179/200\n",
      "100/100 [==============================] - 27s 269ms/step - loss: 0.5715 - acc: 0.6946 - val_loss: 0.5505 - val_acc: 0.6957\n",
      "Epoch 180/200\n",
      "100/100 [==============================] - 27s 271ms/step - loss: 0.5673 - acc: 0.7137 - val_loss: 0.5587 - val_acc: 0.6836\n",
      "Epoch 181/200\n",
      "100/100 [==============================] - 27s 271ms/step - loss: 0.5773 - acc: 0.7000 - val_loss: 0.5699 - val_acc: 0.6775\n",
      "Epoch 182/200\n",
      "100/100 [==============================] - 28s 277ms/step - loss: 0.5848 - acc: 0.7046 - val_loss: 0.5559 - val_acc: 0.6876\n",
      "Epoch 183/200\n",
      "100/100 [==============================] - 27s 274ms/step - loss: 0.5705 - acc: 0.6996 - val_loss: 0.5661 - val_acc: 0.6734\n",
      "Epoch 184/200\n",
      "100/100 [==============================] - 27s 269ms/step - loss: 0.5791 - acc: 0.6925 - val_loss: 0.5518 - val_acc: 0.6876\n",
      "Epoch 185/200\n",
      "100/100 [==============================] - 27s 267ms/step - loss: 0.5762 - acc: 0.6915 - val_loss: 0.5623 - val_acc: 0.6755\n",
      "Epoch 186/200\n",
      "100/100 [==============================] - 24s 237ms/step - loss: 0.5670 - acc: 0.6976 - val_loss: 0.5662 - val_acc: 0.6755\n",
      "Epoch 187/200\n",
      "100/100 [==============================] - 22s 220ms/step - loss: 0.5645 - acc: 0.6980 - val_loss: 0.5594 - val_acc: 0.6795\n",
      "Epoch 188/200\n",
      "100/100 [==============================] - 20s 204ms/step - loss: 0.5811 - acc: 0.6951 - val_loss: 0.5660 - val_acc: 0.6815\n",
      "Epoch 189/200\n",
      "100/100 [==============================] - 20s 205ms/step - loss: 0.5784 - acc: 0.7000 - val_loss: 0.5670 - val_acc: 0.6775\n",
      "Epoch 190/200\n",
      "100/100 [==============================] - 20s 203ms/step - loss: 0.5845 - acc: 0.6935 - val_loss: 0.5528 - val_acc: 0.6876\n",
      "Epoch 191/200\n",
      "100/100 [==============================] - 20s 202ms/step - loss: 0.5802 - acc: 0.6835 - val_loss: 0.5634 - val_acc: 0.6775\n",
      "Epoch 192/200\n",
      "100/100 [==============================] - 20s 203ms/step - loss: 0.5620 - acc: 0.7036 - val_loss: 0.5700 - val_acc: 0.6795\n",
      "Epoch 193/200\n",
      "100/100 [==============================] - 21s 205ms/step - loss: 0.5769 - acc: 0.6980 - val_loss: 0.5624 - val_acc: 0.6653\n",
      "Epoch 194/200\n",
      "100/100 [==============================] - 20s 202ms/step - loss: 0.5696 - acc: 0.7127 - val_loss: 0.5599 - val_acc: 0.6815\n",
      "Epoch 195/200\n",
      "100/100 [==============================] - 20s 200ms/step - loss: 0.5738 - acc: 0.6925 - val_loss: 0.5687 - val_acc: 0.6734\n",
      "Epoch 196/200\n",
      "100/100 [==============================] - 20s 199ms/step - loss: 0.5695 - acc: 0.6966 - val_loss: 0.5525 - val_acc: 0.6957\n",
      "Epoch 197/200\n",
      "100/100 [==============================] - 20s 200ms/step - loss: 0.5679 - acc: 0.6956 - val_loss: 0.5596 - val_acc: 0.6876\n",
      "Epoch 198/200\n",
      "100/100 [==============================] - 21s 207ms/step - loss: 0.5761 - acc: 0.7046 - val_loss: 0.5724 - val_acc: 0.6714\n",
      "Epoch 199/200\n",
      "100/100 [==============================] - 21s 206ms/step - loss: 0.5720 - acc: 0.7157 - val_loss: 0.5522 - val_acc: 0.6856\n",
      "Epoch 200/200\n",
      "100/100 [==============================] - 21s 207ms/step - loss: 0.5582 - acc: 0.7117 - val_loss: 0.5767 - val_acc: 0.6714\n"
     ]
    }
   ],
   "source": [
    "#start compilation and fit\n",
    "\n",
    "model.compile(loss='binary_crossentropy',\n",
    "              optimizer=optimizers.Adam(lr=5e-7),\n",
    "              metrics=['acc'])\n",
    "\n",
    "history = model.fit_generator(\n",
    "      train_generator,\n",
    "      steps_per_epoch=100,\n",
    "      epochs=200,\n",
    "      validation_data=validation_generator,\n",
    "      validation_steps=50)"
   ]
  },
  {
   "cell_type": "code",
   "execution_count": 152,
   "metadata": {},
   "outputs": [
    {
     "data": {
      "image/png": "[encoded data removed]",
      "text/plain": [
       "<Figure size 432x288 with 1 Axes>"
      ]
     },
     "metadata": {
      "needs_background": "light"
     },
     "output_type": "display_data"
    },
    {
     "data": {
      "image/png": "[encoded data removed]",
      "text/plain": [
       "<Figure size 432x288 with 1 Axes>"
      ]
     },
     "metadata": {
      "needs_background": "light"
     },
     "output_type": "display_data"
    }
   ],
   "source": [
    "#checking the result of the model.\n",
    "\n",
    "acc = history.history['acc']\n",
    "val_acc = history.history['val_acc']\n",
    "loss = history.history['loss']\n",
    "val_loss = history.history['val_loss']\n",
    "\n",
    "epochs = range(len(acc))\n",
    "\n",
    "plt.plot(epochs, acc, 'bo', label = 'Training acc')\n",
    "plt.plot(epochs, val_acc, 'b', label='Validation acc')\n",
    "plt.title('Training and validation accuracy')\n",
    "plt.legend()\n",
    "\n",
    "plt.figure()\n",
    "\n",
    "plt.plot(epochs, loss, 'bo', label='Training loss')\n",
    "plt.plot(epochs, val_loss, 'b', label='Validation loss')\n",
    "plt.title('Training and validation loss')\n",
    "plt.legend()\n",
    "\n",
    "plt.show()"
   ]
  },
  {
   "cell_type": "code",
   "execution_count": 153,
   "metadata": {},
   "outputs": [],
   "source": [
    "#To fine tune the model, unfroze last block of the pretrained model since last block contains more complicated data\n",
    "#that does not apply to most of the images unlike lower level that has edges or other simpler data that can be reused for other classifications\n",
    "conv_base.trainable = True\n",
    "\n",
    "set_trainable = False\n",
    "for layer in conv_base.layers:\n",
    "    if layer.name == 'block5_conv1':\n",
    "        set_trainable = True\n",
    "    elif layer.name == 'block5_conv2':\n",
    "        set_trainable = True\n",
    "    if set_trainable:\n",
    "        layer.trainable = True\n",
    "    else:\n",
    "        layer.trainable = False"
   ]
  },
  {
   "cell_type": "code",
   "execution_count": 154,
   "metadata": {},
   "outputs": [
    {
     "name": "stdout",
     "output_type": "stream",
     "text": [
      "Epoch 1/150\n",
      "150/150 [==============================] - 22s 148ms/step - loss: 0.5730 - acc: 0.6971 - val_loss: 0.5589 - val_acc: 0.6856\n",
      "Epoch 2/150\n",
      "150/150 [==============================] - 20s 135ms/step - loss: 0.5538 - acc: 0.7212 - val_loss: 0.5641 - val_acc: 0.6815\n",
      "Epoch 3/150\n",
      "150/150 [==============================] - 20s 135ms/step - loss: 0.5713 - acc: 0.6954 - val_loss: 0.5635 - val_acc: 0.6714\n",
      "Epoch 4/150\n",
      "150/150 [==============================] - 21s 143ms/step - loss: 0.5637 - acc: 0.7212 - val_loss: 0.5640 - val_acc: 0.6836\n",
      "Epoch 5/150\n",
      "150/150 [==============================] - 23s 155ms/step - loss: 0.5728 - acc: 0.7038 - val_loss: 0.5621 - val_acc: 0.6775\n",
      "Epoch 6/150\n",
      "150/150 [==============================] - 26s 175ms/step - loss: 0.5767 - acc: 0.6924 - val_loss: 0.5591 - val_acc: 0.6775\n",
      "Epoch 7/150\n",
      "150/150 [==============================] - 30s 197ms/step - loss: 0.5651 - acc: 0.7001 - val_loss: 0.5713 - val_acc: 0.6795\n",
      "Epoch 8/150\n",
      "150/150 [==============================] - 34s 229ms/step - loss: 0.5744 - acc: 0.6968 - val_loss: 0.5592 - val_acc: 0.6755\n",
      "Epoch 9/150\n",
      "150/150 [==============================] - 38s 252ms/step - loss: 0.5804 - acc: 0.6933 - val_loss: 0.5618 - val_acc: 0.6755\n",
      "Epoch 10/150\n",
      "150/150 [==============================] - 39s 259ms/step - loss: 0.5630 - acc: 0.7096 - val_loss: 0.5525 - val_acc: 0.6876\n",
      "Epoch 11/150\n",
      "150/150 [==============================] - 41s 272ms/step - loss: 0.5615 - acc: 0.7098 - val_loss: 0.5687 - val_acc: 0.6755\n",
      "Epoch 12/150\n",
      "150/150 [==============================] - 41s 271ms/step - loss: 0.5660 - acc: 0.7069 - val_loss: 0.5609 - val_acc: 0.6755\n",
      "Epoch 13/150\n",
      "150/150 [==============================] - 39s 262ms/step - loss: 0.5722 - acc: 0.6997 - val_loss: 0.5622 - val_acc: 0.6856\n",
      "Epoch 14/150\n",
      "150/150 [==============================] - 37s 250ms/step - loss: 0.5742 - acc: 0.7058 - val_loss: 0.5577 - val_acc: 0.6734\n",
      "Epoch 15/150\n",
      "150/150 [==============================] - 37s 246ms/step - loss: 0.5608 - acc: 0.7145 - val_loss: 0.5674 - val_acc: 0.6836\n",
      "Epoch 16/150\n",
      "150/150 [==============================] - 37s 247ms/step - loss: 0.5742 - acc: 0.6977 - val_loss: 0.5560 - val_acc: 0.6714\n",
      "Epoch 17/150\n",
      "150/150 [==============================] - 36s 240ms/step - loss: 0.5634 - acc: 0.7244 - val_loss: 0.5591 - val_acc: 0.6755\n",
      "Epoch 18/150\n",
      "150/150 [==============================] - 36s 243ms/step - loss: 0.5757 - acc: 0.6930 - val_loss: 0.5685 - val_acc: 0.6815\n",
      "Epoch 19/150\n",
      "150/150 [==============================] - 36s 241ms/step - loss: 0.5701 - acc: 0.7084 - val_loss: 0.5522 - val_acc: 0.6856\n",
      "Epoch 20/150\n",
      "150/150 [==============================] - 35s 235ms/step - loss: 0.5715 - acc: 0.7075 - val_loss: 0.5597 - val_acc: 0.6795\n",
      "Epoch 21/150\n",
      "150/150 [==============================] - 36s 241ms/step - loss: 0.5617 - acc: 0.7091 - val_loss: 0.5733 - val_acc: 0.6673\n",
      "Epoch 22/150\n",
      "150/150 [==============================] - 37s 246ms/step - loss: 0.5643 - acc: 0.7185 - val_loss: 0.5570 - val_acc: 0.6815\n",
      "Epoch 23/150\n",
      "150/150 [==============================] - 38s 250ms/step - loss: 0.5668 - acc: 0.6997 - val_loss: 0.5557 - val_acc: 0.6876\n",
      "Epoch 24/150\n",
      "150/150 [==============================] - 36s 239ms/step - loss: 0.5652 - acc: 0.7049 - val_loss: 0.5670 - val_acc: 0.6734\n",
      "Epoch 25/150\n",
      "150/150 [==============================] - 36s 241ms/step - loss: 0.5680 - acc: 0.6991 - val_loss: 0.5639 - val_acc: 0.6755\n",
      "Epoch 26/150\n",
      "150/150 [==============================] - 36s 238ms/step - loss: 0.5689 - acc: 0.7098 - val_loss: 0.5517 - val_acc: 0.6917\n",
      "Epoch 27/150\n",
      "150/150 [==============================] - 36s 238ms/step - loss: 0.5711 - acc: 0.7105 - val_loss: 0.5614 - val_acc: 0.6795\n",
      "Epoch 28/150\n",
      "150/150 [==============================] - 36s 240ms/step - loss: 0.5645 - acc: 0.7035 - val_loss: 0.5566 - val_acc: 0.6856\n",
      "Epoch 29/150\n",
      "150/150 [==============================] - 36s 240ms/step - loss: 0.5721 - acc: 0.6913 - val_loss: 0.5688 - val_acc: 0.6815\n",
      "Epoch 30/150\n",
      "150/150 [==============================] - 38s 251ms/step - loss: 0.5668 - acc: 0.7001 - val_loss: 0.5580 - val_acc: 0.6795\n",
      "Epoch 31/150\n",
      "150/150 [==============================] - 36s 242ms/step - loss: 0.5658 - acc: 0.7111 - val_loss: 0.5647 - val_acc: 0.6755\n",
      "Epoch 32/150\n",
      "150/150 [==============================] - 36s 241ms/step - loss: 0.5714 - acc: 0.7031 - val_loss: 0.5647 - val_acc: 0.6673\n",
      "Epoch 33/150\n",
      "150/150 [==============================] - 36s 240ms/step - loss: 0.5673 - acc: 0.7089 - val_loss: 0.5548 - val_acc: 0.6937\n",
      "Epoch 34/150\n",
      "150/150 [==============================] - 37s 245ms/step - loss: 0.5694 - acc: 0.6971 - val_loss: 0.5594 - val_acc: 0.6775\n",
      "Epoch 35/150\n",
      "150/150 [==============================] - 36s 241ms/step - loss: 0.5737 - acc: 0.7055 - val_loss: 0.5597 - val_acc: 0.6775\n",
      "Epoch 36/150\n",
      "150/150 [==============================] - 36s 240ms/step - loss: 0.5735 - acc: 0.7033 - val_loss: 0.5623 - val_acc: 0.6795\n",
      "Epoch 37/150\n",
      "150/150 [==============================] - 36s 239ms/step - loss: 0.5749 - acc: 0.7001 - val_loss: 0.5655 - val_acc: 0.6714\n",
      "Epoch 38/150\n",
      "150/150 [==============================] - 35s 236ms/step - loss: 0.5658 - acc: 0.7051 - val_loss: 0.5695 - val_acc: 0.6694\n",
      "Epoch 39/150\n",
      "150/150 [==============================] - 35s 236ms/step - loss: 0.5739 - acc: 0.6957 - val_loss: 0.5558 - val_acc: 0.6775\n",
      "Epoch 40/150\n",
      "150/150 [==============================] - 36s 239ms/step - loss: 0.5694 - acc: 0.7109 - val_loss: 0.5597 - val_acc: 0.6815\n",
      "Epoch 41/150\n",
      "150/150 [==============================] - 35s 231ms/step - loss: 0.5724 - acc: 0.7044 - val_loss: 0.5613 - val_acc: 0.6775\n",
      "Epoch 42/150\n",
      "150/150 [==============================] - 35s 235ms/step - loss: 0.5633 - acc: 0.7084 - val_loss: 0.5490 - val_acc: 0.6795\n",
      "Epoch 43/150\n",
      "150/150 [==============================] - 36s 239ms/step - loss: 0.5705 - acc: 0.7062 - val_loss: 0.5570 - val_acc: 0.6836\n",
      "Epoch 44/150\n",
      "150/150 [==============================] - 36s 243ms/step - loss: 0.5684 - acc: 0.7158 - val_loss: 0.5624 - val_acc: 0.6815\n",
      "Epoch 45/150\n",
      "150/150 [==============================] - 36s 240ms/step - loss: 0.5597 - acc: 0.7138 - val_loss: 0.5575 - val_acc: 0.6775\n",
      "Epoch 46/150\n",
      "150/150 [==============================] - 36s 241ms/step - loss: 0.5753 - acc: 0.6997 - val_loss: 0.5531 - val_acc: 0.6815\n",
      "Epoch 47/150\n",
      "150/150 [==============================] - 36s 241ms/step - loss: 0.5604 - acc: 0.7143 - val_loss: 0.5577 - val_acc: 0.6856\n",
      "Epoch 48/150\n",
      "150/150 [==============================] - 36s 242ms/step - loss: 0.5696 - acc: 0.6937 - val_loss: 0.5622 - val_acc: 0.6714-\n",
      "Epoch 49/150\n",
      "150/150 [==============================] - 36s 242ms/step - loss: 0.5630 - acc: 0.7091 - val_loss: 0.5507 - val_acc: 0.6836\n",
      "Epoch 50/150\n",
      "150/150 [==============================] - 36s 241ms/step - loss: 0.5708 - acc: 0.7042 - val_loss: 0.5503 - val_acc: 0.6856\n",
      "Epoch 51/150\n",
      "150/150 [==============================] - 37s 247ms/step - loss: 0.5562 - acc: 0.7167 - val_loss: 0.5551 - val_acc: 0.6917\n",
      "Epoch 52/150\n",
      "150/150 [==============================] - 36s 240ms/step - loss: 0.5725 - acc: 0.7046 - val_loss: 0.5587 - val_acc: 0.6795\n",
      "Epoch 53/150\n",
      "150/150 [==============================] - 35s 235ms/step - loss: 0.5678 - acc: 0.7027 - val_loss: 0.5557 - val_acc: 0.6775\n",
      "Epoch 54/150\n",
      "150/150 [==============================] - 36s 242ms/step - loss: 0.5731 - acc: 0.7001 - val_loss: 0.5595 - val_acc: 0.6734\n",
      "Epoch 55/150\n",
      "150/150 [==============================] - 35s 234ms/step - loss: 0.5644 - acc: 0.7084 - val_loss: 0.5565 - val_acc: 0.6795\n",
      "Epoch 56/150\n",
      "150/150 [==============================] - 37s 250ms/step - loss: 0.5640 - acc: 0.7163 - val_loss: 0.5508 - val_acc: 0.6876\n",
      "Epoch 57/150\n",
      "150/150 [==============================] - 36s 239ms/step - loss: 0.5730 - acc: 0.7020 - val_loss: 0.5662 - val_acc: 0.6694\n",
      "Epoch 58/150\n",
      "150/150 [==============================] - 42s 279ms/step - loss: 0.5755 - acc: 0.6920 - val_loss: 0.5670 - val_acc: 0.6673\n",
      "Epoch 59/150\n",
      "150/150 [==============================] - 62s 416ms/step - loss: 0.5583 - acc: 0.7151 - val_loss: 0.5588 - val_acc: 0.6714\n",
      "Epoch 60/150\n",
      "150/150 [==============================] - 72s 481ms/step - loss: 0.5686 - acc: 0.6937 - val_loss: 0.5525 - val_acc: 0.6856\n",
      "Epoch 61/150\n",
      "150/150 [==============================] - 72s 477ms/step - loss: 0.5726 - acc: 0.6968 - val_loss: 0.5606 - val_acc: 0.6734\n",
      "Epoch 62/150\n",
      "150/150 [==============================] - 57s 378ms/step - loss: 0.5589 - acc: 0.7178 - val_loss: 0.5659 - val_acc: 0.6653\n",
      "Epoch 63/150\n",
      "150/150 [==============================] - 54s 362ms/step - loss: 0.5661 - acc: 0.7109 - val_loss: 0.5501 - val_acc: 0.6815\n",
      "Epoch 64/150\n",
      "150/150 [==============================] - 54s 360ms/step - loss: 0.5678 - acc: 0.6950 - val_loss: 0.5476 - val_acc: 0.6937\n",
      "Epoch 65/150\n",
      "150/150 [==============================] - 55s 367ms/step - loss: 0.5692 - acc: 0.7058 - val_loss: 0.5586 - val_acc: 0.6775\n",
      "Epoch 66/150\n",
      "150/150 [==============================] - 54s 362ms/step - loss: 0.5683 - acc: 0.6957 - val_loss: 0.5618 - val_acc: 0.6714\n",
      "Epoch 67/150\n",
      "150/150 [==============================] - 54s 361ms/step - loss: 0.5740 - acc: 0.7042 - val_loss: 0.5521 - val_acc: 0.6876\n",
      "Epoch 68/150\n",
      "150/150 [==============================] - 55s 364ms/step - loss: 0.5663 - acc: 0.7067 - val_loss: 0.5618 - val_acc: 0.6714\n",
      "Epoch 69/150\n",
      "150/150 [==============================] - 55s 365ms/step - loss: 0.5661 - acc: 0.6941 - val_loss: 0.5622 - val_acc: 0.6815\n",
      "Epoch 70/150\n",
      "150/150 [==============================] - 48s 323ms/step - loss: 0.5672 - acc: 0.7024 - val_loss: 0.5549 - val_acc: 0.6815\n",
      "Epoch 71/150\n",
      "150/150 [==============================] - 49s 328ms/step - loss: 0.5675 - acc: 0.7131 - val_loss: 0.5565 - val_acc: 0.6836\n",
      "Epoch 72/150\n",
      "150/150 [==============================] - 48s 323ms/step - loss: 0.5621 - acc: 0.7044 - val_loss: 0.5560 - val_acc: 0.6815\n",
      "Epoch 73/150\n",
      "150/150 [==============================] - 49s 326ms/step - loss: 0.5752 - acc: 0.6981 - val_loss: 0.5558 - val_acc: 0.6815\n",
      "Epoch 74/150\n",
      "150/150 [==============================] - 49s 324ms/step - loss: 0.5743 - acc: 0.7118 - val_loss: 0.5616 - val_acc: 0.6795\n",
      "Epoch 75/150\n",
      "150/150 [==============================] - 49s 329ms/step - loss: 0.5717 - acc: 0.6924 - val_loss: 0.5586 - val_acc: 0.6795\n",
      "Epoch 76/150\n",
      "150/150 [==============================] - 50s 331ms/step - loss: 0.5676 - acc: 0.7217 - val_loss: 0.5575 - val_acc: 0.6815\n",
      "Epoch 77/150\n",
      "150/150 [==============================] - 49s 329ms/step - loss: 0.5571 - acc: 0.7178 - val_loss: 0.5508 - val_acc: 0.6836\n",
      "Epoch 78/150\n",
      "150/150 [==============================] - 49s 325ms/step - loss: 0.5628 - acc: 0.6984 - val_loss: 0.5526 - val_acc: 0.6815\n",
      "Epoch 79/150\n",
      "150/150 [==============================] - 48s 321ms/step - loss: 0.5614 - acc: 0.7151 - val_loss: 0.5497 - val_acc: 0.6897\n",
      "Epoch 80/150\n",
      "150/150 [==============================] - 49s 326ms/step - loss: 0.5617 - acc: 0.7143 - val_loss: 0.5486 - val_acc: 0.6714\n",
      "Epoch 81/150\n",
      "150/150 [==============================] - 49s 325ms/step - loss: 0.5676 - acc: 0.6971 - val_loss: 0.5664 - val_acc: 0.6836\n",
      "Epoch 82/150\n",
      "150/150 [==============================] - 48s 320ms/step - loss: 0.5579 - acc: 0.7272 - val_loss: 0.5505 - val_acc: 0.6815\n",
      "Epoch 83/150\n",
      "150/150 [==============================] - 49s 326ms/step - loss: 0.5602 - acc: 0.7038 - val_loss: 0.5669 - val_acc: 0.6633\n",
      "Epoch 84/150\n",
      "150/150 [==============================] - 48s 322ms/step - loss: 0.5824 - acc: 0.6941 - val_loss: 0.5600 - val_acc: 0.6775\n",
      "Epoch 85/150\n",
      "150/150 [==============================] - 49s 327ms/step - loss: 0.5580 - acc: 0.7239 - val_loss: 0.5595 - val_acc: 0.6836\n",
      "Epoch 86/150\n",
      "150/150 [==============================] - 48s 320ms/step - loss: 0.5644 - acc: 0.6977 - val_loss: 0.5572 - val_acc: 0.6775\n",
      "Epoch 87/150\n",
      "150/150 [==============================] - 49s 326ms/step - loss: 0.5779 - acc: 0.6984 - val_loss: 0.5576 - val_acc: 0.6734\n",
      "Epoch 88/150\n",
      "150/150 [==============================] - 48s 321ms/step - loss: 0.5747 - acc: 0.7028 - val_loss: 0.5538 - val_acc: 0.6815\n",
      "Epoch 89/150\n",
      "150/150 [==============================] - 49s 323ms/step - loss: 0.5734 - acc: 0.7017 - val_loss: 0.5669 - val_acc: 0.6572\n",
      "Epoch 90/150\n",
      "150/150 [==============================] - 50s 331ms/step - loss: 0.5661 - acc: 0.7178 - val_loss: 0.5513 - val_acc: 0.6856\n",
      "Epoch 91/150\n",
      "150/150 [==============================] - 79s 525ms/step - loss: 0.5519 - acc: 0.7197 - val_loss: 0.5621 - val_acc: 0.6775\n",
      "Epoch 92/150\n",
      "150/150 [==============================] - 174s 1s/step - loss: 0.5709 - acc: 0.6984 - val_loss: 0.5607 - val_acc: 0.6775\n",
      "Epoch 93/150\n",
      "150/150 [==============================] - 131s 872ms/step - loss: 0.5605 - acc: 0.7163 - val_loss: 0.5527 - val_acc: 0.6734\n",
      "Epoch 94/150\n",
      "150/150 [==============================] - 71s 476ms/step - loss: 0.5702 - acc: 0.6997 - val_loss: 0.5569 - val_acc: 0.6694\n",
      "Epoch 95/150\n",
      "150/150 [==============================] - 35s 236ms/step - loss: 0.5471 - acc: 0.7265 - val_loss: 0.5573 - val_acc: 0.6775\n",
      "Epoch 96/150\n",
      "150/150 [==============================] - 35s 236ms/step - loss: 0.5694 - acc: 0.7091 - val_loss: 0.5408 - val_acc: 0.6815\n",
      "Epoch 97/150\n",
      "150/150 [==============================] - 35s 231ms/step - loss: 0.5651 - acc: 0.7024 - val_loss: 0.5575 - val_acc: 0.6795\n",
      "Epoch 98/150\n",
      "150/150 [==============================] - 35s 232ms/step - loss: 0.5652 - acc: 0.7129 - val_loss: 0.5633 - val_acc: 0.6815\n",
      "Epoch 99/150\n",
      "150/150 [==============================] - 34s 225ms/step - loss: 0.5606 - acc: 0.7098 - val_loss: 0.5554 - val_acc: 0.6795\n",
      "Epoch 100/150\n",
      "150/150 [==============================] - 35s 236ms/step - loss: 0.5743 - acc: 0.6977 - val_loss: 0.5541 - val_acc: 0.6876\n",
      "Epoch 101/150\n",
      "150/150 [==============================] - 34s 229ms/step - loss: 0.5606 - acc: 0.7118 - val_loss: 0.5599 - val_acc: 0.6694\n",
      "Epoch 102/150\n",
      "150/150 [==============================] - 35s 232ms/step - loss: 0.5743 - acc: 0.6900 - val_loss: 0.5650 - val_acc: 0.6775\n",
      "Epoch 103/150\n",
      "150/150 [==============================] - 35s 232ms/step - loss: 0.5557 - acc: 0.7259 - val_loss: 0.5543 - val_acc: 0.6957\n",
      "Epoch 104/150\n",
      "150/150 [==============================] - 34s 229ms/step - loss: 0.5661 - acc: 0.7111 - val_loss: 0.5593 - val_acc: 0.6653\n",
      "Epoch 105/150\n",
      "150/150 [==============================] - 34s 227ms/step - loss: 0.5590 - acc: 0.7151 - val_loss: 0.5613 - val_acc: 0.6694\n",
      "Epoch 106/150\n",
      "150/150 [==============================] - 36s 238ms/step - loss: 0.5541 - acc: 0.7271 - val_loss: 0.5486 - val_acc: 0.6917\n",
      "Epoch 107/150\n",
      "150/150 [==============================] - 35s 233ms/step - loss: 0.5667 - acc: 0.7105 - val_loss: 0.5547 - val_acc: 0.6836\n",
      "Epoch 108/150\n",
      "150/150 [==============================] - 35s 232ms/step - loss: 0.5652 - acc: 0.7131 - val_loss: 0.5547 - val_acc: 0.6795\n",
      "Epoch 109/150\n",
      "150/150 [==============================] - 35s 236ms/step - loss: 0.5769 - acc: 0.7051 - val_loss: 0.5572 - val_acc: 0.6897\n",
      "Epoch 110/150\n",
      "150/150 [==============================] - 35s 234ms/step - loss: 0.5599 - acc: 0.7217 - val_loss: 0.5617 - val_acc: 0.6856\n",
      "Epoch 111/150\n",
      "150/150 [==============================] - 35s 231ms/step - loss: 0.5713 - acc: 0.6984 - val_loss: 0.5445 - val_acc: 0.6957\n",
      "Epoch 112/150\n",
      "150/150 [==============================] - 36s 238ms/step - loss: 0.5675 - acc: 0.7091 - val_loss: 0.5464 - val_acc: 0.6917\n",
      "Epoch 113/150\n",
      "150/150 [==============================] - 34s 226ms/step - loss: 0.5731 - acc: 0.7022 - val_loss: 0.5559 - val_acc: 0.6957\n",
      "Epoch 114/150\n",
      "150/150 [==============================] - 35s 233ms/step - loss: 0.5564 - acc: 0.7111 - val_loss: 0.5596 - val_acc: 0.6876\n",
      "Epoch 115/150\n",
      "150/150 [==============================] - 35s 232ms/step - loss: 0.5748 - acc: 0.6947 - val_loss: 0.5541 - val_acc: 0.6815\n",
      "Epoch 116/150\n",
      "150/150 [==============================] - 35s 236ms/step - loss: 0.5684 - acc: 0.6980 - val_loss: 0.5550 - val_acc: 0.6815\n",
      "Epoch 117/150\n",
      "150/150 [==============================] - 34s 227ms/step - loss: 0.5506 - acc: 0.7311 - val_loss: 0.5475 - val_acc: 0.6998\n",
      "Epoch 118/150\n",
      "150/150 [==============================] - 34s 226ms/step - loss: 0.5689 - acc: 0.7017 - val_loss: 0.5495 - val_acc: 0.6836\n",
      "Epoch 119/150\n",
      "150/150 [==============================] - 34s 227ms/step - loss: 0.5684 - acc: 0.7017 - val_loss: 0.5604 - val_acc: 0.6775\n",
      "Epoch 120/150\n",
      "150/150 [==============================] - 34s 230ms/step - loss: 0.5685 - acc: 0.6988 - val_loss: 0.5575 - val_acc: 0.6815\n",
      "Epoch 121/150\n",
      "150/150 [==============================] - 36s 240ms/step - loss: 0.5571 - acc: 0.7118 - val_loss: 0.5505 - val_acc: 0.6815\n",
      "Epoch 122/150\n",
      "150/150 [==============================] - 35s 234ms/step - loss: 0.5650 - acc: 0.7051 - val_loss: 0.5508 - val_acc: 0.6897\n",
      "Epoch 123/150\n",
      "150/150 [==============================] - 35s 232ms/step - loss: 0.5689 - acc: 0.6991 - val_loss: 0.5537 - val_acc: 0.6795\n",
      "Epoch 124/150\n",
      "150/150 [==============================] - 35s 231ms/step - loss: 0.5714 - acc: 0.7008 - val_loss: 0.5582 - val_acc: 0.6957\n",
      "Epoch 125/150\n",
      "150/150 [==============================] - 34s 230ms/step - loss: 0.5542 - acc: 0.7232 - val_loss: 0.5619 - val_acc: 0.6937\n",
      "Epoch 126/150\n",
      "150/150 [==============================] - 34s 229ms/step - loss: 0.5546 - acc: 0.7298 - val_loss: 0.5506 - val_acc: 0.6856\n",
      "Epoch 127/150\n",
      "150/150 [==============================] - 32s 215ms/step - loss: 0.5605 - acc: 0.7033 - val_loss: 0.5588 - val_acc: 0.6836\n",
      "Epoch 128/150\n",
      "150/150 [==============================] - 29s 191ms/step - loss: 0.5656 - acc: 0.7058 - val_loss: 0.5594 - val_acc: 0.6815\n",
      "Epoch 129/150\n",
      "150/150 [==============================] - 27s 182ms/step - loss: 0.5610 - acc: 0.7075 - val_loss: 0.5493 - val_acc: 0.6836\n",
      "Epoch 130/150\n",
      "150/150 [==============================] - 27s 180ms/step - loss: 0.5568 - acc: 0.7151 - val_loss: 0.5477 - val_acc: 0.6978\n",
      "Epoch 131/150\n",
      "150/150 [==============================] - 27s 177ms/step - loss: 0.5746 - acc: 0.6927 - val_loss: 0.5574 - val_acc: 0.6957\n",
      "Epoch 132/150\n",
      "150/150 [==============================] - 25s 164ms/step - loss: 0.5551 - acc: 0.7145 - val_loss: 0.5649 - val_acc: 0.6815\n",
      "Epoch 133/150\n",
      "150/150 [==============================] - 26s 170ms/step - loss: 0.5686 - acc: 0.7051 - val_loss: 0.5481 - val_acc: 0.6998\n",
      "Epoch 134/150\n",
      "150/150 [==============================] - 27s 178ms/step - loss: 0.5668 - acc: 0.6981 - val_loss: 0.5545 - val_acc: 0.6957\n",
      "Epoch 135/150\n",
      "150/150 [==============================] - 27s 180ms/step - loss: 0.5706 - acc: 0.7111 - val_loss: 0.5549 - val_acc: 0.6815\n",
      "Epoch 136/150\n",
      "150/150 [==============================] - 28s 184ms/step - loss: 0.5705 - acc: 0.6960 - val_loss: 0.5461 - val_acc: 0.6998\n",
      "Epoch 137/150\n",
      "150/150 [==============================] - 28s 187ms/step - loss: 0.5613 - acc: 0.7237 - val_loss: 0.5446 - val_acc: 0.6957\n",
      "Epoch 138/150\n",
      "150/150 [==============================] - 29s 194ms/step - loss: 0.5627 - acc: 0.7102 - val_loss: 0.5526 - val_acc: 0.6917\n",
      "Epoch 139/150\n",
      "150/150 [==============================] - 31s 204ms/step - loss: 0.5704 - acc: 0.7038 - val_loss: 0.5523 - val_acc: 0.6957\n",
      "Epoch 140/150\n",
      "150/150 [==============================] - 32s 212ms/step - loss: 0.5669 - acc: 0.7051 - val_loss: 0.5710 - val_acc: 0.6836\n",
      "Epoch 141/150\n",
      "150/150 [==============================] - 34s 225ms/step - loss: 0.5691 - acc: 0.6954 - val_loss: 0.5525 - val_acc: 0.6836\n",
      "Epoch 142/150\n",
      "150/150 [==============================] - 35s 234ms/step - loss: 0.5620 - acc: 0.7044 - val_loss: 0.5426 - val_acc: 0.6957\n",
      "Epoch 143/150\n",
      "150/150 [==============================] - 35s 231ms/step - loss: 0.5784 - acc: 0.6964 - val_loss: 0.5609 - val_acc: 0.6836\n",
      "Epoch 144/150\n",
      "150/150 [==============================] - 35s 231ms/step - loss: 0.5552 - acc: 0.7131 - val_loss: 0.5581 - val_acc: 0.6917\n",
      "Epoch 145/150\n",
      "150/150 [==============================] - 37s 245ms/step - loss: 0.5665 - acc: 0.7064 - val_loss: 0.5558 - val_acc: 0.6978\n",
      "Epoch 146/150\n",
      "150/150 [==============================] - 37s 245ms/step - loss: 0.5627 - acc: 0.7116 - val_loss: 0.5476 - val_acc: 0.6856\n",
      "Epoch 147/150\n",
      "150/150 [==============================] - 36s 239ms/step - loss: 0.5589 - acc: 0.7111 - val_loss: 0.5633 - val_acc: 0.6694\n",
      "Epoch 148/150\n",
      "150/150 [==============================] - 38s 252ms/step - loss: 0.5497 - acc: 0.7259 - val_loss: 0.5548 - val_acc: 0.6937s - loss: 0.5448 - acc: \n",
      "Epoch 149/150\n",
      "150/150 [==============================] - 37s 246ms/step - loss: 0.5649 - acc: 0.7111 - val_loss: 0.5552 - val_acc: 0.6755\n",
      "Epoch 150/150\n",
      "150/150 [==============================] - 37s 248ms/step - loss: 0.5515 - acc: 0.7156 - val_loss: 0.5543 - val_acc: 0.68569 - ETA: 3s - loss: 0.5544 - acc: 0 - ETA: 2s - loss: 0.553\n"
     ]
    }
   ],
   "source": [
    "#train the model again with partially unfrozen model\n",
    "model.compile(loss='binary_crossentropy',\n",
    "              optimizer=optimizers.Adam(lr=1e-8),\n",
    "              metrics=['acc'])\n",
    "\n",
    "\n",
    "history = model.fit_generator(\n",
    "      train_generator,\n",
    "      steps_per_epoch=150,\n",
    "      epochs=150,\n",
    "      validation_data=validation_generator,\n",
    "      validation_steps=50)"
   ]
  },
  {
   "cell_type": "code",
   "execution_count": 155,
   "metadata": {},
   "outputs": [
    {
     "data": {
      "image/png": "[encoded data removed]",
      "text/plain": [
       "<Figure size 432x288 with 1 Axes>"
      ]
     },
     "metadata": {
      "needs_background": "light"
     },
     "output_type": "display_data"
    },
    {
     "data": {
      "image/png": "[encoded data removed]",
      "text/plain": [
       "<Figure size 432x288 with 1 Axes>"
      ]
     },
     "metadata": {
      "needs_background": "light"
     },
     "output_type": "display_data"
    }
   ],
   "source": [
    "#checking the result of the model.\n",
    "\n",
    "acc = history.history['acc']\n",
    "val_acc = history.history['val_acc']\n",
    "loss = history.history['loss']\n",
    "val_loss = history.history['val_loss']\n",
    "\n",
    "epochs = range(len(acc))\n",
    "\n",
    "plt.plot(epochs, acc, 'bo', label = 'Training acc')\n",
    "plt.plot(epochs, val_acc, 'b', label='Validation acc')\n",
    "plt.title('Training and validation accuracy')\n",
    "plt.legend()\n",
    "\n",
    "plt.figure()\n",
    "\n",
    "plt.plot(epochs, loss, 'bo', label='Training loss')\n",
    "plt.plot(epochs, val_loss, 'b', label='Validation loss')\n",
    "plt.title('Training and validation loss')\n",
    "plt.legend()\n",
    "\n",
    "plt.show()"
   ]
  },
  {
   "cell_type": "code",
   "execution_count": 156,
   "metadata": {},
   "outputs": [
    {
     "name": "stdout",
     "output_type": "stream",
     "text": [
      "test acc: 0.6786885\n",
      "test loss: 0.6077135282754899\n"
     ]
    }
   ],
   "source": [
    "test_loss, test_acc = model.evaluate_generator(test_generator, steps=50)\n",
    "print('test acc:', test_acc) \n",
    "print('test loss:', test_loss)\n",
    "#got the about the same accuracy as the validation."
   ]
  },
  {
   "cell_type": "code",
   "execution_count": 125,
   "metadata": {},
   "outputs": [
    {
     "name": "stdout",
     "output_type": "stream",
     "text": [
      "Saved: model_VGG_finetuned.h5\n"
     ]
    }
   ],
   "source": [
    "#saving model for future use\n",
    "filename = 'model_VGG_finetuned.h5'\n",
    "model.save(filename)\n",
    "print('Saved: %s' % filename)"
   ]
  },
  {
   "cell_type": "code",
   "execution_count": null,
   "metadata": {},
   "outputs": [],
   "source": []
  }
 ],
 "metadata": {
  "kernelspec": {
   "display_name": "Python 3",
   "language": "python",
   "name": "python3"
  },
  "language_info": {
   "codemirror_mode": {
    "name": "ipython",
    "version": 3
   },
   "file_extension": ".py",
   "mimetype": "text/x-python",
   "name": "python",
   "nbconvert_exporter": "python",
   "pygments_lexer": "ipython3",
   "version": "3.6.8"
  }
 },
 "nbformat": 4,
 "nbformat_minor": 2
}
