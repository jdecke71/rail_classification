{
 "cells": [
  {
   "cell_type": "code",
   "execution_count": 1,
   "metadata": {},
   "outputs": [],
   "source": [
    "import pandas as pd\n",
    "import geopandas as gpd\n",
    "import matplotlib.pyplot as plt\n",
    "from shapely.geometry import mapping\n",
    "import folium\n",
    "import gmaps\n",
    "import os\n",
    "import requests\n",
    "import shutil"
   ]
  },
  {
   "cell_type": "code",
   "execution_count": 2,
   "metadata": {},
   "outputs": [],
   "source": [
    "with open('../resources/key.txt') as f:\n",
    "    token = f.read()\n",
    "    \n",
    "gmaps.configure(api_key = token)"
   ]
  },
  {
   "cell_type": "code",
   "execution_count": 50,
   "metadata": {},
   "outputs": [],
   "source": [
    "'''\n",
    "Set local I/O\n",
    "'''\n",
    "\n",
    "# Set folder and filename for rail GIS file\n",
    "rail_folder = '../data/railways/Amtrak_Routes/'\n",
    "rail_file = rail_folder+'Amtrak_Routes.shp'\n",
    "\n",
    "# Set folder and filename for rail CSV file\n",
    "output_folder = '../data/output_images/Amtrak/'\n",
    "output_csv = output_folder+'AMT.csv'\n",
    "\n",
    "# Set folder for new images\n",
    "image_folder = output_folder+'set_3/'"
   ]
  },
  {
   "cell_type": "markdown",
   "metadata": {},
   "source": [
    "### Import Routes"
   ]
  },
  {
   "cell_type": "code",
   "execution_count": 51,
   "metadata": {
    "scrolled": true
   },
   "outputs": [
    {
     "data": {
      "text/html": [
       "<div>\n",
       "<style scoped>\n",
       "    .dataframe tbody tr th:only-of-type {\n",
       "        vertical-align: middle;\n",
       "    }\n",
       "\n",
       "    .dataframe tbody tr th {\n",
       "        vertical-align: top;\n",
       "    }\n",
       "\n",
       "    .dataframe thead th {\n",
       "        text-align: right;\n",
       "    }\n",
       "</style>\n",
       "<table border=\"1\" class=\"dataframe\">\n",
       "  <thead>\n",
       "    <tr style=\"text-align: right;\">\n",
       "      <th></th>\n",
       "      <th>OBJECTID</th>\n",
       "      <th>NAME</th>\n",
       "      <th>Shape_Leng</th>\n",
       "      <th>ShapeSTLen</th>\n",
       "      <th>geometry</th>\n",
       "    </tr>\n",
       "  </thead>\n",
       "  <tbody>\n",
       "    <tr>\n",
       "      <th>0</th>\n",
       "      <td>1</td>\n",
       "      <td>Acela</td>\n",
       "      <td>7.410105e+05</td>\n",
       "      <td>9.779207e+05</td>\n",
       "      <td>(LINESTRING (-77.01421252564722 38.88359551476...</td>\n",
       "    </tr>\n",
       "    <tr>\n",
       "      <th>1</th>\n",
       "      <td>2</td>\n",
       "      <td>Adirondack</td>\n",
       "      <td>6.156754e+05</td>\n",
       "      <td>8.437497e+05</td>\n",
       "      <td>(LINESTRING (-73.74197100078742 42.64026759195...</td>\n",
       "    </tr>\n",
       "    <tr>\n",
       "      <th>2</th>\n",
       "      <td>3</td>\n",
       "      <td>Auto Train</td>\n",
       "      <td>1.474024e+06</td>\n",
       "      <td>1.776112e+06</td>\n",
       "      <td>(LINESTRING (-81.3176960592689 28.758923120780...</td>\n",
       "    </tr>\n",
       "    <tr>\n",
       "      <th>3</th>\n",
       "      <td>4</td>\n",
       "      <td>Blue Water</td>\n",
       "      <td>5.114384e+05</td>\n",
       "      <td>6.939223e+05</td>\n",
       "      <td>(LINESTRING (-87.63609509602139 41.81771709246...</td>\n",
       "    </tr>\n",
       "    <tr>\n",
       "      <th>4</th>\n",
       "      <td>5</td>\n",
       "      <td>California Zephyr</td>\n",
       "      <td>4.313889e+06</td>\n",
       "      <td>5.672842e+06</td>\n",
       "      <td>(LINESTRING (-108.5558964471134 39.06262618765...</td>\n",
       "    </tr>\n",
       "  </tbody>\n",
       "</table>\n",
       "</div>"
      ],
      "text/plain": [
       "   OBJECTID               NAME    Shape_Leng    ShapeSTLen  \\\n",
       "0         1              Acela  7.410105e+05  9.779207e+05   \n",
       "1         2         Adirondack  6.156754e+05  8.437497e+05   \n",
       "2         3         Auto Train  1.474024e+06  1.776112e+06   \n",
       "3         4         Blue Water  5.114384e+05  6.939223e+05   \n",
       "4         5  California Zephyr  4.313889e+06  5.672842e+06   \n",
       "\n",
       "                                            geometry  \n",
       "0  (LINESTRING (-77.01421252564722 38.88359551476...  \n",
       "1  (LINESTRING (-73.74197100078742 42.64026759195...  \n",
       "2  (LINESTRING (-81.3176960592689 28.758923120780...  \n",
       "3  (LINESTRING (-87.63609509602139 41.81771709246...  \n",
       "4  (LINESTRING (-108.5558964471134 39.06262618765...  "
      ]
     },
     "execution_count": 51,
     "metadata": {},
     "output_type": "execute_result"
    }
   ],
   "source": [
    "routes = gpd.read_file(rail_file)\n",
    "routes = routes.to_crs({'init' :'epsg:4269'})\n",
    "routes.head()"
   ]
  },
  {
   "cell_type": "code",
   "execution_count": 42,
   "metadata": {},
   "outputs": [
    {
     "data": {
      "text/plain": [
       "(6, 6)"
      ]
     },
     "execution_count": 42,
     "metadata": {},
     "output_type": "execute_result"
    }
   ],
   "source": [
    "routes.shape"
   ]
  },
  {
   "cell_type": "code",
   "execution_count": 53,
   "metadata": {},
   "outputs": [
    {
     "name": "stdout",
     "output_type": "stream",
     "text": [
      "608944 points\n"
     ]
    }
   ],
   "source": [
    "'''\n",
    "Get all points\n",
    "'''\n",
    "\n",
    "points = []\n",
    "rows = routes.index.tolist()\n",
    "\n",
    "geom_types = routes['geometry'].tolist()\n",
    "for i in rows:\n",
    "    try:\n",
    "        route = routes.loc[i]\n",
    "        if route.geometry.geom_type == 'LineString':\n",
    "            g = route.geometry\n",
    "            sec_points = mapping(g)[\"coordinates\"]\n",
    "            for j in sec_points:\n",
    "                tmp = (j[0],j[1])\n",
    "                points.append(tmp)\n",
    "        elif route.geometry.geom_type == 'MultiLineString':\n",
    "            g = route.geometry\n",
    "            tmp = mapping(g)[\"coordinates\"]\n",
    "            for sec_points in tmp:\n",
    "                for j in sec_points:\n",
    "                    tmp = (j[0],j[1])\n",
    "                    points.append(tmp)\n",
    "    except Exception as e:\n",
    "        print(\"Skipped route number\",i,'because',e)        \n",
    "        \n",
    "    \n",
    "print(len(points),'points')   "
   ]
  },
  {
   "cell_type": "code",
   "execution_count": 54,
   "metadata": {},
   "outputs": [
    {
     "name": "stdout",
     "output_type": "stream",
     "text": [
      "9792 points\n"
     ]
    }
   ],
   "source": [
    "'''\n",
    "Get points for 1 or more routes\n",
    "'''\n",
    "\n",
    "rows = [1]\n",
    "\n",
    "points = []\n",
    "\n",
    "geom_types = routes['geometry'].tolist()\n",
    "for i in rows:\n",
    "    try:\n",
    "        route = routes.loc[i]\n",
    "        if route.geometry.geom_type == 'LineString':\n",
    "            g = route.geometry\n",
    "            sec_points = mapping(g)[\"coordinates\"]\n",
    "            for j in sec_points:\n",
    "                tmp = (j[0],j[1])\n",
    "                points.append(tmp)\n",
    "        elif route.geometry.geom_type == 'MultiLineString':\n",
    "            g = route.geometry\n",
    "            tmp = mapping(g)[\"coordinates\"]\n",
    "            for sec_points in tmp:\n",
    "                for j in sec_points:\n",
    "                    tmp = (j[0],j[1])\n",
    "                    points.append(tmp)\n",
    "    except Exception as e:\n",
    "        print(\"Skipped route number\",i,'because',e)        \n",
    "        \n",
    "    \n",
    "print(len(points),'points')"
   ]
  },
  {
   "cell_type": "markdown",
   "metadata": {},
   "source": [
    "##### Get nth number"
   ]
  },
  {
   "cell_type": "code",
   "execution_count": 55,
   "metadata": {},
   "outputs": [
    {
     "data": {
      "text/html": [
       "<div>\n",
       "<style scoped>\n",
       "    .dataframe tbody tr th:only-of-type {\n",
       "        vertical-align: middle;\n",
       "    }\n",
       "\n",
       "    .dataframe tbody tr th {\n",
       "        vertical-align: top;\n",
       "    }\n",
       "\n",
       "    .dataframe thead th {\n",
       "        text-align: right;\n",
       "    }\n",
       "</style>\n",
       "<table border=\"1\" class=\"dataframe\">\n",
       "  <thead>\n",
       "    <tr style=\"text-align: right;\">\n",
       "      <th></th>\n",
       "      <th>Name</th>\n",
       "      <th>Longitude</th>\n",
       "      <th>Latitude</th>\n",
       "      <th>Catenary</th>\n",
       "    </tr>\n",
       "  </thead>\n",
       "  <tbody>\n",
       "    <tr>\n",
       "      <th>0</th>\n",
       "      <td>-71.0986135186152_42.32525050375276</td>\n",
       "      <td>-71.098614</td>\n",
       "      <td>42.325251</td>\n",
       "      <td>1</td>\n",
       "    </tr>\n",
       "    <tr>\n",
       "      <th>1</th>\n",
       "      <td>-71.1537173899704_42.160718367371224</td>\n",
       "      <td>-71.153717</td>\n",
       "      <td>42.160718</td>\n",
       "      <td>1</td>\n",
       "    </tr>\n",
       "    <tr>\n",
       "      <th>2</th>\n",
       "      <td>-71.28022732996062_41.94747480732387</td>\n",
       "      <td>-71.280227</td>\n",
       "      <td>41.947475</td>\n",
       "      <td>1</td>\n",
       "    </tr>\n",
       "    <tr>\n",
       "      <th>3</th>\n",
       "      <td>-71.41494832260199_41.84486643575766</td>\n",
       "      <td>-71.414948</td>\n",
       "      <td>41.844866</td>\n",
       "      <td>1</td>\n",
       "    </tr>\n",
       "    <tr>\n",
       "      <th>4</th>\n",
       "      <td>-71.42193732420859_41.78370544868109</td>\n",
       "      <td>-71.421937</td>\n",
       "      <td>41.783705</td>\n",
       "      <td>1</td>\n",
       "    </tr>\n",
       "  </tbody>\n",
       "</table>\n",
       "</div>"
      ],
      "text/plain": [
       "                                   Name  Longitude   Latitude  Catenary\n",
       "0   -71.0986135186152_42.32525050375276 -71.098614  42.325251         1\n",
       "1  -71.1537173899704_42.160718367371224 -71.153717  42.160718         1\n",
       "2  -71.28022732996062_41.94747480732387 -71.280227  41.947475         1\n",
       "3  -71.41494832260199_41.84486643575766 -71.414948  41.844866         1\n",
       "4  -71.42193732420859_41.78370544868109 -71.421937  41.783705         1"
      ]
     },
     "execution_count": 55,
     "metadata": {},
     "output_type": "execute_result"
    }
   ],
   "source": [
    "'''\n",
    "Open csv with current points\n",
    "'''\n",
    "\n",
    "curr_df = pd.read_csv(output_csv)\n",
    "curr_df.head()"
   ]
  },
  {
   "cell_type": "code",
   "execution_count": 58,
   "metadata": {},
   "outputs": [
    {
     "name": "stdout",
     "output_type": "stream",
     "text": [
      "104\n"
     ]
    }
   ],
   "source": [
    "'''\n",
    "Get subselection of points excuding current points\n",
    "'''\n",
    "rows = curr_df.index.tolist()\n",
    "curr_points = []\n",
    "for row in rows:\n",
    "    tmp = curr_df.iloc[row].Name\n",
    "    space = tmp.find('_') \n",
    "    longitude = tmp[:space]\n",
    "    latitude = tmp[space+1:]\n",
    "    curr_points.append((longitude,latitude))\n",
    "\n",
    "route_points = []\n",
    "for point in range(0,len(points),95):\n",
    "    tmp = points[point]\n",
    "    if tmp not in curr_points:\n",
    "        route_points.append(tmp)\n",
    "\n",
    "print(len(route_points))"
   ]
  },
  {
   "cell_type": "code",
   "execution_count": 59,
   "metadata": {},
   "outputs": [
    {
     "data": {
      "text/html": [
       "<div>\n",
       "<style scoped>\n",
       "    .dataframe tbody tr th:only-of-type {\n",
       "        vertical-align: middle;\n",
       "    }\n",
       "\n",
       "    .dataframe tbody tr th {\n",
       "        vertical-align: top;\n",
       "    }\n",
       "\n",
       "    .dataframe thead th {\n",
       "        text-align: right;\n",
       "    }\n",
       "</style>\n",
       "<table border=\"1\" class=\"dataframe\">\n",
       "  <thead>\n",
       "    <tr style=\"text-align: right;\">\n",
       "      <th></th>\n",
       "      <th>Name</th>\n",
       "      <th>Longitude</th>\n",
       "      <th>Latitude</th>\n",
       "    </tr>\n",
       "  </thead>\n",
       "  <tbody>\n",
       "    <tr>\n",
       "      <th>0</th>\n",
       "      <td>-73.74197100078742_42.6402675919547</td>\n",
       "      <td>-73.741971</td>\n",
       "      <td>42.640268</td>\n",
       "    </tr>\n",
       "    <tr>\n",
       "      <th>1</th>\n",
       "      <td>-73.75778418127769_42.529043187624474</td>\n",
       "      <td>-73.757784</td>\n",
       "      <td>42.529043</td>\n",
       "    </tr>\n",
       "    <tr>\n",
       "      <th>2</th>\n",
       "      <td>-73.78037619083574_42.400564289420146</td>\n",
       "      <td>-73.780376</td>\n",
       "      <td>42.400564</td>\n",
       "    </tr>\n",
       "    <tr>\n",
       "      <th>3</th>\n",
       "      <td>-73.77634552202112_42.346381421677485</td>\n",
       "      <td>-73.776346</td>\n",
       "      <td>42.346381</td>\n",
       "    </tr>\n",
       "    <tr>\n",
       "      <th>4</th>\n",
       "      <td>-73.78150610437652_42.27707356676576</td>\n",
       "      <td>-73.781506</td>\n",
       "      <td>42.277074</td>\n",
       "    </tr>\n",
       "  </tbody>\n",
       "</table>\n",
       "</div>"
      ],
      "text/plain": [
       "                                    Name  Longitude   Latitude\n",
       "0    -73.74197100078742_42.6402675919547 -73.741971  42.640268\n",
       "1  -73.75778418127769_42.529043187624474 -73.757784  42.529043\n",
       "2  -73.78037619083574_42.400564289420146 -73.780376  42.400564\n",
       "3  -73.77634552202112_42.346381421677485 -73.776346  42.346381\n",
       "4   -73.78150610437652_42.27707356676576 -73.781506  42.277074"
      ]
     },
     "execution_count": 59,
     "metadata": {},
     "output_type": "execute_result"
    }
   ],
   "source": [
    "'''\n",
    "Create dataframe\n",
    "'''\n",
    "\n",
    "df = pd.DataFrame(route_points, columns=['Longitude','Latitude'])\n",
    "\n",
    "tmp = list(df.Latitude.tolist())\n",
    "names = []\n",
    "for i in range(0,len(tmp)):\n",
    "    name = str(df.iloc[i].Longitude)+'_'+str(df.iloc[i].Latitude)\n",
    "    names.append(name)\n",
    "\n",
    "df['Name'] = names\n",
    "\n",
    "columns = ['Name','Longitude','Latitude']\n",
    "df= df[columns]\n",
    "\n",
    "df.head()"
   ]
  },
  {
   "cell_type": "code",
   "execution_count": 60,
   "metadata": {
    "scrolled": false
   },
   "outputs": [
    {
     "data": {
      "text/html": [
       "<div style=\"width:100%;\"><div style=\"position:relative;width:100%;height:0;padding-bottom:60%;\"><iframe src=\"data:text/html;charset=utf-8;base64,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\" style=\"position:absolute;width:100%;height:100%;left:0;top:0;border:none !important;\" allowfullscreen webkitallowfullscreen mozallowfullscreen></iframe></div></div>"
      ],
      "text/plain": [
       "<folium.folium.Map at 0x11c04dac8>"
      ]
     },
     "execution_count": 60,
     "metadata": {},
     "output_type": "execute_result"
    }
   ],
   "source": [
    "'''\n",
    "Plot markers\n",
    "'''\n",
    "\n",
    "rows = df.index.tolist()\n",
    "\n",
    "marker_points = []\n",
    "for row in rows:\n",
    "    marker_points.append((df.iloc[row].Latitude,df.iloc[row].Longitude))\n",
    "    \n",
    "# Set map centerpoint\n",
    "coords = marker_points[0]\n",
    "       \n",
    "# Define map\n",
    "m = folium.Map(\n",
    "    location = coords,\n",
    "    zoom_start = 13\n",
    ")\n",
    "  \n",
    "# Add points    \n",
    "for mp in marker_points:\n",
    "    folium.Marker(mp).add_to(m)\n",
    "m"
   ]
  },
  {
   "cell_type": "code",
   "execution_count": 24,
   "metadata": {},
   "outputs": [
    {
     "data": {
      "application/vnd.jupyter.widget-view+json": {
       "model_id": "1a599a86d14e450180160dafdc12ba19",
       "version_major": 2,
       "version_minor": 0
      },
      "text/plain": [
       "Figure(layout=FigureLayout(height='800px', width='100%'))"
      ]
     },
     "metadata": {},
     "output_type": "display_data"
    }
   ],
   "source": [
    "'''\n",
    "Get satellite preview for image\n",
    "'''\n",
    "\n",
    "row = 1\n",
    "\n",
    "figure_layout = {\n",
    "    'width': '100%',\n",
    "    'height': '800px'\n",
    "}\n",
    "# fig = gmaps.figure(center = (df.iloc[row].Latitude,df.iloc[row].Longitude), zoom_level = 19,map_type='SATELLITE',layout=figure_layout)\n",
    "fig = gmaps.figure(center = (list(routes[routes['sub_type']=='1'].iloc[5].geometry.coords)[0][1],\n",
    "                            list(routes[routes['sub_type']=='1'].iloc[5].geometry.coords)[0][0]), zoom_level = 19,map_type='SATELLITE',layout=figure_layout)\n",
    "\n",
    "fig"
   ]
  },
  {
   "cell_type": "code",
   "execution_count": 61,
   "metadata": {},
   "outputs": [],
   "source": [
    "'''\n",
    "Export points\n",
    "'''\n",
    "\n",
    "# Update\n",
    "with open(output_csv, 'a') as f:\n",
    "    df.to_csv(f, header=False,index=None)\n",
    "\n",
    "# Write new\n",
    "# df.to_csv(output_csv,header=True,index=None)"
   ]
  },
  {
   "cell_type": "code",
   "execution_count": 62,
   "metadata": {},
   "outputs": [],
   "source": [
    "'''\n",
    "Get all images \n",
    "'''\n",
    "\n",
    "root = os.path.dirname(os.path.abspath('Collection.ipynb'))\n",
    "img_folder = root[:-9]+image_folder[3:]\n",
    "img_folder\n",
    "\n",
    "url = 'https://maps.googleapis.com/maps/api/staticmap?'\n",
    "rows = df.index.tolist()\n",
    "for i in range(0,len(rows)):\n",
    "    row = df.iloc[i]\n",
    "    center = str(row.Latitude)+','+str(row.Longitude)\n",
    "    payload = {\n",
    "        'center': center, \n",
    "        'zoom': 20,\n",
    "        'size': '640x640',\n",
    "        'scale': 2,\n",
    "        'format': 'png32',\n",
    "        'maptype': 'satellite',\n",
    "        'key': token\n",
    "    }\n",
    "    \n",
    "    r = requests.get(url,params=payload,stream=True)\n",
    "\n",
    "    name = df.iloc[i]['Name']\n",
    "    filename = img_folder+name+'.png'\n",
    "    if r.status_code == 200:\n",
    "        with open(filename, 'wb') as f:\n",
    "            r.raw.decode_content = True\n",
    "            shutil.copyfileobj(r.raw, f) \n",
    "    else:\n",
    "        print(r.status_code)"
   ]
  },
  {
   "cell_type": "code",
   "execution_count": null,
   "metadata": {},
   "outputs": [],
   "source": []
  }
 ],
 "metadata": {
  "kernelspec": {
   "display_name": "Python 3",
   "language": "python",
   "name": "python3"
  },
  "language_info": {
   "codemirror_mode": {
    "name": "ipython",
    "version": 3
   },
   "file_extension": ".py",
   "mimetype": "text/x-python",
   "name": "python",
   "nbconvert_exporter": "python",
   "pygments_lexer": "ipython3",
   "version": "3.7.3"
  }
 },
 "nbformat": 4,
 "nbformat_minor": 2
}
