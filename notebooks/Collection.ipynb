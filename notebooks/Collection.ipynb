{
 "cells": [
  {
   "cell_type": "code",
   "execution_count": 1,
   "metadata": {},
   "outputs": [],
   "source": [
    "import pandas as pd\n",
    "import geopandas as gpd\n",
    "import matplotlib.pyplot as plt\n",
    "from shapely.geometry import mapping\n",
    "import folium\n",
    "import gmaps\n",
    "import os\n",
    "import requests\n",
    "import shutil"
   ]
  },
  {
   "cell_type": "code",
   "execution_count": 2,
   "metadata": {},
   "outputs": [],
   "source": [
    "with open('../resources/key.txt') as f:\n",
    "    token = f.read()\n",
    "    \n",
    "gmaps.configure(api_key = token)"
   ]
  },
  {
   "cell_type": "code",
   "execution_count": 15,
   "metadata": {},
   "outputs": [],
   "source": [
    "'''\n",
    "Set local I/O\n",
    "'''\n",
    "\n",
    "# Set folder and filename for rail GIS file\n",
    "rail_folder = '../data/railways/LAMR/merged/'\n",
    "rail_file = rail_folder+'LAMR.shp'\n",
    "\n",
    "# Set folder and filename for rail CSV file\n",
    "output_folder = '../data/output_images/LosAngelesMR/'\n",
    "output_csv = output_folder+'LAA.csv'\n",
    "\n",
    "# Set folder for new images\n",
    "image_folder = output_folder+'set_3/'"
   ]
  },
  {
   "cell_type": "markdown",
   "metadata": {},
   "source": [
    "### Import Routes"
   ]
  },
  {
   "cell_type": "code",
   "execution_count": 16,
   "metadata": {
    "scrolled": true
   },
   "outputs": [
    {
     "data": {
      "text/html": [
       "<div>\n",
       "<style scoped>\n",
       "    .dataframe tbody tr th:only-of-type {\n",
       "        vertical-align: middle;\n",
       "    }\n",
       "\n",
       "    .dataframe tbody tr th {\n",
       "        vertical-align: top;\n",
       "    }\n",
       "\n",
       "    .dataframe thead th {\n",
       "        text-align: right;\n",
       "    }\n",
       "</style>\n",
       "<table border=\"1\" class=\"dataframe\">\n",
       "  <thead>\n",
       "    <tr style=\"text-align: right;\">\n",
       "      <th></th>\n",
       "      <th>Id</th>\n",
       "      <th>OBJECTID</th>\n",
       "      <th>SHAPE_Leng</th>\n",
       "      <th>layer</th>\n",
       "      <th>path</th>\n",
       "      <th>geometry</th>\n",
       "    </tr>\n",
       "  </thead>\n",
       "  <tbody>\n",
       "    <tr>\n",
       "      <th>0</th>\n",
       "      <td>0.0</td>\n",
       "      <td>NaN</td>\n",
       "      <td>NaN</td>\n",
       "      <td>801_Track_0316</td>\n",
       "      <td>/Users/jessedecker/projects/rail_classificatio...</td>\n",
       "      <td>LINESTRING (-118.1893707098661 33.777799051058...</td>\n",
       "    </tr>\n",
       "    <tr>\n",
       "      <th>1</th>\n",
       "      <td>0.0</td>\n",
       "      <td>NaN</td>\n",
       "      <td>NaN</td>\n",
       "      <td>801_Track_0316</td>\n",
       "      <td>/Users/jessedecker/projects/rail_classificatio...</td>\n",
       "      <td>LINESTRING (-118.1937438467048 33.776128475602...</td>\n",
       "    </tr>\n",
       "    <tr>\n",
       "      <th>2</th>\n",
       "      <td>0.0</td>\n",
       "      <td>NaN</td>\n",
       "      <td>NaN</td>\n",
       "      <td>801_Track_0316</td>\n",
       "      <td>/Users/jessedecker/projects/rail_classificatio...</td>\n",
       "      <td>LINESTRING (-118.1937438467048 33.776128475602...</td>\n",
       "    </tr>\n",
       "    <tr>\n",
       "      <th>3</th>\n",
       "      <td>0.0</td>\n",
       "      <td>NaN</td>\n",
       "      <td>NaN</td>\n",
       "      <td>801_Track_0316</td>\n",
       "      <td>/Users/jessedecker/projects/rail_classificatio...</td>\n",
       "      <td>LINESTRING (-118.1937425194715 33.768454143462...</td>\n",
       "    </tr>\n",
       "    <tr>\n",
       "      <th>4</th>\n",
       "      <td>0.0</td>\n",
       "      <td>NaN</td>\n",
       "      <td>NaN</td>\n",
       "      <td>801_Track_0316</td>\n",
       "      <td>/Users/jessedecker/projects/rail_classificatio...</td>\n",
       "      <td>LINESTRING (-118.1929738864244 33.767995720331...</td>\n",
       "    </tr>\n",
       "  </tbody>\n",
       "</table>\n",
       "</div>"
      ],
      "text/plain": [
       "    Id  OBJECTID  SHAPE_Leng           layer  \\\n",
       "0  0.0       NaN         NaN  801_Track_0316   \n",
       "1  0.0       NaN         NaN  801_Track_0316   \n",
       "2  0.0       NaN         NaN  801_Track_0316   \n",
       "3  0.0       NaN         NaN  801_Track_0316   \n",
       "4  0.0       NaN         NaN  801_Track_0316   \n",
       "\n",
       "                                                path  \\\n",
       "0  /Users/jessedecker/projects/rail_classificatio...   \n",
       "1  /Users/jessedecker/projects/rail_classificatio...   \n",
       "2  /Users/jessedecker/projects/rail_classificatio...   \n",
       "3  /Users/jessedecker/projects/rail_classificatio...   \n",
       "4  /Users/jessedecker/projects/rail_classificatio...   \n",
       "\n",
       "                                            geometry  \n",
       "0  LINESTRING (-118.1893707098661 33.777799051058...  \n",
       "1  LINESTRING (-118.1937438467048 33.776128475602...  \n",
       "2  LINESTRING (-118.1937438467048 33.776128475602...  \n",
       "3  LINESTRING (-118.1937425194715 33.768454143462...  \n",
       "4  LINESTRING (-118.1929738864244 33.767995720331...  "
      ]
     },
     "execution_count": 16,
     "metadata": {},
     "output_type": "execute_result"
    }
   ],
   "source": [
    "routes = gpd.read_file(rail_file)\n",
    "routes = routes.to_crs({'init' :'epsg:4269'})\n",
    "routes.head()"
   ]
  },
  {
   "cell_type": "code",
   "execution_count": 5,
   "metadata": {},
   "outputs": [
    {
     "data": {
      "text/plain": [
       "(84, 5)"
      ]
     },
     "execution_count": 5,
     "metadata": {},
     "output_type": "execute_result"
    }
   ],
   "source": [
    "routes.shape"
   ]
  },
  {
   "cell_type": "code",
   "execution_count": 17,
   "metadata": {},
   "outputs": [
    {
     "name": "stdout",
     "output_type": "stream",
     "text": [
      "9515 points\n"
     ]
    }
   ],
   "source": [
    "'''\n",
    "Get all points\n",
    "'''\n",
    "\n",
    "points = []\n",
    "rows = routes.index.tolist()\n",
    "\n",
    "geom_types = routes['geometry'].tolist()\n",
    "for i in rows:\n",
    "    try:\n",
    "        route = routes.loc[i]\n",
    "        if route.geometry.geom_type == 'LineString':\n",
    "            g = route.geometry\n",
    "            sec_points = mapping(g)[\"coordinates\"]\n",
    "            for j in sec_points:\n",
    "                tmp = (j[0],j[1])\n",
    "                points.append(tmp)\n",
    "        elif route.geometry.geom_type == 'MultiLineString':\n",
    "            g = route.geometry\n",
    "            tmp = mapping(g)[\"coordinates\"]\n",
    "            for sec_points in tmp:\n",
    "                for j in sec_points:\n",
    "                    tmp = (j[0],j[1])\n",
    "                    points.append(tmp)\n",
    "    except Exception as e:\n",
    "        print(\"Skipped route number\",i,'because',e)        \n",
    "        \n",
    "    \n",
    "print(len(points),'points')   "
   ]
  },
  {
   "cell_type": "code",
   "execution_count": 54,
   "metadata": {},
   "outputs": [
    {
     "name": "stdout",
     "output_type": "stream",
     "text": [
      "9792 points\n"
     ]
    }
   ],
   "source": [
    "'''\n",
    "Get points for 1 or more routes\n",
    "'''\n",
    "\n",
    "rows = [1]\n",
    "\n",
    "points = []\n",
    "\n",
    "geom_types = routes['geometry'].tolist()\n",
    "for i in rows:\n",
    "    try:\n",
    "        route = routes.loc[i]\n",
    "        if route.geometry.geom_type == 'LineString':\n",
    "            g = route.geometry\n",
    "            sec_points = mapping(g)[\"coordinates\"]\n",
    "            for j in sec_points:\n",
    "                tmp = (j[0],j[1])\n",
    "                points.append(tmp)\n",
    "        elif route.geometry.geom_type == 'MultiLineString':\n",
    "            g = route.geometry\n",
    "            tmp = mapping(g)[\"coordinates\"]\n",
    "            for sec_points in tmp:\n",
    "                for j in sec_points:\n",
    "                    tmp = (j[0],j[1])\n",
    "                    points.append(tmp)\n",
    "    except Exception as e:\n",
    "        print(\"Skipped route number\",i,'because',e)        \n",
    "        \n",
    "    \n",
    "print(len(points),'points')"
   ]
  },
  {
   "cell_type": "markdown",
   "metadata": {},
   "source": [
    "##### Get nth number"
   ]
  },
  {
   "cell_type": "code",
   "execution_count": 18,
   "metadata": {},
   "outputs": [
    {
     "data": {
      "text/html": [
       "<div>\n",
       "<style scoped>\n",
       "    .dataframe tbody tr th:only-of-type {\n",
       "        vertical-align: middle;\n",
       "    }\n",
       "\n",
       "    .dataframe tbody tr th {\n",
       "        vertical-align: top;\n",
       "    }\n",
       "\n",
       "    .dataframe thead th {\n",
       "        text-align: right;\n",
       "    }\n",
       "</style>\n",
       "<table border=\"1\" class=\"dataframe\">\n",
       "  <thead>\n",
       "    <tr style=\"text-align: right;\">\n",
       "      <th></th>\n",
       "      <th>Name</th>\n",
       "      <th>Longitude</th>\n",
       "      <th>Latitude</th>\n",
       "      <th>Catenary</th>\n",
       "    </tr>\n",
       "  </thead>\n",
       "  <tbody>\n",
       "    <tr>\n",
       "      <th>0</th>\n",
       "      <td>-117.91040193411446_34.13467863417091</td>\n",
       "      <td>-117.910402</td>\n",
       "      <td>34.134679</td>\n",
       "      <td>0</td>\n",
       "    </tr>\n",
       "    <tr>\n",
       "      <th>1</th>\n",
       "      <td>-117.92753120066565_34.12962536413221</td>\n",
       "      <td>-117.927531</td>\n",
       "      <td>34.129625</td>\n",
       "      <td>0</td>\n",
       "    </tr>\n",
       "    <tr>\n",
       "      <th>2</th>\n",
       "      <td>-117.96668931179072_34.132550459539395</td>\n",
       "      <td>-117.966689</td>\n",
       "      <td>34.132550</td>\n",
       "      <td>0</td>\n",
       "    </tr>\n",
       "    <tr>\n",
       "      <th>3</th>\n",
       "      <td>-117.99040536288051_34.13243703485112</td>\n",
       "      <td>-117.990405</td>\n",
       "      <td>34.132437</td>\n",
       "      <td>1</td>\n",
       "    </tr>\n",
       "    <tr>\n",
       "      <th>4</th>\n",
       "      <td>-117.99120183319282_34.13449350348269</td>\n",
       "      <td>-117.991202</td>\n",
       "      <td>34.134493</td>\n",
       "      <td>1</td>\n",
       "    </tr>\n",
       "  </tbody>\n",
       "</table>\n",
       "</div>"
      ],
      "text/plain": [
       "                                     Name   Longitude   Latitude  Catenary\n",
       "0   -117.91040193411446_34.13467863417091 -117.910402  34.134679         0\n",
       "1   -117.92753120066565_34.12962536413221 -117.927531  34.129625         0\n",
       "2  -117.96668931179072_34.132550459539395 -117.966689  34.132550         0\n",
       "3   -117.99040536288051_34.13243703485112 -117.990405  34.132437         1\n",
       "4   -117.99120183319282_34.13449350348269 -117.991202  34.134493         1"
      ]
     },
     "execution_count": 18,
     "metadata": {},
     "output_type": "execute_result"
    }
   ],
   "source": [
    "'''\n",
    "Open csv with current points\n",
    "'''\n",
    "\n",
    "curr_df = pd.read_csv(output_csv)\n",
    "curr_df.head()"
   ]
  },
  {
   "cell_type": "code",
   "execution_count": 21,
   "metadata": {},
   "outputs": [
    {
     "name": "stdout",
     "output_type": "stream",
     "text": [
      "101\n"
     ]
    }
   ],
   "source": [
    "'''\n",
    "Get subselection of points excuding current points\n",
    "'''\n",
    "rows = curr_df.index.tolist()\n",
    "curr_points = []\n",
    "for row in rows:\n",
    "    tmp = curr_df.iloc[row].Name\n",
    "    space = tmp.find('_') \n",
    "    longitude = tmp[:space]\n",
    "    latitude = tmp[space+1:]\n",
    "    curr_points.append((longitude,latitude))\n",
    "\n",
    "route_points = []\n",
    "for point in range(0,len(points),95):\n",
    "    tmp = points[point]\n",
    "    if tmp not in curr_points:\n",
    "        route_points.append(tmp)\n",
    "\n",
    "print(len(route_points))"
   ]
  },
  {
   "cell_type": "code",
   "execution_count": 22,
   "metadata": {},
   "outputs": [
    {
     "data": {
      "text/html": [
       "<div>\n",
       "<style scoped>\n",
       "    .dataframe tbody tr th:only-of-type {\n",
       "        vertical-align: middle;\n",
       "    }\n",
       "\n",
       "    .dataframe tbody tr th {\n",
       "        vertical-align: top;\n",
       "    }\n",
       "\n",
       "    .dataframe thead th {\n",
       "        text-align: right;\n",
       "    }\n",
       "</style>\n",
       "<table border=\"1\" class=\"dataframe\">\n",
       "  <thead>\n",
       "    <tr style=\"text-align: right;\">\n",
       "      <th></th>\n",
       "      <th>Name</th>\n",
       "      <th>Longitude</th>\n",
       "      <th>Latitude</th>\n",
       "    </tr>\n",
       "  </thead>\n",
       "  <tbody>\n",
       "    <tr>\n",
       "      <th>0</th>\n",
       "      <td>-118.18937070986607_33.777799051058786</td>\n",
       "      <td>-118.189371</td>\n",
       "      <td>33.777799</td>\n",
       "    </tr>\n",
       "    <tr>\n",
       "      <th>1</th>\n",
       "      <td>-118.243363765737_33.99830163525223</td>\n",
       "      <td>-118.243364</td>\n",
       "      <td>33.998302</td>\n",
       "    </tr>\n",
       "    <tr>\n",
       "      <th>2</th>\n",
       "      <td>-118.24320991534833_33.96775139460449</td>\n",
       "      <td>-118.243210</td>\n",
       "      <td>33.967751</td>\n",
       "    </tr>\n",
       "    <tr>\n",
       "      <th>3</th>\n",
       "      <td>-118.22500642637812_33.903869763483534</td>\n",
       "      <td>-118.225006</td>\n",
       "      <td>33.903870</td>\n",
       "    </tr>\n",
       "    <tr>\n",
       "      <th>4</th>\n",
       "      <td>-118.1917648035579_33.81121925785609</td>\n",
       "      <td>-118.191765</td>\n",
       "      <td>33.811219</td>\n",
       "    </tr>\n",
       "  </tbody>\n",
       "</table>\n",
       "</div>"
      ],
      "text/plain": [
       "                                     Name   Longitude   Latitude\n",
       "0  -118.18937070986607_33.777799051058786 -118.189371  33.777799\n",
       "1     -118.243363765737_33.99830163525223 -118.243364  33.998302\n",
       "2   -118.24320991534833_33.96775139460449 -118.243210  33.967751\n",
       "3  -118.22500642637812_33.903869763483534 -118.225006  33.903870\n",
       "4    -118.1917648035579_33.81121925785609 -118.191765  33.811219"
      ]
     },
     "execution_count": 22,
     "metadata": {},
     "output_type": "execute_result"
    }
   ],
   "source": [
    "'''\n",
    "Create dataframe\n",
    "'''\n",
    "\n",
    "df = pd.DataFrame(route_points, columns=['Longitude','Latitude'])\n",
    "\n",
    "tmp = list(df.Latitude.tolist())\n",
    "names = []\n",
    "for i in range(0,len(tmp)):\n",
    "    name = str(df.iloc[i].Longitude)+'_'+str(df.iloc[i].Latitude)\n",
    "    names.append(name)\n",
    "\n",
    "df['Name'] = names\n",
    "\n",
    "columns = ['Name','Longitude','Latitude']\n",
    "df= df[columns]\n",
    "\n",
    "df.head()"
   ]
  },
  {
   "cell_type": "code",
   "execution_count": 23,
   "metadata": {
    "scrolled": false
   },
   "outputs": [
    {
     "data": {
      "text/html": [
       "<div style=\"width:100%;\"><div style=\"position:relative;width:100%;height:0;padding-bottom:60%;\"><iframe src=\"data:text/html;charset=utf-8;base64,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\" style=\"position:absolute;width:100%;height:100%;left:0;top:0;border:none !important;\" allowfullscreen webkitallowfullscreen mozallowfullscreen></iframe></div></div>"
      ],
      "text/plain": [
       "<folium.folium.Map at 0x1174d7eb8>"
      ]
     },
     "execution_count": 23,
     "metadata": {},
     "output_type": "execute_result"
    }
   ],
   "source": [
    "'''\n",
    "Plot markers\n",
    "'''\n",
    "\n",
    "rows = df.index.tolist()\n",
    "\n",
    "marker_points = []\n",
    "for row in rows:\n",
    "    marker_points.append((df.iloc[row].Latitude,df.iloc[row].Longitude))\n",
    "    \n",
    "# Set map centerpoint\n",
    "coords = marker_points[0]\n",
    "       \n",
    "# Define map\n",
    "m = folium.Map(\n",
    "    location = coords,\n",
    "    zoom_start = 13\n",
    ")\n",
    "  \n",
    "# Add points    \n",
    "for mp in marker_points:\n",
    "    folium.Marker(mp).add_to(m)\n",
    "m"
   ]
  },
  {
   "cell_type": "code",
   "execution_count": 24,
   "metadata": {},
   "outputs": [
    {
     "data": {
      "application/vnd.jupyter.widget-view+json": {
       "model_id": "1a599a86d14e450180160dafdc12ba19",
       "version_major": 2,
       "version_minor": 0
      },
      "text/plain": [
       "Figure(layout=FigureLayout(height='800px', width='100%'))"
      ]
     },
     "metadata": {},
     "output_type": "display_data"
    }
   ],
   "source": [
    "'''\n",
    "Get satellite preview for image\n",
    "'''\n",
    "\n",
    "row = 1\n",
    "\n",
    "figure_layout = {\n",
    "    'width': '100%',\n",
    "    'height': '800px'\n",
    "}\n",
    "# fig = gmaps.figure(center = (df.iloc[row].Latitude,df.iloc[row].Longitude), zoom_level = 19,map_type='SATELLITE',layout=figure_layout)\n",
    "fig = gmaps.figure(center = (list(routes[routes['sub_type']=='1'].iloc[5].geometry.coords)[0][1],\n",
    "                            list(routes[routes['sub_type']=='1'].iloc[5].geometry.coords)[0][0]), zoom_level = 19,map_type='SATELLITE',layout=figure_layout)\n",
    "\n",
    "fig"
   ]
  },
  {
   "cell_type": "code",
   "execution_count": 24,
   "metadata": {},
   "outputs": [],
   "source": [
    "'''\n",
    "Export points\n",
    "'''\n",
    "# Write new\n",
    "# df.to_csv(output_csv,header=True,index=None)\n",
    "\n",
    "\n",
    "# Update\n",
    "with open(output_csv, 'a') as f:\n",
    "    df.to_csv(f, header=False,index=None)"
   ]
  },
  {
   "cell_type": "code",
   "execution_count": 25,
   "metadata": {},
   "outputs": [],
   "source": [
    "'''\n",
    "Get all images \n",
    "'''\n",
    "\n",
    "root = os.path.dirname(os.path.abspath('Collection.ipynb'))\n",
    "img_folder = root[:-9]+image_folder[3:]\n",
    "img_folder\n",
    "\n",
    "url = 'https://maps.googleapis.com/maps/api/staticmap?'\n",
    "rows = df.index.tolist()\n",
    "for i in range(0,len(rows)):\n",
    "    row = df.iloc[i]\n",
    "    center = str(row.Latitude)+','+str(row.Longitude)\n",
    "    payload = {\n",
    "        'center': center, \n",
    "        'zoom': 20,\n",
    "        'size': '640x640',\n",
    "        'scale': 2,\n",
    "        'format': 'png32',\n",
    "        'maptype': 'satellite',\n",
    "        'key': token\n",
    "    }\n",
    "    \n",
    "    r = requests.get(url,params=payload,stream=True)\n",
    "\n",
    "    name = df.iloc[i]['Name']\n",
    "    filename = img_folder+name+'.png'\n",
    "    if r.status_code == 200:\n",
    "        with open(filename, 'wb') as f:\n",
    "            r.raw.decode_content = True\n",
    "            shutil.copyfileobj(r.raw, f) \n",
    "    else:\n",
    "        print(r.status_code)"
   ]
  },
  {
   "cell_type": "code",
   "execution_count": null,
   "metadata": {},
   "outputs": [],
   "source": []
  }
 ],
 "metadata": {
  "kernelspec": {
   "display_name": "Python 3",
   "language": "python",
   "name": "python3"
  },
  "language_info": {
   "codemirror_mode": {
    "name": "ipython",
    "version": 3
   },
   "file_extension": ".py",
   "mimetype": "text/x-python",
   "name": "python",
   "nbconvert_exporter": "python",
   "pygments_lexer": "ipython3",
   "version": "3.7.3"
  }
 },
 "nbformat": 4,
 "nbformat_minor": 2
}
