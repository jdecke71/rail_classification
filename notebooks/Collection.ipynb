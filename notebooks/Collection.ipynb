{
 "cells": [
  {
   "cell_type": "code",
   "execution_count": 1,
   "metadata": {},
   "outputs": [],
   "source": [
    "import pandas as pd\n",
    "import geopandas as gpd\n",
    "import matplotlib.pyplot as plt\n",
    "from shapely.geometry import mapping\n",
    "import folium\n",
    "import gmaps\n",
    "import os\n",
    "import requests\n",
    "import shutil"
   ]
  },
  {
   "cell_type": "code",
   "execution_count": 2,
   "metadata": {},
   "outputs": [],
   "source": [
    "with open('../resources/key.txt') as f:\n",
    "    token = f.read()\n",
    "    \n",
    "gmaps.configure(api_key = token)"
   ]
  },
  {
   "cell_type": "code",
   "execution_count": 40,
   "metadata": {},
   "outputs": [],
   "source": [
    "'''\n",
    "Set local I/O\n",
    "'''\n",
    "\n",
    "# Set folder and filename for rail GIS file\n",
    "rail_folder = '../data/railways/global/AUS/'\n",
    "rail_file = rail_folder+'AUS.shp'\n",
    "\n",
    "# Set folder and filename for rail CSV file\n",
    "output_folder = '../data/output_images/Australia/'\n",
    "output_csv = output_folder+'AUS.csv'\n",
    "\n",
    "# Set folder for new images\n",
    "image_folder = output_folder+'set_3/'"
   ]
  },
  {
   "cell_type": "markdown",
   "metadata": {},
   "source": [
    "### Import Routes"
   ]
  },
  {
   "cell_type": "code",
   "execution_count": 47,
   "metadata": {
    "scrolled": true
   },
   "outputs": [
    {
     "data": {
      "text/html": [
       "<div>\n",
       "<style scoped>\n",
       "    .dataframe tbody tr th:only-of-type {\n",
       "        vertical-align: middle;\n",
       "    }\n",
       "\n",
       "    .dataframe tbody tr th {\n",
       "        vertical-align: top;\n",
       "    }\n",
       "\n",
       "    .dataframe thead th {\n",
       "        text-align: right;\n",
       "    }\n",
       "</style>\n",
       "<table border=\"1\" class=\"dataframe\">\n",
       "  <thead>\n",
       "    <tr style=\"text-align: right;\">\n",
       "      <th></th>\n",
       "      <th>Line</th>\n",
       "      <th>geometry</th>\n",
       "    </tr>\n",
       "  </thead>\n",
       "  <tbody>\n",
       "    <tr>\n",
       "      <th>0</th>\n",
       "      <td>2654260</td>\n",
       "      <td>LINESTRING (151.1964198 -33.868837, 151.196246...</td>\n",
       "    </tr>\n",
       "    <tr>\n",
       "      <th>1</th>\n",
       "      <td>2761538</td>\n",
       "      <td>LINESTRING (151.2010021 -33.8791125, 151.20067...</td>\n",
       "    </tr>\n",
       "    <tr>\n",
       "      <th>2</th>\n",
       "      <td>2949708</td>\n",
       "      <td>LINESTRING (151.2072229 -33.8803365, 151.20715...</td>\n",
       "    </tr>\n",
       "    <tr>\n",
       "      <th>3</th>\n",
       "      <td>3726276</td>\n",
       "      <td>LINESTRING (151.1928863 -33.8949456, 151.19359...</td>\n",
       "    </tr>\n",
       "    <tr>\n",
       "      <th>4</th>\n",
       "      <td>3999468</td>\n",
       "      <td>LINESTRING (150.3013847 -33.7289792, 150.30188...</td>\n",
       "    </tr>\n",
       "  </tbody>\n",
       "</table>\n",
       "</div>"
      ],
      "text/plain": [
       "      Line                                           geometry\n",
       "0  2654260  LINESTRING (151.1964198 -33.868837, 151.196246...\n",
       "1  2761538  LINESTRING (151.2010021 -33.8791125, 151.20067...\n",
       "2  2949708  LINESTRING (151.2072229 -33.8803365, 151.20715...\n",
       "3  3726276  LINESTRING (151.1928863 -33.8949456, 151.19359...\n",
       "4  3999468  LINESTRING (150.3013847 -33.7289792, 150.30188..."
      ]
     },
     "execution_count": 47,
     "metadata": {},
     "output_type": "execute_result"
    }
   ],
   "source": [
    "routes = gpd.read_file(rail_file)\n",
    "# routes = routes.to_crs({'init' :'epsg:4269'})\n",
    "routes.head()"
   ]
  },
  {
   "cell_type": "code",
   "execution_count": null,
   "metadata": {},
   "outputs": [],
   "source": []
  },
  {
   "cell_type": "code",
   "execution_count": 42,
   "metadata": {},
   "outputs": [
    {
     "data": {
      "text/plain": [
       "(41896, 2)"
      ]
     },
     "execution_count": 42,
     "metadata": {},
     "output_type": "execute_result"
    }
   ],
   "source": [
    "routes.shape"
   ]
  },
  {
   "cell_type": "code",
   "execution_count": 43,
   "metadata": {},
   "outputs": [
    {
     "name": "stdout",
     "output_type": "stream",
     "text": [
      "557284 points\n"
     ]
    }
   ],
   "source": [
    "'''\n",
    "Get all points\n",
    "'''\n",
    "\n",
    "points = []\n",
    "rows = routes.index.tolist()\n",
    "\n",
    "geom_types = routes['geometry'].tolist()\n",
    "for i in rows:\n",
    "    try:\n",
    "        route = routes.loc[i]\n",
    "        if route.geometry.geom_type == 'LineString':\n",
    "            g = route.geometry\n",
    "            sec_points = mapping(g)[\"coordinates\"]\n",
    "            for j in sec_points:\n",
    "                tmp = (j[0],j[1])\n",
    "                points.append(tmp)\n",
    "        elif route.geometry.geom_type == 'MultiLineString':\n",
    "            g = route.geometry\n",
    "            tmp = mapping(g)[\"coordinates\"]\n",
    "            for sec_points in tmp:\n",
    "                for j in sec_points:\n",
    "                    tmp = (j[0],j[1])\n",
    "                    points.append(tmp)\n",
    "    except Exception as e:\n",
    "        print(\"Skipped route number\",i,'because',e)        \n",
    "        \n",
    "    \n",
    "print(len(points),'points')   "
   ]
  },
  {
   "cell_type": "code",
   "execution_count": 26,
   "metadata": {},
   "outputs": [
    {
     "name": "stdout",
     "output_type": "stream",
     "text": [
      "Skipped route number 0 because 'LineString' object is not iterable\n",
      "0 points\n"
     ]
    }
   ],
   "source": [
    "'''\n",
    "Get points for 1 or more routes\n",
    "'''\n",
    "\n",
    "rows = [0]\n",
    "\n",
    "points = []\n",
    "for i in range(0,len(routes.OBJECTID.tolist())):\n",
    "    if i in rows:\n",
    "    #     print('Route',i)\n",
    "        try:\n",
    "            route = routes.iloc[i]\n",
    "            g = [m for m in route.geometry]\n",
    "    #         print('\\t',len(g),'sections')\n",
    "            for j in range(0,len(g)):\n",
    "    #             print('   section',j)\n",
    "                sec_points = mapping(g[j])[\"coordinates\"]\n",
    "                for k in range(0,len(sec_points)):\n",
    "    #                 print('      point',k)\n",
    "                    points.append(sec_points[k])\n",
    "        except Exception as e:\n",
    "            print(\"Skipped route number\",i,'because',e)\n",
    "\n",
    "print(len(points),'points')"
   ]
  },
  {
   "cell_type": "code",
   "execution_count": null,
   "metadata": {},
   "outputs": [],
   "source": [
    "'''\n",
    "Get points for single route/section\n",
    "'''\n",
    "\n",
    "row = 0\n",
    "section = 0\n",
    "\n",
    "points = []\n",
    "try:\n",
    "    route = routes.iloc[row]\n",
    "    g = [i for i in route.geometry]\n",
    "    len(g)\n",
    "\n",
    "    points = mapping(g[section])[\"coordinates\"]\n",
    "except Exception as e:\n",
    "    print(\"Skipped route number\",row,'because',e)\n",
    "    \n",
    "print(len(points),'points')"
   ]
  },
  {
   "cell_type": "markdown",
   "metadata": {},
   "source": [
    "##### Get nth number"
   ]
  },
  {
   "cell_type": "code",
   "execution_count": 44,
   "metadata": {},
   "outputs": [
    {
     "data": {
      "text/html": [
       "<div>\n",
       "<style scoped>\n",
       "    .dataframe tbody tr th:only-of-type {\n",
       "        vertical-align: middle;\n",
       "    }\n",
       "\n",
       "    .dataframe tbody tr th {\n",
       "        vertical-align: top;\n",
       "    }\n",
       "\n",
       "    .dataframe thead th {\n",
       "        text-align: right;\n",
       "    }\n",
       "</style>\n",
       "<table border=\"1\" class=\"dataframe\">\n",
       "  <thead>\n",
       "    <tr style=\"text-align: right;\">\n",
       "      <th></th>\n",
       "      <th>Name</th>\n",
       "      <th>Longitude</th>\n",
       "      <th>Latitude</th>\n",
       "      <th>Catenary</th>\n",
       "    </tr>\n",
       "  </thead>\n",
       "  <tbody>\n",
       "    <tr>\n",
       "      <th>0</th>\n",
       "      <td>151.1964198_-33.868837</td>\n",
       "      <td>151.196420</td>\n",
       "      <td>-33.868837</td>\n",
       "      <td>0</td>\n",
       "    </tr>\n",
       "    <tr>\n",
       "      <th>1</th>\n",
       "      <td>151.2070754_-33.8801401</td>\n",
       "      <td>151.207075</td>\n",
       "      <td>-33.880140</td>\n",
       "      <td>0</td>\n",
       "    </tr>\n",
       "    <tr>\n",
       "      <th>2</th>\n",
       "      <td>151.9480466_-27.573679499999997</td>\n",
       "      <td>151.948047</td>\n",
       "      <td>-27.573679</td>\n",
       "      <td>1</td>\n",
       "    </tr>\n",
       "    <tr>\n",
       "      <th>3</th>\n",
       "      <td>153.0118785_-27.5267477</td>\n",
       "      <td>153.011878</td>\n",
       "      <td>-27.526748</td>\n",
       "      <td>1</td>\n",
       "    </tr>\n",
       "    <tr>\n",
       "      <th>4</th>\n",
       "      <td>153.00315669999998_-27.5259447</td>\n",
       "      <td>153.003157</td>\n",
       "      <td>-27.525945</td>\n",
       "      <td>1</td>\n",
       "    </tr>\n",
       "  </tbody>\n",
       "</table>\n",
       "</div>"
      ],
      "text/plain": [
       "                              Name   Longitude   Latitude  Catenary\n",
       "0           151.1964198_-33.868837  151.196420 -33.868837         0\n",
       "1          151.2070754_-33.8801401  151.207075 -33.880140         0\n",
       "2  151.9480466_-27.573679499999997  151.948047 -27.573679         1\n",
       "3          153.0118785_-27.5267477  153.011878 -27.526748         1\n",
       "4   153.00315669999998_-27.5259447  153.003157 -27.525945         1"
      ]
     },
     "execution_count": 44,
     "metadata": {},
     "output_type": "execute_result"
    }
   ],
   "source": [
    "'''\n",
    "Open csv with current points\n",
    "'''\n",
    "\n",
    "curr_df = pd.read_csv(output_csv)\n",
    "curr_df.head()"
   ]
  },
  {
   "cell_type": "code",
   "execution_count": 57,
   "metadata": {},
   "outputs": [
    {
     "name": "stdout",
     "output_type": "stream",
     "text": [
      "160\n"
     ]
    }
   ],
   "source": [
    "'''\n",
    "Get subselection of points excuding current points\n",
    "'''\n",
    "rows = curr_df.index.tolist()\n",
    "curr_points = []\n",
    "for row in rows:\n",
    "    tmp = curr_df.iloc[row].Name\n",
    "    space = tmp.find('_') \n",
    "    longitude = tmp[:space]\n",
    "    latitude = tmp[space+1:]\n",
    "    curr_points.append((longitude,latitude))\n",
    "\n",
    "route_points = []\n",
    "for point in range(0,len(points),3500):\n",
    "    tmp = points[point]\n",
    "    if tmp not in curr_points:\n",
    "        route_points.append(tmp)\n",
    "\n",
    "print(len(route_points))"
   ]
  },
  {
   "cell_type": "code",
   "execution_count": 58,
   "metadata": {},
   "outputs": [
    {
     "data": {
      "text/html": [
       "<div>\n",
       "<style scoped>\n",
       "    .dataframe tbody tr th:only-of-type {\n",
       "        vertical-align: middle;\n",
       "    }\n",
       "\n",
       "    .dataframe tbody tr th {\n",
       "        vertical-align: top;\n",
       "    }\n",
       "\n",
       "    .dataframe thead th {\n",
       "        text-align: right;\n",
       "    }\n",
       "</style>\n",
       "<table border=\"1\" class=\"dataframe\">\n",
       "  <thead>\n",
       "    <tr style=\"text-align: right;\">\n",
       "      <th></th>\n",
       "      <th>Name</th>\n",
       "      <th>Longitude</th>\n",
       "      <th>Latitude</th>\n",
       "    </tr>\n",
       "  </thead>\n",
       "  <tbody>\n",
       "    <tr>\n",
       "      <th>0</th>\n",
       "      <td>151.1964198_-33.868837</td>\n",
       "      <td>151.196420</td>\n",
       "      <td>-33.868837</td>\n",
       "    </tr>\n",
       "    <tr>\n",
       "      <th>1</th>\n",
       "      <td>144.9294889_-37.739057200000005</td>\n",
       "      <td>144.929489</td>\n",
       "      <td>-37.739057</td>\n",
       "    </tr>\n",
       "    <tr>\n",
       "      <th>2</th>\n",
       "      <td>153.3482645_-27.9870979</td>\n",
       "      <td>153.348264</td>\n",
       "      <td>-27.987098</td>\n",
       "    </tr>\n",
       "    <tr>\n",
       "      <th>3</th>\n",
       "      <td>174.8435015_-41.1434534</td>\n",
       "      <td>174.843502</td>\n",
       "      <td>-41.143453</td>\n",
       "    </tr>\n",
       "    <tr>\n",
       "      <th>4</th>\n",
       "      <td>153.0148648_-27.4721499</td>\n",
       "      <td>153.014865</td>\n",
       "      <td>-27.472150</td>\n",
       "    </tr>\n",
       "  </tbody>\n",
       "</table>\n",
       "</div>"
      ],
      "text/plain": [
       "                              Name   Longitude   Latitude\n",
       "0           151.1964198_-33.868837  151.196420 -33.868837\n",
       "1  144.9294889_-37.739057200000005  144.929489 -37.739057\n",
       "2          153.3482645_-27.9870979  153.348264 -27.987098\n",
       "3          174.8435015_-41.1434534  174.843502 -41.143453\n",
       "4          153.0148648_-27.4721499  153.014865 -27.472150"
      ]
     },
     "execution_count": 58,
     "metadata": {},
     "output_type": "execute_result"
    }
   ],
   "source": [
    "'''\n",
    "Create dataframe\n",
    "'''\n",
    "\n",
    "df = pd.DataFrame(route_points, columns=['Longitude','Latitude'])\n",
    "\n",
    "tmp = list(df.Latitude.tolist())\n",
    "names = []\n",
    "for i in range(0,len(tmp)):\n",
    "    name = str(df.iloc[i].Longitude)+'_'+str(df.iloc[i].Latitude)\n",
    "    names.append(name)\n",
    "\n",
    "df['Name'] = names\n",
    "\n",
    "columns = ['Name','Longitude','Latitude']\n",
    "df= df[columns]\n",
    "\n",
    "df.head()"
   ]
  },
  {
   "cell_type": "code",
   "execution_count": 59,
   "metadata": {
    "scrolled": false
   },
   "outputs": [
    {
     "data": {
      "text/html": [
       "<div style=\"width:100%;\"><div style=\"position:relative;width:100%;height:0;padding-bottom:60%;\"><iframe src=\"data:text/html;charset=utf-8;base64,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\" style=\"position:absolute;width:100%;height:100%;left:0;top:0;border:none !important;\" allowfullscreen webkitallowfullscreen mozallowfullscreen></iframe></div></div>"
      ],
      "text/plain": [
       "<folium.folium.Map at 0x12219b6d8>"
      ]
     },
     "execution_count": 59,
     "metadata": {},
     "output_type": "execute_result"
    }
   ],
   "source": [
    "'''\n",
    "Plot markers\n",
    "'''\n",
    "\n",
    "rows = df.index.tolist()\n",
    "\n",
    "marker_points = []\n",
    "for row in rows:\n",
    "    marker_points.append((df.iloc[row].Latitude,df.iloc[row].Longitude))\n",
    "    \n",
    "# Set map centerpoint\n",
    "coords = marker_points[0]\n",
    "       \n",
    "# Define map\n",
    "m = folium.Map(\n",
    "    location = coords,\n",
    "    zoom_start = 13\n",
    ")\n",
    "  \n",
    "# Add points    \n",
    "for mp in marker_points:\n",
    "    folium.Marker(mp).add_to(m)\n",
    "m"
   ]
  },
  {
   "cell_type": "code",
   "execution_count": 108,
   "metadata": {},
   "outputs": [
    {
     "data": {
      "application/vnd.jupyter.widget-view+json": {
       "model_id": "d2f15aa411824e82b2ed1b6764a96f1c",
       "version_major": 2,
       "version_minor": 0
      },
      "text/plain": [
       "Figure(layout=FigureLayout(height='800px', width='100%'))"
      ]
     },
     "metadata": {},
     "output_type": "display_data"
    }
   ],
   "source": [
    "'''\n",
    "Get satellite preview for image\n",
    "'''\n",
    "\n",
    "row = 0\n",
    "\n",
    "figure_layout = {\n",
    "    'width': '100%',\n",
    "    'height': '800px'\n",
    "}\n",
    "fig = gmaps.figure(center = (df.iloc[row].Latitude,df.iloc[row].Longitude), zoom_level = 19,map_type='SATELLITE',layout=figure_layout)\n",
    "fig"
   ]
  },
  {
   "cell_type": "code",
   "execution_count": 60,
   "metadata": {},
   "outputs": [],
   "source": [
    "'''\n",
    "Export points\n",
    "'''\n",
    "\n",
    "# Update\n",
    "with open(output_csv, 'a') as f:\n",
    "    df.to_csv(f, header=False,index=None)\n",
    "\n",
    "# Write new\n",
    "# df.to_csv(output_csv,header=True,index=None)\n",
    "# df.to_csv('tmp.csv',header=True,index=None)"
   ]
  },
  {
   "cell_type": "code",
   "execution_count": 62,
   "metadata": {},
   "outputs": [],
   "source": [
    "'''\n",
    "Get all images \n",
    "'''\n",
    "\n",
    "root = os.path.dirname(os.path.abspath('Collection.ipynb'))\n",
    "img_folder = root[:-9]+image_folder[3:]\n",
    "img_folder\n",
    "\n",
    "url = 'https://maps.googleapis.com/maps/api/staticmap?'\n",
    "rows = df.index.tolist()\n",
    "for i in range(0,3):\n",
    "    row = df.iloc[i]\n",
    "    center = str(row.Latitude)+','+str(row.Longitude)\n",
    "    payload = {\n",
    "        'center': center, \n",
    "        'zoom': 20,\n",
    "        'size': '640x640',\n",
    "        'scale': 2,\n",
    "        'format': 'png32',\n",
    "        'maptype': 'satellite',\n",
    "        'key': token\n",
    "    }\n",
    "    \n",
    "    r = requests.get(url,params=payload,stream=True)\n",
    "\n",
    "    name = df.iloc[i]['Name']\n",
    "    filename = img_folder+name+'.png'\n",
    "    if r.status_code == 200:\n",
    "        with open(filename, 'wb') as f:\n",
    "            r.raw.decode_content = True\n",
    "            shutil.copyfileobj(r.raw, f) \n",
    "    else:\n",
    "        print(r.status_code)"
   ]
  },
  {
   "cell_type": "code",
   "execution_count": null,
   "metadata": {},
   "outputs": [],
   "source": []
  }
 ],
 "metadata": {
  "kernelspec": {
   "display_name": "Python 3",
   "language": "python",
   "name": "python3"
  },
  "language_info": {
   "codemirror_mode": {
    "name": "ipython",
    "version": 3
   },
   "file_extension": ".py",
   "mimetype": "text/x-python",
   "name": "python",
   "nbconvert_exporter": "python",
   "pygments_lexer": "ipython3",
   "version": "3.7.3"
  }
 },
 "nbformat": 4,
 "nbformat_minor": 2
}
