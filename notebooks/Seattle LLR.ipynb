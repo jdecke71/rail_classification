{
 "cells": [
  {
   "cell_type": "code",
   "execution_count": 1,
   "metadata": {},
   "outputs": [],
   "source": [
    "import pandas as pd\n",
    "import geopandas as gpd\n",
    "import matplotlib.pyplot as plt\n",
    "from shapely.geometry import mapping\n",
    "import folium\n",
    "import gmaps\n",
    "import os\n",
    "import requests\n",
    "import shutil"
   ]
  },
  {
   "cell_type": "code",
   "execution_count": 13,
   "metadata": {},
   "outputs": [],
   "source": [
    "with open('../resources/key.txt') as f:\n",
    "    token = f.read()\n",
    "    \n",
    "gmaps.configure(api_key = token)"
   ]
  },
  {
   "cell_type": "code",
   "execution_count": 10,
   "metadata": {},
   "outputs": [],
   "source": [
    "input_folder = '../data/railways/sound_transit/'\n",
    "input_file = input_folder+'LINKLine.shp'\n",
    "\n",
    "output_folder = '../data/output_images/SeattleLLR/'\n",
    "output_csv = output_folder+'SEA.csv'"
   ]
  },
  {
   "cell_type": "markdown",
   "metadata": {},
   "source": [
    "### Import Routes"
   ]
  },
  {
   "cell_type": "code",
   "execution_count": 3,
   "metadata": {
    "scrolled": true
   },
   "outputs": [
    {
     "data": {
      "text/html": [
       "<div>\n",
       "<style scoped>\n",
       "    .dataframe tbody tr th:only-of-type {\n",
       "        vertical-align: middle;\n",
       "    }\n",
       "\n",
       "    .dataframe tbody tr th {\n",
       "        vertical-align: top;\n",
       "    }\n",
       "\n",
       "    .dataframe thead th {\n",
       "        text-align: right;\n",
       "    }\n",
       "</style>\n",
       "<table border=\"1\" class=\"dataframe\">\n",
       "  <thead>\n",
       "    <tr style=\"text-align: right;\">\n",
       "      <th></th>\n",
       "      <th>OBJECTID</th>\n",
       "      <th>LINK_TYPE</th>\n",
       "      <th>DESCRIPTIO</th>\n",
       "      <th>STATUS</th>\n",
       "      <th>Shape_Leng</th>\n",
       "      <th>geometry</th>\n",
       "    </tr>\n",
       "  </thead>\n",
       "  <tbody>\n",
       "    <tr>\n",
       "      <th>0</th>\n",
       "      <td>68</td>\n",
       "      <td>1</td>\n",
       "      <td>Central Link</td>\n",
       "      <td>COMPLETE</td>\n",
       "      <td>73476.308611</td>\n",
       "      <td>(LINESTRING (-122.2886826905774 47.46424879456...</td>\n",
       "    </tr>\n",
       "    <tr>\n",
       "      <th>1</th>\n",
       "      <td>101</td>\n",
       "      <td>4</td>\n",
       "      <td>Airport Link</td>\n",
       "      <td>COMPLETE</td>\n",
       "      <td>9028.515287</td>\n",
       "      <td>LINESTRING (-122.296751670065 47.4444939187097...</td>\n",
       "    </tr>\n",
       "    <tr>\n",
       "      <th>2</th>\n",
       "      <td>109</td>\n",
       "      <td>2</td>\n",
       "      <td>Tacoma Link</td>\n",
       "      <td>COMPLETE</td>\n",
       "      <td>9381.691809</td>\n",
       "      <td>LINESTRING (-122.4400288855092 47.256333855845...</td>\n",
       "    </tr>\n",
       "    <tr>\n",
       "      <th>3</th>\n",
       "      <td>113</td>\n",
       "      <td>6</td>\n",
       "      <td>University Link</td>\n",
       "      <td>CONST</td>\n",
       "      <td>16875.317490</td>\n",
       "      <td>LINESTRING (-122.3311232117972 47.613775582999...</td>\n",
       "    </tr>\n",
       "    <tr>\n",
       "      <th>4</th>\n",
       "      <td>130</td>\n",
       "      <td>3</td>\n",
       "      <td>Northgate Link</td>\n",
       "      <td>CONST</td>\n",
       "      <td>22284.085571</td>\n",
       "      <td>LINESTRING (-122.3281386191352 47.705615661930...</td>\n",
       "    </tr>\n",
       "  </tbody>\n",
       "</table>\n",
       "</div>"
      ],
      "text/plain": [
       "   OBJECTID  LINK_TYPE       DESCRIPTIO    STATUS    Shape_Leng  \\\n",
       "0        68          1     Central Link  COMPLETE  73476.308611   \n",
       "1       101          4     Airport Link  COMPLETE   9028.515287   \n",
       "2       109          2      Tacoma Link  COMPLETE   9381.691809   \n",
       "3       113          6  University Link     CONST  16875.317490   \n",
       "4       130          3   Northgate Link     CONST  22284.085571   \n",
       "\n",
       "                                            geometry  \n",
       "0  (LINESTRING (-122.2886826905774 47.46424879456...  \n",
       "1  LINESTRING (-122.296751670065 47.4444939187097...  \n",
       "2  LINESTRING (-122.4400288855092 47.256333855845...  \n",
       "3  LINESTRING (-122.3311232117972 47.613775582999...  \n",
       "4  LINESTRING (-122.3281386191352 47.705615661930...  "
      ]
     },
     "execution_count": 3,
     "metadata": {},
     "output_type": "execute_result"
    }
   ],
   "source": [
    "routes = gpd.read_file(input_file)\n",
    "\n",
    "routes = routes.to_crs({'init' :'epsg:4269'})\n",
    "\n",
    "routes.head()"
   ]
  },
  {
   "cell_type": "code",
   "execution_count": 4,
   "metadata": {},
   "outputs": [
    {
     "data": {
      "text/plain": [
       "(6, 6)"
      ]
     },
     "execution_count": 4,
     "metadata": {},
     "output_type": "execute_result"
    }
   ],
   "source": [
    "routes.shape"
   ]
  },
  {
   "cell_type": "code",
   "execution_count": 5,
   "metadata": {},
   "outputs": [
    {
     "name": "stdout",
     "output_type": "stream",
     "text": [
      "Skipped route number 1 because 'LineString' object is not iterable\n",
      "Skipped route number 2 because 'LineString' object is not iterable\n",
      "Skipped route number 3 because 'LineString' object is not iterable\n",
      "Skipped route number 4 because 'LineString' object is not iterable\n",
      "Skipped route number 5 because 'LineString' object is not iterable\n",
      "3973 points\n"
     ]
    }
   ],
   "source": [
    "'''\n",
    "Get all points\n",
    "'''\n",
    "\n",
    "points = []\n",
    "for i in range(0,len(routes.OBJECTID.tolist())):\n",
    "#     print('Route',i)\n",
    "    try:\n",
    "        route = routes.iloc[i]\n",
    "        g = [m for m in route.geometry]\n",
    "        for j in range(0,len(g)):\n",
    "            sec_points = mapping(g[j])[\"coordinates\"]\n",
    "            for k in range(0,len(sec_points)):\n",
    "                points.append(sec_points[k])\n",
    "    except Exception as e:\n",
    "        print(\"Skipped route number\",i,'because',e)\n",
    "\n",
    "print(len(points),'points')"
   ]
  },
  {
   "cell_type": "code",
   "execution_count": 5,
   "metadata": {},
   "outputs": [
    {
     "name": "stdout",
     "output_type": "stream",
     "text": [
      "3973 points\n"
     ]
    }
   ],
   "source": [
    "'''\n",
    "Get points for 1 or more routes\n",
    "'''\n",
    "\n",
    "rows = [0]\n",
    "\n",
    "points = []\n",
    "for i in range(0,len(routes.OBJECTID.tolist())):\n",
    "    if i in rows:\n",
    "        try:\n",
    "            route = routes.iloc[i]\n",
    "            g = [m for m in route.geometry]\n",
    "            for j in range(0,len(g)):\n",
    "                sec_points = mapping(g[j])[\"coordinates\"]\n",
    "                for k in range(0,len(sec_points)):\n",
    "                    points.append(sec_points[k])\n",
    "        except Exception as e:\n",
    "            print(\"Skipped route number\",i,'because',e)\n",
    "\n",
    "print(len(points),'points')"
   ]
  },
  {
   "cell_type": "code",
   "execution_count": 6,
   "metadata": {},
   "outputs": [
    {
     "name": "stdout",
     "output_type": "stream",
     "text": [
      "1018 points\n"
     ]
    }
   ],
   "source": [
    "'''\n",
    "Get points for single route/section\n",
    "'''\n",
    "\n",
    "row = 0\n",
    "section = 0\n",
    "\n",
    "points = []\n",
    "try:\n",
    "    route = routes.iloc[row]\n",
    "    g = [i for i in route.geometry]\n",
    "    len(g)\n",
    "\n",
    "    points = mapping(g[section])[\"coordinates\"]\n",
    "except Exception as e:\n",
    "    print(\"Skipped route number\",row,'because',e)\n",
    "    \n",
    "print(len(points),'points')"
   ]
  },
  {
   "cell_type": "code",
   "execution_count": 6,
   "metadata": {},
   "outputs": [
    {
     "name": "stdout",
     "output_type": "stream",
     "text": [
      "50\n"
     ]
    }
   ],
   "source": [
    "'''\n",
    "Get subselection of points\n",
    "'''\n",
    "\n",
    "route_points = []\n",
    "for point in range(0,len(points),80):\n",
    "    tmp = points[point]\n",
    "#     print(tmp)\n",
    "    route_points.append(tmp)\n",
    "\n",
    "print(len(route_points))"
   ]
  },
  {
   "cell_type": "code",
   "execution_count": 7,
   "metadata": {},
   "outputs": [
    {
     "data": {
      "text/html": [
       "<div>\n",
       "<style scoped>\n",
       "    .dataframe tbody tr th:only-of-type {\n",
       "        vertical-align: middle;\n",
       "    }\n",
       "\n",
       "    .dataframe tbody tr th {\n",
       "        vertical-align: top;\n",
       "    }\n",
       "\n",
       "    .dataframe thead th {\n",
       "        text-align: right;\n",
       "    }\n",
       "</style>\n",
       "<table border=\"1\" class=\"dataframe\">\n",
       "  <thead>\n",
       "    <tr style=\"text-align: right;\">\n",
       "      <th></th>\n",
       "      <th>Name</th>\n",
       "      <th>Longitude</th>\n",
       "      <th>Latitude</th>\n",
       "    </tr>\n",
       "  </thead>\n",
       "  <tbody>\n",
       "    <tr>\n",
       "      <th>0</th>\n",
       "      <td>-122.2886826905774_47.464248794560376</td>\n",
       "      <td>-122.288683</td>\n",
       "      <td>47.464249</td>\n",
       "    </tr>\n",
       "    <tr>\n",
       "      <th>1</th>\n",
       "      <td>-122.28460363170346_47.463241793803235</td>\n",
       "      <td>-122.284604</td>\n",
       "      <td>47.463242</td>\n",
       "    </tr>\n",
       "    <tr>\n",
       "      <th>2</th>\n",
       "      <td>-122.28234511970552_47.46382419989612</td>\n",
       "      <td>-122.282345</td>\n",
       "      <td>47.463824</td>\n",
       "    </tr>\n",
       "    <tr>\n",
       "      <th>3</th>\n",
       "      <td>-122.27973034983573_47.46534563268166</td>\n",
       "      <td>-122.279730</td>\n",
       "      <td>47.465346</td>\n",
       "    </tr>\n",
       "    <tr>\n",
       "      <th>4</th>\n",
       "      <td>-122.27737158471527_47.46599304892051</td>\n",
       "      <td>-122.277372</td>\n",
       "      <td>47.465993</td>\n",
       "    </tr>\n",
       "  </tbody>\n",
       "</table>\n",
       "</div>"
      ],
      "text/plain": [
       "                                     Name   Longitude   Latitude\n",
       "0   -122.2886826905774_47.464248794560376 -122.288683  47.464249\n",
       "1  -122.28460363170346_47.463241793803235 -122.284604  47.463242\n",
       "2   -122.28234511970552_47.46382419989612 -122.282345  47.463824\n",
       "3   -122.27973034983573_47.46534563268166 -122.279730  47.465346\n",
       "4   -122.27737158471527_47.46599304892051 -122.277372  47.465993"
      ]
     },
     "execution_count": 7,
     "metadata": {},
     "output_type": "execute_result"
    }
   ],
   "source": [
    "'''\n",
    "Create dataframe\n",
    "'''\n",
    "\n",
    "df = pd.DataFrame(route_points, columns=['Longitude','Latitude'])\n",
    "\n",
    "tmp = list(df.Latitude.tolist())\n",
    "names = []\n",
    "for i in range(0,len(tmp)):\n",
    "    name = str(df.iloc[i].Longitude)+'_'+str(df.iloc[i].Latitude)\n",
    "    names.append(name)\n",
    "\n",
    "df['Name'] = names\n",
    "\n",
    "columns = ['Name','Longitude','Latitude']\n",
    "df= df[columns]\n",
    "\n",
    "df.head()"
   ]
  },
  {
   "cell_type": "code",
   "execution_count": 8,
   "metadata": {},
   "outputs": [],
   "source": [
    "'''\n",
    "Export points\n",
    "'''\n",
    "\n",
    "df.to_csv(output_csv,header=True,index=None)"
   ]
  },
  {
   "cell_type": "code",
   "execution_count": 21,
   "metadata": {
    "scrolled": false
   },
   "outputs": [
    {
     "data": {
      "text/html": [
       "<div style=\"width:100%;\"><div style=\"position:relative;width:100%;height:0;padding-bottom:60%;\"><iframe src=\"data:text/html;charset=utf-8;base64,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\" style=\"position:absolute;width:100%;height:100%;left:0;top:0;border:none !important;\" allowfullscreen webkitallowfullscreen mozallowfullscreen></iframe></div></div>"
      ],
      "text/plain": [
       "<folium.folium.Map at 0x122e24dd8>"
      ]
     },
     "execution_count": 21,
     "metadata": {},
     "output_type": "execute_result"
    }
   ],
   "source": [
    "'''\n",
    "Plot markers\n",
    "'''\n",
    "\n",
    "rows = df.index.tolist()\n",
    "\n",
    "marker_points = []\n",
    "for row in rows:\n",
    "    marker_points.append((df.iloc[row].Latitude,df.iloc[row].Longitude))\n",
    "    \n",
    "# Set map centerpoint\n",
    "coords = marker_points[0]\n",
    "       \n",
    "# Define map\n",
    "m = folium.Map(\n",
    "    location = coords,\n",
    "    zoom_start = 12\n",
    ")\n",
    "  \n",
    "# Add points    \n",
    "for mp in marker_points:\n",
    "    folium.Marker(mp).add_to(m)\n",
    "m"
   ]
  },
  {
   "cell_type": "code",
   "execution_count": 23,
   "metadata": {},
   "outputs": [
    {
     "data": {
      "application/vnd.jupyter.widget-view+json": {
       "model_id": "bbcc5215cb2246829f57d481a9735094",
       "version_major": 2,
       "version_minor": 0
      },
      "text/plain": [
       "Figure(layout=FigureLayout(height='800px', width='100%'))"
      ]
     },
     "metadata": {},
     "output_type": "display_data"
    }
   ],
   "source": [
    "'''\n",
    "Get satellite preview for image\n",
    "'''\n",
    "\n",
    "row = 1\n",
    "\n",
    "figure_layout = {\n",
    "    'width': '100%',\n",
    "    'height': '800px'\n",
    "}\n",
    "fig = gmaps.figure(center = (df.iloc[row].Latitude,df.iloc[row].Longitude), zoom_level = 19,map_type='SATELLITE',layout=figure_layout)\n",
    "fig"
   ]
  },
  {
   "cell_type": "code",
   "execution_count": 12,
   "metadata": {},
   "outputs": [],
   "source": [
    "'''\n",
    "Get all images \n",
    "'''\n",
    "\n",
    "root = os.path.dirname(os.path.abspath('Africa.ipynb'))\n",
    "image_folder = root[:-9]+output_folder[3:]\n",
    "image_folder\n",
    "\n",
    "url = 'https://maps.googleapis.com/maps/api/staticmap?'\n",
    "rows = df.index.tolist()\n",
    "for i in range(0,len(rows)):\n",
    "    row = df.iloc[i]\n",
    "    center = str(row.Latitude)+','+str(row.Longitude)\n",
    "    payload = {\n",
    "        'center': center, \n",
    "        'zoom': 19,\n",
    "        'size': '640x640',\n",
    "        'scale': 2,\n",
    "        'format': 'png32',\n",
    "        'maptype': 'satellite',\n",
    "        'key': token\n",
    "    }\n",
    "    \n",
    "    r = requests.get(url,params=payload,stream=True)\n",
    "\n",
    "    name = df.iloc[i]['Name']\n",
    "    filename = image_folder+name+'.png'\n",
    "    if r.status_code == 200:\n",
    "        with open(filename, 'wb') as f:\n",
    "            r.raw.decode_content = True\n",
    "            shutil.copyfileobj(r.raw, f) "
   ]
  },
  {
   "cell_type": "code",
   "execution_count": null,
   "metadata": {},
   "outputs": [],
   "source": []
  }
 ],
 "metadata": {
  "kernelspec": {
   "display_name": "Python 3",
   "language": "python",
   "name": "python3"
  },
  "language_info": {
   "codemirror_mode": {
    "name": "ipython",
    "version": 3
   },
   "file_extension": ".py",
   "mimetype": "text/x-python",
   "name": "python",
   "nbconvert_exporter": "python",
   "pygments_lexer": "ipython3",
   "version": "3.7.3"
  }
 },
 "nbformat": 4,
 "nbformat_minor": 2
}
