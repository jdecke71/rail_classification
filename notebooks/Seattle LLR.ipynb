{
 "cells": [
  {
   "cell_type": "code",
   "execution_count": 2,
   "metadata": {},
   "outputs": [],
   "source": [
    "import pandas as pd\n",
    "import geopandas as gpd\n",
    "import matplotlib.pyplot as plt\n",
    "from shapely.geometry import mapping\n",
    "import folium\n",
    "import gmaps\n",
    "import os\n",
    "import requests\n",
    "import shutil"
   ]
  },
  {
   "cell_type": "code",
   "execution_count": 3,
   "metadata": {},
   "outputs": [],
   "source": [
    "with open('../resources/key.txt') as f:\n",
    "    token = f.read()\n",
    "    \n",
    "gmaps.configure(api_key = token)"
   ]
  },
  {
   "cell_type": "code",
   "execution_count": 4,
   "metadata": {},
   "outputs": [],
   "source": [
    "input_folder = '../data/railways/sound_transit/'\n",
    "input_file = input_folder+'LINKLine.shp'\n",
    "\n",
    "output_folder = '../data/output_images/SeattleLLR/'\n",
    "output_csv = output_folder+'SEA.csv'\n",
    "\n",
    "update_folder = output_folder+'/set_3/'"
   ]
  },
  {
   "cell_type": "markdown",
   "metadata": {},
   "source": [
    "### Import Routes"
   ]
  },
  {
   "cell_type": "code",
   "execution_count": 5,
   "metadata": {
    "scrolled": true
   },
   "outputs": [
    {
     "data": {
      "text/html": [
       "<div>\n",
       "<style scoped>\n",
       "    .dataframe tbody tr th:only-of-type {\n",
       "        vertical-align: middle;\n",
       "    }\n",
       "\n",
       "    .dataframe tbody tr th {\n",
       "        vertical-align: top;\n",
       "    }\n",
       "\n",
       "    .dataframe thead th {\n",
       "        text-align: right;\n",
       "    }\n",
       "</style>\n",
       "<table border=\"1\" class=\"dataframe\">\n",
       "  <thead>\n",
       "    <tr style=\"text-align: right;\">\n",
       "      <th></th>\n",
       "      <th>OBJECTID</th>\n",
       "      <th>LINK_TYPE</th>\n",
       "      <th>DESCRIPTIO</th>\n",
       "      <th>STATUS</th>\n",
       "      <th>Shape_Leng</th>\n",
       "      <th>geometry</th>\n",
       "    </tr>\n",
       "  </thead>\n",
       "  <tbody>\n",
       "    <tr>\n",
       "      <th>0</th>\n",
       "      <td>68</td>\n",
       "      <td>1</td>\n",
       "      <td>Central Link</td>\n",
       "      <td>COMPLETE</td>\n",
       "      <td>73476.308611</td>\n",
       "      <td>(LINESTRING (-122.2886826905774 47.46424879456...</td>\n",
       "    </tr>\n",
       "    <tr>\n",
       "      <th>1</th>\n",
       "      <td>101</td>\n",
       "      <td>4</td>\n",
       "      <td>Airport Link</td>\n",
       "      <td>COMPLETE</td>\n",
       "      <td>9028.515287</td>\n",
       "      <td>LINESTRING (-122.296751670065 47.4444939187097...</td>\n",
       "    </tr>\n",
       "    <tr>\n",
       "      <th>2</th>\n",
       "      <td>109</td>\n",
       "      <td>2</td>\n",
       "      <td>Tacoma Link</td>\n",
       "      <td>COMPLETE</td>\n",
       "      <td>9381.691809</td>\n",
       "      <td>LINESTRING (-122.4400288855092 47.256333855845...</td>\n",
       "    </tr>\n",
       "    <tr>\n",
       "      <th>3</th>\n",
       "      <td>113</td>\n",
       "      <td>6</td>\n",
       "      <td>University Link</td>\n",
       "      <td>CONST</td>\n",
       "      <td>16875.317490</td>\n",
       "      <td>LINESTRING (-122.3311232117972 47.613775582999...</td>\n",
       "    </tr>\n",
       "    <tr>\n",
       "      <th>4</th>\n",
       "      <td>130</td>\n",
       "      <td>3</td>\n",
       "      <td>Northgate Link</td>\n",
       "      <td>CONST</td>\n",
       "      <td>22284.085571</td>\n",
       "      <td>LINESTRING (-122.3281386191352 47.705615661930...</td>\n",
       "    </tr>\n",
       "  </tbody>\n",
       "</table>\n",
       "</div>"
      ],
      "text/plain": [
       "   OBJECTID  LINK_TYPE       DESCRIPTIO    STATUS    Shape_Leng  \\\n",
       "0        68          1     Central Link  COMPLETE  73476.308611   \n",
       "1       101          4     Airport Link  COMPLETE   9028.515287   \n",
       "2       109          2      Tacoma Link  COMPLETE   9381.691809   \n",
       "3       113          6  University Link     CONST  16875.317490   \n",
       "4       130          3   Northgate Link     CONST  22284.085571   \n",
       "\n",
       "                                            geometry  \n",
       "0  (LINESTRING (-122.2886826905774 47.46424879456...  \n",
       "1  LINESTRING (-122.296751670065 47.4444939187097...  \n",
       "2  LINESTRING (-122.4400288855092 47.256333855845...  \n",
       "3  LINESTRING (-122.3311232117972 47.613775582999...  \n",
       "4  LINESTRING (-122.3281386191352 47.705615661930...  "
      ]
     },
     "execution_count": 5,
     "metadata": {},
     "output_type": "execute_result"
    }
   ],
   "source": [
    "routes = gpd.read_file(input_file)\n",
    "\n",
    "routes = routes.to_crs({'init' :'epsg:4269'})\n",
    "\n",
    "routes.head()"
   ]
  },
  {
   "cell_type": "code",
   "execution_count": 5,
   "metadata": {},
   "outputs": [
    {
     "data": {
      "text/plain": [
       "(6, 6)"
      ]
     },
     "execution_count": 5,
     "metadata": {},
     "output_type": "execute_result"
    }
   ],
   "source": [
    "routes.shape"
   ]
  },
  {
   "cell_type": "code",
   "execution_count": 6,
   "metadata": {},
   "outputs": [
    {
     "name": "stdout",
     "output_type": "stream",
     "text": [
      "5610 points\n"
     ]
    }
   ],
   "source": [
    "'''\n",
    "Get all points\n",
    "'''\n",
    "\n",
    "points = []\n",
    "rows = routes.index.tolist()\n",
    "\n",
    "geom_types = routes['geometry'].tolist()\n",
    "for i in rows:\n",
    "    try:\n",
    "        route = routes.loc[i]\n",
    "        if route.geometry.geom_type == 'LineString':\n",
    "            g = route.geometry\n",
    "            sec_points = mapping(g)[\"coordinates\"]\n",
    "            for j in sec_points:\n",
    "                tmp = (j[0],j[1])\n",
    "                points.append(tmp)\n",
    "        elif route.geometry.geom_type == 'MultiLineString':\n",
    "            g = route.geometry\n",
    "            tmp = mapping(g)[\"coordinates\"]\n",
    "            for sec_points in tmp:\n",
    "                for j in sec_points:\n",
    "                    tmp = (j[0],j[1])\n",
    "                    points.append(tmp)\n",
    "    except Exception as e:\n",
    "        print(\"Skipped route number\",i,'because',e)        \n",
    "        \n",
    "    \n",
    "print(len(points),'points')   "
   ]
  },
  {
   "cell_type": "code",
   "execution_count": 10,
   "metadata": {},
   "outputs": [
    {
     "name": "stdout",
     "output_type": "stream",
     "text": [
      "3973 points\n"
     ]
    }
   ],
   "source": [
    "'''\n",
    "Get points for 1 or more routes\n",
    "'''\n",
    "\n",
    "rows = [0]\n",
    "\n",
    "points = []\n",
    "for i in range(0,len(routes.OBJECTID.tolist())):\n",
    "    if i in rows:\n",
    "        try:\n",
    "            route = routes.iloc[i]\n",
    "            g = [m for m in route.geometry]\n",
    "            for j in range(0,len(g)):\n",
    "                sec_points = mapping(g[j])[\"coordinates\"]\n",
    "                for k in range(0,len(sec_points)):\n",
    "                    points.append(sec_points[k])\n",
    "        except Exception as e:\n",
    "            print(\"Skipped route number\",i,'because',e)\n",
    "\n",
    "print(len(points),'points')"
   ]
  },
  {
   "cell_type": "code",
   "execution_count": 6,
   "metadata": {},
   "outputs": [
    {
     "name": "stdout",
     "output_type": "stream",
     "text": [
      "1018 points\n"
     ]
    }
   ],
   "source": [
    "'''\n",
    "Get points for single route/section\n",
    "'''\n",
    "\n",
    "row = 0\n",
    "section = 0\n",
    "\n",
    "points = []\n",
    "try:\n",
    "    route = routes.iloc[row]\n",
    "    g = [i for i in route.geometry]\n",
    "    len(g)\n",
    "\n",
    "    points = mapping(g[section])[\"coordinates\"]\n",
    "except Exception as e:\n",
    "    print(\"Skipped route number\",row,'because',e)\n",
    "    \n",
    "print(len(points),'points')"
   ]
  },
  {
   "cell_type": "code",
   "execution_count": 7,
   "metadata": {},
   "outputs": [
    {
     "data": {
      "text/html": [
       "<div>\n",
       "<style scoped>\n",
       "    .dataframe tbody tr th:only-of-type {\n",
       "        vertical-align: middle;\n",
       "    }\n",
       "\n",
       "    .dataframe tbody tr th {\n",
       "        vertical-align: top;\n",
       "    }\n",
       "\n",
       "    .dataframe thead th {\n",
       "        text-align: right;\n",
       "    }\n",
       "</style>\n",
       "<table border=\"1\" class=\"dataframe\">\n",
       "  <thead>\n",
       "    <tr style=\"text-align: right;\">\n",
       "      <th></th>\n",
       "      <th>Name</th>\n",
       "      <th>Longitude</th>\n",
       "      <th>Latitude</th>\n",
       "      <th>Catenary</th>\n",
       "    </tr>\n",
       "  </thead>\n",
       "  <tbody>\n",
       "    <tr>\n",
       "      <th>0</th>\n",
       "      <td>-122.2688245466118_47.469195680544566</td>\n",
       "      <td>-122.268825</td>\n",
       "      <td>47.469196</td>\n",
       "      <td>1</td>\n",
       "    </tr>\n",
       "    <tr>\n",
       "      <th>1</th>\n",
       "      <td>-122.26892266998178_47.46699028176158</td>\n",
       "      <td>-122.268923</td>\n",
       "      <td>47.466990</td>\n",
       "      <td>1</td>\n",
       "    </tr>\n",
       "    <tr>\n",
       "      <th>2</th>\n",
       "      <td>-122.26915916640066_47.466252365664246</td>\n",
       "      <td>-122.269159</td>\n",
       "      <td>47.466252</td>\n",
       "      <td>1</td>\n",
       "    </tr>\n",
       "    <tr>\n",
       "      <th>3</th>\n",
       "      <td>-122.26961937556017_47.465774616096645</td>\n",
       "      <td>-122.269619</td>\n",
       "      <td>47.465775</td>\n",
       "      <td>1</td>\n",
       "    </tr>\n",
       "    <tr>\n",
       "      <th>4</th>\n",
       "      <td>-122.2697075007809_47.47314172665546</td>\n",
       "      <td>-122.269707</td>\n",
       "      <td>47.473142</td>\n",
       "      <td>1</td>\n",
       "    </tr>\n",
       "  </tbody>\n",
       "</table>\n",
       "</div>"
      ],
      "text/plain": [
       "                                     Name   Longitude   Latitude  Catenary\n",
       "0   -122.2688245466118_47.469195680544566 -122.268825  47.469196         1\n",
       "1   -122.26892266998178_47.46699028176158 -122.268923  47.466990         1\n",
       "2  -122.26915916640066_47.466252365664246 -122.269159  47.466252         1\n",
       "3  -122.26961937556017_47.465774616096645 -122.269619  47.465775         1\n",
       "4    -122.2697075007809_47.47314172665546 -122.269707  47.473142         1"
      ]
     },
     "execution_count": 7,
     "metadata": {},
     "output_type": "execute_result"
    }
   ],
   "source": [
    "'''\n",
    "Open csv with current points\n",
    "'''\n",
    "\n",
    "curr_df = pd.read_csv(output_csv)\n",
    "curr_df.head()"
   ]
  },
  {
   "cell_type": "code",
   "execution_count": 8,
   "metadata": {},
   "outputs": [],
   "source": [
    "'''\n",
    "Get subselection of points excuding current points\n",
    "'''\n",
    "curr_points = list(zip(curr_df['Longitude'].tolist(),curr_df['Latitude'].tolist()))\n",
    "# print(curr_points)\n",
    "# print('\\n')\n",
    "\n",
    "route_points = curr_points\n",
    "# []\n",
    "# for point in range(0,len(points),40):\n",
    "#     tmp = points[point]\n",
    "#     if tmp not in curr_points:\n",
    "# #         print(tmp)\n",
    "#         route_points.append(tmp)\n",
    "\n",
    "# print(len(route_points))"
   ]
  },
  {
   "cell_type": "code",
   "execution_count": 9,
   "metadata": {},
   "outputs": [
    {
     "data": {
      "text/html": [
       "<div>\n",
       "<style scoped>\n",
       "    .dataframe tbody tr th:only-of-type {\n",
       "        vertical-align: middle;\n",
       "    }\n",
       "\n",
       "    .dataframe tbody tr th {\n",
       "        vertical-align: top;\n",
       "    }\n",
       "\n",
       "    .dataframe thead th {\n",
       "        text-align: right;\n",
       "    }\n",
       "</style>\n",
       "<table border=\"1\" class=\"dataframe\">\n",
       "  <thead>\n",
       "    <tr style=\"text-align: right;\">\n",
       "      <th></th>\n",
       "      <th>Name</th>\n",
       "      <th>Longitude</th>\n",
       "      <th>Latitude</th>\n",
       "    </tr>\n",
       "  </thead>\n",
       "  <tbody>\n",
       "    <tr>\n",
       "      <th>0</th>\n",
       "      <td>-122.26882450000001_47.46919568</td>\n",
       "      <td>-122.268825</td>\n",
       "      <td>47.469196</td>\n",
       "    </tr>\n",
       "    <tr>\n",
       "      <th>1</th>\n",
       "      <td>-122.26892269999999_47.46699028</td>\n",
       "      <td>-122.268923</td>\n",
       "      <td>47.466990</td>\n",
       "    </tr>\n",
       "    <tr>\n",
       "      <th>2</th>\n",
       "      <td>-122.26915919999999_47.46625237</td>\n",
       "      <td>-122.269159</td>\n",
       "      <td>47.466252</td>\n",
       "    </tr>\n",
       "    <tr>\n",
       "      <th>3</th>\n",
       "      <td>-122.26961940000001_47.46577462</td>\n",
       "      <td>-122.269619</td>\n",
       "      <td>47.465775</td>\n",
       "    </tr>\n",
       "    <tr>\n",
       "      <th>4</th>\n",
       "      <td>-122.2697075_47.47314173</td>\n",
       "      <td>-122.269707</td>\n",
       "      <td>47.473142</td>\n",
       "    </tr>\n",
       "  </tbody>\n",
       "</table>\n",
       "</div>"
      ],
      "text/plain": [
       "                              Name   Longitude   Latitude\n",
       "0  -122.26882450000001_47.46919568 -122.268825  47.469196\n",
       "1  -122.26892269999999_47.46699028 -122.268923  47.466990\n",
       "2  -122.26915919999999_47.46625237 -122.269159  47.466252\n",
       "3  -122.26961940000001_47.46577462 -122.269619  47.465775\n",
       "4         -122.2697075_47.47314173 -122.269707  47.473142"
      ]
     },
     "execution_count": 9,
     "metadata": {},
     "output_type": "execute_result"
    }
   ],
   "source": [
    "'''\n",
    "Create dataframe\n",
    "'''\n",
    "\n",
    "df = pd.DataFrame(route_points, columns=['Longitude','Latitude'])\n",
    "\n",
    "tmp = list(df.Latitude.tolist())\n",
    "names = []\n",
    "for i in range(0,len(tmp)):\n",
    "    name = str(df.iloc[i].Longitude)+'_'+str(df.iloc[i].Latitude)\n",
    "    names.append(name)\n",
    "\n",
    "df['Name'] = names\n",
    "\n",
    "columns = ['Name','Longitude','Latitude']\n",
    "df= df[columns]\n",
    "\n",
    "df.head()"
   ]
  },
  {
   "cell_type": "code",
   "execution_count": 30,
   "metadata": {},
   "outputs": [],
   "source": [
    "'''\n",
    "Export points\n",
    "'''\n",
    "\n",
    "# Update\n",
    "with open(output_csv, 'a') as f:\n",
    "    df.to_csv(f, header=False,index=None)\n",
    "\n",
    "# Write new\n",
    "# df.to_csv(output_csv,header=True,index=None)\n",
    "# df.to_csv('tmp.csv',header=True,index=None)"
   ]
  },
  {
   "cell_type": "code",
   "execution_count": 10,
   "metadata": {
    "scrolled": false
   },
   "outputs": [
    {
     "data": {
      "text/html": [
       "<div style=\"width:100%;\"><div style=\"position:relative;width:100%;height:0;padding-bottom:60%;\"><iframe src=\"data:text/html;charset=utf-8;base64,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\" style=\"position:absolute;width:100%;height:100%;left:0;top:0;border:none !important;\" allowfullscreen webkitallowfullscreen mozallowfullscreen></iframe></div></div>"
      ],
      "text/plain": [
       "<folium.folium.Map at 0x122076908>"
      ]
     },
     "execution_count": 10,
     "metadata": {},
     "output_type": "execute_result"
    }
   ],
   "source": [
    "'''\n",
    "Plot markers\n",
    "'''\n",
    "\n",
    "rows = df.index.tolist()\n",
    "\n",
    "marker_points = []\n",
    "for row in rows:\n",
    "    marker_points.append((df.iloc[row].Latitude,df.iloc[row].Longitude))\n",
    "    \n",
    "# Set map centerpoint\n",
    "coords = marker_points[0]\n",
    "       \n",
    "# Define map\n",
    "m = folium.Map(\n",
    "    location = coords,\n",
    "    zoom_start = 12\n",
    ")\n",
    "  \n",
    "# Add points    \n",
    "for mp in marker_points:\n",
    "    folium.Marker(mp).add_to(m)\n",
    "m"
   ]
  },
  {
   "cell_type": "code",
   "execution_count": 23,
   "metadata": {},
   "outputs": [
    {
     "data": {
      "application/vnd.jupyter.widget-view+json": {
       "model_id": "bbcc5215cb2246829f57d481a9735094",
       "version_major": 2,
       "version_minor": 0
      },
      "text/plain": [
       "Figure(layout=FigureLayout(height='800px', width='100%'))"
      ]
     },
     "metadata": {},
     "output_type": "display_data"
    }
   ],
   "source": [
    "'''\n",
    "Get satellite preview for image\n",
    "'''\n",
    "\n",
    "row = 1\n",
    "\n",
    "figure_layout = {\n",
    "    'width': '100%',\n",
    "    'height': '800px'\n",
    "}\n",
    "fig = gmaps.figure(center = (df.iloc[row].Latitude,df.iloc[row].Longitude), zoom_level = 19,map_type='SATELLITE',layout=figure_layout)\n",
    "fig"
   ]
  },
  {
   "cell_type": "code",
   "execution_count": 17,
   "metadata": {},
   "outputs": [],
   "source": [
    "'''\n",
    "Get all images \n",
    "'''\n",
    "\n",
    "root = os.path.dirname(os.path.abspath('Africa.ipynb'))\n",
    "image_folder = root[:-9]+update_folder[3:]\n",
    "image_folder\n",
    "\n",
    "url = 'https://maps.googleapis.com/maps/api/staticmap?'\n",
    "rows = df.index.tolist()\n",
    "for i in range(0,len(rows)):\n",
    "    row = df.iloc[i]\n",
    "    center = str(row.Latitude)+','+str(row.Longitude)\n",
    "    payload = {\n",
    "        'center': center, \n",
    "        'zoom': 20,\n",
    "        'size': '640x640',\n",
    "        'scale': 2,\n",
    "        'format': 'png32',\n",
    "        'maptype': 'satellite',\n",
    "        'key': token\n",
    "    }\n",
    "    \n",
    "    r = requests.get(url,params=payload,stream=True)\n",
    "\n",
    "    name = df.iloc[i]['Name']\n",
    "    filename = image_folder+name+'.png'\n",
    "    if r.status_code == 200:\n",
    "        with open(filename, 'wb') as f:\n",
    "            r.raw.decode_content = True\n",
    "            shutil.copyfileobj(r.raw, f) "
   ]
  },
  {
   "cell_type": "code",
   "execution_count": null,
   "metadata": {},
   "outputs": [],
   "source": [
    "root = os.path.dirname()"
   ]
  }
 ],
 "metadata": {
  "kernelspec": {
   "display_name": "Python 3",
   "language": "python",
   "name": "python3"
  },
  "language_info": {
   "codemirror_mode": {
    "name": "ipython",
    "version": 3
   },
   "file_extension": ".py",
   "mimetype": "text/x-python",
   "name": "python",
   "nbconvert_exporter": "python",
   "pygments_lexer": "ipython3",
   "version": "3.7.3"
  }
 },
 "nbformat": 4,
 "nbformat_minor": 2
}
