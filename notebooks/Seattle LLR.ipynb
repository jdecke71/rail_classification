{
 "cells": [
  {
   "cell_type": "code",
   "execution_count": 1,
   "metadata": {},
   "outputs": [],
   "source": [
    "import pandas as pd\n",
    "import geopandas as gpd\n",
    "import matplotlib.pyplot as plt\n",
    "from shapely.geometry import mapping\n",
    "import folium\n",
    "import gmaps\n",
    "import os\n",
    "import requests\n",
    "import shutil"
   ]
  },
  {
   "cell_type": "code",
   "execution_count": 2,
   "metadata": {},
   "outputs": [],
   "source": [
    "with open('../resources/key.txt') as f:\n",
    "    token = f.read()\n",
    "    \n",
    "gmaps.configure(api_key = token)"
   ]
  },
  {
   "cell_type": "code",
   "execution_count": 3,
   "metadata": {},
   "outputs": [],
   "source": [
    "input_folder = '../data/railways/sound_transit/'\n",
    "input_file = input_folder+'LINKLine.shp'\n",
    "\n",
    "output_folder = '../data/output_images/SeattleLLR/'\n",
    "output_csv = output_folder+'SEA.csv'\n",
    "\n",
    "update_folder = output_folder+'/set_3/'"
   ]
  },
  {
   "cell_type": "markdown",
   "metadata": {},
   "source": [
    "### Import Routes"
   ]
  },
  {
   "cell_type": "code",
   "execution_count": 4,
   "metadata": {
    "scrolled": true
   },
   "outputs": [
    {
     "data": {
      "text/html": [
       "<div>\n",
       "<style scoped>\n",
       "    .dataframe tbody tr th:only-of-type {\n",
       "        vertical-align: middle;\n",
       "    }\n",
       "\n",
       "    .dataframe tbody tr th {\n",
       "        vertical-align: top;\n",
       "    }\n",
       "\n",
       "    .dataframe thead th {\n",
       "        text-align: right;\n",
       "    }\n",
       "</style>\n",
       "<table border=\"1\" class=\"dataframe\">\n",
       "  <thead>\n",
       "    <tr style=\"text-align: right;\">\n",
       "      <th></th>\n",
       "      <th>OBJECTID</th>\n",
       "      <th>LINK_TYPE</th>\n",
       "      <th>DESCRIPTIO</th>\n",
       "      <th>STATUS</th>\n",
       "      <th>Shape_Leng</th>\n",
       "      <th>geometry</th>\n",
       "    </tr>\n",
       "  </thead>\n",
       "  <tbody>\n",
       "    <tr>\n",
       "      <th>0</th>\n",
       "      <td>68</td>\n",
       "      <td>1</td>\n",
       "      <td>Central Link</td>\n",
       "      <td>COMPLETE</td>\n",
       "      <td>73476.308611</td>\n",
       "      <td>(LINESTRING (-122.2886826905774 47.46424879456...</td>\n",
       "    </tr>\n",
       "    <tr>\n",
       "      <th>1</th>\n",
       "      <td>101</td>\n",
       "      <td>4</td>\n",
       "      <td>Airport Link</td>\n",
       "      <td>COMPLETE</td>\n",
       "      <td>9028.515287</td>\n",
       "      <td>LINESTRING (-122.296751670065 47.4444939187097...</td>\n",
       "    </tr>\n",
       "    <tr>\n",
       "      <th>2</th>\n",
       "      <td>109</td>\n",
       "      <td>2</td>\n",
       "      <td>Tacoma Link</td>\n",
       "      <td>COMPLETE</td>\n",
       "      <td>9381.691809</td>\n",
       "      <td>LINESTRING (-122.4400288855092 47.256333855845...</td>\n",
       "    </tr>\n",
       "    <tr>\n",
       "      <th>3</th>\n",
       "      <td>113</td>\n",
       "      <td>6</td>\n",
       "      <td>University Link</td>\n",
       "      <td>CONST</td>\n",
       "      <td>16875.317490</td>\n",
       "      <td>LINESTRING (-122.3311232117972 47.613775582999...</td>\n",
       "    </tr>\n",
       "    <tr>\n",
       "      <th>4</th>\n",
       "      <td>130</td>\n",
       "      <td>3</td>\n",
       "      <td>Northgate Link</td>\n",
       "      <td>CONST</td>\n",
       "      <td>22284.085571</td>\n",
       "      <td>LINESTRING (-122.3281386191352 47.705615661930...</td>\n",
       "    </tr>\n",
       "  </tbody>\n",
       "</table>\n",
       "</div>"
      ],
      "text/plain": [
       "   OBJECTID  LINK_TYPE       DESCRIPTIO    STATUS    Shape_Leng  \\\n",
       "0        68          1     Central Link  COMPLETE  73476.308611   \n",
       "1       101          4     Airport Link  COMPLETE   9028.515287   \n",
       "2       109          2      Tacoma Link  COMPLETE   9381.691809   \n",
       "3       113          6  University Link     CONST  16875.317490   \n",
       "4       130          3   Northgate Link     CONST  22284.085571   \n",
       "\n",
       "                                            geometry  \n",
       "0  (LINESTRING (-122.2886826905774 47.46424879456...  \n",
       "1  LINESTRING (-122.296751670065 47.4444939187097...  \n",
       "2  LINESTRING (-122.4400288855092 47.256333855845...  \n",
       "3  LINESTRING (-122.3311232117972 47.613775582999...  \n",
       "4  LINESTRING (-122.3281386191352 47.705615661930...  "
      ]
     },
     "execution_count": 4,
     "metadata": {},
     "output_type": "execute_result"
    }
   ],
   "source": [
    "routes = gpd.read_file(input_file)\n",
    "\n",
    "routes = routes.to_crs({'init' :'epsg:4269'})\n",
    "\n",
    "routes.head()"
   ]
  },
  {
   "cell_type": "code",
   "execution_count": 5,
   "metadata": {},
   "outputs": [
    {
     "data": {
      "text/plain": [
       "(6, 6)"
      ]
     },
     "execution_count": 5,
     "metadata": {},
     "output_type": "execute_result"
    }
   ],
   "source": [
    "routes.shape"
   ]
  },
  {
   "cell_type": "code",
   "execution_count": 10,
   "metadata": {},
   "outputs": [
    {
     "name": "stdout",
     "output_type": "stream",
     "text": [
      "3973 points\n"
     ]
    }
   ],
   "source": [
    "'''\n",
    "Get points for 1 or more routes\n",
    "'''\n",
    "\n",
    "rows = [0]\n",
    "\n",
    "points = []\n",
    "for i in range(0,len(routes.OBJECTID.tolist())):\n",
    "    if i in rows:\n",
    "        try:\n",
    "            route = routes.iloc[i]\n",
    "            g = [m for m in route.geometry]\n",
    "            for j in range(0,len(g)):\n",
    "                sec_points = mapping(g[j])[\"coordinates\"]\n",
    "                for k in range(0,len(sec_points)):\n",
    "                    points.append(sec_points[k])\n",
    "        except Exception as e:\n",
    "            print(\"Skipped route number\",i,'because',e)\n",
    "\n",
    "print(len(points),'points')"
   ]
  },
  {
   "cell_type": "code",
   "execution_count": 6,
   "metadata": {},
   "outputs": [
    {
     "name": "stdout",
     "output_type": "stream",
     "text": [
      "1018 points\n"
     ]
    }
   ],
   "source": [
    "'''\n",
    "Get points for single route/section\n",
    "'''\n",
    "\n",
    "row = 0\n",
    "section = 0\n",
    "\n",
    "points = []\n",
    "try:\n",
    "    route = routes.iloc[row]\n",
    "    g = [i for i in route.geometry]\n",
    "    len(g)\n",
    "\n",
    "    points = mapping(g[section])[\"coordinates\"]\n",
    "except Exception as e:\n",
    "    print(\"Skipped route number\",row,'because',e)\n",
    "    \n",
    "print(len(points),'points')"
   ]
  },
  {
   "cell_type": "code",
   "execution_count": 11,
   "metadata": {},
   "outputs": [
    {
     "data": {
      "text/html": [
       "<div>\n",
       "<style scoped>\n",
       "    .dataframe tbody tr th:only-of-type {\n",
       "        vertical-align: middle;\n",
       "    }\n",
       "\n",
       "    .dataframe tbody tr th {\n",
       "        vertical-align: top;\n",
       "    }\n",
       "\n",
       "    .dataframe thead th {\n",
       "        text-align: right;\n",
       "    }\n",
       "</style>\n",
       "<table border=\"1\" class=\"dataframe\">\n",
       "  <thead>\n",
       "    <tr style=\"text-align: right;\">\n",
       "      <th></th>\n",
       "      <th>Name</th>\n",
       "      <th>Longitude</th>\n",
       "      <th>Latitude</th>\n",
       "      <th>Catenary</th>\n",
       "    </tr>\n",
       "  </thead>\n",
       "  <tbody>\n",
       "    <tr>\n",
       "      <th>0</th>\n",
       "      <td>-122.2697075007809_47.47314172665546</td>\n",
       "      <td>-122.269707</td>\n",
       "      <td>47.473142</td>\n",
       "      <td>1</td>\n",
       "    </tr>\n",
       "    <tr>\n",
       "      <th>1</th>\n",
       "      <td>-122.27107741516011_47.465236046868256</td>\n",
       "      <td>-122.271077</td>\n",
       "      <td>47.465236</td>\n",
       "      <td>1</td>\n",
       "    </tr>\n",
       "    <tr>\n",
       "      <th>2</th>\n",
       "      <td>-122.27291605481625_47.48176886740649</td>\n",
       "      <td>-122.272916</td>\n",
       "      <td>47.481769</td>\n",
       "      <td>1</td>\n",
       "    </tr>\n",
       "    <tr>\n",
       "      <th>3</th>\n",
       "      <td>-122.27293724183188_47.479459541696556</td>\n",
       "      <td>-122.272937</td>\n",
       "      <td>47.479460</td>\n",
       "      <td>1</td>\n",
       "    </tr>\n",
       "    <tr>\n",
       "      <th>4</th>\n",
       "      <td>-122.27334338167215_47.48344844273076</td>\n",
       "      <td>-122.273343</td>\n",
       "      <td>47.483448</td>\n",
       "      <td>1</td>\n",
       "    </tr>\n",
       "  </tbody>\n",
       "</table>\n",
       "</div>"
      ],
      "text/plain": [
       "                                     Name   Longitude   Latitude  Catenary\n",
       "0    -122.2697075007809_47.47314172665546 -122.269707  47.473142         1\n",
       "1  -122.27107741516011_47.465236046868256 -122.271077  47.465236         1\n",
       "2   -122.27291605481625_47.48176886740649 -122.272916  47.481769         1\n",
       "3  -122.27293724183188_47.479459541696556 -122.272937  47.479460         1\n",
       "4   -122.27334338167215_47.48344844273076 -122.273343  47.483448         1"
      ]
     },
     "execution_count": 11,
     "metadata": {},
     "output_type": "execute_result"
    }
   ],
   "source": [
    "'''\n",
    "Open csv with current points\n",
    "'''\n",
    "\n",
    "curr_df = pd.read_csv(output_csv)\n",
    "curr_df.head()"
   ]
  },
  {
   "cell_type": "code",
   "execution_count": 27,
   "metadata": {},
   "outputs": [
    {
     "name": "stdout",
     "output_type": "stream",
     "text": [
      "100\n"
     ]
    }
   ],
   "source": [
    "'''\n",
    "Get subselection of points excuding current points\n",
    "'''\n",
    "curr_points = list(zip(curr_df['Longitude'].tolist(),curr_df['Latitude'].tolist()))\n",
    "# print(curr_points)\n",
    "# print('\\n')\n",
    "\n",
    "route_points = []\n",
    "for point in range(0,len(points),40):\n",
    "    tmp = points[point]\n",
    "    if tmp not in curr_points:\n",
    "#         print(tmp)\n",
    "        route_points.append(tmp)\n",
    "\n",
    "print(len(route_points))"
   ]
  },
  {
   "cell_type": "code",
   "execution_count": 15,
   "metadata": {},
   "outputs": [
    {
     "data": {
      "text/html": [
       "<div>\n",
       "<style scoped>\n",
       "    .dataframe tbody tr th:only-of-type {\n",
       "        vertical-align: middle;\n",
       "    }\n",
       "\n",
       "    .dataframe tbody tr th {\n",
       "        vertical-align: top;\n",
       "    }\n",
       "\n",
       "    .dataframe thead th {\n",
       "        text-align: right;\n",
       "    }\n",
       "</style>\n",
       "<table border=\"1\" class=\"dataframe\">\n",
       "  <thead>\n",
       "    <tr style=\"text-align: right;\">\n",
       "      <th></th>\n",
       "      <th>Name</th>\n",
       "      <th>Longitude</th>\n",
       "      <th>Latitude</th>\n",
       "    </tr>\n",
       "  </thead>\n",
       "  <tbody>\n",
       "    <tr>\n",
       "      <th>0</th>\n",
       "      <td>-122.2886826905774_47.464248794560376</td>\n",
       "      <td>-122.288683</td>\n",
       "      <td>47.464249</td>\n",
       "    </tr>\n",
       "    <tr>\n",
       "      <th>1</th>\n",
       "      <td>-122.28559327844411_47.46322876704172</td>\n",
       "      <td>-122.285593</td>\n",
       "      <td>47.463229</td>\n",
       "    </tr>\n",
       "    <tr>\n",
       "      <th>2</th>\n",
       "      <td>-122.28460363170346_47.463241793803235</td>\n",
       "      <td>-122.284604</td>\n",
       "      <td>47.463242</td>\n",
       "    </tr>\n",
       "    <tr>\n",
       "      <th>3</th>\n",
       "      <td>-122.28342496740648_47.46344488032227</td>\n",
       "      <td>-122.283425</td>\n",
       "      <td>47.463445</td>\n",
       "    </tr>\n",
       "    <tr>\n",
       "      <th>4</th>\n",
       "      <td>-122.28234511970552_47.46382419989612</td>\n",
       "      <td>-122.282345</td>\n",
       "      <td>47.463824</td>\n",
       "    </tr>\n",
       "  </tbody>\n",
       "</table>\n",
       "</div>"
      ],
      "text/plain": [
       "                                     Name   Longitude   Latitude\n",
       "0   -122.2886826905774_47.464248794560376 -122.288683  47.464249\n",
       "1   -122.28559327844411_47.46322876704172 -122.285593  47.463229\n",
       "2  -122.28460363170346_47.463241793803235 -122.284604  47.463242\n",
       "3   -122.28342496740648_47.46344488032227 -122.283425  47.463445\n",
       "4   -122.28234511970552_47.46382419989612 -122.282345  47.463824"
      ]
     },
     "execution_count": 15,
     "metadata": {},
     "output_type": "execute_result"
    }
   ],
   "source": [
    "'''\n",
    "Create dataframe\n",
    "'''\n",
    "\n",
    "df = pd.DataFrame(route_points, columns=['Longitude','Latitude'])\n",
    "\n",
    "tmp = list(df.Latitude.tolist())\n",
    "names = []\n",
    "for i in range(0,len(tmp)):\n",
    "    name = str(df.iloc[i].Longitude)+'_'+str(df.iloc[i].Latitude)\n",
    "    names.append(name)\n",
    "\n",
    "df['Name'] = names\n",
    "\n",
    "columns = ['Name','Longitude','Latitude']\n",
    "df= df[columns]\n",
    "\n",
    "df.head()"
   ]
  },
  {
   "cell_type": "code",
   "execution_count": 30,
   "metadata": {},
   "outputs": [],
   "source": [
    "'''\n",
    "Export points\n",
    "'''\n",
    "\n",
    "# Update\n",
    "with open(output_csv, 'a') as f:\n",
    "    df.to_csv(f, header=False,index=None)\n",
    "\n",
    "# Write new\n",
    "# df.to_csv(output_csv,header=True,index=None)\n",
    "# df.to_csv('tmp.csv',header=True,index=None)"
   ]
  },
  {
   "cell_type": "code",
   "execution_count": 29,
   "metadata": {
    "scrolled": false
   },
   "outputs": [
    {
     "data": {
      "text/html": [
       "<div style=\"width:100%;\"><div style=\"position:relative;width:100%;height:0;padding-bottom:60%;\"><iframe src=\"data:text/html;charset=utf-8;base64,PCFET0NUWVBFIGh0bWw+CjxoZWFkPiAgICAKICAgIDxtZXRhIGh0dHAtZXF1aXY9ImNvbnRlbnQtdHlwZSIgY29udGVudD0idGV4dC9odG1sOyBjaGFyc2V0PVVURi04IiAvPgogICAgCiAgICAgICAgPHNjcmlwdD4KICAgICAgICAgICAgTF9OT19UT1VDSCA9IGZhbHNlOwogICAgICAgICAgICBMX0RJU0FCTEVfM0QgPSBmYWxzZTsKICAgICAgICA8L3NjcmlwdD4KICAgIAogICAgPHNjcmlwdCBzcmM9Imh0dHBzOi8vY2RuLmpzZGVsaXZyLm5ldC9ucG0vbGVhZmxldEAxLjQuMC9kaXN0L2xlYWZsZXQuanMiPjwvc2NyaXB0PgogICAgPHNjcmlwdCBzcmM9Imh0dHBzOi8vY29kZS5qcXVlcnkuY29tL2pxdWVyeS0xLjEyLjQubWluLmpzIj48L3NjcmlwdD4KICAgIDxzY3JpcHQgc3JjPSJodHRwczovL21heGNkbi5ib290c3RyYXBjZG4uY29tL2Jvb3RzdHJhcC8zLjIuMC9qcy9ib290c3RyYXAubWluLmpzIj48L3NjcmlwdD4KICAgIDxzY3JpcHQgc3JjPSJodHRwczovL2NkbmpzLmNsb3VkZmxhcmUuY29tL2FqYXgvbGlicy9MZWFmbGV0LmF3ZXNvbWUtbWFya2Vycy8yLjAuMi9sZWFmbGV0LmF3ZXNvbWUtbWFya2Vycy5qcyI+PC9zY3JpcHQ+CiAgICA8bGluayByZWw9InN0eWxlc2hlZXQiIGhyZWY9Imh0dHBzOi8vY2RuLmpzZGVsaXZyLm5ldC9ucG0vbGVhZmxldEAxLjQuMC9kaXN0L2xlYWZsZXQuY3NzIi8+CiAgICA8bGluayByZWw9InN0eWxlc2hlZXQiIGhyZWY9Imh0dHBzOi8vbWF4Y2RuLmJvb3RzdHJhcGNkbi5jb20vYm9vdHN0cmFwLzMuMi4wL2Nzcy9ib290c3RyYXAubWluLmNzcyIvPgogICAgPGxpbmsgcmVsPSJzdHlsZXNoZWV0IiBocmVmPSJodHRwczovL21heGNkbi5ib290c3RyYXBjZG4uY29tL2Jvb3RzdHJhcC8zLjIuMC9jc3MvYm9vdHN0cmFwLXRoZW1lLm1pbi5jc3MiLz4KICAgIDxsaW5rIHJlbD0ic3R5bGVzaGVldCIgaHJlZj0iaHR0cHM6Ly9tYXhjZG4uYm9vdHN0cmFwY2RuLmNvbS9mb250LWF3ZXNvbWUvNC42LjMvY3NzL2ZvbnQtYXdlc29tZS5taW4uY3NzIi8+CiAgICA8bGluayByZWw9InN0eWxlc2hlZXQiIGhyZWY9Imh0dHBzOi8vY2RuanMuY2xvdWRmbGFyZS5jb20vYWpheC9saWJzL0xlYWZsZXQuYXdlc29tZS1tYXJrZXJzLzIuMC4yL2xlYWZsZXQuYXdlc29tZS1tYXJrZXJzLmNzcyIvPgogICAgPGxpbmsgcmVsPSJzdHlsZXNoZWV0IiBocmVmPSJodHRwczovL3Jhd2Nkbi5naXRoYWNrLmNvbS9weXRob24tdmlzdWFsaXphdGlvbi9mb2xpdW0vbWFzdGVyL2ZvbGl1bS90ZW1wbGF0ZXMvbGVhZmxldC5hd2Vzb21lLnJvdGF0ZS5jc3MiLz4KICAgIDxzdHlsZT5odG1sLCBib2R5IHt3aWR0aDogMTAwJTtoZWlnaHQ6IDEwMCU7bWFyZ2luOiAwO3BhZGRpbmc6IDA7fTwvc3R5bGU+CiAgICA8c3R5bGU+I21hcCB7cG9zaXRpb246YWJzb2x1dGU7dG9wOjA7Ym90dG9tOjA7cmlnaHQ6MDtsZWZ0OjA7fTwvc3R5bGU+CiAgICAKICAgICAgICAgICAgPG1ldGEgbmFtZT0idmlld3BvcnQiIGNvbnRlbnQ9IndpZHRoPWRldmljZS13aWR0aCwKICAgICAgICAgICAgICAgIGluaXRpYWwtc2NhbGU9MS4wLCBtYXhpbXVtLXNjYWxlPTEuMCwgdXNlci1zY2FsYWJsZT1ubyIgLz4KICAgICAgICAgICAgPHN0eWxlPgogICAgICAgICAgICAgICAgI21hcF81YTVjNzczNzA3NTY0NWE5OGUzMjlmMGEyNzk3NjY4MCB7CiAgICAgICAgICAgICAgICAgICAgcG9zaXRpb246IHJlbGF0aXZlOwogICAgICAgICAgICAgICAgICAgIHdpZHRoOiAxMDAuMCU7CiAgICAgICAgICAgICAgICAgICAgaGVpZ2h0OiAxMDAuMCU7CiAgICAgICAgICAgICAgICAgICAgbGVmdDogMC4wJTsKICAgICAgICAgICAgICAgICAgICB0b3A6IDAuMCU7CiAgICAgICAgICAgICAgICB9CiAgICAgICAgICAgIDwvc3R5bGU+CiAgICAgICAgCjwvaGVhZD4KPGJvZHk+ICAgIAogICAgCiAgICAgICAgICAgIDxkaXYgY2xhc3M9ImZvbGl1bS1tYXAiIGlkPSJtYXBfNWE1Yzc3MzcwNzU2NDVhOThlMzI5ZjBhMjc5NzY2ODAiID48L2Rpdj4KICAgICAgICAKPC9ib2R5Pgo8c2NyaXB0PiAgICAKICAgIAogICAgICAgICAgICB2YXIgbWFwXzVhNWM3NzM3MDc1NjQ1YTk4ZTMyOWYwYTI3OTc2NjgwID0gTC5tYXAoCiAgICAgICAgICAgICAgICAibWFwXzVhNWM3NzM3MDc1NjQ1YTk4ZTMyOWYwYTI3OTc2NjgwIiwKICAgICAgICAgICAgICAgIHsKICAgICAgICAgICAgICAgICAgICBjZW50ZXI6IFs0Ny40NjQyNDg3OTQ1NjAzNzYsIC0xMjIuMjg4NjgyNjkwNTc3NF0sCiAgICAgICAgICAgICAgICAgICAgY3JzOiBMLkNSUy5FUFNHMzg1NywKICAgICAgICAgICAgICAgICAgICB6b29tOiAxMiwKICAgICAgICAgICAgICAgICAgICB6b29tQ29udHJvbDogdHJ1ZSwKICAgICAgICAgICAgICAgICAgICBwcmVmZXJDYW52YXM6IGZhbHNlLAogICAgICAgICAgICAgICAgfQogICAgICAgICAgICApOwoKICAgICAgICAgICAgCgogICAgICAgIAogICAgCiAgICAgICAgICAgIHZhciB0aWxlX2xheWVyXzg3NTNhZDA1OGU1MDQwYTI5ODY1MzNhOWNiYTk1ODA0ID0gTC50aWxlTGF5ZXIoCiAgICAgICAgICAgICAgICAiaHR0cHM6Ly97c30udGlsZS5vcGVuc3RyZWV0bWFwLm9yZy97en0ve3h9L3t5fS5wbmciLAogICAgICAgICAgICAgICAgeyJhdHRyaWJ1dGlvbiI6ICJEYXRhIGJ5IFx1MDAyNmNvcHk7IFx1MDAzY2EgaHJlZj1cImh0dHA6Ly9vcGVuc3RyZWV0bWFwLm9yZ1wiXHUwMDNlT3BlblN0cmVldE1hcFx1MDAzYy9hXHUwMDNlLCB1bmRlciBcdTAwM2NhIGhyZWY9XCJodHRwOi8vd3d3Lm9wZW5zdHJlZXRtYXAub3JnL2NvcHlyaWdodFwiXHUwMDNlT0RiTFx1MDAzYy9hXHUwMDNlLiIsICJkZXRlY3RSZXRpbmEiOiBmYWxzZSwgIm1heE5hdGl2ZVpvb20iOiAxOCwgIm1heFpvb20iOiAxOCwgIm1pblpvb20iOiAwLCAibm9XcmFwIjogZmFsc2UsICJvcGFjaXR5IjogMSwgInN1YmRvbWFpbnMiOiAiYWJjIiwgInRtcyI6IGZhbHNlfQogICAgICAgICAgICApLmFkZFRvKG1hcF81YTVjNzczNzA3NTY0NWE5OGUzMjlmMGEyNzk3NjY4MCk7CiAgICAgICAgCiAgICAKICAgICAgICAgICAgdmFyIG1hcmtlcl8wM2Y4NmMzNGYyNjU0MjRjYWIwNWJlYTZlNGVmYTRhMCA9IEwubWFya2VyKAogICAgICAgICAgICAgICAgWzQ3LjQ2NDI0ODc5NDU2MDM3NiwgLTEyMi4yODg2ODI2OTA1Nzc0XSwKICAgICAgICAgICAgICAgIHt9CiAgICAgICAgICAgICkuYWRkVG8obWFwXzVhNWM3NzM3MDc1NjQ1YTk4ZTMyOWYwYTI3OTc2NjgwKTsKICAgICAgICAKICAgIAogICAgICAgICAgICB2YXIgbWFya2VyXzVkMjBmNDk1NGNlMTRiMTVhOTE2Mzk3YjdlZmYxMjlkID0gTC5tYXJrZXIoCiAgICAgICAgICAgICAgICBbNDcuNDYzMjI4NzY3MDQxNzIsIC0xMjIuMjg1NTkzMjc4NDQ0MTFdLAogICAgICAgICAgICAgICAge30KICAgICAgICAgICAgKS5hZGRUbyhtYXBfNWE1Yzc3MzcwNzU2NDVhOThlMzI5ZjBhMjc5NzY2ODApOwogICAgICAgIAogICAgCiAgICAgICAgICAgIHZhciBtYXJrZXJfNzFjZTZmMWVkODBlNGJiOWFhOWMwZDdjZGY5ZGRmZTIgPSBMLm1hcmtlcigKICAgICAgICAgICAgICAgIFs0Ny40NjMyNDE3OTM4MDMyMzUsIC0xMjIuMjg0NjAzNjMxNzAzNDZdLAogICAgICAgICAgICAgICAge30KICAgICAgICAgICAgKS5hZGRUbyhtYXBfNWE1Yzc3MzcwNzU2NDVhOThlMzI5ZjBhMjc5NzY2ODApOwogICAgICAgIAogICAgCiAgICAgICAgICAgIHZhciBtYXJrZXJfYjBhOTI1YTIzODNhNDBkNWFhNWExMjM3ZDIwZTFjMDIgPSBMLm1hcmtlcigKICAgICAgICAgICAgICAgIFs0Ny40NjM0NDQ4ODAzMjIyNywgLTEyMi4yODM0MjQ5Njc0MDY0OF0sCiAgICAgICAgICAgICAgICB7fQogICAgICAgICAgICApLmFkZFRvKG1hcF81YTVjNzczNzA3NTY0NWE5OGUzMjlmMGEyNzk3NjY4MCk7CiAgICAgICAgCiAgICAKICAgICAgICAgICAgdmFyIG1hcmtlcl80OGVmY2EyZDMxMTE0NTNkYmU5ZDU1ZDg3OWU4Y2U3YyA9IEwubWFya2VyKAogICAgICAgICAgICAgICAgWzQ3LjQ2MzgyNDE5OTg5NjEyLCAtMTIyLjI4MjM0NTExOTcwNTUyXSwKICAgICAgICAgICAgICAgIHt9CiAgICAgICAgICAgICkuYWRkVG8obWFwXzVhNWM3NzM3MDc1NjQ1YTk4ZTMyOWYwYTI3OTc2NjgwKTsKICAgICAgICAKICAgIAogICAgICAgICAgICB2YXIgbWFya2VyXzNiYjJhOTQ0NjBkYjQ0Yzg5NWM5NDE3MGQzMWQzMzAwID0gTC5tYXJrZXIoCiAgICAgICAgICAgICAgICBbNDcuNDY0NzUzMjA0MzM1ODY0LCAtMTIyLjI4MDgyNzQ0MDAyMjc5XSwKICAgICAgICAgICAgICAgIHt9CiAgICAgICAgICAgICkuYWRkVG8obWFwXzVhNWM3NzM3MDc1NjQ1YTk4ZTMyOWYwYTI3OTc2NjgwKTsKICAgICAgICAKICAgIAogICAgICAgICAgICB2YXIgbWFya2VyX2YzNmQ3ZWY3NDM5ODQ1MTZhMjM0MDQwMDUyYjE5YzE2ID0gTC5tYXJrZXIoCiAgICAgICAgICAgICAgICBbNDcuNDY1MzQ1NjMyNjgxNjYsIC0xMjIuMjc5NzMwMzQ5ODM1NzNdLAogICAgICAgICAgICAgICAge30KICAgICAgICAgICAgKS5hZGRUbyhtYXBfNWE1Yzc3MzcwNzU2NDVhOThlMzI5ZjBhMjc5NzY2ODApOwogICAgICAgIAogICAgCiAgICAgICAgICAgIHZhciBtYXJrZXJfNTVmODA5NDhjMWMzNGE3YTkyNDA5OTg0YjZkOGRiZjUgPSBMLm1hcmtlcigKICAgICAgICAgICAgICAgIFs0Ny40NjU3ODY5MDI1NTk4LCAtMTIyLjI3ODQ3NjY2NzQzMTk3XSwKICAgICAgICAgICAgICAgIHt9CiAgICAgICAgICAgICkuYWRkVG8obWFwXzVhNWM3NzM3MDc1NjQ1YTk4ZTMyOWYwYTI3OTc2NjgwKTsKICAgICAgICAKICAgIAogICAgICAgICAgICB2YXIgbWFya2VyXzE0MWJmOGNkZDlhYTQ4ZTU4NjE3NmJlNmU2OThlY2YxID0gTC5tYXJrZXIoCiAgICAgICAgICAgICAgICBbNDcuNDY1OTkzMDQ4OTIwNTEsIC0xMjIuMjc3MzcxNTg0NzE1MjddLAogICAgICAgICAgICAgICAge30KICAgICAgICAgICAgKS5hZGRUbyhtYXBfNWE1Yzc3MzcwNzU2NDVhOThlMzI5ZjBhMjc5NzY2ODApOwogICAgICAgIAogICAgCiAgICAgICAgICAgIHZhciBtYXJrZXJfOGQ5Njk0NjZhN2Q1NDI1YWFmNDNmM2U5NGMwZDJiNDYgPSBMLm1hcmtlcigKICAgICAgICAgICAgICAgIFs0Ny40NjYwMTcwOTg4MTE5OCwgLTEyMi4yNzYyMTM2MzA4MDkyNV0sCiAgICAgICAgICAgICAgICB7fQogICAgICAgICAgICApLmFkZFRvKG1hcF81YTVjNzczNzA3NTY0NWE5OGUzMjlmMGEyNzk3NjY4MCk7CiAgICAgICAgCiAgICAKICAgICAgICAgICAgdmFyIG1hcmtlcl9mYzU3ZmFjNTBmZTE0OTJhOGViMWUyZTgyZjE2MDhhMCA9IEwubWFya2VyKAogICAgICAgICAgICAgICAgWzQ3LjQ2NTgwNjEzODkxNjQsIC0xMjIuMjc0ODcwNzIxMzcwNjJdLAogICAgICAgICAgICAgICAge30KICAgICAgICAgICAgKS5hZGRUbyhtYXBfNWE1Yzc3MzcwNzU2NDVhOThlMzI5ZjBhMjc5NzY2ODApOwogICAgICAgIAogICAgCiAgICAgICAgICAgIHZhciBtYXJrZXJfZGVjMjY1MzdiYTU0NDEyMzhjNzhjZTZkMGY0M2UxYWUgPSBMLm1hcmtlcigKICAgICAgICAgICAgICAgIFs0Ny40NjUyMTk3MTY1Njk4MDYsIC0xMjIuMjcyMDMzNTQ0ODQ2OF0sCiAgICAgICAgICAgICAgICB7fQogICAgICAgICAgICApLmFkZFRvKG1hcF81YTVjNzczNzA3NTY0NWE5OGUzMjlmMGEyNzk3NjY4MCk7CiAgICAgICAgCiAgICAKICAgICAgICAgICAgdmFyIG1hcmtlcl8zNDdmOTNiOWVhZWY0MTczOGZlOTA3OGM1OGJjN2Q4YSA9IEwubWFya2VyKAogICAgICAgICAgICAgICAgWzQ3LjQ2NTIzNjA0Njg2ODI1NiwgLTEyMi4yNzEwNzc0MTUxNjAxMV0sCiAgICAgICAgICAgICAgICB7fQogICAgICAgICAgICApLmFkZFRvKG1hcF81YTVjNzczNzA3NTY0NWE5OGUzMjlmMGEyNzk3NjY4MCk7CiAgICAgICAgCiAgICAKICAgICAgICAgICAgdmFyIG1hcmtlcl80NDQ3ZjE5OGE5YWQ0OTgyYjUwMjI5MTY5MDZjYjgwZSA9IEwubWFya2VyKAogICAgICAgICAgICAgICAgWzQ3LjQ2NTQyMzI4ODMyNzc3LCAtMTIyLjI3MDI4MjQ5NDkwMzgyXSwKICAgICAgICAgICAgICAgIHt9CiAgICAgICAgICAgICkuYWRkVG8obWFwXzVhNWM3NzM3MDc1NjQ1YTk4ZTMyOWYwYTI3OTc2NjgwKTsKICAgICAgICAKICAgIAogICAgICAgICAgICB2YXIgbWFya2VyX2ZhNzM5MzczN2IxNTQzMjI5ZGFlYzExMzEwYjYxMDIyID0gTC5tYXJrZXIoCiAgICAgICAgICAgICAgICBbNDcuNDY1Nzc0NjE2MDk2NjQ1LCAtMTIyLjI2OTYxOTM3NTU2MDE3XSwKICAgICAgICAgICAgICAgIHt9CiAgICAgICAgICAgICkuYWRkVG8obWFwXzVhNWM3NzM3MDc1NjQ1YTk4ZTMyOWYwYTI3OTc2NjgwKTsKICAgICAgICAKICAgIAogICAgICAgICAgICB2YXIgbWFya2VyX2RlMThlMmI4YTU3YzRiOTM5NWE4Njk5MDhkMmZkZmI2ID0gTC5tYXJrZXIoCiAgICAgICAgICAgICAgICBbNDcuNDY2MjUyMzY1NjY0MjQ2LCAtMTIyLjI2OTE1OTE2NjQwMDY2XSwKICAgICAgICAgICAgICAgIHt9CiAgICAgICAgICAgICkuYWRkVG8obWFwXzVhNWM3NzM3MDc1NjQ1YTk4ZTMyOWYwYTI3OTc2NjgwKTsKICAgICAgICAKICAgIAogICAgICAgICAgICB2YXIgbWFya2VyX2IxNzVhNGViODY5NjQwZTZiMDQyNTU4YzczMmNjMDc1ID0gTC5tYXJrZXIoCiAgICAgICAgICAgICAgICBbNDcuNDY2OTkwMjgxNzYxNTgsIC0xMjIuMjY4OTIyNjY5OTgxNzhdLAogICAgICAgICAgICAgICAge30KICAgICAgICAgICAgKS5hZGRUbyhtYXBfNWE1Yzc3MzcwNzU2NDVhOThlMzI5ZjBhMjc5NzY2ODApOwogICAgICAgIAogICAgCiAgICAgICAgICAgIHZhciBtYXJrZXJfMTNhZDJhYjI0NDhjNGY5Mzk4NDFjYjkxZDBlYWRlZjggPSBMLm1hcmtlcigKICAgICAgICAgICAgICAgIFs0Ny40NjkxOTU2ODA1NDQ1NjYsIC0xMjIuMjY4ODI0NTQ2NjExOF0sCiAgICAgICAgICAgICAgICB7fQogICAgICAgICAgICApLmFkZFRvKG1hcF81YTVjNzczNzA3NTY0NWE5OGUzMjlmMGEyNzk3NjY4MCk7CiAgICAgICAgCiAgICAKICAgICAgICAgICAgdmFyIG1hcmtlcl9hYTUwYTg2MDNlMTc0ZGVlYmU0N2I1YmZkNGE2NjIzOCA9IEwubWFya2VyKAogICAgICAgICAgICAgICAgWzQ3LjQ3MzE0MTcyNjY1NTQ2LCAtMTIyLjI2OTcwNzUwMDc4MDldLAogICAgICAgICAgICAgICAge30KICAgICAgICAgICAgKS5hZGRUbyhtYXBfNWE1Yzc3MzcwNzU2NDVhOThlMzI5ZjBhMjc5NzY2ODApOwogICAgICAgIAogICAgCiAgICAgICAgICAgIHZhciBtYXJrZXJfMjllMzgzOGZmMmRiNDY1NTk0YjdkZWRkOTBhMzQ2N2EgPSBMLm1hcmtlcigKICAgICAgICAgICAgICAgIFs0Ny40NzQ2OTkxMzMwNjkzLCAtMTIyLjI3MDM1OTc3OTA3NjA3XSwKICAgICAgICAgICAgICAgIHt9CiAgICAgICAgICAgICkuYWRkVG8obWFwXzVhNWM3NzM3MDc1NjQ1YTk4ZTMyOWYwYTI3OTc2NjgwKTsKICAgICAgICAKICAgIAogICAgICAgICAgICB2YXIgbWFya2VyXzlkOWExZWUyZWYyMjRlZThiMDZmMTBmYzQzZTMxODYzID0gTC5tYXJrZXIoCiAgICAgICAgICAgICAgICBbNDcuNDc5NDU5NTQxNjk2NTU2LCAtMTIyLjI3MjkzNzI0MTgzMTg4XSwKICAgICAgICAgICAgICAgIHt9CiAgICAgICAgICAgICkuYWRkVG8obWFwXzVhNWM3NzM3MDc1NjQ1YTk4ZTMyOWYwYTI3OTc2NjgwKTsKICAgICAgICAKICAgIAogICAgICAgICAgICB2YXIgbWFya2VyX2ZkNzg0ODRhODYwMzQ1OTQ5YjMwODFlNDM0N2M5N2RkID0gTC5tYXJrZXIoCiAgICAgICAgICAgICAgICBbNDcuNDgwMzIxODYyNDczOSwgLTEyMi4yNzMwOTQ3MzE2ODk5OF0sCiAgICAgICAgICAgICAgICB7fQogICAgICAgICAgICApLmFkZFRvKG1hcF81YTVjNzczNzA3NTY0NWE5OGUzMjlmMGEyNzk3NjY4MCk7CiAgICAgICAgCiAgICAKICAgICAgICAgICAgdmFyIG1hcmtlcl8yNWE0MDM5YTQ1NWU0ZDQyYTM4ZGNhYmVmMDg3ZmM3ZCA9IEwubWFya2VyKAogICAgICAgICAgICAgICAgWzQ3LjQ4MTc2ODg2NzQwNjQ5LCAtMTIyLjI3MjkxNjA1NDgxNjI1XSwKICAgICAgICAgICAgICAgIHt9CiAgICAgICAgICAgICkuYWRkVG8obWFwXzVhNWM3NzM3MDc1NjQ1YTk4ZTMyOWYwYTI3OTc2NjgwKTsKICAgICAgICAKICAgIAogICAgICAgICAgICB2YXIgbWFya2VyXzQ1M2RiYjAzMTdkNzRmNWU5N2QyZTJjYjNjMzk0ZjQ1ID0gTC5tYXJrZXIoCiAgICAgICAgICAgICAgICBbNDcuNDgyNzE2MTgyMDg3NSwgLTEyMi4yNzI5ODY5OTk2NTExN10sCiAgICAgICAgICAgICAgICB7fQogICAgICAgICAgICApLmFkZFRvKG1hcF81YTVjNzczNzA3NTY0NWE5OGUzMjlmMGEyNzk3NjY4MCk7CiAgICAgICAgCiAgICAKICAgICAgICAgICAgdmFyIG1hcmtlcl9lZTkyYjcxMjQ4YmE0ZTM4OTkyMTkwZjk4ZGFjZGJiOCA9IEwubWFya2VyKAogICAgICAgICAgICAgICAgWzQ3LjQ4MzQ0ODQ0MjczMDc2LCAtMTIyLjI3MzM0MzM4MTY3MjE1XSwKICAgICAgICAgICAgICAgIHt9CiAgICAgICAgICAgICkuYWRkVG8obWFwXzVhNWM3NzM3MDc1NjQ1YTk4ZTMyOWYwYTI3OTc2NjgwKTsKICAgICAgICAKICAgIAogICAgICAgICAgICB2YXIgbWFya2VyX2ViZmFiZDdkYWVjZTQ1NWE4YzIwYjU1MzQ5NTVjYjFlID0gTC5tYXJrZXIoCiAgICAgICAgICAgICAgICBbNDcuNDg0MTY0OTU3NTkwODksIC0xMjIuMjc0MDI2OTE5NzU3MDhdLAogICAgICAgICAgICAgICAge30KICAgICAgICAgICAgKS5hZGRUbyhtYXBfNWE1Yzc3MzcwNzU2NDVhOThlMzI5ZjBhMjc5NzY2ODApOwogICAgICAgIAogICAgCiAgICAgICAgICAgIHZhciBtYXJrZXJfZWFlZGJhZDk2MDBkNDMxMjk5NjRmNWJkMjU3MDU1ZTMgPSBMLm1hcmtlcigKICAgICAgICAgICAgICAgIFs0Ny40ODg2NzkzNTA4MTg4MSwgLTEyMi4yODA0NTgyMjk2MTkzNl0sCiAgICAgICAgICAgICAgICB7fQogICAgICAgICAgICApLmFkZFRvKG1hcF81YTVjNzczNzA3NTY0NWE5OGUzMjlmMGEyNzk3NjY4MCk7CiAgICAgICAgCiAgICAKICAgICAgICAgICAgdmFyIG1hcmtlcl9hYzYyNTQyZTNhNTE0MTk4YjZjMjVlMGRkOWFmY2I4NyA9IEwubWFya2VyKAogICAgICAgICAgICAgICAgWzQ3LjQ4OTQ2MzI5NDUxMTg2NCwgLTEyMi4yODEzMDI5NzYyODI2N10sCiAgICAgICAgICAgICAgICB7fQogICAgICAgICAgICApLmFkZFRvKG1hcF81YTVjNzczNzA3NTY0NWE5OGUzMjlmMGEyNzk3NjY4MCk7CiAgICAgICAgCiAgICAKICAgICAgICAgICAgdmFyIG1hcmtlcl81MDM1YzNmNzYwNGE0NDM4OGRlMjcyMGJmYmFmOGFiOSA9IEwubWFya2VyKAogICAgICAgICAgICAgICAgWzQ3LjQ5MDI3MjU1MjI2ODQ4LCAtMTIyLjI4MTgxNjExNDg5Nzk1XSwKICAgICAgICAgICAgICAgIHt9CiAgICAgICAgICAgICkuYWRkVG8obWFwXzVhNWM3NzM3MDc1NjQ1YTk4ZTMyOWYwYTI3OTc2NjgwKTsKICAgICAgICAKICAgIAogICAgICAgICAgICB2YXIgbWFya2VyXzU3NGMyNTg3MzdlZDRkY2RhYTFiOTg3MTQ2M2M2M2M2ID0gTC5tYXJrZXIoCiAgICAgICAgICAgICAgICBbNDcuNDkzODI4ODI2ODA3MDc1LCAtMTIyLjI4MjU0MzA1NTQ2NThdLAogICAgICAgICAgICAgICAge30KICAgICAgICAgICAgKS5hZGRUbyhtYXBfNWE1Yzc3MzcwNzU2NDVhOThlMzI5ZjBhMjc5NzY2ODApOwogICAgICAgIAogICAgCiAgICAgICAgICAgIHZhciBtYXJrZXJfN2U3NWZhNzk2ZDdhNDdmMGI1OTJlZDYxNGY2YmQ5ZGQgPSBMLm1hcmtlcigKICAgICAgICAgICAgICAgIFs0Ny40OTQ4OTAyMzkwOTI0MzUsIC0xMjIuMjgyODg1MzQ0MDQ5MzldLAogICAgICAgICAgICAgICAge30KICAgICAgICAgICAgKS5hZGRUbyhtYXBfNWE1Yzc3MzcwNzU2NDVhOThlMzI5ZjBhMjc5NzY2ODApOwogICAgICAgIAogICAgCiAgICAgICAgICAgIHZhciBtYXJrZXJfNzNmZjllMmM5ZDVmNDdmZWIzMjljYTA4ZDk3MTVhMWYgPSBMLm1hcmtlcigKICAgICAgICAgICAgICAgIFs0Ny40OTU1ODIwNTYyOTkxNiwgLTEyMi4yODM0MTk2MDI3MzA1OV0sCiAgICAgICAgICAgICAgICB7fQogICAgICAgICAgICApLmFkZFRvKG1hcF81YTVjNzczNzA3NTY0NWE5OGUzMjlmMGEyNzk3NjY4MCk7CiAgICAgICAgCiAgICAKICAgICAgICAgICAgdmFyIG1hcmtlcl8yYWMxYTE3MmMzMWU0NjU0ODM4Yzk2OGViZTNhOWFiNyA9IEwubWFya2VyKAogICAgICAgICAgICAgICAgWzQ3LjQ5NjI1ODkwNjU4NzU5LCAtMTIyLjI4NDMzMjMwMTY3OTA2XSwKICAgICAgICAgICAgICAgIHt9CiAgICAgICAgICAgICkuYWRkVG8obWFwXzVhNWM3NzM3MDc1NjQ1YTk4ZTMyOWYwYTI3OTc2NjgwKTsKICAgICAgICAKICAgIAogICAgICAgICAgICB2YXIgbWFya2VyXzYyOTk4ZDFhYzRiNTRiZWRiNWUzOGNkMWZkNzU5ZTU3ID0gTC5tYXJrZXIoCiAgICAgICAgICAgICAgICBbNDcuNDk3MzM2Nzc4NDg5NDM0LCAtMTIyLjI4NjMwMjM0NTQyNDY2XSwKICAgICAgICAgICAgICAgIHt9CiAgICAgICAgICAgICkuYWRkVG8obWFwXzVhNWM3NzM3MDc1NjQ1YTk4ZTMyOWYwYTI3OTc2NjgwKTsKICAgICAgICAKICAgIAogICAgICAgICAgICB2YXIgbWFya2VyXzZiMDc2ZGJmY2ZmNjQ5YWI4NTQwMDU0NTZiOTg3NjE4ID0gTC5tYXJrZXIoCiAgICAgICAgICAgICAgICBbNDcuNDk4MDQ5MzkxNjY0NDY2LCAtMTIyLjI4NzE3OTEwMTAzNjVdLAogICAgICAgICAgICAgICAge30KICAgICAgICAgICAgKS5hZGRUbyhtYXBfNWE1Yzc3MzcwNzU2NDVhOThlMzI5ZjBhMjc5NzY2ODApOwogICAgICAgIAogICAgCiAgICAgICAgICAgIHZhciBtYXJrZXJfNjA3MzliZTRhNTQzNGM5MmJjZTc1ZGM5MTEyYmM2MWEgPSBMLm1hcmtlcigKICAgICAgICAgICAgICAgIFs0Ny40OTg4NjY2MzE1MjExLCAtMTIyLjI4NzgyNzMzMzcwMzM4XSwKICAgICAgICAgICAgICAgIHt9CiAgICAgICAgICAgICkuYWRkVG8obWFwXzVhNWM3NzM3MDc1NjQ1YTk4ZTMyOWYwYTI3OTc2NjgwKTsKICAgICAgICAKICAgIAogICAgICAgICAgICB2YXIgbWFya2VyXzI1N2FmNzc4NDUwYzRlZmFhNzAzNWE0ZGVkNWE5YTdhID0gTC5tYXJrZXIoCiAgICAgICAgICAgICAgICBbNDcuNDk5OTA1NjY4MjY2OTEsIC0xMjIuMjg4MjYyOTc0MzA2MDVdLAogICAgICAgICAgICAgICAge30KICAgICAgICAgICAgKS5hZGRUbyhtYXBfNWE1Yzc3MzcwNzU2NDVhOThlMzI5ZjBhMjc5NzY2ODApOwogICAgICAgIAogICAgCiAgICAgICAgICAgIHZhciBtYXJrZXJfYWU5MzZjOGVmY2U3NDZjYTg3MmFhNTM3YjIxNTg3YWUgPSBMLm1hcmtlcigKICAgICAgICAgICAgICAgIFs0Ny41MDQ2MTgwNTA2NzA2NiwgLTEyMi4yODk5OTIyNjUxNTU0Nl0sCiAgICAgICAgICAgICAgICB7fQogICAgICAgICAgICApLmFkZFRvKG1hcF81YTVjNzczNzA3NTY0NWE5OGUzMjlmMGEyNzk3NjY4MCk7CiAgICAgICAgCiAgICAKICAgICAgICAgICAgdmFyIG1hcmtlcl81OTZjMTdhYjBiZTc0MWNjYmQ4MDU2NzI2NzkxNDA2ZiA9IEwubWFya2VyKAogICAgICAgICAgICAgICAgWzQ3LjUwNTM5NDI2MjQxNTk5LCAtMTIyLjI5MDE4Mzc1NTAxODAyXSwKICAgICAgICAgICAgICAgIHt9CiAgICAgICAgICAgICkuYWRkVG8obWFwXzVhNWM3NzM3MDc1NjQ1YTk4ZTMyOWYwYTI3OTc2NjgwKTsKICAgICAgICAKICAgIAogICAgICAgICAgICB2YXIgbWFya2VyXzI5MDQ4NjBiN2NhMjRiNmY5M2E4NTI2NTI5NThhMWU5ID0gTC5tYXJrZXIoCiAgICAgICAgICAgICAgICBbNDcuNTA1OTM4MjUwMDg3Mjc2LCAtMTIyLjI5MDAxMjMxMDc3NjRdLAogICAgICAgICAgICAgICAge30KICAgICAgICAgICAgKS5hZGRUbyhtYXBfNWE1Yzc3MzcwNzU2NDVhOThlMzI5ZjBhMjc5NzY2ODApOwogICAgICAgIAogICAgCiAgICAgICAgICAgIHZhciBtYXJrZXJfOGI1Njk1OTA2MmZlNGM1ZDk1MDk4YTMyMjA2ZGY0YzcgPSBMLm1hcmtlcigKICAgICAgICAgICAgICAgIFs0Ny41MDY0MTMyMzM4MDg1NDQsIC0xMjIuMjg5NTg1MDY5NzM1NzZdLAogICAgICAgICAgICAgICAge30KICAgICAgICAgICAgKS5hZGRUbyhtYXBfNWE1Yzc3MzcwNzU2NDVhOThlMzI5ZjBhMjc5NzY2ODApOwogICAgICAgIAogICAgCiAgICAgICAgICAgIHZhciBtYXJrZXJfOGFhZWU5ZDcwY2Q0NDJmODlhZjUzYjc4NjQzY2E2ZWYgPSBMLm1hcmtlcigKICAgICAgICAgICAgICAgIFs0Ny41MDY3NjU3ODY5OTY0MiwgLTEyMi4yODg5NTAwNzUxNDk4MV0sCiAgICAgICAgICAgICAgICB7fQogICAgICAgICAgICApLmFkZFRvKG1hcF81YTVjNzczNzA3NTY0NWE5OGUzMjlmMGEyNzk3NjY4MCk7CiAgICAgICAgCiAgICAKICAgICAgICAgICAgdmFyIG1hcmtlcl9kYjY4ZjAzY2JlZGY0NDI5OTdkMmIzNWYyYmQ0MjMxOSA9IEwubWFya2VyKAogICAgICAgICAgICAgICAgWzQ3LjUwNjk3MTgzNzEyMDg2LCAtMTIyLjI4ODA0MTgyMjg2OTA4XSwKICAgICAgICAgICAgICAgIHt9CiAgICAgICAgICAgICkuYWRkVG8obWFwXzVhNWM3NzM3MDc1NjQ1YTk4ZTMyOWYwYTI3OTc2NjgwKTsKICAgICAgICAKICAgIAogICAgICAgICAgICB2YXIgbWFya2VyX2M4NGEwNjg2OGU0NjQ5Yjc5OWVmY2ZiN2I4Yjg3MjM0ID0gTC5tYXJrZXIoCiAgICAgICAgICAgICAgICBbNDcuNTA3NDAwMDc2MjMzODg1LCAtMTIyLjI4MDUxMjI0Nzk2MDI2XSwKICAgICAgICAgICAgICAgIHt9CiAgICAgICAgICAgICkuYWRkVG8obWFwXzVhNWM3NzM3MDc1NjQ1YTk4ZTMyOWYwYTI3OTc2NjgwKTsKICAgICAgICAKICAgIAogICAgICAgICAgICB2YXIgbWFya2VyXzhmMjBiNDBmNTYyMjQ0NzA4M2QwOGQzZDNlNjhlYjM4ID0gTC5tYXJrZXIoCiAgICAgICAgICAgICAgICBbNDcuNTA3NjQzNzE2MDg3ODQsIC0xMjIuMjc5NjkyMzA5MzAxODJdLAogICAgICAgICAgICAgICAge30KICAgICAgICAgICAgKS5hZGRUbyhtYXBfNWE1Yzc3MzcwNzU2NDVhOThlMzI5ZjBhMjc5NzY2ODApOwogICAgICAgIAogICAgCiAgICAgICAgICAgIHZhciBtYXJrZXJfNzY0MTUxNmUyMGE2NDU4MGI4OTkxYWE3ODk4ZWE1MTYgPSBMLm1hcmtlcigKICAgICAgICAgICAgICAgIFs0Ny41MDgwNDU0MTk3NjkxOTYsIC0xMjIuMjc5MDIxMzk0OTI5OThdLAogICAgICAgICAgICAgICAge30KICAgICAgICAgICAgKS5hZGRUbyhtYXBfNWE1Yzc3MzcwNzU2NDVhOThlMzI5ZjBhMjc5NzY2ODApOwogICAgICAgIAogICAgCiAgICAgICAgICAgIHZhciBtYXJrZXJfZDBlZTExNmI2MWFlNDU5Y2FmMDJhNDI1OTE3NTE5MmQgPSBMLm1hcmtlcigKICAgICAgICAgICAgICAgIFs0Ny41MDg1NjY3ODExOTQ2OCwgLTEyMi4yNzg1NjM2NDQ1MDMyMl0sCiAgICAgICAgICAgICAgICB7fQogICAgICAgICAgICApLmFkZFRvKG1hcF81YTVjNzczNzA3NTY0NWE5OGUzMjlmMGEyNzk3NjY4MCk7CiAgICAgICAgCiAgICAKICAgICAgICAgICAgdmFyIG1hcmtlcl8xYjU3NGNhMmQ2MGM0MWM1YTY2OWMyN2I5Nzc2ZWNkYiA9IEwubWFya2VyKAogICAgICAgICAgICAgICAgWzQ3LjUwOTIzMDc4ODc2MTczLCAtMTIyLjI3ODM1NjM1NTIwODM5XSwKICAgICAgICAgICAgICAgIHt9CiAgICAgICAgICAgICkuYWRkVG8obWFwXzVhNWM3NzM3MDc1NjQ1YTk4ZTMyOWYwYTI3OTc2NjgwKTsKICAgICAgICAKICAgIAogICAgICAgICAgICB2YXIgbWFya2VyX2YwYzkwN2M2ZTA3ODRiMWFhMGEwNzg2NDkyYmE4ODJkID0gTC5tYXJrZXIoCiAgICAgICAgICAgICAgICBbNDcuNTExMDExNzExMTAxODcsIC0xMjIuMjc4NDQ4MjYwNDY3Ml0sCiAgICAgICAgICAgICAgICB7fQogICAgICAgICAgICApLmFkZFRvKG1hcF81YTVjNzczNzA3NTY0NWE5OGUzMjlmMGEyNzk3NjY4MCk7CiAgICAgICAgCiAgICAKICAgICAgICAgICAgdmFyIG1hcmtlcl85NDI2ZGM2ZWI0ZjQ0MjY4YTM5YTdhMmQ2MzQyZGRmYiA9IEwubWFya2VyKAogICAgICAgICAgICAgICAgWzQ3LjUxMzk5MDMwNTMxNDcyLCAtMTIyLjI3ODgyMjcxOTE2MDQyXSwKICAgICAgICAgICAgICAgIHt9CiAgICAgICAgICAgICkuYWRkVG8obWFwXzVhNWM3NzM3MDc1NjQ1YTk4ZTMyOWYwYTI3OTc2NjgwKTsKICAgICAgICAKICAgIAogICAgICAgICAgICB2YXIgbWFya2VyX2M0ZDQyZGUxZDU4MTRmNjRiZGM2MWU2NzI1MGIyYzZjID0gTC5tYXJrZXIoCiAgICAgICAgICAgICAgICBbNDcuNTE1NjYzMTAwMjg5OTU2LCAtMTIyLjI3ODk5OTk2MDY0NjkxXSwKICAgICAgICAgICAgICAgIHt9CiAgICAgICAgICAgICkuYWRkVG8obWFwXzVhNWM3NzM3MDc1NjQ1YTk4ZTMyOWYwYTI3OTc2NjgwKTsKICAgICAgICAKICAgIAogICAgICAgICAgICB2YXIgbWFya2VyXzk5MTJmZDMyZjdmNjRkNTViYzliYzc5ZTAyZGQ0ZTZhID0gTC5tYXJrZXIoCiAgICAgICAgICAgICAgICBbNDcuNTE5MzE5ODcwNjMzMjQsIC0xMjIuMjc5Nzg1ODU1MDU3MjFdLAogICAgICAgICAgICAgICAge30KICAgICAgICAgICAgKS5hZGRUbyhtYXBfNWE1Yzc3MzcwNzU2NDVhOThlMzI5ZjBhMjc5NzY2ODApOwogICAgICAgIAogICAgCiAgICAgICAgICAgIHZhciBtYXJrZXJfNzA2NDVkZThmMDI0NDY2Y2I0ODBkYjQ1OGUzYzM0MGUgPSBMLm1hcmtlcigKICAgICAgICAgICAgICAgIFs0Ny41MjAzMTAwMTI5ODMyOTUsIC0xMjIuMjc5ODM1NTA5MTA3OTddLAogICAgICAgICAgICAgICAge30KICAgICAgICAgICAgKS5hZGRUbyhtYXBfNWE1Yzc3MzcwNzU2NDVhOThlMzI5ZjBhMjc5NzY2ODApOwogICAgICAgIAogICAgCiAgICAgICAgICAgIHZhciBtYXJrZXJfM2M2YmQxZjYyYmQwNGVlN2ExOWNlOWVkMDMwMGVlZTUgPSBMLm1hcmtlcigKICAgICAgICAgICAgICAgIFs0Ny41MjQzNjI4NjExNDE3NCwgLTEyMi4yNzg4MDk3NjQzNzkxOV0sCiAgICAgICAgICAgICAgICB7fQogICAgICAgICAgICApLmFkZFRvKG1hcF81YTVjNzczNzA3NTY0NWE5OGUzMjlmMGEyNzk3NjY4MCk7CiAgICAgICAgCiAgICAKICAgICAgICAgICAgdmFyIG1hcmtlcl85ZWQwZDUxYTU2MzI0M2YxYmVjM2JmZmExN2E4YzFlOSA9IEwubWFya2VyKAogICAgICAgICAgICAgICAgWzQ3LjUyNTE2MDMxMjQ4NzU1LCAtMTIyLjI3ODc5NzA1ODU1NDczXSwKICAgICAgICAgICAgICAgIHt9CiAgICAgICAgICAgICkuYWRkVG8obWFwXzVhNWM3NzM3MDc1NjQ1YTk4ZTMyOWYwYTI3OTc2NjgwKTsKICAgICAgICAKICAgIAogICAgICAgICAgICB2YXIgbWFya2VyXzA1ZmE2MmM5NzI3ZDRjMDlhYzEyYmZmODQzMzIxNTQ0ID0gTC5tYXJrZXIoCiAgICAgICAgICAgICAgICBbNDcuNTI1OTk0MDI1MjI2MDksIC0xMjIuMjc5MDg4Mjc3MzAwM10sCiAgICAgICAgICAgICAgICB7fQogICAgICAgICAgICApLmFkZFRvKG1hcF81YTVjNzczNzA3NTY0NWE5OGUzMjlmMGEyNzk3NjY4MCk7CiAgICAgICAgCiAgICAKICAgICAgICAgICAgdmFyIG1hcmtlcl85ZWUyZDNkZjQ5NDc0MzhlOGNmYTljNGQzYzBkMDU1OSA9IEwubWFya2VyKAogICAgICAgICAgICAgICAgWzQ3LjUyOTEyODM2OTk5Njg0LCAtMTIyLjI4MDU0NjQ0NjYwNDU2XSwKICAgICAgICAgICAgICAgIHt9CiAgICAgICAgICAgICkuYWRkVG8obWFwXzVhNWM3NzM3MDc1NjQ1YTk4ZTMyOWYwYTI3OTc2NjgwKTsKICAgICAgICAKICAgIAogICAgICAgICAgICB2YXIgbWFya2VyXzE5ZjhiYmM5YmIwOTQ5MGFiMTAwNDNlZTQ1ZTc2NWFmID0gTC5tYXJrZXIoCiAgICAgICAgICAgICAgICBbNDcuNTM1OTA0NjcwODAzOTcsIC0xMjIuMjgwNzQzMDU3MTI4MDldLAogICAgICAgICAgICAgICAge30KICAgICAgICAgICAgKS5hZGRUbyhtYXBfNWE1Yzc3MzcwNzU2NDVhOThlMzI5ZjBhMjc5NzY2ODApOwogICAgICAgIAogICAgCiAgICAgICAgICAgIHZhciBtYXJrZXJfYzNmMDAxMGQwYWU0NGY4OGE3OGQ1NzNjOWRhZDJhMTMgPSBMLm1hcmtlcigKICAgICAgICAgICAgICAgIFs0Ny41MzY3Nzc1MDgwODQwNCwgLTEyMi4yODA5Mjk4NjcxNTMzXSwKICAgICAgICAgICAgICAgIHt9CiAgICAgICAgICAgICkuYWRkVG8obWFwXzVhNWM3NzM3MDc1NjQ1YTk4ZTMyOWYwYTI3OTc2NjgwKTsKICAgICAgICAKICAgIAogICAgICAgICAgICB2YXIgbWFya2VyXzM2ZTJlMmJmNmY2ZDQzYWE4NzhlMzQ5MWY1MTU3MjNlID0gTC5tYXJrZXIoCiAgICAgICAgICAgICAgICBbNDcuNTQ2Mzk0NTYxMDUxMiwgLTEyMi4yODU3MDI3MjI1MDg1N10sCiAgICAgICAgICAgICAgICB7fQogICAgICAgICAgICApLmFkZFRvKG1hcF81YTVjNzczNzA3NTY0NWE5OGUzMjlmMGEyNzk3NjY4MCk7CiAgICAgICAgCiAgICAKICAgICAgICAgICAgdmFyIG1hcmtlcl9lYTQ1MWQ0ZDcwMzc0NjIzYjZmMTEyMzU2ODIwZWZlNSA9IEwubWFya2VyKAogICAgICAgICAgICAgICAgWzQ3LjU1NTUzNDE0NzE1MjgsIC0xMjIuMjkwMDYyMjY3MDg3MjhdLAogICAgICAgICAgICAgICAge30KICAgICAgICAgICAgKS5hZGRUbyhtYXBfNWE1Yzc3MzcwNzU2NDVhOThlMzI5ZjBhMjc5NzY2ODApOwogICAgICAgIAogICAgCiAgICAgICAgICAgIHZhciBtYXJrZXJfMTJkMmE4MTI5YWQzNGU0ZDlmZmIxYTMwOGUyZjM2NzEgPSBMLm1hcmtlcigKICAgICAgICAgICAgICAgIFs0Ny41NjU5NjA4MDQ0Mzk0ODQsIC0xMjIuMjk2NTkzNTMwNDA2MjhdLAogICAgICAgICAgICAgICAge30KICAgICAgICAgICAgKS5hZGRUbyhtYXBfNWE1Yzc3MzcwNzU2NDVhOThlMzI5ZjBhMjc5NzY2ODApOwogICAgICAgIAogICAgCiAgICAgICAgICAgIHZhciBtYXJrZXJfNjI2N2VlY2QxOTcwNGYxOGIyYjUwMGRhNWFmMjdlMTcgPSBMLm1hcmtlcigKICAgICAgICAgICAgICAgIFs0Ny41NjY3MTU2MjU2NzAwMywgLTEyMi4yOTY4NjkwNjkwMzYxMl0sCiAgICAgICAgICAgICAgICB7fQogICAgICAgICAgICApLmFkZFRvKG1hcF81YTVjNzczNzA3NTY0NWE5OGUzMjlmMGEyNzk3NjY4MCk7CiAgICAgICAgCiAgICAKICAgICAgICAgICAgdmFyIG1hcmtlcl9kNDhjMjU4Yjc1NGY0Njc3ODg2MWI0MmRiZGE5MDk1MiA9IEwubWFya2VyKAogICAgICAgICAgICAgICAgWzQ3LjU2ODIzMTMyMzgxMjMzNCwgLTEyMi4yOTY4NDEwMzk2MTM0NV0sCiAgICAgICAgICAgICAgICB7fQogICAgICAgICAgICApLmFkZFRvKG1hcF81YTVjNzczNzA3NTY0NWE5OGUzMjlmMGEyNzk3NjY4MCk7CiAgICAgICAgCiAgICAKICAgICAgICAgICAgdmFyIG1hcmtlcl8xMzljNzExNThjNGE0NDlhYjgxZjFhNmQ3NGNkNzk4YSA9IEwubWFya2VyKAogICAgICAgICAgICAgICAgWzQ3LjU3NDgyNDE3MTAwMzQ1NiwgLTEyMi4yOTY3ODgwMjYyNDU1Ml0sCiAgICAgICAgICAgICAgICB7fQogICAgICAgICAgICApLmFkZFRvKG1hcF81YTVjNzczNzA3NTY0NWE5OGUzMjlmMGEyNzk3NjY4MCk7CiAgICAgICAgCiAgICAKICAgICAgICAgICAgdmFyIG1hcmtlcl80NjMxN2RkOTM3NTU0NzJlYjU1ZmEzOTlkMDkwMjc0MiA9IEwubWFya2VyKAogICAgICAgICAgICAgICAgWzQ3LjU3NTUzMDE4NDA3Mjk5LCAtMTIyLjI5NjkyNDUyODY3NDI0XSwKICAgICAgICAgICAgICAgIHt9CiAgICAgICAgICAgICkuYWRkVG8obWFwXzVhNWM3NzM3MDc1NjQ1YTk4ZTMyOWYwYTI3OTc2NjgwKTsKICAgICAgICAKICAgIAogICAgICAgICAgICB2YXIgbWFya2VyXzQ5YjZhOTAxYzQ4YzRhNmI5M2E1NWYwYWM1OTQzZjgyID0gTC5tYXJrZXIoCiAgICAgICAgICAgICAgICBbNDcuNTc3NDAyNzI0NzIxMDUsIC0xMjIuMjk4MzE4MDczOTA2OTNdLAogICAgICAgICAgICAgICAge30KICAgICAgICAgICAgKS5hZGRUbyhtYXBfNWE1Yzc3MzcwNzU2NDVhOThlMzI5ZjBhMjc5NzY2ODApOwogICAgICAgIAogICAgCiAgICAgICAgICAgIHZhciBtYXJrZXJfOWQ1MTQ2M2NkYzdjNDYzZTk3YjQ1MWJmYjc0Yzc2ODUgPSBMLm1hcmtlcigKICAgICAgICAgICAgICAgIFs0Ny41Nzc3NTk3NjE4MzI4MywgLTEyMi4yOTg4NjE1NjIxNTY0M10sCiAgICAgICAgICAgICAgICB7fQogICAgICAgICAgICApLmFkZFRvKG1hcF81YTVjNzczNzA3NTY0NWE5OGUzMjlmMGEyNzk3NjY4MCk7CiAgICAgICAgCiAgICAKICAgICAgICAgICAgdmFyIG1hcmtlcl9lZGQzZTA3NzhhNjY0MTQ0OGE5ZTE3OTZiNjYwZDdmMiA9IEwubWFya2VyKAogICAgICAgICAgICAgICAgWzQ3LjYxMzc1MjkzOTUxMTUzNSwgLTEyMi4zMzEyNjYxMTQxMjUzNF0sCiAgICAgICAgICAgICAgICB7fQogICAgICAgICAgICApLmFkZFRvKG1hcF81YTVjNzczNzA3NTY0NWE5OGUzMjlmMGEyNzk3NjY4MCk7CiAgICAgICAgCiAgICAKICAgICAgICAgICAgdmFyIG1hcmtlcl9iZWJkNmFlMjlhYzA0OGQyYWJjZjI3ODkwMzBjNWRiOCA9IEwubWFya2VyKAogICAgICAgICAgICAgICAgWzQ3LjYxMjA0ODQ3MzIxMTU4LCAtMTIyLjMzNTUyNjI1NjE3Njg4XSwKICAgICAgICAgICAgICAgIHt9CiAgICAgICAgICAgICkuYWRkVG8obWFwXzVhNWM3NzM3MDc1NjQ1YTk4ZTMyOWYwYTI3OTc2NjgwKTsKICAgICAgICAKICAgIAogICAgICAgICAgICB2YXIgbWFya2VyX2JlZmM0OGQzZGU0NzQ0Yzk5YzM3NzNiY2E1YjliZjc0ID0gTC5tYXJrZXIoCiAgICAgICAgICAgICAgICBbNDcuNjExMDk2NDAyMzUwODIsIC0xMjIuMzM3NzQ0MTcxNDI2NDZdLAogICAgICAgICAgICAgICAge30KICAgICAgICAgICAgKS5hZGRUbyhtYXBfNWE1Yzc3MzcwNzU2NDVhOThlMzI5ZjBhMjc5NzY2ODApOwogICAgICAgIAogICAgCiAgICAgICAgICAgIHZhciBtYXJrZXJfY2FlYzhmNjlhNjg3NGFlMTk0OTFmOWZkODk5ODA1MmEgPSBMLm1hcmtlcigKICAgICAgICAgICAgICAgIFs0Ny42MTA3ODE1MjA5NjY4MiwgLTEyMi4zMzgxMTI0MjUyMDc3NF0sCiAgICAgICAgICAgICAgICB7fQogICAgICAgICAgICApLmFkZFRvKG1hcF81YTVjNzczNzA3NTY0NWE5OGUzMjlmMGEyNzk3NjY4MCk7CiAgICAgICAgCiAgICAKICAgICAgICAgICAgdmFyIG1hcmtlcl8yZmI3ZWI2NDkyOGI0ZTgzOTkxZTU3M2YxYTBhMjQ3ZSA9IEwubWFya2VyKAogICAgICAgICAgICAgICAgWzQ3LjYxMDQyMTI2MjM0OTAzLCAtMTIyLjMzODE4NDkyODIxMjY4XSwKICAgICAgICAgICAgICAgIHt9CiAgICAgICAgICAgICkuYWRkVG8obWFwXzVhNWM3NzM3MDc1NjQ1YTk4ZTMyOWYwYTI3OTc2NjgwKTsKICAgICAgICAKICAgIAogICAgICAgICAgICB2YXIgbWFya2VyX2IwNzZlZjBkMTI1ODQ0OWE5NTViM2I1N2ZjN2M2ZjFlID0gTC5tYXJrZXIoCiAgICAgICAgICAgICAgICBbNDcuNjA4NzE5NTM2MDQyNTcsIC0xMjIuMzM2NzU3MTg1MjU0MV0sCiAgICAgICAgICAgICAgICB7fQogICAgICAgICAgICApLmFkZFRvKG1hcF81YTVjNzczNzA3NTY0NWE5OGUzMjlmMGEyNzk3NjY4MCk7CiAgICAgICAgCiAgICAKICAgICAgICAgICAgdmFyIG1hcmtlcl8zMTM2OTc3M2Q3Mjc0ZmJlYjY0ZWQ2YjAxYjZjNjE0ZCA9IEwubWFya2VyKAogICAgICAgICAgICAgICAgWzQ3LjYwNzMzMzg4NTQwOTU2LCAtMTIyLjMzNTUyMjkwODEzNjc1XSwKICAgICAgICAgICAgICAgIHt9CiAgICAgICAgICAgICkuYWRkVG8obWFwXzVhNWM3NzM3MDc1NjQ1YTk4ZTMyOWYwYTI3OTc2NjgwKTsKICAgICAgICAKICAgIAogICAgICAgICAgICB2YXIgbWFya2VyXzdmYjZkMzBkZDM0ZjRkNDA5ZmZkOTc1ODU3ZTI2Zjc2ID0gTC5tYXJrZXIoCiAgICAgICAgICAgICAgICBbNDcuNjA0MTIyMjY5Nzg2MSwgLTEyMi4zMzI1NTA0NjkwNjcwOV0sCiAgICAgICAgICAgICAgICB7fQogICAgICAgICAgICApLmFkZFRvKG1hcF81YTVjNzczNzA3NTY0NWE5OGUzMjlmMGEyNzk3NjY4MCk7CiAgICAgICAgCiAgICAKICAgICAgICAgICAgdmFyIG1hcmtlcl9lMDg5MDIyZGRjZTY0N2RjYTdmNDE1MDdkOThkZTNmYiA9IEwubWFya2VyKAogICAgICAgICAgICAgICAgWzQ3LjYwMzA4NTc3NDUzOTA3NSwgLTEyMi4zMzE2MzQ5NTI5MzM0OF0sCiAgICAgICAgICAgICAgICB7fQogICAgICAgICAgICApLmFkZFRvKG1hcF81YTVjNzczNzA3NTY0NWE5OGUzMjlmMGEyNzk3NjY4MCk7CiAgICAgICAgCiAgICAKICAgICAgICAgICAgdmFyIG1hcmtlcl81MDU1OTUxNTFhMzY0MThiOTNlZmMzMTU0MTFhNDJkMyA9IEwubWFya2VyKAogICAgICAgICAgICAgICAgWzQ3LjYwMTc4OTE0NTAzMDIsIC0xMjIuMzMwMzYwMTA4NDQ5NzddLAogICAgICAgICAgICAgICAge30KICAgICAgICAgICAgKS5hZGRUbyhtYXBfNWE1Yzc3MzcwNzU2NDVhOThlMzI5ZjBhMjc5NzY2ODApOwogICAgICAgIAogICAgCiAgICAgICAgICAgIHZhciBtYXJrZXJfODQ1MGQ2NTIyNWQxNDAxZDlhMTY3ZGMxNDI3NWE1MzUgPSBMLm1hcmtlcigKICAgICAgICAgICAgICAgIFs0Ny42MDAzMzQzMjc5NjY2ODUsIC0xMjIuMzI4MjMzMzg1OTM0NjJdLAogICAgICAgICAgICAgICAge30KICAgICAgICAgICAgKS5hZGRUbyhtYXBfNWE1Yzc3MzcwNzU2NDVhOThlMzI5ZjBhMjc5NzY2ODApOwogICAgICAgIAogICAgCiAgICAgICAgICAgIHZhciBtYXJrZXJfNmZhNTk0MzZkOTZlNGFkOGJhZThjMTAzNjIyMTU3MDQgPSBMLm1hcmtlcigKICAgICAgICAgICAgICAgIFs0Ny41OTk4Mzg1MTQ5MzY3NSwgLTEyMi4zMjc5NjkwMTI2Njg2Nl0sCiAgICAgICAgICAgICAgICB7fQogICAgICAgICAgICApLmFkZFRvKG1hcF81YTVjNzczNzA3NTY0NWE5OGUzMjlmMGEyNzk3NjY4MCk7CiAgICAgICAgCiAgICAKICAgICAgICAgICAgdmFyIG1hcmtlcl9hODNiZjhmNjY0MWI0Y2UxYTM5Y2YyZjg1YTgyOGM2MiA9IEwubWFya2VyKAogICAgICAgICAgICAgICAgWzQ3LjU5NzU3MTYwMzEzMzYyLCAtMTIyLjMyODAwNDE1MjUwNTI0XSwKICAgICAgICAgICAgICAgIHt9CiAgICAgICAgICAgICkuYWRkVG8obWFwXzVhNWM3NzM3MDc1NjQ1YTk4ZTMyOWYwYTI3OTc2NjgwKTsKICAgICAgICAKICAgIAogICAgICAgICAgICB2YXIgbWFya2VyX2E2MWVhMDM3ZmY2MDRkYTFiYmI0ZjE4NWI0MTQ2ODk4ID0gTC5tYXJrZXIoCiAgICAgICAgICAgICAgICBbNDcuNTk2NTk5NTM5MzIwNTcsIC0xMjIuMzI4MDcxOTkxMTMxNjRdLAogICAgICAgICAgICAgICAge30KICAgICAgICAgICAgKS5hZGRUbyhtYXBfNWE1Yzc3MzcwNzU2NDVhOThlMzI5ZjBhMjc5NzY2ODApOwogICAgICAgIAogICAgCiAgICAgICAgICAgIHZhciBtYXJrZXJfMWM0Yjk5NWQzMTFhNDUxMjliNDUxZGVmZWY5MDQxZTUgPSBMLm1hcmtlcigKICAgICAgICAgICAgICAgIFs0Ny41OTU4MDU3MDIwMzI1NCwgLTEyMi4zMjgxNDMyNTUzOTM0OF0sCiAgICAgICAgICAgICAgICB7fQogICAgICAgICAgICApLmFkZFRvKG1hcF81YTVjNzczNzA3NTY0NWE5OGUzMjlmMGEyNzk3NjY4MCk7CiAgICAgICAgCiAgICAKICAgICAgICAgICAgdmFyIG1hcmtlcl9kZjdhNWFhOWNlNTQ0Njc4ODRkMmM1NTFiZjJlNjdkNCA9IEwubWFya2VyKAogICAgICAgICAgICAgICAgWzQ3LjU5MzgzNDkzMjc3NjEzLCAtMTIyLjMyNzQ4Mzk5NTEyNzQxXSwKICAgICAgICAgICAgICAgIHt9CiAgICAgICAgICAgICkuYWRkVG8obWFwXzVhNWM3NzM3MDc1NjQ1YTk4ZTMyOWYwYTI3OTc2NjgwKTsKICAgICAgICAKICAgIAogICAgICAgICAgICB2YXIgbWFya2VyXzEzYjcxNmUzOGNiZTRmYTk5NDE5ZTdmNWIyNzM1NWNiID0gTC5tYXJrZXIoCiAgICAgICAgICAgICAgICBbNDcuNTkyODQxMTUzMjcxODQsIC0xMjIuMzI3MTAzMTM0MTU5MjRdLAogICAgICAgICAgICAgICAge30KICAgICAgICAgICAgKS5hZGRUbyhtYXBfNWE1Yzc3MzcwNzU2NDVhOThlMzI5ZjBhMjc5NzY2ODApOwogICAgICAgIAogICAgCiAgICAgICAgICAgIHZhciBtYXJrZXJfODE5MmQzYTQwNDJjNGU2NDk1MjYzYmI5MmE4YmQ2MzUgPSBMLm1hcmtlcigKICAgICAgICAgICAgICAgIFs0Ny41ODg4OTYwNTgwNTQyNiwgLTEyMi4zMjcxODEzODU2NDAzMl0sCiAgICAgICAgICAgICAgICB7fQogICAgICAgICAgICApLmFkZFRvKG1hcF81YTVjNzczNzA3NTY0NWE5OGUzMjlmMGEyNzk3NjY4MCk7CiAgICAgICAgCiAgICAKICAgICAgICAgICAgdmFyIG1hcmtlcl8xZDkyMTA0ZTVkZDE0YzhhOWViYTdjYzg2OWRiZTdjNSA9IEwubWFya2VyKAogICAgICAgICAgICAgICAgWzQ3LjU3ODQ0NjM0MTExNjQwNCwgLTEyMi4zMjczNjEzMjA1Nzk3OF0sCiAgICAgICAgICAgICAgICB7fQogICAgICAgICAgICApLmFkZFRvKG1hcF81YTVjNzczNzA3NTY0NWE5OGUzMjlmMGEyNzk3NjY4MCk7CiAgICAgICAgCiAgICAKICAgICAgICAgICAgdmFyIG1hcmtlcl82ZmE4NDNlOTQxYWU0NzE5YmVlNWMwZTQxOTM1YjZlZCA9IEwubWFya2VyKAogICAgICAgICAgICAgICAgWzQ3LjU3Nzk3MjQ3Mzk1OTQ2LCAtMTIyLjMyNzE3MTI5ODI5NDI2XSwKICAgICAgICAgICAgICAgIHt9CiAgICAgICAgICAgICkuYWRkVG8obWFwXzVhNWM3NzM3MDc1NjQ1YTk4ZTMyOWYwYTI3OTc2NjgwKTsKICAgICAgICAKICAgIAogICAgICAgICAgICB2YXIgbWFya2VyXzU5YmU5YjFjODFmZDQyYTdhZGYxMjZkNzdlMzZjYjA0ID0gTC5tYXJrZXIoCiAgICAgICAgICAgICAgICBbNDcuNTc3NzQxMTE4ODg2ODM0LCAtMTIyLjMyNjc3NTE0MzMxODFdLAogICAgICAgICAgICAgICAge30KICAgICAgICAgICAgKS5hZGRUbyhtYXBfNWE1Yzc3MzcwNzU2NDVhOThlMzI5ZjBhMjc5NzY2ODApOwogICAgICAgIAogICAgCiAgICAgICAgICAgIHZhciBtYXJrZXJfYjQ0MDFhMGYxZThiNDI5ZDk1OTNjYTFhZmZjZDQwMjEgPSBMLm1hcmtlcigKICAgICAgICAgICAgICAgIFs0Ny41Nzc1MDA4OTM3MTQzOCwgLTEyMi4zMjM5MTg5ODgzMDY0NV0sCiAgICAgICAgICAgICAgICB7fQogICAgICAgICAgICApLmFkZFRvKG1hcF81YTVjNzczNzA3NTY0NWE5OGUzMjlmMGEyNzk3NjY4MCk7CiAgICAgICAgCiAgICAKICAgICAgICAgICAgdmFyIG1hcmtlcl84Zjk3MTgwODg4MWQ0ZjA5YjdiMzcxMzk1NjQyNzMxNCA9IEwubWFya2VyKAogICAgICAgICAgICAgICAgWzQ3LjU3NzQ1NTYxMDA4NDYxLCAtMTIyLjMxOTc5MDgxMDA0MTg0XSwKICAgICAgICAgICAgICAgIHt9CiAgICAgICAgICAgICkuYWRkVG8obWFwXzVhNWM3NzM3MDc1NjQ1YTk4ZTMyOWYwYTI3OTc2NjgwKTsKICAgICAgICAKICAgIAogICAgICAgICAgICB2YXIgbWFya2VyX2MzMTEwODFlMjdiODQxN2I4ODgyYzQyNTkwNzcwNzc3ID0gTC5tYXJrZXIoCiAgICAgICAgICAgICAgICBbNDcuNTc3MzIyODQ0NjIwOCwgLTEyMi4zMTc4NDg4MjIwOTA3MV0sCiAgICAgICAgICAgICAgICB7fQogICAgICAgICAgICApLmFkZFRvKG1hcF81YTVjNzczNzA3NTY0NWE5OGUzMjlmMGEyNzk3NjY4MCk7CiAgICAgICAgCiAgICAKICAgICAgICAgICAgdmFyIG1hcmtlcl9iMTA3NGIxMmUzODY0M2EwOGVmMGJlZGJjZDFhM2Q4ZiA9IEwubWFya2VyKAogICAgICAgICAgICAgICAgWzQ3LjU3NzQ2NzQ2NDI1MTksIC0xMjIuMzE2ODA5NzMwNjc0NDhdLAogICAgICAgICAgICAgICAge30KICAgICAgICAgICAgKS5hZGRUbyhtYXBfNWE1Yzc3MzcwNzU2NDVhOThlMzI5ZjBhMjc5NzY2ODApOwogICAgICAgIAogICAgCiAgICAgICAgICAgIHZhciBtYXJrZXJfNjU5YTU3ZWU5OTUzNDQzYThkNjkxMGMwMTE0OGExYTQgPSBMLm1hcmtlcigKICAgICAgICAgICAgICAgIFs0Ny41Nzc4NDg4NTg3MDIwMSwgLTEyMi4zMTU3MzQ1Mzg1NjMxOV0sCiAgICAgICAgICAgICAgICB7fQogICAgICAgICAgICApLmFkZFRvKG1hcF81YTVjNzczNzA3NTY0NWE5OGUzMjlmMGEyNzk3NjY4MCk7CiAgICAgICAgCiAgICAKICAgICAgICAgICAgdmFyIG1hcmtlcl9mYThiNzdhMTVmMTA0OWRhODdhMzQ3NGM1MDkyZjkyMyA9IEwubWFya2VyKAogICAgICAgICAgICAgICAgWzQ3LjU3OTA5MTgxMjIzMjI4LCAtMTIyLjMxMzA0NzQ4Mzg4MTg5XSwKICAgICAgICAgICAgICAgIHt9CiAgICAgICAgICAgICkuYWRkVG8obWFwXzVhNWM3NzM3MDc1NjQ1YTk4ZTMyOWYwYTI3OTc2NjgwKTsKICAgICAgICAKICAgIAogICAgICAgICAgICB2YXIgbWFya2VyXzJjMjViOWQzZTcxZDQ1NjJiNDc4MzIzMDVkYTc2ZmQ0ID0gTC5tYXJrZXIoCiAgICAgICAgICAgICAgICBbNDcuNTgwMDcyNTg0MzQ3NjIsIC0xMjIuMzA5NjM1OTU5MzAxMl0sCiAgICAgICAgICAgICAgICB7fQogICAgICAgICAgICApLmFkZFRvKG1hcF81YTVjNzczNzA3NTY0NWE5OGUzMjlmMGEyNzk3NjY4MCk7CiAgICAgICAgCiAgICAKICAgICAgICAgICAgdmFyIG1hcmtlcl9mZGRmYjE5YjIxMTg0NWY2YTc1ZjgwOTViNGZhMGJlYyA9IEwubWFya2VyKAogICAgICAgICAgICAgICAgWzQ3LjU4MDE0NDgyMDMyMDA4NiwgLTEyMi4zMDg1MjcyMDcyODk3M10sCiAgICAgICAgICAgICAgICB7fQogICAgICAgICAgICApLmFkZFRvKG1hcF81YTVjNzczNzA3NTY0NWE5OGUzMjlmMGEyNzk3NjY4MCk7CiAgICAgICAgCiAgICAKICAgICAgICAgICAgdmFyIG1hcmtlcl82NTRlN2E1ODg0NzM0MzU0OWU2MjljYTEyMWJkNGFlYiA9IEwubWFya2VyKAogICAgICAgICAgICAgICAgWzQ3LjU4MDAyODc1OTM1MDUyLCAtMTIyLjMwNzQyNjYxNTk1MjUxXSwKICAgICAgICAgICAgICAgIHt9CiAgICAgICAgICAgICkuYWRkVG8obWFwXzVhNWM3NzM3MDc1NjQ1YTk4ZTMyOWYwYTI3OTc2NjgwKTsKICAgICAgICAKICAgIAogICAgICAgICAgICB2YXIgbWFya2VyX2ExMDk1MzMwMmE0MjQ0MTY4YzUyOTM1YmNiYTBkOGYyID0gTC5tYXJrZXIoCiAgICAgICAgICAgICAgICBbNDcuNTc4Njc4MzEwMjc4MDE1LCAtMTIyLjMwMzIyMzI2MzU5NDI5XSwKICAgICAgICAgICAgICAgIHt9CiAgICAgICAgICAgICkuYWRkVG8obWFwXzVhNWM3NzM3MDc1NjQ1YTk4ZTMyOWYwYTI3OTc2NjgwKTsKICAgICAgICAKICAgIAogICAgICAgICAgICB2YXIgbWFya2VyX2FiODRhNzIwYzk5MDQyNTk5ZWYwYmE5ZDRkMGIxODU3ID0gTC5tYXJrZXIoCiAgICAgICAgICAgICAgICBbNDcuNTc4MzMzNTY1MTMyODk0LCAtMTIyLjMwMTczODg1NDQyOTQ3XSwKICAgICAgICAgICAgICAgIHt9CiAgICAgICAgICAgICkuYWRkVG8obWFwXzVhNWM3NzM3MDc1NjQ1YTk4ZTMyOWYwYTI3OTc2NjgwKTsKICAgICAgICAKPC9zY3JpcHQ+\" style=\"position:absolute;width:100%;height:100%;left:0;top:0;border:none !important;\" allowfullscreen webkitallowfullscreen mozallowfullscreen></iframe></div></div>"
      ],
      "text/plain": [
       "<folium.folium.Map at 0x1191580f0>"
      ]
     },
     "execution_count": 29,
     "metadata": {},
     "output_type": "execute_result"
    }
   ],
   "source": [
    "'''\n",
    "Plot markers\n",
    "'''\n",
    "\n",
    "rows = df.index.tolist()\n",
    "\n",
    "marker_points = []\n",
    "for row in rows:\n",
    "    marker_points.append((df.iloc[row].Latitude,df.iloc[row].Longitude))\n",
    "    \n",
    "# Set map centerpoint\n",
    "coords = marker_points[0]\n",
    "       \n",
    "# Define map\n",
    "m = folium.Map(\n",
    "    location = coords,\n",
    "    zoom_start = 12\n",
    ")\n",
    "  \n",
    "# Add points    \n",
    "for mp in marker_points:\n",
    "    folium.Marker(mp).add_to(m)\n",
    "m"
   ]
  },
  {
   "cell_type": "code",
   "execution_count": 23,
   "metadata": {},
   "outputs": [
    {
     "data": {
      "application/vnd.jupyter.widget-view+json": {
       "model_id": "bbcc5215cb2246829f57d481a9735094",
       "version_major": 2,
       "version_minor": 0
      },
      "text/plain": [
       "Figure(layout=FigureLayout(height='800px', width='100%'))"
      ]
     },
     "metadata": {},
     "output_type": "display_data"
    }
   ],
   "source": [
    "'''\n",
    "Get satellite preview for image\n",
    "'''\n",
    "\n",
    "row = 1\n",
    "\n",
    "figure_layout = {\n",
    "    'width': '100%',\n",
    "    'height': '800px'\n",
    "}\n",
    "fig = gmaps.figure(center = (df.iloc[row].Latitude,df.iloc[row].Longitude), zoom_level = 19,map_type='SATELLITE',layout=figure_layout)\n",
    "fig"
   ]
  },
  {
   "cell_type": "code",
   "execution_count": 17,
   "metadata": {},
   "outputs": [],
   "source": [
    "'''\n",
    "Get all images \n",
    "'''\n",
    "\n",
    "root = os.path.dirname(os.path.abspath('Africa.ipynb'))\n",
    "image_folder = root[:-9]+update_folder[3:]\n",
    "image_folder\n",
    "\n",
    "url = 'https://maps.googleapis.com/maps/api/staticmap?'\n",
    "rows = df.index.tolist()\n",
    "for i in range(0,len(rows)):\n",
    "    row = df.iloc[i]\n",
    "    center = str(row.Latitude)+','+str(row.Longitude)\n",
    "    payload = {\n",
    "        'center': center, \n",
    "        'zoom': 20,\n",
    "        'size': '640x640',\n",
    "        'scale': 2,\n",
    "        'format': 'png32',\n",
    "        'maptype': 'satellite',\n",
    "        'key': token\n",
    "    }\n",
    "    \n",
    "    r = requests.get(url,params=payload,stream=True)\n",
    "\n",
    "    name = df.iloc[i]['Name']\n",
    "    filename = image_folder+name+'.png'\n",
    "    if r.status_code == 200:\n",
    "        with open(filename, 'wb') as f:\n",
    "            r.raw.decode_content = True\n",
    "            shutil.copyfileobj(r.raw, f) "
   ]
  },
  {
   "cell_type": "code",
   "execution_count": null,
   "metadata": {},
   "outputs": [],
   "source": [
    "root = os.path.dirname()"
   ]
  }
 ],
 "metadata": {
  "kernelspec": {
   "display_name": "Python 3",
   "language": "python",
   "name": "python3"
  },
  "language_info": {
   "codemirror_mode": {
    "name": "ipython",
    "version": 3
   },
   "file_extension": ".py",
   "mimetype": "text/x-python",
   "name": "python",
   "nbconvert_exporter": "python",
   "pygments_lexer": "ipython3",
   "version": "3.7.3"
  }
 },
 "nbformat": 4,
 "nbformat_minor": 2
}
