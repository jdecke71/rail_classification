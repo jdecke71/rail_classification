{
 "cells": [
  {
   "cell_type": "code",
   "execution_count": 1,
   "metadata": {},
   "outputs": [],
   "source": [
    "import pandas as pd\n",
    "import geopandas as gpd\n",
    "import matplotlib.pyplot as plt\n",
    "from shapely.geometry import mapping\n",
    "import folium\n",
    "import gmaps\n",
    "import os\n",
    "import requests\n",
    "import shutil"
   ]
  },
  {
   "cell_type": "code",
   "execution_count": 2,
   "metadata": {},
   "outputs": [],
   "source": [
    "with open('../resources/key.txt') as f:\n",
    "    token = f.read()\n",
    "    \n",
    "gmaps.configure(api_key = token)"
   ]
  },
  {
   "cell_type": "code",
   "execution_count": 3,
   "metadata": {},
   "outputs": [],
   "source": [
    "input_folder = '../data/railways/sound_transit/'\n",
    "input_file = input_folder+'LINKLine.shp'\n",
    "\n",
    "output_folder = '../data/output_images/SeattleLLR/'\n",
    "output_csv = output_folder+'SEA.csv'\n",
    "\n",
    "update_folder = output_folder+'/set_2/'"
   ]
  },
  {
   "cell_type": "markdown",
   "metadata": {},
   "source": [
    "### Import Routes"
   ]
  },
  {
   "cell_type": "code",
   "execution_count": 3,
   "metadata": {
    "scrolled": true
   },
   "outputs": [
    {
     "data": {
      "text/html": [
       "<div>\n",
       "<style scoped>\n",
       "    .dataframe tbody tr th:only-of-type {\n",
       "        vertical-align: middle;\n",
       "    }\n",
       "\n",
       "    .dataframe tbody tr th {\n",
       "        vertical-align: top;\n",
       "    }\n",
       "\n",
       "    .dataframe thead th {\n",
       "        text-align: right;\n",
       "    }\n",
       "</style>\n",
       "<table border=\"1\" class=\"dataframe\">\n",
       "  <thead>\n",
       "    <tr style=\"text-align: right;\">\n",
       "      <th></th>\n",
       "      <th>OBJECTID</th>\n",
       "      <th>LINK_TYPE</th>\n",
       "      <th>DESCRIPTIO</th>\n",
       "      <th>STATUS</th>\n",
       "      <th>Shape_Leng</th>\n",
       "      <th>geometry</th>\n",
       "    </tr>\n",
       "  </thead>\n",
       "  <tbody>\n",
       "    <tr>\n",
       "      <th>0</th>\n",
       "      <td>68</td>\n",
       "      <td>1</td>\n",
       "      <td>Central Link</td>\n",
       "      <td>COMPLETE</td>\n",
       "      <td>73476.308611</td>\n",
       "      <td>(LINESTRING (-122.2886826905774 47.46424879456...</td>\n",
       "    </tr>\n",
       "    <tr>\n",
       "      <th>1</th>\n",
       "      <td>101</td>\n",
       "      <td>4</td>\n",
       "      <td>Airport Link</td>\n",
       "      <td>COMPLETE</td>\n",
       "      <td>9028.515287</td>\n",
       "      <td>LINESTRING (-122.296751670065 47.4444939187097...</td>\n",
       "    </tr>\n",
       "    <tr>\n",
       "      <th>2</th>\n",
       "      <td>109</td>\n",
       "      <td>2</td>\n",
       "      <td>Tacoma Link</td>\n",
       "      <td>COMPLETE</td>\n",
       "      <td>9381.691809</td>\n",
       "      <td>LINESTRING (-122.4400288855092 47.256333855845...</td>\n",
       "    </tr>\n",
       "    <tr>\n",
       "      <th>3</th>\n",
       "      <td>113</td>\n",
       "      <td>6</td>\n",
       "      <td>University Link</td>\n",
       "      <td>CONST</td>\n",
       "      <td>16875.317490</td>\n",
       "      <td>LINESTRING (-122.3311232117972 47.613775582999...</td>\n",
       "    </tr>\n",
       "    <tr>\n",
       "      <th>4</th>\n",
       "      <td>130</td>\n",
       "      <td>3</td>\n",
       "      <td>Northgate Link</td>\n",
       "      <td>CONST</td>\n",
       "      <td>22284.085571</td>\n",
       "      <td>LINESTRING (-122.3281386191352 47.705615661930...</td>\n",
       "    </tr>\n",
       "  </tbody>\n",
       "</table>\n",
       "</div>"
      ],
      "text/plain": [
       "   OBJECTID  LINK_TYPE       DESCRIPTIO    STATUS    Shape_Leng  \\\n",
       "0        68          1     Central Link  COMPLETE  73476.308611   \n",
       "1       101          4     Airport Link  COMPLETE   9028.515287   \n",
       "2       109          2      Tacoma Link  COMPLETE   9381.691809   \n",
       "3       113          6  University Link     CONST  16875.317490   \n",
       "4       130          3   Northgate Link     CONST  22284.085571   \n",
       "\n",
       "                                            geometry  \n",
       "0  (LINESTRING (-122.2886826905774 47.46424879456...  \n",
       "1  LINESTRING (-122.296751670065 47.4444939187097...  \n",
       "2  LINESTRING (-122.4400288855092 47.256333855845...  \n",
       "3  LINESTRING (-122.3311232117972 47.613775582999...  \n",
       "4  LINESTRING (-122.3281386191352 47.705615661930...  "
      ]
     },
     "execution_count": 3,
     "metadata": {},
     "output_type": "execute_result"
    }
   ],
   "source": [
    "routes = gpd.read_file(input_file)\n",
    "\n",
    "routes = routes.to_crs({'init' :'epsg:4269'})\n",
    "\n",
    "routes.head()"
   ]
  },
  {
   "cell_type": "code",
   "execution_count": 4,
   "metadata": {},
   "outputs": [
    {
     "data": {
      "text/plain": [
       "(6, 6)"
      ]
     },
     "execution_count": 4,
     "metadata": {},
     "output_type": "execute_result"
    }
   ],
   "source": [
    "routes.shape"
   ]
  },
  {
   "cell_type": "code",
   "execution_count": 5,
   "metadata": {},
   "outputs": [
    {
     "name": "stdout",
     "output_type": "stream",
     "text": [
      "Skipped route number 1 because 'LineString' object is not iterable\n",
      "Skipped route number 2 because 'LineString' object is not iterable\n",
      "Skipped route number 3 because 'LineString' object is not iterable\n",
      "Skipped route number 4 because 'LineString' object is not iterable\n",
      "Skipped route number 5 because 'LineString' object is not iterable\n",
      "3973 points\n"
     ]
    }
   ],
   "source": [
    "'''\n",
    "Get all points\n",
    "'''\n",
    "\n",
    "points = []\n",
    "for i in range(0,len(routes.OBJECTID.tolist())):\n",
    "#     print('Route',i)\n",
    "    try:\n",
    "        route = routes.iloc[i]\n",
    "        g = [m for m in route.geometry]\n",
    "        for j in range(0,len(g)):\n",
    "            sec_points = mapping(g[j])[\"coordinates\"]\n",
    "            for k in range(0,len(sec_points)):\n",
    "                points.append(sec_points[k])\n",
    "    except Exception as e:\n",
    "        print(\"Skipped route number\",i,'because',e)\n",
    "\n",
    "print(len(points),'points')"
   ]
  },
  {
   "cell_type": "code",
   "execution_count": 5,
   "metadata": {},
   "outputs": [
    {
     "name": "stdout",
     "output_type": "stream",
     "text": [
      "3973 points\n"
     ]
    }
   ],
   "source": [
    "'''\n",
    "Get points for 1 or more routes\n",
    "'''\n",
    "\n",
    "rows = [0]\n",
    "\n",
    "points = []\n",
    "for i in range(0,len(routes.OBJECTID.tolist())):\n",
    "    if i in rows:\n",
    "        try:\n",
    "            route = routes.iloc[i]\n",
    "            g = [m for m in route.geometry]\n",
    "            for j in range(0,len(g)):\n",
    "                sec_points = mapping(g[j])[\"coordinates\"]\n",
    "                for k in range(0,len(sec_points)):\n",
    "                    points.append(sec_points[k])\n",
    "        except Exception as e:\n",
    "            print(\"Skipped route number\",i,'because',e)\n",
    "\n",
    "print(len(points),'points')"
   ]
  },
  {
   "cell_type": "code",
   "execution_count": 6,
   "metadata": {},
   "outputs": [
    {
     "name": "stdout",
     "output_type": "stream",
     "text": [
      "1018 points\n"
     ]
    }
   ],
   "source": [
    "'''\n",
    "Get points for single route/section\n",
    "'''\n",
    "\n",
    "row = 0\n",
    "section = 0\n",
    "\n",
    "points = []\n",
    "try:\n",
    "    route = routes.iloc[row]\n",
    "    g = [i for i in route.geometry]\n",
    "    len(g)\n",
    "\n",
    "    points = mapping(g[section])[\"coordinates\"]\n",
    "except Exception as e:\n",
    "    print(\"Skipped route number\",row,'because',e)\n",
    "    \n",
    "print(len(points),'points')"
   ]
  },
  {
   "cell_type": "code",
   "execution_count": 6,
   "metadata": {},
   "outputs": [
    {
     "name": "stdout",
     "output_type": "stream",
     "text": [
      "50\n"
     ]
    }
   ],
   "source": [
    "'''\n",
    "Get subselection of points\n",
    "'''\n",
    "\n",
    "route_points = []\n",
    "for point in range(0,len(points),80):\n",
    "    tmp = points[point]\n",
    "#     print(tmp)\n",
    "    route_points.append(tmp)\n",
    "\n",
    "print(len(route_points))"
   ]
  },
  {
   "cell_type": "code",
   "execution_count": 7,
   "metadata": {},
   "outputs": [
    {
     "data": {
      "text/html": [
       "<div>\n",
       "<style scoped>\n",
       "    .dataframe tbody tr th:only-of-type {\n",
       "        vertical-align: middle;\n",
       "    }\n",
       "\n",
       "    .dataframe tbody tr th {\n",
       "        vertical-align: top;\n",
       "    }\n",
       "\n",
       "    .dataframe thead th {\n",
       "        text-align: right;\n",
       "    }\n",
       "</style>\n",
       "<table border=\"1\" class=\"dataframe\">\n",
       "  <thead>\n",
       "    <tr style=\"text-align: right;\">\n",
       "      <th></th>\n",
       "      <th>Name</th>\n",
       "      <th>Longitude</th>\n",
       "      <th>Latitude</th>\n",
       "    </tr>\n",
       "  </thead>\n",
       "  <tbody>\n",
       "    <tr>\n",
       "      <th>0</th>\n",
       "      <td>-122.2886826905774_47.464248794560376</td>\n",
       "      <td>-122.288683</td>\n",
       "      <td>47.464249</td>\n",
       "    </tr>\n",
       "    <tr>\n",
       "      <th>1</th>\n",
       "      <td>-122.28460363170346_47.463241793803235</td>\n",
       "      <td>-122.284604</td>\n",
       "      <td>47.463242</td>\n",
       "    </tr>\n",
       "    <tr>\n",
       "      <th>2</th>\n",
       "      <td>-122.28234511970552_47.46382419989612</td>\n",
       "      <td>-122.282345</td>\n",
       "      <td>47.463824</td>\n",
       "    </tr>\n",
       "    <tr>\n",
       "      <th>3</th>\n",
       "      <td>-122.27973034983573_47.46534563268166</td>\n",
       "      <td>-122.279730</td>\n",
       "      <td>47.465346</td>\n",
       "    </tr>\n",
       "    <tr>\n",
       "      <th>4</th>\n",
       "      <td>-122.27737158471527_47.46599304892051</td>\n",
       "      <td>-122.277372</td>\n",
       "      <td>47.465993</td>\n",
       "    </tr>\n",
       "  </tbody>\n",
       "</table>\n",
       "</div>"
      ],
      "text/plain": [
       "                                     Name   Longitude   Latitude\n",
       "0   -122.2886826905774_47.464248794560376 -122.288683  47.464249\n",
       "1  -122.28460363170346_47.463241793803235 -122.284604  47.463242\n",
       "2   -122.28234511970552_47.46382419989612 -122.282345  47.463824\n",
       "3   -122.27973034983573_47.46534563268166 -122.279730  47.465346\n",
       "4   -122.27737158471527_47.46599304892051 -122.277372  47.465993"
      ]
     },
     "execution_count": 7,
     "metadata": {},
     "output_type": "execute_result"
    }
   ],
   "source": [
    "'''\n",
    "Create dataframe\n",
    "'''\n",
    "\n",
    "df = pd.DataFrame(route_points, columns=['Longitude','Latitude'])\n",
    "\n",
    "tmp = list(df.Latitude.tolist())\n",
    "names = []\n",
    "for i in range(0,len(tmp)):\n",
    "    name = str(df.iloc[i].Longitude)+'_'+str(df.iloc[i].Latitude)\n",
    "    names.append(name)\n",
    "\n",
    "df['Name'] = names\n",
    "\n",
    "columns = ['Name','Longitude','Latitude']\n",
    "df= df[columns]\n",
    "\n",
    "df.head()"
   ]
  },
  {
   "cell_type": "code",
   "execution_count": 8,
   "metadata": {},
   "outputs": [],
   "source": [
    "'''\n",
    "Export points\n",
    "'''\n",
    "\n",
    "df.to_csv(output_csv,header=True,index=None)"
   ]
  },
  {
   "cell_type": "code",
   "execution_count": 4,
   "metadata": {},
   "outputs": [
    {
     "data": {
      "text/html": [
       "<div>\n",
       "<style scoped>\n",
       "    .dataframe tbody tr th:only-of-type {\n",
       "        vertical-align: middle;\n",
       "    }\n",
       "\n",
       "    .dataframe tbody tr th {\n",
       "        vertical-align: top;\n",
       "    }\n",
       "\n",
       "    .dataframe thead th {\n",
       "        text-align: right;\n",
       "    }\n",
       "</style>\n",
       "<table border=\"1\" class=\"dataframe\">\n",
       "  <thead>\n",
       "    <tr style=\"text-align: right;\">\n",
       "      <th></th>\n",
       "      <th>Name</th>\n",
       "      <th>Longitude</th>\n",
       "      <th>Latitude</th>\n",
       "      <th>Catenary</th>\n",
       "    </tr>\n",
       "  </thead>\n",
       "  <tbody>\n",
       "    <tr>\n",
       "      <th>0</th>\n",
       "      <td>-122.2697075007809_47.47314172665546</td>\n",
       "      <td>-122.269707</td>\n",
       "      <td>47.473142</td>\n",
       "      <td>1</td>\n",
       "    </tr>\n",
       "    <tr>\n",
       "      <th>1</th>\n",
       "      <td>-122.27107741516011_47.465236046868256</td>\n",
       "      <td>-122.271077</td>\n",
       "      <td>47.465236</td>\n",
       "      <td>1</td>\n",
       "    </tr>\n",
       "    <tr>\n",
       "      <th>2</th>\n",
       "      <td>-122.27291605481625_47.48176886740649</td>\n",
       "      <td>-122.272916</td>\n",
       "      <td>47.481769</td>\n",
       "      <td>1</td>\n",
       "    </tr>\n",
       "    <tr>\n",
       "      <th>3</th>\n",
       "      <td>-122.27293724183188_47.479459541696556</td>\n",
       "      <td>-122.272937</td>\n",
       "      <td>47.479460</td>\n",
       "      <td>1</td>\n",
       "    </tr>\n",
       "    <tr>\n",
       "      <th>4</th>\n",
       "      <td>-122.27334338167215_47.48344844273076</td>\n",
       "      <td>-122.273343</td>\n",
       "      <td>47.483448</td>\n",
       "      <td>1</td>\n",
       "    </tr>\n",
       "  </tbody>\n",
       "</table>\n",
       "</div>"
      ],
      "text/plain": [
       "                                     Name   Longitude   Latitude  Catenary\n",
       "0    -122.2697075007809_47.47314172665546 -122.269707  47.473142         1\n",
       "1  -122.27107741516011_47.465236046868256 -122.271077  47.465236         1\n",
       "2   -122.27291605481625_47.48176886740649 -122.272916  47.481769         1\n",
       "3  -122.27293724183188_47.479459541696556 -122.272937  47.479460         1\n",
       "4   -122.27334338167215_47.48344844273076 -122.273343  47.483448         1"
      ]
     },
     "execution_count": 4,
     "metadata": {},
     "output_type": "execute_result"
    }
   ],
   "source": [
    "'''\n",
    "Open csv\n",
    "'''\n",
    "\n",
    "df = pd.read_csv(output_csv)\n",
    "df.head()"
   ]
  },
  {
   "cell_type": "code",
   "execution_count": 5,
   "metadata": {
    "scrolled": false
   },
   "outputs": [
    {
     "data": {
      "text/html": [
       "<div style=\"width:100%;\"><div style=\"position:relative;width:100%;height:0;padding-bottom:60%;\"><iframe src=\"data:text/html;charset=utf-8;base64,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\" style=\"position:absolute;width:100%;height:100%;left:0;top:0;border:none !important;\" allowfullscreen webkitallowfullscreen mozallowfullscreen></iframe></div></div>"
      ],
      "text/plain": [
       "<folium.folium.Map at 0x117f168d0>"
      ]
     },
     "execution_count": 5,
     "metadata": {},
     "output_type": "execute_result"
    }
   ],
   "source": [
    "'''\n",
    "Plot markers\n",
    "'''\n",
    "\n",
    "rows = df.index.tolist()\n",
    "\n",
    "marker_points = []\n",
    "for row in rows:\n",
    "    marker_points.append((df.iloc[row].Latitude,df.iloc[row].Longitude))\n",
    "    \n",
    "# Set map centerpoint\n",
    "coords = marker_points[0]\n",
    "       \n",
    "# Define map\n",
    "m = folium.Map(\n",
    "    location = coords,\n",
    "    zoom_start = 12\n",
    ")\n",
    "  \n",
    "# Add points    \n",
    "for mp in marker_points:\n",
    "    folium.Marker(mp).add_to(m)\n",
    "m"
   ]
  },
  {
   "cell_type": "code",
   "execution_count": 23,
   "metadata": {},
   "outputs": [
    {
     "data": {
      "application/vnd.jupyter.widget-view+json": {
       "model_id": "bbcc5215cb2246829f57d481a9735094",
       "version_major": 2,
       "version_minor": 0
      },
      "text/plain": [
       "Figure(layout=FigureLayout(height='800px', width='100%'))"
      ]
     },
     "metadata": {},
     "output_type": "display_data"
    }
   ],
   "source": [
    "'''\n",
    "Get satellite preview for image\n",
    "'''\n",
    "\n",
    "row = 1\n",
    "\n",
    "figure_layout = {\n",
    "    'width': '100%',\n",
    "    'height': '800px'\n",
    "}\n",
    "fig = gmaps.figure(center = (df.iloc[row].Latitude,df.iloc[row].Longitude), zoom_level = 19,map_type='SATELLITE',layout=figure_layout)\n",
    "fig"
   ]
  },
  {
   "cell_type": "code",
   "execution_count": 6,
   "metadata": {},
   "outputs": [],
   "source": [
    "'''\n",
    "Get all images \n",
    "'''\n",
    "\n",
    "root = os.path.dirname(os.path.abspath('Africa.ipynb'))\n",
    "image_folder = root[:-9]+update_folder[3:]\n",
    "image_folder\n",
    "\n",
    "url = 'https://maps.googleapis.com/maps/api/staticmap?'\n",
    "rows = df.index.tolist()\n",
    "for i in range(0,len(rows)):\n",
    "    row = df.iloc[i]\n",
    "    center = str(row.Latitude)+','+str(row.Longitude)\n",
    "    payload = {\n",
    "        'center': center, \n",
    "        'zoom': 20,\n",
    "        'size': '640x640',\n",
    "        'scale': 2,\n",
    "        'format': 'png32',\n",
    "        'maptype': 'satellite',\n",
    "        'key': token\n",
    "    }\n",
    "    \n",
    "    r = requests.get(url,params=payload,stream=True)\n",
    "\n",
    "    name = df.iloc[i]['Name']\n",
    "    filename = image_folder+name+'.png'\n",
    "    if r.status_code == 200:\n",
    "        with open(filename, 'wb') as f:\n",
    "            r.raw.decode_content = True\n",
    "            shutil.copyfileobj(r.raw, f) "
   ]
  },
  {
   "cell_type": "code",
   "execution_count": null,
   "metadata": {},
   "outputs": [],
   "source": []
  }
 ],
 "metadata": {
  "kernelspec": {
   "display_name": "Python 3",
   "language": "python",
   "name": "python3"
  },
  "language_info": {
   "codemirror_mode": {
    "name": "ipython",
    "version": 3
   },
   "file_extension": ".py",
   "mimetype": "text/x-python",
   "name": "python",
   "nbconvert_exporter": "python",
   "pygments_lexer": "ipython3",
   "version": "3.7.3"
  }
 },
 "nbformat": 4,
 "nbformat_minor": 2
}
