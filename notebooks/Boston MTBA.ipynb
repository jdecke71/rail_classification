{
 "cells": [
  {
   "cell_type": "code",
   "execution_count": 84,
   "metadata": {},
   "outputs": [],
   "source": [
    "import pandas as pd\n",
    "import geopandas as gpd\n",
    "import matplotlib.pyplot as plt\n",
    "from shapely.geometry import mapping\n",
    "import folium\n",
    "import gmaps\n",
    "import os\n",
    "import requests\n",
    "import shutil"
   ]
  },
  {
   "cell_type": "code",
   "execution_count": 85,
   "metadata": {},
   "outputs": [],
   "source": [
    "with open('../resources/key.txt') as f:\n",
    "    token = f.read()\n",
    "    \n",
    "gmaps.configure(api_key = token)"
   ]
  },
  {
   "cell_type": "code",
   "execution_count": 86,
   "metadata": {},
   "outputs": [],
   "source": [
    "input_folder = '../data/railways/mbta_rapid_transit/'\n",
    "input_file = input_folder+'MBTA_ARC.shp'\n",
    "\n",
    "output_folder = '../data/output_images/BostonMTBA/'\n",
    "output_csv = output_folder+'BOS.csv'\n",
    "\n",
    "update_folder = '../data/output_images/BostonMTBA/set_3/'"
   ]
  },
  {
   "cell_type": "markdown",
   "metadata": {},
   "source": [
    "### Import Routes"
   ]
  },
  {
   "cell_type": "code",
   "execution_count": 87,
   "metadata": {
    "scrolled": true
   },
   "outputs": [
    {
     "data": {
      "text/html": [
       "<div>\n",
       "<style scoped>\n",
       "    .dataframe tbody tr th:only-of-type {\n",
       "        vertical-align: middle;\n",
       "    }\n",
       "\n",
       "    .dataframe tbody tr th {\n",
       "        vertical-align: top;\n",
       "    }\n",
       "\n",
       "    .dataframe thead th {\n",
       "        text-align: right;\n",
       "    }\n",
       "</style>\n",
       "<table border=\"1\" class=\"dataframe\">\n",
       "  <thead>\n",
       "    <tr style=\"text-align: right;\">\n",
       "      <th></th>\n",
       "      <th>LINE</th>\n",
       "      <th>ROUTE</th>\n",
       "      <th>GRADE</th>\n",
       "      <th>SHAPE_LEN</th>\n",
       "      <th>geometry</th>\n",
       "    </tr>\n",
       "  </thead>\n",
       "  <tbody>\n",
       "    <tr>\n",
       "      <th>0</th>\n",
       "      <td>GREEN</td>\n",
       "      <td>C D</td>\n",
       "      <td>7</td>\n",
       "      <td>458.386096</td>\n",
       "      <td>LINESTRING (-71.10139485815532 42.347577953996...</td>\n",
       "    </tr>\n",
       "    <tr>\n",
       "      <th>1</th>\n",
       "      <td>GREEN</td>\n",
       "      <td>B C D E</td>\n",
       "      <td>7</td>\n",
       "      <td>2121.006147</td>\n",
       "      <td>LINESTRING (-71.07920620455907 42.349579702367...</td>\n",
       "    </tr>\n",
       "    <tr>\n",
       "      <th>2</th>\n",
       "      <td>RED</td>\n",
       "      <td>A - Ashmont B - Braintree  C - Alewife</td>\n",
       "      <td>7</td>\n",
       "      <td>7955.708839</td>\n",
       "      <td>LINESTRING (-71.08197671857094 42.361992845118...</td>\n",
       "    </tr>\n",
       "    <tr>\n",
       "      <th>3</th>\n",
       "      <td>GREEN</td>\n",
       "      <td>C E</td>\n",
       "      <td>7</td>\n",
       "      <td>1241.873692</td>\n",
       "      <td>LINESTRING (-71.05945866821224 42.359296597842...</td>\n",
       "    </tr>\n",
       "    <tr>\n",
       "      <th>4</th>\n",
       "      <td>GREEN</td>\n",
       "      <td>B C D</td>\n",
       "      <td>7</td>\n",
       "      <td>1466.201312</td>\n",
       "      <td>LINESTRING (-71.09616476184985 42.348960933708...</td>\n",
       "    </tr>\n",
       "  </tbody>\n",
       "</table>\n",
       "</div>"
      ],
      "text/plain": [
       "    LINE                                   ROUTE  GRADE    SHAPE_LEN  \\\n",
       "0  GREEN                                     C D      7   458.386096   \n",
       "1  GREEN                                 B C D E      7  2121.006147   \n",
       "2    RED  A - Ashmont B - Braintree  C - Alewife      7  7955.708839   \n",
       "3  GREEN                                     C E      7  1241.873692   \n",
       "4  GREEN                                   B C D      7  1466.201312   \n",
       "\n",
       "                                            geometry  \n",
       "0  LINESTRING (-71.10139485815532 42.347577953996...  \n",
       "1  LINESTRING (-71.07920620455907 42.349579702367...  \n",
       "2  LINESTRING (-71.08197671857094 42.361992845118...  \n",
       "3  LINESTRING (-71.05945866821224 42.359296597842...  \n",
       "4  LINESTRING (-71.09616476184985 42.348960933708...  "
      ]
     },
     "execution_count": 87,
     "metadata": {},
     "output_type": "execute_result"
    }
   ],
   "source": [
    "routes = gpd.read_file(input_file)\n",
    "\n",
    "routes = routes.to_crs({'init' :'epsg:4269'})\n",
    "\n",
    "routes.head()"
   ]
  },
  {
   "cell_type": "code",
   "execution_count": 88,
   "metadata": {},
   "outputs": [
    {
     "data": {
      "text/plain": [
       "(136, 5)"
      ]
     },
     "execution_count": 88,
     "metadata": {},
     "output_type": "execute_result"
    }
   ],
   "source": [
    "routes.shape"
   ]
  },
  {
   "cell_type": "code",
   "execution_count": 90,
   "metadata": {},
   "outputs": [
    {
     "name": "stdout",
     "output_type": "stream",
     "text": [
      "3441 points\n"
     ]
    }
   ],
   "source": [
    "'''\n",
    "Get all points\n",
    "'''\n",
    "\n",
    "points = []\n",
    "rows = routes.index.tolist()\n",
    "\n",
    "geom_types = routes['geometry'].tolist()\n",
    "for i in rows:\n",
    "    try:\n",
    "        route = routes.loc[i]\n",
    "        if route.geometry.geom_type == 'LineString':\n",
    "            g = route.geometry\n",
    "            sec_points = mapping(g)[\"coordinates\"]\n",
    "            for j in sec_points:\n",
    "                tmp = (j[0],j[1])\n",
    "                points.append(tmp)\n",
    "        elif route.geometry.geom_type == 'MultiLineString':\n",
    "            g = route.geometry\n",
    "            tmp = mapping(g)[\"coordinates\"]\n",
    "            for sec_points in tmp:\n",
    "                for j in sec_points:\n",
    "                    tmp = (j[0],j[1])\n",
    "                    points.append(tmp)\n",
    "    except Exception as e:\n",
    "        print(\"Skipped route number\",i,'because',e)        \n",
    "        \n",
    "    \n",
    "print(len(points),'points')   "
   ]
  },
  {
   "cell_type": "code",
   "execution_count": 89,
   "metadata": {},
   "outputs": [
    {
     "data": {
      "text/html": [
       "<div>\n",
       "<style scoped>\n",
       "    .dataframe tbody tr th:only-of-type {\n",
       "        vertical-align: middle;\n",
       "    }\n",
       "\n",
       "    .dataframe tbody tr th {\n",
       "        vertical-align: top;\n",
       "    }\n",
       "\n",
       "    .dataframe thead th {\n",
       "        text-align: right;\n",
       "    }\n",
       "</style>\n",
       "<table border=\"1\" class=\"dataframe\">\n",
       "  <thead>\n",
       "    <tr style=\"text-align: right;\">\n",
       "      <th></th>\n",
       "      <th>Name</th>\n",
       "      <th>Longitude</th>\n",
       "      <th>Latitude</th>\n",
       "      <th>Catenary</th>\n",
       "    </tr>\n",
       "  </thead>\n",
       "  <tbody>\n",
       "    <tr>\n",
       "      <th>0</th>\n",
       "      <td>-70.99141024363398_42.39987983654313</td>\n",
       "      <td>-70.991410</td>\n",
       "      <td>42.399880</td>\n",
       "      <td>1</td>\n",
       "    </tr>\n",
       "    <tr>\n",
       "      <th>1</th>\n",
       "      <td>-70.9916645142435_42.41343348702443</td>\n",
       "      <td>-70.991665</td>\n",
       "      <td>42.413433</td>\n",
       "      <td>1</td>\n",
       "    </tr>\n",
       "    <tr>\n",
       "      <th>2</th>\n",
       "      <td>-70.99169316827988_42.3987030963677</td>\n",
       "      <td>-70.991693</td>\n",
       "      <td>42.398703</td>\n",
       "      <td>1</td>\n",
       "    </tr>\n",
       "    <tr>\n",
       "      <th>3</th>\n",
       "      <td>-70.99195436847552_42.40432141901854</td>\n",
       "      <td>-70.991954</td>\n",
       "      <td>42.404321</td>\n",
       "      <td>1</td>\n",
       "    </tr>\n",
       "    <tr>\n",
       "      <th>4</th>\n",
       "      <td>-70.99217754599157_42.39778478905404</td>\n",
       "      <td>-70.992178</td>\n",
       "      <td>42.397785</td>\n",
       "      <td>1</td>\n",
       "    </tr>\n",
       "  </tbody>\n",
       "</table>\n",
       "</div>"
      ],
      "text/plain": [
       "                                   Name  Longitude   Latitude  Catenary\n",
       "0  -70.99141024363398_42.39987983654313 -70.991410  42.399880         1\n",
       "1   -70.9916645142435_42.41343348702443 -70.991665  42.413433         1\n",
       "2   -70.99169316827988_42.3987030963677 -70.991693  42.398703         1\n",
       "3  -70.99195436847552_42.40432141901854 -70.991954  42.404321         1\n",
       "4  -70.99217754599157_42.39778478905404 -70.992178  42.397785         1"
      ]
     },
     "execution_count": 89,
     "metadata": {},
     "output_type": "execute_result"
    }
   ],
   "source": [
    "'''\n",
    "Open csv with current points\n",
    "'''\n",
    "\n",
    "curr_df = pd.read_csv(output_csv)\n",
    "curr_df.head()"
   ]
  },
  {
   "cell_type": "code",
   "execution_count": 95,
   "metadata": {},
   "outputs": [
    {
     "name": "stdout",
     "output_type": "stream",
     "text": [
      "102\n"
     ]
    }
   ],
   "source": [
    "'''\n",
    "Get subselection of points excuding current points\n",
    "'''\n",
    "curr_points = list(zip(curr_df['Longitude'].tolist(),curr_df['Latitude'].tolist()))\n",
    "# curr_points\n",
    "\n",
    "route_points = []\n",
    "for point in range(0,len(points),34):\n",
    "    tmp = points[point]\n",
    "    if tmp not in curr_points:\n",
    "        route_points.append(tmp)\n",
    "\n",
    "print(len(route_points))"
   ]
  },
  {
   "cell_type": "code",
   "execution_count": 96,
   "metadata": {},
   "outputs": [
    {
     "data": {
      "text/html": [
       "<div>\n",
       "<style scoped>\n",
       "    .dataframe tbody tr th:only-of-type {\n",
       "        vertical-align: middle;\n",
       "    }\n",
       "\n",
       "    .dataframe tbody tr th {\n",
       "        vertical-align: top;\n",
       "    }\n",
       "\n",
       "    .dataframe thead th {\n",
       "        text-align: right;\n",
       "    }\n",
       "</style>\n",
       "<table border=\"1\" class=\"dataframe\">\n",
       "  <thead>\n",
       "    <tr style=\"text-align: right;\">\n",
       "      <th></th>\n",
       "      <th>Name</th>\n",
       "      <th>Longitude</th>\n",
       "      <th>Latitude</th>\n",
       "    </tr>\n",
       "  </thead>\n",
       "  <tbody>\n",
       "    <tr>\n",
       "      <th>0</th>\n",
       "      <td>-71.10139485815532_42.34757795399692</td>\n",
       "      <td>-71.101395</td>\n",
       "      <td>42.347578</td>\n",
       "    </tr>\n",
       "    <tr>\n",
       "      <th>1</th>\n",
       "      <td>-71.06468391964727_42.35278078367277</td>\n",
       "      <td>-71.064684</td>\n",
       "      <td>42.352781</td>\n",
       "    </tr>\n",
       "    <tr>\n",
       "      <th>2</th>\n",
       "      <td>-71.05945866821224_42.359296597842494</td>\n",
       "      <td>-71.059459</td>\n",
       "      <td>42.359297</td>\n",
       "    </tr>\n",
       "    <tr>\n",
       "      <th>3</th>\n",
       "      <td>-71.11345563893369_42.37036645607184</td>\n",
       "      <td>-71.113456</td>\n",
       "      <td>42.370366</td>\n",
       "    </tr>\n",
       "    <tr>\n",
       "      <th>4</th>\n",
       "      <td>-71.12018649699813_42.3778930163705</td>\n",
       "      <td>-71.120186</td>\n",
       "      <td>42.377893</td>\n",
       "    </tr>\n",
       "  </tbody>\n",
       "</table>\n",
       "</div>"
      ],
      "text/plain": [
       "                                    Name  Longitude   Latitude\n",
       "0   -71.10139485815532_42.34757795399692 -71.101395  42.347578\n",
       "1   -71.06468391964727_42.35278078367277 -71.064684  42.352781\n",
       "2  -71.05945866821224_42.359296597842494 -71.059459  42.359297\n",
       "3   -71.11345563893369_42.37036645607184 -71.113456  42.370366\n",
       "4    -71.12018649699813_42.3778930163705 -71.120186  42.377893"
      ]
     },
     "execution_count": 96,
     "metadata": {},
     "output_type": "execute_result"
    }
   ],
   "source": [
    "'''\n",
    "Create dataframe\n",
    "'''\n",
    "\n",
    "df = pd.DataFrame(route_points, columns=['Longitude','Latitude'])\n",
    "\n",
    "tmp = list(df.Latitude.tolist())\n",
    "names = []\n",
    "for i in range(0,len(tmp)):\n",
    "    name = str(df.iloc[i].Longitude)+'_'+str(df.iloc[i].Latitude)\n",
    "    names.append(name)\n",
    "\n",
    "df['Name'] = names\n",
    "\n",
    "columns = ['Name','Longitude','Latitude']\n",
    "df= df[columns]\n",
    "\n",
    "df.head()"
   ]
  },
  {
   "cell_type": "code",
   "execution_count": 98,
   "metadata": {},
   "outputs": [],
   "source": [
    "'''\n",
    "Export points\n",
    "'''\n",
    "\n",
    "# Update\n",
    "with open(output_csv, 'a') as f:\n",
    "    df.to_csv(f, header=False,index=None)\n",
    "\n",
    "# Write new\n",
    "# df.to_csv(output_csv,header=True,index=None)\n",
    "# df.to_csv('tmp.csv',header=True,index=None)"
   ]
  },
  {
   "cell_type": "code",
   "execution_count": 97,
   "metadata": {
    "scrolled": false
   },
   "outputs": [
    {
     "data": {
      "text/html": [
       "<div style=\"width:100%;\"><div style=\"position:relative;width:100%;height:0;padding-bottom:60%;\"><iframe src=\"data:text/html;charset=utf-8;base64,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\" style=\"position:absolute;width:100%;height:100%;left:0;top:0;border:none !important;\" allowfullscreen webkitallowfullscreen mozallowfullscreen></iframe></div></div>"
      ],
      "text/plain": [
       "<folium.folium.Map at 0x117215fd0>"
      ]
     },
     "execution_count": 97,
     "metadata": {},
     "output_type": "execute_result"
    }
   ],
   "source": [
    "'''\n",
    "Plot markers\n",
    "'''\n",
    "\n",
    "rows = df.index.tolist()\n",
    "\n",
    "marker_points = []\n",
    "for row in rows:\n",
    "    marker_points.append((df.iloc[row].Latitude,df.iloc[row].Longitude))\n",
    "    \n",
    "# Set map centerpoint\n",
    "coords = marker_points[0]\n",
    "       \n",
    "# Define map\n",
    "m = folium.Map(\n",
    "    location = coords,\n",
    "    zoom_start = 13\n",
    ")\n",
    "  \n",
    "# Add points    \n",
    "for mp in marker_points:\n",
    "    folium.Marker(mp).add_to(m)\n",
    "m"
   ]
  },
  {
   "cell_type": "code",
   "execution_count": 108,
   "metadata": {},
   "outputs": [
    {
     "data": {
      "application/vnd.jupyter.widget-view+json": {
       "model_id": "d2f15aa411824e82b2ed1b6764a96f1c",
       "version_major": 2,
       "version_minor": 0
      },
      "text/plain": [
       "Figure(layout=FigureLayout(height='800px', width='100%'))"
      ]
     },
     "metadata": {},
     "output_type": "display_data"
    }
   ],
   "source": [
    "'''\n",
    "Get satellite preview for image\n",
    "'''\n",
    "\n",
    "row = 0\n",
    "\n",
    "figure_layout = {\n",
    "    'width': '100%',\n",
    "    'height': '800px'\n",
    "}\n",
    "fig = gmaps.figure(center = (df.iloc[row].Latitude,df.iloc[row].Longitude), zoom_level = 19,map_type='SATELLITE',layout=figure_layout)\n",
    "fig"
   ]
  },
  {
   "cell_type": "code",
   "execution_count": 99,
   "metadata": {},
   "outputs": [],
   "source": [
    "'''\n",
    "Get all images \n",
    "'''\n",
    "\n",
    "root = os.path.dirname(os.path.abspath('Africa.ipynb'))\n",
    "image_folder = root[:-9]+update_folder[3:]\n",
    "image_folder\n",
    "\n",
    "url = 'https://maps.googleapis.com/maps/api/staticmap?'\n",
    "rows = df.index.tolist()\n",
    "for i in range(0,len(rows)):\n",
    "    row = df.iloc[i]\n",
    "    center = str(row.Latitude)+','+str(row.Longitude)\n",
    "    payload = {\n",
    "        'center': center, \n",
    "        'zoom': 20,\n",
    "        'size': '640x640',\n",
    "        'scale': 2,\n",
    "        'format': 'png32',\n",
    "        'maptype': 'satellite',\n",
    "        'key': token\n",
    "    }\n",
    "    \n",
    "    r = requests.get(url,params=payload,stream=True)\n",
    "\n",
    "    name = df.iloc[i]['Name']\n",
    "    filename = image_folder+name+'.png'\n",
    "    if r.status_code == 200:\n",
    "        with open(filename, 'wb') as f:\n",
    "            r.raw.decode_content = True\n",
    "            shutil.copyfileobj(r.raw, f) "
   ]
  },
  {
   "cell_type": "code",
   "execution_count": null,
   "metadata": {},
   "outputs": [],
   "source": []
  }
 ],
 "metadata": {
  "kernelspec": {
   "display_name": "Python 3",
   "language": "python",
   "name": "python3"
  },
  "language_info": {
   "codemirror_mode": {
    "name": "ipython",
    "version": 3
   },
   "file_extension": ".py",
   "mimetype": "text/x-python",
   "name": "python",
   "nbconvert_exporter": "python",
   "pygments_lexer": "ipython3",
   "version": "3.7.3"
  }
 },
 "nbformat": 4,
 "nbformat_minor": 2
}
