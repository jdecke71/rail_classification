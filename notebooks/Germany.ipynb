{
 "cells": [
  {
   "cell_type": "code",
   "execution_count": 1,
   "metadata": {},
   "outputs": [],
   "source": [
    "import pandas as pd\n",
    "import geopandas as gpd\n",
    "import matplotlib.pyplot as plt\n",
    "from shapely.geometry import mapping\n",
    "import folium\n",
    "import googlemaps\n",
    "import gmaps\n",
    "import os\n",
    "import requests\n",
    "import shutil\n",
    "from google.cloud import translate\n",
    "from IPython.display import Image"
   ]
  },
  {
   "cell_type": "code",
   "execution_count": 13,
   "metadata": {},
   "outputs": [],
   "source": [
    "with open('../resources/key.txt') as f:\n",
    "    token = f.read()\n",
    "    \n",
    "gmaps.configure(api_key = token)"
   ]
  },
  {
   "cell_type": "code",
   "execution_count": 10,
   "metadata": {},
   "outputs": [],
   "source": [
    "input_folder = '../data/railways/germany-railways-shape/'\n",
    "input_file = input_folder+'railways.shp'\n",
    "\n",
    "output_folder = '../data/output_images/Germany/'\n",
    "output_csv = output_folder+'GRM.csv'"
   ]
  },
  {
   "cell_type": "markdown",
   "metadata": {},
   "source": [
    "#### Import routes"
   ]
  },
  {
   "cell_type": "code",
   "execution_count": 12,
   "metadata": {},
   "outputs": [
    {
     "data": {
      "text/html": [
       "<div>\n",
       "<style scoped>\n",
       "    .dataframe tbody tr th:only-of-type {\n",
       "        vertical-align: middle;\n",
       "    }\n",
       "\n",
       "    .dataframe tbody tr th {\n",
       "        vertical-align: top;\n",
       "    }\n",
       "\n",
       "    .dataframe thead th {\n",
       "        text-align: right;\n",
       "    }\n",
       "</style>\n",
       "<table border=\"1\" class=\"dataframe\">\n",
       "  <thead>\n",
       "    <tr style=\"text-align: right;\">\n",
       "      <th></th>\n",
       "      <th>osm_id</th>\n",
       "      <th>name</th>\n",
       "      <th>type</th>\n",
       "      <th>geometry</th>\n",
       "    </tr>\n",
       "  </thead>\n",
       "  <tbody>\n",
       "    <tr>\n",
       "      <th>0</th>\n",
       "      <td>2402605</td>\n",
       "      <td>None</td>\n",
       "      <td>tram</td>\n",
       "      <td>LINESTRING (10.9021988 48.3521243, 10.9021953 ...</td>\n",
       "    </tr>\n",
       "    <tr>\n",
       "      <th>1</th>\n",
       "      <td>2402606</td>\n",
       "      <td>3</td>\n",
       "      <td>tram</td>\n",
       "      <td>LINESTRING (10.8937679 48.31041820000001, 10.8...</td>\n",
       "    </tr>\n",
       "    <tr>\n",
       "      <th>2</th>\n",
       "      <td>2467882</td>\n",
       "      <td>Stadtbahn U1, U13</td>\n",
       "      <td>rail</td>\n",
       "      <td>LINESTRING (9.2172812 48.803314, 9.21760910000...</td>\n",
       "    </tr>\n",
       "    <tr>\n",
       "      <th>3</th>\n",
       "      <td>2481116</td>\n",
       "      <td>None</td>\n",
       "      <td>rail</td>\n",
       "      <td>LINESTRING (10.8690368 48.3937811, 10.8681289 ...</td>\n",
       "    </tr>\n",
       "    <tr>\n",
       "      <th>4</th>\n",
       "      <td>2571242</td>\n",
       "      <td>Staudenbahn</td>\n",
       "      <td>preserved</td>\n",
       "      <td>LINESTRING (10.5939151 48.146509, 10.5935423 4...</td>\n",
       "    </tr>\n",
       "  </tbody>\n",
       "</table>\n",
       "</div>"
      ],
      "text/plain": [
       "    osm_id               name       type  \\\n",
       "0  2402605               None       tram   \n",
       "1  2402606                  3       tram   \n",
       "2  2467882  Stadtbahn U1, U13       rail   \n",
       "3  2481116               None       rail   \n",
       "4  2571242        Staudenbahn  preserved   \n",
       "\n",
       "                                            geometry  \n",
       "0  LINESTRING (10.9021988 48.3521243, 10.9021953 ...  \n",
       "1  LINESTRING (10.8937679 48.31041820000001, 10.8...  \n",
       "2  LINESTRING (9.2172812 48.803314, 9.21760910000...  \n",
       "3  LINESTRING (10.8690368 48.3937811, 10.8681289 ...  \n",
       "4  LINESTRING (10.5939151 48.146509, 10.5935423 4...  "
      ]
     },
     "execution_count": 12,
     "metadata": {},
     "output_type": "execute_result"
    }
   ],
   "source": [
    "routes = gpd.read_file(input_file)\n",
    "\n",
    "routes = routes.to_crs({'init' :'epsg:4326'})\n",
    "\n",
    "routes.head()"
   ]
  },
  {
   "cell_type": "code",
   "execution_count": 4,
   "metadata": {},
   "outputs": [
    {
     "data": {
      "text/plain": [
       "(60612, 4)"
      ]
     },
     "execution_count": 4,
     "metadata": {},
     "output_type": "execute_result"
    }
   ],
   "source": [
    "routes.shape"
   ]
  },
  {
   "cell_type": "code",
   "execution_count": 5,
   "metadata": {},
   "outputs": [
    {
     "data": {
      "text/plain": [
       "rail                46835\n",
       "tram                 4360\n",
       "light_rail           2396\n",
       "abandoned            2196\n",
       "platform             1546\n",
       "disused              1495\n",
       "subway                746\n",
       "preserved             464\n",
       "narrow_gauge          254\n",
       "construction          133\n",
       "turntable              55\n",
       "monorail               41\n",
       "station                23\n",
       "halt                   13\n",
       "preserved;narrow       12\n",
       "rack                    9\n",
       "viaduct                 4\n",
       "funicular               4\n",
       "footway                 3\n",
       "crossing                3\n",
       "level_crossing          3\n",
       "spur                    3\n",
       "<unterschiedlich        3\n",
       "service                 3\n",
       "plattform               2\n",
       "incline                 2\n",
       "peoplemover             1\n",
       "abandoned;light_        1\n",
       "Brexbachtalbahn         1\n",
       "container_termin        1\n",
       "Name: type, dtype: int64"
      ]
     },
     "execution_count": 5,
     "metadata": {},
     "output_type": "execute_result"
    }
   ],
   "source": [
    "routes['type'].value_counts()"
   ]
  },
  {
   "cell_type": "code",
   "execution_count": 13,
   "metadata": {},
   "outputs": [
    {
     "data": {
      "text/html": [
       "<div>\n",
       "<style scoped>\n",
       "    .dataframe tbody tr th:only-of-type {\n",
       "        vertical-align: middle;\n",
       "    }\n",
       "\n",
       "    .dataframe tbody tr th {\n",
       "        vertical-align: top;\n",
       "    }\n",
       "\n",
       "    .dataframe thead th {\n",
       "        text-align: right;\n",
       "    }\n",
       "</style>\n",
       "<table border=\"1\" class=\"dataframe\">\n",
       "  <thead>\n",
       "    <tr style=\"text-align: right;\">\n",
       "      <th></th>\n",
       "      <th>osm_id</th>\n",
       "      <th>name</th>\n",
       "      <th>type</th>\n",
       "      <th>geometry</th>\n",
       "    </tr>\n",
       "  </thead>\n",
       "  <tbody>\n",
       "    <tr>\n",
       "      <th>5</th>\n",
       "      <td>2588600</td>\n",
       "      <td>S3, S31</td>\n",
       "      <td>light_rail</td>\n",
       "      <td>LINESTRING (9.872649300000001 53.473188, 9.862...</td>\n",
       "    </tr>\n",
       "    <tr>\n",
       "      <th>171</th>\n",
       "      <td>4158975</td>\n",
       "      <td>None</td>\n",
       "      <td>light_rail</td>\n",
       "      <td>LINESTRING (8.403577 48.9847996, 8.4036445 48....</td>\n",
       "    </tr>\n",
       "    <tr>\n",
       "      <th>288</th>\n",
       "      <td>4242974</td>\n",
       "      <td>None</td>\n",
       "      <td>light_rail</td>\n",
       "      <td>LINESTRING (8.4029946 49.08933, 8.402808200000...</td>\n",
       "    </tr>\n",
       "    <tr>\n",
       "      <th>355</th>\n",
       "      <td>4251699</td>\n",
       "      <td>None</td>\n",
       "      <td>light_rail</td>\n",
       "      <td>LINESTRING (8.401653100000003 48.989128, 8.402...</td>\n",
       "    </tr>\n",
       "    <tr>\n",
       "      <th>356</th>\n",
       "      <td>4251700</td>\n",
       "      <td>None</td>\n",
       "      <td>light_rail</td>\n",
       "      <td>LINESTRING (8.398828200000001 48.9905039, 8.40...</td>\n",
       "    </tr>\n",
       "  </tbody>\n",
       "</table>\n",
       "</div>"
      ],
      "text/plain": [
       "      osm_id     name        type  \\\n",
       "5    2588600  S3, S31  light_rail   \n",
       "171  4158975     None  light_rail   \n",
       "288  4242974     None  light_rail   \n",
       "355  4251699     None  light_rail   \n",
       "356  4251700     None  light_rail   \n",
       "\n",
       "                                              geometry  \n",
       "5    LINESTRING (9.872649300000001 53.473188, 9.862...  \n",
       "171  LINESTRING (8.403577 48.9847996, 8.4036445 48....  \n",
       "288  LINESTRING (8.4029946 49.08933, 8.402808200000...  \n",
       "355  LINESTRING (8.401653100000003 48.989128, 8.402...  \n",
       "356  LINESTRING (8.398828200000001 48.9905039, 8.40...  "
      ]
     },
     "execution_count": 13,
     "metadata": {},
     "output_type": "execute_result"
    }
   ],
   "source": [
    "routes = routes[routes['type']=='light_rail']\n",
    "routes.head()"
   ]
  },
  {
   "cell_type": "markdown",
   "metadata": {},
   "source": [
    "#### Get points from routes"
   ]
  },
  {
   "cell_type": "code",
   "execution_count": 18,
   "metadata": {},
   "outputs": [
    {
     "name": "stdout",
     "output_type": "stream",
     "text": [
      "14032 points\n"
     ]
    }
   ],
   "source": [
    "'''\n",
    "Get all points\n",
    "'''\n",
    "\n",
    "points = []\n",
    "rows = routes.index.tolist()\n",
    "\n",
    "for i in rows:\n",
    "    try:\n",
    "        route = routes.loc[i]\n",
    "        g = route.geometry\n",
    "        sec_points = mapping(g)[\"coordinates\"]\n",
    "        for j in sec_points:\n",
    "            tmp = (j[0],j[1])\n",
    "            points.append(tmp)\n",
    "    except Exception as e:\n",
    "        print(\"Skipped route number\",i,'because',e)        \n",
    "        \n",
    "    \n",
    "print(len(points),'points')   "
   ]
  },
  {
   "cell_type": "code",
   "execution_count": 19,
   "metadata": {},
   "outputs": [
    {
     "name": "stdout",
     "output_type": "stream",
     "text": [
      "50 points\n"
     ]
    }
   ],
   "source": [
    "'''\n",
    "Get subselection of points\n",
    "'''\n",
    "\n",
    "route_points = []\n",
    "for point in range(0,len(points),285):\n",
    "    tmp = points[point]\n",
    "    route_points.append(tmp)\n",
    "\n",
    "print(len(route_points),'points')"
   ]
  },
  {
   "cell_type": "markdown",
   "metadata": {},
   "source": [
    "#### Create working dataset"
   ]
  },
  {
   "cell_type": "code",
   "execution_count": 10,
   "metadata": {},
   "outputs": [
    {
     "data": {
      "text/html": [
       "<div>\n",
       "<style scoped>\n",
       "    .dataframe tbody tr th:only-of-type {\n",
       "        vertical-align: middle;\n",
       "    }\n",
       "\n",
       "    .dataframe tbody tr th {\n",
       "        vertical-align: top;\n",
       "    }\n",
       "\n",
       "    .dataframe thead th {\n",
       "        text-align: right;\n",
       "    }\n",
       "</style>\n",
       "<table border=\"1\" class=\"dataframe\">\n",
       "  <thead>\n",
       "    <tr style=\"text-align: right;\">\n",
       "      <th></th>\n",
       "      <th>Name</th>\n",
       "      <th>Longitude</th>\n",
       "      <th>Latitude</th>\n",
       "    </tr>\n",
       "  </thead>\n",
       "  <tbody>\n",
       "    <tr>\n",
       "      <th>0</th>\n",
       "      <td>9.8726493_53.473188</td>\n",
       "      <td>9.872649</td>\n",
       "      <td>53.473188</td>\n",
       "    </tr>\n",
       "    <tr>\n",
       "      <th>1</th>\n",
       "      <td>8.5764313_48.7932684</td>\n",
       "      <td>8.576431</td>\n",
       "      <td>48.793268</td>\n",
       "    </tr>\n",
       "    <tr>\n",
       "      <th>2</th>\n",
       "      <td>13.3286934_52.5048651</td>\n",
       "      <td>13.328693</td>\n",
       "      <td>52.504865</td>\n",
       "    </tr>\n",
       "    <tr>\n",
       "      <th>3</th>\n",
       "      <td>13.3437392_52.5198835</td>\n",
       "      <td>13.343739</td>\n",
       "      <td>52.519883</td>\n",
       "    </tr>\n",
       "    <tr>\n",
       "      <th>4</th>\n",
       "      <td>8.389252_48.9419229</td>\n",
       "      <td>8.389252</td>\n",
       "      <td>48.941923</td>\n",
       "    </tr>\n",
       "  </tbody>\n",
       "</table>\n",
       "</div>"
      ],
      "text/plain": [
       "                    Name  Longitude   Latitude\n",
       "0    9.8726493_53.473188   9.872649  53.473188\n",
       "1   8.5764313_48.7932684   8.576431  48.793268\n",
       "2  13.3286934_52.5048651  13.328693  52.504865\n",
       "3  13.3437392_52.5198835  13.343739  52.519883\n",
       "4    8.389252_48.9419229   8.389252  48.941923"
      ]
     },
     "execution_count": 10,
     "metadata": {},
     "output_type": "execute_result"
    }
   ],
   "source": [
    "'''\n",
    "Create dataframe\n",
    "'''\n",
    "\n",
    "df = pd.DataFrame(route_points, columns=['Longitude','Latitude'])\n",
    "\n",
    "tmp = list(df.Latitude.tolist())\n",
    "names = []\n",
    "for i in range(0,len(tmp)):\n",
    "    name = str(df.iloc[i].Longitude)+'_'+str(df.iloc[i].Latitude)\n",
    "    names.append(name)\n",
    "\n",
    "df['Name'] = names\n",
    "\n",
    "columns = ['Name','Longitude','Latitude']\n",
    "df= df[columns]\n",
    "\n",
    "df.head()"
   ]
  },
  {
   "cell_type": "code",
   "execution_count": 28,
   "metadata": {},
   "outputs": [],
   "source": [
    "'''\n",
    "Export points\n",
    "'''\n",
    "\n",
    "df.to_csv(output_csv,header=True,index=None)"
   ]
  },
  {
   "cell_type": "code",
   "execution_count": 11,
   "metadata": {
    "scrolled": false
   },
   "outputs": [
    {
     "data": {
      "text/html": [
       "<div style=\"width:100%;\"><div style=\"position:relative;width:100%;height:0;padding-bottom:60%;\"><iframe src=\"data:text/html;charset=utf-8;base64,PCFET0NUWVBFIGh0bWw+CjxoZWFkPiAgICAKICAgIDxtZXRhIGh0dHAtZXF1aXY9ImNvbnRlbnQtdHlwZSIgY29udGVudD0idGV4dC9odG1sOyBjaGFyc2V0PVVURi04IiAvPgogICAgCiAgICAgICAgPHNjcmlwdD4KICAgICAgICAgICAgTF9OT19UT1VDSCA9IGZhbHNlOwogICAgICAgICAgICBMX0RJU0FCTEVfM0QgPSBmYWxzZTsKICAgICAgICA8L3NjcmlwdD4KICAgIAogICAgPHNjcmlwdCBzcmM9Imh0dHBzOi8vY2RuLmpzZGVsaXZyLm5ldC9ucG0vbGVhZmxldEAxLjQuMC9kaXN0L2xlYWZsZXQuanMiPjwvc2NyaXB0PgogICAgPHNjcmlwdCBzcmM9Imh0dHBzOi8vY29kZS5qcXVlcnkuY29tL2pxdWVyeS0xLjEyLjQubWluLmpzIj48L3NjcmlwdD4KICAgIDxzY3JpcHQgc3JjPSJodHRwczovL21heGNkbi5ib290c3RyYXBjZG4uY29tL2Jvb3RzdHJhcC8zLjIuMC9qcy9ib290c3RyYXAubWluLmpzIj48L3NjcmlwdD4KICAgIDxzY3JpcHQgc3JjPSJodHRwczovL2NkbmpzLmNsb3VkZmxhcmUuY29tL2FqYXgvbGlicy9MZWFmbGV0LmF3ZXNvbWUtbWFya2Vycy8yLjAuMi9sZWFmbGV0LmF3ZXNvbWUtbWFya2Vycy5qcyI+PC9zY3JpcHQ+CiAgICA8bGluayByZWw9InN0eWxlc2hlZXQiIGhyZWY9Imh0dHBzOi8vY2RuLmpzZGVsaXZyLm5ldC9ucG0vbGVhZmxldEAxLjQuMC9kaXN0L2xlYWZsZXQuY3NzIi8+CiAgICA8bGluayByZWw9InN0eWxlc2hlZXQiIGhyZWY9Imh0dHBzOi8vbWF4Y2RuLmJvb3RzdHJhcGNkbi5jb20vYm9vdHN0cmFwLzMuMi4wL2Nzcy9ib290c3RyYXAubWluLmNzcyIvPgogICAgPGxpbmsgcmVsPSJzdHlsZXNoZWV0IiBocmVmPSJodHRwczovL21heGNkbi5ib290c3RyYXBjZG4uY29tL2Jvb3RzdHJhcC8zLjIuMC9jc3MvYm9vdHN0cmFwLXRoZW1lLm1pbi5jc3MiLz4KICAgIDxsaW5rIHJlbD0ic3R5bGVzaGVldCIgaHJlZj0iaHR0cHM6Ly9tYXhjZG4uYm9vdHN0cmFwY2RuLmNvbS9mb250LWF3ZXNvbWUvNC42LjMvY3NzL2ZvbnQtYXdlc29tZS5taW4uY3NzIi8+CiAgICA8bGluayByZWw9InN0eWxlc2hlZXQiIGhyZWY9Imh0dHBzOi8vY2RuanMuY2xvdWRmbGFyZS5jb20vYWpheC9saWJzL0xlYWZsZXQuYXdlc29tZS1tYXJrZXJzLzIuMC4yL2xlYWZsZXQuYXdlc29tZS1tYXJrZXJzLmNzcyIvPgogICAgPGxpbmsgcmVsPSJzdHlsZXNoZWV0IiBocmVmPSJodHRwczovL3Jhd2Nkbi5naXRoYWNrLmNvbS9weXRob24tdmlzdWFsaXphdGlvbi9mb2xpdW0vbWFzdGVyL2ZvbGl1bS90ZW1wbGF0ZXMvbGVhZmxldC5hd2Vzb21lLnJvdGF0ZS5jc3MiLz4KICAgIDxzdHlsZT5odG1sLCBib2R5IHt3aWR0aDogMTAwJTtoZWlnaHQ6IDEwMCU7bWFyZ2luOiAwO3BhZGRpbmc6IDA7fTwvc3R5bGU+CiAgICA8c3R5bGU+I21hcCB7cG9zaXRpb246YWJzb2x1dGU7dG9wOjA7Ym90dG9tOjA7cmlnaHQ6MDtsZWZ0OjA7fTwvc3R5bGU+CiAgICAKICAgICAgICAgICAgPG1ldGEgbmFtZT0idmlld3BvcnQiIGNvbnRlbnQ9IndpZHRoPWRldmljZS13aWR0aCwKICAgICAgICAgICAgICAgIGluaXRpYWwtc2NhbGU9MS4wLCBtYXhpbXVtLXNjYWxlPTEuMCwgdXNlci1zY2FsYWJsZT1ubyIgLz4KICAgICAgICAgICAgPHN0eWxlPgogICAgICAgICAgICAgICAgI21hcF8xYTc0NjdiMjNmZWI0NzIxYjM1MTE2NDk1NWI4MGIwZCB7CiAgICAgICAgICAgICAgICAgICAgcG9zaXRpb246IHJlbGF0aXZlOwogICAgICAgICAgICAgICAgICAgIHdpZHRoOiAxMDAuMCU7CiAgICAgICAgICAgICAgICAgICAgaGVpZ2h0OiAxMDAuMCU7CiAgICAgICAgICAgICAgICAgICAgbGVmdDogMC4wJTsKICAgICAgICAgICAgICAgICAgICB0b3A6IDAuMCU7CiAgICAgICAgICAgICAgICB9CiAgICAgICAgICAgIDwvc3R5bGU+CiAgICAgICAgCjwvaGVhZD4KPGJvZHk+ICAgIAogICAgCiAgICAgICAgICAgIDxkaXYgY2xhc3M9ImZvbGl1bS1tYXAiIGlkPSJtYXBfMWE3NDY3YjIzZmViNDcyMWIzNTExNjQ5NTViODBiMGQiID48L2Rpdj4KICAgICAgICAKPC9ib2R5Pgo8c2NyaXB0PiAgICAKICAgIAogICAgICAgICAgICB2YXIgbWFwXzFhNzQ2N2IyM2ZlYjQ3MjFiMzUxMTY0OTU1YjgwYjBkID0gTC5tYXAoCiAgICAgICAgICAgICAgICAibWFwXzFhNzQ2N2IyM2ZlYjQ3MjFiMzUxMTY0OTU1YjgwYjBkIiwKICAgICAgICAgICAgICAgIHsKICAgICAgICAgICAgICAgICAgICBjZW50ZXI6IFs1Mi40MzIyOTY0LCAxMy43NDUzNzM3XSwKICAgICAgICAgICAgICAgICAgICBjcnM6IEwuQ1JTLkVQU0czODU3LAogICAgICAgICAgICAgICAgICAgIHpvb206IDcsCiAgICAgICAgICAgICAgICAgICAgem9vbUNvbnRyb2w6IHRydWUsCiAgICAgICAgICAgICAgICAgICAgcHJlZmVyQ2FudmFzOiBmYWxzZSwKICAgICAgICAgICAgICAgIH0KICAgICAgICAgICAgKTsKCiAgICAgICAgICAgIAoKICAgICAgICAKICAgIAogICAgICAgICAgICB2YXIgdGlsZV9sYXllcl9mNTE1MjRiYmIwYWE0YWVhODE0MTJiYjhiNDUxZTliNyA9IEwudGlsZUxheWVyKAogICAgICAgICAgICAgICAgImh0dHBzOi8ve3N9LnRpbGUub3BlbnN0cmVldG1hcC5vcmcve3p9L3t4fS97eX0ucG5nIiwKICAgICAgICAgICAgICAgIHsiYXR0cmlidXRpb24iOiAiRGF0YSBieSBcdTAwMjZjb3B5OyBcdTAwM2NhIGhyZWY9XCJodHRwOi8vb3BlbnN0cmVldG1hcC5vcmdcIlx1MDAzZU9wZW5TdHJlZXRNYXBcdTAwM2MvYVx1MDAzZSwgdW5kZXIgXHUwMDNjYSBocmVmPVwiaHR0cDovL3d3dy5vcGVuc3RyZWV0bWFwLm9yZy9jb3B5cmlnaHRcIlx1MDAzZU9EYkxcdTAwM2MvYVx1MDAzZS4iLCAiZGV0ZWN0UmV0aW5hIjogZmFsc2UsICJtYXhOYXRpdmVab29tIjogMTgsICJtYXhab29tIjogMTgsICJtaW5ab29tIjogMCwgIm5vV3JhcCI6IGZhbHNlLCAib3BhY2l0eSI6IDEsICJzdWJkb21haW5zIjogImFiYyIsICJ0bXMiOiBmYWxzZX0KICAgICAgICAgICAgKS5hZGRUbyhtYXBfMWE3NDY3YjIzZmViNDcyMWIzNTExNjQ5NTViODBiMGQpOwogICAgICAgIAogICAgCiAgICAgICAgICAgIHZhciBtYXJrZXJfNTIzMzRkMmYyMzYxNDliZjg0ZjZhYThiYTk1Mzg1MDMgPSBMLm1hcmtlcigKICAgICAgICAgICAgICAgIFs1My40NzMxODgsIDkuODcyNjQ5M10sCiAgICAgICAgICAgICAgICB7fQogICAgICAgICAgICApLmFkZFRvKG1hcF8xYTc0NjdiMjNmZWI0NzIxYjM1MTE2NDk1NWI4MGIwZCk7CiAgICAgICAgCiAgICAKICAgICAgICAgICAgdmFyIG1hcmtlcl80NzEzMWFkMzU1ODM0OTJmYWRjNTgyNmMxY2FjNTc1YSA9IEwubWFya2VyKAogICAgICAgICAgICAgICAgWzQ4Ljc5MzI2ODQsIDguNTc2NDMxM10sCiAgICAgICAgICAgICAgICB7fQogICAgICAgICAgICApLmFkZFRvKG1hcF8xYTc0NjdiMjNmZWI0NzIxYjM1MTE2NDk1NWI4MGIwZCk7CiAgICAgICAgCiAgICAKICAgICAgICAgICAgdmFyIG1hcmtlcl83NWY1YmM1YThkYzc0OTBjOGJhYjdhYjBkNDYxZWQxZSA9IEwubWFya2VyKAogICAgICAgICAgICAgICAgWzUyLjUwNDg2NTEsIDEzLjMyODY5MzRdLAogICAgICAgICAgICAgICAge30KICAgICAgICAgICAgKS5hZGRUbyhtYXBfMWE3NDY3YjIzZmViNDcyMWIzNTExNjQ5NTViODBiMGQpOwogICAgICAgIAogICAgCiAgICAgICAgICAgIHZhciBtYXJrZXJfN2Y1MmE0NzAzZmI3NDllZDgyMmI1OTVkYjNkMzAxNGYgPSBMLm1hcmtlcigKICAgICAgICAgICAgICAgIFs1Mi41MTk4ODM1LCAxMy4zNDM3MzkyXSwKICAgICAgICAgICAgICAgIHt9CiAgICAgICAgICAgICkuYWRkVG8obWFwXzFhNzQ2N2IyM2ZlYjQ3MjFiMzUxMTY0OTU1YjgwYjBkKTsKICAgICAgICAKICAgIAogICAgICAgICAgICB2YXIgbWFya2VyXzBjYjUxNzU3Yjg0YzQwMWVhNGI2Y2QxYmRjY2NlZDYzID0gTC5tYXJrZXIoCiAgICAgICAgICAgICAgICBbNDguOTQxOTIyOSwgOC4zODkyNTJdLAogICAgICAgICAgICAgICAge30KICAgICAgICAgICAgKS5hZGRUbyhtYXBfMWE3NDY3YjIzZmViNDcyMWIzNTExNjQ5NTViODBiMGQpOwogICAgICAgIAogICAgCiAgICAgICAgICAgIHZhciBtYXJrZXJfODhlYjQ5YmY2MzNiNDNiOTkwYjA0YTE5ZThhM2IzMGEgPSBMLm1hcmtlcigKICAgICAgICAgICAgICAgIFs1Mi41MzQxMTc0LCAxMy41MzQ1ODg1XSwKICAgICAgICAgICAgICAgIHt9CiAgICAgICAgICAgICkuYWRkVG8obWFwXzFhNzQ2N2IyM2ZlYjQ3MjFiMzUxMTY0OTU1YjgwYjBkKTsKICAgICAgICAKICAgIAogICAgICAgICAgICB2YXIgbWFya2VyX2Y3NjBiOWJiZmNlOTQ3NjY4NTM5MDRjZWZlNWY0ZDU2ID0gTC5tYXJrZXIoCiAgICAgICAgICAgICAgICBbNTIuNTUxODk3NywgMTMuMzk4ODEwMDAwMDAwMDAxXSwKICAgICAgICAgICAgICAgIHt9CiAgICAgICAgICAgICkuYWRkVG8obWFwXzFhNzQ2N2IyM2ZlYjQ3MjFiMzUxMTY0OTU1YjgwYjBkKTsKICAgICAgICAKICAgIAogICAgICAgICAgICB2YXIgbWFya2VyXzYwYTkwMjFlY2M4MjQxZjM5ZjI1MjhmZWU1YjUxNDMzID0gTC5tYXJrZXIoCiAgICAgICAgICAgICAgICBbNDguOTU5Njg0MiwgOC40MDQ1MDg2XSwKICAgICAgICAgICAgICAgIHt9CiAgICAgICAgICAgICkuYWRkVG8obWFwXzFhNzQ2N2IyM2ZlYjQ3MjFiMzUxMTY0OTU1YjgwYjBkKTsKICAgICAgICAKICAgIAogICAgICAgICAgICB2YXIgbWFya2VyXzU3OWFkZjk2YzY1MzQ0NWU4MTRkMmQyNzdjMjI1NDUzID0gTC5tYXJrZXIoCiAgICAgICAgICAgICAgICBbNTMuNTg2OTgxOSwgMTAuMDQ2NTQyOV0sCiAgICAgICAgICAgICAgICB7fQogICAgICAgICAgICApLmFkZFRvKG1hcF8xYTc0NjdiMjNmZWI0NzIxYjM1MTE2NDk1NWI4MGIwZCk7CiAgICAgICAgCiAgICAKICAgICAgICAgICAgdmFyIG1hcmtlcl8wZWU4MDRkOTI4ZTA0YTc2YmY1NzZmNDc4YzVmYmU2NSA9IEwubWFya2VyKAogICAgICAgICAgICAgICAgWzUwLjEwMjY4MjUsIDguNzg0ODIwNF0sCiAgICAgICAgICAgICAgICB7fQogICAgICAgICAgICApLmFkZFRvKG1hcF8xYTc0NjdiMjNmZWI0NzIxYjM1MTE2NDk1NWI4MGIwZCk7CiAgICAgICAgCiAgICAKICAgICAgICAgICAgdmFyIG1hcmtlcl80YmE3MmVjMWFiZDU0NTM4YWNhOWRmM2Y4YWY5YzM2YiA9IEwubWFya2VyKAogICAgICAgICAgICAgICAgWzUyLjUxMzQyNzQsIDEzLjUwNzg5NTVdLAogICAgICAgICAgICAgICAge30KICAgICAgICAgICAgKS5hZGRUbyhtYXBfMWE3NDY3YjIzZmViNDcyMWIzNTExNjQ5NTViODBiMGQpOwogICAgICAgIAogICAgCiAgICAgICAgICAgIHZhciBtYXJrZXJfZWZhNDE4NDM3OTlmNGE2YmI0ZDcyYzk0NGE2ODIwNTQgPSBMLm1hcmtlcigKICAgICAgICAgICAgICAgIFs1Mi41MTIwNjg5LCAxMy4yNTEzOTk4XSwKICAgICAgICAgICAgICAgIHt9CiAgICAgICAgICAgICkuYWRkVG8obWFwXzFhNzQ2N2IyM2ZlYjQ3MjFiMzUxMTY0OTU1YjgwYjBkKTsKICAgICAgICAKICAgIAogICAgICAgICAgICB2YXIgbWFya2VyX2YzYzI4MDRmYjIzYzRhMzM4OWQwYzA4YmZmMDhkZDFmID0gTC5tYXJrZXIoCiAgICAgICAgICAgICAgICBbNTMuNTg0OTIxNSwgOS43MjA5MDgzXSwKICAgICAgICAgICAgICAgIHt9CiAgICAgICAgICAgICkuYWRkVG8obWFwXzFhNzQ2N2IyM2ZlYjQ3MjFiMzUxMTY0OTU1YjgwYjBkKTsKICAgICAgICAKICAgIAogICAgICAgICAgICB2YXIgbWFya2VyXzVlMzNiMGNjNmYzYjQzNWU4ODBkODc3ODNmMTU2N2Y1ID0gTC5tYXJrZXIoCiAgICAgICAgICAgICAgICBbNDguMjYyMzEzMSwgNy43MjMxOTY1MDAwMDAwMDFdLAogICAgICAgICAgICAgICAge30KICAgICAgICAgICAgKS5hZGRUbyhtYXBfMWE3NDY3YjIzZmViNDcyMWIzNTExNjQ5NTViODBiMGQpOwogICAgICAgIAogICAgCiAgICAgICAgICAgIHZhciBtYXJrZXJfMDBhMjYyYzNkNWFlNDZjZmE5MDQ3Y2QzY2Y2NWYxYWMgPSBMLm1hcmtlcigKICAgICAgICAgICAgICAgIFs1Mi42MzQ5MjU5LCAxMy40OTA3MzY2XSwKICAgICAgICAgICAgICAgIHt9CiAgICAgICAgICAgICkuYWRkVG8obWFwXzFhNzQ2N2IyM2ZlYjQ3MjFiMzUxMTY0OTU1YjgwYjBkKTsKICAgICAgICAKICAgIAogICAgICAgICAgICB2YXIgbWFya2VyXzhhMjUyYjcyNjUyNTQ1OGFiNTZjMTExM2Y4NzQwM2EyID0gTC5tYXJrZXIoCiAgICAgICAgICAgICAgICBbNTIuNTE1NTY5MywgMTMuMjg1NDcxNl0sCiAgICAgICAgICAgICAgICB7fQogICAgICAgICAgICApLmFkZFRvKG1hcF8xYTc0NjdiMjNmZWI0NzIxYjM1MTE2NDk1NWI4MGIwZCk7CiAgICAgICAgCiAgICAKICAgICAgICAgICAgdmFyIG1hcmtlcl9jNjY4YjhiNWM4OWY0OGFlYjI2N2ExMGJkOGFmNGZmYyA9IEwubWFya2VyKAogICAgICAgICAgICAgICAgWzUzLjYzMTI3MzMsIDkuODM3NDU1Ml0sCiAgICAgICAgICAgICAgICB7fQogICAgICAgICAgICApLmFkZFRvKG1hcF8xYTc0NjdiMjNmZWI0NzIxYjM1MTE2NDk1NWI4MGIwZCk7CiAgICAgICAgCiAgICAKICAgICAgICAgICAgdmFyIG1hcmtlcl9lNjFmMjkwODVmM2U0MTUwYTEwYzEyNGU4MzRlNmY4ZSA9IEwubWFya2VyKAogICAgICAgICAgICAgICAgWzQ5LjkyOTA3MjcsIDguNjQ3NzU0NV0sCiAgICAgICAgICAgICAgICB7fQogICAgICAgICAgICApLmFkZFRvKG1hcF8xYTc0NjdiMjNmZWI0NzIxYjM1MTE2NDk1NWI4MGIwZCk7CiAgICAgICAgCiAgICAKICAgICAgICAgICAgdmFyIG1hcmtlcl8yNGJjYTQ4ODY4NGQ0OWMwODQ1OGJhNzkwMmYxN2MyYiA9IEwubWFya2VyKAogICAgICAgICAgICAgICAgWzQ5LjAwNzU2OSwgOC41MDk1MDE2XSwKICAgICAgICAgICAgICAgIHt9CiAgICAgICAgICAgICkuYWRkVG8obWFwXzFhNzQ2N2IyM2ZlYjQ3MjFiMzUxMTY0OTU1YjgwYjBkKTsKICAgICAgICAKICAgIAogICAgICAgICAgICB2YXIgbWFya2VyXzYwZjRmNDkwZmFkMzQ3MTY5YjIwMGIwOWRjYWQyMTZhID0gTC5tYXJrZXIoCiAgICAgICAgICAgICAgICBbNTIuNDEwMTE0NywgMTMuNTc3OTcxXSwKICAgICAgICAgICAgICAgIHt9CiAgICAgICAgICAgICkuYWRkVG8obWFwXzFhNzQ2N2IyM2ZlYjQ3MjFiMzUxMTY0OTU1YjgwYjBkKTsKICAgICAgICAKICAgIAogICAgICAgICAgICB2YXIgbWFya2VyX2ZkMjllOGUxNzNjMzQwOWE4ODgyYzc1NDBjN2ZkYTM3ID0gTC5tYXJrZXIoCiAgICAgICAgICAgICAgICBbNDkuMDM0MDIwMjAwMDAwMDEsIDguMzIxNTcyNl0sCiAgICAgICAgICAgICAgICB7fQogICAgICAgICAgICApLmFkZFRvKG1hcF8xYTc0NjdiMjNmZWI0NzIxYjM1MTE2NDk1NWI4MGIwZCk7CiAgICAgICAgCiAgICAKICAgICAgICAgICAgdmFyIG1hcmtlcl9mZTNmNDFkMTQ1MmE0NDRhYTlhNzNkYWUxY2E5YTgzMiA9IEwubWFya2VyKAogICAgICAgICAgICAgICAgWzUwLjE1MjYyMywgOC41MjY2MDRdLAogICAgICAgICAgICAgICAge30KICAgICAgICAgICAgKS5hZGRUbyhtYXBfMWE3NDY3YjIzZmViNDcyMWIzNTExNjQ5NTViODBiMGQpOwogICAgICAgIAogICAgCiAgICAgICAgICAgIHZhciBtYXJrZXJfZGM4MGY5MWZhNjVkNGNjZTlkMWE3MmVhYjliODM1MGQgPSBMLm1hcmtlcigKICAgICAgICAgICAgICAgIFs0OS41MjUxMjYyLCA4LjU1Njc1MTZdLAogICAgICAgICAgICAgICAge30KICAgICAgICAgICAgKS5hZGRUbyhtYXBfMWE3NDY3YjIzZmViNDcyMWIzNTExNjQ5NTViODBiMGQpOwogICAgICAgIAogICAgCiAgICAgICAgICAgIHZhciBtYXJrZXJfNGMwY2NkOTljYzBlNGM0YWJiNTU0YWFiMGFjYzM1ZDUgPSBMLm1hcmtlcigKICAgICAgICAgICAgICAgIFs1MS4wNDc3Mzg3LCAxMi4zODgxMTg1XSwKICAgICAgICAgICAgICAgIHt9CiAgICAgICAgICAgICkuYWRkVG8obWFwXzFhNzQ2N2IyM2ZlYjQ3MjFiMzUxMTY0OTU1YjgwYjBkKTsKICAgICAgICAKICAgIAogICAgICAgICAgICB2YXIgbWFya2VyXzBmMjIyNGNhNWNiZjRlNmViMTAwOWNiOTk5NDVlMDEyID0gTC5tYXJrZXIoCiAgICAgICAgICAgICAgICBbNTIuNDcwOTEyNywgMTMuNDc3NTY5NV0sCiAgICAgICAgICAgICAgICB7fQogICAgICAgICAgICApLmFkZFRvKG1hcF8xYTc0NjdiMjNmZWI0NzIxYjM1MTE2NDk1NWI4MGIwZCk7CiAgICAgICAgCiAgICAKICAgICAgICAgICAgdmFyIG1hcmtlcl9hNzQwN2IxYmJjOGU0MDk2YTExOGQxZTY4NjFiMWY3OCA9IEwubWFya2VyKAogICAgICAgICAgICAgICAgWzUyLjQzMjI5NjQsIDEzLjc0NTM3MzddLAogICAgICAgICAgICAgICAge30KICAgICAgICAgICAgKS5hZGRUbyhtYXBfMWE3NDY3YjIzZmViNDcyMWIzNTExNjQ5NTViODBiMGQpOwogICAgICAgIAogICAgCiAgICAgICAgICAgIHZhciBtYXJrZXJfMWJkZTJkZDcwNzhiNDY0Mzk4ZDhlMDk3MzNmNWRhNmIgPSBMLm1hcmtlcigKICAgICAgICAgICAgICAgIFs1Mi41MDU1MTA2LCAxMy4zMTE5Mjg2XSwKICAgICAgICAgICAgICAgIHt9CiAgICAgICAgICAgICkuYWRkVG8obWFwXzFhNzQ2N2IyM2ZlYjQ3MjFiMzUxMTY0OTU1YjgwYjBkKTsKICAgICAgICAKICAgIAogICAgICAgICAgICB2YXIgbWFya2VyX2ViMGRjNDdhNWRhZTQ4YjU4ZTlmYjJiNWExMjJlNWQ4ID0gTC5tYXJrZXIoCiAgICAgICAgICAgICAgICBbNDguOTk0MjM1NywgOC4zOTYyNzAzXSwKICAgICAgICAgICAgICAgIHt9CiAgICAgICAgICAgICkuYWRkVG8obWFwXzFhNzQ2N2IyM2ZlYjQ3MjFiMzUxMTY0OTU1YjgwYjBkKTsKICAgICAgICAKICAgIAogICAgICAgICAgICB2YXIgbWFya2VyX2FjMTNiYWI2NDdmMzQxYzJiNDE4NDFlZTMwZDg1OGEzID0gTC5tYXJrZXIoCiAgICAgICAgICAgICAgICBbNTMuNTIxNDQ0MywgMTAuMDEzMTg4OF0sCiAgICAgICAgICAgICAgICB7fQogICAgICAgICAgICApLmFkZFRvKG1hcF8xYTc0NjdiMjNmZWI0NzIxYjM1MTE2NDk1NWI4MGIwZCk7CiAgICAgICAgCiAgICAKICAgICAgICAgICAgdmFyIG1hcmtlcl83MzI3NWI2NGFmZmQ0MWNmODdmMjZjZmEzOGMxNGZhZiA9IEwubWFya2VyKAogICAgICAgICAgICAgICAgWzUzLjQ5NzQzMzIsIDEwLjEzMjU0NTZdLAogICAgICAgICAgICAgICAge30KICAgICAgICAgICAgKS5hZGRUbyhtYXBfMWE3NDY3YjIzZmViNDcyMWIzNTExNjQ5NTViODBiMGQpOwogICAgICAgIAogICAgCiAgICAgICAgICAgIHZhciBtYXJrZXJfMmI2OTY1MDk5YmQzNDlmYmIyMzQzOGRjYmZhNDJhNGUgPSBMLm1hcmtlcigKICAgICAgICAgICAgICAgIFs1My4wMjQ4Mzc3LCA5Ljg4MTIxNjddLAogICAgICAgICAgICAgICAge30KICAgICAgICAgICAgKS5hZGRUbyhtYXBfMWE3NDY3YjIzZmViNDcyMWIzNTExNjQ5NTViODBiMGQpOwogICAgICAgIAogICAgCiAgICAgICAgICAgIHZhciBtYXJrZXJfZjI1ZmZkM2RlM2M1NDk1Mjg3ZWQ0OWFkY2NjMWZiMjUgPSBMLm1hcmtlcigKICAgICAgICAgICAgICAgIFs0OC43NTAyMDcsIDguNTQ0NzJdLAogICAgICAgICAgICAgICAge30KICAgICAgICAgICAgKS5hZGRUbyhtYXBfMWE3NDY3YjIzZmViNDcyMWIzNTExNjQ5NTViODBiMGQpOwogICAgICAgIAogICAgCiAgICAgICAgICAgIHZhciBtYXJrZXJfOWRjYjRmMGRmOWJiNGJlYTgyNDRlYWUyMTRmZWJlNDEgPSBMLm1hcmtlcigKICAgICAgICAgICAgICAgIFs1Mi4zNjg5MDE5LCAxMy42MTY5OTQxXSwKICAgICAgICAgICAgICAgIHt9CiAgICAgICAgICAgICkuYWRkVG8obWFwXzFhNzQ2N2IyM2ZlYjQ3MjFiMzUxMTY0OTU1YjgwYjBkKTsKICAgICAgICAKICAgIAogICAgICAgICAgICB2YXIgbWFya2VyX2VjNzkwOTkwOGM3YjRlM2Y5YjcyNjI3NDEyYTUyODg3ID0gTC5tYXJrZXIoCiAgICAgICAgICAgICAgICBbNTMuNTYyNTA5NCwgOS45MzQ5NTk5XSwKICAgICAgICAgICAgICAgIHt9CiAgICAgICAgICAgICkuYWRkVG8obWFwXzFhNzQ2N2IyM2ZlYjQ3MjFiMzUxMTY0OTU1YjgwYjBkKTsKICAgICAgICAKICAgIAogICAgICAgICAgICB2YXIgbWFya2VyXzcwZGU1OTI4NTJhNDQ0MDE5ZWI0NDZiZTliZWY4MzJjID0gTC5tYXJrZXIoCiAgICAgICAgICAgICAgICBbNTIuNTQwMjAzNSwgMTMuMzYxMzQ4NF0sCiAgICAgICAgICAgICAgICB7fQogICAgICAgICAgICApLmFkZFRvKG1hcF8xYTc0NjdiMjNmZWI0NzIxYjM1MTE2NDk1NWI4MGIwZCk7CiAgICAgICAgCiAgICAKICAgICAgICAgICAgdmFyIG1hcmtlcl9lMzY1YjU1NmU4NzI0MzYyOGUzNTNmZTJkMTdiZjE4NCA9IEwubWFya2VyKAogICAgICAgICAgICAgICAgWzUyLjUzMDMxODYsIDEzLjI5OTMxNTIwMDAwMDAwMl0sCiAgICAgICAgICAgICAgICB7fQogICAgICAgICAgICApLmFkZFRvKG1hcF8xYTc0NjdiMjNmZWI0NzIxYjM1MTE2NDk1NWI4MGIwZCk7CiAgICAgICAgCiAgICAKICAgICAgICAgICAgdmFyIG1hcmtlcl8zNzRmZWQ2ZTk3NWU0MTc1OGE5NGIwNWUzMTgyOGM4NiA9IEwubWFya2VyKAogICAgICAgICAgICAgICAgWzQ3LjgyNzAyNiwgNy45NTExNTM4XSwKICAgICAgICAgICAgICAgIHt9CiAgICAgICAgICAgICkuYWRkVG8obWFwXzFhNzQ2N2IyM2ZlYjQ3MjFiMzUxMTY0OTU1YjgwYjBkKTsKICAgICAgICAKICAgIAogICAgICAgICAgICB2YXIgbWFya2VyX2Y1YzQ5ZGY2YmNlZTRlNDJhMzk0YjJiYzhjMGJhZTRjID0gTC5tYXJrZXIoCiAgICAgICAgICAgICAgICBbNTIuNTQ1MDExLCAxMy40MjUyOTQxXSwKICAgICAgICAgICAgICAgIHt9CiAgICAgICAgICAgICkuYWRkVG8obWFwXzFhNzQ2N2IyM2ZlYjQ3MjFiMzUxMTY0OTU1YjgwYjBkKTsKICAgICAgICAKICAgIAogICAgICAgICAgICB2YXIgbWFya2VyXzBlMTA5MjQwNGQyNDQxMDNhNGJkODhhY2VhYmI4ZDhkID0gTC5tYXJrZXIoCiAgICAgICAgICAgICAgICBbNTIuNDU4NTIwNiwgMTMuNTk1MzcxOF0sCiAgICAgICAgICAgICAgICB7fQogICAgICAgICAgICApLmFkZFRvKG1hcF8xYTc0NjdiMjNmZWI0NzIxYjM1MTE2NDk1NWI4MGIwZCk7CiAgICAgICAgCiAgICAKICAgICAgICAgICAgdmFyIG1hcmtlcl9iY2RhNzQ4MjNhNDQ0YzRmYWQyMTMzMTE2M2U2YTEyMSA9IEwubWFya2VyKAogICAgICAgICAgICAgICAgWzUyLjYyNjQxOCwgMTMuNDgxNTc3M10sCiAgICAgICAgICAgICAgICB7fQogICAgICAgICAgICApLmFkZFRvKG1hcF8xYTc0NjdiMjNmZWI0NzIxYjM1MTE2NDk1NWI4MGIwZCk7CiAgICAgICAgCiAgICAKICAgICAgICAgICAgdmFyIG1hcmtlcl8xYTg4MjEyM2IwYmI0MjhlYjZlMTQxZGFlMzUxYjk2OSA9IEwubWFya2VyKAogICAgICAgICAgICAgICAgWzUyLjQwNTYzMDMsIDEzLjMwNjY1MjNdLAogICAgICAgICAgICAgICAge30KICAgICAgICAgICAgKS5hZGRUbyhtYXBfMWE3NDY3YjIzZmViNDcyMWIzNTExNjQ5NTViODBiMGQpOwogICAgICAgIAogICAgCiAgICAgICAgICAgIHZhciBtYXJrZXJfZjlhYmI5MTk3MjZlNGY4N2I2OTFmYjU2NmJhZGM3Y2MgPSBMLm1hcmtlcigKICAgICAgICAgICAgICAgIFs1Mi40MTQ5MTY2LCAxMy41NjY2OTA5MDAwMDAwMDFdLAogICAgICAgICAgICAgICAge30KICAgICAgICAgICAgKS5hZGRUbyhtYXBfMWE3NDY3YjIzZmViNDcyMWIzNTExNjQ5NTViODBiMGQpOwogICAgICAgIAogICAgCiAgICAgICAgICAgIHZhciBtYXJrZXJfODI3ZWE2NTIxOWIwNGNiNWIyN2IwYzBjYjQ1YWQ4NTIgPSBMLm1hcmtlcigKICAgICAgICAgICAgICAgIFs0OS40NjEwNCwgOC41NzEzMjU1XSwKICAgICAgICAgICAgICAgIHt9CiAgICAgICAgICAgICkuYWRkVG8obWFwXzFhNzQ2N2IyM2ZlYjQ3MjFiMzUxMTY0OTU1YjgwYjBkKTsKICAgICAgICAKICAgIAogICAgICAgICAgICB2YXIgbWFya2VyXzE3MzFhMzk0YzFiNzQwZTk4ODc5YjM4YTRhZDNlM2E0ID0gTC5tYXJrZXIoCiAgICAgICAgICAgICAgICBbNTIuNTExNjQ4NiwgMTMuMjUzOTMwOV0sCiAgICAgICAgICAgICAgICB7fQogICAgICAgICAgICApLmFkZFRvKG1hcF8xYTc0NjdiMjNmZWI0NzIxYjM1MTE2NDk1NWI4MGIwZCk7CiAgICAgICAgCiAgICAKICAgICAgICAgICAgdmFyIG1hcmtlcl8wZWEyZWI4NmQ4Y2I0ZjQzYmNkZjIzMzg1MzgzOGFlMyA9IEwubWFya2VyKAogICAgICAgICAgICAgICAgWzUyLjQ3MDkyMjksIDEzLjQ1MjExMDRdLAogICAgICAgICAgICAgICAge30KICAgICAgICAgICAgKS5hZGRUbyhtYXBfMWE3NDY3YjIzZmViNDcyMWIzNTExNjQ5NTViODBiMGQpOwogICAgICAgIAogICAgCiAgICAgICAgICAgIHZhciBtYXJrZXJfZjZiMzc1NjViZjQ5NDU0OGFjYjY4ZWMzZDViMTNhNTYgPSBMLm1hcmtlcigKICAgICAgICAgICAgICAgIFs1Mi41MjM1NTA5MDAwMDAwMDQsIDEzLjM2NDU4OTVdLAogICAgICAgICAgICAgICAge30KICAgICAgICAgICAgKS5hZGRUbyhtYXBfMWE3NDY3YjIzZmViNDcyMWIzNTExNjQ5NTViODBiMGQpOwogICAgICAgIAogICAgCiAgICAgICAgICAgIHZhciBtYXJrZXJfMDU1MzgzM2ZhMTI1NGI3NWI5N2U5ZjAyM2UzNGNmMGMgPSBMLm1hcmtlcigKICAgICAgICAgICAgICAgIFs1MS4zMjA3MDQsIDEyLjMxNTg3MjldLAogICAgICAgICAgICAgICAge30KICAgICAgICAgICAgKS5hZGRUbyhtYXBfMWE3NDY3YjIzZmViNDcyMWIzNTExNjQ5NTViODBiMGQpOwogICAgICAgIAogICAgCiAgICAgICAgICAgIHZhciBtYXJrZXJfNTRkOGFhY2JmNTc2NGE5YmE4OGM0MjU0NmZmMmUyYjEgPSBMLm1hcmtlcigKICAgICAgICAgICAgICAgIFs1NC41NTA1MDczLCA4LjgyMjI0MDZdLAogICAgICAgICAgICAgICAge30KICAgICAgICAgICAgKS5hZGRUbyhtYXBfMWE3NDY3YjIzZmViNDcyMWIzNTExNjQ5NTViODBiMGQpOwogICAgICAgIAogICAgCiAgICAgICAgICAgIHZhciBtYXJrZXJfMjZjM2ZhYTVkZGUzNDlkZjk5MDQyMGE2NGU0Y2E1OGMgPSBMLm1hcmtlcigKICAgICAgICAgICAgICAgIFs1Mi41MTkzODYsIDEzLjY4NzU3MzVdLAogICAgICAgICAgICAgICAge30KICAgICAgICAgICAgKS5hZGRUbyhtYXBfMWE3NDY3YjIzZmViNDcyMWIzNTExNjQ5NTViODBiMGQpOwogICAgICAgIAogICAgCiAgICAgICAgICAgIHZhciBtYXJrZXJfNmJkMmY5ZGM1ZjliNGQ0M2FlYmQyYjdhMjI1NzIwMWEgPSBMLm1hcmtlcigKICAgICAgICAgICAgICAgIFs1Mi41MDU2NDUzLCAxMy40NTQ3MzkxXSwKICAgICAgICAgICAgICAgIHt9CiAgICAgICAgICAgICkuYWRkVG8obWFwXzFhNzQ2N2IyM2ZlYjQ3MjFiMzUxMTY0OTU1YjgwYjBkKTsKICAgICAgICAKPC9zY3JpcHQ+\" style=\"position:absolute;width:100%;height:100%;left:0;top:0;border:none !important;\" allowfullscreen webkitallowfullscreen mozallowfullscreen></iframe></div></div>"
      ],
      "text/plain": [
       "<folium.folium.Map at 0x121f18be0>"
      ]
     },
     "execution_count": 11,
     "metadata": {},
     "output_type": "execute_result"
    }
   ],
   "source": [
    "'''\n",
    "Plot markers\n",
    "'''\n",
    "\n",
    "rows = df.index.tolist()\n",
    "\n",
    "marker_points = []\n",
    "for row in rows:\n",
    "    marker_points.append((df.iloc[row].Latitude,df.iloc[row].Longitude))\n",
    "\n",
    "# Set map centerpoint\n",
    "coords = marker_points[int((len(marker_points)/2))]\n",
    "       \n",
    "# Define map\n",
    "m = folium.Map(\n",
    "    location = coords,\n",
    "    zoom_start = 7\n",
    ")\n",
    "  \n",
    "# Add points    \n",
    "for mp in marker_points:\n",
    "    folium.Marker(mp).add_to(m)\n",
    "m"
   ]
  },
  {
   "cell_type": "code",
   "execution_count": 30,
   "metadata": {},
   "outputs": [
    {
     "data": {
      "application/vnd.jupyter.widget-view+json": {
       "model_id": "71d8b59be6954555a2ae32a741c875e8",
       "version_major": 2,
       "version_minor": 0
      },
      "text/plain": [
       "Figure(layout=FigureLayout(height='800px', width='100%'))"
      ]
     },
     "metadata": {},
     "output_type": "display_data"
    }
   ],
   "source": [
    "'''\n",
    "Get satellite preview for image\n",
    "'''\n",
    "\n",
    "row = 1\n",
    "\n",
    "figure_layout = {\n",
    "    'width': '100%',\n",
    "    'height': '800px'\n",
    "}\n",
    "fig = gmaps.figure(center = (df.iloc[row].Latitude,df.iloc[row].Longitude), zoom_level = 19,map_type='SATELLITE',layout=figure_layout)\n",
    "fig"
   ]
  },
  {
   "cell_type": "code",
   "execution_count": 31,
   "metadata": {},
   "outputs": [],
   "source": [
    "'''\n",
    "Get all images \n",
    "'''\n",
    "\n",
    "root = os.path.dirname(os.path.abspath('Africa.ipynb'))\n",
    "image_folder = root[:-9]+output_folder[3:]\n",
    "image_folder\n",
    "\n",
    "url = 'https://maps.googleapis.com/maps/api/staticmap?'\n",
    "rows = df.index.tolist()\n",
    "for i in range(0,len(rows)):\n",
    "    row = df.iloc[i]\n",
    "    center = str(row.Latitude)+','+str(row.Longitude)\n",
    "    payload = {\n",
    "        'center': center, \n",
    "        'zoom': 19,\n",
    "        'size': '640x640',\n",
    "        'scale': 2,\n",
    "        'format': 'png32',\n",
    "        'maptype': 'satellite',\n",
    "        'key': token\n",
    "    }\n",
    "    \n",
    "    r = requests.get(url,params=payload,stream=True)\n",
    "\n",
    "    name = df.iloc[i]['Name']\n",
    "    filename = image_folder+name+'.png'\n",
    "    if r.status_code == 200:\n",
    "        with open(filename, 'wb') as f:\n",
    "            r.raw.decode_content = True\n",
    "            shutil.copyfileobj(r.raw, f) "
   ]
  }
 ],
 "metadata": {
  "kernelspec": {
   "display_name": "Python 3",
   "language": "python",
   "name": "python3"
  },
  "language_info": {
   "codemirror_mode": {
    "name": "ipython",
    "version": 3
   },
   "file_extension": ".py",
   "mimetype": "text/x-python",
   "name": "python",
   "nbconvert_exporter": "python",
   "pygments_lexer": "ipython3",
   "version": "3.7.3"
  }
 },
 "nbformat": 4,
 "nbformat_minor": 2
}
