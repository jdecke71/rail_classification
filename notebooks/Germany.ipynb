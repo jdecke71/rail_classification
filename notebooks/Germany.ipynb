{
 "cells": [
  {
   "cell_type": "code",
   "execution_count": 1,
   "metadata": {},
   "outputs": [],
   "source": [
    "import pandas as pd\n",
    "import geopandas as gpd\n",
    "import matplotlib.pyplot as plt\n",
    "from shapely.geometry import mapping\n",
    "import folium\n",
    "import googlemaps\n",
    "import gmaps\n",
    "import os\n",
    "import requests\n",
    "import shutil\n",
    "from google.cloud import translate\n",
    "from IPython.display import Image"
   ]
  },
  {
   "cell_type": "code",
   "execution_count": 2,
   "metadata": {},
   "outputs": [],
   "source": [
    "with open('../resources/key.txt') as f:\n",
    "    token = f.read()\n",
    "    \n",
    "gmaps.configure(api_key = token)"
   ]
  },
  {
   "cell_type": "code",
   "execution_count": 4,
   "metadata": {},
   "outputs": [],
   "source": [
    "input_folder = '../data/railways/germany-railways-shape/'\n",
    "input_file = input_folder+'railways.shp'\n",
    "\n",
    "output_folder = '../data/output_images/Germany/'\n",
    "output_csv = output_folder+'GRM.csv'\n",
    "\n",
    "update_folder = output_folder+'/set_3/'"
   ]
  },
  {
   "cell_type": "markdown",
   "metadata": {},
   "source": [
    "#### Import routes"
   ]
  },
  {
   "cell_type": "code",
   "execution_count": 5,
   "metadata": {},
   "outputs": [
    {
     "data": {
      "text/html": [
       "<div>\n",
       "<style scoped>\n",
       "    .dataframe tbody tr th:only-of-type {\n",
       "        vertical-align: middle;\n",
       "    }\n",
       "\n",
       "    .dataframe tbody tr th {\n",
       "        vertical-align: top;\n",
       "    }\n",
       "\n",
       "    .dataframe thead th {\n",
       "        text-align: right;\n",
       "    }\n",
       "</style>\n",
       "<table border=\"1\" class=\"dataframe\">\n",
       "  <thead>\n",
       "    <tr style=\"text-align: right;\">\n",
       "      <th></th>\n",
       "      <th>osm_id</th>\n",
       "      <th>name</th>\n",
       "      <th>type</th>\n",
       "      <th>geometry</th>\n",
       "    </tr>\n",
       "  </thead>\n",
       "  <tbody>\n",
       "    <tr>\n",
       "      <th>0</th>\n",
       "      <td>2402605</td>\n",
       "      <td>None</td>\n",
       "      <td>tram</td>\n",
       "      <td>LINESTRING (10.9021988 48.3521243, 10.9021953 ...</td>\n",
       "    </tr>\n",
       "    <tr>\n",
       "      <th>1</th>\n",
       "      <td>2402606</td>\n",
       "      <td>3</td>\n",
       "      <td>tram</td>\n",
       "      <td>LINESTRING (10.8937679 48.31041820000001, 10.8...</td>\n",
       "    </tr>\n",
       "    <tr>\n",
       "      <th>2</th>\n",
       "      <td>2467882</td>\n",
       "      <td>Stadtbahn U1, U13</td>\n",
       "      <td>rail</td>\n",
       "      <td>LINESTRING (9.2172812 48.803314, 9.21760910000...</td>\n",
       "    </tr>\n",
       "    <tr>\n",
       "      <th>3</th>\n",
       "      <td>2481116</td>\n",
       "      <td>None</td>\n",
       "      <td>rail</td>\n",
       "      <td>LINESTRING (10.8690368 48.3937811, 10.8681289 ...</td>\n",
       "    </tr>\n",
       "    <tr>\n",
       "      <th>4</th>\n",
       "      <td>2571242</td>\n",
       "      <td>Staudenbahn</td>\n",
       "      <td>preserved</td>\n",
       "      <td>LINESTRING (10.5939151 48.146509, 10.5935423 4...</td>\n",
       "    </tr>\n",
       "  </tbody>\n",
       "</table>\n",
       "</div>"
      ],
      "text/plain": [
       "    osm_id               name       type  \\\n",
       "0  2402605               None       tram   \n",
       "1  2402606                  3       tram   \n",
       "2  2467882  Stadtbahn U1, U13       rail   \n",
       "3  2481116               None       rail   \n",
       "4  2571242        Staudenbahn  preserved   \n",
       "\n",
       "                                            geometry  \n",
       "0  LINESTRING (10.9021988 48.3521243, 10.9021953 ...  \n",
       "1  LINESTRING (10.8937679 48.31041820000001, 10.8...  \n",
       "2  LINESTRING (9.2172812 48.803314, 9.21760910000...  \n",
       "3  LINESTRING (10.8690368 48.3937811, 10.8681289 ...  \n",
       "4  LINESTRING (10.5939151 48.146509, 10.5935423 4...  "
      ]
     },
     "execution_count": 5,
     "metadata": {},
     "output_type": "execute_result"
    }
   ],
   "source": [
    "routes = gpd.read_file(input_file)\n",
    "\n",
    "routes = routes.to_crs({'init' :'epsg:4326'})\n",
    "\n",
    "routes.head()"
   ]
  },
  {
   "cell_type": "code",
   "execution_count": 6,
   "metadata": {},
   "outputs": [
    {
     "data": {
      "text/plain": [
       "(60612, 4)"
      ]
     },
     "execution_count": 6,
     "metadata": {},
     "output_type": "execute_result"
    }
   ],
   "source": [
    "routes.shape"
   ]
  },
  {
   "cell_type": "code",
   "execution_count": 5,
   "metadata": {},
   "outputs": [
    {
     "data": {
      "text/plain": [
       "rail                46835\n",
       "tram                 4360\n",
       "light_rail           2396\n",
       "abandoned            2196\n",
       "platform             1546\n",
       "disused              1495\n",
       "subway                746\n",
       "preserved             464\n",
       "narrow_gauge          254\n",
       "construction          133\n",
       "turntable              55\n",
       "monorail               41\n",
       "station                23\n",
       "halt                   13\n",
       "preserved;narrow       12\n",
       "rack                    9\n",
       "viaduct                 4\n",
       "funicular               4\n",
       "footway                 3\n",
       "crossing                3\n",
       "level_crossing          3\n",
       "spur                    3\n",
       "<unterschiedlich        3\n",
       "service                 3\n",
       "plattform               2\n",
       "incline                 2\n",
       "peoplemover             1\n",
       "abandoned;light_        1\n",
       "Brexbachtalbahn         1\n",
       "container_termin        1\n",
       "Name: type, dtype: int64"
      ]
     },
     "execution_count": 5,
     "metadata": {},
     "output_type": "execute_result"
    }
   ],
   "source": [
    "routes['type'].value_counts()"
   ]
  },
  {
   "cell_type": "code",
   "execution_count": 7,
   "metadata": {},
   "outputs": [
    {
     "data": {
      "text/html": [
       "<div>\n",
       "<style scoped>\n",
       "    .dataframe tbody tr th:only-of-type {\n",
       "        vertical-align: middle;\n",
       "    }\n",
       "\n",
       "    .dataframe tbody tr th {\n",
       "        vertical-align: top;\n",
       "    }\n",
       "\n",
       "    .dataframe thead th {\n",
       "        text-align: right;\n",
       "    }\n",
       "</style>\n",
       "<table border=\"1\" class=\"dataframe\">\n",
       "  <thead>\n",
       "    <tr style=\"text-align: right;\">\n",
       "      <th></th>\n",
       "      <th>osm_id</th>\n",
       "      <th>name</th>\n",
       "      <th>type</th>\n",
       "      <th>geometry</th>\n",
       "    </tr>\n",
       "  </thead>\n",
       "  <tbody>\n",
       "    <tr>\n",
       "      <th>5</th>\n",
       "      <td>2588600</td>\n",
       "      <td>S3, S31</td>\n",
       "      <td>light_rail</td>\n",
       "      <td>LINESTRING (9.872649300000001 53.473188, 9.862...</td>\n",
       "    </tr>\n",
       "    <tr>\n",
       "      <th>171</th>\n",
       "      <td>4158975</td>\n",
       "      <td>None</td>\n",
       "      <td>light_rail</td>\n",
       "      <td>LINESTRING (8.403577 48.9847996, 8.4036445 48....</td>\n",
       "    </tr>\n",
       "    <tr>\n",
       "      <th>288</th>\n",
       "      <td>4242974</td>\n",
       "      <td>None</td>\n",
       "      <td>light_rail</td>\n",
       "      <td>LINESTRING (8.4029946 49.08933, 8.402808200000...</td>\n",
       "    </tr>\n",
       "    <tr>\n",
       "      <th>355</th>\n",
       "      <td>4251699</td>\n",
       "      <td>None</td>\n",
       "      <td>light_rail</td>\n",
       "      <td>LINESTRING (8.401653100000003 48.989128, 8.402...</td>\n",
       "    </tr>\n",
       "    <tr>\n",
       "      <th>356</th>\n",
       "      <td>4251700</td>\n",
       "      <td>None</td>\n",
       "      <td>light_rail</td>\n",
       "      <td>LINESTRING (8.398828200000001 48.9905039, 8.40...</td>\n",
       "    </tr>\n",
       "  </tbody>\n",
       "</table>\n",
       "</div>"
      ],
      "text/plain": [
       "      osm_id     name        type  \\\n",
       "5    2588600  S3, S31  light_rail   \n",
       "171  4158975     None  light_rail   \n",
       "288  4242974     None  light_rail   \n",
       "355  4251699     None  light_rail   \n",
       "356  4251700     None  light_rail   \n",
       "\n",
       "                                              geometry  \n",
       "5    LINESTRING (9.872649300000001 53.473188, 9.862...  \n",
       "171  LINESTRING (8.403577 48.9847996, 8.4036445 48....  \n",
       "288  LINESTRING (8.4029946 49.08933, 8.402808200000...  \n",
       "355  LINESTRING (8.401653100000003 48.989128, 8.402...  \n",
       "356  LINESTRING (8.398828200000001 48.9905039, 8.40...  "
      ]
     },
     "execution_count": 7,
     "metadata": {},
     "output_type": "execute_result"
    }
   ],
   "source": [
    "routes = routes[routes['type']=='light_rail']\n",
    "routes.head()"
   ]
  },
  {
   "cell_type": "markdown",
   "metadata": {},
   "source": [
    "#### Get points from routes"
   ]
  },
  {
   "cell_type": "code",
   "execution_count": 11,
   "metadata": {},
   "outputs": [
    {
     "name": "stdout",
     "output_type": "stream",
     "text": [
      "14032 points\n"
     ]
    }
   ],
   "source": [
    "'''\n",
    "Get all points\n",
    "'''\n",
    "\n",
    "points = []\n",
    "rows = routes.index.tolist()\n",
    "\n",
    "for i in rows:\n",
    "    try:\n",
    "        route = routes.loc[i]\n",
    "#         print(route.geometry.geom_type)\n",
    "        g = route.geometry\n",
    "        sec_points = mapping(g)[\"coordinates\"]\n",
    "        for j in sec_points:\n",
    "            tmp = (j[0],j[1])\n",
    "            points.append(tmp)\n",
    "    except Exception as e:\n",
    "        print(\"Skipped route number\",i,'because',e)        \n",
    "        \n",
    "    \n",
    "print(len(points),'points')   "
   ]
  },
  {
   "cell_type": "code",
   "execution_count": 12,
   "metadata": {},
   "outputs": [
    {
     "data": {
      "text/html": [
       "<div>\n",
       "<style scoped>\n",
       "    .dataframe tbody tr th:only-of-type {\n",
       "        vertical-align: middle;\n",
       "    }\n",
       "\n",
       "    .dataframe tbody tr th {\n",
       "        vertical-align: top;\n",
       "    }\n",
       "\n",
       "    .dataframe thead th {\n",
       "        text-align: right;\n",
       "    }\n",
       "</style>\n",
       "<table border=\"1\" class=\"dataframe\">\n",
       "  <thead>\n",
       "    <tr style=\"text-align: right;\">\n",
       "      <th></th>\n",
       "      <th>Name</th>\n",
       "      <th>Longitude</th>\n",
       "      <th>Latitude</th>\n",
       "      <th>Catenary</th>\n",
       "    </tr>\n",
       "  </thead>\n",
       "  <tbody>\n",
       "    <tr>\n",
       "      <th>0</th>\n",
       "      <td>10.0131888_53.5214443</td>\n",
       "      <td>10.013189</td>\n",
       "      <td>53.521444</td>\n",
       "      <td>1</td>\n",
       "    </tr>\n",
       "    <tr>\n",
       "      <th>1</th>\n",
       "      <td>10.0465429_53.5869819</td>\n",
       "      <td>10.046543</td>\n",
       "      <td>53.586982</td>\n",
       "      <td>1</td>\n",
       "    </tr>\n",
       "    <tr>\n",
       "      <th>2</th>\n",
       "      <td>10.1325456_53.4974332</td>\n",
       "      <td>10.132546</td>\n",
       "      <td>53.497433</td>\n",
       "      <td>0</td>\n",
       "    </tr>\n",
       "    <tr>\n",
       "      <th>3</th>\n",
       "      <td>12.3158729_51.320704</td>\n",
       "      <td>12.315873</td>\n",
       "      <td>51.320704</td>\n",
       "      <td>1</td>\n",
       "    </tr>\n",
       "    <tr>\n",
       "      <th>4</th>\n",
       "      <td>12.3881185_51.0477387</td>\n",
       "      <td>12.388118</td>\n",
       "      <td>51.047739</td>\n",
       "      <td>0</td>\n",
       "    </tr>\n",
       "  </tbody>\n",
       "</table>\n",
       "</div>"
      ],
      "text/plain": [
       "                    Name  Longitude   Latitude  Catenary\n",
       "0  10.0131888_53.5214443  10.013189  53.521444         1\n",
       "1  10.0465429_53.5869819  10.046543  53.586982         1\n",
       "2  10.1325456_53.4974332  10.132546  53.497433         0\n",
       "3   12.3158729_51.320704  12.315873  51.320704         1\n",
       "4  12.3881185_51.0477387  12.388118  51.047739         0"
      ]
     },
     "execution_count": 12,
     "metadata": {},
     "output_type": "execute_result"
    }
   ],
   "source": [
    "'''\n",
    "Open csv with current points\n",
    "'''\n",
    "\n",
    "curr_df = pd.read_csv(output_csv)\n",
    "curr_df.head()"
   ]
  },
  {
   "cell_type": "code",
   "execution_count": 16,
   "metadata": {},
   "outputs": [
    {
     "name": "stdout",
     "output_type": "stream",
     "text": [
      "102\n"
     ]
    }
   ],
   "source": [
    "'''\n",
    "Get subselection of points excuding current points\n",
    "'''\n",
    "curr_points = list(zip(curr_df['Longitude'].tolist(),curr_df['Latitude'].tolist()))\n",
    "# curr_points\n",
    "\n",
    "route_points = []\n",
    "for point in range(0,len(points),135):\n",
    "    tmp = points[point]\n",
    "    if tmp not in curr_points:\n",
    "        route_points.append(tmp)\n",
    "\n",
    "print(len(route_points))"
   ]
  },
  {
   "cell_type": "markdown",
   "metadata": {},
   "source": [
    "#### Create working dataset"
   ]
  },
  {
   "cell_type": "code",
   "execution_count": 17,
   "metadata": {},
   "outputs": [
    {
     "data": {
      "text/html": [
       "<div>\n",
       "<style scoped>\n",
       "    .dataframe tbody tr th:only-of-type {\n",
       "        vertical-align: middle;\n",
       "    }\n",
       "\n",
       "    .dataframe tbody tr th {\n",
       "        vertical-align: top;\n",
       "    }\n",
       "\n",
       "    .dataframe thead th {\n",
       "        text-align: right;\n",
       "    }\n",
       "</style>\n",
       "<table border=\"1\" class=\"dataframe\">\n",
       "  <thead>\n",
       "    <tr style=\"text-align: right;\">\n",
       "      <th></th>\n",
       "      <th>Name</th>\n",
       "      <th>Longitude</th>\n",
       "      <th>Latitude</th>\n",
       "    </tr>\n",
       "  </thead>\n",
       "  <tbody>\n",
       "    <tr>\n",
       "      <th>0</th>\n",
       "      <td>8.4085251_49.1204456</td>\n",
       "      <td>8.408525</td>\n",
       "      <td>49.120446</td>\n",
       "    </tr>\n",
       "    <tr>\n",
       "      <th>1</th>\n",
       "      <td>8.5798809_48.8132501</td>\n",
       "      <td>8.579881</td>\n",
       "      <td>48.813250</td>\n",
       "    </tr>\n",
       "    <tr>\n",
       "      <th>2</th>\n",
       "      <td>8.4499151_48.8947733</td>\n",
       "      <td>8.449915</td>\n",
       "      <td>48.894773</td>\n",
       "    </tr>\n",
       "    <tr>\n",
       "      <th>3</th>\n",
       "      <td>13.3106619_52.480792</td>\n",
       "      <td>13.310662</td>\n",
       "      <td>52.480792</td>\n",
       "    </tr>\n",
       "    <tr>\n",
       "      <th>4</th>\n",
       "      <td>13.3861565_52.5205316</td>\n",
       "      <td>13.386157</td>\n",
       "      <td>52.520532</td>\n",
       "    </tr>\n",
       "  </tbody>\n",
       "</table>\n",
       "</div>"
      ],
      "text/plain": [
       "                    Name  Longitude   Latitude\n",
       "0   8.4085251_49.1204456   8.408525  49.120446\n",
       "1   8.5798809_48.8132501   8.579881  48.813250\n",
       "2   8.4499151_48.8947733   8.449915  48.894773\n",
       "3   13.3106619_52.480792  13.310662  52.480792\n",
       "4  13.3861565_52.5205316  13.386157  52.520532"
      ]
     },
     "execution_count": 17,
     "metadata": {},
     "output_type": "execute_result"
    }
   ],
   "source": [
    "'''\n",
    "Create dataframe\n",
    "'''\n",
    "\n",
    "df = pd.DataFrame(route_points, columns=['Longitude','Latitude'])\n",
    "\n",
    "tmp = list(df.Latitude.tolist())\n",
    "names = []\n",
    "for i in range(0,len(tmp)):\n",
    "    name = str(df.iloc[i].Longitude)+'_'+str(df.iloc[i].Latitude)\n",
    "    names.append(name)\n",
    "\n",
    "df['Name'] = names\n",
    "\n",
    "columns = ['Name','Longitude','Latitude']\n",
    "df= df[columns]\n",
    "\n",
    "df.head()"
   ]
  },
  {
   "cell_type": "code",
   "execution_count": 19,
   "metadata": {},
   "outputs": [],
   "source": [
    "'''\n",
    "Export points\n",
    "'''\n",
    "\n",
    "# Update\n",
    "with open(output_csv, 'a') as f:\n",
    "    df.to_csv(f, header=False,index=None)\n",
    "\n",
    "# Write new\n",
    "# df.to_csv(output_csv,header=True,index=None)\n",
    "# df.to_csv('tmp.csv',header=True,index=None)"
   ]
  },
  {
   "cell_type": "code",
   "execution_count": 18,
   "metadata": {
    "scrolled": false
   },
   "outputs": [
    {
     "data": {
      "text/html": [
       "<div style=\"width:100%;\"><div style=\"position:relative;width:100%;height:0;padding-bottom:60%;\"><iframe src=\"data:text/html;charset=utf-8;base64,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\" style=\"position:absolute;width:100%;height:100%;left:0;top:0;border:none !important;\" allowfullscreen webkitallowfullscreen mozallowfullscreen></iframe></div></div>"
      ],
      "text/plain": [
       "<folium.folium.Map at 0x11a8f7be0>"
      ]
     },
     "execution_count": 18,
     "metadata": {},
     "output_type": "execute_result"
    }
   ],
   "source": [
    "'''\n",
    "Plot markers\n",
    "'''\n",
    "\n",
    "rows = df.index.tolist()\n",
    "\n",
    "marker_points = []\n",
    "for row in rows:\n",
    "    marker_points.append((df.iloc[row].Latitude,df.iloc[row].Longitude))\n",
    "\n",
    "# Set map centerpoint\n",
    "coords = marker_points[int((len(marker_points)/2))]\n",
    "       \n",
    "# Define map\n",
    "m = folium.Map(\n",
    "    location = coords,\n",
    "    zoom_start = 7\n",
    ")\n",
    "  \n",
    "# Add points    \n",
    "for mp in marker_points:\n",
    "    folium.Marker(mp).add_to(m)\n",
    "m"
   ]
  },
  {
   "cell_type": "code",
   "execution_count": 30,
   "metadata": {},
   "outputs": [
    {
     "data": {
      "application/vnd.jupyter.widget-view+json": {
       "model_id": "71d8b59be6954555a2ae32a741c875e8",
       "version_major": 2,
       "version_minor": 0
      },
      "text/plain": [
       "Figure(layout=FigureLayout(height='800px', width='100%'))"
      ]
     },
     "metadata": {},
     "output_type": "display_data"
    }
   ],
   "source": [
    "'''\n",
    "Get satellite preview for image\n",
    "'''\n",
    "\n",
    "row = 1\n",
    "\n",
    "figure_layout = {\n",
    "    'width': '100%',\n",
    "    'height': '800px'\n",
    "}\n",
    "fig = gmaps.figure(center = (df.iloc[row].Latitude,df.iloc[row].Longitude), zoom_level = 19,map_type='SATELLITE',layout=figure_layout)\n",
    "fig"
   ]
  },
  {
   "cell_type": "code",
   "execution_count": null,
   "metadata": {},
   "outputs": [],
   "source": [
    "'''\n",
    "Get all images \n",
    "'''\n",
    "\n",
    "root = os.path.dirname(os.path.abspath('Africa.ipynb'))\n",
    "image_folder = root[:-9]+update_folder[3:]\n",
    "image_folder\n",
    "\n",
    "url = 'https://maps.googleapis.com/maps/api/staticmap?'\n",
    "rows = df.index.tolist()\n",
    "for i in range(0,len(rows)):\n",
    "    row = df.iloc[i]\n",
    "    center = str(row.Latitude)+','+str(row.Longitude)\n",
    "    payload = {\n",
    "        'center': center, \n",
    "        'zoom': 20,\n",
    "        'size': '640x640',\n",
    "        'scale': 2,\n",
    "        'format': 'png32',\n",
    "        'maptype': 'satellite',\n",
    "        'key': token\n",
    "    }\n",
    "    \n",
    "    r = requests.get(url,params=payload,stream=True)\n",
    "\n",
    "    name = df.iloc[i]['Name']\n",
    "    filename = image_folder+name+'.png'\n",
    "    if r.status_code == 200:\n",
    "        with open(filename, 'wb') as f:\n",
    "            r.raw.decode_content = True\n",
    "            shutil.copyfileobj(r.raw, f) "
   ]
  },
  {
   "cell_type": "code",
   "execution_count": null,
   "metadata": {},
   "outputs": [],
   "source": []
  }
 ],
 "metadata": {
  "kernelspec": {
   "display_name": "Python 3",
   "language": "python",
   "name": "python3"
  },
  "language_info": {
   "codemirror_mode": {
    "name": "ipython",
    "version": 3
   },
   "file_extension": ".py",
   "mimetype": "text/x-python",
   "name": "python",
   "nbconvert_exporter": "python",
   "pygments_lexer": "ipython3",
   "version": "3.7.3"
  }
 },
 "nbformat": 4,
 "nbformat_minor": 2
}
