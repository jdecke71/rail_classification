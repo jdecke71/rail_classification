{
 "cells": [
  {
   "cell_type": "code",
   "execution_count": 8,
   "metadata": {},
   "outputs": [],
   "source": [
    "import pandas as pd\n",
    "import geopandas as gpd\n",
    "import matplotlib.pyplot as plt\n",
    "from shapely.geometry import mapping\n",
    "import folium\n",
    "import googlemaps\n",
    "import gmaps\n",
    "import os\n",
    "import requests\n",
    "import shutil\n",
    "from google.cloud import translate\n",
    "from IPython.display import Image"
   ]
  },
  {
   "cell_type": "code",
   "execution_count": 13,
   "metadata": {},
   "outputs": [],
   "source": [
    "with open('../resources/key.txt') as f:\n",
    "    token = f.read()\n",
    "    \n",
    "gmaps.configure(api_key = token)"
   ]
  },
  {
   "cell_type": "code",
   "execution_count": 10,
   "metadata": {},
   "outputs": [],
   "source": [
    "input_folder = '../data/railways/swissrail/'\n",
    "input_file = input_folder+'netw_1.shp'\n",
    "\n",
    "output_folder = '../data/output_images/Switzerland/'\n",
    "output_csv = output_folder+'SWZ.csv'"
   ]
  },
  {
   "cell_type": "markdown",
   "metadata": {},
   "source": [
    "#### Import routes"
   ]
  },
  {
   "cell_type": "code",
   "execution_count": 10,
   "metadata": {},
   "outputs": [
    {
     "data": {
      "text/html": [
       "<div>\n",
       "<style scoped>\n",
       "    .dataframe tbody tr th:only-of-type {\n",
       "        vertical-align: middle;\n",
       "    }\n",
       "\n",
       "    .dataframe tbody tr th {\n",
       "        vertical-align: top;\n",
       "    }\n",
       "\n",
       "    .dataframe thead th {\n",
       "        text-align: right;\n",
       "    }\n",
       "</style>\n",
       "<table border=\"1\" class=\"dataframe\">\n",
       "  <thead>\n",
       "    <tr style=\"text-align: right;\">\n",
       "      <th></th>\n",
       "      <th>OBJECTID</th>\n",
       "      <th>xtf_id</th>\n",
       "      <th>Datenherr_</th>\n",
       "      <th>Datenher_1</th>\n",
       "      <th>Nummer</th>\n",
       "      <th>Name</th>\n",
       "      <th>BeginnGuel</th>\n",
       "      <th>EndeGuelti</th>\n",
       "      <th>Bearbeitun</th>\n",
       "      <th>Stand</th>\n",
       "      <th>SHAPE_Leng</th>\n",
       "      <th>geometry</th>\n",
       "    </tr>\n",
       "  </thead>\n",
       "  <tbody>\n",
       "    <tr>\n",
       "      <th>0</th>\n",
       "      <td>1.0</td>\n",
       "      <td>ch14uvag00086875</td>\n",
       "      <td>1</td>\n",
       "      <td>SBB CFF FFS</td>\n",
       "      <td>702</td>\n",
       "      <td>Turgi - Koblenz - Waldshut</td>\n",
       "      <td>2014/09/03 00:00:00.000</td>\n",
       "      <td>None</td>\n",
       "      <td>2017/12/12 00:00:00.000</td>\n",
       "      <td>2017/12/10 00:00:00.000</td>\n",
       "      <td>15252.174997</td>\n",
       "      <td>LINESTRING (8.253483954124018 47.4918094079282...</td>\n",
       "    </tr>\n",
       "    <tr>\n",
       "      <th>1</th>\n",
       "      <td>2.0</td>\n",
       "      <td>ch14uvag00086926</td>\n",
       "      <td>1</td>\n",
       "      <td>SBB CFF FFS</td>\n",
       "      <td>824</td>\n",
       "      <td>Romanshorn - Konstanz</td>\n",
       "      <td>2014/09/03 00:00:00.000</td>\n",
       "      <td>None</td>\n",
       "      <td>2017/12/12 00:00:00.000</td>\n",
       "      <td>2017/12/10 00:00:00.000</td>\n",
       "      <td>18733.681101</td>\n",
       "      <td>LINESTRING (9.379483396212201 47.5655289670994...</td>\n",
       "    </tr>\n",
       "    <tr>\n",
       "      <th>2</th>\n",
       "      <td>3.0</td>\n",
       "      <td>ch14uvag00090328</td>\n",
       "      <td>122</td>\n",
       "      <td>BLT</td>\n",
       "      <td>L004</td>\n",
       "      <td>Reinach BL Süd - Reinach BL Süd</td>\n",
       "      <td>2014/10/01 00:00:00.000</td>\n",
       "      <td>None</td>\n",
       "      <td>2017/12/12 00:00:00.000</td>\n",
       "      <td>2017/12/10 00:00:00.000</td>\n",
       "      <td>118.817126</td>\n",
       "      <td>LINESTRING (7.591947809955224 47.4851590292389...</td>\n",
       "    </tr>\n",
       "    <tr>\n",
       "      <th>3</th>\n",
       "      <td>4.0</td>\n",
       "      <td>ch14uvag00086829</td>\n",
       "      <td>1</td>\n",
       "      <td>SBB CFF FFS</td>\n",
       "      <td>540</td>\n",
       "      <td>Olten - Wöschnau</td>\n",
       "      <td>2014/09/03 00:00:00.000</td>\n",
       "      <td>None</td>\n",
       "      <td>2017/12/12 00:00:00.000</td>\n",
       "      <td>2017/12/10 00:00:00.000</td>\n",
       "      <td>11579.008319</td>\n",
       "      <td>LINESTRING (7.90783042339883 47.35192256271322...</td>\n",
       "    </tr>\n",
       "    <tr>\n",
       "      <th>4</th>\n",
       "      <td>5.0</td>\n",
       "      <td>ch14uvag00067525</td>\n",
       "      <td>183</td>\n",
       "      <td>WSB</td>\n",
       "      <td>644</td>\n",
       "      <td>Aarau - Menziken</td>\n",
       "      <td>2009/01/01 00:00:00.000</td>\n",
       "      <td>None</td>\n",
       "      <td>2017/12/12 00:00:00.000</td>\n",
       "      <td>2017/12/10 00:00:00.000</td>\n",
       "      <td>22749.783132</td>\n",
       "      <td>LINESTRING (8.052739943168765 47.3908523444561...</td>\n",
       "    </tr>\n",
       "  </tbody>\n",
       "</table>\n",
       "</div>"
      ],
      "text/plain": [
       "   OBJECTID            xtf_id Datenherr_   Datenher_1 Nummer  \\\n",
       "0       1.0  ch14uvag00086875          1  SBB CFF FFS    702   \n",
       "1       2.0  ch14uvag00086926          1  SBB CFF FFS    824   \n",
       "2       3.0  ch14uvag00090328        122          BLT   L004   \n",
       "3       4.0  ch14uvag00086829          1  SBB CFF FFS    540   \n",
       "4       5.0  ch14uvag00067525        183          WSB    644   \n",
       "\n",
       "                              Name               BeginnGuel EndeGuelti  \\\n",
       "0       Turgi - Koblenz - Waldshut  2014/09/03 00:00:00.000       None   \n",
       "1            Romanshorn - Konstanz  2014/09/03 00:00:00.000       None   \n",
       "2  Reinach BL Süd - Reinach BL Süd  2014/10/01 00:00:00.000       None   \n",
       "3                 Olten - Wöschnau  2014/09/03 00:00:00.000       None   \n",
       "4                 Aarau - Menziken  2009/01/01 00:00:00.000       None   \n",
       "\n",
       "                Bearbeitun                    Stand    SHAPE_Leng  \\\n",
       "0  2017/12/12 00:00:00.000  2017/12/10 00:00:00.000  15252.174997   \n",
       "1  2017/12/12 00:00:00.000  2017/12/10 00:00:00.000  18733.681101   \n",
       "2  2017/12/12 00:00:00.000  2017/12/10 00:00:00.000    118.817126   \n",
       "3  2017/12/12 00:00:00.000  2017/12/10 00:00:00.000  11579.008319   \n",
       "4  2017/12/12 00:00:00.000  2017/12/10 00:00:00.000  22749.783132   \n",
       "\n",
       "                                            geometry  \n",
       "0  LINESTRING (8.253483954124018 47.4918094079282...  \n",
       "1  LINESTRING (9.379483396212201 47.5655289670994...  \n",
       "2  LINESTRING (7.591947809955224 47.4851590292389...  \n",
       "3  LINESTRING (7.90783042339883 47.35192256271322...  \n",
       "4  LINESTRING (8.052739943168765 47.3908523444561...  "
      ]
     },
     "execution_count": 10,
     "metadata": {},
     "output_type": "execute_result"
    }
   ],
   "source": [
    "routes = gpd.read_file(input_file)\n",
    "\n",
    "routes = routes.to_crs({'init' :'epsg:4326'})\n",
    "\n",
    "routes.head()"
   ]
  },
  {
   "cell_type": "code",
   "execution_count": 11,
   "metadata": {},
   "outputs": [
    {
     "data": {
      "text/plain": [
       "(454, 12)"
      ]
     },
     "execution_count": 11,
     "metadata": {},
     "output_type": "execute_result"
    }
   ],
   "source": [
    "routes.shape"
   ]
  },
  {
   "cell_type": "markdown",
   "metadata": {},
   "source": [
    "#### Get points from routes"
   ]
  },
  {
   "cell_type": "code",
   "execution_count": 18,
   "metadata": {},
   "outputs": [
    {
     "name": "stdout",
     "output_type": "stream",
     "text": [
      "433164 points\n"
     ]
    }
   ],
   "source": [
    "points = []\n",
    "rows = routes.index.tolist()\n",
    "\n",
    "for i in rows:\n",
    "    try:\n",
    "        route = routes.loc[i]\n",
    "        g = route.geometry\n",
    "        sec_points = mapping(g)[\"coordinates\"]\n",
    "        for j in sec_points:\n",
    "            tmp = (j[0],j[1])\n",
    "            points.append(tmp)\n",
    "    except Exception as e:\n",
    "        print(\"Skipped route number\",i,'because',e)        \n",
    "        \n",
    "    \n",
    "print(len(points),'points')  "
   ]
  },
  {
   "cell_type": "code",
   "execution_count": 25,
   "metadata": {},
   "outputs": [
    {
     "name": "stdout",
     "output_type": "stream",
     "text": [
      "49 points\n"
     ]
    }
   ],
   "source": [
    "'''\n",
    "Get subselection of points\n",
    "'''\n",
    "\n",
    "route_points = []\n",
    "for point in range(0,len(points),9000):\n",
    "    tmp = points[point]\n",
    "    route_points.append(tmp)\n",
    "\n",
    "print(len(route_points),'points')"
   ]
  },
  {
   "cell_type": "markdown",
   "metadata": {},
   "source": [
    "#### Create working dataset"
   ]
  },
  {
   "cell_type": "code",
   "execution_count": 26,
   "metadata": {},
   "outputs": [
    {
     "data": {
      "text/html": [
       "<div>\n",
       "<style scoped>\n",
       "    .dataframe tbody tr th:only-of-type {\n",
       "        vertical-align: middle;\n",
       "    }\n",
       "\n",
       "    .dataframe tbody tr th {\n",
       "        vertical-align: top;\n",
       "    }\n",
       "\n",
       "    .dataframe thead th {\n",
       "        text-align: right;\n",
       "    }\n",
       "</style>\n",
       "<table border=\"1\" class=\"dataframe\">\n",
       "  <thead>\n",
       "    <tr style=\"text-align: right;\">\n",
       "      <th></th>\n",
       "      <th>Name</th>\n",
       "      <th>Longitude</th>\n",
       "      <th>Latitude</th>\n",
       "    </tr>\n",
       "  </thead>\n",
       "  <tbody>\n",
       "    <tr>\n",
       "      <th>0</th>\n",
       "      <td>8.253483954124018_47.49180940792827</td>\n",
       "      <td>8.253484</td>\n",
       "      <td>47.491809</td>\n",
       "    </tr>\n",
       "    <tr>\n",
       "      <th>1</th>\n",
       "      <td>8.748111929852765_46.70726441960249</td>\n",
       "      <td>8.748112</td>\n",
       "      <td>46.707264</td>\n",
       "    </tr>\n",
       "    <tr>\n",
       "      <th>2</th>\n",
       "      <td>9.561373548090483_47.379105526919325</td>\n",
       "      <td>9.561374</td>\n",
       "      <td>47.379106</td>\n",
       "    </tr>\n",
       "    <tr>\n",
       "      <th>3</th>\n",
       "      <td>7.958556644812713_47.54001774274571</td>\n",
       "      <td>7.958557</td>\n",
       "      <td>47.540018</td>\n",
       "    </tr>\n",
       "    <tr>\n",
       "      <th>4</th>\n",
       "      <td>7.9358984000743975_46.721361018242874</td>\n",
       "      <td>7.935898</td>\n",
       "      <td>46.721361</td>\n",
       "    </tr>\n",
       "  </tbody>\n",
       "</table>\n",
       "</div>"
      ],
      "text/plain": [
       "                                    Name  Longitude   Latitude\n",
       "0    8.253483954124018_47.49180940792827   8.253484  47.491809\n",
       "1    8.748111929852765_46.70726441960249   8.748112  46.707264\n",
       "2   9.561373548090483_47.379105526919325   9.561374  47.379106\n",
       "3    7.958556644812713_47.54001774274571   7.958557  47.540018\n",
       "4  7.9358984000743975_46.721361018242874   7.935898  46.721361"
      ]
     },
     "execution_count": 26,
     "metadata": {},
     "output_type": "execute_result"
    }
   ],
   "source": [
    "'''\n",
    "Create dataframe\n",
    "'''\n",
    "\n",
    "df = pd.DataFrame(route_points, columns=['Longitude','Latitude'])\n",
    "\n",
    "tmp = list(df.Latitude.tolist())\n",
    "names = []\n",
    "for i in range(0,len(tmp)):\n",
    "    name = str(df.iloc[i].Longitude)+'_'+str(df.iloc[i].Latitude)\n",
    "    names.append(name)\n",
    "\n",
    "df['Name'] = names\n",
    "\n",
    "columns = ['Name','Longitude','Latitude']\n",
    "df= df[columns]\n",
    "\n",
    "df.head()"
   ]
  },
  {
   "cell_type": "code",
   "execution_count": null,
   "metadata": {},
   "outputs": [],
   "source": [
    "'''\n",
    "Export points\n",
    "'''\n",
    "\n",
    "df.to_csv(output_csv,header=True,index=None)"
   ]
  },
  {
   "cell_type": "code",
   "execution_count": 27,
   "metadata": {
    "scrolled": false
   },
   "outputs": [
    {
     "data": {
      "text/html": [
       "<div style=\"width:100%;\"><div style=\"position:relative;width:100%;height:0;padding-bottom:60%;\"><iframe src=\"data:text/html;charset=utf-8;base64,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\" style=\"position:absolute;width:100%;height:100%;left:0;top:0;border:none !important;\" allowfullscreen webkitallowfullscreen mozallowfullscreen></iframe></div></div>"
      ],
      "text/plain": [
       "<folium.folium.Map at 0x12196d320>"
      ]
     },
     "execution_count": 27,
     "metadata": {},
     "output_type": "execute_result"
    }
   ],
   "source": [
    "'''\n",
    "Plot markers\n",
    "'''\n",
    "\n",
    "rows = df.index.tolist()\n",
    "\n",
    "marker_points = []\n",
    "for row in rows:\n",
    "    marker_points.append((df.iloc[row].Latitude,df.iloc[row].Longitude))\n",
    "\n",
    "# Set map centerpoint\n",
    "coords = marker_points[int((len(marker_points)/2))]\n",
    "       \n",
    "# Define map\n",
    "m = folium.Map(\n",
    "    location = coords,\n",
    "    zoom_start = 7\n",
    ")\n",
    "  \n",
    "# Add points    \n",
    "for mp in marker_points:\n",
    "    folium.Marker(mp).add_to(m)\n",
    "m"
   ]
  },
  {
   "cell_type": "code",
   "execution_count": null,
   "metadata": {},
   "outputs": [],
   "source": [
    "'''\n",
    "Get satellite preview for image\n",
    "'''\n",
    "\n",
    "row = 1\n",
    "\n",
    "figure_layout = {\n",
    "    'width': '100%',\n",
    "    'height': '800px'\n",
    "}\n",
    "fig = gmaps.figure(center = (df.iloc[row].Latitude,df.iloc[row].Longitude), zoom_level = 19,map_type='SATELLITE',layout=figure_layout)\n",
    "fig"
   ]
  },
  {
   "cell_type": "code",
   "execution_count": null,
   "metadata": {},
   "outputs": [],
   "source": [
    "'''\n",
    "Get all images \n",
    "'''\n",
    "\n",
    "root = os.path.dirname(os.path.abspath('Africa.ipynb'))\n",
    "image_folder = root[:-9]+output_folder[3:]\n",
    "image_folder\n",
    "\n",
    "url = 'https://maps.googleapis.com/maps/api/staticmap?'\n",
    "rows = df.index.tolist()\n",
    "for i in range(0,len(rows)):\n",
    "    row = df.iloc[i]\n",
    "    center = str(row.Latitude)+','+str(row.Longitude)\n",
    "    payload = {\n",
    "        'center': center, \n",
    "        'zoom': 19,\n",
    "        'size': '640x640',\n",
    "        'scale': 2,\n",
    "        'format': 'png32',\n",
    "        'maptype': 'satellite',\n",
    "        'key': token\n",
    "    }\n",
    "    \n",
    "    r = requests.get(url,params=payload,stream=True)\n",
    "\n",
    "    name = df.iloc[i]['Name']\n",
    "    filename = image_folder+name+'.png'\n",
    "    if r.status_code == 200:\n",
    "        with open(filename, 'wb') as f:\n",
    "            r.raw.decode_content = True\n",
    "            shutil.copyfileobj(r.raw, f) "
   ]
  }
 ],
 "metadata": {
  "kernelspec": {
   "display_name": "Python 3",
   "language": "python",
   "name": "python3"
  },
  "language_info": {
   "codemirror_mode": {
    "name": "ipython",
    "version": 3
   },
   "file_extension": ".py",
   "mimetype": "text/x-python",
   "name": "python",
   "nbconvert_exporter": "python",
   "pygments_lexer": "ipython3",
   "version": "3.7.3"
  }
 },
 "nbformat": 4,
 "nbformat_minor": 2
}
