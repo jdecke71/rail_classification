{
 "cells": [
  {
   "cell_type": "code",
   "execution_count": 26,
   "metadata": {},
   "outputs": [],
   "source": [
    "import pandas as pd\n",
    "import geopandas as gpd\n",
    "import matplotlib.pyplot as plt\n",
    "from shapely.geometry import mapping\n",
    "import folium\n",
    "import googlemaps\n",
    "import gmaps\n",
    "import os\n",
    "import requests\n",
    "import shutil\n",
    "# from IPython.display import Image"
   ]
  },
  {
   "cell_type": "code",
   "execution_count": 27,
   "metadata": {},
   "outputs": [],
   "source": [
    "with open('../resources/key.txt') as f:\n",
    "    token = f.read()\n",
    "    \n",
    "gmaps.configure(api_key = token)"
   ]
  },
  {
   "cell_type": "code",
   "execution_count": 28,
   "metadata": {},
   "outputs": [],
   "source": [
    "input_folder = '../data/railways/swissrail/'\n",
    "input_file = input_folder+'netw_1.shp'\n",
    "\n",
    "output_folder = '../data/output_images/Switzerland/'\n",
    "output_csv = output_folder+'SWZ.csv'\n",
    "\n",
    "update_folder = output_folder+'set_3/'"
   ]
  },
  {
   "cell_type": "markdown",
   "metadata": {},
   "source": [
    "#### Import routes"
   ]
  },
  {
   "cell_type": "code",
   "execution_count": 29,
   "metadata": {},
   "outputs": [
    {
     "data": {
      "text/html": [
       "<div>\n",
       "<style scoped>\n",
       "    .dataframe tbody tr th:only-of-type {\n",
       "        vertical-align: middle;\n",
       "    }\n",
       "\n",
       "    .dataframe tbody tr th {\n",
       "        vertical-align: top;\n",
       "    }\n",
       "\n",
       "    .dataframe thead th {\n",
       "        text-align: right;\n",
       "    }\n",
       "</style>\n",
       "<table border=\"1\" class=\"dataframe\">\n",
       "  <thead>\n",
       "    <tr style=\"text-align: right;\">\n",
       "      <th></th>\n",
       "      <th>OBJECTID</th>\n",
       "      <th>xtf_id</th>\n",
       "      <th>Datenherr_</th>\n",
       "      <th>Datenher_1</th>\n",
       "      <th>Nummer</th>\n",
       "      <th>Name</th>\n",
       "      <th>BeginnGuel</th>\n",
       "      <th>EndeGuelti</th>\n",
       "      <th>Bearbeitun</th>\n",
       "      <th>Stand</th>\n",
       "      <th>SHAPE_Leng</th>\n",
       "      <th>geometry</th>\n",
       "    </tr>\n",
       "  </thead>\n",
       "  <tbody>\n",
       "    <tr>\n",
       "      <th>0</th>\n",
       "      <td>1.0</td>\n",
       "      <td>ch14uvag00086875</td>\n",
       "      <td>1</td>\n",
       "      <td>SBB CFF FFS</td>\n",
       "      <td>702</td>\n",
       "      <td>Turgi - Koblenz - Waldshut</td>\n",
       "      <td>2014/09/03 00:00:00.000</td>\n",
       "      <td>None</td>\n",
       "      <td>2017/12/12 00:00:00.000</td>\n",
       "      <td>2017/12/10 00:00:00.000</td>\n",
       "      <td>15252.174997</td>\n",
       "      <td>LINESTRING (8.253483954124018 47.4918094079282...</td>\n",
       "    </tr>\n",
       "    <tr>\n",
       "      <th>1</th>\n",
       "      <td>2.0</td>\n",
       "      <td>ch14uvag00086926</td>\n",
       "      <td>1</td>\n",
       "      <td>SBB CFF FFS</td>\n",
       "      <td>824</td>\n",
       "      <td>Romanshorn - Konstanz</td>\n",
       "      <td>2014/09/03 00:00:00.000</td>\n",
       "      <td>None</td>\n",
       "      <td>2017/12/12 00:00:00.000</td>\n",
       "      <td>2017/12/10 00:00:00.000</td>\n",
       "      <td>18733.681101</td>\n",
       "      <td>LINESTRING (9.379483396212201 47.5655289670994...</td>\n",
       "    </tr>\n",
       "    <tr>\n",
       "      <th>2</th>\n",
       "      <td>3.0</td>\n",
       "      <td>ch14uvag00090328</td>\n",
       "      <td>122</td>\n",
       "      <td>BLT</td>\n",
       "      <td>L004</td>\n",
       "      <td>Reinach BL Süd - Reinach BL Süd</td>\n",
       "      <td>2014/10/01 00:00:00.000</td>\n",
       "      <td>None</td>\n",
       "      <td>2017/12/12 00:00:00.000</td>\n",
       "      <td>2017/12/10 00:00:00.000</td>\n",
       "      <td>118.817126</td>\n",
       "      <td>LINESTRING (7.591947809955224 47.4851590292389...</td>\n",
       "    </tr>\n",
       "    <tr>\n",
       "      <th>3</th>\n",
       "      <td>4.0</td>\n",
       "      <td>ch14uvag00086829</td>\n",
       "      <td>1</td>\n",
       "      <td>SBB CFF FFS</td>\n",
       "      <td>540</td>\n",
       "      <td>Olten - Wöschnau</td>\n",
       "      <td>2014/09/03 00:00:00.000</td>\n",
       "      <td>None</td>\n",
       "      <td>2017/12/12 00:00:00.000</td>\n",
       "      <td>2017/12/10 00:00:00.000</td>\n",
       "      <td>11579.008319</td>\n",
       "      <td>LINESTRING (7.90783042339883 47.35192256271322...</td>\n",
       "    </tr>\n",
       "    <tr>\n",
       "      <th>4</th>\n",
       "      <td>5.0</td>\n",
       "      <td>ch14uvag00067525</td>\n",
       "      <td>183</td>\n",
       "      <td>WSB</td>\n",
       "      <td>644</td>\n",
       "      <td>Aarau - Menziken</td>\n",
       "      <td>2009/01/01 00:00:00.000</td>\n",
       "      <td>None</td>\n",
       "      <td>2017/12/12 00:00:00.000</td>\n",
       "      <td>2017/12/10 00:00:00.000</td>\n",
       "      <td>22749.783132</td>\n",
       "      <td>LINESTRING (8.052739943168765 47.3908523444561...</td>\n",
       "    </tr>\n",
       "  </tbody>\n",
       "</table>\n",
       "</div>"
      ],
      "text/plain": [
       "   OBJECTID            xtf_id Datenherr_   Datenher_1 Nummer  \\\n",
       "0       1.0  ch14uvag00086875          1  SBB CFF FFS    702   \n",
       "1       2.0  ch14uvag00086926          1  SBB CFF FFS    824   \n",
       "2       3.0  ch14uvag00090328        122          BLT   L004   \n",
       "3       4.0  ch14uvag00086829          1  SBB CFF FFS    540   \n",
       "4       5.0  ch14uvag00067525        183          WSB    644   \n",
       "\n",
       "                              Name               BeginnGuel EndeGuelti  \\\n",
       "0       Turgi - Koblenz - Waldshut  2014/09/03 00:00:00.000       None   \n",
       "1            Romanshorn - Konstanz  2014/09/03 00:00:00.000       None   \n",
       "2  Reinach BL Süd - Reinach BL Süd  2014/10/01 00:00:00.000       None   \n",
       "3                 Olten - Wöschnau  2014/09/03 00:00:00.000       None   \n",
       "4                 Aarau - Menziken  2009/01/01 00:00:00.000       None   \n",
       "\n",
       "                Bearbeitun                    Stand    SHAPE_Leng  \\\n",
       "0  2017/12/12 00:00:00.000  2017/12/10 00:00:00.000  15252.174997   \n",
       "1  2017/12/12 00:00:00.000  2017/12/10 00:00:00.000  18733.681101   \n",
       "2  2017/12/12 00:00:00.000  2017/12/10 00:00:00.000    118.817126   \n",
       "3  2017/12/12 00:00:00.000  2017/12/10 00:00:00.000  11579.008319   \n",
       "4  2017/12/12 00:00:00.000  2017/12/10 00:00:00.000  22749.783132   \n",
       "\n",
       "                                            geometry  \n",
       "0  LINESTRING (8.253483954124018 47.4918094079282...  \n",
       "1  LINESTRING (9.379483396212201 47.5655289670994...  \n",
       "2  LINESTRING (7.591947809955224 47.4851590292389...  \n",
       "3  LINESTRING (7.90783042339883 47.35192256271322...  \n",
       "4  LINESTRING (8.052739943168765 47.3908523444561...  "
      ]
     },
     "execution_count": 29,
     "metadata": {},
     "output_type": "execute_result"
    }
   ],
   "source": [
    "routes = gpd.read_file(input_file)\n",
    "\n",
    "routes = routes.to_crs({'init' :'epsg:4326'})\n",
    "\n",
    "routes.head()"
   ]
  },
  {
   "cell_type": "code",
   "execution_count": 5,
   "metadata": {},
   "outputs": [
    {
     "data": {
      "text/plain": [
       "(454, 12)"
      ]
     },
     "execution_count": 5,
     "metadata": {},
     "output_type": "execute_result"
    }
   ],
   "source": [
    "routes.shape"
   ]
  },
  {
   "cell_type": "markdown",
   "metadata": {},
   "source": [
    "#### Get points from routes"
   ]
  },
  {
   "cell_type": "code",
   "execution_count": 30,
   "metadata": {},
   "outputs": [
    {
     "name": "stdout",
     "output_type": "stream",
     "text": [
      "457696 points\n"
     ]
    }
   ],
   "source": [
    "'''\n",
    "Get all points\n",
    "'''\n",
    "\n",
    "points = []\n",
    "rows = routes.index.tolist()\n",
    "\n",
    "geom_types = routes['geometry'].tolist()\n",
    "for i in rows:\n",
    "    try:\n",
    "        route = routes.loc[i]\n",
    "        if route.geometry.geom_type == 'LineString':\n",
    "            g = route.geometry\n",
    "            sec_points = mapping(g)[\"coordinates\"]\n",
    "            for j in sec_points:\n",
    "                tmp = (j[0],j[1])\n",
    "                points.append(tmp)\n",
    "        elif route.geometry.geom_type == 'MultiLineString':\n",
    "            g = route.geometry\n",
    "            tmp = mapping(g)[\"coordinates\"]\n",
    "            for sec_points in tmp:\n",
    "                for j in sec_points:\n",
    "                    tmp = (j[0],j[1])\n",
    "                    points.append(tmp)\n",
    "    except Exception as e:\n",
    "        print(\"Skipped route number\",i,'because',e)        \n",
    "        \n",
    "    \n",
    "print(len(points),'points')   "
   ]
  },
  {
   "cell_type": "code",
   "execution_count": 31,
   "metadata": {},
   "outputs": [
    {
     "data": {
      "text/html": [
       "<div>\n",
       "<style scoped>\n",
       "    .dataframe tbody tr th:only-of-type {\n",
       "        vertical-align: middle;\n",
       "    }\n",
       "\n",
       "    .dataframe tbody tr th {\n",
       "        vertical-align: top;\n",
       "    }\n",
       "\n",
       "    .dataframe thead th {\n",
       "        text-align: right;\n",
       "    }\n",
       "</style>\n",
       "<table border=\"1\" class=\"dataframe\">\n",
       "  <thead>\n",
       "    <tr style=\"text-align: right;\">\n",
       "      <th></th>\n",
       "      <th>Name</th>\n",
       "      <th>Longitude</th>\n",
       "      <th>Latitude</th>\n",
       "      <th>Catenary</th>\n",
       "    </tr>\n",
       "  </thead>\n",
       "  <tbody>\n",
       "    <tr>\n",
       "      <th>0</th>\n",
       "      <td>9.379483396212201_47.565528967099404</td>\n",
       "      <td>9.379483</td>\n",
       "      <td>47.565529</td>\n",
       "      <td>1</td>\n",
       "    </tr>\n",
       "    <tr>\n",
       "      <th>1</th>\n",
       "      <td>9.367078340136002_47.57620856433524</td>\n",
       "      <td>9.367078</td>\n",
       "      <td>47.576209</td>\n",
       "      <td>1</td>\n",
       "    </tr>\n",
       "    <tr>\n",
       "      <th>2</th>\n",
       "      <td>9.347995664070325_47.583125270732666</td>\n",
       "      <td>9.347996</td>\n",
       "      <td>47.583125</td>\n",
       "      <td>1</td>\n",
       "    </tr>\n",
       "    <tr>\n",
       "      <th>3</th>\n",
       "      <td>9.32926653044524_47.59035302006366</td>\n",
       "      <td>9.329267</td>\n",
       "      <td>47.590353</td>\n",
       "      <td>1</td>\n",
       "    </tr>\n",
       "    <tr>\n",
       "      <th>4</th>\n",
       "      <td>9.311405490706957_47.598623942532434</td>\n",
       "      <td>9.311405</td>\n",
       "      <td>47.598624</td>\n",
       "      <td>1</td>\n",
       "    </tr>\n",
       "  </tbody>\n",
       "</table>\n",
       "</div>"
      ],
      "text/plain": [
       "                                   Name  Longitude   Latitude  Catenary\n",
       "0  9.379483396212201_47.565528967099404   9.379483  47.565529         1\n",
       "1   9.367078340136002_47.57620856433524   9.367078  47.576209         1\n",
       "2  9.347995664070325_47.583125270732666   9.347996  47.583125         1\n",
       "3    9.32926653044524_47.59035302006366   9.329267  47.590353         1\n",
       "4  9.311405490706957_47.598623942532434   9.311405  47.598624         1"
      ]
     },
     "execution_count": 31,
     "metadata": {},
     "output_type": "execute_result"
    }
   ],
   "source": [
    "'''\n",
    "Open csv with current points\n",
    "'''\n",
    "\n",
    "curr_df = pd.read_csv(output_csv)\n",
    "# curr_df['Catenary'] = curr_df['Catenary'].astype(int)\n",
    "curr_df.head()"
   ]
  },
  {
   "cell_type": "code",
   "execution_count": 34,
   "metadata": {},
   "outputs": [
    {
     "name": "stdout",
     "output_type": "stream",
     "text": [
      "115\n"
     ]
    }
   ],
   "source": [
    "'''\n",
    "Get subselection of points excuding current points\n",
    "'''\n",
    "rows = curr_df.index.tolist()\n",
    "curr_points = []\n",
    "for row in rows:\n",
    "    tmp = curr_df.iloc[row].Name\n",
    "    space = tmp.find('_') \n",
    "    longitude = tmp[:space]\n",
    "    latitude = tmp[space+1:]\n",
    "    curr_points.append((longitude,latitude))\n",
    "\n",
    "route_points = []\n",
    "for point in range(0,len(points),4000):\n",
    "    tmp = points[point]\n",
    "    if tmp not in curr_points:\n",
    "        route_points.append(tmp)\n",
    "\n",
    "print(len(route_points))"
   ]
  },
  {
   "cell_type": "markdown",
   "metadata": {},
   "source": [
    "#### Create working dataset"
   ]
  },
  {
   "cell_type": "code",
   "execution_count": 35,
   "metadata": {},
   "outputs": [
    {
     "data": {
      "text/html": [
       "<div>\n",
       "<style scoped>\n",
       "    .dataframe tbody tr th:only-of-type {\n",
       "        vertical-align: middle;\n",
       "    }\n",
       "\n",
       "    .dataframe tbody tr th {\n",
       "        vertical-align: top;\n",
       "    }\n",
       "\n",
       "    .dataframe thead th {\n",
       "        text-align: right;\n",
       "    }\n",
       "</style>\n",
       "<table border=\"1\" class=\"dataframe\">\n",
       "  <thead>\n",
       "    <tr style=\"text-align: right;\">\n",
       "      <th></th>\n",
       "      <th>Name</th>\n",
       "      <th>Longitude</th>\n",
       "      <th>Latitude</th>\n",
       "    </tr>\n",
       "  </thead>\n",
       "  <tbody>\n",
       "    <tr>\n",
       "      <th>0</th>\n",
       "      <td>8.253483954124018_47.49180940792827</td>\n",
       "      <td>8.253484</td>\n",
       "      <td>47.491809</td>\n",
       "    </tr>\n",
       "    <tr>\n",
       "      <th>1</th>\n",
       "      <td>7.971785341015192_47.35391228860773</td>\n",
       "      <td>7.971785</td>\n",
       "      <td>47.353912</td>\n",
       "    </tr>\n",
       "    <tr>\n",
       "      <th>2</th>\n",
       "      <td>8.688566454316728_46.787368312832825</td>\n",
       "      <td>8.688566</td>\n",
       "      <td>46.787368</td>\n",
       "    </tr>\n",
       "    <tr>\n",
       "      <th>3</th>\n",
       "      <td>8.850249554643572_46.45433988864974</td>\n",
       "      <td>8.850250</td>\n",
       "      <td>46.454340</td>\n",
       "    </tr>\n",
       "    <tr>\n",
       "      <th>4</th>\n",
       "      <td>9.487109536378044_47.21931994620723</td>\n",
       "      <td>9.487110</td>\n",
       "      <td>47.219320</td>\n",
       "    </tr>\n",
       "  </tbody>\n",
       "</table>\n",
       "</div>"
      ],
      "text/plain": [
       "                                   Name  Longitude   Latitude\n",
       "0   8.253483954124018_47.49180940792827   8.253484  47.491809\n",
       "1   7.971785341015192_47.35391228860773   7.971785  47.353912\n",
       "2  8.688566454316728_46.787368312832825   8.688566  46.787368\n",
       "3   8.850249554643572_46.45433988864974   8.850250  46.454340\n",
       "4   9.487109536378044_47.21931994620723   9.487110  47.219320"
      ]
     },
     "execution_count": 35,
     "metadata": {},
     "output_type": "execute_result"
    }
   ],
   "source": [
    "'''\n",
    "Create dataframe\n",
    "'''\n",
    "\n",
    "df = pd.DataFrame(route_points, columns=['Longitude','Latitude'])\n",
    "\n",
    "tmp = list(df.Latitude.tolist())\n",
    "names = []\n",
    "for i in range(0,len(tmp)):\n",
    "    name = str(df.iloc[i].Longitude)+'_'+str(df.iloc[i].Latitude)\n",
    "    names.append(name)\n",
    "\n",
    "df['Name'] = names\n",
    "\n",
    "columns = ['Name','Longitude','Latitude']\n",
    "df= df[columns]\n",
    "\n",
    "df.head()"
   ]
  },
  {
   "cell_type": "code",
   "execution_count": 36,
   "metadata": {
    "scrolled": false
   },
   "outputs": [
    {
     "data": {
      "text/html": [
       "<div style=\"width:100%;\"><div style=\"position:relative;width:100%;height:0;padding-bottom:60%;\"><iframe src=\"data:text/html;charset=utf-8;base64,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\" style=\"position:absolute;width:100%;height:100%;left:0;top:0;border:none !important;\" allowfullscreen webkitallowfullscreen mozallowfullscreen></iframe></div></div>"
      ],
      "text/plain": [
       "<folium.folium.Map at 0x123fd83c8>"
      ]
     },
     "execution_count": 36,
     "metadata": {},
     "output_type": "execute_result"
    }
   ],
   "source": [
    "'''\n",
    "Plot markers\n",
    "'''\n",
    "\n",
    "rows = df.index.tolist()\n",
    "\n",
    "marker_points = []\n",
    "for row in rows:\n",
    "    marker_points.append((df.iloc[row].Latitude,df.iloc[row].Longitude))\n",
    "\n",
    "# Set map centerpoint\n",
    "coords = marker_points[int((len(marker_points)/2))]\n",
    "       \n",
    "# Define map\n",
    "m = folium.Map(\n",
    "    location = coords,\n",
    "    zoom_start = 7\n",
    ")\n",
    "  \n",
    "# Add points    \n",
    "for mp in marker_points:\n",
    "    folium.Marker(mp).add_to(m)\n",
    "m"
   ]
  },
  {
   "cell_type": "code",
   "execution_count": 39,
   "metadata": {},
   "outputs": [
    {
     "data": {
      "application/vnd.jupyter.widget-view+json": {
       "model_id": "4b0b882b94f146528923d87d226b5439",
       "version_major": 2,
       "version_minor": 0
      },
      "text/plain": [
       "Figure(layout=FigureLayout(height='800px', width='100%'))"
      ]
     },
     "metadata": {},
     "output_type": "display_data"
    }
   ],
   "source": [
    "'''\n",
    "Get satellite preview for image\n",
    "'''\n",
    "\n",
    "row = 10\n",
    "\n",
    "figure_layout = {\n",
    "    'width': '100%',\n",
    "    'height': '800px'\n",
    "}\n",
    "fig = gmaps.figure(center = (df.iloc[row].Latitude,df.iloc[row].Longitude), zoom_level = 19,map_type='SATELLITE',layout=figure_layout)\n",
    "fig"
   ]
  },
  {
   "cell_type": "code",
   "execution_count": 37,
   "metadata": {},
   "outputs": [],
   "source": [
    "'''\n",
    "Export points\n",
    "'''\n",
    "\n",
    "# Update\n",
    "with open(output_csv, 'a') as f:\n",
    "    df.to_csv(f, header=False,index=None)\n",
    "\n",
    "# Write new\n",
    "# df.to_csv(output_csv,header=True,index=None)\n",
    "# df.to_csv('tmp.csv',header=True,index=None)"
   ]
  },
  {
   "cell_type": "code",
   "execution_count": 6,
   "metadata": {},
   "outputs": [],
   "source": [
    "'''\n",
    "Get all images \n",
    "'''\n",
    "\n",
    "root = os.path.dirname(os.path.abspath('Africa.ipynb'))\n",
    "image_folder = root[:-9]+update_folder[3:]\n",
    "image_folder\n",
    "\n",
    "url = 'https://maps.googleapis.com/maps/api/staticmap?'\n",
    "rows = df.index.tolist()\n",
    "for i in range(0,len(rows)):\n",
    "    row = df.iloc[i]\n",
    "    center = str(row.Latitude)+','+str(row.Longitude)\n",
    "    payload = {\n",
    "        'center': center, \n",
    "        'zoom': 20,\n",
    "        'size': '640x640',\n",
    "        'scale': 2,\n",
    "        'format': 'png32',\n",
    "        'maptype': 'satellite',\n",
    "        'key': token\n",
    "    }\n",
    "    \n",
    "    r = requests.get(url,params=payload,stream=True)\n",
    "\n",
    "    name = df.iloc[i]['Name']\n",
    "    filename = image_folder+name+'.png'\n",
    "    if r.status_code == 200:\n",
    "        with open(filename, 'wb') as f:\n",
    "            r.raw.decode_content = True\n",
    "            shutil.copyfileobj(r.raw, f) "
   ]
  }
 ],
 "metadata": {
  "kernelspec": {
   "display_name": "Python 3",
   "language": "python",
   "name": "python3"
  },
  "language_info": {
   "codemirror_mode": {
    "name": "ipython",
    "version": 3
   },
   "file_extension": ".py",
   "mimetype": "text/x-python",
   "name": "python",
   "nbconvert_exporter": "python",
   "pygments_lexer": "ipython3",
   "version": "3.7.3"
  }
 },
 "nbformat": 4,
 "nbformat_minor": 2
}
