{
 "cells": [
  {
   "cell_type": "code",
   "execution_count": 1,
   "metadata": {},
   "outputs": [],
   "source": [
    "import pandas as pd\n",
    "import geopandas as gpd\n",
    "import matplotlib.pyplot as plt\n",
    "from shapely.geometry import mapping\n",
    "import folium\n",
    "import gmaps\n",
    "import os\n",
    "import requests\n",
    "import shutil"
   ]
  },
  {
   "cell_type": "code",
   "execution_count": 13,
   "metadata": {},
   "outputs": [],
   "source": [
    "with open('../resources/key.txt') as f:\n",
    "    token = f.read()\n",
    "    \n",
    "gmaps.configure(api_key = token)"
   ]
  },
  {
   "cell_type": "code",
   "execution_count": 10,
   "metadata": {},
   "outputs": [],
   "source": [
    "input_folder = '../data/railways/global/'\n",
    "input_file = input_folder+'australia-oceania_main.csv'\n",
    "\n",
    "output_folder = '../data/output_images/Australia/'\n",
    "output_csv = output_folder+'AUS.csv'"
   ]
  },
  {
   "cell_type": "markdown",
   "metadata": {},
   "source": [
    "### Import Routes"
   ]
  },
  {
   "cell_type": "code",
   "execution_count": 3,
   "metadata": {},
   "outputs": [
    {
     "data": {
      "text/html": [
       "<div>\n",
       "<style scoped>\n",
       "    .dataframe tbody tr th:only-of-type {\n",
       "        vertical-align: middle;\n",
       "    }\n",
       "\n",
       "    .dataframe tbody tr th {\n",
       "        vertical-align: top;\n",
       "    }\n",
       "\n",
       "    .dataframe thead th {\n",
       "        text-align: right;\n",
       "    }\n",
       "</style>\n",
       "<table border=\"1\" class=\"dataframe\">\n",
       "  <thead>\n",
       "    <tr style=\"text-align: right;\">\n",
       "      <th></th>\n",
       "      <th>Way ID (track segment)</th>\n",
       "      <th>Node ID</th>\n",
       "      <th>Latitude</th>\n",
       "      <th>Longitude</th>\n",
       "      <th>Elevation(feet)</th>\n",
       "    </tr>\n",
       "  </thead>\n",
       "  <tbody>\n",
       "    <tr>\n",
       "      <th>0</th>\n",
       "      <td>2654260</td>\n",
       "      <td>11978242</td>\n",
       "      <td>-33.868837</td>\n",
       "      <td>151.196420</td>\n",
       "      <td>36.1</td>\n",
       "    </tr>\n",
       "    <tr>\n",
       "      <th>1</th>\n",
       "      <td>2654260</td>\n",
       "      <td>11978239</td>\n",
       "      <td>-33.868756</td>\n",
       "      <td>151.196246</td>\n",
       "      <td>36.1</td>\n",
       "    </tr>\n",
       "    <tr>\n",
       "      <th>2</th>\n",
       "      <td>2761538</td>\n",
       "      <td>1570660892</td>\n",
       "      <td>-33.879133</td>\n",
       "      <td>151.201152</td>\n",
       "      <td>32.8</td>\n",
       "    </tr>\n",
       "    <tr>\n",
       "      <th>3</th>\n",
       "      <td>2761538</td>\n",
       "      <td>1855173811</td>\n",
       "      <td>-33.879122</td>\n",
       "      <td>151.201066</td>\n",
       "      <td>32.8</td>\n",
       "    </tr>\n",
       "    <tr>\n",
       "      <th>4</th>\n",
       "      <td>2761538</td>\n",
       "      <td>5016259402</td>\n",
       "      <td>-33.879112</td>\n",
       "      <td>151.201002</td>\n",
       "      <td>32.8</td>\n",
       "    </tr>\n",
       "  </tbody>\n",
       "</table>\n",
       "</div>"
      ],
      "text/plain": [
       "   Way ID (track segment)     Node ID   Latitude   Longitude  Elevation(feet)\n",
       "0                 2654260    11978242 -33.868837  151.196420             36.1\n",
       "1                 2654260    11978239 -33.868756  151.196246             36.1\n",
       "2                 2761538  1570660892 -33.879133  151.201152             32.8\n",
       "3                 2761538  1855173811 -33.879122  151.201066             32.8\n",
       "4                 2761538  5016259402 -33.879112  151.201002             32.8"
      ]
     },
     "execution_count": 3,
     "metadata": {},
     "output_type": "execute_result"
    }
   ],
   "source": [
    "routes = pd.read_csv(input_folder)\n",
    "\n",
    "\n",
    "routes.head()"
   ]
  },
  {
   "cell_type": "code",
   "execution_count": 4,
   "metadata": {},
   "outputs": [
    {
     "data": {
      "text/plain": [
       "(557284, 5)"
      ]
     },
     "execution_count": 4,
     "metadata": {},
     "output_type": "execute_result"
    }
   ],
   "source": [
    "# Number of routes\n",
    "routes.shape"
   ]
  },
  {
   "cell_type": "code",
   "execution_count": 5,
   "metadata": {},
   "outputs": [
    {
     "name": "stdout",
     "output_type": "stream",
     "text": [
      "1000 points\n"
     ]
    }
   ],
   "source": [
    "'''\n",
    "Get all points\n",
    "'''\n",
    "\n",
    "# len(routes['Node ID'].tolist())\n",
    "\n",
    "points = []\n",
    "for i in range(0,1000):\n",
    "    try:\n",
    "        route = routes.iloc[i]\n",
    "        sec_points = (route['Longitude'],route['Latitude'])\n",
    "        points.append(sec_points)\n",
    "    except Exception as e:\n",
    "        print(\"Skipped route number\",i,'because',e)\n",
    "\n",
    "print(len(points),'points')"
   ]
  },
  {
   "cell_type": "code",
   "execution_count": null,
   "metadata": {},
   "outputs": [],
   "source": [
    "'''\n",
    "Get points for 1 or more routes\n",
    "'''\n",
    "\n",
    "rows = [0]\n",
    "\n",
    "points = []\n",
    "for i in range(0,len(routes.OBJECTID.tolist())):\n",
    "    if i in rows:\n",
    "    #     print('Route',i)\n",
    "        try:\n",
    "            route = routes.iloc[i]\n",
    "            g = [m for m in route.geometry]\n",
    "    #         print('\\t',len(g),'sections')\n",
    "            for j in range(0,len(g)):\n",
    "    #             print('   section',j)\n",
    "                sec_points = mapping(g[j])[\"coordinates\"]\n",
    "                for k in range(0,len(sec_points)):\n",
    "    #                 print('      point',k)\n",
    "                    points.append(sec_points[k])\n",
    "        except Exception as e:\n",
    "            print(\"Skipped route number\",i,'because',e)\n",
    "\n",
    "print(len(points),'points')"
   ]
  },
  {
   "cell_type": "code",
   "execution_count": null,
   "metadata": {},
   "outputs": [],
   "source": [
    "'''\n",
    "Get points for single route/section\n",
    "'''\n",
    "\n",
    "row = 0\n",
    "section = 0\n",
    "\n",
    "points = []\n",
    "try:\n",
    "    route = routes.iloc[row]\n",
    "    g = [i for i in route.geometry]\n",
    "    len(g)\n",
    "\n",
    "    points = mapping(g[section])[\"coordinates\"]\n",
    "except Exception as e:\n",
    "    print(\"Skipped route number\",row,'because',e)\n",
    "    \n",
    "print(len(points),'points')"
   ]
  },
  {
   "cell_type": "code",
   "execution_count": 6,
   "metadata": {},
   "outputs": [
    {
     "name": "stdout",
     "output_type": "stream",
     "text": [
      "50\n"
     ]
    }
   ],
   "source": [
    "'''\n",
    "Get subselection of points\n",
    "'''\n",
    "\n",
    "route_points = []\n",
    "for point in range(0,len(points),20):\n",
    "    tmp = points[point]\n",
    "    route_points.append(tmp)\n",
    "\n",
    "print(len(route_points))"
   ]
  },
  {
   "cell_type": "code",
   "execution_count": 7,
   "metadata": {},
   "outputs": [
    {
     "data": {
      "text/html": [
       "<div>\n",
       "<style scoped>\n",
       "    .dataframe tbody tr th:only-of-type {\n",
       "        vertical-align: middle;\n",
       "    }\n",
       "\n",
       "    .dataframe tbody tr th {\n",
       "        vertical-align: top;\n",
       "    }\n",
       "\n",
       "    .dataframe thead th {\n",
       "        text-align: right;\n",
       "    }\n",
       "</style>\n",
       "<table border=\"1\" class=\"dataframe\">\n",
       "  <thead>\n",
       "    <tr style=\"text-align: right;\">\n",
       "      <th></th>\n",
       "      <th>Name</th>\n",
       "      <th>Longitude</th>\n",
       "      <th>Latitude</th>\n",
       "    </tr>\n",
       "  </thead>\n",
       "  <tbody>\n",
       "    <tr>\n",
       "      <th>0</th>\n",
       "      <td>151.1964198_-33.868837</td>\n",
       "      <td>151.196420</td>\n",
       "      <td>-33.868837</td>\n",
       "    </tr>\n",
       "    <tr>\n",
       "      <th>1</th>\n",
       "      <td>151.2070754_-33.8801401</td>\n",
       "      <td>151.207075</td>\n",
       "      <td>-33.880140</td>\n",
       "    </tr>\n",
       "    <tr>\n",
       "      <th>2</th>\n",
       "      <td>151.9480466_-27.573679499999997</td>\n",
       "      <td>151.948047</td>\n",
       "      <td>-27.573679</td>\n",
       "    </tr>\n",
       "    <tr>\n",
       "      <th>3</th>\n",
       "      <td>153.0118785_-27.5267477</td>\n",
       "      <td>153.011878</td>\n",
       "      <td>-27.526748</td>\n",
       "    </tr>\n",
       "    <tr>\n",
       "      <th>4</th>\n",
       "      <td>153.00315669999998_-27.5259447</td>\n",
       "      <td>153.003157</td>\n",
       "      <td>-27.525945</td>\n",
       "    </tr>\n",
       "  </tbody>\n",
       "</table>\n",
       "</div>"
      ],
      "text/plain": [
       "                              Name   Longitude   Latitude\n",
       "0           151.1964198_-33.868837  151.196420 -33.868837\n",
       "1          151.2070754_-33.8801401  151.207075 -33.880140\n",
       "2  151.9480466_-27.573679499999997  151.948047 -27.573679\n",
       "3          153.0118785_-27.5267477  153.011878 -27.526748\n",
       "4   153.00315669999998_-27.5259447  153.003157 -27.525945"
      ]
     },
     "execution_count": 7,
     "metadata": {},
     "output_type": "execute_result"
    }
   ],
   "source": [
    "'''\n",
    "Create dataframe\n",
    "'''\n",
    "\n",
    "df = pd.DataFrame(route_points, columns=['Longitude','Latitude'])\n",
    "\n",
    "tmp = list(df.Latitude.tolist())\n",
    "names = []\n",
    "for i in range(0,len(tmp)):\n",
    "    name = str(df.iloc[i].Longitude)+'_'+str(df.iloc[i].Latitude)\n",
    "    names.append(name)\n",
    "\n",
    "df['Name'] = names\n",
    "\n",
    "columns = ['Name','Longitude','Latitude']\n",
    "df= df[columns]\n",
    "\n",
    "\n",
    "df.head()"
   ]
  },
  {
   "cell_type": "code",
   "execution_count": 9,
   "metadata": {},
   "outputs": [],
   "source": [
    "'''\n",
    "Export points\n",
    "'''\n",
    "\n",
    "df.to_csv(output_csv,header=True,index=None)"
   ]
  },
  {
   "cell_type": "code",
   "execution_count": 10,
   "metadata": {
    "scrolled": false
   },
   "outputs": [
    {
     "data": {
      "text/html": [
       "<div style=\"width:100%;\"><div style=\"position:relative;width:100%;height:0;padding-bottom:60%;\"><iframe src=\"data:text/html;charset=utf-8;base64,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\" style=\"position:absolute;width:100%;height:100%;left:0;top:0;border:none !important;\" allowfullscreen webkitallowfullscreen mozallowfullscreen></iframe></div></div>"
      ],
      "text/plain": [
       "<folium.folium.Map at 0x11f478e48>"
      ]
     },
     "execution_count": 10,
     "metadata": {},
     "output_type": "execute_result"
    }
   ],
   "source": [
    "'''\n",
    "Plot markers\n",
    "'''\n",
    "\n",
    "rows = df.index.tolist()\n",
    "\n",
    "marker_points = []\n",
    "for row in rows:\n",
    "    marker_points.append((df.iloc[row].Latitude,df.iloc[row].Longitude))\n",
    "    \n",
    "# Set map centerpoint\n",
    "coords = marker_points[0]\n",
    "       \n",
    "# Define map\n",
    "m = folium.Map(\n",
    "    location = coords,\n",
    "    zoom_start = 13\n",
    ")\n",
    "  \n",
    "# Add points    \n",
    "for mp in marker_points:\n",
    "    folium.Marker(mp).add_to(m)\n",
    "m"
   ]
  },
  {
   "cell_type": "code",
   "execution_count": 12,
   "metadata": {},
   "outputs": [
    {
     "data": {
      "application/vnd.jupyter.widget-view+json": {
       "model_id": "1c2f3eb5b5bb41db80acd596af9b0e2d",
       "version_major": 2,
       "version_minor": 0
      },
      "text/plain": [
       "Figure(layout=FigureLayout(height='800px', width='100%'))"
      ]
     },
     "metadata": {},
     "output_type": "display_data"
    }
   ],
   "source": [
    "'''\n",
    "Get satellite preview for image\n",
    "'''\n",
    "\n",
    "row = 0\n",
    "\n",
    "figure_layout = {\n",
    "    'width': '100%',\n",
    "    'height': '800px'\n",
    "}\n",
    "fig = gmaps.figure(center = (df.iloc[row].Latitude,df.iloc[row].Longitude), zoom_level = 19,map_type='SATELLITE',layout=figure_layout)\n",
    "fig"
   ]
  },
  {
   "cell_type": "code",
   "execution_count": 15,
   "metadata": {},
   "outputs": [],
   "source": [
    "'''\n",
    "Get all images \n",
    "'''\n",
    "\n",
    "root = os.path.dirname(os.path.abspath('Africa.ipynb'))\n",
    "image_folder = root[:-9]+output_folder[3:]\n",
    "image_folder\n",
    "\n",
    "url = 'https://maps.googleapis.com/maps/api/staticmap?'\n",
    "# url = 'https://www.google.com/maps/@?api=1&map_action=map'\n",
    "rows = df.index.tolist()\n",
    "for i in range(0,len(rows)):\n",
    "    row = df.iloc[i]\n",
    "    center = str(row.Latitude)+','+str(row.Longitude)\n",
    "    payload = {\n",
    "        'center': center, \n",
    "        'zoom': 19,\n",
    "        'size': '640x640',\n",
    "        'scale': 2,\n",
    "        'format': 'png32',\n",
    "        'maptype': 'satellite',\n",
    "        'key': token\n",
    "    }\n",
    "    \n",
    "    r = requests.get(url,params=payload,stream=True)\n",
    "\n",
    "    name = df.iloc[i]['Name']\n",
    "    filename = image_folder+name+'.png'\n",
    "    if r.status_code == 200:\n",
    "        with open(filename, 'wb') as f:\n",
    "            r.raw.decode_content = True\n",
    "            shutil.copyfileobj(r.raw, f) "
   ]
  },
  {
   "cell_type": "code",
   "execution_count": null,
   "metadata": {},
   "outputs": [],
   "source": []
  }
 ],
 "metadata": {
  "kernelspec": {
   "display_name": "Python 3",
   "language": "python",
   "name": "python3"
  },
  "language_info": {
   "codemirror_mode": {
    "name": "ipython",
    "version": 3
   },
   "file_extension": ".py",
   "mimetype": "text/x-python",
   "name": "python",
   "nbconvert_exporter": "python",
   "pygments_lexer": "ipython3",
   "version": "3.7.3"
  }
 },
 "nbformat": 4,
 "nbformat_minor": 2
}
