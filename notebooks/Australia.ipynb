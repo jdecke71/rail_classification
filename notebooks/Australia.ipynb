{
 "cells": [
  {
   "cell_type": "code",
   "execution_count": 1,
   "metadata": {},
   "outputs": [],
   "source": [
    "import pandas as pd\n",
    "import geopandas as gpd\n",
    "import matplotlib.pyplot as plt\n",
    "from shapely.geometry import mapping\n",
    "import folium\n",
    "import gmaps\n",
    "import os\n",
    "import requests\n",
    "import shutil"
   ]
  },
  {
   "cell_type": "code",
   "execution_count": 2,
   "metadata": {},
   "outputs": [],
   "source": [
    "with open('../resources/key.txt') as f:\n",
    "    token = f.read()\n",
    "    \n",
    "gmaps.configure(api_key = token)"
   ]
  },
  {
   "cell_type": "code",
   "execution_count": 3,
   "metadata": {},
   "outputs": [],
   "source": [
    "input_folder = '../data/railways/global/'\n",
    "input_file = input_folder+'australia-oceania_main.csv'\n",
    "\n",
    "output_folder = '../data/output_images/Australia/'\n",
    "output_csv = output_folder+'AUS.csv'\n",
    "\n",
    "update_folder = '../data/output_images/Australia/set_3'"
   ]
  },
  {
   "cell_type": "markdown",
   "metadata": {},
   "source": [
    "### Import Routes"
   ]
  },
  {
   "cell_type": "code",
   "execution_count": 4,
   "metadata": {},
   "outputs": [
    {
     "ename": "FileNotFoundError",
     "evalue": "[Errno 2] File b'../data/railways/global/' does not exist: b'../data/railways/global/'",
     "output_type": "error",
     "traceback": [
      "\u001b[0;31m---------------------------------------------------------------------------\u001b[0m",
      "\u001b[0;31mFileNotFoundError\u001b[0m                         Traceback (most recent call last)",
      "\u001b[0;32m<ipython-input-4-64a5b9a5fa6a>\u001b[0m in \u001b[0;36m<module>\u001b[0;34m\u001b[0m\n\u001b[0;32m----> 1\u001b[0;31m \u001b[0mroutes\u001b[0m \u001b[0;34m=\u001b[0m \u001b[0mpd\u001b[0m\u001b[0;34m.\u001b[0m\u001b[0mread_csv\u001b[0m\u001b[0;34m(\u001b[0m\u001b[0minput_folder\u001b[0m\u001b[0;34m)\u001b[0m\u001b[0;34m\u001b[0m\u001b[0;34m\u001b[0m\u001b[0m\n\u001b[0m\u001b[1;32m      2\u001b[0m \u001b[0;34m\u001b[0m\u001b[0m\n\u001b[1;32m      3\u001b[0m \u001b[0;34m\u001b[0m\u001b[0m\n\u001b[1;32m      4\u001b[0m \u001b[0mroutes\u001b[0m\u001b[0;34m.\u001b[0m\u001b[0mhead\u001b[0m\u001b[0;34m(\u001b[0m\u001b[0;34m)\u001b[0m\u001b[0;34m\u001b[0m\u001b[0;34m\u001b[0m\u001b[0m\n",
      "\u001b[0;32m~/miniconda3/envs/geo1/lib/python3.7/site-packages/pandas/io/parsers.py\u001b[0m in \u001b[0;36mparser_f\u001b[0;34m(filepath_or_buffer, sep, delimiter, header, names, index_col, usecols, squeeze, prefix, mangle_dupe_cols, dtype, engine, converters, true_values, false_values, skipinitialspace, skiprows, skipfooter, nrows, na_values, keep_default_na, na_filter, verbose, skip_blank_lines, parse_dates, infer_datetime_format, keep_date_col, date_parser, dayfirst, iterator, chunksize, compression, thousands, decimal, lineterminator, quotechar, quoting, doublequote, escapechar, comment, encoding, dialect, tupleize_cols, error_bad_lines, warn_bad_lines, delim_whitespace, low_memory, memory_map, float_precision)\u001b[0m\n\u001b[1;32m    700\u001b[0m                     skip_blank_lines=skip_blank_lines)\n\u001b[1;32m    701\u001b[0m \u001b[0;34m\u001b[0m\u001b[0m\n\u001b[0;32m--> 702\u001b[0;31m         \u001b[0;32mreturn\u001b[0m \u001b[0m_read\u001b[0m\u001b[0;34m(\u001b[0m\u001b[0mfilepath_or_buffer\u001b[0m\u001b[0;34m,\u001b[0m \u001b[0mkwds\u001b[0m\u001b[0;34m)\u001b[0m\u001b[0;34m\u001b[0m\u001b[0;34m\u001b[0m\u001b[0m\n\u001b[0m\u001b[1;32m    703\u001b[0m \u001b[0;34m\u001b[0m\u001b[0m\n\u001b[1;32m    704\u001b[0m     \u001b[0mparser_f\u001b[0m\u001b[0;34m.\u001b[0m\u001b[0m__name__\u001b[0m \u001b[0;34m=\u001b[0m \u001b[0mname\u001b[0m\u001b[0;34m\u001b[0m\u001b[0;34m\u001b[0m\u001b[0m\n",
      "\u001b[0;32m~/miniconda3/envs/geo1/lib/python3.7/site-packages/pandas/io/parsers.py\u001b[0m in \u001b[0;36m_read\u001b[0;34m(filepath_or_buffer, kwds)\u001b[0m\n\u001b[1;32m    427\u001b[0m \u001b[0;34m\u001b[0m\u001b[0m\n\u001b[1;32m    428\u001b[0m     \u001b[0;31m# Create the parser.\u001b[0m\u001b[0;34m\u001b[0m\u001b[0;34m\u001b[0m\u001b[0;34m\u001b[0m\u001b[0m\n\u001b[0;32m--> 429\u001b[0;31m     \u001b[0mparser\u001b[0m \u001b[0;34m=\u001b[0m \u001b[0mTextFileReader\u001b[0m\u001b[0;34m(\u001b[0m\u001b[0mfilepath_or_buffer\u001b[0m\u001b[0;34m,\u001b[0m \u001b[0;34m**\u001b[0m\u001b[0mkwds\u001b[0m\u001b[0;34m)\u001b[0m\u001b[0;34m\u001b[0m\u001b[0;34m\u001b[0m\u001b[0m\n\u001b[0m\u001b[1;32m    430\u001b[0m \u001b[0;34m\u001b[0m\u001b[0m\n\u001b[1;32m    431\u001b[0m     \u001b[0;32mif\u001b[0m \u001b[0mchunksize\u001b[0m \u001b[0;32mor\u001b[0m \u001b[0miterator\u001b[0m\u001b[0;34m:\u001b[0m\u001b[0;34m\u001b[0m\u001b[0;34m\u001b[0m\u001b[0m\n",
      "\u001b[0;32m~/miniconda3/envs/geo1/lib/python3.7/site-packages/pandas/io/parsers.py\u001b[0m in \u001b[0;36m__init__\u001b[0;34m(self, f, engine, **kwds)\u001b[0m\n\u001b[1;32m    893\u001b[0m             \u001b[0mself\u001b[0m\u001b[0;34m.\u001b[0m\u001b[0moptions\u001b[0m\u001b[0;34m[\u001b[0m\u001b[0;34m'has_index_names'\u001b[0m\u001b[0;34m]\u001b[0m \u001b[0;34m=\u001b[0m \u001b[0mkwds\u001b[0m\u001b[0;34m[\u001b[0m\u001b[0;34m'has_index_names'\u001b[0m\u001b[0;34m]\u001b[0m\u001b[0;34m\u001b[0m\u001b[0;34m\u001b[0m\u001b[0m\n\u001b[1;32m    894\u001b[0m \u001b[0;34m\u001b[0m\u001b[0m\n\u001b[0;32m--> 895\u001b[0;31m         \u001b[0mself\u001b[0m\u001b[0;34m.\u001b[0m\u001b[0m_make_engine\u001b[0m\u001b[0;34m(\u001b[0m\u001b[0mself\u001b[0m\u001b[0;34m.\u001b[0m\u001b[0mengine\u001b[0m\u001b[0;34m)\u001b[0m\u001b[0;34m\u001b[0m\u001b[0;34m\u001b[0m\u001b[0m\n\u001b[0m\u001b[1;32m    896\u001b[0m \u001b[0;34m\u001b[0m\u001b[0m\n\u001b[1;32m    897\u001b[0m     \u001b[0;32mdef\u001b[0m \u001b[0mclose\u001b[0m\u001b[0;34m(\u001b[0m\u001b[0mself\u001b[0m\u001b[0;34m)\u001b[0m\u001b[0;34m:\u001b[0m\u001b[0;34m\u001b[0m\u001b[0;34m\u001b[0m\u001b[0m\n",
      "\u001b[0;32m~/miniconda3/envs/geo1/lib/python3.7/site-packages/pandas/io/parsers.py\u001b[0m in \u001b[0;36m_make_engine\u001b[0;34m(self, engine)\u001b[0m\n\u001b[1;32m   1120\u001b[0m     \u001b[0;32mdef\u001b[0m \u001b[0m_make_engine\u001b[0m\u001b[0;34m(\u001b[0m\u001b[0mself\u001b[0m\u001b[0;34m,\u001b[0m \u001b[0mengine\u001b[0m\u001b[0;34m=\u001b[0m\u001b[0;34m'c'\u001b[0m\u001b[0;34m)\u001b[0m\u001b[0;34m:\u001b[0m\u001b[0;34m\u001b[0m\u001b[0;34m\u001b[0m\u001b[0m\n\u001b[1;32m   1121\u001b[0m         \u001b[0;32mif\u001b[0m \u001b[0mengine\u001b[0m \u001b[0;34m==\u001b[0m \u001b[0;34m'c'\u001b[0m\u001b[0;34m:\u001b[0m\u001b[0;34m\u001b[0m\u001b[0;34m\u001b[0m\u001b[0m\n\u001b[0;32m-> 1122\u001b[0;31m             \u001b[0mself\u001b[0m\u001b[0;34m.\u001b[0m\u001b[0m_engine\u001b[0m \u001b[0;34m=\u001b[0m \u001b[0mCParserWrapper\u001b[0m\u001b[0;34m(\u001b[0m\u001b[0mself\u001b[0m\u001b[0;34m.\u001b[0m\u001b[0mf\u001b[0m\u001b[0;34m,\u001b[0m \u001b[0;34m**\u001b[0m\u001b[0mself\u001b[0m\u001b[0;34m.\u001b[0m\u001b[0moptions\u001b[0m\u001b[0;34m)\u001b[0m\u001b[0;34m\u001b[0m\u001b[0;34m\u001b[0m\u001b[0m\n\u001b[0m\u001b[1;32m   1123\u001b[0m         \u001b[0;32melse\u001b[0m\u001b[0;34m:\u001b[0m\u001b[0;34m\u001b[0m\u001b[0;34m\u001b[0m\u001b[0m\n\u001b[1;32m   1124\u001b[0m             \u001b[0;32mif\u001b[0m \u001b[0mengine\u001b[0m \u001b[0;34m==\u001b[0m \u001b[0;34m'python'\u001b[0m\u001b[0;34m:\u001b[0m\u001b[0;34m\u001b[0m\u001b[0;34m\u001b[0m\u001b[0m\n",
      "\u001b[0;32m~/miniconda3/envs/geo1/lib/python3.7/site-packages/pandas/io/parsers.py\u001b[0m in \u001b[0;36m__init__\u001b[0;34m(self, src, **kwds)\u001b[0m\n\u001b[1;32m   1851\u001b[0m         \u001b[0mkwds\u001b[0m\u001b[0;34m[\u001b[0m\u001b[0;34m'usecols'\u001b[0m\u001b[0;34m]\u001b[0m \u001b[0;34m=\u001b[0m \u001b[0mself\u001b[0m\u001b[0;34m.\u001b[0m\u001b[0musecols\u001b[0m\u001b[0;34m\u001b[0m\u001b[0;34m\u001b[0m\u001b[0m\n\u001b[1;32m   1852\u001b[0m \u001b[0;34m\u001b[0m\u001b[0m\n\u001b[0;32m-> 1853\u001b[0;31m         \u001b[0mself\u001b[0m\u001b[0;34m.\u001b[0m\u001b[0m_reader\u001b[0m \u001b[0;34m=\u001b[0m \u001b[0mparsers\u001b[0m\u001b[0;34m.\u001b[0m\u001b[0mTextReader\u001b[0m\u001b[0;34m(\u001b[0m\u001b[0msrc\u001b[0m\u001b[0;34m,\u001b[0m \u001b[0;34m**\u001b[0m\u001b[0mkwds\u001b[0m\u001b[0;34m)\u001b[0m\u001b[0;34m\u001b[0m\u001b[0;34m\u001b[0m\u001b[0m\n\u001b[0m\u001b[1;32m   1854\u001b[0m         \u001b[0mself\u001b[0m\u001b[0;34m.\u001b[0m\u001b[0munnamed_cols\u001b[0m \u001b[0;34m=\u001b[0m \u001b[0mself\u001b[0m\u001b[0;34m.\u001b[0m\u001b[0m_reader\u001b[0m\u001b[0;34m.\u001b[0m\u001b[0munnamed_cols\u001b[0m\u001b[0;34m\u001b[0m\u001b[0;34m\u001b[0m\u001b[0m\n\u001b[1;32m   1855\u001b[0m \u001b[0;34m\u001b[0m\u001b[0m\n",
      "\u001b[0;32mpandas/_libs/parsers.pyx\u001b[0m in \u001b[0;36mpandas._libs.parsers.TextReader.__cinit__\u001b[0;34m()\u001b[0m\n",
      "\u001b[0;32mpandas/_libs/parsers.pyx\u001b[0m in \u001b[0;36mpandas._libs.parsers.TextReader._setup_parser_source\u001b[0;34m()\u001b[0m\n",
      "\u001b[0;31mFileNotFoundError\u001b[0m: [Errno 2] File b'../data/railways/global/' does not exist: b'../data/railways/global/'"
     ]
    }
   ],
   "source": [
    "routes = pd.read_csv(input_folder)\n",
    "\n",
    "\n",
    "routes.head()"
   ]
  },
  {
   "cell_type": "code",
   "execution_count": 4,
   "metadata": {},
   "outputs": [
    {
     "data": {
      "text/plain": [
       "(557284, 5)"
      ]
     },
     "execution_count": 4,
     "metadata": {},
     "output_type": "execute_result"
    }
   ],
   "source": [
    "# Number of routes\n",
    "routes.shape"
   ]
  },
  {
   "cell_type": "code",
   "execution_count": 5,
   "metadata": {},
   "outputs": [
    {
     "name": "stdout",
     "output_type": "stream",
     "text": [
      "1000 points\n"
     ]
    }
   ],
   "source": [
    "'''\n",
    "Get all points\n",
    "'''\n",
    "\n",
    "# len(routes['Node ID'].tolist())\n",
    "\n",
    "points = []\n",
    "for i in range(0,1000):\n",
    "    try:\n",
    "        route = routes.iloc[i]\n",
    "        sec_points = (route['Longitude'],route['Latitude'])\n",
    "        points.append(sec_points)\n",
    "    except Exception as e:\n",
    "        print(\"Skipped route number\",i,'because',e)\n",
    "\n",
    "print(len(points),'points')"
   ]
  },
  {
   "cell_type": "code",
   "execution_count": null,
   "metadata": {},
   "outputs": [],
   "source": [
    "'''\n",
    "Get points for 1 or more routes\n",
    "'''\n",
    "\n",
    "rows = [0]\n",
    "\n",
    "points = []\n",
    "for i in range(0,len(routes.OBJECTID.tolist())):\n",
    "    if i in rows:\n",
    "    #     print('Route',i)\n",
    "        try:\n",
    "            route = routes.iloc[i]\n",
    "            g = [m for m in route.geometry]\n",
    "    #         print('\\t',len(g),'sections')\n",
    "            for j in range(0,len(g)):\n",
    "    #             print('   section',j)\n",
    "                sec_points = mapping(g[j])[\"coordinates\"]\n",
    "                for k in range(0,len(sec_points)):\n",
    "    #                 print('      point',k)\n",
    "                    points.append(sec_points[k])\n",
    "        except Exception as e:\n",
    "            print(\"Skipped route number\",i,'because',e)\n",
    "\n",
    "print(len(points),'points')"
   ]
  },
  {
   "cell_type": "code",
   "execution_count": null,
   "metadata": {},
   "outputs": [],
   "source": [
    "'''\n",
    "Get points for single route/section\n",
    "'''\n",
    "\n",
    "row = 0\n",
    "section = 0\n",
    "\n",
    "points = []\n",
    "try:\n",
    "    route = routes.iloc[row]\n",
    "    g = [i for i in route.geometry]\n",
    "    len(g)\n",
    "\n",
    "    points = mapping(g[section])[\"coordinates\"]\n",
    "except Exception as e:\n",
    "    print(\"Skipped route number\",row,'because',e)\n",
    "    \n",
    "print(len(points),'points')"
   ]
  },
  {
   "cell_type": "code",
   "execution_count": 89,
   "metadata": {},
   "outputs": [
    {
     "data": {
      "text/html": [
       "<div>\n",
       "<style scoped>\n",
       "    .dataframe tbody tr th:only-of-type {\n",
       "        vertical-align: middle;\n",
       "    }\n",
       "\n",
       "    .dataframe tbody tr th {\n",
       "        vertical-align: top;\n",
       "    }\n",
       "\n",
       "    .dataframe thead th {\n",
       "        text-align: right;\n",
       "    }\n",
       "</style>\n",
       "<table border=\"1\" class=\"dataframe\">\n",
       "  <thead>\n",
       "    <tr style=\"text-align: right;\">\n",
       "      <th></th>\n",
       "      <th>Name</th>\n",
       "      <th>Longitude</th>\n",
       "      <th>Latitude</th>\n",
       "      <th>Catenary</th>\n",
       "    </tr>\n",
       "  </thead>\n",
       "  <tbody>\n",
       "    <tr>\n",
       "      <th>0</th>\n",
       "      <td>-70.99141024363398_42.39987983654313</td>\n",
       "      <td>-70.991410</td>\n",
       "      <td>42.399880</td>\n",
       "      <td>1</td>\n",
       "    </tr>\n",
       "    <tr>\n",
       "      <th>1</th>\n",
       "      <td>-70.9916645142435_42.41343348702443</td>\n",
       "      <td>-70.991665</td>\n",
       "      <td>42.413433</td>\n",
       "      <td>1</td>\n",
       "    </tr>\n",
       "    <tr>\n",
       "      <th>2</th>\n",
       "      <td>-70.99169316827988_42.3987030963677</td>\n",
       "      <td>-70.991693</td>\n",
       "      <td>42.398703</td>\n",
       "      <td>1</td>\n",
       "    </tr>\n",
       "    <tr>\n",
       "      <th>3</th>\n",
       "      <td>-70.99195436847552_42.40432141901854</td>\n",
       "      <td>-70.991954</td>\n",
       "      <td>42.404321</td>\n",
       "      <td>1</td>\n",
       "    </tr>\n",
       "    <tr>\n",
       "      <th>4</th>\n",
       "      <td>-70.99217754599157_42.39778478905404</td>\n",
       "      <td>-70.992178</td>\n",
       "      <td>42.397785</td>\n",
       "      <td>1</td>\n",
       "    </tr>\n",
       "  </tbody>\n",
       "</table>\n",
       "</div>"
      ],
      "text/plain": [
       "                                   Name  Longitude   Latitude  Catenary\n",
       "0  -70.99141024363398_42.39987983654313 -70.991410  42.399880         1\n",
       "1   -70.9916645142435_42.41343348702443 -70.991665  42.413433         1\n",
       "2   -70.99169316827988_42.3987030963677 -70.991693  42.398703         1\n",
       "3  -70.99195436847552_42.40432141901854 -70.991954  42.404321         1\n",
       "4  -70.99217754599157_42.39778478905404 -70.992178  42.397785         1"
      ]
     },
     "execution_count": 89,
     "metadata": {},
     "output_type": "execute_result"
    }
   ],
   "source": [
    "'''\n",
    "Open csv with current points\n",
    "'''\n",
    "\n",
    "curr_df = pd.read_csv(output_csv)\n",
    "curr_df.head()"
   ]
  },
  {
   "cell_type": "code",
   "execution_count": 6,
   "metadata": {},
   "outputs": [
    {
     "name": "stdout",
     "output_type": "stream",
     "text": [
      "50\n"
     ]
    }
   ],
   "source": [
    "'''\n",
    "Get subselection of points\n",
    "'''\n",
    "\n",
    "route_points = []\n",
    "for point in range(0,len(points),20):\n",
    "    tmp = points[point]\n",
    "    route_points.append(tmp)\n",
    "\n",
    "print(len(route_points))"
   ]
  },
  {
   "cell_type": "code",
   "execution_count": 7,
   "metadata": {},
   "outputs": [
    {
     "data": {
      "text/html": [
       "<div>\n",
       "<style scoped>\n",
       "    .dataframe tbody tr th:only-of-type {\n",
       "        vertical-align: middle;\n",
       "    }\n",
       "\n",
       "    .dataframe tbody tr th {\n",
       "        vertical-align: top;\n",
       "    }\n",
       "\n",
       "    .dataframe thead th {\n",
       "        text-align: right;\n",
       "    }\n",
       "</style>\n",
       "<table border=\"1\" class=\"dataframe\">\n",
       "  <thead>\n",
       "    <tr style=\"text-align: right;\">\n",
       "      <th></th>\n",
       "      <th>Name</th>\n",
       "      <th>Longitude</th>\n",
       "      <th>Latitude</th>\n",
       "    </tr>\n",
       "  </thead>\n",
       "  <tbody>\n",
       "    <tr>\n",
       "      <th>0</th>\n",
       "      <td>151.1964198_-33.868837</td>\n",
       "      <td>151.196420</td>\n",
       "      <td>-33.868837</td>\n",
       "    </tr>\n",
       "    <tr>\n",
       "      <th>1</th>\n",
       "      <td>151.2070754_-33.8801401</td>\n",
       "      <td>151.207075</td>\n",
       "      <td>-33.880140</td>\n",
       "    </tr>\n",
       "    <tr>\n",
       "      <th>2</th>\n",
       "      <td>151.9480466_-27.573679499999997</td>\n",
       "      <td>151.948047</td>\n",
       "      <td>-27.573679</td>\n",
       "    </tr>\n",
       "    <tr>\n",
       "      <th>3</th>\n",
       "      <td>153.0118785_-27.5267477</td>\n",
       "      <td>153.011878</td>\n",
       "      <td>-27.526748</td>\n",
       "    </tr>\n",
       "    <tr>\n",
       "      <th>4</th>\n",
       "      <td>153.00315669999998_-27.5259447</td>\n",
       "      <td>153.003157</td>\n",
       "      <td>-27.525945</td>\n",
       "    </tr>\n",
       "  </tbody>\n",
       "</table>\n",
       "</div>"
      ],
      "text/plain": [
       "                              Name   Longitude   Latitude\n",
       "0           151.1964198_-33.868837  151.196420 -33.868837\n",
       "1          151.2070754_-33.8801401  151.207075 -33.880140\n",
       "2  151.9480466_-27.573679499999997  151.948047 -27.573679\n",
       "3          153.0118785_-27.5267477  153.011878 -27.526748\n",
       "4   153.00315669999998_-27.5259447  153.003157 -27.525945"
      ]
     },
     "execution_count": 7,
     "metadata": {},
     "output_type": "execute_result"
    }
   ],
   "source": [
    "'''\n",
    "Create dataframe\n",
    "'''\n",
    "\n",
    "df = pd.DataFrame(route_points, columns=['Longitude','Latitude'])\n",
    "\n",
    "tmp = list(df.Latitude.tolist())\n",
    "names = []\n",
    "for i in range(0,len(tmp)):\n",
    "    name = str(df.iloc[i].Longitude)+'_'+str(df.iloc[i].Latitude)\n",
    "    names.append(name)\n",
    "\n",
    "df['Name'] = names\n",
    "\n",
    "columns = ['Name','Longitude','Latitude']\n",
    "df= df[columns]\n",
    "\n",
    "\n",
    "df.head()"
   ]
  },
  {
   "cell_type": "code",
   "execution_count": 98,
   "metadata": {},
   "outputs": [],
   "source": [
    "'''\n",
    "Export points\n",
    "'''\n",
    "\n",
    "# Update\n",
    "with open(output_csv, 'a') as f:\n",
    "    df.to_csv(f, header=False,index=None)\n",
    "\n",
    "# Write new\n",
    "# df.to_csv(output_csv,header=True,index=None)\n",
    "# df.to_csv('tmp.csv',header=True,index=None)"
   ]
  },
  {
   "cell_type": "code",
   "execution_count": 9,
   "metadata": {
    "scrolled": false
   },
   "outputs": [
    {
     "data": {
      "text/html": [
       "<div style=\"width:100%;\"><div style=\"position:relative;width:100%;height:0;padding-bottom:60%;\"><iframe src=\"data:text/html;charset=utf-8;base64,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\" style=\"position:absolute;width:100%;height:100%;left:0;top:0;border:none !important;\" allowfullscreen webkitallowfullscreen mozallowfullscreen></iframe></div></div>"
      ],
      "text/plain": [
       "<folium.folium.Map at 0x11bb23278>"
      ]
     },
     "execution_count": 9,
     "metadata": {},
     "output_type": "execute_result"
    }
   ],
   "source": [
    "'''\n",
    "Plot markers\n",
    "'''\n",
    "\n",
    "rows = df.index.tolist()\n",
    "\n",
    "marker_points = []\n",
    "for row in rows:\n",
    "    marker_points.append((df.iloc[row].Latitude,df.iloc[row].Longitude))\n",
    "    \n",
    "# Set map centerpoint\n",
    "coords = marker_points[0]\n",
    "       \n",
    "# Define map\n",
    "m = folium.Map(\n",
    "    location = coords,\n",
    "    zoom_start = 13\n",
    ")\n",
    "  \n",
    "# Add points    \n",
    "for mp in marker_points:\n",
    "    folium.Marker(mp).add_to(m)\n",
    "m"
   ]
  },
  {
   "cell_type": "code",
   "execution_count": 12,
   "metadata": {},
   "outputs": [
    {
     "data": {
      "application/vnd.jupyter.widget-view+json": {
       "model_id": "1c2f3eb5b5bb41db80acd596af9b0e2d",
       "version_major": 2,
       "version_minor": 0
      },
      "text/plain": [
       "Figure(layout=FigureLayout(height='800px', width='100%'))"
      ]
     },
     "metadata": {},
     "output_type": "display_data"
    }
   ],
   "source": [
    "'''\n",
    "Get satellite preview for image\n",
    "'''\n",
    "\n",
    "row = 0\n",
    "\n",
    "figure_layout = {\n",
    "    'width': '100%',\n",
    "    'height': '800px'\n",
    "}\n",
    "fig = gmaps.figure(center = (df.iloc[row].Latitude,df.iloc[row].Longitude), zoom_level = 19,map_type='SATELLITE',layout=figure_layout)\n",
    "fig"
   ]
  },
  {
   "cell_type": "code",
   "execution_count": 10,
   "metadata": {},
   "outputs": [],
   "source": [
    "'''\n",
    "Get all images \n",
    "'''\n",
    "\n",
    "root = os.path.dirname(os.path.abspath('Africa.ipynb'))\n",
    "image_folder = root[:-9]+update_folder[3:]\n",
    "image_folder\n",
    "\n",
    "url = 'https://maps.googleapis.com/maps/api/staticmap?'\n",
    "# url = 'https://www.google.com/maps/@?api=1&map_action=map'\n",
    "rows = df.index.tolist()\n",
    "for i in range(0,len(rows)):\n",
    "    row = df.iloc[i]\n",
    "    center = str(row.Latitude)+','+str(row.Longitude)\n",
    "    payload = {\n",
    "        'center': center, \n",
    "        'zoom': 20,\n",
    "        'size': '640x640',\n",
    "        'scale': 2,\n",
    "        'format': 'png32',\n",
    "        'maptype': 'satellite',\n",
    "        'key': token\n",
    "    }\n",
    "    \n",
    "    r = requests.get(url,params=payload,stream=True)\n",
    "\n",
    "    name = df.iloc[i]['Name']\n",
    "    filename = image_folder+name+'.png'\n",
    "    if r.status_code == 200:\n",
    "        with open(filename, 'wb') as f:\n",
    "            r.raw.decode_content = True\n",
    "            shutil.copyfileobj(r.raw, f) "
   ]
  },
  {
   "cell_type": "code",
   "execution_count": null,
   "metadata": {},
   "outputs": [],
   "source": []
  }
 ],
 "metadata": {
  "kernelspec": {
   "display_name": "Python 3",
   "language": "python",
   "name": "python3"
  },
  "language_info": {
   "codemirror_mode": {
    "name": "ipython",
    "version": 3
   },
   "file_extension": ".py",
   "mimetype": "text/x-python",
   "name": "python",
   "nbconvert_exporter": "python",
   "pygments_lexer": "ipython3",
   "version": "3.7.3"
  }
 },
 "nbformat": 4,
 "nbformat_minor": 2
}
