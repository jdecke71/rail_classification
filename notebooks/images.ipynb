{
 "cells": [
  {
   "cell_type": "markdown",
   "metadata": {
    "colab_type": "text",
    "id": "mt9dL5dIir8X"
   },
   "source": [
    "##### Copyright 2019 The TensorFlow Authors."
   ]
  },
  {
   "cell_type": "code",
   "execution_count": null,
   "metadata": {
    "cellView": "form",
    "colab": {},
    "colab_type": "code",
    "id": "ufPx7EiCiqgR"
   },
   "outputs": [],
   "source": [
    "#@title Licensed under the Apache License, Version 2.0 (the \"License\");\n",
    "# you may not use this file except in compliance with the License.\n",
    "# You may obtain a copy of the License at\n",
    "#\n",
    "# https://www.apache.org/licenses/LICENSE-2.0\n",
    "#\n",
    "# Unless required by applicable law or agreed to in writing, software\n",
    "# distributed under the License is distributed on an \"AS IS\" BASIS,\n",
    "# WITHOUT WARRANTIES OR CONDITIONS OF ANY KIND, either express or implied.\n",
    "# See the License for the specific language governing permissions and\n",
    "# limitations under the License.\n"
   ]
  },
  {
   "cell_type": "markdown",
   "metadata": {
    "colab_type": "text",
    "id": "ucMoYase6URl"
   },
   "source": [
    "# Load images with tf.data"
   ]
  },
  {
   "cell_type": "markdown",
   "metadata": {
    "colab_type": "text",
    "id": "_Wwu5SXZmEkB"
   },
   "source": [
    "<table class=\"tfo-notebook-buttons\" align=\"left\">\n",
    "  <td>\n",
    "    <a target=\"_blank\" href=\"https://www.tensorflow.org/tutorials/load_data/images\"><img src=\"https://www.tensorflow.org/images/tf_logo_32px.png\" />View on TensorFlow.org</a>\n",
    "  </td>\n",
    "  <td>\n",
    "    <a target=\"_blank\" href=\"https://colab.research.google.com/github/tensorflow/docs/blob/master/site/en/tutorials/load_data/images.ipynb\"><img src=\"https://www.tensorflow.org/images/colab_logo_32px.png\" />Run in Google Colab</a>\n",
    "  </td>\n",
    "  <td>\n",
    "    <a target=\"_blank\" href=\"https://github.com/tensorflow/docs/blob/master/site/en/tutorials/load_data/images.ipynb\"><img src=\"https://www.tensorflow.org/images/GitHub-Mark-32px.png\" />View source on GitHub</a>\n",
    "  </td>\n",
    "</table>"
   ]
  },
  {
   "cell_type": "markdown",
   "metadata": {
    "colab_type": "text",
    "id": "Oxw4WahM7DU9"
   },
   "source": [
    "This tutorial provides a simple example of how to load an image dataset using `tf.data`.\n",
    "\n",
    "The dataset used in this example is distributed as directories of images, with one class of image per directory."
   ]
  },
  {
   "cell_type": "markdown",
   "metadata": {
    "colab_type": "text",
    "id": "hoQQiZDB6URn"
   },
   "source": [
    "## Setup"
   ]
  },
  {
   "cell_type": "code",
   "execution_count": 2,
   "metadata": {
    "colab": {},
    "colab_type": "code",
    "id": "DHz3JONNEHlj"
   },
   "outputs": [
    {
     "data": {
      "text/plain": [
       "'1.9.0'"
      ]
     },
     "execution_count": 2,
     "metadata": {},
     "output_type": "execute_result"
    }
   ],
   "source": [
    "from __future__ import absolute_import, division, print_function, unicode_literals\n",
    "\n",
    "import tensorflow as tf\n",
    "# tf.enable_eager_execution()\n",
    "tf.__version__"
   ]
  },
  {
   "cell_type": "code",
   "execution_count": 3,
   "metadata": {
    "colab": {},
    "colab_type": "code",
    "id": "KT6CcaqgQewg"
   },
   "outputs": [
    {
     "ename": "AttributeError",
     "evalue": "module 'tensorflow.data' has no attribute 'experimental'",
     "output_type": "error",
     "traceback": [
      "\u001b[0;31m---------------------------------------------------------------------------\u001b[0m",
      "\u001b[0;31mAttributeError\u001b[0m                            Traceback (most recent call last)",
      "\u001b[0;32m<ipython-input-3-da3609779c21>\u001b[0m in \u001b[0;36m<module>\u001b[0;34m\u001b[0m\n\u001b[0;32m----> 1\u001b[0;31m \u001b[0mAUTOTUNE\u001b[0m \u001b[0;34m=\u001b[0m \u001b[0mtf\u001b[0m\u001b[0;34m.\u001b[0m\u001b[0mdata\u001b[0m\u001b[0;34m.\u001b[0m\u001b[0mexperimental\u001b[0m\u001b[0;34m.\u001b[0m\u001b[0mAUTOTUNE\u001b[0m\u001b[0;34m\u001b[0m\u001b[0m\n\u001b[0m",
      "\u001b[0;31mAttributeError\u001b[0m: module 'tensorflow.data' has no attribute 'experimental'"
     ]
    }
   ],
   "source": [
    "AUTOTUNE = tf.data.experimental.AUTOTUNE"
   ]
  },
  {
   "cell_type": "markdown",
   "metadata": {
    "colab_type": "text",
    "id": "rxndJHNC8YPM"
   },
   "source": [
    "## Download and inspect the dataset"
   ]
  },
  {
   "cell_type": "markdown",
   "metadata": {
    "colab_type": "text",
    "id": "wO0InzL66URu"
   },
   "source": [
    "### Retrieve the images\n",
    "\n",
    "Before you start any training, you'll need a set of images to teach the network about the new classes you want to recognize. You've created an archive of creative-commons licensed flower photos to use initially."
   ]
  },
  {
   "cell_type": "code",
   "execution_count": 4,
   "metadata": {
    "colab": {},
    "colab_type": "code",
    "id": "rN-Pc6Zd6awg"
   },
   "outputs": [
    {
     "name": "stdout",
     "output_type": "stream",
     "text": [
      "/home/nvidia/.keras/datasets/flower_photos\n"
     ]
    }
   ],
   "source": [
    "import pathlib\n",
    "data_root_orig = tf.keras.utils.get_file('flower_photos',\n",
    "                                         'https://storage.googleapis.com/download.tensorflow.org/example_images/flower_photos.tgz',\n",
    "                                         untar=True)\n",
    "data_root = pathlib.Path(data_root_orig)\n",
    "print(data_root)"
   ]
  },
  {
   "cell_type": "markdown",
   "metadata": {
    "colab_type": "text",
    "id": "rFkFK74oO--g"
   },
   "source": [
    "After downloading 218MB, you should now have a copy of the flower photos available:"
   ]
  },
  {
   "cell_type": "code",
   "execution_count": 5,
   "metadata": {
    "colab": {},
    "colab_type": "code",
    "id": "7onR_lWE7Njj"
   },
   "outputs": [
    {
     "name": "stdout",
     "output_type": "stream",
     "text": [
      "/home/nvidia/.keras/datasets/flower_photos/tulips\n",
      "/home/nvidia/.keras/datasets/flower_photos/daisy\n",
      "/home/nvidia/.keras/datasets/flower_photos/roses\n",
      "/home/nvidia/.keras/datasets/flower_photos/LICENSE.txt\n",
      "/home/nvidia/.keras/datasets/flower_photos/sunflowers\n",
      "/home/nvidia/.keras/datasets/flower_photos/dandelion\n"
     ]
    }
   ],
   "source": [
    "for item in data_root.iterdir():\n",
    "  print(item)"
   ]
  },
  {
   "cell_type": "code",
   "execution_count": 6,
   "metadata": {
    "colab": {},
    "colab_type": "code",
    "id": "4yYX3ZRqGOuq"
   },
   "outputs": [
    {
     "data": {
      "text/plain": [
       "3670"
      ]
     },
     "execution_count": 6,
     "metadata": {},
     "output_type": "execute_result"
    }
   ],
   "source": [
    "import random\n",
    "all_image_paths = list(data_root.glob('*/*'))\n",
    "all_image_paths = [str(path) for path in all_image_paths]\n",
    "random.shuffle(all_image_paths)\n",
    "\n",
    "image_count = len(all_image_paths)\n",
    "image_count"
   ]
  },
  {
   "cell_type": "code",
   "execution_count": 7,
   "metadata": {
    "colab": {},
    "colab_type": "code",
    "id": "t_BbYnLjbltQ"
   },
   "outputs": [
    {
     "data": {
      "text/plain": [
       "['/home/nvidia/.keras/datasets/flower_photos/sunflowers/6080086410_17a02dcfb8.jpg',\n",
       " '/home/nvidia/.keras/datasets/flower_photos/sunflowers/3001531316_efae24d37d_n.jpg',\n",
       " '/home/nvidia/.keras/datasets/flower_photos/roses/4505921907_21c8002fde.jpg',\n",
       " '/home/nvidia/.keras/datasets/flower_photos/sunflowers/4868595281_1e58083785.jpg',\n",
       " '/home/nvidia/.keras/datasets/flower_photos/dandelion/13897156242_dca5d93075_m.jpg',\n",
       " '/home/nvidia/.keras/datasets/flower_photos/daisy/510844526_858b8fe4db.jpg',\n",
       " '/home/nvidia/.keras/datasets/flower_photos/tulips/4612075317_91eefff68c_n.jpg',\n",
       " '/home/nvidia/.keras/datasets/flower_photos/roses/5578766623_542c91dfaa_n.jpg',\n",
       " '/home/nvidia/.keras/datasets/flower_photos/sunflowers/9240005603_6a9b71dcea_n.jpg',\n",
       " '/home/nvidia/.keras/datasets/flower_photos/tulips/14087439392_969444f56e.jpg']"
      ]
     },
     "execution_count": 7,
     "metadata": {},
     "output_type": "execute_result"
    }
   ],
   "source": [
    "all_image_paths[:10]"
   ]
  },
  {
   "cell_type": "markdown",
   "metadata": {
    "colab_type": "text",
    "id": "vkM-IpB-6URx"
   },
   "source": [
    "### Inspect the images\n",
    "Now let's have a quick look at a couple of the images, so you know what you're dealing with:"
   ]
  },
  {
   "cell_type": "code",
   "execution_count": 8,
   "metadata": {
    "colab": {},
    "colab_type": "code",
    "id": "wNGateQJ6UR1"
   },
   "outputs": [],
   "source": [
    "import os\n",
    "attributions = (data_root/\"LICENSE.txt\").open(encoding='utf-8').readlines()[4:]\n",
    "attributions = [line.split(' CC-BY') for line in attributions]\n",
    "attributions = dict(attributions)"
   ]
  },
  {
   "cell_type": "code",
   "execution_count": 9,
   "metadata": {
    "colab": {},
    "colab_type": "code",
    "id": "jgowG2xu88Io"
   },
   "outputs": [],
   "source": [
    "import IPython.display as display\n",
    "\n",
    "def caption_image(image_path):\n",
    "    image_rel = pathlib.Path(image_path).relative_to(data_root)\n",
    "    return \"Image (CC BY 2.0) \" + ' - '.join(attributions[str(image_rel)].split(' - ')[:-1])\n"
   ]
  },
  {
   "cell_type": "code",
   "execution_count": 10,
   "metadata": {
    "colab": {},
    "colab_type": "code",
    "id": "YIjLi-nX0txI"
   },
   "outputs": [
    {
     "data": {
      "image/jpeg": "/9j/4AAQSkZJRgABAQAAAQABAAD/4gxYSUNDX1BST0ZJTEUAAQEAAAxITGlubwIQAABtbnRyUkdCIFhZWiAHzgACAAkABgAxAABhY3NwTVNGVAAAAABJRUMgc1JHQgAAAAAAAAAAAAAAAAAA9tYAAQAAAADTLUhQICAAAAAAAAAAAAAAAAAAAAAAAAAAAAAAAAAAAAAAAAAAAAAAAAAAAAAAAAAAAAAAABFjcHJ0AAABUAAAADNkZXNjAAABhAAAAGx3dHB0AAAB8AAAABRia3B0AAACBAAAABRyWFlaAAACGAAAABRnWFlaAAACLAAAABRiWFlaAAACQAAAABRkbW5kAAACVAAAAHBkbWRkAAACxAAAAIh2dWVkAAADTAAAAIZ2aWV3AAAD1AAAACRsdW1pAAAD+AAAABRtZWFzAAAEDAAAACR0ZWNoAAAEMAAAAAxyVFJDAAAEPAAACAxnVFJDAAAEPAAACAxiVFJDAAAEPAAACAx0ZXh0AAAAAENvcHlyaWdodCAoYykgMTk5OCBIZXdsZXR0LVBhY2thcmQgQ29tcGFueQAAZGVzYwAAAAAAAAASc1JHQiBJRUM2MTk2Ni0yLjEAAAAAAAAAAAAAABJzUkdCIElFQzYxOTY2LTIuMQAAAAAAAAAAAAAAAAAAAAAAAAAAAAAAAAAAAAAAAAAAAAAAAAAAAAAAAAAAAAAAAAAAWFlaIAAAAAAAAPNRAAEAAAABFsxYWVogAAAAAAAAAAAAAAAAAAAAAFhZWiAAAAAAAABvogAAOPUAAAOQWFlaIAAAAAAAAGKZAAC3hQAAGNpYWVogAAAAAAAAJKAAAA+EAAC2z2Rlc2MAAAAAAAAAFklFQyBodHRwOi8vd3d3LmllYy5jaAAAAAAAAAAAAAAAFklFQyBodHRwOi8vd3d3LmllYy5jaAAAAAAAAAAAAAAAAAAAAAAAAAAAAAAAAAAAAAAAAAAAAAAAAAAAAAAAAAAAAABkZXNjAAAAAAAAAC5JRUMgNjE5NjYtMi4xIERlZmF1bHQgUkdCIGNvbG91ciBzcGFjZSAtIHNSR0IAAAAAAAAAAAAAAC5JRUMgNjE5NjYtMi4xIERlZmF1bHQgUkdCIGNvbG91ciBzcGFjZSAtIHNSR0IAAAAAAAAAAAAAAAAAAAAAAAAAAAAAZGVzYwAAAAAAAAAsUmVmZXJlbmNlIFZpZXdpbmcgQ29uZGl0aW9uIGluIElFQzYxOTY2LTIuMQAAAAAAAAAAAAAALFJlZmVyZW5jZSBWaWV3aW5nIENvbmRpdGlvbiBpbiBJRUM2MTk2Ni0yLjEAAAAAAAAAAAAAAAAAAAAAAAAAAAAAAAAAAHZpZXcAAAAAABOk/gAUXy4AEM8UAAPtzAAEEwsAA1yeAAAAAVhZWiAAAAAAAEwJVgBQAAAAVx/nbWVhcwAAAAAAAAABAAAAAAAAAAAAAAAAAAAAAAAAAo8AAAACc2lnIAAAAABDUlQgY3VydgAAAAAAAAQAAAAABQAKAA8AFAAZAB4AIwAoAC0AMgA3ADsAQABFAEoATwBUAFkAXgBjAGgAbQByAHcAfACBAIYAiwCQAJUAmgCfAKQAqQCuALIAtwC8AMEAxgDLANAA1QDbAOAA5QDrAPAA9gD7AQEBBwENARMBGQEfASUBKwEyATgBPgFFAUwBUgFZAWABZwFuAXUBfAGDAYsBkgGaAaEBqQGxAbkBwQHJAdEB2QHhAekB8gH6AgMCDAIUAh0CJgIvAjgCQQJLAlQCXQJnAnECegKEAo4CmAKiAqwCtgLBAssC1QLgAusC9QMAAwsDFgMhAy0DOANDA08DWgNmA3IDfgOKA5YDogOuA7oDxwPTA+AD7AP5BAYEEwQgBC0EOwRIBFUEYwRxBH4EjASaBKgEtgTEBNME4QTwBP4FDQUcBSsFOgVJBVgFZwV3BYYFlgWmBbUFxQXVBeUF9gYGBhYGJwY3BkgGWQZqBnsGjAadBq8GwAbRBuMG9QcHBxkHKwc9B08HYQd0B4YHmQesB78H0gflB/gICwgfCDIIRghaCG4IggiWCKoIvgjSCOcI+wkQCSUJOglPCWQJeQmPCaQJugnPCeUJ+woRCicKPQpUCmoKgQqYCq4KxQrcCvMLCwsiCzkLUQtpC4ALmAuwC8gL4Qv5DBIMKgxDDFwMdQyODKcMwAzZDPMNDQ0mDUANWg10DY4NqQ3DDd4N+A4TDi4OSQ5kDn8Omw62DtIO7g8JDyUPQQ9eD3oPlg+zD88P7BAJECYQQxBhEH4QmxC5ENcQ9RETETERTxFtEYwRqhHJEegSBxImEkUSZBKEEqMSwxLjEwMTIxNDE2MTgxOkE8UT5RQGFCcUSRRqFIsUrRTOFPAVEhU0FVYVeBWbFb0V4BYDFiYWSRZsFo8WshbWFvoXHRdBF2UXiReuF9IX9xgbGEAYZRiKGK8Y1Rj6GSAZRRlrGZEZtxndGgQaKhpRGncanhrFGuwbFBs7G2MbihuyG9ocAhwqHFIcexyjHMwc9R0eHUcdcB2ZHcMd7B4WHkAeah6UHr4e6R8THz4faR+UH78f6iAVIEEgbCCYIMQg8CEcIUghdSGhIc4h+yInIlUigiKvIt0jCiM4I2YjlCPCI/AkHyRNJHwkqyTaJQklOCVoJZclxyX3JicmVyaHJrcm6CcYJ0kneierJ9woDSg/KHEooijUKQYpOClrKZ0p0CoCKjUqaCqbKs8rAis2K2krnSvRLAUsOSxuLKIs1y0MLUEtdi2rLeEuFi5MLoIuty7uLyQvWi+RL8cv/jA1MGwwpDDbMRIxSjGCMbox8jIqMmMymzLUMw0zRjN/M7gz8TQrNGU0njTYNRM1TTWHNcI1/TY3NnI2rjbpNyQ3YDecN9c4FDhQOIw4yDkFOUI5fzm8Ofk6Njp0OrI67zstO2s7qjvoPCc8ZTykPOM9Ij1hPaE94D4gPmA+oD7gPyE/YT+iP+JAI0BkQKZA50EpQWpBrEHuQjBCckK1QvdDOkN9Q8BEA0RHRIpEzkUSRVVFmkXeRiJGZ0arRvBHNUd7R8BIBUhLSJFI10kdSWNJqUnwSjdKfUrESwxLU0uaS+JMKkxyTLpNAk1KTZNN3E4lTm5Ot08AT0lPk0/dUCdQcVC7UQZRUFGbUeZSMVJ8UsdTE1NfU6pT9lRCVI9U21UoVXVVwlYPVlxWqVb3V0RXklfgWC9YfVjLWRpZaVm4WgdaVlqmWvVbRVuVW+VcNVyGXNZdJ114XcleGl5sXr1fD19hX7NgBWBXYKpg/GFPYaJh9WJJYpxi8GNDY5dj62RAZJRk6WU9ZZJl52Y9ZpJm6Gc9Z5Nn6Wg/aJZo7GlDaZpp8WpIap9q92tPa6dr/2xXbK9tCG1gbbluEm5rbsRvHm94b9FwK3CGcOBxOnGVcfByS3KmcwFzXXO4dBR0cHTMdSh1hXXhdj52m3b4d1Z3s3gReG54zHkqeYl553pGeqV7BHtje8J8IXyBfOF9QX2hfgF+Yn7CfyN/hH/lgEeAqIEKgWuBzYIwgpKC9INXg7qEHYSAhOOFR4Wrhg6GcobXhzuHn4gEiGmIzokziZmJ/opkisqLMIuWi/yMY4zKjTGNmI3/jmaOzo82j56QBpBukNaRP5GokhGSepLjk02TtpQglIqU9JVflcmWNJaflwqXdZfgmEyYuJkkmZCZ/JpomtWbQpuvnByciZz3nWSd0p5Anq6fHZ+Ln/qgaaDYoUehtqImopajBqN2o+akVqTHpTilqaYapoum/adup+CoUqjEqTepqaocqo+rAqt1q+msXKzQrUStuK4trqGvFq+LsACwdbDqsWCx1rJLssKzOLOutCW0nLUTtYq2AbZ5tvC3aLfguFm40blKucK6O7q1uy67p7whvJu9Fb2Pvgq+hL7/v3q/9cBwwOzBZ8Hjwl/C28NYw9TEUcTOxUvFyMZGxsPHQce/yD3IvMk6ybnKOMq3yzbLtsw1zLXNNc21zjbOts83z7jQOdC60TzRvtI/0sHTRNPG1EnUy9VO1dHWVdbY11zX4Nhk2OjZbNnx2nba+9uA3AXcit0Q3ZbeHN6i3ynfr+A24L3hROHM4lPi2+Nj4+vkc+T85YTmDeaW5x/nqegy6LzpRunQ6lvq5etw6/vshu0R7ZzuKO6070DvzPBY8OXxcvH/8ozzGfOn9DT0wvVQ9d72bfb794r4Gfio+Tj5x/pX+uf7d/wH/Jj9Kf26/kv+3P9t////2wBDAAMCAgMCAgMDAwMEAwMEBQgFBQQEBQoHBwYIDAoMDAsKCwsNDhIQDQ4RDgsLEBYQERMUFRUVDA8XGBYUGBIUFRT/2wBDAQMEBAUEBQkFBQkUDQsNFBQUFBQUFBQUFBQUFBQUFBQUFBQUFBQUFBQUFBQUFBQUFBQUFBQUFBQUFBQUFBQUFBT/wAARCADwALQDAREAAhEBAxEB/8QAHQAAAgIDAQEBAAAAAAAAAAAABgcFCAMECQIBAP/EAEYQAAIBAwMDAgQEBAMFBQcFAAECAwQFEQYSIQAHMRNBCBQiUTJhcYEVI0KRFlKhCSRicrEXJTNDkhgZgoPB0fBTZHPh8f/EABwBAAEFAQEBAAAAAAAAAAAAAAQBAgMFBgcACP/EAD8RAAEDAgQDBgUEAQIFAwUAAAECAxEAIQQSMUEFUWETInGBkaEGscHR8BQy4fEjQlIVM2KCkiSiwgcWQ3Li/9oADAMBAAIRAxEAPwDmNKSGcE7vzz0+hYr4Szqo5x9+vUsUf9tNMUmp7iY5K+a3imWJ/WjYgyM8wRkQqp2sY2bGeMqcnnHQOJd7JJtc/l6Qa3qw0Vuhoe32o7fSym6TUssdQROJDRtGXx6UMkQIId0Z5RlY8syqdqqzVCTcL/I9/CnpuY0pFXXST6s1bWMDR6dr22yS0dTUfQ8sh/lxRKoJG7gBTnaBlm6s0rKECb07MNqCrtbamy14o6uNoapEUlfPBUEDP6c/v+XUwIUJFIIN6wUde1PVR1UaxFo2UhaiJJkyPYqwKsPyIPXinMMp+3ypSJ0qaqdY3CtwkzxCFacQfLwpsQkENuwOAdwUnGM4PjjqDsESLaGfp8jUcVem86g0jrLsx25qNRXK06dv9ZYrDVehXTpDPPHHWvRtIobDODBRJIWxyGz4I6eptUCL1OCNKplPfrNqmiRqkR0V4rY6VDKAwVJdxjYY3YAwEdiR7nqAsrQoqGgn8+dRSRYUE1F9qKeG50bCGonkm2PUMok2qgZSEzwA2eT/AMK4xjosJBg06K06m5VFexeeoeeQOXaWVizOTyxZjySTzz9z06LzTIiv0byyxF8O0asASAfpz+fXqckHWslRVSKI4ZFEaf8ACAMjPv8Av07anlSoivhqik6xBiiJ+EoTx+YP689LeLU3Maevw1JVCa+V8skkkJjRHcuxAJbP1c8/v0qbqillQBUBIphaa1DJNrKgjFZPUwwVZMJqnRzCHpS+AyjwDnGeRyPbouDluaDcKS5KRFLX4oL/AFlyv9NbrlQC3XO106U9TEpUglv5oOQM7gsoBByQQRnAHQDaYWpVoP8AV/wetTpMzQ32Gt11umoK6lskNbNcaiglVPk5Fj9NQVdpHY8YUKT+o8gZ6C4kUIbSV6SKcY3qD7m1F2tmoGs1beay601JLvSWapkkSVid28Kx4Ybtv34/PHTMIEKR2gRlJtoJEbW9alSQbiiTR2tbjfq/T+n7gsE1uoxLSURljH+7q31HA8EhlJHjJZs/iPXn2UhKnEa/OmOJ1VQhde4N4mrY5aaoEMNPMZqZliG9OTg5O4j8RyAcHPOepUMNgZSPHlTuyhMnetJtQKXZqiklE7ndIWIyznlmOUzycnnOBgZOM9J2J/0KEeH81GRyNQLMGQDZn7N79WtMog0Boyq13qOG1U00NKm1p6mqqHCx00C49SRifZQfHv1E66Gk5vTxpxterGaP7CWy0X60tPJVfL0lMK2WoDLE00vphgpBJKpjc6nBx9AIy2OqJ3EuOAkb/Lp1/mo5rf1Gy2zWFwTSFUsVvRJ6ZySxplkMbR1EbjJ3KwVSHH9O0+TzEgdmkFX809JEGaCtG9iIrjdbQ95vVura4VaVM9rp5/UWanXc31SqMKPpXfjlVYngjo1WIJBCBHXrSZgLgUodV6kq9Q13p1vpKsDgQJTKqJGPTVNox+LhE5POQT7noxtAQLVIEwJofzgsG+oE4/fqWlBrECcFd2MA8njHTwKYTRdcqipueg7deZqmeaanrJrUUkm3JDAI4XgRFP4QC1R44GF6XLThpQtDE1Q3pu+McknJAH36jUYuKYImo9XEZbwVORx1JtT62AA6AqAGx49iPt02m71MaXv1RaZaiNWUJURNGwbleR5I/L79LOW4qVtxTZ7u9RlyLNJ6bDAUfSc56RNRzW7Q2JbzDRw0crvcJGZXjYAKB7EH++elElURSFYTrVh+1mhrr2tutVQ10qTT1dFDV7I2O2ME5wynww6naCr14PZZSN62Nfakj0xf6VLNZpBqMxSBqc0+xYzLE0cTvjjy5YZ88ffpuZIFt6YW1k30FIG/0NbQ2q3mucu9ZEKuEsSzPGxZQxJ852HodopJITsY9v5qQRtTd+E7U9Xpq4apjtopP4ncLelNE1VSGf8Al7y0qKw/8MuuF3foOqHjjaXG2is2SZPpUTyiEwnep/UXZW9dxry2n7Lp6aoayvvNTRBVQxOZXG1mY712xOQR4I5wNo6rEcQZwpSS5JVaLnTw01320pzQyAX1pF6wopLLeHSGcOjw09WrxN5MsCSZ48H+ZyPY5Ht1rkXF6NULxWLQVMtyvM0cqU8yJSzOIquUxoTxjGAct9h7n36CxspblBIMi4qB1SsoFMqO06W0+BBq6mvstxnC1cLUDoY/l5VEkY3NncQGIJzx48g9Vw7RwS0BGl7XFqg//WkeZNpCqAVx9utTFLE601Ph41bVWrVi2WKC2tQ3Nw9dJcE+n04lZ1R2wT6e7GVA+rIByOOgMYhJRnVtSnTWnfU3lNJajsc96krY7ncatRfFpaqBDG8kqgwOJC6mEsYXwu0gRnONoxVZS6leTTa3238t96QaxUFqfXFLpp62ktdlNDQGvnZKiIQ1iz17bWmdcmT1DH+HepYHaCCN46VDZcIUtU+PLavBKlkRSLvGoqqkqokoLtWOYWmkjm2+iytLky+DkBsnjPv1bJG5EU4AxpQtO+ZG2JsVht2gn7Z9/wC/U+utSQa+/Q8LEklzjDewOOmmZtSK1rTk3lygAOOMAZ6mGlMozgVqrs9cBhRJHfaYEE4zmnqDwf8A4P3OPPOPCBNOnf8ANqEqdXp2yzkD8JKH2/8A86jJmmEg3Fajr6chC8hWwCfcdPp5Net+W3AYBxkD7/l0w0lbFAC1Rt3hs/n140hE1uXp56+VGmkMrkAKwGM8+59+mpgCBXrDStGOrkonR4naN0P0uOCPz6eOdeKZ1pz9t9bVaUZra2S43CFYWpHIUzCPJyCeOB54yep0OAamm9mqMyRRnJ3Dg1n3JpLxWLQwPUzUwdYpG9MelTeiNwcA5JRWGeATxnp6TaIqMiIpf/ETqWxag1t6lms9TZ6eOniX05dsTOTGpyYyTsAzgADBxuGd2eq5KS2tRSbEz4fhv51KgETNRXZaql/xcaGCrraGOrpZ45qikDuVQRs53rF9RTKjdjwMn26HxiC42DFwZp2QlQMxH28RV/ex9x07267QVmrqapS4T26wtfLgiI8UcTVUUxoIDGfp+p43Ubt5JkOTskUjlvEEYnH404QHKgqCZsLpPeg+exggR+4EV4pzER8o1/POuZlV/KjhjLMSkaIdx9woB/bjjrroveiDRZ2S0pBrjufa7FPXtbpKxZBTziPeDMqmRY2H2cIUB4wWUk4z1V8UfXhsGt5AnLrrpubTprodKicnLarOv8NB1JW1a1HcPTVrpbdL/D6JZzTSvLDGq/US80RG1zJHtAYKYyodgM9ZIccZbQnO04VESYSSL9RO1/Aih0mBeqQogXJyB5GT10uaeTzqT09e6nTN5pblTJHK0LqzQzoskUwBBKSIwIdTgZBBHA46YtAcSUmvU4e5UL6nWmu8tfZ3pLjZxfgtJOI/Qk+lWpCvOJAVYCNclQc8KrKK1o5SUwbGPLnSixihyjuNup7GlQt9lrr9UTpW+vU0ZWf12xvVKjDSE7t4JZlVvxYJ6VQWVwEwnTX6ae0inrsRlM86AZxJHO0Eqen6blJUQbeQcH9+ixXiDFYpZBAWwm3P9JGT/wDnjpxHKkyzXh6mOQhpIkcgcAfT/oMdNilKa+TKZmBjGATwATx+nT0mKZYXort8sg7Q38MPTSG/W0bMc5amuHOf/ln/AE6fFjSETb82oO9QuXDeD5x7dMjelivEyqrfiz+fjrwmnCviMMDaNxJ5GekNIa9qpMysNvnn2z0k0lT9bmrog0Krsp4t4Yptdju+olh+Lzx+QA6ZZKvGnxNQMoDNuIDKRx1JTabGidUUNj0VSQUsEdNcEr0kebhpKhShDKwL8Rjjwnn+r26TKFmCKjBUkk00+6+if8B2rQ9xqkS60GprSK/1qinEbRuKOCodEkQ/Vg1G3HBAAzknokNoIkCkClhRB8qT3fzQsnbjX1w07d7fPRXKgkaCRVctG+12TejHllyrAZH9JHGMdBqzhcDSpkqzCQKmvhQorPcu9Fmo7raYrrRTJOFjq3wkUgiYxuQXVSNwUYcOp3YKN0Bj2lvMFCVZeo/miGmDiVhoKid9avV33eWH4Y9XaUgtFksj1Fplu89LptQKWH0aqGTZtiiQbpPTqVJxx6iFicELz/h2Hdc4mFqBJTclVrRAE3JKSoGCTaEzah0NrQvKbgVzAuKzpPunLMXUFZGz9ajgEflxj9uunpIi1EEc6y6btlLd73DS1dWKKnZJHMxjEn1KjMi7SRnLhR+QJPt1G6pSUEoTJ/n7VGs5UyBNe665vT3CrEEk6K0rElCItx8ElVOAePYn9T01LeZIzxPr7mocpI1qEGOR9/HPVlXq+tjZtGRj3+/Sb16jXQ4WO0VUlzieosbS+k8MT7H9RguXyAT9ICnnj29z1E62SO0TY1EpYCgmpnXf+FrdY7dbtOy/xOaByKuvYFfW/lRhRtPjDCQgDxu5zngRlLqipS7DapJ71AEgEG1DGysVBIIwQepqlnlX2QYbcQc44PS02TpXgUiZyy7fckHx0smvSTX14yE9PILHkf8A268DSASaK7XDIeymrpNmVTUdkUvu8E0l3IGPz2n+359TC4ilAvH5tQg1DUQ08M00E0Ec43xO8ZVZFyRlSfxDIIyPcH7dRk3ivEEV5eKN4WfdiRTj09vt/mz7/p02YpRArUZMlc/3HSzSmpG1W6WtmVicRghCx9s+OmmYtTQMxip9LbU0oNGPo3n05UfxtyrA8+M4Bz14o0VXulQaW6SpO1U3JvIXB+wGf9COl0r1Etpq5qWCOH5dHT2R/q/XHTwoDUV4JNTEl9Sqggp6qOp9GDd6UYqGKxbgFbapJC5AAOAMgD7Dp4UI1r2Wv3efuFe+6+oFvuobq93uSwin+bkjVHZTLNKdwUAZLyuc4H+nQylwvLXtK2Ph/R07nW2KMt606SRoEbaQQpk8/wDyzx01YUsd3apUKCTJq2fce3yWDSGoJ7XJVW+OeyXJZ3gmwvpiimdoyp8qxUZx489MSc6SfD3MVMqxAmqNaqoHoqv0ZZC8sRaIgniMqxBXHsM5IH59PQZE0ihBitTS1GldqOgpJKyW3JUyGAVMX4o2cFUPkcbioP8Awk9STFRkTapXuJoSs7e6vuFjrVlDU75ikmXaZojzHJ+jLg/v0sKGovUWaNKF6uM0VwjAwwTDAHxgknHUyXMwzUxBzJJozs2pI7RQPST6Qsd4kaQyfM1kcglAP9O5HXgfl0U3i2kphbYV1Mz7EUA42VqlLik+EfUVrUeo7vHbJrNFbaYQ1Jzk71PkN/mx4UDnJwPvjqFeKQhs5hapFNtz2hVpXu02a3UkRMyPXVXl2kQrEDzgKOCf3/t1nnsS8owk5U+9MU4tWlh71LrUUD1wrK61UsuMSCOePAcY/q+448fYdChbwgIWSfWmha0mUmtG8abp7i0tXam9F/xPRyMMgk+FPjOSMKM55+3MzONWk5cR6gfTl12opvEQcq6IOwumrDqbWN/gvdvku1NQWWrr0il9aOJXjXO6X0iGAHgcqN2M8cdXD8JbzINWOGQlxYSuiTX/AGoj072C0fe6fTklBcbg89S1dVU9RFV1UYlKIV9STY8JUKy+mmSDkk4YiFLyUvhpRuRP5tT1IQMP282Bjp61AyW6z0/wu1lfFWyteqvV0FPU0RRcU8VPb6iSN3O/K+q1bOE+jB+Xk5GOjVK/yQnSPefzw86GAlOY8/a1Nnup8Neo9Hdiu22p9a22loaee3JSia3ypUS00TSSSQGdd6EO/qkERh9gQbjklQQxw5911TmiOs6+n5yp7uJaLQaH7x8qrJcLX6cw+V2zFHxknggfrjoVzI2ooVrQYXsaxavjpqaphhpVUxquVkAKl1PPK54IYN+ufyHTEnMSRRI7yBUlaqKVbfCyIsiuRJ9LY/bn9On9q0kZSaH7RKFXNTFzqZrlWGoajKfyooiANwbbGEJ4PuRnrwdbyxmp3apzTNQNrpKpVYvBKg9UElkIAyQPt9+nBxERIr2cHQ0Q2CCja9EXVKmO17n9U0o/m4wfwEgjJIHkHz04KaUR3h6ikzp5+9e5qKegrqqKaOJmgRyoQ71cIm4DcPJIBGR7n368tKcxTI9RXkPApBmhy61iRh0kVkJkLEAY+/HP6/6dBFP+SakF71KdsL9HZu4OnbgzmOKGuhEjkqAqMwR2yxAGFZjyQPuQOepsubu0txer2927JS3Pthqa9Fq2nWn05cnplkSJFlWSik2twzZBDAgqcEYIJ4zBKWe4rcj523050Y204+nOiIEzfkDPnaqBatuk2pbtW3qQb6iukNRU85zM3Lt+7En9+noASAnlTFEqM0O08kkFTHMjtFMjbldDgq3sQfuOnnSozzpsdwdSUPfKvtuoNSXQU12iolo5Up4IYl+mSRskBlzy55I8YHt0inHFG/skfSpEpZA7tvFRPz26Una6b5ird8g58Y6IQkpTBoZAyiKm6auZ6eNsgnaASX546HLd5oYoE1tLc3o6dtn0yTZX1ExuCgZ4PtzjoV1AcUOQ9KjUmTWlLdXkjIDPGD4lPO7nwR/oD/8AXpA1eTenBF6yivKpyQy42KefP546ZkvSZJr8l0Z5FJRlYZwTyPz692Ub0pbgVYjTncVu23YanWa22W/UeoaqarqLbcaiZPU9N4UH8uF19RuWAZ+VEjFfLdWODUgN5AbiZ8NhRTbakthU22o0+JDU+oj2d7bW6vo3hpLhb6a8QQku5pvKCMu31bsiTIPtg5PtVnApTjl4spupIE38/Dy13rOHF5MOeGlVkqWTpF9DrMjSpbunV01t+EL4bljtsFJFPqK6TSVNIIoEaWnr6iJRUkLuLeluw4zysu7JI6uWcyVoUmx/r80NXrK1OYdBc1yj5fn91i+J7WGnrhojt3pmrtmoPmKS1xVFBVVFRFA9QkigrVywtG6kS+o5UJLtP1EgEkC5S7jncNlBTvrM2ttAFtNTRYRhUOFVzMaae9z6Rype374StQT3IVFv1No2vaqRJVjW8Q055TJB37VUjwQDjPXP2+K5UEOsOCJk5SfqSae+kuuFSBA9Plb0pH9xNMXG23j5N4ZJ6W30sdIsww0STbQ86I68OvrSTFSM5Vhz1dtuIIgWJvG/mK8QQAkbD+/etzRdpa6adaZaaVxTu0cjxVaRsvuPpZScdB4l4NugE69D86rXgoKmLVnktojWNxVTqW5H8+NiP1AUHpA5MgpHv96hzH/bW9SGqVYTPXD5SOVJN38Op5GbDAgNkrvGR+EnBI6QFuSIIm1ia8FAH9vvTV0RqujobcxnultpYHdlWe6dvKC4xf8ArM7uGx7BcD2PQjmCwbqoUVz0WofI07M3yPzpwad1Fo24WxvS152qq2ponqJ6S8dsqihBjRS7YIZUcjB4HJwBk9Rf8Jwcglxd7f8AMPlrUiQ2bT6/1VRu9WsbB3K1hUXmksti07CqehFBp+1m3JOiu2ySWATyqspUgMUbH0jyeTcYXDpwqMiFEif9RJPqdulECYgCoHt1qej0Bq2ivkVotGoTTElaG+08k9K5IxlkSVGJGcj6uCM9EOtJfQW1KIncGD60pkiCKsbrf4o9HXvttqfTdn07YrXd79R+gxtekY7eUZtgfNR89I4+gY/C2cfnxVt4RTbwX2jhAO61R6bjoZpG0oSYAP0qqEUzIssfG1hhgR+eePt48jq3oivzSR0brO8S1ATkxOSA37jn7HpFpKhAMGmLkixrGmpRHkJb6RRnwY8/69C/pidVn1oXsidzRxbdK6Sq/QFbdKqmmZAXi+WwEJGQd3uCCCOPB6HVicSD3UAjx/POoytQ3rxcNBWaFAaO9R1PPKlGjK/bzkHpyMc9/rQR5g0naneo+p0Tm31DQVySNCjSRxSPgyEYyq8ckjx1IcWCoBQ/OteDwJvQZIBSxx8fjTcCG58kYI/UHjor9xooAkzW3DViokRpoUMSxhWQEIWAB5z9/wDrjr0XqUaidqxxuZTvZmAC8ewBx03LsKjKKL4btctT2u1z3GvqHprMvytIF/BTqN0g2jxnPv5OOScdGYdlCSQBremuOKQITTR70a41TVXmtoLxdv4v8nJDQqkxJKBKeNw6gHAJEmC2M+env4dCRmBIA2mq9tphZcWtAKlnMTvrty0vzov133ROoPhj7c0VntkFBadB3q3QUzvl3qK2elrnrGkV8gK0tIJwvI/3ph44A5KlICidZ8oMeu/nVu24gmQNPf8AjbypHa0k1TfNTCS+tJJUwxRmJFdjHTQhQqRoOdiqqKAB4wOphjW3xKVQNB5VIvDLZUUKFxfyNN6u766CrqGOIaW1TYpRGkc0lqvsbJIMANlJg34v16zSMJjkE/5woclJ+0VCHL61H37XHbXUUdU0mkdR0rsmKWopzRBoycZLYADcDjHnJ/LqNGFxrVwtJ5iFR87U0vCbUAOe34mBmi1EXXdnc1KrZzkcjngf69WAOMiIT/7qZ2pO1StnvPa63STfPWfUd0Q49KV6mBHQY5zgHJz4/IdQqb4guIUlPMQabmXyr1B3A0fbq2WS2aeuEm5cKKoxu4b8iBjGce3t0xWAxLyMq1jymKYUqoSvV9uV0mkqqOgloYwDuMce0EZ8k4HRjfD+zF70qEo0VrQjV3SrqCVed+f8x6ISyhN4qbIAdK0Z6YHayncp8P43c4zj26IAqSa2qGHYd23dgE489eKa9NZLfRM0jNMu12RsbuMceeemm1OSL15WI8ZQ/wDN0tLWWSllqoJFRQyH6SQR14qAputSFBohaynDpHWOAcErESM/sD0Mp1QMWqEh3ZNM3W/xDVusKeCnGmbDakjCxMKKFogVTbswM4Tw3CYzuYeMAZPCcERhlKV2qlZr3jUkk/P2HWRFIzi5pUXLVVfP9CSlQM5wPOetM1hm03Ip6WU7itKLU10j2gVb5xwD1KcMyf8ATUhZb5VrPVgVIqJ4EnMgJKvkKT+3v1OAAMoqRCYECvEDqZRtUEHjacN548fv0ulS32phC80EmkqS0poGgqKyFHD3aolnWVydxDDaygEZXg5H08jnoANrS8pwvHL/ALbQPaahLl5KrVq0UlZT2SqtkUFto4KmoFQU9QyuCEdQN29iFw5GOfAJ5HR6Xyi1z5f1USlpOsmtyqS86iuM9wrrhS1VTOweadItzOQoUZOABgKB7dNXiMwOYVGXEJEAGpCmorvNY3swvdSlraq+eW3p/wCEZwhT1SvjcE+ndjwT7dDfqhlyxA/PtTe2CTZNalZo2rqmVmqqh3UBW3MSWGcec8/t9uojikpsABT/ANSsyTWpPpGVHRCkAc/hDHYP7k+Tjyf+nPUgdzG41pofI1qPjNVp6Z1niLQlsfkVznKE+P8A8GOiUODYzRYKXR3albXJb7lVrNJRQ1oXzBI7AkfmRgj9ef36IBBuKaQUiKsHoW59kLdJAlfbLzcalomeVDTw04gcYwmJHnEgJ8HC5H+U8dVmIxj7IhTfmCY/PH3ohDSFnWaPjqTtZXWKoaLR1DRVMCtKklvoqeOqaMeMsyFXbg5/lgD8wMkFHFXFnu7fnOiDhkcvagi/6M0nqCguM9q0fqu5LTzD5q6Xe4TU9ooqcfieV4IIV3D8O1SAXKqu7PU44i6tM5rHTQ/nnFN/ToTcJogs3aHtFV36zxWvt/NfaSarkhlMNxrmWaJY3kWSSRpkiQAR7sMMN6bnG1T0IMeuP3CeVvS0wR+Gpw0kmqx/EZabXY+8eoKCzaeOlLXD8r6FnZmY04NLCzcsSSGZmfk+HHV1g3C6ylfP6Eig3BlWQKHO29NS1uvNNU1bTmsoprnSxz0yuEM0bTKGQMeF3AkZPAzk9EuiUKExY35W1pg1rpBYuyPbWFIKur7V2sRxN6wjt1WaqYRHEhSQkhZCgOGGN/0t+JRk4h84xEHtiRa/O+huQNenoIolTSycyVR0qesvwz9l2T16KxGSRSsjRVU+2anXnPqru3EHI+oZVvbcPqNE9xHGsLylZmbSABHp4fLahlrfaVBMeQof1V2G7WXGqWhFzutFJIzRJR0jS7WIYAqkTwvhQSOcY98456RGP4pmmxgTYD56e9PC8Uq32oEqvg30rVVtT/C9TXyqpo5ChET07+i2AdhKxYyAQf0I6JRx3FhIlseiv5qRBWoSTXPuWV5QwVS2DnjroKUUAE0VaJ7QXjXtWM1dvstO6MUqbrVpEm4EALtJ3ZOeAASft79OceQwBMk8gJNeLzaLE3p/2f4Wu0dttsct719caytZcSQUMawxQsUkziWRRvwQnO3g7R9WSBRO8XdSkqQz6npOwN9B50w4lO1Tlr+GzsBXxRVMuubtb5gyJLSmJJXYBR9aDHBf8WDuHnGAQBUPcY4qDkQwknxIB08CLH8m0YfkXtRFR/Dn8OtzSiRe5F5jMA2sJ440aRjkEkekNuOOADjHk9VrnHeMIn/AlPko+Oip8r+NKHRqKYWmvhW+Gx7k0dPd6i7uSjrDX3pgGJYhVAi9M4PvksfH2Oa93jfGFkgDKNoQJmf+qQLW3id6cVybGjGT4Muy14o43ps0se1gjW2tjUEtjLHKtuK4O3cTjJzn3ER8Q8UQMq1zEagfSJpSkxc1sJ8DfaqponhpYrpvZy4ea4K7k4HhdoXH0t7c7j5wuCE/EOPebISEgmb/AME/edKXIkjShTWPwHaauCO2mtQ1trmlcusdREJo9pwVQAFTx7k7uQpG3BDMb+InGkiU5xzuDpI223tHI1EW00rL78FWt9MUINAlLekYcPbako+fzWRR/oefz9rFHxBh3RLqSB1E/K/tTSi1qU117La8ss2K2w3GBgrN9VOdpUYJOR+R/wCvV1hsfhnEw24J5T+fKmBBNDD0UkTSwVtAqgABkaIR4GQeBjz49s49wOrFOJH7jXgg7UPS6PE9RI9G6oxbgYIBH6e39+jEY1GhNGIcULLFY0aqoKhI60y0s8LBoapCV2EeGDqcqRxhhyPy6sUupWkiaIEG6aLxr3V9NOsw1LfnqVTHqtdJywUMCAG3+Awzj8gfPTgy0vRI9BSZlc6+XHunratphBW6qv1TBE6SJHPc52RHT8BVSxAK+xAyPbppwzJuWx/4j7U0OL/3H1NYqDurqu0OZKbUNdGzuX3SSmclyFDE7w3kRoD99oB8dNOFw+obA8hShxabA+9LjuPqC5ar1dcLvd6yS43OsKyT1U2N8jbFGTwPYD29uiWG0MoCGxAE6CNSSfc0uYqua0tI1sdu1JaquZzHBT1cM0jqMlVVwxIH5AZ/bqZwEoIGpFOSYIq/Ugrb3orSN7bVCQ2bUlcsXztoHylQUaN3nl3Y2xsio5JJJDfSwIGBkStTSymBI16XEeVx5coqzABE7VIWTvDbauspas01UhraiOGmnpp6qQyOmYtyx+qqBAsZX6kZWAyckA9Mew6VtqaOkb6c/I/kUzuqsoSKan+Ji6wyU1fDXUJqRE/8OhZ2LjJZSCuFPH4RnwcMfHWTxPCuyUexOnMi3nafah1YcH/l1hlr7wqQPDY6yqSWMPk3OGIJ7YC8YHGf1JHt0AEOJ7q1xH/ST8x7UOe3TYEW/N6QdL/s89SW6Gsjs9RRzzLhEllk2I4JGd+RnldpGPc/l1eN/FQWlRWCOg3qtWla9TRFpn4BtRSJC18vNvpXRizrSSetuHsrAjg5/Px1G78SZQQhFxzP0pqcOd6Obf8AAXZEtcNNPePVkKen60NN9RPqF+fs3LJu/wApAxkZ6BHxA86OyS2L3Hz6dfWpQxa4qJvHwFVyhpKHVNPCg9FDHIjEqCoDsQefKtgD7jqYcVUVF1aRGmt9OR8PtTSx1rW/93uvrpHV6tiZHyNyU+Co8j6SfJGePvjqVzjiUEJaE+NL2A1msVb8ATWpUlXWVMmxnUetGIgpHCjexwWJGMffqJzjTkJCkC8zOluR3n50ow86VPWX4Nb5bt0kWsZ6GBU+sxxhgjZHOTxj2+/jqle4xhwgrdbGXn+bzU7WEU4rKm9FUfaXX1oudBa7T3GsVzrHjV5qBnaCWIHLAhuVbjJK+cjHuOmu4jAvAFVhGaBcBMTPUxsN7UWcE4Ej0oj0rb+41PqIWO9VdjigViEqRWqVlAAYkfSDggsTn3Ujk9VGJd4cUBTToy7RIBE7Exa8+VO/4diCSCmwpo1cdspbXXVdrucWoZqGYQNT0jpvJ43mNCcsqlsdFHDNNlwpdzBBACiQAdP2z/pBMGaQ4RaQMtzyoksGjlnqUkmiSrJpTNLSFFGJGQmNW5xwfP6dPYbU9iFshOchGYEEZSpSVZRtoRJ6Ak2FSN4bLlW4bE3+tQl37S6DvrJJq61WyulqsosESr9IRWHLjkgKFA5GMge3UGAxzSGkF9zM4QBCTZISkkmdCCAkDqqNqJ/RkrUpA7o50u9I/DP2UppbnqBbBTz2hUVIfn6hpIwyPyVjBBByeSTgj26kd+IAMKXUvpTEWUnMozYQBFp509vAuB3JkmaHtd/Bb2yuN2vu2eeknuxSqohSsI6a3hI3Z1UNkHduVyrf5VweD1ZDjr7LjeGbUkmxUq6QEwSbbKgaHoKb+iSsKXccvH7TS3178GGkb3pe0WrRVStruVtpaY3C5Vu+SO4M8YEhKDPpsJN3jgYx9urfAfFWIefcXlzMAJyxMlRSnN6KzCh8UyGWWwT/AJDqPznSd1f8CfcKiineirbRXiNSyRPMUlkAzuUKfccf361TfxKx3Q+gom9yDby/uqsQNaUOoPhs7u2FIZJ9ITPCZ2gLU5VwCoyWKqSduM4OPuPPVuji+BcEh4U6UAa0mNZ2m52W+1FDeKKW3XOHaJ6WdCjxkqCMg8jKlT+hHVwy4hxIWgyDuKkERaoeFtoPnn/Xqc3p1Mez37UU0VJQWm9T07bj6MME7KqEnLYUnaM8k54Pv0A6hsd5d6clxQsKslpHWlHfdQWJ204+la+Tb8xcqZ6Z6NZSrZk9MHesbZA9McLwcZ6onkFoZm1gxseX3qwQvNZQisesktunKCn/AMOzfOy0cjyyn03l2lid3qPtxk8+/Ht15GdRAI11ry1JSda+wfFjPb/Up6yyTV8sbY+ZWYr6nAJOMf5i39uldwbpUOz0ryX0xeujjVNNVNw8zhH3AgYX7Hn9R7DH2PXFCELGdJ9pA3Nx9r30iqiU8qywQpG2PlZakk7l2g4J87cnIz/19h1K2iDJTm/Ji+/4L1ICgaCtlKyeIMkjRvtIJDoU5z4PIPnjB/L38SK7RslCkgxtcaa8iORFezk60oaL4nbBf9TSWjCUtuRsQXRnOJyrckrzhDggD6vA554meACyjKBG5m8bWnw301olWGWQCKiNZd/6e7afuVNaU/hzmQwb1UPIVcMDhmz+ufP59ZNGMx6l5VhOUmRGw5T89zWme4cygA7iq+3DujXVKx22vu3rx0zNLRpPKMFPpO/Hvhy2T9/0HWgdwzpaQUg5fW8m3t6UCy2CVEC8/SrC6h7oagummKq1CO4JVWh0o6+amgYLC2xfocKhxkepu3Ebhz1TdnjXVF1+YEgTpH7QBAgbk396sltsstoLcHMAdfM0otLTXeTuPRzRpX2qKJlr4a2qpZYopUC7kCyEYYOVCjBPk4zgjq1TgXMK02sjLmEpnfwggxPKPEUA46nKVm8agH896cmvNeV2qNUXe3Q09Qlnt9eiNO1GUcN6UoSRQ21trIjge2cHjIHVErAP955xRU3mAECxAsmAbgwmSNtxNWKHmG0IDagVqTsQYm5mOppb6TNBY79eCLk9MtNDNSmCsYCZJQxU8qPyOTgePc9G4jDvEdkpMKm45eM3nbx1igm1oST6Ct3QPfVtPS6gr3E9dBFReiixSgEh+Cwycs20NhRycNjnAJGD4Y++lyFhKlJKZUYjMMtjzgnbQm4r2JxDWELfaAkE7RqNB503W13bbDo+OSW3T19yK1BrLiKd9sUodwscLlcZ2hSMeQ2/GHz013BIwLaGmUpUns4UuwlRJsnUyBljwKovNSB1OLPakwAqyT03OltfHQGorTXdSChtUv8AE4/Sq7g7S00QphtK4CsGYgElmHGFIA/v0C+y6GcyVf5TM90X0jXU/LanJUhxwJGnjUVrTvDQ6judTW2hKSOCio2IpZSJPmWQIGARiNwYMxAB+r0igDFiBpOF8MViw5inWQyVJQkJMkKUCCSZ1kJJjla9BYnHM4UIQ2sLuSYIsNhOx38us0NaV7m2mwf4QrK2eSqvgoKSajt0kM26tqqpUnigQxrIWYCWVHGMAqCcB+NNhuFrwi28Ph1Zk2KrCDISRvceckyBoYzr+K/VYntzYbDlyHlej/WvcWtNGZtQV9NQ1NPMjGWkfYUExyq/UuMgBRhufchRkgRnhmKD61uqz5pTAEjNM9TEbDQC5qfGYll5IS2jLB5zNvAeNL69a8j/AO0uzwTaopLZbbTFKKsSKXaqrZX+Wp4mZGZQxWTeEXJ/mISoVmZDWMAFsKWpMKKZHIAGTIMRGUbyZtaTVVmHaZZtHjP5b1rnz8X99j1J8R2uK+MTIHq4YGSojeKWOSKmhhkjdXVWDI8bqeAMrkZUgnpfCcJ+jwLTHIT5klXTnRyRAApR0tLJWSxwRlBJIwRTIcKCeASfYdXClBIzGnC9dFbN8FOgrvabbWW251DVVLAylon9SKabG1lbCMSPUEgOVBAUYwq4PLVfETy1KbcbhN42V05yeenMWF4Urv3VVtf+y/FQT1OyL1XmDBKihRqmGNnAO1DHJuRh+Ft6ErzgYOeh040L7yhOhgEDrA3MaERYiiEYlaRCxPWt6w2HV+gr/qE3Saw0WnKmOnloY7Rb6iqeq2A7/VAdpIyPpwThS2AMMQjXOF4jhnAkNKg7hW/gYAJ6b0Ql5LhIBqduXbLt7dpUr9WW6Ox3iqT1mpGtUYk2EnY8iGVdhYDcF5+kocgkqtkcVBISkmOWlOSrP+wSKsBHqCjr4zFDUxepniTA3Z45XdnPgYBOMf364moFK4gDKfl62sIExyG9VQI0rJdNS01mpqeruVZBDHMypGVjUZY8YbHOPOcAY/PHRSUOukrP0i+o/qpLqsBQ53A7lUva3TdtvMEsV4qbhXhaeMSRIHh273KOqkiJSIwQMHLJg48EobDIKiAdJGk9BB0teIE7G4qdtsqMVUq1SRUloipaOaOaOlCqkZQ4wvAH1E8++ffqB051Zl6q+5sfna1/S0BIObemL250FYJYqOXUVyqZ3udRHIkEe2M0q+opO7JzIeCh5XAcnkgdV+MxAw2KDTbeYJAzeJ0T/V6tw4462FmxP5NZdX65t+ltM2HROkLZPaDRVaajr5Ms5WSopZFp1SR2ZmIWVm3ghkMUKjgkdbbGpVhcK5mgF0kJA0yg62gHkJEnMozas42pTzsq8/t96jLX3iulfUSfNXSrn9HJMdVK0u7coVvxEncQFGTkkAZJ6yeJw6ca2ntjdOh6+Gnz61Y4df6dfdAynWtu296J2uFXFLBR3Cjmpo6TbV08T/LxIAItjsNylAOPqHvznkFYjE4x451qzZU5QSlNhIMRG+k6ifKvJbAnLbNO/SKhNIa4uEGv9e60oCvp0lvPyVT5WF6yWmdCQf8AzGjT08gDcKcHAAwNtjGnEYLMkkAJbUBr3iQIOkgJSQZ8dazWBch/NGtvW0+1RFXdfmaae6TQo0jmSpaoQJ6hY8sXxySSTnd+vWAbbUSG1kG1hafzxrSk31vRTU2HTdlsunoLcwlrWkWWQU0DMI4m2u7TS8FZP5UcYBA5l+nPJ60GMxpcexOEQyEttiLjvE6EiDeCReLCdJvS4nMG28X2mYg6cgDpprNEelNXUNw0Lpn+I3CWteK21tzlo6aXAH/eDRQqGIyoZfrYAe4OPc4/iWG/QPtpQSqDl6DUkb2kHpeYvWqwjqcY0XECAefT8tUNq7uBFdbrS1lRG0VOk8NW0NM+3YowrvHxw4Usc45wP1FpwjhvbcQ7OLKINh529PrUWMc7PDlSdRUDLpKokstPVXP0YKO7WSegkghyZ4xLJHu52hVZIlcI43bTUycHBDbnG8cZ4a8UKa7TvGNojLEanY7Xmsy1glOd4kRGn5FQtH3EXRncOuq6K3UtHRXC61lZRUCQLJT22lemipV3b1OXZciRtuWKM+d0jdXeFx2ExbYxaUBKrJM7AE2mOpg89aFebLKoJ/qsFb3btly1PRVdwt0M1RRMzy0UUg9H1vQCmVA42gA/UTzwBzkdWi3cyylFgY22GoHI76daGK8pzUdXC2TrfLBRXKmtzy3eySSl6esVooEUxv6IJUJvMjb9zOABLtORgrO2z2LaUIETIsSQJMHUk7wL20EC1S9nBCedc8u713/xD3R1bcwIwtXeKydVhOYwrTuQF/4QDgfkB1fIUFJCoib0YmYE0LoWWGQpw4QlSPvjjqYaiaXeux0dcl7pLfcqO4SLLPSRenVSzevUyqUViVGOSG3H6mO3AA2kcfPvZpS53BGUwYieR9zrPISIsGu5g1qzC/2ikhlpk/iUaKu6RqqV0jQry+dvgDJGMgDB4yel/TlKsrZ2k2EWv4VGErT+2scBq4ZFaGnpnJUyymn3CZ3PJJR8fWSOCCTz9yAHrUhtISTC43k/PT6bWp4JGhg1lp6OlilqRbrHV2mBpS7LRhqaOZ2AYybYZ4kJ52khTypBYlT1dJxxZSEqSVDYySY0gxEaG21GpfyCCkHyBrzqvWY0lDKRQ06VihUjmDbmVGHkewJxn+3WKxCw2tTepje2uh9CfKKOwmFS731aUtW1nHFW1VyepkqKp1AVnOdn7eOOqAIeUv8AdA+dX5QhAgChXX2sVumiYqWZYUprfLLcKapdPrjCoTPDn/I21G/IqPYnrV4NRcyskTNpOttB4VVKayrKhvFLk60pqmlSWyRyVNVBEaqRYV3tiP6iQB5wBnrQMcO7d9tGWOdQPFTbalHyqM1VeQjWK7We41k90qFe6Vk07BEo4vWL+ki+DkgO3ueB4HWmS1gkEhCRMyTvmiBHht1qgVi3HIOY6R5cvvR9LriLU81VUmECmql9WOQDaUXA2qAOAABtx9v0657iysrUFczreL/nqa0bSQAFCstjvNPVAmbZMrYcNtG4EcMP9OhVKcT/AIzYCn9nvSy1rSXa1Vt7t1FUQQUNVRPOKypk9NPTHmNf80hJCqo5O4HgZI3HCcG3iVJWT+3Uc9wfCh8XiAlsIGta9vt18ekuF/p3nms1qnoZJ4oo2eBqqSAxmQ7QQET0ZgHc8DAHMjdWylqxGEXNpUoAaG+Yi3hFtiapcL3VBStAfz2pk6FvdPLZopVnGZo9wUkEH6ck9YZvDBDq8+sx6VoHDmAI0rxVapkq6ipWSVzLUBjIVO04xn29+Af26r1hxbxfJuffxqcNpyZam4LZHSXarvUfq/O3CvqRNa1+oCiZTt2uON4kCucAZGOByOtBxVzCudqyoy4TaBIBCs2o13HgaAwHbMqzT3JuPKJqHr2or5Q09POxV0TBqI2KsG8n9s5/bqmRjncG8FsgHL0vRzrZfQUk2NG2uO5truV/pKSigMNAlJGtNFnBwBtLH7cqf79HuqbxDwfyd3YdaahtQbIFC92NsikmlkSKorKmJaBXMYcUrPvfaSSNrsFUqecnx79a/hjYw2GyugEmVJBvrlE+UeYqnfSlS+sRRRa6O3XDtfR2C8Wi1vLJtBqPl1FQclCyrIAGGQoGST5PUb3HW8Io4YEEXgjUTUgw5UKEtVdzHGpJ6StoDQNBCYfSqB9BVUmkjRUAxjMcZAH4jHGPCggllDmJw7YbckTrOxIt/fKoVIM5TVF74JZbhUTzrslldncEYwxOT/qet8ghQtSm1a1KQHB/Pnp50pK6j9htcW65dmtD1tTQXAeha6Snnq/S+mWWH/d3YN5P1I5OARjk4J647xZjJjXhIuSY8b/XXnTVhJBURTet1Rb6qmQNURz/APnyRyyjIcAnA+4+rPPBx0J2Mgadb6RO1RAiNa+V9up7rTQ1MYRoKQBvUEmQwwfIPGQSMfp+XTFsAtzAt6RTVJziQKhaewVNxpYZWq/TbaVKhFHIJ5+k458/v1WONIUZS77/AHqAxpSovuqU1NQ3qO5GlirqWhepp0gB+uNZMbvG3blxtwfAPAAHXsXwwthOMT+wyj/uFwBubSZ/itNw12czR1F/LQ+8UsKavFTXtAX2q6+3VYliQJq8dtetTUmrKfQ1pgvFWKeoht03rtSVUgVJwJIgUbPscgEe4bHv1oOC4Iv4pOYSJ+V/eIqixjhShWXWPnSE7P6+g0Hcrvd1nmqLjLZ62gt705V0WqnhaIO3OOAxbj3xx11wJyqJy3IrOKcWRlUSaMq7Tz6XtFbWaruLWqsrrXE9mtVZbpkFdC7DMsEhwpVFRg2dpy+B+dajBJwyDmT5xqSdf5taoQjImAKnrzPS6R1TTG1UlVadOtDTVv8ACr4zCoiWWOokVEYb96EUxwCxZfVRCSwcrS8QwWHXiEOtJnPcDYwUAyZ0lU+AM6XvMPiMrRQva0+M/ajft5BR6ipzqIMlRHWS+j8qNpRSqjc+QeD4/TnOD1z7i7isM52MQsdNqt2kBSZGle+5fbym1lb7HbqeSZadr5SR1KQyqXFM8ojlZGIOHVGLA+OD5wAT+BcTDCnFvxZJIA3VqE9J0mPShsQznIymreWOq0/29S8QafWCKnaoylGE+ldqKCCTncFwdufG44ztz1huOfEGKxmIaxCRCwCDFgTM5o2MQLcpqzwmCQgKQNDf20qvfdTT1JqqxTX22Wyop73aqdmle3RD06z6s4kUKfr+o4IIJ984x1e8ExK31BnEq1mCefj96TFIDSZSPzwpA6autbcNQrSzwPSTx7hIlWrRFcA7gQRnPBAGPIx1tUcKU4JREQVTNoAJsesW60C6+2hMA3060cLqOSlV6VWaN8ncefqU8nn+3WVDSkrCutPSkFM1DrVAVKxqeWOWOfHS5JTJqbRNSNFebLTahvNVVWGh1JLRUMMIo6qQr6CbXL1A25bjfHwB/TkEEZ66jwvBAcOStCArcgg7zy+9UK33EvKCTFBL3yO6VVVNaKi41daJRK9Gygxeio2+rUTB9rFFRYxtQBgCdwJHqHO4VCgtQ0FhpYXgSB18z4WjSouDrarLWSZ4rPRu4WS4OSskeATEfG3P656+csUtSMQplFgLTzrWtM50BVHOodFV+nrb6t7a3SORu9BZQ7pkZGTjG7AOACfzwOeisTh8Yw2ElweAM6+BjbxqNIaUrSuaPxCPJZu72q6OSmi2yV8lXGygj+XMfWQfqokCnHGVPX0NwDFjFcLw7o/2gHxT3T6kT4VQPtZHVA86hKPt9q6p0Qms4tKXWXSj1PyYvUNI70om3BdhkAwpLMqjdgEnAOer5T6BIkSLkSJA1kjWKgyQJNdRuwHbq+djuzendIVVfJddVXWb5j5SNV9K1GZldqdWxklGyWYkKWkkJ+lRjhvxB8TJd4g5hsAO/ISVTAkHwnpytabGrVjBBaM6zAiaYd1qqaiuVTaSlFPLTsICnpEwyBGDYCjLeQCANx9iMg9V7PGwt5eHciyot+0gHWDoJG/nehncAptGdBtGlRsV3q1raia2ShaeoCo6pEJIVZjhVVgyFTjP4wD4I4B60jbyWJWhWWZ0kidgQR9QBrpVWABcGxr1HQ3ilknFLNDQF5nkmhSldYw5YnKYDZG3bk8fVuwAMdBOrQSFWSTqDIvpaLRb6aRTFVWzXEk+tO/iWndS2qGts3yha20zclKoxxgqCfUOJoXIUxgLJjaSnOsSxh18FyFXdCgqYv8AsuQJ7twRlBOm0gAnDunDuh6JteN5P2v+Gpv4cuxdN3E7hajp9SXBxa7J6AH8NkKGsaTJyrumVQKrf0hiePpxnrI4gMcPWwh1ObtFQNQLXMkXmNBz1rSnFB9EtDSrKWXWMFkui2O209DYbdTVIWmggHo01OF4UkDgngEufqzkkn25tisficTjlYlKw2uRGWUpAGkxrBAIUZIImeRv6cBAJvz50iPjk7MJ3e0ZRaus8aLqu13GKCeeeTElTbJ5Sqb3Jw3oySK2Tyq7gDzjrqXwnj3UOvYfFqISRnTmMmJ1Bm/XrFUOOaTlChtaqgdwbZr3Q2i9N6frb5dobVC8rfwaW5zPRxzQyOnqCnLlEfO4/h8HIxnrpWHxDmIW4hQ7qTad5E1nVmFQTSyrb1W3qoqJq+oNRNOBLI5CqGdS4BO0DP42/v09OHZZIS2mAJ94n5D0pBIqxPav07VoO1wALC07PUuqKqgMzEZwB7qiffrkXH1HEcQWR/pgel/mTWrwScrAzb3qduup5NL22SrUl6p5Y4KaMeWlZgEH/qwf26G4VgjjMY00LCRPgDJpXyltJVVxtS26jg1nqKBaSOqgpTDbo4skBiymSU5XBzvYc5zg46weMCMNiOzTcfxf3q1SVFtJFib/AEFRGotW1kEUloirGpqKlb0QsX0/gATLFcFjhQMnPAx0C7i8UpfZ5zlG238+em1TIZQU5yLmkP3r09ZJR/iW41tyhliRaOcwVCBRCzCRSiSI6qxlVPpTaGLbj9W4t2D4H4o0+o8NxwJbhWUgxl1KhoQZkxpWd4mwtCe3ajNvN/yKR60V/q9JXfVMLx19htFWlJUOr/z1Eih1baR+EbkBxnBbxjrVt8CS8gvj9oVHWBv51XniCcmUJ73tQdBrqco9Q8bhYUHqAf0knoJfBiDkFGjGslN5moap1VUfxO4T0s0iPciY52jmYB4APqGwYxnkZOeM8Dydoz/6TDIZR4VQOqKiVePua3tC0NLXa3tS3GjhlaIrVJuC8xopkO/jJY42jJ4B8Z56reIPfpsE4pBvEb6m1qnwneWlvnc1d3sals1E9tkqY2klavkckOQSiDdj7cnAJI9+uEvspGLSlae6RPptW0SVJbMGtHuBqOe86lq6ogndMwC54RAcAf8AToPIp9alGnEBKQKqd8UtbRVdfYZJ6VKmoeGZfmdo37FZSiZ84BZ8Dxyeu0fBYUMK6lRsCI9L+tqoscAFiKsx8KvciSm7QaZodP1CSUkdGbfc7bPIPTd9zeorBgQAysPIww/v1z/4pbew/FXXlHKSZSRYlNo8d+oqZghSANas9o66wV9NcayH+Tcow0SRsxLRxsgBfPvu+tfP3Hv1zBKll9bwWc6807WNj6gkHob2NXikZUpH+mlNR13qar2OzSItUGZieSA2OrFkFsgCpXUgomj866sNXc62JLopmo6loqmOpaOGVyGysbEn6lIOBwfc566zwvCr4iwy6lNim5O/jfytcVilM/5FIJiDWOaXTVSwkpL3paFGG5hVW+KRyx5Jy06nBz9utQngq027Qf8Aj9zTTh0/7oqruu98GprbTL6oW36Xu9xqK9GVUmqUobekcoA5IappkO73Le3I6vsMwEJW2Ruk7RGZwwP+0gf3Qi3BlJ6fOm/8FNNTaHsFip5Xc113ST5lJmZmIiEoQ8njyf79cr487+s441ezEj/2mSfMitDgkxhc26r+9EncZYqbUFSsbDe8aS4B5BLAYP7c/v1z3FtAOCN60jJlu9L+rstV3D1npzSFKJZ4/mlr6sJkqyKwCowHkFyrc8fQetThELbbLbQlaoSDvKtfQa+NUeJSHXU5tB3j5ae9OPup8E+ju4+pLbSS1V/p6ukjY/MmqDLM5Yl3ZWBDDnAHsAOtQ78V47B49vg7eHVAFs5gHQZhFo16neq04FhxtT6jcnaufnxa/Crfvhr1/Hb5Sbpp64QPUWy6IABJHHt9RXX+l03rkf1BgRnkDqQClKg6gA+vTyNVDiA2ASdTQ9oXWsK2qkpJJhHLSqY2V+M85BH7HH7dc/4rw1YfW4BIVV9hH0KZCSbipO8a/gq9SabjDtNBSXKlq5YkAYSbJ0Yr+uFxx9+iOEcOcZC1xClWT5/zUOKdbkCbC5q8OmtdrfLherpE61Bqr+zxsOQRIU2kfkADj9OuH49hxeKZzWJn2j71q0pSE9AKH9R3GjeqqHppzK0lXOSPsu47T+/nocoJdXAttT0zAmll3K1SbfaFt7VNJTw3TfTu1ZEJVwgEgOD4wyL9Xtx10n4QaUh9bwFgI/8ALbzg1n+LK/xgA7/L+6r5edXTto0WqGuCQ3uWStq6GlfbHARL9MTLj3WGEjnGAvnHHVWnXXHVtKMIER1sJ9IArHlJSZFC+ltC6j1klbDYbNcLy8X1TLQ07zFE9i20Hprj6G1gKOul6sENKWO6K90NurtK2m5S3XT9fRVdZFJSUstyo5adY4iMyNHvUbmOcceAfz6YjEHFPpGHeGVIOYJIVM2gxMCvOILSe8m5rxoTTt8vV2WS00tTV1fLD0Iy5OQQFJ8ANyOf/p0diBhlMqTilhKTzMeHvQjRdQ4CymSKs38Ovcf/AA/XtZ67EN0hnaL0W4IjdgrMfudy+3jnrlvGeHdipGIZOZCpE/nStbhcSMSFIUMqhcitnUuok+cuLBhgSuB+5wP9esuyyrNVge8RVYe/l1F01FTQqMJTQiMA/wCcnccftt/167F8Ls/psIc2qjPlt9/Cs9jFZlzUr8Nfe6j7MXq6rc6Ytb69I2aqii9SSndM4bb/AFAg4I6b8T8Bc4603+nVC0EwDoZ26VHhnw0TIsa6TaNvq2ePUENZTbbhHSPOFdduDGCSpHt+PP8A8PXzcMO5h8WpKxdM266VrB/kaEG0/P8AqlFT3Qx3Azlv5kgLFh/myer9nD9qEE9aVxWUEUNyd+hBTRWmeht9aYXYQvUVQUli34txTKsD45wMddp4fwt/DYJtCOQkfn0rLPPStRtc1E13cK2zTgVWn7TLJGqxhmrY87QMD8IAPV23gDlkyJ6moO0B2Fa2s9YUN4sVReRRwm0mCvjE0VUJ0Yx1XCAg52PED9Jwf5cZ5G09ScKZTh0OZv3KKZF7QlNr9SdDVJiFQgDf8+1EHYbWkkOqtJ1FXJgNSgOWOBloDn+7HrjzoKMc+s7lY+dbPD3YQOgqdjvNZrbWNvpmqVhqrpWxUKzP+FCzKisfyHBP5Z6zjDAexCQ4qBIk8hNz5Vo1w00YGlXMsnarSWhry+rtP01Xb7nBQfwoiWcukgaT6ZWB/wDM+lgSOPrORwMdAexjDeAcf4e0WlpITJue8SAoHnAIPjWTAU64A4Zn5UM0ncyG160hMlXJUUEcK080iZL4OSzL+YJyMfbrmqOKtscTacWSWgkJJB7wBmVJOygTII5VbKwxWyQBeZFUq/2k+pp6y7aFp0rzc4la7Ba1mJEsZ+S2efyU/p10r4HbfS7j31Pl5BUhIWSZVkCjJm85VJ8NKouLJQEtDLlNzHLT6iqY0kSwQPO3DtG20n7Bj566U7dMdRVADJiprTNqp6mevNyFTTfLU7LGYxtdJ2UtFuBBO07CD/zA8eent9mlR7aRYweRi1PUVJEpqwHZ3ub/AA7RsVtldY7hTTwy7m+neQ0mw/8AoAH3/l/mOuS/EfCnTihiRdJ06SAD7gHz8a1nDMW2pvsVHvX9j9j7UZU1/jZSQx3HgknP+nWLVhyIEVdqVekd3Q1c+pprzJHcEjtdsjKwQmQbaqUMI32/dh6jMPuqt4wM9v8Ahzh68Fw6NCqFEHeNB4gGfWsPxHEB1+BeLD61Ba4tunLMtrobZcJKu4eq1PXwzwtHJDKuxCwyoG07WwrfUOSc7uNLi8Nh2FJLCyTcKBGh6WFuhvYVUMLccuoW2rqNobQWi+yWgKW26Rp5qV6yniWvqy+XrZRGf5jH7/WePtj7dfN3xrxBGNdCmJSWyUxOom56GR6VucGwU2OlDPcW0WLuFoOv05qShEtvqaVI/WK7paJtpCTxE+Jd2WUeCM7sgkHGcI4hiOE4hGJZPeB05jcHod/vBqwfw6XQUH8/qqoa81HU/DpfXsmi6iml0xUxx1US1VBCapWYMrrJOF3nBV9pYsArKDyOu7YB9j4iw7br0ofE3BlIvyOxEec1ln0P4ElSIU3y38z8vSlxZ3undW/aP0pZaiOku81eAla6hnR558yDIwwQAlto4OPbz1rMNh199jFKzIJ7qYtoBM60Ch1JKOyEHc0z/id7Eai+GnUlpe53qO/aFra2OBr9HCYzTMTzHUKpOxgASCOH244PHVM3huGLxj2FYUFuIBOUGdNR4gwCJtI8rVeIxSUBSdN+f9Hn+Gt2uKaqoqmKd1FVHVorKgO9HhYn6SykqcFWBIbyCcjGBusPiOyUls2CZSR0Gnzt5DaqNxOcqg9fOgq60EEsQWnAo6sK8TJKzNvwuVcEAgE8jzjIPjo9CkZcySO6fXlziaQLUiZuNa6jdw+4tu1lpiHUtqn9Oa4UVPWKVbBNNLGirn9RIAf+bHXy/wAVZUrijhVqFKB8v6rf4Qf4gdiB660uNHUNXqK606QUs9RTRSoJ5YYmkEYJz4UZJwDwOeD9urTAFttxAeOVOYXOnvAqLESEk1YCXtfp2ostVKLVpo084DSCuhVzIMjDFm+o+wPj3+3XaEYlSh2iV2HL+p9Kz2UHQUJVHYu2zS7rbZu39XT4GZRp95/qxyN0cLLxwMZz+nUwxjiRHaE+3/xr36eb5fYVz40xqmpqOxN7pFWIql/apneE5K+tQVWFY+3NMOOM4/PmyKMgAG38Vmn0yoD81H3ot0zqiVbDbbkqyQwRKiRzspCblwCM+Mg+3XK8bw51LqlZbKJvW0wrqFtJKTRVpXvBT6e7j6edYpK1LVW011q5BgpDGk6A+oc8A7lGfuw6Th3BVLKcSuAmQI5iR9anf4mkBTKhqNRXUXX1cYtLSUsT4FqndJGB5Z0hUjP55cf26zvFH3P0ScCBHYuKnqUtjXnc+1JhUQ7mP+ofM/xVWqaYrWypu8sec+wOOuZONxetKoTeqv8Ax408kdRoeuAD746+DbkZyny7D8z/AOIf9Ouzf/T9WTDYhHVJ9c32rJcaSCpvz+n3qvcFDJU0sCndlqdckDJAIBOB78HrpjjiQsBVZdCbmKsD2X+HS+94dPXyXR+npzX0zQKY43EdPIU3FXDSvhGwxyuSM+CPHSuqTjGFBlPemIGh69KmDTkhKjb89a9a37a69+HCS3TaisE9tmieS7UbNiSB2WekX0/UQlSRsRsZyNwx44q3ziMzbbpI28dSfHQe3SpexyELjSK1b/qoW213y5W+1zVc9ZE1XTQLThzSRyIuGfaMIAXIyPccdZTB/DuKxTrYBlLf7onQHU+JsJ86tlcUaSFgmFGYn5VWm3RXWrvH8PoUlqK6ckJAvLO2N3g+/wBOT+nPXUGm1qVkQL8qoFqSE5iYFGmpe3l17Z1FNHcjBUGtjLRVkPKbl4ZFJwR+KMkkAn24zkrEYRWFgKiDv+eVDNupeunbaus2rqZrd200JLMpgrKuhp5ZoSckP8sm4Z/5s9fL/wAYYRGHcJQLLWo+9/eugcPUXCQdgKWN3vkklpqKLCsslQs7SnJckAgDOfGCesbgsOXFz0q3cABqmPxIX+de7Bo4/wCfHDbYfUUf0J/MkY/mcN/9Ou9/DWAH/DkOKsSSfeB8qx+PxQSXGDcGKPvgb7R1vcTv5pi8pRq9NYK352oZ/pWILGwyMeW3MoA48HrbtLddSG0mFKkT7T9fKqTCoKVFQ0H5FdTNSfwrQ9rqq+Sqke4NH6cBL7SWzuwMfcqMn8h1yjiXCOD/AArgXycQpeKWBlMhJBCgvuwLAlIzG5IEBQmr5ou4lQSB3d/l/VKfWfZ3tf3IqFrNR6NtbzXKlCNd6FTS1uBuC75YSGbBGMNkDHgg4Of4X8W4nAKbw3EAnsHESFCSZCljMqFG5VZUibJMGBMy8MpxKpuRbytvr71zk+Jr4brx2Vt9zuJSSq061SlLQXCZEQurjcqbQBl1AwzYx9j7ddP4BxpHGGkuRBi46jfz1j51SYnCdiqUm1Lft7rC7LbJLQa4LQ0lHNUqJnIEaIDIUBGeCw4BGNxHI6seKcJwzv8A6mIWYBjfQD5xNPwfEncOktm6Rp0muq/YzSI7W9h7dRzPt1HcYf4hdkC4cSSRhhF4z/KUqvPvvIAz1yX4j4kwnAqwnD3CcijnAmFDnGljvyMdavUdo86lTgjSqW/FTpm96P1BJqa0SSR6cuLr6scaiR6Oq2kcA4+l+WABABzgA+dH8BccbxbA4c8SVouIEkp//nQztQnFGHGP86T3Tr0P80nP+0e50RNOJgrREoy/LmQBgecHB4/LJ9+u0pZwqhcf+0H6Vn/1Lp1qB1Ba0092m0bp+0xukN5D6ou8jf8AilDLVUVMGI4CCOOofH/7j8h1XvuqSC56exqFxUpmKirJ3CuGn9DX7T8NQ0+nax46mSklJKpNGTskUeAxBKk+46YSstdl/uoRBOeOdaGi6Wsuuk9ZzRKZLhc4YLLGh43GodpGI/NWpoh+jjpymxmZaGmYeibn6UaTliuuuptbpVaV7gzM4DQ34YA8lHYoP9Ih/fr58exJxTOMxCtVOz/5T9q6GhjI60n/AKflf60kKSpC0frP+POM9ZFxOYVcASqq/wDxpzw1Nv0DHIA7tPcCg8nG2kDf9V6638FAoGIJ/wCj/wCf81kuLpzZAOv0o7+DD4P37vailvGqaKqotMWwRpNDNG0MlTLtGIhkAgYwSfsR9+ujt4NzF4gpcBSlOs2PhVI2EoQFi86V0op7dTaYFFp/TdvgtdupUwsFLGEjX6TjIH7ZPk9Ynj/FeIq401wTg6SkIBKoFpUg5c3/AEgweulEJAKStyo/uVZ6HUFN/CrvFRVtnqYzDUUNX9YqN4KlduD7Hg+QfHQnxY89heK4cNuIShAFio5lKVY90AxaI6m1EYX9qrGfYVyI7/aTvXw8dyhT11LU0JheZqF2m9P1oCzek4b+r6QuR5B62vAnXcHinFOghUTyN9zVBiWAokbGg3t3bLZrHXtw1jeppLDBSvE5jiVH+Yd9yvkMQRuHgp4LZ9ut3hX2XXi88cp5C88/WgHczTXZJv8ASvveW+22OCqtdB/EKmgulRFeIDVKwWmIbbu58Iyy7RjjczA+w6mxjqMhSmSFEKHT8BpMKhRUFmO7Y9fz5V0p7za4o7vTaWkpmX5dbRFUqqHgCSNWX/Qjr5W+MH/1mN7NP+kke/8AFdO4S0cpVzpMG7CYFs8uw6oMGnsXBR73eBqjHdLUL6l7kXa5Krx081RLBA3ILQgkIf8A044/br6L4eycPhGmzsBPjF/ea5s+sOurULyfbb2rp9/s0e2kumuy7atry3zt6dxSoRtC0qMQp/Ms+4k/l1NCO2OIKjLaTAm3etJHlblRqSQ0lFN7vtT1E9vg9KJ5GgHruy+EXcq5P5ZIH79fPvxbh8Q7jEqKScqMyjsASAPcgedaHhmXvAnW3zoVsdyjobQZak4AAwPfjrlOKcUpwNpq1W2SbVTz/aNfElb9cUNm7fWqmCNbJBW18m8NiUrhU49wOf36+q/hVxeKwbbvY9mhIgc1GACo9LWrHY0BlRamTv0qpnaqSkpW1PcLrzbIrfDDMfyaupXcD9YYp/8AXrZY7tChKWrqJt4wSPcCqhIGZM6SK7SdwaSrtFskeSthipJZpJZfr2s32Xb79fLXE+GYzh+ECi6koc1uQZ5FPhf7VtsMtDrphJkVXvuBarfrzTNysdU2I6qHarcfQ4wyMD7YYD9s9UvCcU/wrFt4tqxSduW/t71bv4cPtKaVvSo7Z/CPQam0tFcrzbWnrp3JfZcVpEQgAFVUg5wwbLffI9uu/Y74kU/inHMMpAbJMZjBI5xynSsWzw5CGwl4HNvrVVe2+rm1Beb6k8IMK6PS0wBv6DTQxyAj2+qSKRv/AIz79dMcUFS1/un1is45dOX8tW7250np3UGobNZr5NLRWK81y0s1VSFBJHuRwhXeQpO8oMEjIOPJ6q+HKLmKIcmAPnQ7K4XmVtU7eNF1HavuXp7RtuSK8V9DqtqmFFqYm+YYVkcUMcjg+mu5aWNySdqeq2SMHq0fChighGo+Z/ijCoJUCNBf61YWPvNbLhQ3iOkrVrKC6lR6mfqicSh0MiZyjFeMNgjd187owGIwrTmHcQRMH03B3GtxXWEOMv5HmlAgf15eBvX6o1jRxU6mSojhgQbnklkCIo/NicD9T1Wowbq1ZUpJPQEn0F6nU42hKlFQHjaldSBfiL+IbQ9lsYkrIaOtjippAQYH+tZKmYrjJUJEM4I4hzjnHXX/AIbwj/DkpaKP8i1AkbgDQHwufMisPjnk4l0hB7oBE/X6Dn511+07YaDR1ipbXboxFSUsYXJ5ZsDlmPux8k9dUcdQwgqWbJEkn61VhMQAKjr/AKshtchipwrTsMk/brknxJ8aNcMdLHDwCtQkmOY99qPZwynbnSoDTNtlqLm1/u0iw0calo5KhgoLngNz4AGfPuRjrKfCXD3HsX/9xcYUEspulayAFLNgoT/pSJgmAVEZZgwViFpSj9Ozc7xVavj37jWOm01TV9vp4K+8Rq9BTVNTTJKsRYhjIm8Ehl28MPv1qcX8Qs8b4m23w9RCGwcytM3Qbx1tPhqK42cNhlLWLnTp1rlBd7g90uT0lI5kEQ353Y9R/wBfAA58/wDUjroGGZWpMq1PtVBAQnMqjrt5bq+8QXS7ahvBit9RbXg3XCjaviip942tJGCCqept2bcsG2vtCgMb3DLViFLDijCU3OoHIH6eu1DOltrKlAvM2sf7j1FF2hPiHvFvnpdH3aOW/S00K0VNW0JaRvTRcqu1gpZVUYzwQB4IHXLON/CaMQ6rGYdUE3IOhO5B28IrZcO4z2LaUupkDfeOtE1p760uqL0bFQ086M0EkjVEmBkLjcqqMkkjJz7BTx9hOH/CZYcTisQoECCEj2k9OXvUeN4wHGlIYBvaT9KReupRJd2GzaFgDg44YkZyp9xnjI9wet2hQKJG5rNZVIMKFdz+xk0EXYTQlRGqxo9ioW2qMDiBOB+rf9eqRxxOEwDuJcMlar9QkwlI8TA86uYlQA5UE93tZrPdKu0QsCqOgqWHuUGQn6Bix/XH264f8W8UW7insKg7gK8UjTwCiT4xyFavhuFIQl1Xl57+lKe56lkelnhQgCNSyt/xY4HWHwHDl4vEttIErWQAPE1aPqS2kqNgLmudEnbu+XfUOt9T323b7PYpJau6NVVAi9SQuEWJMMGdt0in6OAByRnB+z04JeAZGFKQFIGWOott69a5T2wdJeBmb+N6n/hq0hadW3C10OofTGmLpqGKe5mbd6YobZRz1VdGxXnEkVVGnHOSOg8diW8GBiHdEAm2pJISgCbSVGBNp6U5pBddSkdfa9XHunxXap73XCvhsKLpTQ9LKYVfaJaqqb2XLfSgAwSMHGQPfrkXF+Jv4ZkMLN1XyD9qR1J7x6QQOlq1fDmVYtZdRZAtm3J6DQeh2rBQXb0UkikcynH42ABP58cdctdaznMBFa+LgGmfYhJHZ6MU9rpqiH0U2y1NQm5ztAZgM8AsGOPz6qnilThJMVULOZRM1y07e0xxVU9MSZ6u3VsOV/EHaCRSP26+wWSVYqFda5USc99q/aS1jU2ahQwRxTPB6uEqFV0dZYim0qwIwCd2cew6QoQ2oub/AFFOV3VEim/8K1tou4fxMaYopKd5bPBRVEbRSAb2hS3TxoTjIDjEbZGfqA6sMMkF2eh+gryiAL/mgoF1RoCpst77o3O02qrqLda56u2WueBnkVWhqZWOW8vtpojkn/m89Rrw4WltuLZ9PASaLaWDYaz6VCdzKWeq1LpewxhqmaCgghCI+95mZQ+Tzksd+ATz456Ew6AXXlIFs0COg6daIzFRJron8A3wl6s7OayuWtdbxUMDC2GO20UVWKqaMyuqiQlcoB6cRVcOxxKwIGOj3wnh+fiGIvlTpqdgI+XpRjZGTInU1dC93MU1ulPhpFaU/p4HXL/iPjXYYDshZbwUs+E5R7AelEtIzLA8qSNfqsU6TVtS3qhT4f8Aqx4HXzwlbjzudy56/XpWxGGEBtIihHUPdW76wnjSoqGaNThI0GFX9AOP360WP4hxDi7iXMe8V5R3RYAeCQAkeIEncmKejBNYcEIFUl+K3vAtz1hHaqKYPS2wmlU+VecMGkYjHIVgF++Q3XbvgvhYwmC7Z8XcIPkNPuelYjij/bYjInRHzpJ30WvUV3N6mt1JSJFAqMlPD6EQCDBkdVxuc/kAP8wck9dA4jxEOu9nh0wdPP5VnUqUhOQEk9aFb7qOmv6U7tb44a6EqIasOysih3woTIUDayLwoIMa4IGQTWkBloICb7mbk3udo0jwpQkpJk6/n333ov8Ah80dVal1fdr7HW0tPHp+ikulU1ZKVeQNmFUjABLMWkz+gOeosQlTmGcB1j5kVOTCaldKaBl7e9wIEuzQy3ZLgKGnaGYmEK7eiZAQMtu3kL44yeSylY8Q8G3v0upgzy/aSPpUWcQEjx+tL43eZ4JbI9MsyfMgKzLvnhC7gVRh4BDcgcHAPsOpFNgosLmvJB1muwXw/d16ST4VNHVFOQJrd/3W8bDw8RyBj/lKdcs+McYvhmCw7Q/cVk+hn51rOGMnFrvy/il1db+0tRUTysXkkZpHY+5Jz1wwoU6oqOpPzroKUBICRtS77ha3p9K6Mu1zuCb6X0zG679u7edvn289dD+DcE27xjDlaZCSFHwTes/xlwt4RzKbkQPE1Xm63WkPY7WmuZ4VuNqvFwoLTQ2uaeRcJEzvMJGUq2chMkHJ4yT19FvuZsWpYuDe/oK5g2ggBBMHnQ1Rat/wy+nY4bdFRUy2OWWuprcjelFHco3BmIJZi0cVRSKdxJZoFBIz1S8Rwo4g06m0gpCfFCguPNSYnkanaWWnYJkQQT4iDpynSiXs/wBy20tWy6Wrwq0lRMZ6ebIwHYD38EMAuD+X59cz45wn9WgY1v8AckQR0H1F5rVcJxisOThXNCZHj/MCnVDf8y7h+FuAesCrDWitZnm9YGvJ3HJB589SdgKrXLrMVVyw09v0n8RtVQW24NXWX+I1VPRVTAK0qOsgiLKOA4DAMB4YEe3X0u0EKIWi4Oh6GubuDLJ5UuaKrMMBY+PRwR/0/wBeo1thQ86iKc0Vc7/Zh2QVHem+3WWIlLfZW/n+0cklRTxxD9Si1B/RR0RhEnOXDoBA8Sbn6etNIkqUTYQPf6RVdLNdLnquGe2UdR8ol7uEFVUzNUFMxAS+sn5745nGP6s4PTUApeBGwUr1qfDmD6mpK/aPoNZd0LiXuksYMjQwpFCHEccWTk59hGvGPsB79UmFxeVHZhMgkknp96nZdbIKVzubV0j+B/UckPw7XesZXjoKO9La7f6sjyP8qiRTbS7E7trzzoDxhUVf6es78VcUXhuAKfNlKW2jyC83umR51c4Bo4hYTzBPtH0p4dwdUlaOpWmppJRFTFfURSQTnnx7D7/r1yf4qxznE8WwxhWyQhsgmNbyT4J0nnPKrfBYXvBazF9KrbqPULVNtCLkKDx+f59ZbDYUi6ta16AEqmgTVmsV0FoW+agkI9Wip29AN/XM2FjH/qZc/lnrQ8PwH6zGNsDc+wufaq/HYjsWVOch77VRySk+WtcN9uQlesqUPyhqOQ5YsGm58855+4P267+VFshhsbSeg2FcrLhkprSrKmCo0zc2UL8tSxxAeoOJX9RTg/ltV+OkwyFN4lClCVKJ8hH3IqNAIWOdLr1ZGq6eLdKaZELIr5Y8+Mj7++OtTlKQZ1oiAATvTs7BTPbaLXEAWhmjntSrUvPCfmYx6ybRGf6QWB3ffquxLpThlym1vwVApRIuLVJi9/x/uNFVtSzVUgmmqqenpBlhJBBJJAQP8qyIjkf5VbqswSi48cQ6Ln5mhEAk2qK05f5e0ncKn1ZRUgqJKRZI2jkQFlDxmNmCngthsjPv1b4R/IuDrejL5RtT+7N/FfZ7xT1+lK9BbPn7qtyoXVSUlmmRUkj48MXVdo8c465v8ccIxnFS0+wjNkmQPmOdbDgGMYwxWl9UE6UcV+vrTV3SSkhuNNujOJEM6Bwc+ME565Sjhb6EhS2z6Gtt+rYUk5Fgk9aWHfi60GsNNQ6bt9RHW3y4yItrpaeqQmeUnGCM424J5bH3Geu6fBnw8rB4ZzF4tOVbgHZ7GJuY66XrnXGceHnUstGQk947Ute5umT297C6f0obkK2pe5VdwnkQfyxI6JGUXPkKWxz7jPWwxOVvEJb1tf5/Ss3nlYNA1ku76j7oxzTwlHr54qeCKPLL/MdVVCv9SANjb74A6gQFFrInc3+/jyrxmRzNa2ttc0FbebkkNNMYoJfQtqqwUQQoxVS3GXYgAknyxY/YdRLw6Hu8kR1p6FOEzNqO6HWVz0cHpbh6klfWW+Gpo4RJvRyy5Tn2P3Ufp1kHPh4495KGQIBMnS316Vp0cbCWZcHeG/PxqObuxfq1I5I6iCMFFztTIJIySP74/bq2T8L8OQAFAk+NUzvFsW4sqTAHhTQ+IbtnL2AtGn7NYPmLlDW1xmaujo/rVco2yaUA5LysFU/SX9MjwoB0AYUytTmfMBYADTxjWIEHxsKAJJRO33qq1wj2VtXTx5TErooYYIwxxkft09VqbtNdE/hz1JovQWipdR6Spquh/wAQXyktNRFWVfzIaWigExKHAwCa45XkAjGeM9EIKAz/AI0kSd96geUcg6n5Afeqv6GFt0TrM2igttPJT09QI5J7kUq6iCmp4iJikmAqu20AsijADAeegXXYU8ocj7fzRIUZUrxrX0O38GtOq698meWNKEPhWH1ASSZOcqwCJ5A/Efv1nsQpTGGSkgArgDnG/raKae4jqatl8FOtkj7C62sbyAVNPqKC5BN2SaeekSBDj2HrUUw/XB9x1hfj1Wfg7TKTo5f0nzgRPKa2vw6A66OYB+f80+9K90XvNp1ZXb9sNNY9zMeBvYhcD9WZushwjtgcdiiYAay+pFh4kk+daLGYRLXYp5q/PaKSgrGrfTiHPPOP9eqdoZRViqBJpDfEhqWk1dcLb2+t1f8A75S18Utcsa7lTMMxcsR/+khDEDP4yDgpjrqPw1gRhGF8UfGohPgCCT/3Gw8NwRWF41jApYYB0ufHYeW/j0qveu9RC+XkU9OWW229flaWNm3bY14Az/8AmeT79bnBtrS32r11quenIeVZNM/uOprTu2i7hL27n1HFdLOLbSyKlRbJa4Q17liVEscLqvrRrnBaJnKlvqA5xo8I0nLnP7vpU7YSbnWmj8IXb603ug1Hqi82ijv1vt1ZQiChr6IyRO6EvK7OW2bREX/l/UGLAsFVcMS6CgB5N4IkcwdfPlSurKYSjUmm13ymtlGmsp7DZtPWe0/7lEi262LDVJIjGNleQKPxDLFefA+3VbxcKQktKI7xsB050Kt3OiE1XjSlRFVaxt89UzxQRyb5BTInIwfp2thdrZ2tnACliSoBYV6EHKABJJFo/PLkY10I6YCq2PSlp66jiroNkssUqSxs4bDrNJGQcccbMcey9NRYgk/nOiEElF6Z+ku2H8L7d9kb/HTCL569V15lmQAF1p5PUiBz9hTsB+vVji1dnlc/6T67VKDlKUnlNV21bqqWHW1dd6dYzK1U8iCaNXVhu5BVgQeD7j8/bpOGJOGZbWRccxN/A0kdomDv5Vo0Osv4Y8LSx07T0Mnr0s7wqzw5AzgMMDAGQcZHGCPexacW2LC/rXi2T+0xNMjvPeTPLp+zVMzT1MFFA80mMb55P50rn7Z3R8fl1XupzPKeJ0+tDJkmRoLVAdt61Ki+194KhWtdrlqoYx5Lkx0sTA+zI1SkwP3j6myhDZH5f8NSqEBR/L1KaR7Sjujeb1NBc4qGZKdpVgVGeaRyMBkTG1lBwGBdSMgjPI6ssDhkYglCjEUOH+yQBE39qy95aSoj1ZHGUMFPQ08NGlRIpCs8KKDjAJDZ9vbqlYSpkKWf9xHpRCHE35mhL5eoWjoTTyQyA0sQfZIp2uFCsDg8cgn9CPv0U68h1ZVmpgQpRUQCRPWujGldU6T1J26S/WmvkuVXVlqitpwroYa0YlnhWNhldpcYwSPBU8jq5wYw6EKcYkgmTc6m5idBewHzmoF5lGCZOnKqYRfDbrju33w1Zp3RVglrqijnlrahpZFhhpo5CXG+RyAMliAMknBwOOgHWVZ1COtGMpLiBVgtG9vLhpq5dgtEXOrt9VLL3Eu/zr2qqWpiykNCQu9TjcqqQw9ipHULbQQ2hlPMz47/ADqJaElKW03194qtfbqokvmrL3X4cBrRIjlEyqtWFYgT9sNUD9SAOqlSVKaWvmfmYp8y2Vnf60Zd2bVT6DoZNOU1TFXfKuYHq4acQCZydzsEBOPtgk+Dz1mHD+o4opCTKWzA8v5oda+0csLCpTtHqijtyabo7VaJaW8KZhdb608k7vSPMkjwRQArGq4igP1biZFBBXcVYvG4DDcQZU3jZ7MGYETImCCQYNyOUEgjerHCcRfwSwrD2UNSbyOUcvfcXp3ab1Lcr/caLTNEwtlv1DOyfzZA0G+EhgryAAnaJB4HPkDx1gsH8Pv4k9jhnBkWq0nlzgXidY8q2KfiFvEISt5uFJnTS/KaINTWCt0bqFtOUl7tpvNP8vU1EoWSWP0GYsyr+Eh2RHAPgHBwertj4R/TYgKxygpI2STB8SQCOsDzFDYnjUoKWAZ5nb51SjWV0bt53A1RTJAs9VKjw01S8hLwhzu3g/1MQWBz5DH79bPE4JLyUtJMJBuBoQNumg0rGqzLuTQr270+dUaoo6dqSorKCFhU1y0q7mFOhy/6ZHGfbPRbi0IKc5iTA6nlUwBNgKmu5+hu4fcHVFkpKaz3q5xXKJpLNQqjyLHSI5AQLnauwE5wAMkn36vGHUdmV5rCPCiWhlBIFP34W9OJ260b3kk7iV1uhiqbPTRNabR8o8YST5mAvIkGBHKrKAFwCA7MwJZT1V4jGtOJzMLzA+YmBEeR9agdykxShvHcWa59upNP1Tmqr46lHNYvAkhRSBkf5t3Ofceeg3XjiHEBZmLUGE5RFfO3vap+4Vx0nZnJpJtQXMxxV8g3Q00MKSPKzqCGIwkhOMHCDact0c20pa0pQRvM67af1yqRtAVc1bH/ANi3Rlfb9G2iO7vZNVx2xUuNbS3A1dNW1/oEmVIpgrKm9CdiFQEAGAQT1ZLwTChyMfmu9Td0nKB71l+JrQLdqPhe0PYJaxZ6vT0cVN83AWUSO7yyuV9wDvxg+336rccApIQBawoVxQUsQNLVzFr7gtRWvukJkaRsbvsfb/8Ar+3VopsJbEDSrIJ7oivcbmrqIIqhyaYMuZCpb6R7D78dRWQJpAIvR5qW5zXq5F2UGadcoxOMAIFUZ/5QBn8uhF5Rc0A2mDJpixaS03Z9I6tj0rqddUTU/wAhcHlWkNO0dJG0sMy7dzgj1KmmJIb+nxx0rpMDlNeWrMnKRH4aGdBasl0tqqmrYkE2GMbRb3QOrcYyrA/64+/XkuKRdJg1BlvMVk7u3SSv1lcKdiV9OQuMsNq7huYY8k+ehGVqW2GwJMk1KE3kUxuz0PZ+2aVli17bq+4Xw1TsskBl9MQlV2hTFIoIzuPIzkn2x0i19kcjpAPrUalmbChvR/crVbrfbfp4LVNcmg20VPSGWSUsmDIqAZL7Ygp++c+w6kbxmIw2RtN5Gmug9qlUkqKZvVmtK90u4Wiew3eGj1TaarRNfN6ENNc4qIhn3IFEe5vxBgWBPlAfv1Z4nEOm7iYBFTBPZtFA0NI/R/cxe0V/7T3xqaKtn0pf7lLVQxTEwTQS09MXjQeBKFlmw/uXTPC9V+ExMMIdgi5N7GJ/IocKyoSQNPv/ABWt2z0BUWC5fNz08kFHc6WgEE4LSRVCpcYSHR8BRkwyDb5G0g+M9QKWrsQMpAMHxtf30opwANJAHKofubXTas1e600Zllq6mWdY19yzE/8A359usvwlsrU47uT/ADVYgzJpiWuK06T07FHbKeUyNBCtdUzNl6yfGNif5Itx4XycZP2FbxDGDFvDCMHuDU/M+A2/mnzsmvHdfVE+n+1GhFpp41qluFVd97EhW3TxQg8HOMwy+PAz1Z4JvvNC9wojzsPlRbRmAep/PShfQncasHc+lr7rQz7rsBAZVqpJYoQCZSAGLHa3IXcRgbseerpbwX2hKpMjy2tPlNTA6iaV3eRKiLuBc46kg1MDCF2Hhioxkftgftn36NbVKRNNAiRVovgz7OUz9u7rrabW1jsslVVLSU6KhnraeZeUSRXHpqrt9wePcE9Epwbbrjb63IymYtqdJ8fepk2Eg0vu8NTcdN651BEbRcbGtzgWsuUFukWJZ4zlTJgFlKGTkLngnkcDEGIbbbV/lbGcjujaf4PnypqFBClQJmKUdJdYrTXTwwTkWmriMU/y/Akjc7848HDEEfmo6GdSpwATJAi9DzKjWrWxPRXAx4zjBBIwHUjIP6EHoVCJazDUUqhe9WM+GrurozTWv3iv9kktyKlJbqG9SRtNLHEy7H+nIAVlwxZcnCv5zg32DxLaT/ktIt4Cx+lSRKQBpTR77dyqTVPfXtppLQdfFV0PqQfLV9JIGNRPVMFMhkHvjjHgcAjz0NjC67jUttKgJj3ufap0uZElsCx/Jov/ANoOqXzTGnLDBXpboq2unl9aZSyqiJ9JYDnwMfv1JiFoQsLWYSJP2qrSRM1RfuF8I140XR0Vwkvunqmk/kR10kNdvnoZGXexeLaGIChmxgcLyffo9l1LoIUqPtVs4tKEyDTXuHwq9u6P4eNY1VHqu9X7uDYA8kVqenFPDDOxjKqEClmZ41BCkgjcAQCOSGOxfzKbvBI8YJAN9jrTO0TbMIPWqwXklJH9T+UItqOH4K8Ywfsc9AEHNQqdYFE/ayuipNTfJPJsprhSVNBUbPcNGWUfr6ixnH3A6YoApNRuAwTUVRwCj1TBTniP5tFBP/8AIB0PqmTXpm9bfcSlW792r1FWVFRDRUjvIj06rkuPwgE/cjk+w8dTYdaW8OJ61MFBCJGpokj1RYNFW63xX25vbqqug+cjjSkafdGXaMHIPGDGy4PP059+qQ8Kd4movlcCYHUDe3WaDDK3JKRTX+EfW2j+3V9nuNf/AAcVk0hNrnurTVNTS10MTo0YiikQssgabaAMljEqk4JOqwyGkrtBVHt4fWjpVmKMtxVhtBajuHxh2C+6b15c6SK31lRHVQx2qQJLTRF22M8ZYvC5wCFccg8knqpxTrj605ogKI/BJ96URBB1+VVm+LXtra+0upbzpW0tVT2ux3Skht1VVsrT1oktFGtRI21VBw9NHyABudwOQcE4pbZBbTt6evO3oRzpj0ECKZfeXVWo7nZ7fYHuEFXHbKa3x2qGhYbZPrQGV9saAvvLKOCwVGJZ94Y1OMxAeR2YclIAvy6/PwtvNROrCoTSYtdDJS3taWSojqqxwFqJoB9JGeI1+w9z9+P0GVxWKbZwykYX9p3Op/igjAEJqZ1leVoqqSCJsw2qnM74/qmcYQH9FyeqDAMlTeY6uGP+0XPvFSAQnxqE79Vhtlt0RbpXiVrfp2gkKSZOJJ42rmHAPO6sxg+/nHXRW2QcSsJ0SAPb+6KsFkDavF8v1H3Iu1ntdNbbfpemt1mRESGojMEUirueolZBli58fiZdwUIxKjpcU8peVSRCZiMpkza0xfeN4salhalRWl390dV0z2TVi11FfrfcqWGjqLzaVlNE9dEhR0V5IoyXZUWUrtBUSAMAeOiGkLCSuO5qD0+YjrUqgCMyTIodtl5l0voivpzSPUVUtxpZgiPsKRLGzBi24cbinUCm1rxAIVlATrzMi3pUSQCCCY/NKYWuL9fe+lqsVPYtMyxRW8elDdq2oZpZ2AA9NW5ZlBUnndk8k56g4hxnCM5UvrhQFxqYPPYes3qNOVs3P8UprvSGguFTStXQ3F6ZjDJU05JjaRRhgp9wDkBvDAbhwR0Zh3C60l1SSnNeDrG08iRcjUaG4rxBBuIqRqbvBWWG1UiUcS1VOGEtTs/mSDP0gn7AZ6mCQJHOo1qUTc2qT7eaafXvc+g01n5RaqPCVESNLPuWncn0gWCo+cbWchEP1tlUKl7CWyUqcVAH3t6/KiW4yZjVxezPZXTmnfic0+5vVTebza7fLcvlKKJEoqNYYFiVpJCN0zmaRDuRYkDHgMMHqdgN9opbY3J8JNgOvOvOqASY1/NK1/jg1+9k1nYqGkq5aWZ6N4jUoTiAk8eORk8eR+vVTjZU4lQ/038Y/OtAt78qondKipsdTDfILvV364qyuJZQCgILEhw2S3ggfV4+kg7uLRDjmKMOAIBvrJ9bD2N97VYNkqOVAimz2X7jLbqe7pfZ7lLBW0XzMdxLM1QpCnCSbT9SHcdsqgfiAbAIPU7WMRh0KbcAStM6aHkI2PT3O0TqbnNaK+/DLb6WT4iaCO83O02mRI56tJL1GrRyS7VZURnkREkKliGdsDBGCT1PgFZyknWK8P2HnVkO+l407Q939FWy8dtLHcbnVx1cEF/hqg00izQSJQyKHMaRypNlgpMikENGztjE7r8OBl1IKiNvGNNfn02pBISUx+H82qlvcm2vR67udHsVJUqhGm36QQThCPtxtH69VAkG9Qo/bUnadAXnVF/qaGgt01zu1VUmGKljdN7LCpMz7nZVAHI+phkqB7jIaXAopbB2k+elOJ0qZsnwtV95kuc+ro54LiKtlj9CqilV4tqtuyjkfiZ+PIx0arGLw6UNsIsB1EdL0QHghICaIV1jbNI3qvl0U5gig3kSSuEqZEcYVTOIxtZBglkTJJOSzHK1DjhS6C7mCQe7B02g+UxP9szQrW1Ons/3QvtqfULXc0cKWmjWeT5GnMUW4SK8jj68FiGGTs3E5JZs9PViVLc7Egd29usWIiOszSk5hAoe+Kq20mt++umZGHqrLDFVVecunyar6srv9QAP1BAByzMACpI3FYtwNJU/skT02j1sI33oZKsqVE7VFXDU81LpjUlzlghUXCdKaB3G6RPTGSobjwGQEkfV58jrnTmJcxLgbzfu1HSQZ8ZHz50GFlUnnQL2yjjqp6u4SnG3JVjz4PJ6bxYqQEspp2hio56Sp1DTP6Sl6u814WJPuN2xR/ct1ZMpCH22U/6AB5m/2qZVlADapXvjbanXHxI3i2WOrVIIK2sDSeoIlpqKnb0UdnPCAxwAZPjjz1qsMtCA685ZM68+nvRjQSSVKMCalvgtvtNZe8VfTRw01mlFvrUkrJp2+fmRjF/u6b8oVwMkqkZxuyWACG/wriYDiDaNvaiFkFMAwOlNHW3caGvo7l2k0fbbELVd5pJK6jp7ZF8nblDclY9gUyhgXVh+EurA78kUvFuNHh7C3VQdgOvL6yKAddy/tN96jbDQUHa+yVVlt14o7zbqgob/AAVUzwR1BZHCABM7gmGGGIAJ4z5FCcZ2ZaXihmzf/jSc14sTsSmdIgHwp6CUJBnWlv3q7PUGgbLU6g0jc6qO16kq4qa2Q3Zkp65IljLSrEsGFkjU43s+xAu3IZiCugZwgxDiFlBCEaBUEknQkydOgmeQkE1sJcNhp86WGqu3V07Yzmx3uCNLtG5kllpK2Krp2jaOL0wJI8qZB9e76jkMn0rg5scYlSVyfX3j8/uBxaXe+kz1r9pfS101JJNFarbU3KWnhermSmiMhjhTG52A8KMjJ/PoI5lg5BNQZSrSrK9lKK0di9OV/cC8WIV97mb+HwUlHL6ldVZZWMTKMmGMYQsSvG3ycjqDDvpehlK7xMeGvj+aXqeFZRFx9etFvwh9y6nuP3O7s61roo6SSltNLbYaeEnbTpNU79gzzn/dxknk9WrKS00pR3qF6Utyd6VHxTa9tOpodWPLTBrzHc1p6GoR5FYwhfrBAO1uefYgHyfHVUns3cRCtReem4+s0mGAImgjtR2Wuclm1FfNWU9fatJ2O3fOyP6a/wC+tM3pxUsHqBk3SOk244YIInJUkBSY+sstF1WtoHUmB9/KiFnKM5qwlw7rW+7Wft/d7fa7bW1UkUFUkdfY4kKrChpik87H+apwNpATlRtPgifG4hxOJa7FIUUmbjaCIPPpyrwkgma19Z/Bnau81Ppy96ToTo5Ksme8Xa6VMsqyoUUj0KU55VsgBXRNoA89GudllGQQeQ/LVGF5bHajPTnwiUtosdVpjScdcLNLH6Fbdr6FrPmsusjCnpnX0YxvVWDImdyqSzkAgVbq1d3MYgiAecfYfSKZmWsyBHz9aWHxX/DzD2v1HoKCXUN81ZrC+1ZqrlNdJFcKiFWQDA3FsBySzHO329x1MpaE7mSfOlICIBNzVbu6WvDpTVstLb6OGZ8vUs8xOEaVzIcAYPuD56i4YQUqeI1sPAWpEs9uJJrUt/xU6poKZYHsGlq8qf8Ax6uglMh/UrMoP64z9+rJTLSzJmiQwANTWGW7XaStrbZeLDHQRxzmlmqKUHZMyYUEOCQ2CoI28Hg+/VC5hf0wJaeKp2JFrzpUC0piUqmml22ut1vlr1Lp9uJlsNXTPVb2InlLRmAsM4yvAz+vUQLYQlxKYkiakaAIJpi3iqjuWlrhe4JPUqqW32GytIct9M/z8sq7vzagpGx+XUXFVzw4xuoDyAJ+lCvjK0epH1oS1yp/7P7IijA2Sytj3f1HAP8AYKP26wmFI/WmeQH1oBOgqOs9MNOaQqJ+VVaZh4HJZdo/1bpzyv1eMSjmfkZ+lTIErrQ+HuO4aq76aFpzITb7bcoK+qUghEpaY+vNkgHGY4pACfLEDIz1vcNhmm3M5AkmfS/0sKNCBOaNL0xaaqtV27f2Wkp7ZT0l/rqVnulyRD69e0lQ0oV2/wAqhhgeM9ZfiOLW4GmECEoJm+pO/pahVukoDew+dIbVd1lHeS+3y0yfKpS1Rhpp412szKmxmH7Fhn3z1qMEDhsAy2T3on1qcryNJTvFM/QNFVaQ7W6i1THIq3yujkSiMr4kbaGJKZ/E/wBMsmPcR9ZXFMq4zxRGCTdDYzK66W9wPM0KhJcXlFQd/wBO600HaIpta2S8WG5VFbG0F4udM3rSy7VZYFUtglUCtz43ADBHWw/4cvBqztogCyQLeJnaZvzirAt/7rU7qT4ce5fxK9tK6W+U9fUVtqkS3U2m70RS1EbTMrfMRtsVHWNGB9wwRudwPVu9hccR2jLgBTBiNY1HSfqaKShQuLH50m5HuN7s157dyTT1N2pblEkFPUBB6dQrGN485G0KPX3A5YMDknk9BNuvOJUy6mJNpGhGs+5nQ0PlzSo60Qdo9N6huOvKfSvbRoBe6immV7hNUGm9WFVzNI8n9EWPCgZIxnyeq4BePWrDsqyp3OlQol1RSkwKsZ8Kl2s/Y+iqbhrSnhuGpJtQVsFkrqI+uUIpadJvTGV3Kxdh4J84HU/Dhh8K8kiZgpHlczRCCGU/Km/31orRozt7etXw2e32q63OONaytoYkiasSOQvE0qoACwM0mGPJDc+BjS4wygE0PiipSUz1rlxqjWFYKCWjdKZxcpvmJZ5o9zwuG8o39IOcH8us4w2FKUs6/SmtCQRTftkl3tnwiGOVpI6eu1RXrHSKTiJaeipUA2n8J9WWoYg+7E+/XuKJzMMpNu9Pp/dOxJ7qB41aX4ZO3lbHoOz6y1jd0moHoImtNtEqfKUVD6UfoNI5AzJ6arlc45AOWHVyH1wDN4ry1BQoI7//ABcoZ660aHbdPGfTa7uQY0A8+mD5/U8fl0OVpm5qCcxtSgXXHcTt9qELrLUGtbc6xCurpqSTL01JsLesqMdrIOOF+5HsR0U3KnA3ASSCRMdNOZvpU6W1TCjE0XN3apO9uoor4a+OvqTG9woadd59CGOBIXBLc7zuUuBwGVseeqp4vJecSuLRppcdfCpHkkSTVT7d2j1R3d1HUR2GhRqekp1krblWyiGmpVHH1ufc+AFBJOBjnorCFKMPB52qVlxCGzmNGtF8Dmr5qZJfkrlVJIN6TRQJErqfBCu24fvj9Oiy8gGMwrxfOyai7v29pdKR0N0qJ5YrVVTjFFDOtS0LbT6myQAAjKuQAPpULliQc1SnipH7ZOhJFj/dIUZ9bGt3tLcZ6rubPSxepAKukrIRWVTgOB6f8sBBxkEZP3xxjx0KGkJYGXYzAqRCQmprQurTV3TXFh9UyUU9LR3FVOcrUU1QIQoyTwFr6nz9l6B4moDAEL1JEeMH6TQuK/5ZoN1rrOurqunoYqh46agQ06ohIDn1HdmYffL4/RR1BgcG12faLTKj9oH5zmg2kApk16p6676oqIqNqp5jJhFVjhEH3wOBjpnZ4bBJLuWI9TU8JbGaKa3bWirtP1eram1VE9PZ9M6VuDV7xttWpqbkIrfCH/zEes7qP6fT9sgGfhrxdZdxTwGZX7egFlR/5Cae2olpZO/9Gp+CqoNI2unulaN6xERU9KBg1MoAwi/8I4LHwBgeWAOTS25iHFq/0g1XiDKjSOW3Veo9StEsI+bq6nCxRJhdztwAB7ZPWr7ZDbPaqPdAk+Qp0ySTU33F1vT1+saPTdAhrdLWFoaAy075JmhkR6idCrcNhGjUnG5clc7+oeDYZ/DYRzGrs89K77C+UGfGTrBMHSjsOhSE9oRc38vzWrefDt8TGhe/yWnTPd3TNsgFtEVNYYbvbjPR1BMaq0UKlG2yjb9I3fgOPY532DcKklK3M0bmJ9hFHhZGtMq1fErBo7W66SvFwNfptaj/ALvuoRZ5aalRgn1iM7WjUlgcjeqYzv5PVe7xlDWLLBT3BHevY7yOXWoSuSJP1pc97e2/Zu0W7VHcerW26k1pPXrNTXGsuT0718lRKsUjxQwyKuYUww2rk7SWJLsxsn1trw63EEERMjek7UQpBPhSW7KU9x0Dr/Ud8emqGpaLTdxxPEDtJZFVVZwOCGyp8ZKnHWDWtLaQGz+6Ig7fUVGhJQCa1rzedVSfDJpitszxVPraguIqFmMRLyRmCePaZPwsCGwAcsGKgMTgnYN7IotqgA7mpkJCgJNq16HujrDXfw49zbpqusqaioqaqyQUhmpFp1VBNViX0wDkoR6JyQOSQAcZOgddC0FINx9R/FQ4loICTzNVr1RWGWqt0AhV2YEKxHIJI/v+nQeHRYmvMgQTVltEawtsnaGw6aujV93tVs1HcJ7zXpGFkkgqYINzqSWKyeoHPn+pcH3FfxJ9hxKG3f3A5gnSY29v4rxVnWlR/bMT0PIc6G9Xd0NS69ordba+4NRaetVJFR0dshcrBBBEgRBj+o7VGWbJJ5JJ6JViCrSg7k3od7U926fRPdfTl/aypd7JRu8y0k6MBM6oxV/GGwQDjB++CcdelbP+RJ7ydtj49PtRraQ2ZOtWQ+Kn4uO1vdntRUC10jXLVQia1SGphMNYsJVw4Qx5Hot6rnG884z46PW01ji2pwd5JSQrS4M+nS9EKlZAQL1VzsRXy2nuRo4QUVRBbRS1tLVmVlIgjmTDSMxwABuBHv4xk9BuqSlOKccUP9JnwmPzSvGClZUabei+5J7Qw01h01YbfqjUV6uZrBNe5zBTqyqeEUOqhQMhS5YliMDJC9V2B4gnEkpQjupFzufAD5XNAt/5FZU+tWW7H3rul3w7c0GsZa7Q+mEr5Z1it9VQV80oSOVow7H1owNxUkBd4K7TuySq6pGFbUkKKtamUgIspXtX/9k=\n",
      "text/plain": [
       "<IPython.core.display.Image object>"
      ]
     },
     "metadata": {},
     "output_type": "display_data"
    },
    {
     "name": "stdout",
     "output_type": "stream",
     "text": [
      "Image (CC BY 2.0)  by Nacho\n",
      "\n"
     ]
    },
    {
     "data": {
      "image/jpeg": "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\n",
      "text/plain": [
       "<IPython.core.display.Image object>"
      ]
     },
     "metadata": {},
     "output_type": "display_data"
    },
    {
     "name": "stdout",
     "output_type": "stream",
     "text": [
      "Image (CC BY 2.0)  by William Warby\n",
      "\n"
     ]
    },
    {
     "data": {
      "image/jpeg": "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\n",
      "text/plain": [
       "<IPython.core.display.Image object>"
      ]
     },
     "metadata": {},
     "output_type": "display_data"
    },
    {
     "name": "stdout",
     "output_type": "stream",
     "text": [
      "Image (CC BY 2.0)  by Manu\n",
      "\n"
     ]
    }
   ],
   "source": [
    "for n in range(3):\n",
    "  image_path = random.choice(all_image_paths)\n",
    "  display.display(display.Image(image_path))\n",
    "  print(caption_image(image_path))\n",
    "  print()"
   ]
  },
  {
   "cell_type": "markdown",
   "metadata": {
    "colab_type": "text",
    "id": "OaNOr-co3WKk"
   },
   "source": [
    "### Determine the label for each image"
   ]
  },
  {
   "cell_type": "markdown",
   "metadata": {
    "colab_type": "text",
    "id": "-weOQpDw2Jnu"
   },
   "source": [
    "List the available labels:"
   ]
  },
  {
   "cell_type": "code",
   "execution_count": 11,
   "metadata": {
    "colab": {},
    "colab_type": "code",
    "id": "ssUZ7Qh96UR3"
   },
   "outputs": [
    {
     "data": {
      "text/plain": [
       "['daisy', 'dandelion', 'roses', 'sunflowers', 'tulips']"
      ]
     },
     "execution_count": 11,
     "metadata": {},
     "output_type": "execute_result"
    }
   ],
   "source": [
    "label_names = sorted(item.name for item in data_root.glob('*/') if item.is_dir())\n",
    "label_names"
   ]
  },
  {
   "cell_type": "markdown",
   "metadata": {
    "colab_type": "text",
    "id": "9l_JEBql2OzS"
   },
   "source": [
    "Assign an index to each label:"
   ]
  },
  {
   "cell_type": "code",
   "execution_count": 12,
   "metadata": {
    "colab": {},
    "colab_type": "code",
    "id": "Y8pCV46CzPlp"
   },
   "outputs": [
    {
     "data": {
      "text/plain": [
       "{'daisy': 0, 'dandelion': 1, 'roses': 2, 'sunflowers': 3, 'tulips': 4}"
      ]
     },
     "execution_count": 12,
     "metadata": {},
     "output_type": "execute_result"
    }
   ],
   "source": [
    "label_to_index = dict((name, index) for index,name in enumerate(label_names))\n",
    "label_to_index"
   ]
  },
  {
   "cell_type": "markdown",
   "metadata": {
    "colab_type": "text",
    "id": "VkXsHg162T9F"
   },
   "source": [
    "Create a list of every file, and its label index"
   ]
  },
  {
   "cell_type": "code",
   "execution_count": 13,
   "metadata": {
    "colab": {},
    "colab_type": "code",
    "id": "q62i1RBP4Q02"
   },
   "outputs": [
    {
     "name": "stdout",
     "output_type": "stream",
     "text": [
      "First 10 labels indices:  [3, 3, 2, 3, 1, 0, 4, 2, 3, 4]\n"
     ]
    }
   ],
   "source": [
    "all_image_labels = [label_to_index[pathlib.Path(path).parent.name]\n",
    "                    for path in all_image_paths]\n",
    "\n",
    "print(\"First 10 labels indices: \", all_image_labels[:10])"
   ]
  },
  {
   "cell_type": "markdown",
   "metadata": {
    "colab_type": "text",
    "id": "i5L09icm9iph"
   },
   "source": [
    "### Load and format the images"
   ]
  },
  {
   "cell_type": "markdown",
   "metadata": {
    "colab_type": "text",
    "id": "SbqqRUS79ooq"
   },
   "source": [
    "TensorFlow includes all the tools you need to load and process images:"
   ]
  },
  {
   "cell_type": "code",
   "execution_count": 19,
   "metadata": {
    "colab": {},
    "colab_type": "code",
    "id": "jQZdySHvksOu"
   },
   "outputs": [
    {
     "data": {
      "text/plain": [
       "'/home/nvidia/.keras/datasets/flower_photos/sunflowers/6080086410_17a02dcfb8.jpg'"
      ]
     },
     "execution_count": 19,
     "metadata": {},
     "output_type": "execute_result"
    }
   ],
   "source": [
    "img_path = all_image_paths[0]\n",
    "img_path"
   ]
  },
  {
   "cell_type": "markdown",
   "metadata": {
    "colab_type": "text",
    "id": "2t2h2XCcmK1Y"
   },
   "source": [
    "here is the raw data:"
   ]
  },
  {
   "cell_type": "code",
   "execution_count": 20,
   "metadata": {
    "colab": {},
    "colab_type": "code",
    "id": "LJfkyC_Qkt7A"
   },
   "outputs": [
    {
     "name": "stdout",
     "output_type": "stream",
     "text": [
      "<tf.Tensor 'ReadFile_1:0' shape=() dtype=string>...\n"
     ]
    }
   ],
   "source": [
    "img_raw = tf.read_file(img_path)\n",
    "print(repr(img_raw)[:100]+\"...\")"
   ]
  },
  {
   "cell_type": "markdown",
   "metadata": {
    "colab_type": "text",
    "id": "opN8AVc8mSbz"
   },
   "source": [
    "Decode it into an image tensor:"
   ]
  },
  {
   "cell_type": "code",
   "execution_count": 21,
   "metadata": {
    "colab": {},
    "colab_type": "code",
    "id": "Tm0tdrlfk0Bb"
   },
   "outputs": [
    {
     "name": "stdout",
     "output_type": "stream",
     "text": [
      "<unknown>\n",
      "<dtype: 'uint8'>\n"
     ]
    }
   ],
   "source": [
    "img_tensor = tf.image.decode_image(img_raw)\n",
    "  \n",
    "print(img_tensor.shape)\n",
    "print(img_tensor.dtype)"
   ]
  },
  {
   "cell_type": "code",
<<<<<<< Updated upstream
   "execution_count": 25,
=======
   "execution_count": 33,
   "metadata": {},
   "outputs": [
    {
     "data": {
      "text/plain": [
       "TensorShape(None)"
      ]
     },
     "execution_count": 33,
     "metadata": {},
     "output_type": "execute_result"
    }
   ],
   "source": [
    "img_tensor.get_shape()"
   ]
  },
  {
   "cell_type": "code",
   "execution_count": 24,
>>>>>>> Stashed changes
   "metadata": {},
   "outputs": [
    {
     "ename": "ValueError",
     "evalue": "'images' contains no shape.",
     "output_type": "error",
     "traceback": [
      "\u001b[0;31m---------------------------------------------------------------------------\u001b[0m",
      "\u001b[0;31mValueError\u001b[0m                                Traceback (most recent call last)",
      "\u001b[0;32m<ipython-input-25-9563ab31a604>\u001b[0m in \u001b[0;36m<module>\u001b[0;34m\u001b[0m\n\u001b[1;32m      1\u001b[0m img_final = tf.image.resize_images(\n\u001b[1;32m      2\u001b[0m     \u001b[0mimg_tensor\u001b[0m\u001b[0;34m,\u001b[0m\u001b[0;34m\u001b[0m\u001b[0m\n\u001b[0;32m----> 3\u001b[0;31m     \u001b[0;34m[\u001b[0m\u001b[0;36m192\u001b[0m\u001b[0;34m,\u001b[0m \u001b[0;36m192\u001b[0m\u001b[0;34m]\u001b[0m\u001b[0;34m,\u001b[0m\u001b[0;34m\u001b[0m\u001b[0m\n\u001b[0m\u001b[1;32m      4\u001b[0m \u001b[0;31m#     method=ResizeMethodV1.BILINEAR,\u001b[0m\u001b[0;34m\u001b[0m\u001b[0;34m\u001b[0m\u001b[0m\n\u001b[1;32m      5\u001b[0m \u001b[0;31m#     align_corners=False,\u001b[0m\u001b[0;34m\u001b[0m\u001b[0;34m\u001b[0m\u001b[0m\n",
      "\u001b[0;32m~/.local/lib/python3.5/site-packages/tensorflow/python/ops/image_ops_impl.py\u001b[0m in \u001b[0;36mresize_images\u001b[0;34m(images, size, method, align_corners)\u001b[0m\n\u001b[1;32m    970\u001b[0m     \u001b[0mimages\u001b[0m \u001b[0;34m=\u001b[0m \u001b[0mops\u001b[0m\u001b[0;34m.\u001b[0m\u001b[0mconvert_to_tensor\u001b[0m\u001b[0;34m(\u001b[0m\u001b[0mimages\u001b[0m\u001b[0;34m,\u001b[0m \u001b[0mname\u001b[0m\u001b[0;34m=\u001b[0m\u001b[0;34m'images'\u001b[0m\u001b[0;34m)\u001b[0m\u001b[0;34m\u001b[0m\u001b[0m\n\u001b[1;32m    971\u001b[0m     \u001b[0;32mif\u001b[0m \u001b[0mimages\u001b[0m\u001b[0;34m.\u001b[0m\u001b[0mget_shape\u001b[0m\u001b[0;34m(\u001b[0m\u001b[0;34m)\u001b[0m\u001b[0;34m.\u001b[0m\u001b[0mndims\u001b[0m \u001b[0;32mis\u001b[0m \u001b[0;32mNone\u001b[0m\u001b[0;34m:\u001b[0m\u001b[0;34m\u001b[0m\u001b[0m\n\u001b[0;32m--> 972\u001b[0;31m       \u001b[0;32mraise\u001b[0m \u001b[0mValueError\u001b[0m\u001b[0;34m(\u001b[0m\u001b[0;34m'\\'images\\' contains no shape.'\u001b[0m\u001b[0;34m)\u001b[0m\u001b[0;34m\u001b[0m\u001b[0m\n\u001b[0m\u001b[1;32m    973\u001b[0m     \u001b[0;31m# TODO(shlens): Migrate this functionality to the underlying Op's.\u001b[0m\u001b[0;34m\u001b[0m\u001b[0;34m\u001b[0m\u001b[0m\n\u001b[1;32m    974\u001b[0m     \u001b[0mis_batch\u001b[0m \u001b[0;34m=\u001b[0m \u001b[0;32mTrue\u001b[0m\u001b[0;34m\u001b[0m\u001b[0m\n",
      "\u001b[0;31mValueError\u001b[0m: 'images' contains no shape."
     ]
    }
   ],
   "source": [
    "img_final = tf.image.resize_images(\n",
    "    img_tensor,\n",
    "    [192, 192],\n",
    "#     method=ResizeMethodV1.BILINEAR,\n",
    "#     align_corners=False,\n",
    "#     preserve_aspect_ratio=False,\n",
    ")"
   ]
  },
  {
   "cell_type": "code",
   "execution_count": 19,
   "metadata": {},
   "outputs": [
    {
     "ename": "NameError",
     "evalue": "name 'img_final' is not defined",
     "output_type": "error",
     "traceback": [
      "\u001b[0;31m---------------------------------------------------------------------------\u001b[0m",
      "\u001b[0;31mNameError\u001b[0m                                 Traceback (most recent call last)",
      "\u001b[0;32m<ipython-input-19-dc2be2be7678>\u001b[0m in \u001b[0;36m<module>\u001b[0;34m\u001b[0m\n\u001b[0;32m----> 1\u001b[0;31m \u001b[0mimg_final\u001b[0m\u001b[0;34m\u001b[0m\u001b[0;34m\u001b[0m\u001b[0m\n\u001b[0m",
      "\u001b[0;31mNameError\u001b[0m: name 'img_final' is not defined"
     ]
    }
   ],
   "source": [
    "img_final"
   ]
  },
  {
   "cell_type": "markdown",
   "metadata": {
    "colab_type": "text",
    "id": "3k-Of2Tfmbeq"
   },
   "source": [
    "Resize it for your model:"
   ]
  },
  {
   "cell_type": "code",
   "execution_count": 26,
   "metadata": {
    "colab": {},
    "colab_type": "code",
    "id": "XFpz-3_vlJgp"
   },
   "outputs": [
    {
     "name": "stdout",
     "output_type": "stream",
     "text": [
      "(192, 192, 3)\n",
      "0.0\n",
      "1.0\n"
     ]
    }
   ],
   "source": [
    "# img_final = tf.image.resize(img_tensor, [192, 192])\n",
    "\n",
    "\n",
    "\n",
    "img_final = img_final/255.0\n",
    "print(img_final.shape)\n",
    "print(img_final.numpy().min())\n",
    "print(img_final.numpy().max())\n"
   ]
  },
  {
   "cell_type": "markdown",
   "metadata": {
    "colab_type": "text",
    "id": "aCsAa4Psl4AQ"
   },
   "source": [
    "Wrap up these up in simple functions for later."
   ]
  },
  {
   "cell_type": "code",
   "execution_count": 28,
   "metadata": {
    "colab": {},
    "colab_type": "code",
    "id": "HmUiZJNU73vA"
   },
   "outputs": [],
   "source": [
    "def preprocess_image(image):\n",
    "    image = tf.image.decode_jpeg(image, channels=3)\n",
    "    img_final = tf.image.resize_images(\n",
    "        img_tensor,\n",
    "        [192, 192],\n",
    "        align_corners=False,\n",
    "        preserve_aspect_ratio=False,\n",
    "    )\n",
    "    image /= 255.0  # normalize to [0,1] range\n",
    "\n",
    "    return image"
   ]
  },
  {
   "cell_type": "code",
   "execution_count": 29,
   "metadata": {
    "colab": {},
    "colab_type": "code",
    "id": "einETrJnO-em"
   },
   "outputs": [],
   "source": [
    "def load_and_preprocess_image(path):\n",
    "    image = tf.read_file(path)\n",
    "    return preprocess_image(image)"
   ]
  },
  {
   "cell_type": "code",
   "execution_count": 31,
   "metadata": {
    "colab": {},
    "colab_type": "code",
    "id": "3brWQcdtz78y"
   },
   "outputs": [
    {
     "name": "stdout",
     "output_type": "stream",
     "text": [
      "\n"
     ]
    }
   ],
   "source": [
    "import matplotlib.pyplot as plt\n",
    "\n",
    "img_path = all_image_paths[0]\n",
    "label = all_image_labels[0]\n",
    "\n",
    "plt.imshow(load_and_preprocess_image(img_path))\n",
    "plt.grid(False)\n",
    "plt.xlabel(caption_image(img_path).encode('utf-8'))\n",
    "plt.title(label_names[label].title())\n",
    "print()"
   ]
  },
  {
   "cell_type": "markdown",
   "metadata": {
    "colab_type": "text",
    "id": "n2TCr1TQ8pA3"
   },
   "source": [
    "## Build a `tf.data.Dataset`"
   ]
  },
  {
   "cell_type": "markdown",
   "metadata": {
    "colab_type": "text",
    "id": "6H9Z5Mq63nSH"
   },
   "source": [
    "### A dataset of images"
   ]
  },
  {
   "cell_type": "markdown",
   "metadata": {
    "colab_type": "text",
    "id": "GN-s04s-6Luq"
   },
   "source": [
    "The easiest way to build a `tf.data.Dataset` is using the `from_tensor_slices` method.\n",
    "\n",
    "Slicing the array of strings results in a dataset of strings:"
   ]
  },
  {
   "cell_type": "code",
   "execution_count": 25,
   "metadata": {
    "colab": {},
    "colab_type": "code",
    "id": "6oRPG3Jz3ie_"
   },
   "outputs": [],
   "source": [
    "path_ds = tf.data.Dataset.from_tensor_slices(all_image_paths)"
   ]
  },
  {
   "cell_type": "markdown",
   "metadata": {
    "colab_type": "text",
    "id": "uML4JeMmIAvO"
   },
   "source": [
    "The `output_shapes` and `output_types` fields describe the content of each item in the dataset. In this case it is a set of scalar binary-strings"
   ]
  },
  {
   "cell_type": "code",
   "execution_count": 26,
   "metadata": {
    "colab": {},
    "colab_type": "code",
    "id": "mIsNflFbIK34"
   },
   "outputs": [
    {
     "name": "stdout",
     "output_type": "stream",
     "text": [
      "shape:  TensorShape([])\n",
      "type:  <dtype: 'string'>\n",
      "\n",
      "<DatasetV1Adapter shapes: (), types: tf.string>\n"
     ]
    }
   ],
   "source": [
    "print('shape: ', repr(path_ds.output_shapes))\n",
    "print('type: ', path_ds.output_types)\n",
    "print()\n",
    "print(path_ds)"
   ]
  },
  {
   "cell_type": "markdown",
   "metadata": {
    "colab_type": "text",
    "id": "ZjyGcM8OwBJ2"
   },
   "source": [
    "Now create a new dataset that loads and formats images on the fly by mapping `preprocess_image` over the dataset of paths."
   ]
  },
  {
   "cell_type": "code",
   "execution_count": 30,
   "metadata": {
    "colab": {},
    "colab_type": "code",
    "id": "D1iba6f4khu-"
   },
   "outputs": [
    {
     "ename": "ValueError",
     "evalue": "'images' contains no shape.",
     "output_type": "error",
     "traceback": [
      "\u001b[0;31m---------------------------------------------------------------------------\u001b[0m",
      "\u001b[0;31mValueError\u001b[0m                                Traceback (most recent call last)",
      "\u001b[0;32m<ipython-input-30-842bee441f8c>\u001b[0m in \u001b[0;36m<module>\u001b[0;34m\u001b[0m\n\u001b[0;32m----> 1\u001b[0;31m \u001b[0mimage_ds\u001b[0m \u001b[0;34m=\u001b[0m \u001b[0mpath_ds\u001b[0m\u001b[0;34m.\u001b[0m\u001b[0mmap\u001b[0m\u001b[0;34m(\u001b[0m\u001b[0mload_and_preprocess_image\u001b[0m\u001b[0;34m,\u001b[0m \u001b[0mnum_parallel_calls\u001b[0m\u001b[0;34m=\u001b[0m\u001b[0mAUTOTUNE\u001b[0m\u001b[0;34m)\u001b[0m\u001b[0;34m\u001b[0m\u001b[0;34m\u001b[0m\u001b[0m\n\u001b[0m",
      "\u001b[0;32m~/miniconda3/envs/tf/lib/python3.6/site-packages/tensorflow/python/data/ops/dataset_ops.py\u001b[0m in \u001b[0;36mmap\u001b[0;34m(self, map_func, num_parallel_calls)\u001b[0m\n\u001b[1;32m   1582\u001b[0m       return DatasetV1Adapter(\n\u001b[1;32m   1583\u001b[0m           ParallelMapDataset(\n\u001b[0;32m-> 1584\u001b[0;31m               self, map_func, num_parallel_calls, preserve_cardinality=False))\n\u001b[0m\u001b[1;32m   1585\u001b[0m \u001b[0;34m\u001b[0m\u001b[0m\n\u001b[1;32m   1586\u001b[0m   \u001b[0;34m@\u001b[0m\u001b[0mfunctools\u001b[0m\u001b[0;34m.\u001b[0m\u001b[0mwraps\u001b[0m\u001b[0;34m(\u001b[0m\u001b[0mDatasetV2\u001b[0m\u001b[0;34m.\u001b[0m\u001b[0mflat_map\u001b[0m\u001b[0;34m)\u001b[0m\u001b[0;34m\u001b[0m\u001b[0;34m\u001b[0m\u001b[0m\n",
      "\u001b[0;32m~/miniconda3/envs/tf/lib/python3.6/site-packages/tensorflow/python/data/ops/dataset_ops.py\u001b[0m in \u001b[0;36m__init__\u001b[0;34m(self, input_dataset, map_func, num_parallel_calls, use_inter_op_parallelism, preserve_cardinality)\u001b[0m\n\u001b[1;32m   2769\u001b[0m     \u001b[0;34m\"\"\"See `Dataset.map()` for details.\"\"\"\u001b[0m\u001b[0;34m\u001b[0m\u001b[0;34m\u001b[0m\u001b[0m\n\u001b[1;32m   2770\u001b[0m     super(ParallelMapDataset, self).__init__(\n\u001b[0;32m-> 2771\u001b[0;31m         input_dataset, map_func, use_inter_op_parallelism, preserve_cardinality)\n\u001b[0m\u001b[1;32m   2772\u001b[0m \u001b[0;34m\u001b[0m\u001b[0m\n\u001b[1;32m   2773\u001b[0m     self._num_parallel_calls = ops.convert_to_tensor(\n",
      "\u001b[0;32m~/miniconda3/envs/tf/lib/python3.6/site-packages/tensorflow/python/data/ops/dataset_ops.py\u001b[0m in \u001b[0;36m__init__\u001b[0;34m(self, input_dataset, map_func, use_inter_op_parallelism, preserve_cardinality)\u001b[0m\n\u001b[1;32m   2735\u001b[0m     \u001b[0mself\u001b[0m\u001b[0;34m.\u001b[0m\u001b[0m_preserve_cardinality\u001b[0m \u001b[0;34m=\u001b[0m \u001b[0mpreserve_cardinality\u001b[0m\u001b[0;34m\u001b[0m\u001b[0;34m\u001b[0m\u001b[0m\n\u001b[1;32m   2736\u001b[0m     self._map_func = StructuredFunctionWrapper(\n\u001b[0;32m-> 2737\u001b[0;31m         map_func, self._transformation_name(), dataset=input_dataset)\n\u001b[0m\u001b[1;32m   2738\u001b[0m \u001b[0;34m\u001b[0m\u001b[0m\n\u001b[1;32m   2739\u001b[0m   \u001b[0;32mdef\u001b[0m \u001b[0m_as_variant_tensor\u001b[0m\u001b[0;34m(\u001b[0m\u001b[0mself\u001b[0m\u001b[0;34m)\u001b[0m\u001b[0;34m:\u001b[0m\u001b[0;34m\u001b[0m\u001b[0;34m\u001b[0m\u001b[0m\n",
      "\u001b[0;32m~/miniconda3/envs/tf/lib/python3.6/site-packages/tensorflow/python/data/ops/dataset_ops.py\u001b[0m in \u001b[0;36m__init__\u001b[0;34m(self, func, transformation_name, dataset, input_classes, input_shapes, input_types, input_structure, add_to_graph, defun_kwargs)\u001b[0m\n\u001b[1;32m   2122\u001b[0m     \u001b[0mself\u001b[0m\u001b[0;34m.\u001b[0m\u001b[0m_function\u001b[0m \u001b[0;34m=\u001b[0m \u001b[0mtf_data_structured_function_wrapper\u001b[0m\u001b[0;34m\u001b[0m\u001b[0;34m\u001b[0m\u001b[0m\n\u001b[1;32m   2123\u001b[0m     \u001b[0;32mif\u001b[0m \u001b[0madd_to_graph\u001b[0m\u001b[0;34m:\u001b[0m\u001b[0;34m\u001b[0m\u001b[0;34m\u001b[0m\u001b[0m\n\u001b[0;32m-> 2124\u001b[0;31m       \u001b[0mself\u001b[0m\u001b[0;34m.\u001b[0m\u001b[0m_function\u001b[0m\u001b[0;34m.\u001b[0m\u001b[0madd_to_graph\u001b[0m\u001b[0;34m(\u001b[0m\u001b[0mops\u001b[0m\u001b[0;34m.\u001b[0m\u001b[0mget_default_graph\u001b[0m\u001b[0;34m(\u001b[0m\u001b[0;34m)\u001b[0m\u001b[0;34m)\u001b[0m\u001b[0;34m\u001b[0m\u001b[0;34m\u001b[0m\u001b[0m\n\u001b[0m\u001b[1;32m   2125\u001b[0m     \u001b[0;32melse\u001b[0m\u001b[0;34m:\u001b[0m\u001b[0;34m\u001b[0m\u001b[0;34m\u001b[0m\u001b[0m\n\u001b[1;32m   2126\u001b[0m       \u001b[0;31m# Use the private method that will execute\u001b[0m\u001b[0;34m\u001b[0m\u001b[0;34m\u001b[0m\u001b[0;34m\u001b[0m\u001b[0m\n",
      "\u001b[0;32m~/miniconda3/envs/tf/lib/python3.6/site-packages/tensorflow/python/framework/function.py\u001b[0m in \u001b[0;36madd_to_graph\u001b[0;34m(self, g)\u001b[0m\n\u001b[1;32m    488\u001b[0m   \u001b[0;32mdef\u001b[0m \u001b[0madd_to_graph\u001b[0m\u001b[0;34m(\u001b[0m\u001b[0mself\u001b[0m\u001b[0;34m,\u001b[0m \u001b[0mg\u001b[0m\u001b[0;34m)\u001b[0m\u001b[0;34m:\u001b[0m\u001b[0;34m\u001b[0m\u001b[0;34m\u001b[0m\u001b[0m\n\u001b[1;32m    489\u001b[0m     \u001b[0;34m\"\"\"Adds this function into the graph g.\"\"\"\u001b[0m\u001b[0;34m\u001b[0m\u001b[0;34m\u001b[0m\u001b[0m\n\u001b[0;32m--> 490\u001b[0;31m     \u001b[0mself\u001b[0m\u001b[0;34m.\u001b[0m\u001b[0m_create_definition_if_needed\u001b[0m\u001b[0;34m(\u001b[0m\u001b[0;34m)\u001b[0m\u001b[0;34m\u001b[0m\u001b[0;34m\u001b[0m\u001b[0m\n\u001b[0m\u001b[1;32m    491\u001b[0m \u001b[0;34m\u001b[0m\u001b[0m\n\u001b[1;32m    492\u001b[0m     \u001b[0;31m# Adds this function into 'g'.\u001b[0m\u001b[0;34m\u001b[0m\u001b[0;34m\u001b[0m\u001b[0;34m\u001b[0m\u001b[0m\n",
      "\u001b[0;32m~/miniconda3/envs/tf/lib/python3.6/site-packages/tensorflow/python/framework/function.py\u001b[0m in \u001b[0;36m_create_definition_if_needed\u001b[0;34m(self)\u001b[0m\n\u001b[1;32m    339\u001b[0m     \u001b[0;34m\"\"\"Creates the function definition if it's not created yet.\"\"\"\u001b[0m\u001b[0;34m\u001b[0m\u001b[0;34m\u001b[0m\u001b[0m\n\u001b[1;32m    340\u001b[0m     \u001b[0;32mwith\u001b[0m \u001b[0mcontext\u001b[0m\u001b[0;34m.\u001b[0m\u001b[0mgraph_mode\u001b[0m\u001b[0;34m(\u001b[0m\u001b[0;34m)\u001b[0m\u001b[0;34m:\u001b[0m\u001b[0;34m\u001b[0m\u001b[0;34m\u001b[0m\u001b[0m\n\u001b[0;32m--> 341\u001b[0;31m       \u001b[0mself\u001b[0m\u001b[0;34m.\u001b[0m\u001b[0m_create_definition_if_needed_impl\u001b[0m\u001b[0;34m(\u001b[0m\u001b[0;34m)\u001b[0m\u001b[0;34m\u001b[0m\u001b[0;34m\u001b[0m\u001b[0m\n\u001b[0m\u001b[1;32m    342\u001b[0m \u001b[0;34m\u001b[0m\u001b[0m\n\u001b[1;32m    343\u001b[0m   \u001b[0;32mdef\u001b[0m \u001b[0m_create_definition_if_needed_impl\u001b[0m\u001b[0;34m(\u001b[0m\u001b[0mself\u001b[0m\u001b[0;34m)\u001b[0m\u001b[0;34m:\u001b[0m\u001b[0;34m\u001b[0m\u001b[0;34m\u001b[0m\u001b[0m\n",
      "\u001b[0;32m~/miniconda3/envs/tf/lib/python3.6/site-packages/tensorflow/python/framework/function.py\u001b[0m in \u001b[0;36m_create_definition_if_needed_impl\u001b[0;34m(self)\u001b[0m\n\u001b[1;32m    353\u001b[0m         \u001b[0mself\u001b[0m\u001b[0;34m.\u001b[0m\u001b[0m_capture_by_value\u001b[0m\u001b[0;34m,\u001b[0m\u001b[0;34m\u001b[0m\u001b[0;34m\u001b[0m\u001b[0m\n\u001b[1;32m    354\u001b[0m         \u001b[0mself\u001b[0m\u001b[0;34m.\u001b[0m\u001b[0m_caller_device\u001b[0m\u001b[0;34m,\u001b[0m\u001b[0;34m\u001b[0m\u001b[0;34m\u001b[0m\u001b[0m\n\u001b[0;32m--> 355\u001b[0;31m         whitelisted_stateful_ops=self._whitelisted_stateful_ops)\n\u001b[0m\u001b[1;32m    356\u001b[0m \u001b[0;34m\u001b[0m\u001b[0m\n\u001b[1;32m    357\u001b[0m     \u001b[0mself\u001b[0m\u001b[0;34m.\u001b[0m\u001b[0m_extra_inputs\u001b[0m \u001b[0;34m=\u001b[0m \u001b[0mtemp_graph\u001b[0m\u001b[0;34m.\u001b[0m\u001b[0mextra_inputs\u001b[0m\u001b[0;34m\u001b[0m\u001b[0;34m\u001b[0m\u001b[0m\n",
      "\u001b[0;32m~/miniconda3/envs/tf/lib/python3.6/site-packages/tensorflow/python/framework/function.py\u001b[0m in \u001b[0;36mfunc_graph_from_py_func\u001b[0;34m(func, arg_names, arg_types, name, capture_by_value, device, colocation_stack, container, collections_ref, arg_shapes, whitelisted_stateful_ops)\u001b[0m\n\u001b[1;32m    881\u001b[0m     \u001b[0;31m# Call func and gather the output tensors.\u001b[0m\u001b[0;34m\u001b[0m\u001b[0;34m\u001b[0m\u001b[0;34m\u001b[0m\u001b[0m\n\u001b[1;32m    882\u001b[0m     \u001b[0;32mwith\u001b[0m \u001b[0mvs\u001b[0m\u001b[0;34m.\u001b[0m\u001b[0mvariable_scope\u001b[0m\u001b[0;34m(\u001b[0m\u001b[0;34m\"\"\u001b[0m\u001b[0;34m,\u001b[0m \u001b[0mcustom_getter\u001b[0m\u001b[0;34m=\u001b[0m\u001b[0mfunc_graph\u001b[0m\u001b[0;34m.\u001b[0m\u001b[0mgetvar\u001b[0m\u001b[0;34m)\u001b[0m\u001b[0;34m:\u001b[0m\u001b[0;34m\u001b[0m\u001b[0;34m\u001b[0m\u001b[0m\n\u001b[0;32m--> 883\u001b[0;31m       \u001b[0moutputs\u001b[0m \u001b[0;34m=\u001b[0m \u001b[0mfunc\u001b[0m\u001b[0;34m(\u001b[0m\u001b[0;34m*\u001b[0m\u001b[0mfunc_graph\u001b[0m\u001b[0;34m.\u001b[0m\u001b[0minputs\u001b[0m\u001b[0;34m)\u001b[0m\u001b[0;34m\u001b[0m\u001b[0;34m\u001b[0m\u001b[0m\n\u001b[0m\u001b[1;32m    884\u001b[0m \u001b[0;34m\u001b[0m\u001b[0m\n\u001b[1;32m    885\u001b[0m     \u001b[0;31m# There is no way of distinguishing between a function not returning\u001b[0m\u001b[0;34m\u001b[0m\u001b[0;34m\u001b[0m\u001b[0;34m\u001b[0m\u001b[0m\n",
      "\u001b[0;32m~/miniconda3/envs/tf/lib/python3.6/site-packages/tensorflow/python/data/ops/dataset_ops.py\u001b[0m in \u001b[0;36mtf_data_structured_function_wrapper\u001b[0;34m(*args)\u001b[0m\n\u001b[1;32m   2097\u001b[0m         \u001b[0mnested_args\u001b[0m \u001b[0;34m=\u001b[0m \u001b[0;34m(\u001b[0m\u001b[0mnested_args\u001b[0m\u001b[0;34m,\u001b[0m\u001b[0;34m)\u001b[0m\u001b[0;34m\u001b[0m\u001b[0;34m\u001b[0m\u001b[0m\n\u001b[1;32m   2098\u001b[0m \u001b[0;34m\u001b[0m\u001b[0m\n\u001b[0;32m-> 2099\u001b[0;31m       \u001b[0mret\u001b[0m \u001b[0;34m=\u001b[0m \u001b[0mfunc\u001b[0m\u001b[0;34m(\u001b[0m\u001b[0;34m*\u001b[0m\u001b[0mnested_args\u001b[0m\u001b[0;34m)\u001b[0m\u001b[0;34m\u001b[0m\u001b[0;34m\u001b[0m\u001b[0m\n\u001b[0m\u001b[1;32m   2100\u001b[0m       \u001b[0;31m# If `func` returns a list of tensors, `nest.flatten()` and\u001b[0m\u001b[0;34m\u001b[0m\u001b[0;34m\u001b[0m\u001b[0;34m\u001b[0m\u001b[0m\n\u001b[1;32m   2101\u001b[0m       \u001b[0;31m# `ops.convert_to_tensor()` would conspire to attempt to stack\u001b[0m\u001b[0;34m\u001b[0m\u001b[0;34m\u001b[0m\u001b[0;34m\u001b[0m\u001b[0m\n",
      "\u001b[0;32m<ipython-input-29-d93df5196791>\u001b[0m in \u001b[0;36mload_and_preprocess_image\u001b[0;34m(path)\u001b[0m\n\u001b[1;32m      1\u001b[0m \u001b[0;32mdef\u001b[0m \u001b[0mload_and_preprocess_image\u001b[0m\u001b[0;34m(\u001b[0m\u001b[0mpath\u001b[0m\u001b[0;34m)\u001b[0m\u001b[0;34m:\u001b[0m\u001b[0;34m\u001b[0m\u001b[0;34m\u001b[0m\u001b[0m\n\u001b[1;32m      2\u001b[0m     \u001b[0mimage\u001b[0m \u001b[0;34m=\u001b[0m \u001b[0mtf\u001b[0m\u001b[0;34m.\u001b[0m\u001b[0mread_file\u001b[0m\u001b[0;34m(\u001b[0m\u001b[0mpath\u001b[0m\u001b[0;34m)\u001b[0m\u001b[0;34m\u001b[0m\u001b[0;34m\u001b[0m\u001b[0m\n\u001b[0;32m----> 3\u001b[0;31m     \u001b[0;32mreturn\u001b[0m \u001b[0mpreprocess_image\u001b[0m\u001b[0;34m(\u001b[0m\u001b[0mimage\u001b[0m\u001b[0;34m)\u001b[0m\u001b[0;34m\u001b[0m\u001b[0;34m\u001b[0m\u001b[0m\n\u001b[0m",
      "\u001b[0;32m<ipython-input-28-ce4757c67a13>\u001b[0m in \u001b[0;36mpreprocess_image\u001b[0;34m(image)\u001b[0m\n\u001b[1;32m      5\u001b[0m         \u001b[0;34m[\u001b[0m\u001b[0;36m192\u001b[0m\u001b[0;34m,\u001b[0m \u001b[0;36m192\u001b[0m\u001b[0;34m]\u001b[0m\u001b[0;34m,\u001b[0m\u001b[0;34m\u001b[0m\u001b[0;34m\u001b[0m\u001b[0m\n\u001b[1;32m      6\u001b[0m         \u001b[0malign_corners\u001b[0m\u001b[0;34m=\u001b[0m\u001b[0;32mFalse\u001b[0m\u001b[0;34m,\u001b[0m\u001b[0;34m\u001b[0m\u001b[0;34m\u001b[0m\u001b[0m\n\u001b[0;32m----> 7\u001b[0;31m         \u001b[0mpreserve_aspect_ratio\u001b[0m\u001b[0;34m=\u001b[0m\u001b[0;32mFalse\u001b[0m\u001b[0;34m,\u001b[0m\u001b[0;34m\u001b[0m\u001b[0;34m\u001b[0m\u001b[0m\n\u001b[0m\u001b[1;32m      8\u001b[0m     )\n\u001b[1;32m      9\u001b[0m     \u001b[0mimage\u001b[0m \u001b[0;34m/=\u001b[0m \u001b[0;36m255.0\u001b[0m  \u001b[0;31m# normalize to [0,1] range\u001b[0m\u001b[0;34m\u001b[0m\u001b[0;34m\u001b[0m\u001b[0m\n",
      "\u001b[0;32m~/miniconda3/envs/tf/lib/python3.6/site-packages/tensorflow/python/ops/image_ops_impl.py\u001b[0m in \u001b[0;36mresize_images\u001b[0;34m(images, size, method, align_corners, preserve_aspect_ratio)\u001b[0m\n\u001b[1;32m    958\u001b[0m       \u001b[0malign_corners\u001b[0m\u001b[0;34m=\u001b[0m\u001b[0malign_corners\u001b[0m\u001b[0;34m,\u001b[0m\u001b[0;34m\u001b[0m\u001b[0;34m\u001b[0m\u001b[0m\n\u001b[1;32m    959\u001b[0m       \u001b[0mpreserve_aspect_ratio\u001b[0m\u001b[0;34m=\u001b[0m\u001b[0mpreserve_aspect_ratio\u001b[0m\u001b[0;34m,\u001b[0m\u001b[0;34m\u001b[0m\u001b[0;34m\u001b[0m\u001b[0m\n\u001b[0;32m--> 960\u001b[0;31m       name=None)\n\u001b[0m\u001b[1;32m    961\u001b[0m \u001b[0;34m\u001b[0m\u001b[0m\n\u001b[1;32m    962\u001b[0m \u001b[0;34m\u001b[0m\u001b[0m\n",
      "\u001b[0;32m~/miniconda3/envs/tf/lib/python3.6/site-packages/tensorflow/python/ops/image_ops_impl.py\u001b[0m in \u001b[0;36mresize_images_v2\u001b[0;34m(images, size, method, align_corners, preserve_aspect_ratio, name)\u001b[0m\n\u001b[1;32m   1020\u001b[0m     \u001b[0mimages\u001b[0m \u001b[0;34m=\u001b[0m \u001b[0mops\u001b[0m\u001b[0;34m.\u001b[0m\u001b[0mconvert_to_tensor\u001b[0m\u001b[0;34m(\u001b[0m\u001b[0mimages\u001b[0m\u001b[0;34m,\u001b[0m \u001b[0mname\u001b[0m\u001b[0;34m=\u001b[0m\u001b[0;34m'images'\u001b[0m\u001b[0;34m)\u001b[0m\u001b[0;34m\u001b[0m\u001b[0;34m\u001b[0m\u001b[0m\n\u001b[1;32m   1021\u001b[0m     \u001b[0;32mif\u001b[0m \u001b[0mimages\u001b[0m\u001b[0;34m.\u001b[0m\u001b[0mget_shape\u001b[0m\u001b[0;34m(\u001b[0m\u001b[0;34m)\u001b[0m\u001b[0;34m.\u001b[0m\u001b[0mndims\u001b[0m \u001b[0;32mis\u001b[0m \u001b[0;32mNone\u001b[0m\u001b[0;34m:\u001b[0m\u001b[0;34m\u001b[0m\u001b[0;34m\u001b[0m\u001b[0m\n\u001b[0;32m-> 1022\u001b[0;31m       \u001b[0;32mraise\u001b[0m \u001b[0mValueError\u001b[0m\u001b[0;34m(\u001b[0m\u001b[0;34m'\\'images\\' contains no shape.'\u001b[0m\u001b[0;34m)\u001b[0m\u001b[0;34m\u001b[0m\u001b[0;34m\u001b[0m\u001b[0m\n\u001b[0m\u001b[1;32m   1023\u001b[0m     \u001b[0;31m# TODO(shlens): Migrate this functionality to the underlying Op's.\u001b[0m\u001b[0;34m\u001b[0m\u001b[0;34m\u001b[0m\u001b[0;34m\u001b[0m\u001b[0m\n\u001b[1;32m   1024\u001b[0m     \u001b[0mis_batch\u001b[0m \u001b[0;34m=\u001b[0m \u001b[0;32mTrue\u001b[0m\u001b[0;34m\u001b[0m\u001b[0;34m\u001b[0m\u001b[0m\n",
      "\u001b[0;31mValueError\u001b[0m: 'images' contains no shape."
     ]
    }
   ],
   "source": [
    "image_ds = path_ds.map(load_and_preprocess_image, num_parallel_calls=AUTOTUNE)"
   ]
  },
  {
   "cell_type": "code",
   "execution_count": 35,
   "metadata": {
    "colab": {},
    "colab_type": "code",
    "id": "JLUPs2a-lEEJ"
   },
   "outputs": [
    {
     "ename": "NameError",
     "evalue": "name 'image_ds' is not defined",
     "output_type": "error",
     "traceback": [
      "\u001b[0;31m---------------------------------------------------------------------------\u001b[0m",
      "\u001b[0;31mNameError\u001b[0m                                 Traceback (most recent call last)",
      "\u001b[0;32m<ipython-input-35-bcb69034c7b7>\u001b[0m in \u001b[0;36m<module>\u001b[0;34m\u001b[0m\n\u001b[1;32m      2\u001b[0m \u001b[0;34m\u001b[0m\u001b[0m\n\u001b[1;32m      3\u001b[0m \u001b[0mplt\u001b[0m\u001b[0;34m.\u001b[0m\u001b[0mfigure\u001b[0m\u001b[0;34m(\u001b[0m\u001b[0mfigsize\u001b[0m\u001b[0;34m=\u001b[0m\u001b[0;34m(\u001b[0m\u001b[0;36m8\u001b[0m\u001b[0;34m,\u001b[0m\u001b[0;36m8\u001b[0m\u001b[0;34m)\u001b[0m\u001b[0;34m)\u001b[0m\u001b[0;34m\u001b[0m\u001b[0;34m\u001b[0m\u001b[0m\n\u001b[0;32m----> 4\u001b[0;31m \u001b[0;32mfor\u001b[0m \u001b[0mn\u001b[0m\u001b[0;34m,\u001b[0m\u001b[0mimage\u001b[0m \u001b[0;32min\u001b[0m \u001b[0menumerate\u001b[0m\u001b[0;34m(\u001b[0m\u001b[0mimage_ds\u001b[0m\u001b[0;34m.\u001b[0m\u001b[0mtake\u001b[0m\u001b[0;34m(\u001b[0m\u001b[0;36m4\u001b[0m\u001b[0;34m)\u001b[0m\u001b[0;34m)\u001b[0m\u001b[0;34m:\u001b[0m\u001b[0;34m\u001b[0m\u001b[0;34m\u001b[0m\u001b[0m\n\u001b[0m\u001b[1;32m      5\u001b[0m   \u001b[0mplt\u001b[0m\u001b[0;34m.\u001b[0m\u001b[0msubplot\u001b[0m\u001b[0;34m(\u001b[0m\u001b[0;36m2\u001b[0m\u001b[0;34m,\u001b[0m\u001b[0;36m2\u001b[0m\u001b[0;34m,\u001b[0m\u001b[0mn\u001b[0m\u001b[0;34m+\u001b[0m\u001b[0;36m1\u001b[0m\u001b[0;34m)\u001b[0m\u001b[0;34m\u001b[0m\u001b[0;34m\u001b[0m\u001b[0m\n\u001b[1;32m      6\u001b[0m   \u001b[0mplt\u001b[0m\u001b[0;34m.\u001b[0m\u001b[0mimshow\u001b[0m\u001b[0;34m(\u001b[0m\u001b[0mimage\u001b[0m\u001b[0;34m)\u001b[0m\u001b[0;34m\u001b[0m\u001b[0;34m\u001b[0m\u001b[0m\n",
      "\u001b[0;31mNameError\u001b[0m: name 'image_ds' is not defined"
     ]
    },
    {
     "data": {
      "text/plain": [
       "<Figure size 576x576 with 0 Axes>"
      ]
     },
     "metadata": {},
     "output_type": "display_data"
    }
   ],
   "source": [
    "import matplotlib.pyplot as plt\n",
    "\n",
    "plt.figure(figsize=(8,8))\n",
    "for n,image in enumerate(image_ds.take(4)):\n",
    "  plt.subplot(2,2,n+1)\n",
    "  plt.imshow(image)\n",
    "  plt.grid(False)\n",
    "  plt.xticks([])\n",
    "  plt.yticks([])\n",
    "  plt.xlabel(caption_image(all_image_paths[n]))\n",
    "  plt.show()"
   ]
  },
  {
   "cell_type": "markdown",
   "metadata": {
    "colab_type": "text",
    "id": "P6FNqPbxkbdx"
   },
   "source": [
    "### A dataset of `(image, label)` pairs"
   ]
  },
  {
   "cell_type": "markdown",
   "metadata": {
    "colab_type": "text",
    "id": "YgvrWLKG67-x"
   },
   "source": [
    "Using the same `from_tensor_slices` method you can build a dataset of labels"
   ]
  },
  {
   "cell_type": "code",
   "execution_count": 36,
   "metadata": {
    "colab": {},
    "colab_type": "code",
    "id": "AgBsAiV06udj"
   },
   "outputs": [],
   "source": [
    "label_ds = tf.data.Dataset.from_tensor_slices(tf.cast(all_image_labels, tf.int64))"
   ]
  },
  {
   "cell_type": "code",
   "execution_count": 37,
   "metadata": {
    "colab": {},
    "colab_type": "code",
    "id": "HEsk5nN0vyeX"
   },
   "outputs": [
    {
     "name": "stdout",
     "output_type": "stream",
     "text": [
      "roses\n",
      "dandelion\n",
      "dandelion\n",
      "roses\n",
      "dandelion\n",
      "roses\n",
      "tulips\n",
      "tulips\n",
      "tulips\n",
      "daisy\n"
     ]
    }
   ],
   "source": [
    "for label in label_ds.take(10):\n",
    "  print(label_names[label.numpy()])"
   ]
  },
  {
   "cell_type": "markdown",
   "metadata": {
    "colab_type": "text",
    "id": "jHjgrEeTxyYz"
   },
   "source": [
    "Since the datasets are in the same order you can just zip them together to get a dataset of `(image, label)` pairs."
   ]
  },
  {
   "cell_type": "code",
   "execution_count": 38,
   "metadata": {
    "colab": {},
    "colab_type": "code",
    "id": "AOEWNMdQwsbN"
   },
   "outputs": [
    {
     "ename": "NameError",
     "evalue": "name 'image_ds' is not defined",
     "output_type": "error",
     "traceback": [
      "\u001b[0;31m---------------------------------------------------------------------------\u001b[0m",
      "\u001b[0;31mNameError\u001b[0m                                 Traceback (most recent call last)",
      "\u001b[0;32m<ipython-input-38-cb88674ad63e>\u001b[0m in \u001b[0;36m<module>\u001b[0;34m\u001b[0m\n\u001b[0;32m----> 1\u001b[0;31m \u001b[0mimage_label_ds\u001b[0m \u001b[0;34m=\u001b[0m \u001b[0mtf\u001b[0m\u001b[0;34m.\u001b[0m\u001b[0mdata\u001b[0m\u001b[0;34m.\u001b[0m\u001b[0mDataset\u001b[0m\u001b[0;34m.\u001b[0m\u001b[0mzip\u001b[0m\u001b[0;34m(\u001b[0m\u001b[0;34m(\u001b[0m\u001b[0mimage_ds\u001b[0m\u001b[0;34m,\u001b[0m \u001b[0mlabel_ds\u001b[0m\u001b[0;34m)\u001b[0m\u001b[0;34m)\u001b[0m\u001b[0;34m\u001b[0m\u001b[0;34m\u001b[0m\u001b[0m\n\u001b[0m",
      "\u001b[0;31mNameError\u001b[0m: name 'image_ds' is not defined"
     ]
    }
   ],
   "source": [
    "image_label_ds = tf.data.Dataset.zip((image_ds, label_ds)) n"
   ]
  },
  {
   "cell_type": "markdown",
   "metadata": {
    "colab_type": "text",
    "id": "yA2F09SJLMuM"
   },
   "source": [
    "The new dataset's `shapes` and `types` are tuples of shapes and types as well, describing each field:"
   ]
  },
  {
   "cell_type": "code",
   "execution_count": 39,
   "metadata": {
    "colab": {},
    "colab_type": "code",
    "id": "DuVYNinrLL-N"
   },
   "outputs": [
    {
     "ename": "NameError",
     "evalue": "name 'image_label_ds' is not defined",
     "output_type": "error",
     "traceback": [
      "\u001b[0;31m---------------------------------------------------------------------------\u001b[0m",
      "\u001b[0;31mNameError\u001b[0m                                 Traceback (most recent call last)",
      "\u001b[0;32m<ipython-input-39-ac310617766f>\u001b[0m in \u001b[0;36m<module>\u001b[0;34m\u001b[0m\n\u001b[0;32m----> 1\u001b[0;31m \u001b[0mprint\u001b[0m\u001b[0;34m(\u001b[0m\u001b[0mimage_label_ds\u001b[0m\u001b[0;34m)\u001b[0m\u001b[0;34m\u001b[0m\u001b[0;34m\u001b[0m\u001b[0m\n\u001b[0m",
      "\u001b[0;31mNameError\u001b[0m: name 'image_label_ds' is not defined"
     ]
    }
   ],
   "source": [
    "print(image_label_ds)"
   ]
  },
  {
   "cell_type": "markdown",
   "metadata": {
    "colab_type": "text",
    "id": "2WYMikoPWOQX"
   },
   "source": [
    "Note: When you have arrays like `all_image_labels` and `all_image_paths`, an alternative to using `tf.data.dataset.Dataset.zip` is slicing the pair of arrays."
   ]
  },
  {
   "cell_type": "code",
   "execution_count": 40,
   "metadata": {
    "colab": {},
    "colab_type": "code",
    "id": "HOFwZI-2WhzV"
   },
   "outputs": [
    {
     "ename": "TypeError",
     "evalue": "unsupported operand type(s) for /=: 'Tensor' and 'float'",
     "output_type": "error",
     "traceback": [
      "\u001b[0;31m---------------------------------------------------------------------------\u001b[0m",
      "\u001b[0;31mTypeError\u001b[0m                                 Traceback (most recent call last)",
      "\u001b[0;32m<ipython-input-40-4852002a91bd>\u001b[0m in \u001b[0;36m<module>\u001b[0;34m\u001b[0m\n\u001b[1;32m      5\u001b[0m   \u001b[0;32mreturn\u001b[0m \u001b[0mload_and_preprocess_image\u001b[0m\u001b[0;34m(\u001b[0m\u001b[0mpath\u001b[0m\u001b[0;34m)\u001b[0m\u001b[0;34m,\u001b[0m \u001b[0mlabel\u001b[0m\u001b[0;34m\u001b[0m\u001b[0;34m\u001b[0m\u001b[0m\n\u001b[1;32m      6\u001b[0m \u001b[0;34m\u001b[0m\u001b[0m\n\u001b[0;32m----> 7\u001b[0;31m \u001b[0mimage_label_ds\u001b[0m \u001b[0;34m=\u001b[0m \u001b[0mds\u001b[0m\u001b[0;34m.\u001b[0m\u001b[0mmap\u001b[0m\u001b[0;34m(\u001b[0m\u001b[0mload_and_preprocess_from_path_label\u001b[0m\u001b[0;34m)\u001b[0m\u001b[0;34m\u001b[0m\u001b[0;34m\u001b[0m\u001b[0m\n\u001b[0m\u001b[1;32m      8\u001b[0m \u001b[0mimage_label_ds\u001b[0m\u001b[0;34m\u001b[0m\u001b[0;34m\u001b[0m\u001b[0m\n",
      "\u001b[0;32m~/miniconda3/envs/gis/lib/python3.6/site-packages/tensorflow/python/data/ops/dataset_ops.py\u001b[0m in \u001b[0;36mmap\u001b[0;34m(self, map_func, num_parallel_calls)\u001b[0m\n\u001b[1;32m    984\u001b[0m     \"\"\"\n\u001b[1;32m    985\u001b[0m     \u001b[0;32mif\u001b[0m \u001b[0mnum_parallel_calls\u001b[0m \u001b[0;32mis\u001b[0m \u001b[0;32mNone\u001b[0m\u001b[0;34m:\u001b[0m\u001b[0;34m\u001b[0m\u001b[0;34m\u001b[0m\u001b[0m\n\u001b[0;32m--> 986\u001b[0;31m       \u001b[0;32mreturn\u001b[0m \u001b[0mMapDataset\u001b[0m\u001b[0;34m(\u001b[0m\u001b[0mself\u001b[0m\u001b[0;34m,\u001b[0m \u001b[0mmap_func\u001b[0m\u001b[0;34m)\u001b[0m\u001b[0;34m\u001b[0m\u001b[0;34m\u001b[0m\u001b[0m\n\u001b[0m\u001b[1;32m    987\u001b[0m     \u001b[0;32melse\u001b[0m\u001b[0;34m:\u001b[0m\u001b[0;34m\u001b[0m\u001b[0;34m\u001b[0m\u001b[0m\n\u001b[1;32m    988\u001b[0m       \u001b[0;32mreturn\u001b[0m \u001b[0mParallelMapDataset\u001b[0m\u001b[0;34m(\u001b[0m\u001b[0mself\u001b[0m\u001b[0;34m,\u001b[0m \u001b[0mmap_func\u001b[0m\u001b[0;34m,\u001b[0m \u001b[0mnum_parallel_calls\u001b[0m\u001b[0;34m)\u001b[0m\u001b[0;34m\u001b[0m\u001b[0;34m\u001b[0m\u001b[0m\n",
      "\u001b[0;32m~/miniconda3/envs/gis/lib/python3.6/site-packages/tensorflow/python/data/ops/dataset_ops.py\u001b[0m in \u001b[0;36m__init__\u001b[0;34m(self, input_dataset, map_func)\u001b[0m\n\u001b[1;32m   2196\u001b[0m \u001b[0;34m\u001b[0m\u001b[0m\n\u001b[1;32m   2197\u001b[0m     wrapped_func = StructuredFunctionWrapper(\n\u001b[0;32m-> 2198\u001b[0;31m         map_func, \"Dataset.map()\", input_dataset)\n\u001b[0m\u001b[1;32m   2199\u001b[0m     \u001b[0mself\u001b[0m\u001b[0;34m.\u001b[0m\u001b[0m_output_classes\u001b[0m \u001b[0;34m=\u001b[0m \u001b[0mwrapped_func\u001b[0m\u001b[0;34m.\u001b[0m\u001b[0moutput_classes\u001b[0m\u001b[0;34m\u001b[0m\u001b[0;34m\u001b[0m\u001b[0m\n\u001b[1;32m   2200\u001b[0m     \u001b[0mself\u001b[0m\u001b[0;34m.\u001b[0m\u001b[0m_output_shapes\u001b[0m \u001b[0;34m=\u001b[0m \u001b[0mwrapped_func\u001b[0m\u001b[0;34m.\u001b[0m\u001b[0moutput_shapes\u001b[0m\u001b[0;34m\u001b[0m\u001b[0;34m\u001b[0m\u001b[0m\n",
      "\u001b[0;32m~/miniconda3/envs/gis/lib/python3.6/site-packages/tensorflow/python/data/ops/dataset_ops.py\u001b[0m in \u001b[0;36m__init__\u001b[0;34m(self, func, transformation_name, dataset, input_classes, input_shapes, input_types, add_to_graph, experimental_nested_dataset_support)\u001b[0m\n\u001b[1;32m   1452\u001b[0m     \u001b[0mself\u001b[0m\u001b[0;34m.\u001b[0m\u001b[0m_function\u001b[0m \u001b[0;34m=\u001b[0m \u001b[0mtf_data_structured_function_wrapper\u001b[0m\u001b[0;34m\u001b[0m\u001b[0;34m\u001b[0m\u001b[0m\n\u001b[1;32m   1453\u001b[0m     \u001b[0;32mif\u001b[0m \u001b[0madd_to_graph\u001b[0m\u001b[0;34m:\u001b[0m\u001b[0;34m\u001b[0m\u001b[0;34m\u001b[0m\u001b[0m\n\u001b[0;32m-> 1454\u001b[0;31m       \u001b[0mself\u001b[0m\u001b[0;34m.\u001b[0m\u001b[0m_function\u001b[0m\u001b[0;34m.\u001b[0m\u001b[0madd_to_graph\u001b[0m\u001b[0;34m(\u001b[0m\u001b[0mops\u001b[0m\u001b[0;34m.\u001b[0m\u001b[0mget_default_graph\u001b[0m\u001b[0;34m(\u001b[0m\u001b[0;34m)\u001b[0m\u001b[0;34m)\u001b[0m\u001b[0;34m\u001b[0m\u001b[0;34m\u001b[0m\u001b[0m\n\u001b[0m\u001b[1;32m   1455\u001b[0m     \u001b[0;32melse\u001b[0m\u001b[0;34m:\u001b[0m\u001b[0;34m\u001b[0m\u001b[0;34m\u001b[0m\u001b[0m\n\u001b[1;32m   1456\u001b[0m       \u001b[0;31m# Use the private method that will execute\u001b[0m\u001b[0;34m\u001b[0m\u001b[0;34m\u001b[0m\u001b[0;34m\u001b[0m\u001b[0m\n",
      "\u001b[0;32m~/miniconda3/envs/gis/lib/python3.6/site-packages/tensorflow/python/framework/function.py\u001b[0m in \u001b[0;36madd_to_graph\u001b[0;34m(self, g)\u001b[0m\n\u001b[1;32m    479\u001b[0m   \u001b[0;32mdef\u001b[0m \u001b[0madd_to_graph\u001b[0m\u001b[0;34m(\u001b[0m\u001b[0mself\u001b[0m\u001b[0;34m,\u001b[0m \u001b[0mg\u001b[0m\u001b[0;34m)\u001b[0m\u001b[0;34m:\u001b[0m\u001b[0;34m\u001b[0m\u001b[0;34m\u001b[0m\u001b[0m\n\u001b[1;32m    480\u001b[0m     \u001b[0;34m\"\"\"Adds this function into the graph g.\"\"\"\u001b[0m\u001b[0;34m\u001b[0m\u001b[0;34m\u001b[0m\u001b[0m\n\u001b[0;32m--> 481\u001b[0;31m     \u001b[0mself\u001b[0m\u001b[0;34m.\u001b[0m\u001b[0m_create_definition_if_needed\u001b[0m\u001b[0;34m(\u001b[0m\u001b[0;34m)\u001b[0m\u001b[0;34m\u001b[0m\u001b[0;34m\u001b[0m\u001b[0m\n\u001b[0m\u001b[1;32m    482\u001b[0m \u001b[0;34m\u001b[0m\u001b[0m\n\u001b[1;32m    483\u001b[0m     \u001b[0;31m# Adds this function into 'g'.\u001b[0m\u001b[0;34m\u001b[0m\u001b[0;34m\u001b[0m\u001b[0;34m\u001b[0m\u001b[0m\n",
      "\u001b[0;32m~/miniconda3/envs/gis/lib/python3.6/site-packages/tensorflow/python/framework/function.py\u001b[0m in \u001b[0;36m_create_definition_if_needed\u001b[0;34m(self)\u001b[0m\n\u001b[1;32m    335\u001b[0m     \u001b[0;34m\"\"\"Creates the function definition if it's not created yet.\"\"\"\u001b[0m\u001b[0;34m\u001b[0m\u001b[0;34m\u001b[0m\u001b[0m\n\u001b[1;32m    336\u001b[0m     \u001b[0;32mwith\u001b[0m \u001b[0mcontext\u001b[0m\u001b[0;34m.\u001b[0m\u001b[0mgraph_mode\u001b[0m\u001b[0;34m(\u001b[0m\u001b[0;34m)\u001b[0m\u001b[0;34m:\u001b[0m\u001b[0;34m\u001b[0m\u001b[0;34m\u001b[0m\u001b[0m\n\u001b[0;32m--> 337\u001b[0;31m       \u001b[0mself\u001b[0m\u001b[0;34m.\u001b[0m\u001b[0m_create_definition_if_needed_impl\u001b[0m\u001b[0;34m(\u001b[0m\u001b[0;34m)\u001b[0m\u001b[0;34m\u001b[0m\u001b[0;34m\u001b[0m\u001b[0m\n\u001b[0m\u001b[1;32m    338\u001b[0m \u001b[0;34m\u001b[0m\u001b[0m\n\u001b[1;32m    339\u001b[0m   \u001b[0;32mdef\u001b[0m \u001b[0m_create_definition_if_needed_impl\u001b[0m\u001b[0;34m(\u001b[0m\u001b[0mself\u001b[0m\u001b[0;34m)\u001b[0m\u001b[0;34m:\u001b[0m\u001b[0;34m\u001b[0m\u001b[0;34m\u001b[0m\u001b[0m\n",
      "\u001b[0;32m~/miniconda3/envs/gis/lib/python3.6/site-packages/tensorflow/python/framework/function.py\u001b[0m in \u001b[0;36m_create_definition_if_needed_impl\u001b[0;34m(self)\u001b[0m\n\u001b[1;32m    344\u001b[0m     temp_graph = func_graph_from_py_func(\n\u001b[1;32m    345\u001b[0m         \u001b[0mself\u001b[0m\u001b[0;34m.\u001b[0m\u001b[0m_func\u001b[0m\u001b[0;34m,\u001b[0m \u001b[0mself\u001b[0m\u001b[0;34m.\u001b[0m\u001b[0m_arg_names\u001b[0m\u001b[0;34m,\u001b[0m \u001b[0mself\u001b[0m\u001b[0;34m.\u001b[0m\u001b[0m_arg_types\u001b[0m\u001b[0;34m,\u001b[0m \u001b[0mself\u001b[0m\u001b[0;34m.\u001b[0m\u001b[0m_func_name\u001b[0m\u001b[0;34m,\u001b[0m\u001b[0;34m\u001b[0m\u001b[0;34m\u001b[0m\u001b[0m\n\u001b[0;32m--> 346\u001b[0;31m         self._capture_by_value, self._caller_device)\n\u001b[0m\u001b[1;32m    347\u001b[0m \u001b[0;34m\u001b[0m\u001b[0m\n\u001b[1;32m    348\u001b[0m     \u001b[0mself\u001b[0m\u001b[0;34m.\u001b[0m\u001b[0m_extra_inputs\u001b[0m \u001b[0;34m=\u001b[0m \u001b[0mtemp_graph\u001b[0m\u001b[0;34m.\u001b[0m\u001b[0mextra_inputs\u001b[0m\u001b[0;34m\u001b[0m\u001b[0;34m\u001b[0m\u001b[0m\n",
      "\u001b[0;32m~/miniconda3/envs/gis/lib/python3.6/site-packages/tensorflow/python/framework/function.py\u001b[0m in \u001b[0;36mfunc_graph_from_py_func\u001b[0;34m(func, arg_names, arg_types, name, capture_by_value, device, colocation_stack, container, collections_ref)\u001b[0m\n\u001b[1;32m    861\u001b[0m     \u001b[0;31m# Call func and gather the output tensors.\u001b[0m\u001b[0;34m\u001b[0m\u001b[0;34m\u001b[0m\u001b[0;34m\u001b[0m\u001b[0m\n\u001b[1;32m    862\u001b[0m     \u001b[0;32mwith\u001b[0m \u001b[0mvs\u001b[0m\u001b[0;34m.\u001b[0m\u001b[0mvariable_scope\u001b[0m\u001b[0;34m(\u001b[0m\u001b[0;34m\"\"\u001b[0m\u001b[0;34m,\u001b[0m \u001b[0mcustom_getter\u001b[0m\u001b[0;34m=\u001b[0m\u001b[0mfunc_graph\u001b[0m\u001b[0;34m.\u001b[0m\u001b[0mgetvar\u001b[0m\u001b[0;34m)\u001b[0m\u001b[0;34m:\u001b[0m\u001b[0;34m\u001b[0m\u001b[0;34m\u001b[0m\u001b[0m\n\u001b[0;32m--> 863\u001b[0;31m       \u001b[0moutputs\u001b[0m \u001b[0;34m=\u001b[0m \u001b[0mfunc\u001b[0m\u001b[0;34m(\u001b[0m\u001b[0;34m*\u001b[0m\u001b[0mfunc_graph\u001b[0m\u001b[0;34m.\u001b[0m\u001b[0minputs\u001b[0m\u001b[0;34m)\u001b[0m\u001b[0;34m\u001b[0m\u001b[0;34m\u001b[0m\u001b[0m\n\u001b[0m\u001b[1;32m    864\u001b[0m \u001b[0;34m\u001b[0m\u001b[0m\n\u001b[1;32m    865\u001b[0m     \u001b[0;31m# There is no way of distinguishing between a function not returning\u001b[0m\u001b[0;34m\u001b[0m\u001b[0;34m\u001b[0m\u001b[0;34m\u001b[0m\u001b[0m\n",
      "\u001b[0;32m~/miniconda3/envs/gis/lib/python3.6/site-packages/tensorflow/python/data/ops/dataset_ops.py\u001b[0m in \u001b[0;36mtf_data_structured_function_wrapper\u001b[0;34m(*args)\u001b[0m\n\u001b[1;32m   1390\u001b[0m         \u001b[0mnested_args\u001b[0m \u001b[0;34m=\u001b[0m \u001b[0;34m(\u001b[0m\u001b[0mnested_args\u001b[0m\u001b[0;34m,\u001b[0m\u001b[0;34m)\u001b[0m\u001b[0;34m\u001b[0m\u001b[0;34m\u001b[0m\u001b[0m\n\u001b[1;32m   1391\u001b[0m \u001b[0;34m\u001b[0m\u001b[0m\n\u001b[0;32m-> 1392\u001b[0;31m       \u001b[0mret\u001b[0m \u001b[0;34m=\u001b[0m \u001b[0mfunc\u001b[0m\u001b[0;34m(\u001b[0m\u001b[0;34m*\u001b[0m\u001b[0mnested_args\u001b[0m\u001b[0;34m)\u001b[0m\u001b[0;34m\u001b[0m\u001b[0;34m\u001b[0m\u001b[0m\n\u001b[0m\u001b[1;32m   1393\u001b[0m       \u001b[0;31m# If `func` returns a list of tensors, `nest.flatten()` and\u001b[0m\u001b[0;34m\u001b[0m\u001b[0;34m\u001b[0m\u001b[0;34m\u001b[0m\u001b[0m\n\u001b[1;32m   1394\u001b[0m       \u001b[0;31m# `ops.convert_to_tensor()` would conspire to attempt to stack\u001b[0m\u001b[0;34m\u001b[0m\u001b[0;34m\u001b[0m\u001b[0;34m\u001b[0m\u001b[0m\n",
      "\u001b[0;32m<ipython-input-40-4852002a91bd>\u001b[0m in \u001b[0;36mload_and_preprocess_from_path_label\u001b[0;34m(path, label)\u001b[0m\n\u001b[1;32m      3\u001b[0m \u001b[0;31m# The tuples are unpacked into the positional arguments of the mapped function\u001b[0m\u001b[0;34m\u001b[0m\u001b[0;34m\u001b[0m\u001b[0;34m\u001b[0m\u001b[0m\n\u001b[1;32m      4\u001b[0m \u001b[0;32mdef\u001b[0m \u001b[0mload_and_preprocess_from_path_label\u001b[0m\u001b[0;34m(\u001b[0m\u001b[0mpath\u001b[0m\u001b[0;34m,\u001b[0m \u001b[0mlabel\u001b[0m\u001b[0;34m)\u001b[0m\u001b[0;34m:\u001b[0m\u001b[0;34m\u001b[0m\u001b[0;34m\u001b[0m\u001b[0m\n\u001b[0;32m----> 5\u001b[0;31m   \u001b[0;32mreturn\u001b[0m \u001b[0mload_and_preprocess_image\u001b[0m\u001b[0;34m(\u001b[0m\u001b[0mpath\u001b[0m\u001b[0;34m)\u001b[0m\u001b[0;34m,\u001b[0m \u001b[0mlabel\u001b[0m\u001b[0;34m\u001b[0m\u001b[0;34m\u001b[0m\u001b[0m\n\u001b[0m\u001b[1;32m      6\u001b[0m \u001b[0;34m\u001b[0m\u001b[0m\n\u001b[1;32m      7\u001b[0m \u001b[0mimage_label_ds\u001b[0m \u001b[0;34m=\u001b[0m \u001b[0mds\u001b[0m\u001b[0;34m.\u001b[0m\u001b[0mmap\u001b[0m\u001b[0;34m(\u001b[0m\u001b[0mload_and_preprocess_from_path_label\u001b[0m\u001b[0;34m)\u001b[0m\u001b[0;34m\u001b[0m\u001b[0;34m\u001b[0m\u001b[0m\n",
      "\u001b[0;32m<ipython-input-30-d93df5196791>\u001b[0m in \u001b[0;36mload_and_preprocess_image\u001b[0;34m(path)\u001b[0m\n\u001b[1;32m      1\u001b[0m \u001b[0;32mdef\u001b[0m \u001b[0mload_and_preprocess_image\u001b[0m\u001b[0;34m(\u001b[0m\u001b[0mpath\u001b[0m\u001b[0;34m)\u001b[0m\u001b[0;34m:\u001b[0m\u001b[0;34m\u001b[0m\u001b[0;34m\u001b[0m\u001b[0m\n\u001b[1;32m      2\u001b[0m     \u001b[0mimage\u001b[0m \u001b[0;34m=\u001b[0m \u001b[0mtf\u001b[0m\u001b[0;34m.\u001b[0m\u001b[0mread_file\u001b[0m\u001b[0;34m(\u001b[0m\u001b[0mpath\u001b[0m\u001b[0;34m)\u001b[0m\u001b[0;34m\u001b[0m\u001b[0;34m\u001b[0m\u001b[0m\n\u001b[0;32m----> 3\u001b[0;31m     \u001b[0;32mreturn\u001b[0m \u001b[0mpreprocess_image\u001b[0m\u001b[0;34m(\u001b[0m\u001b[0mimage\u001b[0m\u001b[0;34m)\u001b[0m\u001b[0;34m\u001b[0m\u001b[0;34m\u001b[0m\u001b[0m\n\u001b[0m",
      "\u001b[0;32m<ipython-input-29-ce4757c67a13>\u001b[0m in \u001b[0;36mpreprocess_image\u001b[0;34m(image)\u001b[0m\n\u001b[1;32m      7\u001b[0m         \u001b[0mpreserve_aspect_ratio\u001b[0m\u001b[0;34m=\u001b[0m\u001b[0;32mFalse\u001b[0m\u001b[0;34m,\u001b[0m\u001b[0;34m\u001b[0m\u001b[0;34m\u001b[0m\u001b[0m\n\u001b[1;32m      8\u001b[0m     )\n\u001b[0;32m----> 9\u001b[0;31m     \u001b[0mimage\u001b[0m \u001b[0;34m/=\u001b[0m \u001b[0;36m255.0\u001b[0m  \u001b[0;31m# normalize to [0,1] range\u001b[0m\u001b[0;34m\u001b[0m\u001b[0;34m\u001b[0m\u001b[0m\n\u001b[0m\u001b[1;32m     10\u001b[0m \u001b[0;34m\u001b[0m\u001b[0m\n\u001b[1;32m     11\u001b[0m     \u001b[0;32mreturn\u001b[0m \u001b[0mimage\u001b[0m\u001b[0;34m\u001b[0m\u001b[0;34m\u001b[0m\u001b[0m\n",
      "\u001b[0;31mTypeError\u001b[0m: unsupported operand type(s) for /=: 'Tensor' and 'float'"
     ]
    }
   ],
   "source": [
    "ds = tf.data.Dataset.from_tensor_slices((all_image_paths, all_image_labels))\n",
    "\n",
    "# The tuples are unpacked into the positional arguments of the mapped function\n",
    "def load_and_preprocess_from_path_label(path, label):\n",
    "  return load_and_preprocess_image(path), label\n",
    "\n",
    "image_label_ds = ds.map(load_and_preprocess_from_path_label)\n",
    "image_label_ds"
   ]
  },
  {
   "cell_type": "markdown",
   "metadata": {
    "colab_type": "text",
    "id": "vYGCgJuR_9Qp"
   },
   "source": [
    "### Basic methods for training"
   ]
  },
  {
   "cell_type": "markdown",
   "metadata": {
    "colab_type": "text",
    "id": "wwZavzgsIytz"
   },
   "source": [
    "To train a model with this dataset you will want the data:\n",
    "\n",
    "* To be well shuffled.\n",
    "* To be batched.\n",
    "* To repeat forever.\n",
    "* To have batches available as soon as possible.\n",
    "\n",
    "These features can be easily added using the `tf.data` api."
   ]
  },
  {
   "cell_type": "code",
   "execution_count": 41,
   "metadata": {
    "colab": {},
    "colab_type": "code",
    "id": "uZmZJx8ePw_5"
   },
   "outputs": [
    {
     "ename": "NameError",
     "evalue": "name 'image_label_ds' is not defined",
     "output_type": "error",
     "traceback": [
      "\u001b[0;31m---------------------------------------------------------------------------\u001b[0m",
      "\u001b[0;31mNameError\u001b[0m                                 Traceback (most recent call last)",
      "\u001b[0;32m<ipython-input-41-5574fa23818b>\u001b[0m in \u001b[0;36m<module>\u001b[0;34m\u001b[0m\n\u001b[1;32m      3\u001b[0m \u001b[0;31m# Setting a shuffle buffer size as large as the dataset ensures that the data is\u001b[0m\u001b[0;34m\u001b[0m\u001b[0;34m\u001b[0m\u001b[0;34m\u001b[0m\u001b[0m\n\u001b[1;32m      4\u001b[0m \u001b[0;31m# completely shuffled.\u001b[0m\u001b[0;34m\u001b[0m\u001b[0;34m\u001b[0m\u001b[0;34m\u001b[0m\u001b[0m\n\u001b[0;32m----> 5\u001b[0;31m \u001b[0mds\u001b[0m \u001b[0;34m=\u001b[0m \u001b[0mimage_label_ds\u001b[0m\u001b[0;34m.\u001b[0m\u001b[0mshuffle\u001b[0m\u001b[0;34m(\u001b[0m\u001b[0mbuffer_size\u001b[0m\u001b[0;34m=\u001b[0m\u001b[0mimage_count\u001b[0m\u001b[0;34m)\u001b[0m\u001b[0;34m\u001b[0m\u001b[0;34m\u001b[0m\u001b[0m\n\u001b[0m\u001b[1;32m      6\u001b[0m \u001b[0mds\u001b[0m \u001b[0;34m=\u001b[0m \u001b[0mds\u001b[0m\u001b[0;34m.\u001b[0m\u001b[0mrepeat\u001b[0m\u001b[0;34m(\u001b[0m\u001b[0;34m)\u001b[0m\u001b[0;34m\u001b[0m\u001b[0;34m\u001b[0m\u001b[0m\n\u001b[1;32m      7\u001b[0m \u001b[0mds\u001b[0m \u001b[0;34m=\u001b[0m \u001b[0mds\u001b[0m\u001b[0;34m.\u001b[0m\u001b[0mbatch\u001b[0m\u001b[0;34m(\u001b[0m\u001b[0mBATCH_SIZE\u001b[0m\u001b[0;34m)\u001b[0m\u001b[0;34m\u001b[0m\u001b[0;34m\u001b[0m\u001b[0m\n",
      "\u001b[0;31mNameError\u001b[0m: name 'image_label_ds' is not defined"
     ]
    }
   ],
   "source": [
    "BATCH_SIZE = 32\n",
    "\n",
    "# Setting a shuffle buffer size as large as the dataset ensures that the data is\n",
    "# completely shuffled.\n",
    "ds = image_label_ds.shuffle(buffer_size=image_count)\n",
    "ds = ds.repeat()\n",
    "ds = ds.batch(BATCH_SIZE)\n",
    "# `prefetch` lets the dataset fetch batches, in the background while the model is training.\n",
    "ds = ds.prefetch(buffer_size=AUTOTUNE)\n",
    "ds"
   ]
  },
  {
   "cell_type": "markdown",
   "metadata": {
    "colab_type": "text",
    "id": "6JsM-xHiFCuW"
   },
   "source": [
    "There are a few things to note here:\n",
    "\n",
    "1. The order is important.\n",
    "\n",
    "  * A `.shuffle` *after* a `.repeat` would shuffle items across epoch boundaries (some items will be seen twice before others are seen at all).\n",
    "  * A `.shuffle` *after* a `.batch` would shuffle the order of the batches, but not shuffle the items across batches.\n",
    "\n",
    "1. Use a `buffer_size` the same size as the dataset for a full shuffle. Up to the dataset size, large values provide better randomization, but use more memory.\n",
    "\n",
    "1. The shuffle buffer is filled before any elements are pulled from it. So a large `buffer_size` may cause a delay when your `Dataset` is starting.\n",
    "\n",
    "1. The shuffled dataset doesn't report the end of a dataset until the shuffle-buffer is completely empty. The `Dataset` is restarted by `.repeat`, causing another wait for the shuffle-buffer to be filled.\n",
    "\n",
    "This last point, as well as the order of `.shuffle` and `.repeat`, can be addressed by using the `tf.data.Dataset.apply` method with the fused `tf.data.experimental.shuffle_and_repeat` function:"
   ]
  },
  {
   "cell_type": "code",
   "execution_count": null,
   "metadata": {
    "colab": {},
    "colab_type": "code",
    "id": "Ocr6PybXNDoO"
   },
   "outputs": [],
   "source": [
    "ds = image_label_ds.apply(\n",
    "  tf.data.experimental.shuffle_and_repeat(buffer_size=image_count))\n",
    "ds = ds.batch(BATCH_SIZE)\n",
    "ds = ds.prefetch(buffer_size=AUTOTUNE)\n",
    "ds"
   ]
  },
  {
   "cell_type": "markdown",
   "metadata": {
    "colab_type": "text",
    "id": "GBBZMSuAmQVL"
   },
   "source": [
    "  * For more on ordering the operations, see [Repeat and Shuffle](https://www.tensorflow.org/guide/performance/datasets#repeat_and_shuffle) in the Input Pipeline Performance guide.\n",
    "\n",
    "### Pipe the dataset to a model\n",
    "\n",
    "Fetch a copy of MobileNet v2 from `tf.keras.applications`.\n",
    "\n",
    "This will be used for a simple transfer learning example.\n",
    "\n",
    "Set the MobileNet weights to be non-trainable:"
   ]
  },
  {
   "cell_type": "code",
   "execution_count": null,
   "metadata": {
    "colab": {},
    "colab_type": "code",
    "id": "KbJrXn9omO_g"
   },
   "outputs": [],
   "source": [
    "mobile_net = tf.keras.applications.MobileNetV2(input_shape=(192, 192, 3), include_top=False)\n",
    "mobile_net.trainable=False"
   ]
  },
  {
   "cell_type": "markdown",
   "metadata": {
    "colab_type": "text",
    "id": "Y7NVWiLF3Vbf"
   },
   "source": [
    "This model expects its input to be normalized to the `[-1,1]` range:\n",
    "\n",
    "```\n",
    "help(keras_applications.mobilenet_v2.preprocess_input)\n",
    "```\n",
    "\n",
    "<pre>\n",
    "...\n",
    "This function applies the \"Inception\" preprocessing which converts\n",
    "the RGB values from [0, 255] to [-1, 1]\n",
    "...\n",
    "</pre>"
   ]
  },
  {
   "cell_type": "markdown",
   "metadata": {
    "colab_type": "text",
    "id": "CboYya6LmdQI"
   },
   "source": [
    "So before passing data to the MobileNet model, you need to convert the input from a range of `[0,1]` to `[-1,1]`."
   ]
  },
  {
   "cell_type": "code",
   "execution_count": null,
   "metadata": {
    "colab": {},
    "colab_type": "code",
    "id": "SNOkHUGv3FYq"
   },
   "outputs": [],
   "source": [
    "def change_range(image,label):\n",
    "  return 2*image-1, label\n",
    "\n",
    "keras_ds = ds.map(change_range)"
   ]
  },
  {
   "cell_type": "markdown",
   "metadata": {
    "colab_type": "text",
    "id": "QDzZ3Nye5Rpv"
   },
   "source": [
    "The MobileNet returns a `6x6` spatial grid of features for each image.\n",
    "\n",
    "Pass it a batch of images to see:"
   ]
  },
  {
   "cell_type": "code",
   "execution_count": null,
   "metadata": {
    "colab": {},
    "colab_type": "code",
    "id": "OzAhGkEK6WuE"
   },
   "outputs": [],
   "source": [
    "# The dataset may take a few seconds to start, as it fills its shuffle buffer.\n",
    "image_batch, label_batch = next(iter(keras_ds))"
   ]
  },
  {
   "cell_type": "code",
   "execution_count": null,
   "metadata": {
    "colab": {},
    "colab_type": "code",
    "id": "LcFdiWpO5WbV"
   },
   "outputs": [],
   "source": [
    "feature_map_batch = mobile_net(image_batch)\n",
    "print(feature_map_batch.shape)"
   ]
  },
  {
   "cell_type": "markdown",
   "metadata": {
    "colab_type": "text",
    "id": "vrbjEvaC5XmU"
   },
   "source": [
    "Because of this output shape, build a model wrapped around MobileNet using `tf.keras.layers.GlobalAveragePooling2D` to average over the space dimensions before the output `tf.keras.layers.Dense` layer:"
   ]
  },
  {
   "cell_type": "code",
   "execution_count": null,
   "metadata": {
    "colab": {},
    "colab_type": "code",
    "id": "X0ooIU9fNjPJ"
   },
   "outputs": [],
   "source": [
    "model = tf.keras.Sequential([\n",
    "  mobile_net,\n",
    "  tf.keras.layers.GlobalAveragePooling2D(),\n",
    "  tf.keras.layers.Dense(len(label_names), activation = 'softmax')])"
   ]
  },
  {
   "cell_type": "markdown",
   "metadata": {
    "colab_type": "text",
    "id": "foQYUJs97V4V"
   },
   "source": [
    "Now it produces outputs of the expected shape:"
   ]
  },
  {
   "cell_type": "code",
   "execution_count": null,
   "metadata": {
    "colab": {},
    "colab_type": "code",
    "id": "1nwYxvpj7ZEf"
   },
   "outputs": [],
   "source": [
    "logit_batch = model(image_batch).numpy()\n",
    "\n",
    "print(\"min logit:\", logit_batch.min())\n",
    "print(\"max logit:\", logit_batch.max())\n",
    "print()\n",
    "\n",
    "print(\"Shape:\", logit_batch.shape)"
   ]
  },
  {
   "cell_type": "markdown",
   "metadata": {
    "colab_type": "text",
    "id": "pFc4I_J2nNOJ"
   },
   "source": [
    "Compile the model to describe the training procedure:"
   ]
  },
  {
   "cell_type": "code",
   "execution_count": null,
   "metadata": {
    "colab": {},
    "colab_type": "code",
    "id": "ZWGqLEWYRNvv"
   },
   "outputs": [],
   "source": [
    "model.compile(optimizer=tf.train.AdamOptimizer(),\n",
    "              loss=tf.keras.losses.sparse_categorical_crossentropy,\n",
    "              metrics=[\"accuracy\"])"
   ]
  },
  {
   "cell_type": "markdown",
   "metadata": {
    "colab_type": "text",
    "id": "tF1mO6haBOSd"
   },
   "source": [
    "There are 2 trainable variables: the Dense `weights` and `bias`:"
   ]
  },
  {
   "cell_type": "code",
   "execution_count": null,
   "metadata": {
    "colab": {},
    "colab_type": "code",
    "id": "pPQ5yqyKBJMm"
   },
   "outputs": [],
   "source": [
    "len(model.trainable_variables)"
   ]
  },
  {
   "cell_type": "code",
   "execution_count": null,
   "metadata": {
    "colab": {},
    "colab_type": "code",
    "id": "kug5Wg66UJjl"
   },
   "outputs": [],
   "source": [
    "model.summary()"
   ]
  },
  {
   "cell_type": "markdown",
   "metadata": {
    "colab_type": "text",
    "id": "f_glpYZ-nYC_"
   },
   "source": [
    "Train the model.\n",
    "\n",
    "Normally you would specify the real number of steps per epoch, but for demonstration purposes only run 3 steps."
   ]
  },
  {
   "cell_type": "code",
   "execution_count": null,
   "metadata": {
    "colab": {},
    "colab_type": "code",
    "id": "AnXPRNWoTypI"
   },
   "outputs": [],
   "source": [
    "steps_per_epoch=tf.ceil(len(all_image_paths)/BATCH_SIZE).numpy()\n",
    "steps_per_epoch"
   ]
  },
  {
   "cell_type": "code",
   "execution_count": null,
   "metadata": {
    "colab": {},
    "colab_type": "code",
    "id": "q_8sabaaSGAp"
   },
   "outputs": [],
   "source": [
    "model.fit(ds, epochs=1, steps_per_epoch=3)"
   ]
  },
  {
   "cell_type": "markdown",
   "metadata": {
    "colab_type": "text",
    "id": "UMVnoBcG_NlQ"
   },
   "source": [
    "## Performance\n",
    "\n",
    "Note: This section just shows a couple of easy tricks that may help performance. For an in depth guide see [Input Pipeline Performance](https://www.tensorflow.org/guide/performance/datasets).\n",
    "\n",
    "The simple pipeline used above reads each file individually, on each epoch. This is fine for local training on CPU but may not be sufficient for GPU training, and is totally inappropriate for any sort of distributed training."
   ]
  },
  {
   "cell_type": "markdown",
   "metadata": {
    "colab_type": "text",
    "id": "oNmQqgGhLWie"
   },
   "source": [
    "To investigate, first build a simple function to check the performance of our datasets:"
   ]
  },
  {
   "cell_type": "code",
   "execution_count": null,
   "metadata": {
    "colab": {},
    "colab_type": "code",
    "id": "_gFVe1rp_MYr"
   },
   "outputs": [],
   "source": [
    "import time\n",
    "\n",
    "def timeit(ds, batches=2*steps_per_epoch+1):\n",
    "  overall_start = time.time()\n",
    "  # Fetch a single batch to prime the pipeline (fill the shuffle buffer),\n",
    "  # before starting the timer\n",
    "  it = iter(ds.take(batches+1))\n",
    "  next(it)\n",
    "\n",
    "  start = time.time()\n",
    "  for i,(images,labels) in enumerate(it):\n",
    "    if i%10 == 0:\n",
    "      print('.',end='')\n",
    "  print()\n",
    "  end = time.time()\n",
    "\n",
    "  duration = end-start\n",
    "  print(\"{} batches: {} s\".format(batches, duration))\n",
    "  print(\"{:0.5f} Images/s\".format(BATCH_SIZE*batches/duration))\n",
    "  print(\"Total time: {}s\".format(end-overall_start))"
   ]
  },
  {
   "cell_type": "markdown",
   "metadata": {
    "colab_type": "text",
    "id": "TYiOr4vdLcNX"
   },
   "source": [
    "The performance of the current dataset is:"
   ]
  },
  {
   "cell_type": "code",
   "execution_count": null,
   "metadata": {
    "colab": {},
    "colab_type": "code",
    "id": "ZDxLwMJOReVe"
   },
   "outputs": [],
   "source": [
    "ds = image_label_ds.apply(\n",
    "  tf.data.experimental.shuffle_and_repeat(buffer_size=image_count))\n",
    "ds = ds.batch(BATCH_SIZE).prefetch(buffer_size=AUTOTUNE)\n",
    "ds"
   ]
  },
  {
   "cell_type": "code",
   "execution_count": null,
   "metadata": {
    "colab": {},
    "colab_type": "code",
    "id": "IjouTJadRxyp"
   },
   "outputs": [],
   "source": [
    "timeit(ds)"
   ]
  },
  {
   "cell_type": "markdown",
   "metadata": {
    "colab_type": "text",
    "id": "HsLlXMO7EWBR"
   },
   "source": [
    "### Cache"
   ]
  },
  {
   "cell_type": "markdown",
   "metadata": {
    "colab_type": "text",
    "id": "lV1NOn2zE2lR"
   },
   "source": [
    "Use `tf.data.Dataset.cache` to easily cache calculations across epochs. This is especially performant if the data fits in memory.\n",
    "\n",
    "Here the images are cached, after being pre-precessed (decoded and resized):"
   ]
  },
  {
   "cell_type": "code",
   "execution_count": null,
   "metadata": {
    "colab": {},
    "colab_type": "code",
    "id": "qj_U09xpDvOg"
   },
   "outputs": [],
   "source": [
    "ds = image_label_ds.cache()\n",
    "ds = ds.apply(\n",
    "  tf.data.experimental.shuffle_and_repeat(buffer_size=image_count))\n",
    "ds = ds.batch(BATCH_SIZE).prefetch(buffer_size=AUTOTUNE)\n",
    "ds"
   ]
  },
  {
   "cell_type": "code",
   "execution_count": null,
   "metadata": {
    "colab": {},
    "colab_type": "code",
    "id": "rdxpvQ7VEo3y"
   },
   "outputs": [],
   "source": [
    "timeit(ds)"
   ]
  },
  {
   "cell_type": "markdown",
   "metadata": {
    "colab_type": "text",
    "id": "usIv7MqqZQps"
   },
   "source": [
    "One disadvantage to using an in-memory cache is that the cache must be rebuilt on each run, giving the same startup delay each time the dataset is started:"
   ]
  },
  {
   "cell_type": "code",
   "execution_count": null,
   "metadata": {
    "colab": {},
    "colab_type": "code",
    "id": "eKX6ergKb_xd"
   },
   "outputs": [],
   "source": [
    "timeit(ds)"
   ]
  },
  {
   "cell_type": "markdown",
   "metadata": {
    "colab_type": "text",
    "id": "jUzpG4lYNkN-"
   },
   "source": [
    "If the data doesn't fit in memory, use a cache file:"
   ]
  },
  {
   "cell_type": "code",
   "execution_count": null,
   "metadata": {
    "colab": {},
    "colab_type": "code",
    "id": "vIvF8K4GMq0g"
   },
   "outputs": [],
   "source": [
    "ds = image_label_ds.cache(filename='./cache.tf-data')\n",
    "ds = ds.apply(\n",
    "  tf.data.experimental.shuffle_and_repeat(buffer_size=image_count))\n",
    "ds = ds.batch(BATCH_SIZE).prefetch(1)\n",
    "ds"
   ]
  },
  {
   "cell_type": "code",
   "execution_count": null,
   "metadata": {
    "colab": {},
    "colab_type": "code",
    "id": "eTIj6IOmM4yA"
   },
   "outputs": [],
   "source": [
    "timeit(ds)"
   ]
  },
  {
   "cell_type": "markdown",
   "metadata": {
    "colab_type": "text",
    "id": "qqo3dyB0Z4t2"
   },
   "source": [
    "The cache file also has the advantage that it can be used to quickly restart the dataset without rebuilding the cache. Note how much faster it is the second time:"
   ]
  },
  {
   "cell_type": "code",
   "execution_count": null,
   "metadata": {
    "colab": {},
    "colab_type": "code",
    "id": "hZhVdR8MbaUj"
   },
   "outputs": [],
   "source": [
    "timeit(ds)"
   ]
  },
  {
   "cell_type": "markdown",
   "metadata": {
    "colab_type": "text",
    "id": "WqOVlf8tFrDU"
   },
   "source": [
    "### TFRecord File"
   ]
  },
  {
   "cell_type": "markdown",
   "metadata": {
    "colab_type": "text",
    "id": "y1llOTwWFzmR"
   },
   "source": [
    "#### Raw image data\n",
    "\n",
    "TFRecord files are a simple format for storing a sequence of binary blobs. By packing multiple examples into the same file, TensorFlow is able to read multiple examples at once, which is especially important for performance when using a remote storage service such as GCS.\n",
    "\n",
    "First, build a TFRecord file from the raw image data:"
   ]
  },
  {
   "cell_type": "code",
   "execution_count": null,
   "metadata": {
    "colab": {},
    "colab_type": "code",
    "id": "EqtARqKuHQLu"
   },
   "outputs": [],
   "source": [
    "image_ds = tf.data.Dataset.from_tensor_slices(all_image_paths).map(tf.read_file)\n",
    "tfrec = tf.data.experimental.TFRecordWriter('images.tfrec')\n",
    "tfrec.write(image_ds)"
   ]
  },
  {
   "cell_type": "markdown",
   "metadata": {
    "colab_type": "text",
    "id": "flR2GXWFKcO1"
   },
   "source": [
    "Next build a dataset that reads from the TFRecord file and decodes/reformats the images using the `preprocess_image` function you defined earlier."
   ]
  },
  {
   "cell_type": "code",
   "execution_count": null,
   "metadata": {
    "colab": {},
    "colab_type": "code",
    "id": "j9PVUL2SFufn"
   },
   "outputs": [],
   "source": [
    "image_ds = tf.data.TFRecordDataset('images.tfrec').map(preprocess_image)"
   ]
  },
  {
   "cell_type": "markdown",
   "metadata": {
    "colab_type": "text",
    "id": "cRp1eZDRKzyN"
   },
   "source": [
    "Zip that with the labels dataset you defined earlier, to get the expected `(image,label)` pairs."
   ]
  },
  {
   "cell_type": "code",
   "execution_count": null,
   "metadata": {
    "colab": {},
    "colab_type": "code",
    "id": "7XI_nDU2KuhS"
   },
   "outputs": [],
   "source": [
    "ds = tf.data.Dataset.zip((image_ds, label_ds))\n",
    "ds = ds.apply(\n",
    "  tf.data.experimental.shuffle_and_repeat(buffer_size=image_count))\n",
    "ds=ds.batch(BATCH_SIZE).prefetch(AUTOTUNE)\n",
    "ds"
   ]
  },
  {
   "cell_type": "code",
   "execution_count": null,
   "metadata": {
    "colab": {},
    "colab_type": "code",
    "id": "3ReSapoPK22E"
   },
   "outputs": [],
   "source": [
    "timeit(ds)"
   ]
  },
  {
   "cell_type": "markdown",
   "metadata": {
    "colab_type": "text",
    "id": "wb7VyoKNOMms"
   },
   "source": [
    "This is slower than the `cache` version because you have not cached the preprocessing."
   ]
  },
  {
   "cell_type": "markdown",
   "metadata": {
    "colab_type": "text",
    "id": "NF9W-CTKkM-f"
   },
   "source": [
    "#### Serialized Tensors"
   ]
  },
  {
   "cell_type": "markdown",
   "metadata": {
    "colab_type": "text",
    "id": "J9HzljSPkxt0"
   },
   "source": [
    "To save some preprocessing to the TFRecord file, first make a dataset of the processed images, as before:"
   ]
  },
  {
   "cell_type": "code",
   "execution_count": null,
   "metadata": {
    "colab": {},
    "colab_type": "code",
    "id": "OzS0Azukkjyw"
   },
   "outputs": [],
   "source": [
    "paths_ds = tf.data.Dataset.from_tensor_slices(all_image_paths)\n",
    "image_ds = paths_ds.map(load_and_preprocess_image)\n",
    "image_ds"
   ]
  },
  {
   "cell_type": "markdown",
   "metadata": {
    "colab_type": "text",
    "id": "onWOwLpYlzJQ"
   },
   "source": [
    "Now instead of a dataset of `.jpeg` strings, this is a dataset of tensors.\n",
    "\n",
    "To serialize this to a TFRecord file you first convert the dataset of tensors to a dataset of strings."
   ]
  },
  {
   "cell_type": "code",
   "execution_count": null,
   "metadata": {
    "colab": {},
    "colab_type": "code",
    "id": "xxZSwnRllyf0"
   },
   "outputs": [],
   "source": [
    "ds = image_ds.map(tf.serialize_tensor)\n",
    "ds"
   ]
  },
  {
   "cell_type": "code",
   "execution_count": null,
   "metadata": {
    "colab": {},
    "colab_type": "code",
    "id": "w9N6hJWAkKPC"
   },
   "outputs": [],
   "source": [
    "tfrec = tf.data.experimental.TFRecordWriter('images.tfrec')\n",
    "tfrec.write(ds)"
   ]
  },
  {
   "cell_type": "markdown",
   "metadata": {
    "colab_type": "text",
    "id": "OlFc9dJSmcx0"
   },
   "source": [
    "With the preprocessing cached, data can be loaded from the TFRecord file quite efficiently. Just remember to de-serialize the tensor before trying to use it."
   ]
  },
  {
   "cell_type": "code",
   "execution_count": null,
   "metadata": {
    "colab": {},
    "colab_type": "code",
    "id": "BsqFyTBFmSCZ"
   },
   "outputs": [],
   "source": [
    "ds = tf.data.TFRecordDataset('images.tfrec')\n",
    "\n",
    "def parse(x):\n",
    "  result = tf.parse_tensor(x, out_type=tf.float32)\n",
    "  result = tf.reshape(result, [192, 192, 3])\n",
    "  return result\n",
    "\n",
    "ds = ds.map(parse, num_parallel_calls=AUTOTUNE)\n",
    "ds"
   ]
  },
  {
   "cell_type": "markdown",
   "metadata": {
    "colab_type": "text",
    "id": "OPs_sLV9pQg5"
   },
   "source": [
    "Now, add the labels and apply the same standard operations as before:"
   ]
  },
  {
   "cell_type": "code",
   "execution_count": null,
   "metadata": {
    "colab": {},
    "colab_type": "code",
    "id": "XYxBwaLYnGop"
   },
   "outputs": [],
   "source": [
    "ds = tf.data.Dataset.zip((ds, label_ds))\n",
    "ds = ds.apply(\n",
    "  tf.data.experimental.shuffle_and_repeat(buffer_size=image_count))\n",
    "ds=ds.batch(BATCH_SIZE).prefetch(AUTOTUNE)\n",
    "ds"
   ]
  },
  {
   "cell_type": "code",
   "execution_count": null,
   "metadata": {
    "colab": {},
    "colab_type": "code",
    "id": "W8X6RmGan1-P"
   },
   "outputs": [],
   "source": [
    "timeit(ds)"
   ]
  }
 ],
 "metadata": {
  "colab": {
   "collapsed_sections": [],
   "name": "images.ipynb",
   "private_outputs": true,
   "provenance": [],
   "toc_visible": true,
   "version": "0.3.2"
  },
  "kernelspec": {
   "display_name": "Python 3",
   "language": "python",
   "name": "python3"
  },
  "language_info": {
   "codemirror_mode": {
    "name": "ipython",
    "version": 3
   },
   "file_extension": ".py",
   "mimetype": "text/x-python",
   "name": "python",
   "nbconvert_exporter": "python",
   "pygments_lexer": "ipython3",
   "version": "3.5.2"
  }
 },
 "nbformat": 4,
 "nbformat_minor": 2
}
