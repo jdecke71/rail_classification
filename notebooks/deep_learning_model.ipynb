{
 "cells": [
  {
   "cell_type": "markdown",
   "metadata": {},
   "source": [
    "### Setup"
   ]
  },
  {
   "cell_type": "code",
   "execution_count": 1,
   "metadata": {},
   "outputs": [
    {
     "data": {
      "text/plain": [
       "'1.13.1'"
      ]
     },
     "execution_count": 1,
     "metadata": {},
     "output_type": "execute_result"
    }
   ],
   "source": [
    "import tensorflow as tf\n",
    "from tensorflow.keras.applications import VGG16\n",
    "from tensorflow.keras.preprocessing.image import ImageDataGenerator\n",
    "\n",
    "tf.enable_eager_execution()\n",
    "\n",
    "tf.__version__"
   ]
  },
  {
   "cell_type": "code",
   "execution_count": 2,
   "metadata": {},
   "outputs": [
    {
     "name": "stdout",
     "output_type": "stream",
     "text": [
      "[name: \"/device:CPU:0\"\n",
      "device_type: \"CPU\"\n",
      "memory_limit: 268435456\n",
      "locality {\n",
      "}\n",
      "incarnation: 10003708370542782659\n",
      "]\n"
     ]
    }
   ],
   "source": [
    "from tensorflow.python.client import device_lib\n",
    "print(device_lib.list_local_devices())"
   ]
  },
  {
   "cell_type": "code",
   "execution_count": 8,
   "metadata": {},
   "outputs": [],
   "source": [
    "%run -i '../scripts/tf_test.py'"
   ]
  },
  {
   "cell_type": "code",
   "execution_count": 4,
   "metadata": {},
   "outputs": [],
   "source": [
    "AUTOTUNE = tf.data.experimental.AUTOTUNE"
   ]
  },
  {
   "cell_type": "markdown",
   "metadata": {},
   "source": [
    "## Start program"
   ]
  },
  {
   "cell_type": "markdown",
   "metadata": {},
   "source": [
    "### Select a model"
   ]
  },
  {
   "cell_type": "code",
   "execution_count": 5,
   "metadata": {},
   "outputs": [
    {
     "name": "stdout",
     "output_type": "stream",
     "text": [
      "WARNING:tensorflow:From /Users/jessedecker/miniconda3/envs/tf/lib/python3.6/site-packages/tensorflow/python/ops/resource_variable_ops.py:642: colocate_with (from tensorflow.python.framework.ops) is deprecated and will be removed in a future version.\n",
      "Instructions for updating:\n",
      "Colocations handled automatically by placer.\n",
      "WARNING:tensorflow:From /Users/jessedecker/miniconda3/envs/tf/lib/python3.6/site-packages/tensorflow/python/keras/layers/core.py:143: calling dropout (from tensorflow.python.ops.nn_ops) with keep_prob is deprecated and will be removed in a future version.\n",
      "Instructions for updating:\n",
      "Please use `rate` instead of `keep_prob`. Rate should be set to `rate = 1 - keep_prob`.\n"
     ]
    }
   ],
   "source": [
    "'''\n",
    "Model \n",
    "'''\n",
    "\n",
    "in_shape = (224,224,3)\n",
    "img_size = [in_shape[0],in_shape[1]]\n",
    "\n",
    "conv_base = tf.keras.applications.VGG16(weights='imagenet',\n",
    "                                        input_shape=in_shape,\n",
    "                                        include_top=False)\n",
    "\n",
    "model = tf.keras.models.Sequential([\n",
    "    conv_base,\n",
    "    tf.keras.layers.Flatten(),\n",
    "    tf.keras.layers.Dense(256, activation=tf.nn.relu),\n",
    "    tf.keras.layers.Dropout(0.3),\n",
    "    tf.keras.layers.Dense(1, activation=tf.nn.sigmoid)\n",
    "])"
   ]
  },
  {
   "cell_type": "code",
   "execution_count": 6,
   "metadata": {},
   "outputs": [
    {
     "name": "stdout",
     "output_type": "stream",
     "text": [
      "This is the number of trainable weights before freezing the conv base:  30\n",
      "This is the number of trainable weights after freezing the conv base:  4\n"
     ]
    }
   ],
   "source": [
    "#freezing the pretrained part of the model so it won't get updated as we train our model\n",
    "print('This is the number of trainable weights before freezing the conv base: ', len(model.trainable_weights))\n",
    "conv_base.trainable=False\n",
    "print('This is the number of trainable weights after freezing the conv base: ', len(model.trainable_weights))"
   ]
  },
  {
   "cell_type": "markdown",
   "metadata": {},
   "source": [
    "### Load Data"
   ]
  },
  {
   "cell_type": "code",
   "execution_count": 7,
   "metadata": {},
   "outputs": [],
   "source": [
    "'''\n",
    "Set Params\n",
    "\n",
    "sample_size: 0-1\n",
    "'''\n",
    "\n",
    "sample_size = 1.0\n",
    "\n",
    "batch_size = 32"
   ]
  },
  {
   "cell_type": "code",
   "execution_count": 9,
   "metadata": {},
   "outputs": [
    {
     "name": "stdout",
     "output_type": "stream",
     "text": [
      "1    400\n",
      "0    400\n",
      "Name: Catenary, dtype: int64\n",
      "800\n"
     ]
    }
   ],
   "source": [
    "'''\n",
    "Load CSVs\n",
    "'''\n",
    "\n",
    "df = GetCSVs(sample_size)\n",
    "print(df['Catenary'].value_counts())\n",
    "\n",
    "img_paths,labels = GetPaths(df)"
   ]
  },
  {
   "cell_type": "code",
   "execution_count": 10,
   "metadata": {},
   "outputs": [
    {
     "name": "stdout",
     "output_type": "stream",
     "text": [
      "Number of images in train:  576\n",
      "Distribution for train set:  (array([0, 1]), array([287, 289]))\n",
      "\n",
      "\n",
      "Number of images in validation:  144\n",
      "Distribution for validation set:  (array([0, 1]), array([73, 71]))\n",
      "\n",
      "\n",
      "Number of images in test:  80\n",
      "Distribution for test set:  (array([0, 1]), array([40, 40]))\n",
      "\n",
      "\n"
     ]
    }
   ],
   "source": [
    "'''\n",
    "Split, shuffle, and batch images into train/test datasets\n",
    "'''\n",
    "\n",
    "train_image_label_ds, val_image_label_ds, test_image_label_ds = SplitDataSet(img_paths, labels)\n",
    "\n",
    "train_ds = ShuffleBatch(train_image_label_ds,len(img_paths),BATCH_SIZE = batch_size)\n",
    "val_ds = ShuffleBatch(val_image_label_ds,len(img_paths),BATCH_SIZE = batch_size)\n",
    "test_ds = ShuffleBatch(test_image_label_ds,len(img_paths),BATCH_SIZE = batch_size)"
   ]
  },
  {
   "cell_type": "markdown",
   "metadata": {},
   "source": [
    "### Compile, Fit, and Evaluate"
   ]
  },
  {
   "cell_type": "code",
   "execution_count": 11,
   "metadata": {},
   "outputs": [],
   "source": [
    "model.compile(optimizer=tf.keras.optimizers.Adam(lr=5e-7),\n",
    "              loss=tf.keras.losses.binary_crossentropy,\n",
    "              metrics=['accuracy'])"
   ]
  },
  {
   "cell_type": "code",
   "execution_count": 12,
   "metadata": {},
   "outputs": [
    {
     "name": "stdout",
     "output_type": "stream",
     "text": [
      "Epoch 1/10\n",
      "WARNING:tensorflow:From /Users/jessedecker/miniconda3/envs/tf/lib/python3.6/site-packages/tensorflow/python/ops/math_ops.py:3066: to_int32 (from tensorflow.python.ops.math_ops) is deprecated and will be removed in a future version.\n",
      "Instructions for updating:\n",
      "Use tf.cast instead.\n",
      "10/10 [==============================] - 114s 11s/step - loss: 0.7289 - acc: 0.4844\n",
      "10/10 [==============================] - 233s 23s/step - loss: 0.7293 - acc: 0.5469 - val_loss: 0.7289 - val_acc: 0.4844\n",
      "Epoch 2/10\n",
      "10/10 [==============================] - 117s 12s/step - loss: 0.7060 - acc: 0.4938\n",
      "10/10 [==============================] - 221s 22s/step - loss: 0.7354 - acc: 0.5531 - val_loss: 0.7060 - val_acc: 0.4938\n",
      "Epoch 3/10\n",
      "10/10 [==============================] - 111s 11s/step - loss: 0.7057 - acc: 0.4781\n",
      "10/10 [==============================] - 215s 22s/step - loss: 0.7655 - acc: 0.5094 - val_loss: 0.7057 - val_acc: 0.4781\n",
      "Epoch 4/10\n",
      "10/10 [==============================] - 108s 11s/step - loss: 0.7239 - acc: 0.4719\n",
      "10/10 [==============================] - 205s 21s/step - loss: 0.7449 - acc: 0.4938 - val_loss: 0.7239 - val_acc: 0.4719\n",
      "Epoch 5/10\n",
      "10/10 [==============================] - 109s 11s/step - loss: 0.7014 - acc: 0.5063\n",
      "10/10 [==============================] - 206s 21s/step - loss: 0.7727 - acc: 0.4812 - val_loss: 0.7014 - val_acc: 0.5063\n",
      "Epoch 6/10\n",
      "10/10 [==============================] - 126s 13s/step - loss: 0.6950 - acc: 0.5219\n",
      "10/10 [==============================] - 225s 23s/step - loss: 0.7285 - acc: 0.5594 - val_loss: 0.6950 - val_acc: 0.5219\n",
      "Epoch 7/10\n",
      "10/10 [==============================] - 124s 12s/step - loss: 0.6942 - acc: 0.5281\n",
      "10/10 [==============================] - 232s 23s/step - loss: 0.7725 - acc: 0.4688 - val_loss: 0.6942 - val_acc: 0.5281\n",
      "Epoch 8/10\n",
      "10/10 [==============================] - 123s 12s/step - loss: 0.6984 - acc: 0.5250\n",
      "10/10 [==============================] - 232s 23s/step - loss: 0.7298 - acc: 0.5500 - val_loss: 0.6984 - val_acc: 0.5250\n",
      "Epoch 9/10\n",
      "10/10 [==============================] - 124s 12s/step - loss: 0.6821 - acc: 0.5281\n",
      "10/10 [==============================] - 235s 23s/step - loss: 0.6999 - acc: 0.5156 - val_loss: 0.6821 - val_acc: 0.5281\n",
      "Epoch 10/10\n",
      "10/10 [==============================] - 122s 12s/step - loss: 0.6923 - acc: 0.5406\n",
      "10/10 [==============================] - 233s 23s/step - loss: 0.7243 - acc: 0.5125 - val_loss: 0.6923 - val_acc: 0.5406\n"
     ]
    }
   ],
   "source": [
    "# steps_epoch = int(tf.ceil(len(img_paths)/batch_size).numpy())\n",
    "steps_epoch = 10\n",
    "\n",
    "# num_epochs = steps_epoch*2\n",
    "num_epochs = 10\n",
    "\n",
    "\n",
    "history = model.fit(\n",
    "    train_ds,\n",
    "    steps_per_epoch=steps_epoch,\n",
    "    epochs=num_epochs,\n",
    "    validation_data=val_ds,\n",
    "    validation_steps=steps_epoch)"
   ]
  },
  {
   "cell_type": "code",
   "execution_count": null,
   "metadata": {},
   "outputs": [],
   "source": [
    "#checking the result of the model.\n",
    "\n",
    "acc = history.history['acc']\n",
    "print('Accuracy:',acc)\n",
    "val_acc = history.history['val_acc']\n",
    "\n",
    "loss = history.history['loss']\n",
    "print('Loss:',loss)\n",
    "val_loss = history.history['val_loss']\n",
    "\n",
    "epochs = range(len(acc))\n",
    "\n",
    "plt.plot(epochs, acc, 'bo', label = 'Training acc')\n",
    "plt.plot(epochs, val_acc, 'b', label='Validation acc')\n",
    "plt.title('Training and validation accuracy')\n",
    "plt.legend()\n",
    "\n",
    "plt.figure()\n",
    "\n",
    "plt.plot(epochs, loss, 'bo', label='Training loss')\n",
    "plt.plot(epochs, val_loss, 'b', label='Validation loss')\n",
    "plt.title('Training and validation loss')\n",
    "plt.legend()\n",
    "\n",
    "plt.show()"
   ]
  },
  {
   "cell_type": "code",
   "execution_count": null,
   "metadata": {},
   "outputs": [],
   "source": [
    "#To fine tune the model, unfroze last block of the pretrained model \n",
    "# since last block contains more complicated data\n",
    "#that does not apply to most of the images unlike lower level that has edges \n",
    "# or other simpler data that can be reused for other classifications\n",
    "conv_base.trainable = True\n",
    "\n",
    "set_trainable = False\n",
    "for layer in conv_base.layers:\n",
    "    if layer.name == 'block5_conv1':\n",
    "        set_trainable = True\n",
    "    elif layer.name == 'block5_conv2':\n",
    "        set_trainable = True\n",
    "    if set_trainable:\n",
    "        layer.trainable = True\n",
    "    else:\n",
    "        layer.trainable = False"
   ]
  },
  {
   "cell_type": "code",
   "execution_count": null,
   "metadata": {},
   "outputs": [],
   "source": [
    "#train the model again with partially unfrozen model\n",
    "model.compile(optimizer=tf.keras.optimizers.Adam(lr=1e-8),\n",
    "              loss=tf.keras.losses.binary_crossentropy,\n",
    "              metrics=['accuracy'])\n",
    "\n",
    "\n",
    "steps_epoch = 10\n",
    "\n",
    "num_epochs = 10\n",
    "\n",
    "history = model.fit(\n",
    "    train_ds,\n",
    "    steps_per_epoch=steps_epoch,\n",
    "    epochs=num_epochs,\n",
    "    validation_data=val_ds,\n",
    "    validation_steps=steps_epoch)"
   ]
  },
  {
   "cell_type": "code",
   "execution_count": null,
   "metadata": {},
   "outputs": [],
   "source": [
    "#checking the result of the model.\n",
    "\n",
    "acc = history.history['acc']\n",
    "print('Accuracy:',acc)\n",
    "val_acc = history.history['val_acc']\n",
    "\n",
    "loss = history.history['loss']\n",
    "print('Loss:',loss)\n",
    "val_loss = history.history['val_loss']\n",
    "\n",
    "epochs = range(len(acc))\n",
    "\n",
    "plt.plot(epochs, acc, 'bo', label = 'Training acc')\n",
    "plt.plot(epochs, val_acc, 'b', label='Validation acc')\n",
    "plt.title('Training and validation accuracy')\n",
    "plt.legend()\n",
    "\n",
    "plt.figure()\n",
    "\n",
    "plt.plot(epochs, loss, 'bo', label='Training loss')\n",
    "plt.plot(epochs, val_loss, 'b', label='Validation loss')\n",
    "plt.title('Training and validation loss')\n",
    "plt.legend()\n",
    "\n",
    "plt.show()"
   ]
  },
  {
   "cell_type": "code",
   "execution_count": null,
   "metadata": {},
   "outputs": [],
   "source": [
    "test_loss, test_acc = model.evaluate(\n",
    "    test_ds,\n",
    "    steps=steps_epoch)"
   ]
  },
  {
   "cell_type": "markdown",
   "metadata": {},
   "source": [
    "### Save model"
   ]
  },
  {
   "cell_type": "code",
   "execution_count": null,
   "metadata": {},
   "outputs": [],
   "source": [
    "#saving model for future use\n",
    "filename = '../data/results/model_VGG_finetuned.h5'\n",
    "model.save(filename)\n",
    "print('Saved: %s' % filename)"
   ]
  },
  {
   "cell_type": "code",
   "execution_count": null,
   "metadata": {},
   "outputs": [],
   "source": []
  }
 ],
 "metadata": {
  "kernelspec": {
   "display_name": "Python 3",
   "language": "python",
   "name": "python3"
  },
  "language_info": {
   "codemirror_mode": {
    "name": "ipython",
    "version": 3
   },
   "file_extension": ".py",
   "mimetype": "text/x-python",
   "name": "python",
   "nbconvert_exporter": "python",
   "pygments_lexer": "ipython3",
   "version": "3.6.8"
  }
 },
 "nbformat": 4,
 "nbformat_minor": 2
}
