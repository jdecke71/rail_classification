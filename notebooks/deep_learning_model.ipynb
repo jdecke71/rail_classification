{
 "cells": [
  {
   "cell_type": "markdown",
   "metadata": {},
   "source": [
    "### Setup"
   ]
  },
  {
   "cell_type": "code",
   "execution_count": 1,
   "metadata": {},
   "outputs": [
    {
     "data": {
      "text/plain": [
       "'1.13.1'"
      ]
     },
     "execution_count": 1,
     "metadata": {},
     "output_type": "execute_result"
    }
   ],
   "source": [
    "import tensorflow as tf\n",
    "from tensorflow.keras.applications import VGG16\n",
    "from tensorflow.keras.preprocessing.image import ImageDataGenerator\n",
    "\n",
    "tf.enable_eager_execution()\n",
    "\n",
    "tf.__version__"
   ]
  },
  {
   "cell_type": "code",
   "execution_count": null,
   "metadata": {},
   "outputs": [],
   "source": [
    "from tensorflow.python.client import device_lib\n",
    "print(device_lib.list_local_devices())"
   ]
  },
  {
   "cell_type": "code",
   "execution_count": 2,
   "metadata": {},
   "outputs": [],
   "source": [
    "%run -i '../scripts/tf_test.py'"
   ]
  },
  {
   "cell_type": "code",
   "execution_count": 3,
   "metadata": {},
   "outputs": [],
   "source": [
    "AUTOTUNE = tf.data.experimental.AUTOTUNE"
   ]
  },
  {
   "cell_type": "markdown",
   "metadata": {},
   "source": [
    "## Start program"
   ]
  },
  {
   "cell_type": "markdown",
   "metadata": {},
   "source": [
    "### Select a model"
   ]
  },
  {
   "cell_type": "code",
   "execution_count": null,
   "metadata": {},
   "outputs": [],
   "source": [
    "'''\n",
    "Model \n",
    "'''\n",
    "\n",
    "img_size = [224,224]\n",
    "\n",
    "mobile_net = tf.keras.applications.MobileNetV2(weights='imagenet',\n",
    "                                               input_shape=(224, 224, 3), \n",
    "                                               include_top=False)\n",
    "# mobile_net.trainable=False\n",
    "\n",
    "model = tf.keras.Sequential([\n",
    "    mobile_net,\n",
    "    tf.keras.layers.GlobalAveragePooling2D(),\n",
    "    tf.keras.layers.Dense(32, activation = 'relu'),\n",
    "    tf.keras.layers.Dropout(0.5),\n",
    "    tf.keras.layers.Dense(32, activation='relu'),\n",
    "    tf.keras.layers.Dropout(0.5),\n",
    "    tf.keras.layers.Dense(1, activation='sigmoid')\n",
    "])"
   ]
  },
  {
   "cell_type": "code",
   "execution_count": 4,
   "metadata": {},
   "outputs": [
    {
     "name": "stdout",
     "output_type": "stream",
     "text": [
      "WARNING:tensorflow:From /Users/jessedecker/miniconda3/envs/tf/lib/python3.6/site-packages/tensorflow/python/ops/resource_variable_ops.py:642: colocate_with (from tensorflow.python.framework.ops) is deprecated and will be removed in a future version.\n",
      "Instructions for updating:\n",
      "Colocations handled automatically by placer.\n",
      "WARNING:tensorflow:From /Users/jessedecker/miniconda3/envs/tf/lib/python3.6/site-packages/tensorflow/python/keras/layers/core.py:143: calling dropout (from tensorflow.python.ops.nn_ops) with keep_prob is deprecated and will be removed in a future version.\n",
      "Instructions for updating:\n",
      "Please use `rate` instead of `keep_prob`. Rate should be set to `rate = 1 - keep_prob`.\n"
     ]
    }
   ],
   "source": [
    "'''\n",
    "Model \n",
    "'''\n",
    "\n",
    "in_shape = (224,224,3)\n",
    "img_size = [in_shape[0],in_shape[1]]\n",
    "\n",
    "conv_base = tf.keras.applications.VGG16(weights='imagenet',\n",
    "                                        input_shape=in_shape,\n",
    "                                        include_top=False)\n",
    "\n",
    "model = tf.keras.models.Sequential([\n",
    "    conv_base,\n",
    "    tf.keras.layers.Flatten(),\n",
    "    tf.keras.layers.Dense(256, activation=tf.nn.relu),\n",
    "    tf.keras.layers.Dropout(0.3),\n",
    "    tf.keras.layers.Dense(1, activation=tf.nn.sigmoid)\n",
    "])"
   ]
  },
  {
   "cell_type": "code",
   "execution_count": 5,
   "metadata": {},
   "outputs": [
    {
     "name": "stdout",
     "output_type": "stream",
     "text": [
      "This is the number of trainable weights before freezing the conv base:  30\n",
      "This is the number of trainable weights after freezing the conv base:  4\n"
     ]
    }
   ],
   "source": [
    "#freezing the pretrained part of the model so it won't get updated as we train our model\n",
    "print('This is the number of trainable weights before freezing the conv base: ', len(model.trainable_weights))\n",
    "conv_base.trainable=False\n",
    "print('This is the number of trainable weights after freezing the conv base: ', len(model.trainable_weights))"
   ]
  },
  {
   "cell_type": "markdown",
   "metadata": {},
   "source": [
    "### Load Data"
   ]
  },
  {
   "cell_type": "code",
   "execution_count": 6,
   "metadata": {},
   "outputs": [],
   "source": [
    "'''\n",
    "Set Params\n",
    "\n",
    "sample_size: 0-1\n",
    "'''\n",
    "\n",
    "sample_size = 0.2\n",
    "\n",
    "batch_size = 16"
   ]
  },
  {
   "cell_type": "code",
   "execution_count": 7,
   "metadata": {},
   "outputs": [
    {
     "name": "stdout",
     "output_type": "stream",
     "text": [
      "[Errno 2] File b'../data/output_images/China/CHN.csv' does not exist: b'../data/output_images/China/CHN.csv'\n",
      "1    99\n",
      "0    99\n",
      "Name: Catenary, dtype: int64\n",
      "198\n"
     ]
    }
   ],
   "source": [
    "'''\n",
    "Load CSVs\n",
    "'''\n",
    "\n",
    "df = GetCSVs(sample_size)\n",
    "print(df['Catenary'].value_counts())\n",
    "\n",
    "img_paths,labels = GetPaths(df)"
   ]
  },
  {
   "cell_type": "code",
   "execution_count": 8,
   "metadata": {},
   "outputs": [
    {
     "name": "stdout",
     "output_type": "stream",
     "text": [
      "Number of images in train:  142\n",
      "Distribution for train set:  (array([0, 1]), array([74, 68]))\n",
      "\n",
      "\n",
      "Number of images in validation:  36\n",
      "Distribution for validation set:  (array([0, 1]), array([13, 23]))\n",
      "\n",
      "\n",
      "Number of images in test:  20\n",
      "Distribution for test set:  (array([0, 1]), array([12,  8]))\n",
      "\n",
      "\n"
     ]
    }
   ],
   "source": [
    "'''\n",
    "Split, shuffle, and batch images into train/test datasets\n",
    "'''\n",
    "\n",
    "train_image_label_ds, val_image_label_ds, test_image_label_ds = SplitDataSet(img_paths, labels)\n",
    "\n",
    "train_ds = ShuffleBatch(train_image_label_ds,len(img_paths),BATCH_SIZE = batch_size)\n",
    "val_ds = ShuffleBatch(val_image_label_ds,len(img_paths),BATCH_SIZE = batch_size)\n",
    "test_ds = ShuffleBatch(test_image_label_ds,len(img_paths),BATCH_SIZE = batch_size)"
   ]
  },
  {
   "cell_type": "markdown",
   "metadata": {},
   "source": [
    "### Compile, Fit, and Evaluate"
   ]
  },
  {
   "cell_type": "code",
   "execution_count": 9,
   "metadata": {},
   "outputs": [],
   "source": [
    "model.compile(optimizer=tf.keras.optimizers.Adam(lr=5e-7),\n",
    "              loss=tf.keras.losses.binary_crossentropy,\n",
    "              metrics=['accuracy'])"
   ]
  },
  {
   "cell_type": "code",
   "execution_count": 10,
   "metadata": {},
   "outputs": [
    {
     "name": "stdout",
     "output_type": "stream",
     "text": [
      "Epoch 1/4\n",
      "WARNING:tensorflow:From /Users/jessedecker/miniconda3/envs/tf/lib/python3.6/site-packages/tensorflow/python/ops/math_ops.py:3066: to_int32 (from tensorflow.python.ops.math_ops) is deprecated and will be removed in a future version.\n",
      "Instructions for updating:\n",
      "Use tf.cast instead.\n",
      "2/2 [==============================] - 12s 6s/step - loss: 0.7651 - acc: 0.3438\n",
      "2/2 [==============================] - 26s 13s/step - loss: 0.7277 - acc: 0.4688 - val_loss: 0.7651 - val_acc: 0.3438\n",
      "Epoch 2/4\n",
      "2/2 [==============================] - 14s 7s/step - loss: 0.7566 - acc: 0.4375\n",
      "2/2 [==============================] - 24s 12s/step - loss: 0.8117 - acc: 0.4062 - val_loss: 0.7566 - val_acc: 0.4375\n",
      "Epoch 3/4\n",
      "2/2 [==============================] - 14s 7s/step - loss: 0.7500 - acc: 0.3750\n",
      "2/2 [==============================] - 25s 13s/step - loss: 0.7426 - acc: 0.5312 - val_loss: 0.7500 - val_acc: 0.3750\n",
      "Epoch 4/4\n",
      "2/2 [==============================] - 18s 9s/step - loss: 0.7231 - acc: 0.5000\n",
      "2/2 [==============================] - 29s 14s/step - loss: 0.8260 - acc: 0.4062 - val_loss: 0.7231 - val_acc: 0.5000\n"
     ]
    }
   ],
   "source": [
    "# steps_epoch = int(tf.ceil(len(img_paths)/batch_size).numpy())\n",
    "steps_epoch = 2\n",
    "\n",
    "num_epochs = steps_epoch*2\n",
    "# num_epochs = 1\n",
    "\n",
    "\n",
    "history = model.fit(\n",
    "    train_ds,\n",
    "    steps_per_epoch=steps_epoch,\n",
    "    epochs=num_epochs,\n",
    "    validation_data=val_ds,\n",
    "    validation_steps=steps_epoch)"
   ]
  },
  {
   "cell_type": "code",
   "execution_count": 11,
   "metadata": {},
   "outputs": [
    {
     "name": "stdout",
     "output_type": "stream",
     "text": [
      "Accuracy: [0.46875, 0.40625, 0.53125, 0.40625]\n",
      "Loss: [0.7277210056781769, 0.8116716742515564, 0.7425755560398102, 0.8260312080383301]\n"
     ]
    },
    {
     "data": {
      "image/png": "[encoded data removed]",
      "text/plain": [
       "<Figure size 432x288 with 1 Axes>"
      ]
     },
     "metadata": {
      "needs_background": "light"
     },
     "output_type": "display_data"
    },
    {
     "data": {
      "image/png": "[encoded data removed]",
      "text/plain": [
       "<Figure size 432x288 with 1 Axes>"
      ]
     },
     "metadata": {
      "needs_background": "light"
     },
     "output_type": "display_data"
    }
   ],
   "source": [
    "#checking the result of the model.\n",
    "\n",
    "acc = history.history['acc']\n",
    "print('Accuracy:',acc)\n",
    "val_acc = history.history['val_acc']\n",
    "\n",
    "loss = history.history['loss']\n",
    "print('Loss:',loss)\n",
    "val_loss = history.history['val_loss']\n",
    "\n",
    "epochs = range(len(acc))\n",
    "\n",
    "plt.plot(epochs, acc, 'bo', label = 'Training acc')\n",
    "plt.plot(epochs, val_acc, 'b', label='Validation acc')\n",
    "plt.title('Training and validation accuracy')\n",
    "plt.legend()\n",
    "\n",
    "plt.figure()\n",
    "\n",
    "plt.plot(epochs, loss, 'bo', label='Training loss')\n",
    "plt.plot(epochs, val_loss, 'b', label='Validation loss')\n",
    "plt.title('Training and validation loss')\n",
    "plt.legend()\n",
    "\n",
    "plt.show()"
   ]
  },
  {
   "cell_type": "code",
   "execution_count": 12,
   "metadata": {},
   "outputs": [],
   "source": [
    "#To fine tune the model, unfroze last block of the pretrained model \n",
    "# since last block contains more complicated data\n",
    "#that does not apply to most of the images unlike lower level that has edges \n",
    "# or other simpler data that can be reused for other classifications\n",
    "conv_base.trainable = True\n",
    "\n",
    "set_trainable = False\n",
    "for layer in conv_base.layers:\n",
    "    if layer.name == 'block5_conv1':\n",
    "        set_trainable = True\n",
    "    elif layer.name == 'block5_conv2':\n",
    "        set_trainable = True\n",
    "    if set_trainable:\n",
    "        layer.trainable = True\n",
    "    else:\n",
    "        layer.trainable = False"
   ]
  },
  {
   "cell_type": "code",
   "execution_count": 13,
   "metadata": {},
   "outputs": [
    {
     "name": "stdout",
     "output_type": "stream",
     "text": [
      "Epoch 1/4\n",
      "4/4 [==============================] - 21s 5s/step - loss: 0.7351 - acc: 0.4531\n",
      "2/2 [==============================] - 37s 18s/step - loss: 0.8027 - acc: 0.4688 - val_loss: 0.7351 - val_acc: 0.4531\n",
      "Epoch 2/4\n",
      "4/4 [==============================] - 23s 6s/step - loss: 0.7426 - acc: 0.4062\n",
      "2/2 [==============================] - 35s 17s/step - loss: 0.8200 - acc: 0.4375 - val_loss: 0.7426 - val_acc: 0.4062\n",
      "Epoch 3/4\n",
      "4/4 [==============================] - 25s 6s/step - loss: 0.7510 - acc: 0.3750\n",
      "2/2 [==============================] - 38s 19s/step - loss: 0.8513 - acc: 0.4062 - val_loss: 0.7510 - val_acc: 0.3750\n",
      "Epoch 4/4\n",
      "4/4 [==============================] - 31s 8s/step - loss: 0.7279 - acc: 0.4531\n",
      "2/2 [==============================] - 45s 22s/step - loss: 0.7187 - acc: 0.5312 - val_loss: 0.7279 - val_acc: 0.4531\n"
     ]
    }
   ],
   "source": [
    "#train the model again with partially unfrozen model\n",
    "model.compile(optimizer=tf.keras.optimizers.Adam(lr=1e-8),\n",
    "              loss=tf.keras.losses.binary_crossentropy,\n",
    "              metrics=['accuracy'])\n",
    "\n",
    "\n",
    "# steps_epoch = int(tf.ceil(len(img_paths)/batch_size).numpy())\n",
    "# steps_epoch = 2\n",
    "\n",
    "# num_epochs = steps_epoch*2\n",
    "# num_epochs = 1\n",
    "\n",
    "\n",
    "history = model.fit(\n",
    "    train_ds,\n",
    "    steps_per_epoch=steps_epoch,\n",
    "    epochs=num_epochs,\n",
    "    validation_data=val_ds,\n",
    "    validation_steps=steps_epoch)"
   ]
  },
  {
   "cell_type": "code",
   "execution_count": 14,
   "metadata": {},
   "outputs": [
    {
     "name": "stdout",
     "output_type": "stream",
     "text": [
      "Accuracy: [0.46875, 0.4375, 0.40625, 0.53125]\n",
      "Loss: [0.8027015924453735, 0.8199557960033417, 0.8512827157974243, 0.7187453508377075]\n"
     ]
    },
    {
     "data": {
      "image/png": "[encoded data removed]",
      "text/plain": [
       "<Figure size 432x288 with 1 Axes>"
      ]
     },
     "metadata": {
      "needs_background": "light"
     },
     "output_type": "display_data"
    },
    {
     "data": {
      "image/png": "[encoded data removed]",
      "text/plain": [
       "<Figure size 432x288 with 1 Axes>"
      ]
     },
     "metadata": {
      "needs_background": "light"
     },
     "output_type": "display_data"
    }
   ],
   "source": [
    "#checking the result of the model.\n",
    "\n",
    "acc = history.history['acc']\n",
    "print('Accuracy:',acc)\n",
    "val_acc = history.history['val_acc']\n",
    "\n",
    "loss = history.history['loss']\n",
    "print('Loss:',loss)\n",
    "val_loss = history.history['val_loss']\n",
    "\n",
    "epochs = range(len(acc))\n",
    "\n",
    "plt.plot(epochs, acc, 'bo', label = 'Training acc')\n",
    "plt.plot(epochs, val_acc, 'b', label='Validation acc')\n",
    "plt.title('Training and validation accuracy')\n",
    "plt.legend()\n",
    "\n",
    "plt.figure()\n",
    "\n",
    "plt.plot(epochs, loss, 'bo', label='Training loss')\n",
    "plt.plot(epochs, val_loss, 'b', label='Validation loss')\n",
    "plt.title('Training and validation loss')\n",
    "plt.legend()\n",
    "\n",
    "plt.show()"
   ]
  },
  {
   "cell_type": "code",
   "execution_count": 15,
   "metadata": {},
   "outputs": [
    {
     "name": "stdout",
     "output_type": "stream",
     "text": [
      "2/2 [==============================] - 12s 6s/step - loss: 0.6686 - acc: 0.5625\n"
     ]
    }
   ],
   "source": [
    "test_loss, test_acc = model.evaluate(\n",
    "    test_ds,\n",
    "    steps=steps_epoch)"
   ]
  },
  {
   "cell_type": "markdown",
   "metadata": {},
   "source": [
    "### Save model"
   ]
  },
  {
   "cell_type": "code",
   "execution_count": null,
   "metadata": {},
   "outputs": [],
   "source": [
    "#saving model for future use\n",
    "filename = 'model_VGG_finetuned.h5'\n",
    "model.save(filename)\n",
    "print('Saved: %s' % filename)"
   ]
  }
 ],
 "metadata": {
  "kernelspec": {
   "display_name": "Python 3",
   "language": "python",
   "name": "python3"
  },
  "language_info": {
   "codemirror_mode": {
    "name": "ipython",
    "version": 3
   },
   "file_extension": ".py",
   "mimetype": "text/x-python",
   "name": "python",
   "nbconvert_exporter": "python",
   "pygments_lexer": "ipython3",
   "version": "3.6.8"
  }
 },
 "nbformat": 4,
 "nbformat_minor": 2
}
