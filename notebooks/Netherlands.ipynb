{
 "cells": [
  {
   "cell_type": "code",
   "execution_count": 1,
   "metadata": {},
   "outputs": [],
   "source": [
    "import pandas as pd\n",
    "import geopandas as gpd\n",
    "import matplotlib.pyplot as plt\n",
    "from shapely.geometry import mapping\n",
    "import folium\n",
    "import gmaps\n",
    "import os\n",
    "import requests\n",
    "import shutil"
   ]
  },
  {
   "cell_type": "code",
   "execution_count": 2,
   "metadata": {},
   "outputs": [],
   "source": [
    "with open('../resources/key.txt') as f:\n",
    "    token = f.read()\n",
    "    \n",
    "gmaps.configure(api_key = token)"
   ]
  },
  {
   "cell_type": "code",
   "execution_count": 3,
   "metadata": {},
   "outputs": [],
   "source": [
    "input_folder = '../data/railways/nl/shapes_voor_website/'\n",
    "input_file = input_folder+'spoor.shp'\n",
    "\n",
    "output_folder = '../data/output_images/Netherlands/'\n",
    "output_csv = output_folder+'NET.csv'\n",
    "\n",
    "update_folder = output_folder+'/set_2/'"
   ]
  },
  {
   "cell_type": "markdown",
   "metadata": {},
   "source": [
    "### Import Routes"
   ]
  },
  {
   "cell_type": "code",
   "execution_count": 4,
   "metadata": {},
   "outputs": [
    {
     "data": {
      "text/html": [
       "<div>\n",
       "<style scoped>\n",
       "    .dataframe tbody tr th:only-of-type {\n",
       "        vertical-align: middle;\n",
       "    }\n",
       "\n",
       "    .dataframe tbody tr th {\n",
       "        vertical-align: top;\n",
       "    }\n",
       "\n",
       "    .dataframe thead th {\n",
       "        text-align: right;\n",
       "    }\n",
       "</style>\n",
       "<table border=\"1\" class=\"dataframe\">\n",
       "  <thead>\n",
       "    <tr style=\"text-align: right;\">\n",
       "      <th></th>\n",
       "      <th>ID</th>\n",
       "      <th>OBJECTNAAM</th>\n",
       "      <th>GEOCODE</th>\n",
       "      <th>SPOORNUMME</th>\n",
       "      <th>KMVAN</th>\n",
       "      <th>KMTOT</th>\n",
       "      <th>geometry</th>\n",
       "    </tr>\n",
       "  </thead>\n",
       "  <tbody>\n",
       "    <tr>\n",
       "      <th>0</th>\n",
       "      <td>1438188</td>\n",
       "      <td>as-spoor</td>\n",
       "      <td>950</td>\n",
       "      <td>RK</td>\n",
       "      <td>13.118</td>\n",
       "      <td>13.186</td>\n",
       "      <td>LINESTRING (4.355233512313273 51.8764085151107...</td>\n",
       "    </tr>\n",
       "    <tr>\n",
       "      <th>1</th>\n",
       "      <td>30843554</td>\n",
       "      <td>as-spoor</td>\n",
       "      <td>917</td>\n",
       "      <td>27</td>\n",
       "      <td>78.130</td>\n",
       "      <td>78.495</td>\n",
       "      <td>LINESTRING (4.866888980297831 52.3913574208449...</td>\n",
       "    </tr>\n",
       "    <tr>\n",
       "      <th>2</th>\n",
       "      <td>30843539</td>\n",
       "      <td>as-spoor</td>\n",
       "      <td>917</td>\n",
       "      <td>982AR</td>\n",
       "      <td>78.230</td>\n",
       "      <td>78.230</td>\n",
       "      <td>LINESTRING (4.868201802003703 52.3909277632807...</td>\n",
       "    </tr>\n",
       "    <tr>\n",
       "      <th>3</th>\n",
       "      <td>28786315</td>\n",
       "      <td>as-spoor</td>\n",
       "      <td>544</td>\n",
       "      <td>1113V</td>\n",
       "      <td>1.083</td>\n",
       "      <td>1.128</td>\n",
       "      <td>LINESTRING (4.786112083302916 51.5956615365737...</td>\n",
       "    </tr>\n",
       "    <tr>\n",
       "      <th>4</th>\n",
       "      <td>28826889</td>\n",
       "      <td>as-spoor</td>\n",
       "      <td>467</td>\n",
       "      <td>None</td>\n",
       "      <td>103.811</td>\n",
       "      <td>103.813</td>\n",
       "      <td>LINESTRING (4.442601229605728 51.896203285737,...</td>\n",
       "    </tr>\n",
       "  </tbody>\n",
       "</table>\n",
       "</div>"
      ],
      "text/plain": [
       "         ID OBJECTNAAM GEOCODE SPOORNUMME    KMVAN    KMTOT  \\\n",
       "0   1438188   as-spoor     950         RK   13.118   13.186   \n",
       "1  30843554   as-spoor     917         27   78.130   78.495   \n",
       "2  30843539   as-spoor     917      982AR   78.230   78.230   \n",
       "3  28786315   as-spoor     544      1113V    1.083    1.128   \n",
       "4  28826889   as-spoor     467       None  103.811  103.813   \n",
       "\n",
       "                                            geometry  \n",
       "0  LINESTRING (4.355233512313273 51.8764085151107...  \n",
       "1  LINESTRING (4.866888980297831 52.3913574208449...  \n",
       "2  LINESTRING (4.868201802003703 52.3909277632807...  \n",
       "3  LINESTRING (4.786112083302916 51.5956615365737...  \n",
       "4  LINESTRING (4.442601229605728 51.896203285737,...  "
      ]
     },
     "execution_count": 4,
     "metadata": {},
     "output_type": "execute_result"
    }
   ],
   "source": [
    "routes = gpd.read_file(input_file)\n",
    "\n",
    "routes = routes.to_crs({'init' :'epsg:4269'})\n",
    "\n",
    "routes.head()"
   ]
  },
  {
   "cell_type": "code",
   "execution_count": 4,
   "metadata": {},
   "outputs": [
    {
     "data": {
      "text/plain": [
       "(16544, 7)"
      ]
     },
     "execution_count": 4,
     "metadata": {},
     "output_type": "execute_result"
    }
   ],
   "source": [
    "# Number of routes\n",
    "routes.shape"
   ]
  },
  {
   "cell_type": "code",
   "execution_count": 6,
   "metadata": {},
   "outputs": [],
   "source": [
    "tmp = routes.iloc[0]"
   ]
  },
  {
   "cell_type": "code",
   "execution_count": 15,
   "metadata": {},
   "outputs": [
    {
     "data": {
      "text/plain": [
       "[(4.355233512313273, 51.876408515110725),\n",
       " (4.354917511750246, 51.87638804807558),\n",
       " (4.354247125378726, 51.87634213558934)]"
      ]
     },
     "execution_count": 15,
     "metadata": {},
     "output_type": "execute_result"
    }
   ],
   "source": [
    "list(tmp.geometry.coords)"
   ]
  },
  {
   "cell_type": "code",
   "execution_count": 5,
   "metadata": {},
   "outputs": [
    {
     "name": "stdout",
     "output_type": "stream",
     "text": [
      "69 points\n"
     ]
    }
   ],
   "source": [
    "'''\n",
    "Get all points\n",
    "'''\n",
    "# len(routes.ID.tolist())\n",
    "points = []\n",
    "for i in range(0,10):\n",
    "    try:\n",
    "        route = routes.iloc[i]\n",
    "        g = list(route.geometry.coords)\n",
    "        for j in range(0,len(g)):\n",
    "            sec_points = g[j]\n",
    "            points.append(sec_points)\n",
    "    except Exception as e:\n",
    "        print(\"Skipped route number\",i,'because',e)\n",
    "\n",
    "print(len(points),'points')"
   ]
  },
  {
   "cell_type": "code",
   "execution_count": null,
   "metadata": {},
   "outputs": [],
   "source": [
    "'''\n",
    "Get points for 1 or more routes\n",
    "'''\n",
    "\n",
    "rows = [0]\n",
    "\n",
    "points = []\n",
    "for i in range(0,len(routes.ID.tolist())):\n",
    "    if i in rows:\n",
    "    #     print('Route',i)\n",
    "        try:\n",
    "            route = routes.iloc[i]\n",
    "            g = list(route.geometry.coords)\n",
    "            for j in range(0,len(g)):\n",
    "                sec_points = mapping(g[j])[\"coordinates\"]\n",
    "                for k in range(0,len(sec_points)):\n",
    "                    sec_points = g[j]\n",
    "                    points.append(sec_points)\n",
    "        except Exception as e:\n",
    "            print(\"Skipped route number\",i,'because',e)\n",
    "\n",
    "print(len(points),'points')"
   ]
  },
  {
   "cell_type": "code",
   "execution_count": null,
   "metadata": {},
   "outputs": [],
   "source": [
    "'''\n",
    "Get points for single route/section\n",
    "'''\n",
    "\n",
    "row = 0\n",
    "section = 0\n",
    "\n",
    "points = []\n",
    "try:\n",
    "    route = routes.iloc[row]\n",
    "    g = [i for i in route.geometry]\n",
    "    len(g)\n",
    "\n",
    "    points = mapping(g[section])[\"coordinates\"]\n",
    "except Exception as e:\n",
    "    print(\"Skipped route number\",row,'because',e)\n",
    "    \n",
    "print(len(points),'points')"
   ]
  },
  {
   "cell_type": "code",
   "execution_count": 7,
   "metadata": {},
   "outputs": [
    {
     "name": "stdout",
     "output_type": "stream",
     "text": [
      "35\n"
     ]
    }
   ],
   "source": [
    "'''\n",
    "Get subselection of points\n",
    "'''\n",
    "\n",
    "route_points = []\n",
    "for point in range(0,len(points),2):\n",
    "    tmp = points[point]\n",
    "    route_points.append(tmp)\n",
    "\n",
    "print(len(route_points))"
   ]
  },
  {
   "cell_type": "code",
   "execution_count": 8,
   "metadata": {},
   "outputs": [
    {
     "data": {
      "text/html": [
       "<div>\n",
       "<style scoped>\n",
       "    .dataframe tbody tr th:only-of-type {\n",
       "        vertical-align: middle;\n",
       "    }\n",
       "\n",
       "    .dataframe tbody tr th {\n",
       "        vertical-align: top;\n",
       "    }\n",
       "\n",
       "    .dataframe thead th {\n",
       "        text-align: right;\n",
       "    }\n",
       "</style>\n",
       "<table border=\"1\" class=\"dataframe\">\n",
       "  <thead>\n",
       "    <tr style=\"text-align: right;\">\n",
       "      <th></th>\n",
       "      <th>Name</th>\n",
       "      <th>Longitude</th>\n",
       "      <th>Latitude</th>\n",
       "    </tr>\n",
       "  </thead>\n",
       "  <tbody>\n",
       "    <tr>\n",
       "      <th>0</th>\n",
       "      <td>4.355233512313273_51.876408515110725</td>\n",
       "      <td>4.355234</td>\n",
       "      <td>51.876409</td>\n",
       "    </tr>\n",
       "    <tr>\n",
       "      <th>1</th>\n",
       "      <td>4.354247125378726_51.87634213558934</td>\n",
       "      <td>4.354247</td>\n",
       "      <td>51.876342</td>\n",
       "    </tr>\n",
       "    <tr>\n",
       "      <th>2</th>\n",
       "      <td>4.867079960936101_52.39127084540921</td>\n",
       "      <td>4.867080</td>\n",
       "      <td>52.391271</td>\n",
       "    </tr>\n",
       "    <tr>\n",
       "      <th>3</th>\n",
       "      <td>4.868556529472031_52.39061170118105</td>\n",
       "      <td>4.868557</td>\n",
       "      <td>52.390612</td>\n",
       "    </tr>\n",
       "    <tr>\n",
       "      <th>4</th>\n",
       "      <td>4.869092383207482_52.390372322562406</td>\n",
       "      <td>4.869092</td>\n",
       "      <td>52.390372</td>\n",
       "    </tr>\n",
       "  </tbody>\n",
       "</table>\n",
       "</div>"
      ],
      "text/plain": [
       "                                   Name  Longitude   Latitude\n",
       "0  4.355233512313273_51.876408515110725   4.355234  51.876409\n",
       "1   4.354247125378726_51.87634213558934   4.354247  51.876342\n",
       "2   4.867079960936101_52.39127084540921   4.867080  52.391271\n",
       "3   4.868556529472031_52.39061170118105   4.868557  52.390612\n",
       "4  4.869092383207482_52.390372322562406   4.869092  52.390372"
      ]
     },
     "execution_count": 8,
     "metadata": {},
     "output_type": "execute_result"
    }
   ],
   "source": [
    "'''\n",
    "Create dataframe\n",
    "'''\n",
    "\n",
    "df = pd.DataFrame(route_points, columns=['Longitude','Latitude'])\n",
    "\n",
    "tmp = list(df.Latitude.tolist())\n",
    "names = []\n",
    "for i in range(0,len(tmp)):\n",
    "    name = str(df.iloc[i].Longitude)+'_'+str(df.iloc[i].Latitude)\n",
    "    names.append(name)\n",
    "\n",
    "df['Name'] = names\n",
    "\n",
    "columns = ['Name','Longitude','Latitude']\n",
    "df= df[columns]\n",
    "\n",
    "df.head()"
   ]
  },
  {
   "cell_type": "code",
   "execution_count": 9,
   "metadata": {},
   "outputs": [],
   "source": [
    "'''\n",
    "Export points\n",
    "'''\n",
    "\n",
    "df.to_csv(output_csv,header=True,index=None)"
   ]
  },
  {
   "cell_type": "code",
   "execution_count": 4,
   "metadata": {},
   "outputs": [
    {
     "data": {
      "text/html": [
       "<div>\n",
       "<style scoped>\n",
       "    .dataframe tbody tr th:only-of-type {\n",
       "        vertical-align: middle;\n",
       "    }\n",
       "\n",
       "    .dataframe tbody tr th {\n",
       "        vertical-align: top;\n",
       "    }\n",
       "\n",
       "    .dataframe thead th {\n",
       "        text-align: right;\n",
       "    }\n",
       "</style>\n",
       "<table border=\"1\" class=\"dataframe\">\n",
       "  <thead>\n",
       "    <tr style=\"text-align: right;\">\n",
       "      <th></th>\n",
       "      <th>Name</th>\n",
       "      <th>Longitude</th>\n",
       "      <th>Latitude</th>\n",
       "      <th>Catenary</th>\n",
       "    </tr>\n",
       "  </thead>\n",
       "  <tbody>\n",
       "    <tr>\n",
       "      <th>0</th>\n",
       "      <td>4.354247125378726_51.87634213558934</td>\n",
       "      <td>4.354247</td>\n",
       "      <td>51.876342</td>\n",
       "      <td>1</td>\n",
       "    </tr>\n",
       "    <tr>\n",
       "      <th>1</th>\n",
       "      <td>4.355233512313273_51.876408515110725</td>\n",
       "      <td>4.355234</td>\n",
       "      <td>51.876409</td>\n",
       "      <td>1</td>\n",
       "    </tr>\n",
       "    <tr>\n",
       "      <th>2</th>\n",
       "      <td>4.442573076920332_51.89620581896318</td>\n",
       "      <td>4.442573</td>\n",
       "      <td>51.896206</td>\n",
       "      <td>0</td>\n",
       "    </tr>\n",
       "    <tr>\n",
       "      <th>3</th>\n",
       "      <td>4.514447461059589_51.89960635851382</td>\n",
       "      <td>4.514447</td>\n",
       "      <td>51.899606</td>\n",
       "      <td>1</td>\n",
       "    </tr>\n",
       "    <tr>\n",
       "      <th>4</th>\n",
       "      <td>4.786756389282053_51.59568526839278</td>\n",
       "      <td>4.786756</td>\n",
       "      <td>51.595685</td>\n",
       "      <td>1</td>\n",
       "    </tr>\n",
       "  </tbody>\n",
       "</table>\n",
       "</div>"
      ],
      "text/plain": [
       "                                   Name  Longitude   Latitude  Catenary\n",
       "0   4.354247125378726_51.87634213558934   4.354247  51.876342         1\n",
       "1  4.355233512313273_51.876408515110725   4.355234  51.876409         1\n",
       "2   4.442573076920332_51.89620581896318   4.442573  51.896206         0\n",
       "3   4.514447461059589_51.89960635851382   4.514447  51.899606         1\n",
       "4   4.786756389282053_51.59568526839278   4.786756  51.595685         1"
      ]
     },
     "execution_count": 4,
     "metadata": {},
     "output_type": "execute_result"
    }
   ],
   "source": [
    "'''\n",
    "Open csv\n",
    "'''\n",
    "\n",
    "df = pd.read_csv(output_csv)\n",
    "df.head()"
   ]
  },
  {
   "cell_type": "code",
   "execution_count": 5,
   "metadata": {
    "scrolled": false
   },
   "outputs": [
    {
     "data": {
      "text/html": [
       "<div style=\"width:100%;\"><div style=\"position:relative;width:100%;height:0;padding-bottom:60%;\"><iframe src=\"data:text/html;charset=utf-8;base64,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\" style=\"position:absolute;width:100%;height:100%;left:0;top:0;border:none !important;\" allowfullscreen webkitallowfullscreen mozallowfullscreen></iframe></div></div>"
      ],
      "text/plain": [
       "<folium.folium.Map at 0x1208faef0>"
      ]
     },
     "execution_count": 5,
     "metadata": {},
     "output_type": "execute_result"
    }
   ],
   "source": [
    "'''\n",
    "Plot markers\n",
    "'''\n",
    "\n",
    "rows = df.index.tolist()\n",
    "\n",
    "marker_points = []\n",
    "for row in rows:\n",
    "    marker_points.append((df.iloc[row].Latitude,df.iloc[row].Longitude))\n",
    "    \n",
    "# Set map centerpoint\n",
    "coords = marker_points[0]\n",
    "       \n",
    "# Define map\n",
    "m = folium.Map(\n",
    "    location = coords,\n",
    "    zoom_start = 13\n",
    ")\n",
    "  \n",
    "# Add points    \n",
    "for mp in marker_points:\n",
    "    folium.Marker(mp).add_to(m)\n",
    "m"
   ]
  },
  {
   "cell_type": "code",
   "execution_count": null,
   "metadata": {},
   "outputs": [],
   "source": [
    "'''\n",
    "Get satellite preview for image\n",
    "'''\n",
    "\n",
    "row = 0\n",
    "\n",
    "figure_layout = {\n",
    "    'width': '100%',\n",
    "    'height': '800px'\n",
    "}\n",
    "fig = gmaps.figure(center = (df.iloc[row].Latitude,df.iloc[row].Longitude), zoom_level = 19,map_type='SATELLITE',layout=figure_layout)\n",
    "fig"
   ]
  },
  {
   "cell_type": "code",
   "execution_count": 7,
   "metadata": {},
   "outputs": [],
   "source": [
    "'''\n",
    "Get all images \n",
    "'''\n",
    "\n",
    "root = os.path.dirname(os.path.abspath('Africa.ipynb'))\n",
    "image_folder = root[:-9]+update_folder[3:]\n",
    "image_folder\n",
    "\n",
    "url = 'https://maps.googleapis.com/maps/api/staticmap?'\n",
    "rows = df.index.tolist()\n",
    "for i in range(0,len(rows)):\n",
    "    row = df.iloc[i]\n",
    "    center = str(row.Latitude)+','+str(row.Longitude)\n",
    "    payload = {\n",
    "        'center': center, \n",
    "        'zoom': 20,\n",
    "        'size': '640x640',\n",
    "        'scale': 2,\n",
    "        'format': 'png32',\n",
    "        'maptype': 'satellite',\n",
    "        'key': token\n",
    "    }\n",
    "    \n",
    "    r = requests.get(url,params=payload,stream=True)\n",
    "\n",
    "    name = df.iloc[i]['Name']\n",
    "    filename = image_folder+name+'.png'\n",
    "    if r.status_code == 200:\n",
    "        with open(filename, 'wb') as f:\n",
    "            r.raw.decode_content = True\n",
    "            shutil.copyfileobj(r.raw, f) "
   ]
  },
  {
   "cell_type": "code",
   "execution_count": null,
   "metadata": {},
   "outputs": [],
   "source": []
  }
 ],
 "metadata": {
  "kernelspec": {
   "display_name": "Python 3",
   "language": "python",
   "name": "python3"
  },
  "language_info": {
   "codemirror_mode": {
    "name": "ipython",
    "version": 3
   },
   "file_extension": ".py",
   "mimetype": "text/x-python",
   "name": "python",
   "nbconvert_exporter": "python",
   "pygments_lexer": "ipython3",
   "version": "3.7.3"
  }
 },
 "nbformat": 4,
 "nbformat_minor": 2
}
