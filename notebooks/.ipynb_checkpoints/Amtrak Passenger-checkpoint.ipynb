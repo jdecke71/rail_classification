{
 "cells": [
  {
   "cell_type": "code",
   "execution_count": 1,
   "metadata": {},
   "outputs": [],
   "source": [
    "import pandas as pd\n",
    "import geopandas as gpd\n",
    "import matplotlib.pyplot as plt\n",
    "from shapely.geometry import mapping\n",
    "import folium\n",
    "import googlemaps\n",
    "import gmaps\n",
    "import os\n",
    "import requests\n",
    "import shutil"
   ]
  },
  {
   "cell_type": "code",
   "execution_count": 13,
   "metadata": {},
   "outputs": [],
   "source": [
    "with open('../resources/key.txt') as f:\n",
    "    token = f.read()\n",
    "    \n",
    "gmaps.configure(api_key = token)"
   ]
  },
  {
   "cell_type": "code",
   "execution_count": 10,
   "metadata": {},
   "outputs": [],
   "source": [
    "input_folder = '../data/railways/Amtrak_Routes/'\n",
    "input_file = input_folder+'Amtrak_Routes.shp'\n",
    "\n",
    "output_folder = '../data/output_images/Amtrak/'\n",
    "output_csv = output_folder+'AMT.csv'"
   ]
  },
  {
   "cell_type": "markdown",
   "metadata": {},
   "source": [
    "#### Import routes"
   ]
  },
  {
   "cell_type": "code",
   "execution_count": 3,
   "metadata": {},
   "outputs": [
    {
     "data": {
      "text/html": [
       "<div>\n",
       "<style scoped>\n",
       "    .dataframe tbody tr th:only-of-type {\n",
       "        vertical-align: middle;\n",
       "    }\n",
       "\n",
       "    .dataframe tbody tr th {\n",
       "        vertical-align: top;\n",
       "    }\n",
       "\n",
       "    .dataframe thead th {\n",
       "        text-align: right;\n",
       "    }\n",
       "</style>\n",
       "<table border=\"1\" class=\"dataframe\">\n",
       "  <thead>\n",
       "    <tr style=\"text-align: right;\">\n",
       "      <th></th>\n",
       "      <th>OBJECTID</th>\n",
       "      <th>NAME</th>\n",
       "      <th>Shape_Leng</th>\n",
       "      <th>ShapeSTLen</th>\n",
       "      <th>geometry</th>\n",
       "    </tr>\n",
       "  </thead>\n",
       "  <tbody>\n",
       "    <tr>\n",
       "      <th>0</th>\n",
       "      <td>1</td>\n",
       "      <td>Acela</td>\n",
       "      <td>7.410105e+05</td>\n",
       "      <td>9.779207e+05</td>\n",
       "      <td>(LINESTRING (-77.01421252564722 38.88359551476...</td>\n",
       "    </tr>\n",
       "    <tr>\n",
       "      <th>1</th>\n",
       "      <td>2</td>\n",
       "      <td>Adirondack</td>\n",
       "      <td>6.156754e+05</td>\n",
       "      <td>8.437497e+05</td>\n",
       "      <td>(LINESTRING (-73.74197100078742 42.64026759195...</td>\n",
       "    </tr>\n",
       "    <tr>\n",
       "      <th>2</th>\n",
       "      <td>3</td>\n",
       "      <td>Auto Train</td>\n",
       "      <td>1.474024e+06</td>\n",
       "      <td>1.776112e+06</td>\n",
       "      <td>(LINESTRING (-81.31769605926888 28.75892312078...</td>\n",
       "    </tr>\n",
       "    <tr>\n",
       "      <th>3</th>\n",
       "      <td>4</td>\n",
       "      <td>Blue Water</td>\n",
       "      <td>5.114384e+05</td>\n",
       "      <td>6.939223e+05</td>\n",
       "      <td>(LINESTRING (-87.63609509602139 41.81771709246...</td>\n",
       "    </tr>\n",
       "    <tr>\n",
       "      <th>4</th>\n",
       "      <td>5</td>\n",
       "      <td>California Zephyr</td>\n",
       "      <td>4.313889e+06</td>\n",
       "      <td>5.672842e+06</td>\n",
       "      <td>(LINESTRING (-108.5558964471134 39.06262618765...</td>\n",
       "    </tr>\n",
       "  </tbody>\n",
       "</table>\n",
       "</div>"
      ],
      "text/plain": [
       "   OBJECTID               NAME    Shape_Leng    ShapeSTLen  \\\n",
       "0         1              Acela  7.410105e+05  9.779207e+05   \n",
       "1         2         Adirondack  6.156754e+05  8.437497e+05   \n",
       "2         3         Auto Train  1.474024e+06  1.776112e+06   \n",
       "3         4         Blue Water  5.114384e+05  6.939223e+05   \n",
       "4         5  California Zephyr  4.313889e+06  5.672842e+06   \n",
       "\n",
       "                                            geometry  \n",
       "0  (LINESTRING (-77.01421252564722 38.88359551476...  \n",
       "1  (LINESTRING (-73.74197100078742 42.64026759195...  \n",
       "2  (LINESTRING (-81.31769605926888 28.75892312078...  \n",
       "3  (LINESTRING (-87.63609509602139 41.81771709246...  \n",
       "4  (LINESTRING (-108.5558964471134 39.06262618765...  "
      ]
     },
     "execution_count": 3,
     "metadata": {},
     "output_type": "execute_result"
    }
   ],
   "source": [
    "routes = gpd.read_file(input_file)\n",
    "routes.head()"
   ]
  },
  {
   "cell_type": "markdown",
   "metadata": {},
   "source": [
    "#### Get points from routes"
   ]
  },
  {
   "cell_type": "code",
   "execution_count": 12,
   "metadata": {},
   "outputs": [
    {
     "name": "stdout",
     "output_type": "stream",
     "text": [
      "Skipped route number 0 because 'LineString' object is not iterable\n",
      "Skipped route number 1 because 'LineString' object is not iterable\n",
      "Skipped route number 3 because 'LineString' object is not iterable\n",
      "Skipped route number 5 because 'LineString' object is not iterable\n",
      "Skipped route number 6 because 'LineString' object is not iterable\n",
      "Skipped route number 7 because 'LineString' object is not iterable\n",
      "Skipped route number 9 because 'LineString' object is not iterable\n",
      "Skipped route number 11 because 'LineString' object is not iterable\n",
      "Skipped route number 14 because 'LineString' object is not iterable\n",
      "Skipped route number 15 because 'LineString' object is not iterable\n",
      "Skipped route number 17 because 'LineString' object is not iterable\n",
      "Skipped route number 18 because 'LineString' object is not iterable\n",
      "Skipped route number 21 because 'LineString' object is not iterable\n",
      "Skipped route number 23 because 'LineString' object is not iterable\n",
      "Skipped route number 24 because 'LineString' object is not iterable\n",
      "Skipped route number 26 because 'LineString' object is not iterable\n",
      "Skipped route number 27 because 'LineString' object is not iterable\n",
      "Skipped route number 28 because 'LineString' object is not iterable\n",
      "Skipped route number 29 because 'LineString' object is not iterable\n",
      "Skipped route number 30 because 'LineString' object is not iterable\n",
      "Skipped route number 31 because 'LineString' object is not iterable\n",
      "Skipped route number 32 because 'LineString' object is not iterable\n",
      "Skipped route number 33 because 'LineString' object is not iterable\n",
      "Skipped route number 34 because 'LineString' object is not iterable\n",
      "Skipped route number 35 because 'LineString' object is not iterable\n",
      "Skipped route number 36 because 'LineString' object is not iterable\n",
      "Skipped route number 38 because 'LineString' object is not iterable\n",
      "Skipped route number 39 because 'LineString' object is not iterable\n",
      "Skipped route number 41 because 'LineString' object is not iterable\n",
      "Skipped route number 42 because 'LineString' object is not iterable\n",
      "Skipped route number 43 because 'LineString' object is not iterable\n",
      "Skipped route number 45 because 'LineString' object is not iterable\n",
      "Skipped route number 46 because 'LineString' object is not iterable\n",
      "Skipped route number 47 because 'LineString' object is not iterable\n",
      "Skipped route number 48 because 'LineString' object is not iterable\n",
      "Skipped route number 52 because 'LineString' object is not iterable\n",
      "Skipped route number 53 because 'LineString' object is not iterable\n",
      "Skipped route number 54 because 'LineString' object is not iterable\n",
      "Skipped route number 57 because 'LineString' object is not iterable\n",
      "Skipped route number 58 because 'LineString' object is not iterable\n",
      "Skipped route number 59 because 'LineString' object is not iterable\n",
      "Skipped route number 62 because 'LineString' object is not iterable\n",
      "Skipped route number 65 because 'LineString' object is not iterable\n",
      "Skipped route number 66 because 'LineString' object is not iterable\n",
      "Skipped route number 67 because 'LineString' object is not iterable\n",
      "Skipped route number 73 because 'LineString' object is not iterable\n",
      "Skipped route number 75 because 'LineString' object is not iterable\n",
      "Skipped route number 76 because 'LineString' object is not iterable\n",
      "Skipped route number 77 because 'LineString' object is not iterable\n",
      "Skipped route number 78 because 'LineString' object is not iterable\n",
      "10638 points\n"
     ]
    }
   ],
   "source": [
    "'''\n",
    "Get all points\n",
    "'''\n",
    "\n",
    "points = []\n",
    "for i in range(0,len(routes.OBJECTID.tolist())):\n",
    "    try:\n",
    "        route = routes.iloc[i]\n",
    "        g = [m for m in route.geometry]\n",
    "        for j in range(0,len(g)):\n",
    "            sec_points = mapping(g[j])[\"coordinates\"]\n",
    "            for k in range(0,len(sec_points)):\n",
    "                points.append(sec_points[k])\n",
    "    except Exception as e:\n",
    "        print(\"Skipped route number\",i,'because',e)\n",
    "\n",
    "print(len(points),'points')"
   ]
  },
  {
   "cell_type": "code",
   "execution_count": 4,
   "metadata": {},
   "outputs": [
    {
     "name": "stdout",
     "output_type": "stream",
     "text": [
      "50022 points\n"
     ]
    }
   ],
   "source": [
    "'''\n",
    "Get points for 1 or more routes\n",
    "'''\n",
    "\n",
    "rows = [4]\n",
    "\n",
    "points = []\n",
    "for i in range(0,len(routes.OBJECTID.tolist())):\n",
    "    if i in rows:\n",
    "        try:\n",
    "            route = routes.iloc[i]\n",
    "            g = [m for m in route.geometry]\n",
    "            for j in range(0,len(g)):\n",
    "                sec_points = mapping(g[j])[\"coordinates\"]\n",
    "                for k in range(0,len(sec_points)):\n",
    "                    points.append(sec_points[k])\n",
    "        except Exception as e:\n",
    "            print(\"Skipped route number\",i,'because',e)\n",
    "\n",
    "print(len(points),'points')"
   ]
  },
  {
   "cell_type": "code",
   "execution_count": null,
   "metadata": {},
   "outputs": [],
   "source": [
    "'''\n",
    "Get points for single route/section\n",
    "'''\n",
    "\n",
    "row = 0\n",
    "section = 0\n",
    "\n",
    "points = []\n",
    "try:\n",
    "    route = routes.iloc[row]\n",
    "    g = [i for i in route.geometry]\n",
    "    len(g)\n",
    "\n",
    "    points = mapping(g[section])[\"coordinates\"]\n",
    "except Exception as e:\n",
    "    print(\"Skipped route number\",row,'because',e)\n",
    "    \n",
    "print(len(points),'points')"
   ]
  },
  {
   "cell_type": "code",
   "execution_count": 6,
   "metadata": {},
   "outputs": [
    {
     "name": "stdout",
     "output_type": "stream",
     "text": [
      "101 points\n"
     ]
    }
   ],
   "source": [
    "'''\n",
    "Get subselection of points\n",
    "'''\n",
    "\n",
    "route_points = []\n",
    "for point in range(0,len(points),500):\n",
    "    tmp = points[point]\n",
    "    route_points.append(tmp)\n",
    "\n",
    "print(len(route_points),'points')"
   ]
  },
  {
   "cell_type": "markdown",
   "metadata": {},
   "source": [
    "#### Create working dataset"
   ]
  },
  {
   "cell_type": "code",
   "execution_count": 7,
   "metadata": {},
   "outputs": [
    {
     "data": {
      "text/html": [
       "<div>\n",
       "<style scoped>\n",
       "    .dataframe tbody tr th:only-of-type {\n",
       "        vertical-align: middle;\n",
       "    }\n",
       "\n",
       "    .dataframe tbody tr th {\n",
       "        vertical-align: top;\n",
       "    }\n",
       "\n",
       "    .dataframe thead th {\n",
       "        text-align: right;\n",
       "    }\n",
       "</style>\n",
       "<table border=\"1\" class=\"dataframe\">\n",
       "  <thead>\n",
       "    <tr style=\"text-align: right;\">\n",
       "      <th></th>\n",
       "      <th>Name</th>\n",
       "      <th>Longitude</th>\n",
       "      <th>Latitude</th>\n",
       "    </tr>\n",
       "  </thead>\n",
       "  <tbody>\n",
       "    <tr>\n",
       "      <th>0</th>\n",
       "      <td>-108.5558964471134_39.062626187654075</td>\n",
       "      <td>-108.555896</td>\n",
       "      <td>39.062626</td>\n",
       "    </tr>\n",
       "    <tr>\n",
       "      <th>1</th>\n",
       "      <td>-108.90492901655047_39.21417892171357</td>\n",
       "      <td>-108.904929</td>\n",
       "      <td>39.214179</td>\n",
       "    </tr>\n",
       "    <tr>\n",
       "      <th>2</th>\n",
       "      <td>-109.08191078460926_39.11636633251912</td>\n",
       "      <td>-109.081911</td>\n",
       "      <td>39.116366</td>\n",
       "    </tr>\n",
       "    <tr>\n",
       "      <th>3</th>\n",
       "      <td>-109.33648798037302_38.9670949527571</td>\n",
       "      <td>-109.336488</td>\n",
       "      <td>38.967095</td>\n",
       "    </tr>\n",
       "    <tr>\n",
       "      <th>4</th>\n",
       "      <td>-109.6837674471089_38.957469825659096</td>\n",
       "      <td>-109.683767</td>\n",
       "      <td>38.957470</td>\n",
       "    </tr>\n",
       "  </tbody>\n",
       "</table>\n",
       "</div>"
      ],
      "text/plain": [
       "                                    Name   Longitude   Latitude\n",
       "0  -108.5558964471134_39.062626187654075 -108.555896  39.062626\n",
       "1  -108.90492901655047_39.21417892171357 -108.904929  39.214179\n",
       "2  -109.08191078460926_39.11636633251912 -109.081911  39.116366\n",
       "3   -109.33648798037302_38.9670949527571 -109.336488  38.967095\n",
       "4  -109.6837674471089_38.957469825659096 -109.683767  38.957470"
      ]
     },
     "execution_count": 7,
     "metadata": {},
     "output_type": "execute_result"
    }
   ],
   "source": [
    "'''\n",
    "Create dataframe\n",
    "'''\n",
    "\n",
    "df = pd.DataFrame(route_points, columns=['Longitude','Latitude'])\n",
    "\n",
    "tmp = list(df.Latitude.tolist())\n",
    "names = []\n",
    "for i in range(0,len(tmp)):\n",
    "    name = str(df.iloc[i].Longitude)+'_'+str(df.iloc[i].Latitude)\n",
    "    names.append(name)\n",
    "\n",
    "df['Name'] = names\n",
    "\n",
    "columns = ['Name','Longitude','Latitude']\n",
    "df= df[columns]\n",
    "\n",
    "df.head()"
   ]
  },
  {
   "cell_type": "code",
   "execution_count": 8,
   "metadata": {},
   "outputs": [],
   "source": [
    "'''\n",
    "Export points\n",
    "'''\n",
    "\n",
    "df.to_csv(output_csv,header=True,index=None)"
   ]
  },
  {
   "cell_type": "code",
   "execution_count": 9,
   "metadata": {
    "scrolled": false
   },
   "outputs": [
    {
     "data": {
      "text/html": [
       "<div style=\"width:100%;\"><div style=\"position:relative;width:100%;height:0;padding-bottom:60%;\"><iframe src=\"data:text/html;charset=utf-8;base64,PCFET0NUWVBFIGh0bWw+CjxoZWFkPiAgICAKICAgIDxtZXRhIGh0dHAtZXF1aXY9ImNvbnRlbnQtdHlwZSIgY29udGVudD0idGV4dC9odG1sOyBjaGFyc2V0PVVURi04IiAvPgogICAgCiAgICAgICAgPHNjcmlwdD4KICAgICAgICAgICAgTF9OT19UT1VDSCA9IGZhbHNlOwogICAgICAgICAgICBMX0RJU0FCTEVfM0QgPSBmYWxzZTsKICAgICAgICA8L3NjcmlwdD4KICAgIAogICAgPHNjcmlwdCBzcmM9Imh0dHBzOi8vY2RuLmpzZGVsaXZyLm5ldC9ucG0vbGVhZmxldEAxLjQuMC9kaXN0L2xlYWZsZXQuanMiPjwvc2NyaXB0PgogICAgPHNjcmlwdCBzcmM9Imh0dHBzOi8vY29kZS5qcXVlcnkuY29tL2pxdWVyeS0xLjEyLjQubWluLmpzIj48L3NjcmlwdD4KICAgIDxzY3JpcHQgc3JjPSJodHRwczovL21heGNkbi5ib290c3RyYXBjZG4uY29tL2Jvb3RzdHJhcC8zLjIuMC9qcy9ib290c3RyYXAubWluLmpzIj48L3NjcmlwdD4KICAgIDxzY3JpcHQgc3JjPSJodHRwczovL2NkbmpzLmNsb3VkZmxhcmUuY29tL2FqYXgvbGlicy9MZWFmbGV0LmF3ZXNvbWUtbWFya2Vycy8yLjAuMi9sZWFmbGV0LmF3ZXNvbWUtbWFya2Vycy5qcyI+PC9zY3JpcHQ+CiAgICA8bGluayByZWw9InN0eWxlc2hlZXQiIGhyZWY9Imh0dHBzOi8vY2RuLmpzZGVsaXZyLm5ldC9ucG0vbGVhZmxldEAxLjQuMC9kaXN0L2xlYWZsZXQuY3NzIi8+CiAgICA8bGluayByZWw9InN0eWxlc2hlZXQiIGhyZWY9Imh0dHBzOi8vbWF4Y2RuLmJvb3RzdHJhcGNkbi5jb20vYm9vdHN0cmFwLzMuMi4wL2Nzcy9ib290c3RyYXAubWluLmNzcyIvPgogICAgPGxpbmsgcmVsPSJzdHlsZXNoZWV0IiBocmVmPSJodHRwczovL21heGNkbi5ib290c3RyYXBjZG4uY29tL2Jvb3RzdHJhcC8zLjIuMC9jc3MvYm9vdHN0cmFwLXRoZW1lLm1pbi5jc3MiLz4KICAgIDxsaW5rIHJlbD0ic3R5bGVzaGVldCIgaHJlZj0iaHR0cHM6Ly9tYXhjZG4uYm9vdHN0cmFwY2RuLmNvbS9mb250LWF3ZXNvbWUvNC42LjMvY3NzL2ZvbnQtYXdlc29tZS5taW4uY3NzIi8+CiAgICA8bGluayByZWw9InN0eWxlc2hlZXQiIGhyZWY9Imh0dHBzOi8vY2RuanMuY2xvdWRmbGFyZS5jb20vYWpheC9saWJzL0xlYWZsZXQuYXdlc29tZS1tYXJrZXJzLzIuMC4yL2xlYWZsZXQuYXdlc29tZS1tYXJrZXJzLmNzcyIvPgogICAgPGxpbmsgcmVsPSJzdHlsZXNoZWV0IiBocmVmPSJodHRwczovL3Jhd2Nkbi5naXRoYWNrLmNvbS9weXRob24tdmlzdWFsaXphdGlvbi9mb2xpdW0vbWFzdGVyL2ZvbGl1bS90ZW1wbGF0ZXMvbGVhZmxldC5hd2Vzb21lLnJvdGF0ZS5jc3MiLz4KICAgIDxzdHlsZT5odG1sLCBib2R5IHt3aWR0aDogMTAwJTtoZWlnaHQ6IDEwMCU7bWFyZ2luOiAwO3BhZGRpbmc6IDA7fTwvc3R5bGU+CiAgICA8c3R5bGU+I21hcCB7cG9zaXRpb246YWJzb2x1dGU7dG9wOjA7Ym90dG9tOjA7cmlnaHQ6MDtsZWZ0OjA7fTwvc3R5bGU+CiAgICAKICAgICAgICAgICAgPG1ldGEgbmFtZT0idmlld3BvcnQiIGNvbnRlbnQ9IndpZHRoPWRldmljZS13aWR0aCwKICAgICAgICAgICAgICAgIGluaXRpYWwtc2NhbGU9MS4wLCBtYXhpbXVtLXNjYWxlPTEuMCwgdXNlci1zY2FsYWJsZT1ubyIgLz4KICAgICAgICAgICAgPHN0eWxlPgogICAgICAgICAgICAgICAgI21hcF8zNDQyZWNjMzE2MmU0MjJhYWQzNTUxYWU1ODQ3MTMyMCB7CiAgICAgICAgICAgICAgICAgICAgcG9zaXRpb246IHJlbGF0aXZlOwogICAgICAgICAgICAgICAgICAgIHdpZHRoOiAxMDAuMCU7CiAgICAgICAgICAgICAgICAgICAgaGVpZ2h0OiAxMDAuMCU7CiAgICAgICAgICAgICAgICAgICAgbGVmdDogMC4wJTsKICAgICAgICAgICAgICAgICAgICB0b3A6IDAuMCU7CiAgICAgICAgICAgICAgICB9CiAgICAgICAgICAgIDwvc3R5bGU+CiAgICAgICAgCjwvaGVhZD4KPGJvZHk+ICAgIAogICAgCiAgICAgICAgICAgIDxkaXYgY2xhc3M9ImZvbGl1bS1tYXAiIGlkPSJtYXBfMzQ0MmVjYzMxNjJlNDIyYWFkMzU1MWFlNTg0NzEzMjAiID48L2Rpdj4KICAgICAgICAKPC9ib2R5Pgo8c2NyaXB0PiAgICAKICAgIAogICAgICAgICAgICB2YXIgbWFwXzM0NDJlY2MzMTYyZTQyMmFhZDM1NTFhZTU4NDcxMzIwID0gTC5tYXAoCiAgICAgICAgICAgICAgICAibWFwXzM0NDJlY2MzMTYyZTQyMmFhZDM1NTFhZTU4NDcxMzIwIiwKICAgICAgICAgICAgICAgIHsKICAgICAgICAgICAgICAgICAgICBjZW50ZXI6IFs0MC44NTk4MDA0OTc5NTU3NiwgLTkwLjc3MzkxMTQ0MzQ2MjkxXSwKICAgICAgICAgICAgICAgICAgICBjcnM6IEwuQ1JTLkVQU0czODU3LAogICAgICAgICAgICAgICAgICAgIHpvb206IDcsCiAgICAgICAgICAgICAgICAgICAgem9vbUNvbnRyb2w6IHRydWUsCiAgICAgICAgICAgICAgICAgICAgcHJlZmVyQ2FudmFzOiBmYWxzZSwKICAgICAgICAgICAgICAgIH0KICAgICAgICAgICAgKTsKCiAgICAgICAgICAgIAoKICAgICAgICAKICAgIAogICAgICAgICAgICB2YXIgdGlsZV9sYXllcl9jOWQxOGI2NmRmNjM0Y2MyOWJjMmMwYTE0YjQ0NTliYyA9IEwudGlsZUxheWVyKAogICAgICAgICAgICAgICAgImh0dHBzOi8ve3N9LnRpbGUub3BlbnN0cmVldG1hcC5vcmcve3p9L3t4fS97eX0ucG5nIiwKICAgICAgICAgICAgICAgIHsiYXR0cmlidXRpb24iOiAiRGF0YSBieSBcdTAwMjZjb3B5OyBcdTAwM2NhIGhyZWY9XCJodHRwOi8vb3BlbnN0cmVldG1hcC5vcmdcIlx1MDAzZU9wZW5TdHJlZXRNYXBcdTAwM2MvYVx1MDAzZSwgdW5kZXIgXHUwMDNjYSBocmVmPVwiaHR0cDovL3d3dy5vcGVuc3RyZWV0bWFwLm9yZy9jb3B5cmlnaHRcIlx1MDAzZU9EYkxcdTAwM2MvYVx1MDAzZS4iLCAiZGV0ZWN0UmV0aW5hIjogZmFsc2UsICJtYXhOYXRpdmVab29tIjogMTgsICJtYXhab29tIjogMTgsICJtaW5ab29tIjogMCwgIm5vV3JhcCI6IGZhbHNlLCAib3BhY2l0eSI6IDEsICJzdWJkb21haW5zIjogImFiYyIsICJ0bXMiOiBmYWxzZX0KICAgICAgICAgICAgKS5hZGRUbyhtYXBfMzQ0MmVjYzMxNjJlNDIyYWFkMzU1MWFlNTg0NzEzMjApOwogICAgICAgIAogICAgCiAgICAgICAgICAgIHZhciBtYXJrZXJfYTBiZTM3NTIwMDY4NDQ5MTkzMWYwMjEwMjUwZTM2NjkgPSBMLm1hcmtlcigKICAgICAgICAgICAgICAgIFszOS4wNjI2MjYxODc2NTQwNzUsIC0xMDguNTU1ODk2NDQ3MTEzNF0sCiAgICAgICAgICAgICAgICB7fQogICAgICAgICAgICApLmFkZFRvKG1hcF8zNDQyZWNjMzE2MmU0MjJhYWQzNTUxYWU1ODQ3MTMyMCk7CiAgICAgICAgCiAgICAKICAgICAgICAgICAgdmFyIG1hcmtlcl9jZDFmZTBjMWQwMzM0NjQ4OTMzNTdjZWY0M2NkNDA1NSA9IEwubWFya2VyKAogICAgICAgICAgICAgICAgWzM5LjIxNDE3ODkyMTcxMzU3LCAtMTA4LjkwNDkyOTAxNjU1MDQ3XSwKICAgICAgICAgICAgICAgIHt9CiAgICAgICAgICAgICkuYWRkVG8obWFwXzM0NDJlY2MzMTYyZTQyMmFhZDM1NTFhZTU4NDcxMzIwKTsKICAgICAgICAKICAgIAogICAgICAgICAgICB2YXIgbWFya2VyXzQ5OTk1MDVhMjVmNDQ3OGE5MTlhNGMzMTEyNTJlYTgwID0gTC5tYXJrZXIoCiAgICAgICAgICAgICAgICBbMzkuMTE2MzY2MzMyNTE5MTIsIC0xMDkuMDgxOTEwNzg0NjA5MjZdLAogICAgICAgICAgICAgICAge30KICAgICAgICAgICAgKS5hZGRUbyhtYXBfMzQ0MmVjYzMxNjJlNDIyYWFkMzU1MWFlNTg0NzEzMjApOwogICAgICAgIAogICAgCiAgICAgICAgICAgIHZhciBtYXJrZXJfMTc5MGU4ZTA1NjkxNDdiNDlkOTQ4OWU4OWQxNTA5YzIgPSBMLm1hcmtlcigKICAgICAgICAgICAgICAgIFszOC45NjcwOTQ5NTI3NTcxLCAtMTA5LjMzNjQ4Nzk4MDM3MzAyXSwKICAgICAgICAgICAgICAgIHt9CiAgICAgICAgICAgICkuYWRkVG8obWFwXzM0NDJlY2MzMTYyZTQyMmFhZDM1NTFhZTU4NDcxMzIwKTsKICAgICAgICAKICAgIAogICAgICAgICAgICB2YXIgbWFya2VyXzk5NmQ0MjI4MzQ3MDQ1MDM5MTIwNjc5MDM3MWY4YjU2ID0gTC5tYXJrZXIoCiAgICAgICAgICAgICAgICBbMzguOTU3NDY5ODI1NjU5MDk2LCAtMTA5LjY4Mzc2NzQ0NzEwODldLAogICAgICAgICAgICAgICAge30KICAgICAgICAgICAgKS5hZGRUbyhtYXBfMzQ0MmVjYzMxNjJlNDIyYWFkMzU1MWFlNTg0NzEzMjApOwogICAgICAgIAogICAgCiAgICAgICAgICAgIHZhciBtYXJrZXJfMzVhM2YxNjM0ZmJmNDc1YmFkYjZlMTVhNWQ1MWFjNjMgPSBMLm1hcmtlcigKICAgICAgICAgICAgICAgIFszOS4yMzgzMzc1ODUyNzQ3MzUsIC0xMDguMjcxNTQ2NDA4NTQ5MzRdLAogICAgICAgICAgICAgICAge30KICAgICAgICAgICAgKS5hZGRUbyhtYXBfMzQ0MmVjYzMxNjJlNDIyYWFkMzU1MWFlNTg0NzEzMjApOwogICAgICAgIAogICAgCiAgICAgICAgICAgIHZhciBtYXJrZXJfOTY1YmUwM2NhMGUxNDg1N2FkMDlhNjFkOTgzYTNmOWQgPSBMLm1hcmtlcigKICAgICAgICAgICAgICAgIFszOS40MzQ1NDY5MTExODA0OCwgLTEwOC4wNjcxMzQ2MjY0MDkwN10sCiAgICAgICAgICAgICAgICB7fQogICAgICAgICAgICApLmFkZFRvKG1hcF8zNDQyZWNjMzE2MmU0MjJhYWQzNTUxYWU1ODQ3MTMyMCk7CiAgICAgICAgCiAgICAKICAgICAgICAgICAgdmFyIG1hcmtlcl80NGI5NWQyYTg2ZmY0MWQyOGNkYzEzMjViYzlkZjk4ZCA9IEwubWFya2VyKAogICAgICAgICAgICAgICAgWzM5LjU3MDk3MDc4MjE2MTU0NSwgLTEwNy41MzYxNjMzMzY2NjY0Ml0sCiAgICAgICAgICAgICAgICB7fQogICAgICAgICAgICApLmFkZFRvKG1hcF8zNDQyZWNjMzE2MmU0MjJhYWQzNTUxYWU1ODQ3MTMyMCk7CiAgICAgICAgCiAgICAKICAgICAgICAgICAgdmFyIG1hcmtlcl8yYmQ3ZTVlMGY5YjQ0ZTZhYWRiMmI4MzNkZTQzZDdjZiA9IEwubWFya2VyKAogICAgICAgICAgICAgICAgWzM5LjU2MDcxMjQwNjc0MTk3LCAtMTA3LjMwMjE5MjUzMzIyMTMzXSwKICAgICAgICAgICAgICAgIHt9CiAgICAgICAgICAgICkuYWRkVG8obWFwXzM0NDJlY2MzMTYyZTQyMmFhZDM1NTFhZTU4NDcxMzIwKTsKICAgICAgICAKICAgIAogICAgICAgICAgICB2YXIgbWFya2VyXzUwY2NiNDc5ZjRmMzRlNTU5OGZmOWE1ZDU5NzZjMjBiID0gTC5tYXJrZXIoCiAgICAgICAgICAgICAgICBbMzkuNjA5OTc4NzQ4ODc1MSwgLTEwNy4xNDQ1ODY0MTc5MzEyNF0sCiAgICAgICAgICAgICAgICB7fQogICAgICAgICAgICApLmFkZFRvKG1hcF8zNDQyZWNjMzE2MmU0MjJhYWQzNTUxYWU1ODQ3MTMyMCk7CiAgICAgICAgCiAgICAKICAgICAgICAgICAgdmFyIG1hcmtlcl9hZTAyYzJiMjJmMWI0Y2E3OTY1ZGFiZDFlYTBkMzM0MiA9IEwubWFya2VyKAogICAgICAgICAgICAgICAgWzM5Ljg3NTUyMDU1Mjk3MjYsIC0xMDQuODYwMDU5OTA2MTA3MDRdLAogICAgICAgICAgICAgICAge30KICAgICAgICAgICAgKS5hZGRUbyhtYXBfMzQ0MmVjYzMxNjJlNDIyYWFkMzU1MWFlNTg0NzEzMjApOwogICAgICAgIAogICAgCiAgICAgICAgICAgIHZhciBtYXJrZXJfMDk0NWUzMjEyMmQ1NGNiMjkxZDZmNTQzNDVkNjZjNjUgPSBMLm1hcmtlcigKICAgICAgICAgICAgICAgIFs0MC4yNTM5MDQ2NzI2MDI0MjQsIC0xMDMuNjIzMTYwOTcyOTY2MDZdLAogICAgICAgICAgICAgICAge30KICAgICAgICAgICAgKS5hZGRUbyhtYXBfMzQ0MmVjYzMxNjJlNDIyYWFkMzU1MWFlNTg0NzEzMjApOwogICAgICAgIAogICAgCiAgICAgICAgICAgIHZhciBtYXJrZXJfN2U4M2Q3MDE5ZWNjNGY0ZmFlYTk2ZWJmMTdlNjlmZDEgPSBMLm1hcmtlcigKICAgICAgICAgICAgICAgIFs0MC4wOTY3MzAzOTY4NTY3NiwgLTEwMi4zMDk2MTg1NzI5OTYzN10sCiAgICAgICAgICAgICAgICB7fQogICAgICAgICAgICApLmFkZFRvKG1hcF8zNDQyZWNjMzE2MmU0MjJhYWQzNTUxYWU1ODQ3MTMyMCk7CiAgICAgICAgCiAgICAKICAgICAgICAgICAgdmFyIG1hcmtlcl84MjdjZDU3NzNlODE0M2RmOGIzOTU0ZmM2YTUzZmY2YyA9IEwubWFya2VyKAogICAgICAgICAgICAgICAgWzQwLjEyNDkyMzAyNzI1NjQ4LCAtMTAxLjM2MDAwMjEwNjQ5MzU1XSwKICAgICAgICAgICAgICAgIHt9CiAgICAgICAgICAgICkuYWRkVG8obWFwXzM0NDJlY2MzMTYyZTQyMmFhZDM1NTFhZTU4NDcxMzIwKTsKICAgICAgICAKICAgIAogICAgICAgICAgICB2YXIgbWFya2VyX2ExYWFmOTI3MDJmMjQ1ZGI5MTVmMmFjMzUzZjQxN2YyID0gTC5tYXJrZXIoCiAgICAgICAgICAgICAgICBbNDAuMjQ5ODc2MjY5MTMzNjMsIC0xMDAuMjk5NjI0NDkxMDQ3ODddLAogICAgICAgICAgICAgICAge30KICAgICAgICAgICAgKS5hZGRUbyhtYXBfMzQ0MmVjYzMxNjJlNDIyYWFkMzU1MWFlNTg0NzEzMjApOwogICAgICAgIAogICAgCiAgICAgICAgICAgIHZhciBtYXJrZXJfYTI4ZDhmMTM1MTE2NGQ2NWEwZDg4MzU5MDFmMjJkNzkgPSBMLm1hcmtlcigKICAgICAgICAgICAgICAgIFs0MC4zNzQ3NjQyMjU1MzE3LCAtOTkuNDYzMDQ0MzE3NzQzNDJdLAogICAgICAgICAgICAgICAge30KICAgICAgICAgICAgKS5hZGRUbyhtYXBfMzQ0MmVjYzMxNjJlNDIyYWFkMzU1MWFlNTg0NzEzMjApOwogICAgICAgIAogICAgCiAgICAgICAgICAgIHZhciBtYXJrZXJfZTgzMjU1MDk0N2RiNGY2ZDlkMTM2MTIwNTYxZGI1NGQgPSBMLm1hcmtlcigKICAgICAgICAgICAgICAgIFs0MC42MDg5NTY3ODE4MTA1MywgLTk4LjAzMjM5MDA3MzIzNDIzXSwKICAgICAgICAgICAgICAgIHt9CiAgICAgICAgICAgICkuYWRkVG8obWFwXzM0NDJlY2MzMTYyZTQyMmFhZDM1NTFhZTU4NDcxMzIwKTsKICAgICAgICAKICAgIAogICAgICAgICAgICB2YXIgbWFya2VyX2RjOTJjYThlYTM5YzQ1YWI4OWJmOWUxNDJlMWFiMmZiID0gTC5tYXJrZXIoCiAgICAgICAgICAgICAgICBbNDAuNzU5MzA1ODg0MDY4NDI1LCAtOTYuODM1MzQ4Nzk1NDYzMTldLAogICAgICAgICAgICAgICAge30KICAgICAgICAgICAgKS5hZGRUbyhtYXBfMzQ0MmVjYzMxNjJlNDIyYWFkMzU1MWFlNTg0NzEzMjApOwogICAgICAgIAogICAgCiAgICAgICAgICAgIHZhciBtYXJrZXJfMWIzZTNjNTFlZjU2NDYyMDgyOTNhNjg5ZjJjN2Y4MzIgPSBMLm1hcmtlcigKICAgICAgICAgICAgICAgIFszOS43ODQ4ODc4MjA2NTMxMywgLTEwNi45OTE3NzEzMDczMDg4N10sCiAgICAgICAgICAgICAgICB7fQogICAgICAgICAgICApLmFkZFRvKG1hcF8zNDQyZWNjMzE2MmU0MjJhYWQzNTUxYWU1ODQ3MTMyMCk7CiAgICAgICAgCiAgICAKICAgICAgICAgICAgdmFyIG1hcmtlcl8wMTY1ZWI0MDU0NDM0MThhYThhZTM0ZDEwNmJiYmVkMSA9IEwubWFya2VyKAogICAgICAgICAgICAgICAgWzM5Ljg4MTM4NjgyMjAyNTc0LCAtMTA2Ljg3OTI1MzE0NTI5ODM5XSwKICAgICAgICAgICAgICAgIHt9CiAgICAgICAgICAgICkuYWRkVG8obWFwXzM0NDJlY2MzMTYyZTQyMmFhZDM1NTFhZTU4NDcxMzIwKTsKICAgICAgICAKICAgIAogICAgICAgICAgICB2YXIgbWFya2VyX2M5NzQ0NjJjZDI1ZDRiNDE5YTkxNTg4NGVhMGM0ZDYzID0gTC5tYXJrZXIoCiAgICAgICAgICAgICAgICBbMzkuODk4MTk4NDc2NjkyMSwgLTEwNi43MTE0NjAwNTI5Mzk2OV0sCiAgICAgICAgICAgICAgICB7fQogICAgICAgICAgICApLmFkZFRvKG1hcF8zNDQyZWNjMzE2MmU0MjJhYWQzNTUxYWU1ODQ3MTMyMCk7CiAgICAgICAgCiAgICAKICAgICAgICAgICAgdmFyIG1hcmtlcl81ZDRlNWE4M2FkNDE0MTk3OWMwMWM0YzhmMjc1NDJjZiA9IEwubWFya2VyKAogICAgICAgICAgICAgICAgWzM5LjkyMTY3NjcyNTAwMDU2NiwgLTEwNi41Nzk1MzI5ODQzMjUzM10sCiAgICAgICAgICAgICAgICB7fQogICAgICAgICAgICApLmFkZFRvKG1hcF8zNDQyZWNjMzE2MmU0MjJhYWQzNTUxYWU1ODQ3MTMyMCk7CiAgICAgICAgCiAgICAKICAgICAgICAgICAgdmFyIG1hcmtlcl9mMDZhNjk2NjMwMmQ0MTZhYjExNzIyMDUzMjRhMzhlYSA9IEwubWFya2VyKAogICAgICAgICAgICAgICAgWzQwLjAwMjM0NDExNDYyOTE4LCAtMTA2LjQ5MTkxNjI2MzAyNjE3XSwKICAgICAgICAgICAgICAgIHt9CiAgICAgICAgICAgICkuYWRkVG8obWFwXzM0NDJlY2MzMTYyZTQyMmFhZDM1NTFhZTU4NDcxMzIwKTsKICAgICAgICAKICAgIAogICAgICAgICAgICB2YXIgbWFya2VyXzUwYjc2NzMxMjkzMjQzMTNiMzBhZDA1Y2I0Y2Q3ZTk2ID0gTC5tYXJrZXIoCiAgICAgICAgICAgICAgICBbNDAuMDUyMzU0NjIwNDkzMjQsIC0xMDYuMTYwMTAyNTg2NTgyMDZdLAogICAgICAgICAgICAgICAge30KICAgICAgICAgICAgKS5hZGRUbyhtYXBfMzQ0MmVjYzMxNjJlNDIyYWFkMzU1MWFlNTg0NzEzMjApOwogICAgICAgIAogICAgCiAgICAgICAgICAgIHZhciBtYXJrZXJfYzRhOWJiZjc1Zjg4NDU0M2ExNDU2MjczZWVmZjUzZTYgPSBMLm1hcmtlcigKICAgICAgICAgICAgICAgIFs0MC4wMjkzMjQ2MDQ0NjY5OSwgLTEwNS44Nzc3ODc2NTM0NDYzOV0sCiAgICAgICAgICAgICAgICB7fQogICAgICAgICAgICApLmFkZFRvKG1hcF8zNDQyZWNjMzE2MmU0MjJhYWQzNTUxYWU1ODQ3MTMyMCk7CiAgICAgICAgCiAgICAKICAgICAgICAgICAgdmFyIG1hcmtlcl9hYzhmMmJlZTcyNzE0YjY4YjkyZjMzN2M1MmY5NWQ5ZiA9IEwubWFya2VyKAogICAgICAgICAgICAgICAgWzM5Ljg5NTk1MzkxOTE2MDAxLCAtMTA1LjY5NDY3MjIxMDE4NzE5XSwKICAgICAgICAgICAgICAgIHt9CiAgICAgICAgICAgICkuYWRkVG8obWFwXzM0NDJlY2MzMTYyZTQyMmFhZDM1NTFhZTU4NDcxMzIwKTsKICAgICAgICAKICAgIAogICAgICAgICAgICB2YXIgbWFya2VyX2M4MWE1YjMzMmIzMzQ2ODRiZjc0YzI3Yzg0ZjY2ZDc0ID0gTC5tYXJrZXIoCiAgICAgICAgICAgICAgICBbMzkuOTMxNTI0NTg0OTkyMjc1LCAtMTA1LjQwMzM5NDc3Mzc4Mzc1XSwKICAgICAgICAgICAgICAgIHt9CiAgICAgICAgICAgICkuYWRkVG8obWFwXzM0NDJlY2MzMTYyZTQyMmFhZDM1NTFhZTU4NDcxMzIwKTsKICAgICAgICAKICAgIAogICAgICAgICAgICB2YXIgbWFya2VyX2M3MGRiN2E5MzQ3YzQxNWRiZTZkMmU4MWUwMjE3ZjhmID0gTC5tYXJrZXIoCiAgICAgICAgICAgICAgICBbMzkuOTAxNjk5NTc5NDU3NDcsIC0xMDUuMjgyODc5ODA0NjIyNDddLAogICAgICAgICAgICAgICAge30KICAgICAgICAgICAgKS5hZGRUbyhtYXBfMzQ0MmVjYzMxNjJlNDIyYWFkMzU1MWFlNTg0NzEzMjApOwogICAgICAgIAogICAgCiAgICAgICAgICAgIHZhciBtYXJrZXJfNjk5Y2I5MTJlMzRkNDhiZmIyYTc2ZTljY2IyNmM5ZGYgPSBMLm1hcmtlcigKICAgICAgICAgICAgICAgIFszOS44MDMzMTAxOTczODkwNDUsIC0xMDUuMDA1NzUxMDA3MzE4NzhdLAogICAgICAgICAgICAgICAge30KICAgICAgICAgICAgKS5hZGRUbyhtYXBfMzQ0MmVjYzMxNjJlNDIyYWFkMzU1MWFlNTg0NzEzMjApOwogICAgICAgIAogICAgCiAgICAgICAgICAgIHZhciBtYXJrZXJfOTc4ODg0MDhhM2M3NDA4OWJiYTdlOWE4ODZmYWQ5NGQgPSBMLm1hcmtlcigKICAgICAgICAgICAgICAgIFszOC4wNTU5NDg3MDI0MDQ2NTYsIC0xMjIuMjIwNzE3NjExNDk0MDRdLAogICAgICAgICAgICAgICAge30KICAgICAgICAgICAgKS5hZGRUbyhtYXBfMzQ0MmVjYzMxNjJlNDIyYWFkMzU1MWFlNTg0NzEzMjApOwogICAgICAgIAogICAgCiAgICAgICAgICAgIHZhciBtYXJrZXJfYTUzNzRiMDkwYmFmNDg3MDkyNGU5ODJmMzI3OWM3YWEgPSBMLm1hcmtlcigKICAgICAgICAgICAgICAgIFszOC4wMDA3MzI5MTM2MTE3NTYsIC0xMjIuMzMyNTA0MTEyNzczNTZdLAogICAgICAgICAgICAgICAge30KICAgICAgICAgICAgKS5hZGRUbyhtYXBfMzQ0MmVjYzMxNjJlNDIyYWFkMzU1MWFlNTg0NzEzMjApOwogICAgICAgIAogICAgCiAgICAgICAgICAgIHZhciBtYXJrZXJfYmRmMDEyNTgxN2VjNDMzNDliNTJmZTQ5YmE5OTliMDcgPSBMLm1hcmtlcigKICAgICAgICAgICAgICAgIFs0MS4wMzE1OTc3OTMzMDUwOSwgLTk2LjM2ODc3MTE5OTQ4MzU5XSwKICAgICAgICAgICAgICAgIHt9CiAgICAgICAgICAgICkuYWRkVG8obWFwXzM0NDJlY2MzMTYyZTQyMmFhZDM1NTFhZTU4NDcxMzIwKTsKICAgICAgICAKICAgIAogICAgICAgICAgICB2YXIgbWFya2VyX2JlOWE2ZTMxZDY4NTQwZWRiYmFiNzk4NjIyZjgyYWY0ID0gTC5tYXJrZXIoCiAgICAgICAgICAgICAgICBbNDEuMjIxNjE4MzEwODU5NzgsIC05NS45NjA5NDA2Nzg3MzIyXSwKICAgICAgICAgICAgICAgIHt9CiAgICAgICAgICAgICkuYWRkVG8obWFwXzM0NDJlY2MzMTYyZTQyMmFhZDM1NTFhZTU4NDcxMzIwKTsKICAgICAgICAKICAgIAogICAgICAgICAgICB2YXIgbWFya2VyX2I2NjFjYmYzMmJiMDRhYzI4MzYxNWM1MGJlZDc3M2NkID0gTC5tYXJrZXIoCiAgICAgICAgICAgICAgICBbMzguMzQ0NzAwNTMyMTYwNzIsIC0xMjEuOTE0NTcyNzM5MTM0ODRdLAogICAgICAgICAgICAgICAge30KICAgICAgICAgICAgKS5hZGRUbyhtYXBfMzQ0MmVjYzMxNjJlNDIyYWFkMzU1MWFlNTg0NzEzMjApOwogICAgICAgIAogICAgCiAgICAgICAgICAgIHZhciBtYXJrZXJfNGY2ZGU2NDdiYmFmNGI2YjhmNDA5NTgxZWZjMjgxMTIgPSBMLm1hcmtlcigKICAgICAgICAgICAgICAgIFszOC41OTg1MzcwNzIzMzQ1NCwgLTEyMS40NDgyODM2OTE5MDU5NF0sCiAgICAgICAgICAgICAgICB7fQogICAgICAgICAgICApLmFkZFRvKG1hcF8zNDQyZWNjMzE2MmU0MjJhYWQzNTUxYWU1ODQ3MTMyMCk7CiAgICAgICAgCiAgICAKICAgICAgICAgICAgdmFyIG1hcmtlcl8wOGZjOWZjZWRhMWQ0YjlhYTlkYjQ0NTM0OGM2NDU5MSA9IEwubWFya2VyKAogICAgICAgICAgICAgICAgWzQwLjA0NjI1OTg5OTM5MDExNSwgLTExMS41NDg0NDk1NTM3MjY1MV0sCiAgICAgICAgICAgICAgICB7fQogICAgICAgICAgICApLmFkZFRvKG1hcF8zNDQyZWNjMzE2MmU0MjJhYWQzNTUxYWU1ODQ3MTMyMCk7CiAgICAgICAgCiAgICAKICAgICAgICAgICAgdmFyIG1hcmtlcl9hOGRiMGY3NDllY2I0Y2E3OGM2ZDQ4NGRiOGNjMDZkNiA9IEwubWFya2VyKAogICAgICAgICAgICAgICAgWzM5Ljk1Nzc1NTA5Mjg4NjQxLCAtMTExLjMwMjMyMDMyNDIwMjA5XSwKICAgICAgICAgICAgICAgIHt9CiAgICAgICAgICAgICkuYWRkVG8obWFwXzM0NDJlY2MzMTYyZTQyMmFhZDM1NTFhZTU4NDcxMzIwKTsKICAgICAgICAKICAgIAogICAgICAgICAgICB2YXIgbWFya2VyXzBiODBjZjk0NmRhMTRiOGY4MmJiMzc3ZjZlMjk1MzQ2ID0gTC5tYXJrZXIoCiAgICAgICAgICAgICAgICBbMzkuOTIzMDg0NjUwNjY1NTYsIC0xMTEuMTY2MjAwODA1NTgwMzNdLAogICAgICAgICAgICAgICAge30KICAgICAgICAgICAgKS5hZGRUbyhtYXBfMzQ0MmVjYzMxNjJlNDIyYWFkMzU1MWFlNTg0NzEzMjApOwogICAgICAgIAogICAgCiAgICAgICAgICAgIHZhciBtYXJrZXJfOGQ3NDI1Y2Q5NjgyNGQzZTljZmFhOTdjYzJkOGY5ZWUgPSBMLm1hcmtlcigKICAgICAgICAgICAgICAgIFszOS44Mzg0MjQ5NDg5Nzg4OSwgLTExMC45NzkwODE5Mzg1MTA3NV0sCiAgICAgICAgICAgICAgICB7fQogICAgICAgICAgICApLmFkZFRvKG1hcF8zNDQyZWNjMzE2MmU0MjJhYWQzNTUxYWU1ODQ3MTMyMCk7CiAgICAgICAgCiAgICAKICAgICAgICAgICAgdmFyIG1hcmtlcl82NGUzN2JiOWZmNjE0MjJjOGRkMWI2MmZlNzkyYzQzOCA9IEwubWFya2VyKAogICAgICAgICAgICAgICAgWzM5Ljc3MzI1NzAwMjA1NDg3LCAtMTEwLjkxMDIxNzU5MzY4MzMzXSwKICAgICAgICAgICAgICAgIHt9CiAgICAgICAgICAgICkuYWRkVG8obWFwXzM0NDJlY2MzMTYyZTQyMmFhZDM1NTFhZTU4NDcxMzIwKTsKICAgICAgICAKICAgIAogICAgICAgICAgICB2YXIgbWFya2VyX2FlZTNiNDM3ZThmODQ0MzFhNGEzNDg3NmFkMTRjMzA0ID0gTC5tYXJrZXIoCiAgICAgICAgICAgICAgICBbMzkuNjc1NDY0ODgxOTYwOTUsIC0xMTAuODU4NDU2NDY5MzgzXSwKICAgICAgICAgICAgICAgIHt9CiAgICAgICAgICAgICkuYWRkVG8obWFwXzM0NDJlY2MzMTYyZTQyMmFhZDM1NTFhZTU4NDcxMzIwKTsKICAgICAgICAKICAgIAogICAgICAgICAgICB2YXIgbWFya2VyX2UyNWU5Zjk1NGMwZjQ3NWE5YTRiMTcwMDE4N2QwMTA1ID0gTC5tYXJrZXIoCiAgICAgICAgICAgICAgICBbMzkuNDk1MDA5MDE1MTMzODYsIC0xMTAuNjQ1Nzg4NjgxMDk4MTddLAogICAgICAgICAgICAgICAge30KICAgICAgICAgICAgKS5hZGRUbyhtYXBfMzQ0MmVjYzMxNjJlNDIyYWFkMzU1MWFlNTg0NzEzMjApOwogICAgICAgIAogICAgCiAgICAgICAgICAgIHZhciBtYXJrZXJfYzgxMDRmZWY3YWE4NGYzMzlkYjEzMjYzODU3MjdmNjEgPSBMLm1hcmtlcigKICAgICAgICAgICAgICAgIFszOS4zODQ4MzkwMTUwODM4NSwgLTExMC40NTI0MTc3MzU0ODM4NV0sCiAgICAgICAgICAgICAgICB7fQogICAgICAgICAgICApLmFkZFRvKG1hcF8zNDQyZWNjMzE2MmU0MjJhYWQzNTUxYWU1ODQ3MTMyMCk7CiAgICAgICAgCiAgICAKICAgICAgICAgICAgdmFyIG1hcmtlcl81ODIxNjIyNTE0ZWE0Mzk0OTA3ZmEyN2UxMDZkODAwNSA9IEwubWFya2VyKAogICAgICAgICAgICAgICAgWzM5LjI1MTk3NDg5MTg4Mzk3NSwgLTExMC4zNDA4NTQ5NzQ4OTcxN10sCiAgICAgICAgICAgICAgICB7fQogICAgICAgICAgICApLmFkZFRvKG1hcF8zNDQyZWNjMzE2MmU0MjJhYWQzNTUxYWU1ODQ3MTMyMCk7CiAgICAgICAgCiAgICAKICAgICAgICAgICAgdmFyIG1hcmtlcl84ZjQ4ODU0Y2VkOGY0NWYyODQ0NDQ0YzAzYzExMTRjMiA9IEwubWFya2VyKAogICAgICAgICAgICAgICAgWzM4Ljk4NzMyMzAzOTQ5OTg4NCwgLTExMC4xMTYyODg4NTI0NTIxNF0sCiAgICAgICAgICAgICAgICB7fQogICAgICAgICAgICApLmFkZFRvKG1hcF8zNDQyZWNjMzE2MmU0MjJhYWQzNTUxYWU1ODQ3MTMyMCk7CiAgICAgICAgCiAgICAKICAgICAgICAgICAgdmFyIG1hcmtlcl80NDc5ZGU5MmYzN2M0YjI4OWU1OWJiNjJlZDRjODYxYSA9IEwubWFya2VyKAogICAgICAgICAgICAgICAgWzM4Ljk1NDM0OTg3NzY1OTE4LCAtMTA5Ljc5NzcwOTMxMDM4NTYzXSwKICAgICAgICAgICAgICAgIHt9CiAgICAgICAgICAgICkuYWRkVG8obWFwXzM0NDJlY2MzMTYyZTQyMmFhZDM1NTFhZTU4NDcxMzIwKTsKICAgICAgICAKICAgIAogICAgICAgICAgICB2YXIgbWFya2VyXzllMWVlNGJlMmFmOTRlYmQ5NDNjNDI1NzFiNmIxYjZmID0gTC5tYXJrZXIoCiAgICAgICAgICAgICAgICBbNDEuMDMwNjIzNTkxNjUwMjc2LCAtOTIuODM2NzMzODQ3MzcwOTVdLAogICAgICAgICAgICAgICAge30KICAgICAgICAgICAgKS5hZGRUbyhtYXBfMzQ0MmVjYzMxNjJlNDIyYWFkMzU1MWFlNTg0NzEzMjApOwogICAgICAgIAogICAgCiAgICAgICAgICAgIHZhciBtYXJrZXJfZmVhNTQyZDA5MDJkNGZiYWIwM2FiZjQ4NjVhYjllOTAgPSBMLm1hcmtlcigKICAgICAgICAgICAgICAgIFs0MC45NzM4NzU5NTg2MDg0MjQsIC05Mi45NTE4MjUyMTY0NDQ3OV0sCiAgICAgICAgICAgICAgICB7fQogICAgICAgICAgICApLmFkZFRvKG1hcF8zNDQyZWNjMzE2MmU0MjJhYWQzNTUxYWU1ODQ3MTMyMCk7CiAgICAgICAgCiAgICAKICAgICAgICAgICAgdmFyIG1hcmtlcl9iMGIzYWIzYmZiNDE0OGFmOWQ5YWQ0ZDE0MWZkNWNkMCA9IEwubWFya2VyKAogICAgICAgICAgICAgICAgWzQxLjAwNzQxNzI3NzgyNDg4LCAtOTIuMzkxMzM1NTIwOTI2MjZdLAogICAgICAgICAgICAgICAge30KICAgICAgICAgICAgKS5hZGRUbyhtYXBfMzQ0MmVjYzMxNjJlNDIyYWFkMzU1MWFlNTg0NzEzMjApOwogICAgICAgIAogICAgCiAgICAgICAgICAgIHZhciBtYXJrZXJfMjgxOTcyMWMyMDI0NDlkZDljODcyMDUwNmIzYTliNzAgPSBMLm1hcmtlcigKICAgICAgICAgICAgICAgIFs0MC44MzM0NTEzNTg2NTc2MSwgLTkxLjI2OTIyMjI1NzQ3Mjk1XSwKICAgICAgICAgICAgICAgIHt9CiAgICAgICAgICAgICkuYWRkVG8obWFwXzM0NDJlY2MzMTYyZTQyMmFhZDM1NTFhZTU4NDcxMzIwKTsKICAgICAgICAKICAgIAogICAgICAgICAgICB2YXIgbWFya2VyX2ZlNmRmZGNhM2U5ZDQ1ZDk4OGM0M2I4N2M3ZjZlNzMzID0gTC5tYXJrZXIoCiAgICAgICAgICAgICAgICBbNDAuODU5ODAwNDk3OTU1NzYsIC05MC43NzM5MTE0NDM0NjI5MV0sCiAgICAgICAgICAgICAgICB7fQogICAgICAgICAgICApLmFkZFRvKG1hcF8zNDQyZWNjMzE2MmU0MjJhYWQzNTUxYWU1ODQ3MTMyMCk7CiAgICAgICAgCiAgICAKICAgICAgICAgICAgdmFyIG1hcmtlcl80MDcyMWU4YjcyNzE0ZmIyYjRiNjBiMDg5NDI5NDc0MyA9IEwubWFya2VyKAogICAgICAgICAgICAgICAgWzQxLjMwMjk4OTM2MzIwMzMsIC04OS43Mjk4Njk2OTY4NDg4Ml0sCiAgICAgICAgICAgICAgICB7fQogICAgICAgICAgICApLmFkZFRvKG1hcF8zNDQyZWNjMzE2MmU0MjJhYWQzNTUxYWU1ODQ3MTMyMCk7CiAgICAgICAgCiAgICAKICAgICAgICAgICAgdmFyIG1hcmtlcl83YzkwMGYzYzYwM2I0ZmMwYjE4YWQ1NWUzOTVlM2U2ZiA9IEwubWFya2VyKAogICAgICAgICAgICAgICAgWzQxLjY2Mjg3MTIyODk4MjI4LCAtODguNTM0OTg1MTE1OTcxNV0sCiAgICAgICAgICAgICAgICB7fQogICAgICAgICAgICApLmFkZFRvKG1hcF8zNDQyZWNjMzE2MmU0MjJhYWQzNTUxYWU1ODQ3MTMyMCk7CiAgICAgICAgCiAgICAKICAgICAgICAgICAgdmFyIG1hcmtlcl85NGZhZGYzNDBjNmQ0MzhjOWRmMmJkYzc5ZWY1MzIxNyA9IEwubWFya2VyKAogICAgICAgICAgICAgICAgWzQwLjIyNTIyNzgwMDc1MzY4NiwgLTExMS42NTY2MDc3NTg2NzUxOF0sCiAgICAgICAgICAgICAgICB7fQogICAgICAgICAgICApLmFkZFRvKG1hcF8zNDQyZWNjMzE2MmU0MjJhYWQzNTUxYWU1ODQ3MTMyMCk7CiAgICAgICAgCiAgICAKICAgICAgICAgICAgdmFyIG1hcmtlcl9mMjVhYjQ1MDk3YjY0NzFlYmVlOWFhNWZjYzY4MDM4ZCA9IEwubWFya2VyKAogICAgICAgICAgICAgICAgWzQxLjA2OTg2NTc3NzI1NTcyLCAtOTUuOTI2MDQyMDAyMjA4MjldLAogICAgICAgICAgICAgICAge30KICAgICAgICAgICAgKS5hZGRUbyhtYXBfMzQ0MmVjYzMxNjJlNDIyYWFkMzU1MWFlNTg0NzEzMjApOwogICAgICAgIAogICAgCiAgICAgICAgICAgIHZhciBtYXJrZXJfMWViYjRmMTU3ZTQwNDU4YWE1ZmEyMTVlZjg3YmIyODIgPSBMLm1hcmtlcigKICAgICAgICAgICAgICAgIFs0MS4wMjA0Nzg3NTkzOTUwNiwgLTk1LjUyNTE3NzExNDI4OTddLAogICAgICAgICAgICAgICAge30KICAgICAgICAgICAgKS5hZGRUbyhtYXBfMzQ0MmVjYzMxNjJlNDIyYWFkMzU1MWFlNTg0NzEzMjApOwogICAgICAgIAogICAgCiAgICAgICAgICAgIHZhciBtYXJrZXJfMWJlNDBhM2RlODYyNGNlMjliOTMwMTcxNmVjYWNkMWEgPSBMLm1hcmtlcigKICAgICAgICAgICAgICAgIFs0MC45ODc0NzI5NDYwMzIxNSwgLTk0LjczMTg1OTc5NTE4Njk4XSwKICAgICAgICAgICAgICAgIHt9CiAgICAgICAgICAgICkuYWRkVG8obWFwXzM0NDJlY2MzMTYyZTQyMmFhZDM1NTFhZTU4NDcxMzIwKTsKICAgICAgICAKICAgIAogICAgICAgICAgICB2YXIgbWFya2VyX2MzM2ZiYWUzMmVkZTQ5YjU5ZGJiZTFhZDNiODkyOTE1ID0gTC5tYXJrZXIoCiAgICAgICAgICAgICAgICBbNDEuMDU1MjYxNjUzMjYwNzEsIC05My45MTU1MTI1NDc3MDY2NV0sCiAgICAgICAgICAgICAgICB7fQogICAgICAgICAgICApLmFkZFRvKG1hcF8zNDQyZWNjMzE2MmU0MjJhYWQzNTUxYWU1ODQ3MTMyMCk7CiAgICAgICAgCiAgICAKICAgICAgICAgICAgdmFyIG1hcmtlcl80YTUyMWEwOTM2ZjY0NTJiODBkODZjMGM5MGQ4MGE4MCA9IEwubWFya2VyKAogICAgICAgICAgICAgICAgWzM4Ljg3NzAzNzM5NjM2NTkyLCAtMTIxLjE0MTAyNTgxNjc5MTE3XSwKICAgICAgICAgICAgICAgIHt9CiAgICAgICAgICAgICkuYWRkVG8obWFwXzM0NDJlY2MzMTYyZTQyMmFhZDM1NTFhZTU4NDcxMzIwKTsKICAgICAgICAKICAgIAogICAgICAgICAgICB2YXIgbWFya2VyXzlkYzQ1NjZkNThkZDQyZDhiNWE1YTJiMzI3N2M2NDEzID0gTC5tYXJrZXIoCiAgICAgICAgICAgICAgICBbMzguODk1ODk4MjQ2MTYxMjYsIC0xMjEuMDgwNjQwMjI3OTU5NDJdLAogICAgICAgICAgICAgICAge30KICAgICAgICAgICAgKS5hZGRUbyhtYXBfMzQ0MmVjYzMxNjJlNDIyYWFkMzU1MWFlNTg0NzEzMjApOwogICAgICAgIAogICAgCiAgICAgICAgICAgIHZhciBtYXJrZXJfMDRmMGQ3MTM0YjU3NDAxNmIzOTE1YzEyMDM5NTdmODIgPSBMLm1hcmtlcigKICAgICAgICAgICAgICAgIFszOC45MzkwNDU4OTYxMzk0MDUsIC0xMjEuMDUyNjg4NTQ1MTI0NV0sCiAgICAgICAgICAgICAgICB7fQogICAgICAgICAgICApLmFkZFRvKG1hcF8zNDQyZWNjMzE2MmU0MjJhYWQzNTUxYWU1ODQ3MTMyMCk7CiAgICAgICAgCiAgICAKICAgICAgICAgICAgdmFyIG1hcmtlcl9hOWI3ZTk2OGJjZWU0ZjI0OTJiYzBiZjg2N2ExZWNjMSA9IEwubWFya2VyKAogICAgICAgICAgICAgICAgWzM4Ljk5Njc5Mjg0NjcwMjc3NSwgLTEyMC45OTY2NTE4NTQxOTUxXSwKICAgICAgICAgICAgICAgIHt9CiAgICAgICAgICAgICkuYWRkVG8obWFwXzM0NDJlY2MzMTYyZTQyMmFhZDM1NTFhZTU4NDcxMzIwKTsKICAgICAgICAKICAgIAogICAgICAgICAgICB2YXIgbWFya2VyXzEzMjIxM2E4NDRkMDRiY2NiZjY3ZjNlMTE4MWNkYmE3ID0gTC5tYXJrZXIoCiAgICAgICAgICAgICAgICBbMzkuMDY2NDgyODM4NjQ2NDIsIC0xMjAuOTY4Nzc1ODUwODI5NTldLAogICAgICAgICAgICAgICAge30KICAgICAgICAgICAgKS5hZGRUbyhtYXBfMzQ0MmVjYzMxNjJlNDIyYWFkMzU1MWFlNTg0NzEzMjApOwogICAgICAgIAogICAgCiAgICAgICAgICAgIHZhciBtYXJrZXJfOWZkNzYzZTBkNTI3NGU4MjgyZmY0MWNhMWQ5ODZjMjQgPSBMLm1hcmtlcigKICAgICAgICAgICAgICAgIFszOS4xMjUzNDM4MzExNDYzMSwgLTEyMC45MzA3MTY4NDgxMzU1Nl0sCiAgICAgICAgICAgICAgICB7fQogICAgICAgICAgICApLmFkZFRvKG1hcF8zNDQyZWNjMzE2MmU0MjJhYWQzNTUxYWU1ODQ3MTMyMCk7CiAgICAgICAgCiAgICAKICAgICAgICAgICAgdmFyIG1hcmtlcl9hNDUzNzE2OGVmZjM0NDdiODUyOGY3ODI5MzBmYjk3OSA9IEwubWFya2VyKAogICAgICAgICAgICAgICAgWzM5LjE4MTk3MDU3OTUzNDM0LCAtMTIwLjg1NDQwMjA1NjkwMzA0XSwKICAgICAgICAgICAgICAgIHt9CiAgICAgICAgICAgICkuYWRkVG8obWFwXzM0NDJlY2MzMTYyZTQyMmFhZDM1NTFhZTU4NDcxMzIwKTsKICAgICAgICAKICAgIAogICAgICAgICAgICB2YXIgbWFya2VyX2JiZmQzNWU0NjUyNjQyMzI5MmZjMGQwZDE4ZDc5ZDAwID0gTC5tYXJrZXIoCiAgICAgICAgICAgICAgICBbMzkuMjEzMDUxNDMzNTg0MzYsIC0xMjAuNzYxNTU2NTk1MzcyOTFdLAogICAgICAgICAgICAgICAge30KICAgICAgICAgICAgKS5hZGRUbyhtYXBfMzQ0MmVjYzMxNjJlNDIyYWFkMzU1MWFlNTg0NzEzMjApOwogICAgICAgIAogICAgCiAgICAgICAgICAgIHZhciBtYXJrZXJfNmM5ZGEzOGUwYTQ0NGI5NzhmOWQ4ZDFhMzRlMzk4ZjEgPSBMLm1hcmtlcigKICAgICAgICAgICAgICAgIFszOS4yNTE4Mjk1MDE3NjEzMSwgLTEyMC43MDMxMjQ1OTE2NTQxOV0sCiAgICAgICAgICAgICAgICB7fQogICAgICAgICAgICApLmFkZFRvKG1hcF8zNDQyZWNjMzE2MmU0MjJhYWQzNTUxYWU1ODQ3MTMyMCk7CiAgICAgICAgCiAgICAKICAgICAgICAgICAgdmFyIG1hcmtlcl8yZWMyZTRkOWU5ZGM0MjFhYjBmMTNlNmZhZDE5NDZkMSA9IEwubWFya2VyKAogICAgICAgICAgICAgICAgWzM5LjMyOTI4NjcxMzE3NDA4LCAtMTIwLjU4ODEwMDAzNTY3NzkxXSwKICAgICAgICAgICAgICAgIHt9CiAgICAgICAgICAgICkuYWRkVG8obWFwXzM0NDJlY2MzMTYyZTQyMmFhZDM1NTFhZTU4NDcxMzIwKTsKICAgICAgICAKICAgIAogICAgICAgICAgICB2YXIgbWFya2VyXzA5MzY3MDk4ZjY2NDQzMjA5YjEwMTdiMGEwODVjNzE1ID0gTC5tYXJrZXIoCiAgICAgICAgICAgICAgICBbNDAuNzYxODgzMzg1MDc4ODc1LCAtMTExLjkwOTMzMTgyMTYzNTk0XSwKICAgICAgICAgICAgICAgIHt9CiAgICAgICAgICAgICkuYWRkVG8obWFwXzM0NDJlY2MzMTYyZTQyMmFhZDM1NTFhZTU4NDcxMzIwKTsKICAgICAgICAKICAgIAogICAgICAgICAgICB2YXIgbWFya2VyXzFmZjc1YTE4MTU0MDRkMzZiNjc4YjFkNTJjN2JjNjIwID0gTC5tYXJrZXIoCiAgICAgICAgICAgICAgICBbNDAuMzg1MDg4MDAxNTk1ODI1LCAtMTExLjg1NTIxMTMyMTY0OTIyXSwKICAgICAgICAgICAgICAgIHt9CiAgICAgICAgICAgICkuYWRkVG8obWFwXzM0NDJlY2MzMTYyZTQyMmFhZDM1NTFhZTU4NDcxMzIwKTsKICAgICAgICAKICAgIAogICAgICAgICAgICB2YXIgbWFya2VyX2RhMDA0ZDhkNjlmNTRkYzk5OTczNmUxMjZkYzQ1MzM1ID0gTC5tYXJrZXIoCiAgICAgICAgICAgICAgICBbMzkuNDY5ODQ3ODQ3ODE2NzgsIC0xMjAuMDAwNzcxNjczNTU0NzJdLAogICAgICAgICAgICAgICAge30KICAgICAgICAgICAgKS5hZGRUbyhtYXBfMzQ0MmVjYzMxNjJlNDIyYWFkMzU1MWFlNTg0NzEzMjApOwogICAgICAgIAogICAgCiAgICAgICAgICAgIHZhciBtYXJrZXJfODZhYWYxZWZjMWE3NDFlYzgzZjkzNTZmOTUzZjQ5YzAgPSBMLm1hcmtlcigKICAgICAgICAgICAgICAgIFszOS4zNzYwOTIwMDA4OTQ4NiwgLTEyMC4wNzM5OTc5ODc2NzAxOF0sCiAgICAgICAgICAgICAgICB7fQogICAgICAgICAgICApLmFkZFRvKG1hcF8zNDQyZWNjMzE2MmU0MjJhYWQzNTUxYWU1ODQ3MTMyMCk7CiAgICAgICAgCiAgICAKICAgICAgICAgICAgdmFyIG1hcmtlcl85Mjk5ZGNkOGFmMTI0MmQ1OGI0MTNhOGRmYWMyNDEwNCA9IEwubWFya2VyKAogICAgICAgICAgICAgICAgWzM5LjMxMjczMzIyOTA5MzA3LCAtMTIwLjIzMTcyOTM2MDQ1MDI1XSwKICAgICAgICAgICAgICAgIHt9CiAgICAgICAgICAgICkuYWRkVG8obWFwXzM0NDJlY2MzMTYyZTQyMmFhZDM1NTFhZTU4NDcxMzIwKTsKICAgICAgICAKICAgIAogICAgICAgICAgICB2YXIgbWFya2VyX2M4YzEyYWEzN2NlZjQxMGU4YWY5YTlmNzBmZGZmZDc3ID0gTC5tYXJrZXIoCiAgICAgICAgICAgICAgICBbMzkuMzIyOTgxMDUwMDc2NTMsIC0xMjAuMzczNTYwNzM3NzU0MzJdLAogICAgICAgICAgICAgICAge30KICAgICAgICAgICAgKS5hZGRUbyhtYXBfMzQ0MmVjYzMxNjJlNDIyYWFkMzU1MWFlNTg0NzEzMjApOwogICAgICAgIAogICAgCiAgICAgICAgICAgIHZhciBtYXJrZXJfMjc4MzJlYjM4NTNkNGY4ODhjOWI2MzNlZTBhZWRiNzggPSBMLm1hcmtlcigKICAgICAgICAgICAgICAgIFszOS4yOTY1ODc3ODQ3MDU5NSwgLTEyMC41MjM5MjM4OTIzMTcxM10sCiAgICAgICAgICAgICAgICB7fQogICAgICAgICAgICApLmFkZFRvKG1hcF8zNDQyZWNjMzE2MmU0MjJhYWQzNTUxYWU1ODQ3MTMyMCk7CiAgICAgICAgCiAgICAKICAgICAgICAgICAgdmFyIG1hcmtlcl82NWYyZmIwZGVhMDQ0YzZhOWUwNWU5MjEyMjAwMTg2YiA9IEwubWFya2VyKAogICAgICAgICAgICAgICAgWzM5LjUwODg3NzcxOTk5OTE1LCAtMTE5LjkzMTg3OTk1OTc1NTU1XSwKICAgICAgICAgICAgICAgIHt9CiAgICAgICAgICAgICkuYWRkVG8obWFwXzM0NDJlY2MzMTYyZTQyMmFhZDM1NTFhZTU4NDcxMzIwKTsKICAgICAgICAKICAgIAogICAgICAgICAgICB2YXIgbWFya2VyXzU3ZTg4NzA2ODRlZjQxZDk4NThjNWY0NzZmYjYwN2QyID0gTC5tYXJrZXIoCiAgICAgICAgICAgICAgICBbMzkuNTEyODY3MzU5OTQyNTA0LCAtMTE5LjY0NDU3MTA2MTk4Njc3XSwKICAgICAgICAgICAgICAgIHt9CiAgICAgICAgICAgICkuYWRkVG8obWFwXzM0NDJlY2MzMTYyZTQyMmFhZDM1NTFhZTU4NDcxMzIwKTsKICAgICAgICAKICAgIAogICAgICAgICAgICB2YXIgbWFya2VyX2RlMTcwYzQyMDkzMDQ4MWM4NWJiMTQzZjIzNmIyZTNlID0gTC5tYXJrZXIoCiAgICAgICAgICAgICAgICBbMzkuNTk1ODkyNjY2MDY0NCwgLTExOS4zNDAxMDMwNDUxMjM5OF0sCiAgICAgICAgICAgICAgICB7fQogICAgICAgICAgICApLmFkZFRvKG1hcF8zNDQyZWNjMzE2MmU0MjJhYWQzNTUxYWU1ODQ3MTMyMCk7CiAgICAgICAgCiAgICAKICAgICAgICAgICAgdmFyIG1hcmtlcl8zZDhjMjMxNjU1YzE0NDY5OTk0NTljZTcxODM4ZDM5YSA9IEwubWFya2VyKAogICAgICAgICAgICAgICAgWzM5LjY4NjQwNTUzMjg5OTczLCAtMTE4LjgyNzg2ODgwMzg5OTQyXSwKICAgICAgICAgICAgICAgIHt9CiAgICAgICAgICAgICkuYWRkVG8obWFwXzM0NDJlY2MzMTYyZTQyMmFhZDM1NTFhZTU4NDcxMzIwKTsKICAgICAgICAKICAgIAogICAgICAgICAgICB2YXIgbWFya2VyXzllMjU3NDMxYTU2MDQ2M2E5OTY5NDExMTA3YjY2NzNiID0gTC5tYXJrZXIoCiAgICAgICAgICAgICAgICBbNDAuMDY2MDM5NTQ1OTczMTYsIC0xMTguNjQxODAyNDgyMDY4NDNdLAogICAgICAgICAgICAgICAge30KICAgICAgICAgICAgKS5hZGRUbyhtYXBfMzQ0MmVjYzMxNjJlNDIyYWFkMzU1MWFlNTg0NzEzMjApOwogICAgICAgIAogICAgCiAgICAgICAgICAgIHZhciBtYXJrZXJfN2M2MGFjYTNjZjJmNGJjNjkyZmI2MWY4NjhkOGMzY2QgPSBMLm1hcmtlcigKICAgICAgICAgICAgICAgIFs0MC41MTUwMTI4NzIwNDcyNywgLTExOC4yOTA1NDE5ODkyMTcxNl0sCiAgICAgICAgICAgICAgICB7fQogICAgICAgICAgICApLmFkZFRvKG1hcF8zNDQyZWNjMzE2MmU0MjJhYWQzNTUxYWU1ODQ3MTMyMCk7CiAgICAgICAgCiAgICAKICAgICAgICAgICAgdmFyIG1hcmtlcl8yN2JhYWE4YzNkZjk0Zjk2YjFjMmE4ZDFjYzE2MDZiNSA9IEwubWFya2VyKAogICAgICAgICAgICAgICAgWzQwLjkzNzMzNzM0NDI4NTkzNiwgLTExNy43NTU4MTI2MjQ0MzI4Nl0sCiAgICAgICAgICAgICAgICB7fQogICAgICAgICAgICApLmFkZFRvKG1hcF8zNDQyZWNjMzE2MmU0MjJhYWQzNTUxYWU1ODQ3MTMyMCk7CiAgICAgICAgCiAgICAKICAgICAgICAgICAgdmFyIG1hcmtlcl80OTA0MjM2ZWQ2NWM0ZTMyODc5NjM0OGIwOTQyZjYzOSA9IEwubWFya2VyKAogICAgICAgICAgICAgICAgWzQwLjY5NzExNjA0NjY5MDg0NCwgLTExNi4xMjE0NzUwMDIxMjEzOV0sCiAgICAgICAgICAgICAgICB7fQogICAgICAgICAgICApLmFkZFRvKG1hcF8zNDQyZWNjMzE2MmU0MjJhYWQzNTUxYWU1ODQ3MTMyMCk7CiAgICAgICAgCiAgICAKICAgICAgICAgICAgdmFyIG1hcmtlcl9lM2E2MjBkMDUyNjc0YWVjYmIzODkyOTAyOThhOWMyZSA9IEwubWFya2VyKAogICAgICAgICAgICAgICAgWzQwLjU3OTg5NTMyNjY5NzEsIC0xMTYuMjMzNjgyNDUyMTQ2NDVdLAogICAgICAgICAgICAgICAge30KICAgICAgICAgICAgKS5hZGRUbyhtYXBfMzQ0MmVjYzMxNjJlNDIyYWFkMzU1MWFlNTg0NzEzMjApOwogICAgICAgIAogICAgCiAgICAgICAgICAgIHZhciBtYXJrZXJfZjQ0NTNhZWYzMmQ1NGU1ZTk4NGNiN2M5MzJlMjllYTggPSBMLm1hcmtlcigKICAgICAgICAgICAgICAgIFs0MC43MTA2MjQ4MDczNzgwOCwgLTExNi41NDQzMTgzMjg2OTk0Ml0sCiAgICAgICAgICAgICAgICB7fQogICAgICAgICAgICApLmFkZFRvKG1hcF8zNDQyZWNjMzE2MmU0MjJhYWQzNTUxYWU1ODQ3MTMyMCk7CiAgICAgICAgCiAgICAKICAgICAgICAgICAgdmFyIG1hcmtlcl84YmMwZTM3NjQyMTc0NWFjYjJkODUxMjk5ZDRlZWMwYyA9IEwubWFya2VyKAogICAgICAgICAgICAgICAgWzQxLjAwNDE2ODQ4MDQwNjc2LCAtMTE3LjM0MDE5MzU1NTY1NzkyXSwKICAgICAgICAgICAgICAgIHt9CiAgICAgICAgICAgICkuYWRkVG8obWFwXzM0NDJlY2MzMTYyZTQyMmFhZDM1NTFhZTU4NDcxMzIwKTsKICAgICAgICAKICAgIAogICAgICAgICAgICB2YXIgbWFya2VyXzQwZGQxYzFhMjRhMzQxZGNiZDdlYmM3NmQ2OTI4YmRkID0gTC5tYXJrZXIoCiAgICAgICAgICAgICAgICBbNDAuNzE5MjIzMTkzNTc3MjQsIC0xMTYuMDkxOTQ0MTUyODgyMTldLAogICAgICAgICAgICAgICAge30KICAgICAgICAgICAgKS5hZGRUbyhtYXBfMzQ0MmVjYzMxNjJlNDIyYWFkMzU1MWFlNTg0NzEzMjApOwogICAgICAgIAogICAgCiAgICAgICAgICAgIHZhciBtYXJrZXJfYmRjODA3OTE2MTRjNDAxODlkNGJjM2ZhYTUyMDQyYWMgPSBMLm1hcmtlcigKICAgICAgICAgICAgICAgIFs0MC44NTc5NjM3MTEzNzQ3MywgLTExNS43MzAyMTY2ODA3ODMxOV0sCiAgICAgICAgICAgICAgICB7fQogICAgICAgICAgICApLmFkZFRvKG1hcF8zNDQyZWNjMzE2MmU0MjJhYWQzNTUxYWU1ODQ3MTMyMCk7CiAgICAgICAgCiAgICAKICAgICAgICAgICAgdmFyIG1hcmtlcl81ZDk3MzUwZjU2OWE0ZmYzOTI1MmRiODQ1ZjM1MmFhNSA9IEwubWFya2VyKAogICAgICAgICAgICAgICAgWzQwLjcyMTEzODc0OTcxNzE2LCAtMTE2LjA4Mzk0NDkyNjU2ODM1XSwKICAgICAgICAgICAgICAgIHt9CiAgICAgICAgICAgICkuYWRkVG8obWFwXzM0NDJlY2MzMTYyZTQyMmFhZDM1NTFhZTU4NDcxMzIwKTsKICAgICAgICAKICAgIAogICAgICAgICAgICB2YXIgbWFya2VyXzYzMzNjOWI2NTMxZDQwM2E4NzJmMjgwMDRkZDBjZjE0ID0gTC5tYXJrZXIoCiAgICAgICAgICAgICAgICBbNDAuODI0MDUwMTA5MjUwMTQ1LCAtMTE1Ljc2NjYxMjM5ODgyOTc2XSwKICAgICAgICAgICAgICAgIHt9CiAgICAgICAgICAgICkuYWRkVG8obWFwXzM0NDJlY2MzMTYyZTQyMmFhZDM1NTFhZTU4NDcxMzIwKTsKICAgICAgICAKICAgIAogICAgICAgICAgICB2YXIgbWFya2VyXzMxMGY3OGIzMGJlNTQ1MWQ5NGViNGEzN2JhYmYyYzQ4ID0gTC5tYXJrZXIoCiAgICAgICAgICAgICAgICBbNDEuMDY3Mjc2Mjg3NDg2NzM1LCAtMTE1LjI2NDUwMzc3NzA0NDkyXSwKICAgICAgICAgICAgICAgIHt9CiAgICAgICAgICAgICkuYWRkVG8obWFwXzM0NDJlY2MzMTYyZTQyMmFhZDM1NTFhZTU4NDcxMzIwKTsKICAgICAgICAKICAgIAogICAgICAgICAgICB2YXIgbWFya2VyX2MwY2MyMmE3NmQzMDRjZTNhNjJiMGVlMTNkMDNkMjU0ID0gTC5tYXJrZXIoCiAgICAgICAgICAgICAgICBbNDEuMTMxMDgxNjM3MjM2OTYsIC0xMTUuMTEzNTIyMDEyOTMzMV0sCiAgICAgICAgICAgICAgICB7fQogICAgICAgICAgICApLmFkZFRvKG1hcF8zNDQyZWNjMzE2MmU0MjJhYWQzNTUxYWU1ODQ3MTMyMCk7CiAgICAgICAgCiAgICAKICAgICAgICAgICAgdmFyIG1hcmtlcl8xNzNhYmQ3MGIyMTY0MTMyOGRlMTUwYmVjNDZlZDNjOSA9IEwubWFya2VyKAogICAgICAgICAgICAgICAgWzQwLjgxNjExMzgxMjU3ODM2NSwgLTExNC43MDIyMjA5NzA1NTc0NV0sCiAgICAgICAgICAgICAgICB7fQogICAgICAgICAgICApLmFkZFRvKG1hcF8zNDQyZWNjMzE2MmU0MjJhYWQzNTUxYWU1ODQ3MTMyMCk7CiAgICAgICAgCiAgICAKICAgICAgICAgICAgdmFyIG1hcmtlcl8yMzkwZTJiOGJlMWU0OWJjOTY5MzRlMTBhMTViOTUyOSA9IEwubWFya2VyKAogICAgICAgICAgICAgICAgWzQwLjkyMzA1NDEzNTI2MzM2LCAtMTE0LjI4MzQ0ODc3MDIxOTVdLAogICAgICAgICAgICAgICAge30KICAgICAgICAgICAgKS5hZGRUbyhtYXBfMzQ0MmVjYzMxNjJlNDIyYWFkMzU1MWFlNTg0NzEzMjApOwogICAgICAgIAogICAgCiAgICAgICAgICAgIHZhciBtYXJrZXJfN2E1ZDFmOGNiYmJjNGQ1OTljMWRkMGExYmQ3ODJmNzIgPSBMLm1hcmtlcigKICAgICAgICAgICAgICAgIFs0MC44MDM4MTQxNDI0MzMwMywgLTExNC4yMjE2NTk3OTkxMTQ5Ml0sCiAgICAgICAgICAgICAgICB7fQogICAgICAgICAgICApLmFkZFRvKG1hcF8zNDQyZWNjMzE2MmU0MjJhYWQzNTUxYWU1ODQ3MTMyMCk7CiAgICAgICAgCiAgICAKICAgICAgICAgICAgdmFyIG1hcmtlcl83ZjAzMGEwMDI0ZTM0ZTY2YWQ0MWE5NzZkZmYwMTc2NSA9IEwubWFya2VyKAogICAgICAgICAgICAgICAgWzQwLjczMDQ5NTUxMDk5NTMyLCAtMTEzLjY0NTU1OTQxMDU1NzY3XSwKICAgICAgICAgICAgICAgIHt9CiAgICAgICAgICAgICkuYWRkVG8obWFwXzM0NDJlY2MzMTYyZTQyMmFhZDM1NTFhZTU4NDcxMzIwKTsKICAgICAgICAKICAgIAogICAgICAgICAgICB2YXIgbWFya2VyXzM0MDU4OTQ5M2RmYTQ4MjBhMGY5ZmFkMTU1NTZiMzgzID0gTC5tYXJrZXIoCiAgICAgICAgICAgICAgICBbNDAuODM3OTQ4MTk3Mjc3MDY1LCAtMTEyLjg3MzY4NDQ5MTkwOTYzXSwKICAgICAgICAgICAgICAgIHt9CiAgICAgICAgICAgICkuYWRkVG8obWFwXzM0NDJlY2MzMTYyZTQyMmFhZDM1NTFhZTU4NDcxMzIwKTsKICAgICAgICAKICAgIAogICAgICAgICAgICB2YXIgbWFya2VyXzRlZGNlZThjOTYxMDRjYmE5NzE0MDEwMDVhMjhkODdiID0gTC5tYXJrZXIoCiAgICAgICAgICAgICAgICBbNDEuMDE3MDgyMzIwMzMyOTYsIC0xMTcuNTU1NDM0MzI1NTI4OThdLAogICAgICAgICAgICAgICAge30KICAgICAgICAgICAgKS5hZGRUbyhtYXBfMzQ0MmVjYzMxNjJlNDIyYWFkMzU1MWFlNTg0NzEzMjApOwogICAgICAgIAogICAgCiAgICAgICAgICAgIHZhciBtYXJrZXJfMjcxZWI0YWFlNzI0NGE0ZGIzOTY0ZmUxYTNhYjU4YTAgPSBMLm1hcmtlcigKICAgICAgICAgICAgICAgIFs0MC42NTAxMDk4NzM3MTAwODYsIC0xMTYuOTQzOTQwODM0OTAxOThdLAogICAgICAgICAgICAgICAge30KICAgICAgICAgICAgKS5hZGRUbyhtYXBfMzQ0MmVjYzMxNjJlNDIyYWFkMzU1MWFlNTg0NzEzMjApOwogICAgICAgIAogICAgCiAgICAgICAgICAgIHZhciBtYXJrZXJfYjVjODc4NWUxMGU1NDFlZDk4YWQyNzdhYTJlZmFjOGQgPSBMLm1hcmtlcigKICAgICAgICAgICAgICAgIFs0MC42OTkxMDQxNDc4NjE4MSwgLTExNi41NTMyMjYwNTM1OTk0N10sCiAgICAgICAgICAgICAgICB7fQogICAgICAgICAgICApLmFkZFRvKG1hcF8zNDQyZWNjMzE2MmU0MjJhYWQzNTUxYWU1ODQ3MTMyMCk7CiAgICAgICAgCiAgICAKICAgICAgICAgICAgdmFyIG1hcmtlcl82OGZkMTM3YTBkZWE0OWJiOTJmMDEzNjQxMjg0MGY3MyA9IEwubWFya2VyKAogICAgICAgICAgICAgICAgWzQwLjU3OTQ5MDMyOTkzMzcyLCAtMTE2LjI3ODQyNDQ0NDQ0NzI0XSwKICAgICAgICAgICAgICAgIHt9CiAgICAgICAgICAgICkuYWRkVG8obWFwXzM0NDJlY2MzMTYyZTQyMmFhZDM1NTFhZTU4NDcxMzIwKTsKICAgICAgICAKPC9zY3JpcHQ+\" style=\"position:absolute;width:100%;height:100%;left:0;top:0;border:none !important;\" allowfullscreen webkitallowfullscreen mozallowfullscreen></iframe></div></div>"
      ],
      "text/plain": [
       "<folium.folium.Map at 0x11d574710>"
      ]
     },
     "execution_count": 9,
     "metadata": {},
     "output_type": "execute_result"
    }
   ],
   "source": [
    "'''\n",
    "Plot markers\n",
    "'''\n",
    "\n",
    "rows = df.index.tolist()\n",
    "\n",
    "marker_points = []\n",
    "for row in rows:\n",
    "    marker_points.append((df.iloc[row].Latitude,df.iloc[row].Longitude))\n",
    "\n",
    "# Set map centerpoint\n",
    "coords = marker_points[int((len(marker_points)/2))]\n",
    "       \n",
    "# Define map\n",
    "m = folium.Map(\n",
    "    location = coords,\n",
    "    zoom_start = 7\n",
    ")\n",
    "  \n",
    "# Add points    \n",
    "for mp in marker_points:\n",
    "    folium.Marker(mp).add_to(m)\n",
    "m"
   ]
  },
  {
   "cell_type": "code",
   "execution_count": 10,
   "metadata": {},
   "outputs": [
    {
     "data": {
      "application/vnd.jupyter.widget-view+json": {
       "model_id": "c7e78c4eb36d4e38a1624c4f409367c7",
       "version_major": 2,
       "version_minor": 0
      },
      "text/plain": [
       "Figure(layout=FigureLayout(height='800px', width='100%'))"
      ]
     },
     "metadata": {},
     "output_type": "display_data"
    }
   ],
   "source": [
    "'''\n",
    "Get satellite preview for image\n",
    "'''\n",
    "\n",
    "row = 49\n",
    "\n",
    "figure_layout = {\n",
    "    'width': '100%',\n",
    "    'height': '800px'\n",
    "}\n",
    "fig = gmaps.figure(center = (df.iloc[row].Latitude,df.iloc[row].Longitude), zoom_level = 19,map_type='SATELLITE',layout=figure_layout)\n",
    "fig"
   ]
  },
  {
   "cell_type": "code",
   "execution_count": 10,
   "metadata": {},
   "outputs": [],
   "source": [
    "'''\n",
    "Get all images \n",
    "'''\n",
    "\n",
    "root = os.path.dirname(os.path.abspath('Africa.ipynb'))\n",
    "image_folder = root[:-9]+output_folder[3:]\n",
    "image_folder\n",
    "\n",
    "url = 'https://maps.googleapis.com/maps/api/staticmap?'\n",
    "rows = df.index.tolist()\n",
    "for i in range(0,len(rows)):\n",
    "    row = df.iloc[i]\n",
    "    center = str(row.Latitude)+','+str(row.Longitude)\n",
    "    payload = {\n",
    "        'center': center, \n",
    "        'zoom': 19,\n",
    "        'size': '640x640',\n",
    "        'scale': 2,\n",
    "        'format': 'png32',\n",
    "        'maptype': 'satellite',\n",
    "        'key': token\n",
    "    }\n",
    "    \n",
    "    r = requests.get(url,params=payload,stream=True)\n",
    "\n",
    "    name = df.iloc[i]['Name']\n",
    "    filename = image_folder+name+'.png'\n",
    "    if r.status_code == 200:\n",
    "        with open(filename, 'wb') as f:\n",
    "            r.raw.decode_content = True\n",
    "            shutil.copyfileobj(r.raw, f) "
   ]
  },
  {
   "cell_type": "code",
   "execution_count": null,
   "metadata": {},
   "outputs": [],
   "source": []
  }
 ],
 "metadata": {
  "kernelspec": {
   "display_name": "Python 3",
   "language": "python",
   "name": "python3"
  },
  "language_info": {
   "codemirror_mode": {
    "name": "ipython",
    "version": 3
   },
   "file_extension": ".py",
   "mimetype": "text/x-python",
   "name": "python",
   "nbconvert_exporter": "python",
   "pygments_lexer": "ipython3",
   "version": "3.7.3"
  }
 },
 "nbformat": 4,
 "nbformat_minor": 2
}
