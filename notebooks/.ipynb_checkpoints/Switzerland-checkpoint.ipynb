{
 "cells": [
  {
   "cell_type": "code",
   "execution_count": 1,
   "metadata": {},
   "outputs": [],
   "source": [
    "import pandas as pd\n",
    "import geopandas as gpd\n",
    "import matplotlib.pyplot as plt\n",
    "from shapely.geometry import mapping\n",
    "import folium\n",
    "import googlemaps\n",
    "import gmaps\n",
    "import os\n",
    "import requests\n",
    "import shutil\n",
    "from IPython.display import Image"
   ]
  },
  {
   "cell_type": "code",
   "execution_count": 2,
   "metadata": {},
   "outputs": [],
   "source": [
    "with open('../resources/key.txt') as f:\n",
    "    token = f.read()\n",
    "    \n",
    "gmaps.configure(api_key = token)"
   ]
  },
  {
   "cell_type": "code",
   "execution_count": 24,
   "metadata": {},
   "outputs": [],
   "source": [
    "input_folder = '../data/railways/swissrail/'\n",
    "input_file = input_folder+'netw_1.shp'\n",
    "\n",
    "output_folder = '../data/output_images/Switzerland/'\n",
    "output_csv = output_folder+'SWZ.csv'\n",
    "\n",
    "update_folder = output_folder+'set_3/'"
   ]
  },
  {
   "cell_type": "markdown",
   "metadata": {},
   "source": [
    "#### Import routes"
   ]
  },
  {
   "cell_type": "code",
   "execution_count": 4,
   "metadata": {},
   "outputs": [
    {
     "data": {
      "text/html": [
       "<div>\n",
       "<style scoped>\n",
       "    .dataframe tbody tr th:only-of-type {\n",
       "        vertical-align: middle;\n",
       "    }\n",
       "\n",
       "    .dataframe tbody tr th {\n",
       "        vertical-align: top;\n",
       "    }\n",
       "\n",
       "    .dataframe thead th {\n",
       "        text-align: right;\n",
       "    }\n",
       "</style>\n",
       "<table border=\"1\" class=\"dataframe\">\n",
       "  <thead>\n",
       "    <tr style=\"text-align: right;\">\n",
       "      <th></th>\n",
       "      <th>OBJECTID</th>\n",
       "      <th>xtf_id</th>\n",
       "      <th>Datenherr_</th>\n",
       "      <th>Datenher_1</th>\n",
       "      <th>Nummer</th>\n",
       "      <th>Name</th>\n",
       "      <th>BeginnGuel</th>\n",
       "      <th>EndeGuelti</th>\n",
       "      <th>Bearbeitun</th>\n",
       "      <th>Stand</th>\n",
       "      <th>SHAPE_Leng</th>\n",
       "      <th>geometry</th>\n",
       "    </tr>\n",
       "  </thead>\n",
       "  <tbody>\n",
       "    <tr>\n",
       "      <th>0</th>\n",
       "      <td>1.0</td>\n",
       "      <td>ch14uvag00086875</td>\n",
       "      <td>1</td>\n",
       "      <td>SBB CFF FFS</td>\n",
       "      <td>702</td>\n",
       "      <td>Turgi - Koblenz - Waldshut</td>\n",
       "      <td>2014/09/03 00:00:00.000</td>\n",
       "      <td>None</td>\n",
       "      <td>2017/12/12 00:00:00.000</td>\n",
       "      <td>2017/12/10 00:00:00.000</td>\n",
       "      <td>15252.174997</td>\n",
       "      <td>LINESTRING (8.253483954124018 47.4918094079282...</td>\n",
       "    </tr>\n",
       "    <tr>\n",
       "      <th>1</th>\n",
       "      <td>2.0</td>\n",
       "      <td>ch14uvag00086926</td>\n",
       "      <td>1</td>\n",
       "      <td>SBB CFF FFS</td>\n",
       "      <td>824</td>\n",
       "      <td>Romanshorn - Konstanz</td>\n",
       "      <td>2014/09/03 00:00:00.000</td>\n",
       "      <td>None</td>\n",
       "      <td>2017/12/12 00:00:00.000</td>\n",
       "      <td>2017/12/10 00:00:00.000</td>\n",
       "      <td>18733.681101</td>\n",
       "      <td>LINESTRING (9.379483396212201 47.5655289670994...</td>\n",
       "    </tr>\n",
       "    <tr>\n",
       "      <th>2</th>\n",
       "      <td>3.0</td>\n",
       "      <td>ch14uvag00090328</td>\n",
       "      <td>122</td>\n",
       "      <td>BLT</td>\n",
       "      <td>L004</td>\n",
       "      <td>Reinach BL Süd - Reinach BL Süd</td>\n",
       "      <td>2014/10/01 00:00:00.000</td>\n",
       "      <td>None</td>\n",
       "      <td>2017/12/12 00:00:00.000</td>\n",
       "      <td>2017/12/10 00:00:00.000</td>\n",
       "      <td>118.817126</td>\n",
       "      <td>LINESTRING (7.591947809955224 47.4851590292389...</td>\n",
       "    </tr>\n",
       "    <tr>\n",
       "      <th>3</th>\n",
       "      <td>4.0</td>\n",
       "      <td>ch14uvag00086829</td>\n",
       "      <td>1</td>\n",
       "      <td>SBB CFF FFS</td>\n",
       "      <td>540</td>\n",
       "      <td>Olten - Wöschnau</td>\n",
       "      <td>2014/09/03 00:00:00.000</td>\n",
       "      <td>None</td>\n",
       "      <td>2017/12/12 00:00:00.000</td>\n",
       "      <td>2017/12/10 00:00:00.000</td>\n",
       "      <td>11579.008319</td>\n",
       "      <td>LINESTRING (7.90783042339883 47.35192256271322...</td>\n",
       "    </tr>\n",
       "    <tr>\n",
       "      <th>4</th>\n",
       "      <td>5.0</td>\n",
       "      <td>ch14uvag00067525</td>\n",
       "      <td>183</td>\n",
       "      <td>WSB</td>\n",
       "      <td>644</td>\n",
       "      <td>Aarau - Menziken</td>\n",
       "      <td>2009/01/01 00:00:00.000</td>\n",
       "      <td>None</td>\n",
       "      <td>2017/12/12 00:00:00.000</td>\n",
       "      <td>2017/12/10 00:00:00.000</td>\n",
       "      <td>22749.783132</td>\n",
       "      <td>LINESTRING (8.052739943168765 47.3908523444561...</td>\n",
       "    </tr>\n",
       "  </tbody>\n",
       "</table>\n",
       "</div>"
      ],
      "text/plain": [
       "   OBJECTID            xtf_id Datenherr_   Datenher_1 Nummer  \\\n",
       "0       1.0  ch14uvag00086875          1  SBB CFF FFS    702   \n",
       "1       2.0  ch14uvag00086926          1  SBB CFF FFS    824   \n",
       "2       3.0  ch14uvag00090328        122          BLT   L004   \n",
       "3       4.0  ch14uvag00086829          1  SBB CFF FFS    540   \n",
       "4       5.0  ch14uvag00067525        183          WSB    644   \n",
       "\n",
       "                              Name               BeginnGuel EndeGuelti  \\\n",
       "0       Turgi - Koblenz - Waldshut  2014/09/03 00:00:00.000       None   \n",
       "1            Romanshorn - Konstanz  2014/09/03 00:00:00.000       None   \n",
       "2  Reinach BL Süd - Reinach BL Süd  2014/10/01 00:00:00.000       None   \n",
       "3                 Olten - Wöschnau  2014/09/03 00:00:00.000       None   \n",
       "4                 Aarau - Menziken  2009/01/01 00:00:00.000       None   \n",
       "\n",
       "                Bearbeitun                    Stand    SHAPE_Leng  \\\n",
       "0  2017/12/12 00:00:00.000  2017/12/10 00:00:00.000  15252.174997   \n",
       "1  2017/12/12 00:00:00.000  2017/12/10 00:00:00.000  18733.681101   \n",
       "2  2017/12/12 00:00:00.000  2017/12/10 00:00:00.000    118.817126   \n",
       "3  2017/12/12 00:00:00.000  2017/12/10 00:00:00.000  11579.008319   \n",
       "4  2017/12/12 00:00:00.000  2017/12/10 00:00:00.000  22749.783132   \n",
       "\n",
       "                                            geometry  \n",
       "0  LINESTRING (8.253483954124018 47.4918094079282...  \n",
       "1  LINESTRING (9.379483396212201 47.5655289670994...  \n",
       "2  LINESTRING (7.591947809955224 47.4851590292389...  \n",
       "3  LINESTRING (7.90783042339883 47.35192256271322...  \n",
       "4  LINESTRING (8.052739943168765 47.3908523444561...  "
      ]
     },
     "execution_count": 4,
     "metadata": {},
     "output_type": "execute_result"
    }
   ],
   "source": [
    "routes = gpd.read_file(input_file)\n",
    "\n",
    "routes = routes.to_crs({'init' :'epsg:4326'})\n",
    "\n",
    "routes.head()"
   ]
  },
  {
   "cell_type": "code",
   "execution_count": 5,
   "metadata": {},
   "outputs": [
    {
     "data": {
      "text/plain": [
       "(454, 12)"
      ]
     },
     "execution_count": 5,
     "metadata": {},
     "output_type": "execute_result"
    }
   ],
   "source": [
    "routes.shape"
   ]
  },
  {
   "cell_type": "markdown",
   "metadata": {},
   "source": [
    "#### Get points from routes"
   ]
  },
  {
   "cell_type": "code",
   "execution_count": 8,
   "metadata": {},
   "outputs": [
    {
     "name": "stdout",
     "output_type": "stream",
     "text": [
      "457696 points\n"
     ]
    }
   ],
   "source": [
    "'''\n",
    "Get all points\n",
    "'''\n",
    "\n",
    "points = []\n",
    "rows = routes.index.tolist()\n",
    "\n",
    "geom_types = routes['geometry'].tolist()\n",
    "for i in rows:\n",
    "    try:\n",
    "        route = routes.loc[i]\n",
    "        if route.geometry.geom_type == 'LineString':\n",
    "            g = route.geometry\n",
    "            sec_points = mapping(g)[\"coordinates\"]\n",
    "            for j in sec_points:\n",
    "                tmp = (j[0],j[1])\n",
    "                points.append(tmp)\n",
    "        elif route.geometry.geom_type == 'MultiLineString':\n",
    "            g = route.geometry\n",
    "            tmp = mapping(g)[\"coordinates\"]\n",
    "            for sec_points in tmp:\n",
    "                for j in sec_points:\n",
    "                    tmp = (j[0],j[1])\n",
    "                    points.append(tmp)\n",
    "    except Exception as e:\n",
    "        print(\"Skipped route number\",i,'because',e)        \n",
    "        \n",
    "    \n",
    "print(len(points),'points')   "
   ]
  },
  {
   "cell_type": "code",
   "execution_count": 12,
   "metadata": {},
   "outputs": [
    {
     "data": {
      "text/html": [
       "<div>\n",
       "<style scoped>\n",
       "    .dataframe tbody tr th:only-of-type {\n",
       "        vertical-align: middle;\n",
       "    }\n",
       "\n",
       "    .dataframe tbody tr th {\n",
       "        vertical-align: top;\n",
       "    }\n",
       "\n",
       "    .dataframe thead th {\n",
       "        text-align: right;\n",
       "    }\n",
       "</style>\n",
       "<table border=\"1\" class=\"dataframe\">\n",
       "  <thead>\n",
       "    <tr style=\"text-align: right;\">\n",
       "      <th></th>\n",
       "      <th>Name</th>\n",
       "      <th>Longitude</th>\n",
       "      <th>Latitude</th>\n",
       "      <th>Catenary</th>\n",
       "    </tr>\n",
       "  </thead>\n",
       "  <tbody>\n",
       "    <tr>\n",
       "      <th>0</th>\n",
       "      <td>9.379483396212201_47.565528967099404</td>\n",
       "      <td>9.379483</td>\n",
       "      <td>47.565529</td>\n",
       "      <td>1</td>\n",
       "    </tr>\n",
       "    <tr>\n",
       "      <th>1</th>\n",
       "      <td>9.367078340136002_47.57620856433524</td>\n",
       "      <td>9.367078</td>\n",
       "      <td>47.576209</td>\n",
       "      <td>1</td>\n",
       "    </tr>\n",
       "    <tr>\n",
       "      <th>2</th>\n",
       "      <td>9.347995664070325_47.583125270732666</td>\n",
       "      <td>9.347996</td>\n",
       "      <td>47.583125</td>\n",
       "      <td>1</td>\n",
       "    </tr>\n",
       "    <tr>\n",
       "      <th>3</th>\n",
       "      <td>9.32926653044524_47.59035302006366</td>\n",
       "      <td>9.329267</td>\n",
       "      <td>47.590353</td>\n",
       "      <td>1</td>\n",
       "    </tr>\n",
       "    <tr>\n",
       "      <th>4</th>\n",
       "      <td>9.311405490706957_47.598623942532434</td>\n",
       "      <td>9.311405</td>\n",
       "      <td>47.598624</td>\n",
       "      <td>1</td>\n",
       "    </tr>\n",
       "  </tbody>\n",
       "</table>\n",
       "</div>"
      ],
      "text/plain": [
       "                                   Name  Longitude   Latitude  Catenary\n",
       "0  9.379483396212201_47.565528967099404   9.379483  47.565529         1\n",
       "1   9.367078340136002_47.57620856433524   9.367078  47.576209         1\n",
       "2  9.347995664070325_47.583125270732666   9.347996  47.583125         1\n",
       "3    9.32926653044524_47.59035302006366   9.329267  47.590353         1\n",
       "4  9.311405490706957_47.598623942532434   9.311405  47.598624         1"
      ]
     },
     "execution_count": 12,
     "metadata": {},
     "output_type": "execute_result"
    }
   ],
   "source": [
    "'''\n",
    "Open csv with current points\n",
    "'''\n",
    "\n",
    "curr_df = pd.read_csv(output_csv)\n",
    "# curr_df['Catenary'] = curr_df['Catenary'].astype(int)\n",
    "curr_df.head()"
   ]
  },
  {
   "cell_type": "code",
   "execution_count": 21,
   "metadata": {},
   "outputs": [
    {
     "name": "stdout",
     "output_type": "stream",
     "text": [
      "115\n"
     ]
    }
   ],
   "source": [
    "'''\n",
    "Get subselection of points excuding current points\n",
    "'''\n",
    "rows = curr_df.index.tolist()\n",
    "curr_points = []\n",
    "for row in rows:\n",
    "    tmp = curr_df.iloc[row].Name\n",
    "    space = tmp.find('_') \n",
    "    longitude = tmp[:space]\n",
    "    latitude = tmp[space+1:]\n",
    "    curr_points.append((longitude,latitude))\n",
    "\n",
    "route_points = []\n",
    "for point in range(0,len(points),4000):\n",
    "    tmp = points[point]\n",
    "    if tmp not in curr_points:\n",
    "        route_points.append(tmp)\n",
    "\n",
    "print(len(route_points))"
   ]
  },
  {
   "cell_type": "markdown",
   "metadata": {},
   "source": [
    "#### Create working dataset"
   ]
  },
  {
   "cell_type": "code",
   "execution_count": 26,
   "metadata": {},
   "outputs": [
    {
     "data": {
      "text/html": [
       "<div>\n",
       "<style scoped>\n",
       "    .dataframe tbody tr th:only-of-type {\n",
       "        vertical-align: middle;\n",
       "    }\n",
       "\n",
       "    .dataframe tbody tr th {\n",
       "        vertical-align: top;\n",
       "    }\n",
       "\n",
       "    .dataframe thead th {\n",
       "        text-align: right;\n",
       "    }\n",
       "</style>\n",
       "<table border=\"1\" class=\"dataframe\">\n",
       "  <thead>\n",
       "    <tr style=\"text-align: right;\">\n",
       "      <th></th>\n",
       "      <th>Name</th>\n",
       "      <th>Longitude</th>\n",
       "      <th>Latitude</th>\n",
       "    </tr>\n",
       "  </thead>\n",
       "  <tbody>\n",
       "    <tr>\n",
       "      <th>0</th>\n",
       "      <td>8.253483954124018_47.49180940792827</td>\n",
       "      <td>8.253484</td>\n",
       "      <td>47.491809</td>\n",
       "    </tr>\n",
       "    <tr>\n",
       "      <th>1</th>\n",
       "      <td>8.748111929852765_46.70726441960249</td>\n",
       "      <td>8.748112</td>\n",
       "      <td>46.707264</td>\n",
       "    </tr>\n",
       "    <tr>\n",
       "      <th>2</th>\n",
       "      <td>9.561373548090483_47.379105526919325</td>\n",
       "      <td>9.561374</td>\n",
       "      <td>47.379106</td>\n",
       "    </tr>\n",
       "    <tr>\n",
       "      <th>3</th>\n",
       "      <td>7.958556644812713_47.54001774274571</td>\n",
       "      <td>7.958557</td>\n",
       "      <td>47.540018</td>\n",
       "    </tr>\n",
       "    <tr>\n",
       "      <th>4</th>\n",
       "      <td>7.9358984000743975_46.721361018242874</td>\n",
       "      <td>7.935898</td>\n",
       "      <td>46.721361</td>\n",
       "    </tr>\n",
       "  </tbody>\n",
       "</table>\n",
       "</div>"
      ],
      "text/plain": [
       "                                    Name  Longitude   Latitude\n",
       "0    8.253483954124018_47.49180940792827   8.253484  47.491809\n",
       "1    8.748111929852765_46.70726441960249   8.748112  46.707264\n",
       "2   9.561373548090483_47.379105526919325   9.561374  47.379106\n",
       "3    7.958556644812713_47.54001774274571   7.958557  47.540018\n",
       "4  7.9358984000743975_46.721361018242874   7.935898  46.721361"
      ]
     },
     "execution_count": 26,
     "metadata": {},
     "output_type": "execute_result"
    }
   ],
   "source": [
    "'''\n",
    "Create dataframe\n",
    "'''\n",
    "\n",
    "df = pd.DataFrame(route_points, columns=['Longitude','Latitude'])\n",
    "\n",
    "tmp = list(df.Latitude.tolist())\n",
    "names = []\n",
    "for i in range(0,len(tmp)):\n",
    "    name = str(df.iloc[i].Longitude)+'_'+str(df.iloc[i].Latitude)\n",
    "    names.append(name)\n",
    "\n",
    "df['Name'] = names\n",
    "\n",
    "columns = ['Name','Longitude','Latitude']\n",
    "df= df[columns]\n",
    "\n",
    "df.head()"
   ]
  },
  {
   "cell_type": "code",
   "execution_count": 24,
   "metadata": {},
   "outputs": [],
   "source": [
    "'''\n",
    "Export points\n",
    "'''\n",
    "\n",
    "# Update\n",
    "with open(output_csv, 'a') as f:\n",
    "    df.to_csv(f, header=False,index=None)\n",
    "\n",
    "# Write new\n",
    "# df.to_csv(output_csv,header=True,index=None)\n",
    "# df.to_csv('tmp.csv',header=True,index=None)"
   ]
  },
  {
   "cell_type": "code",
   "execution_count": 5,
   "metadata": {
    "scrolled": false
   },
   "outputs": [
    {
     "data": {
      "text/html": [
       "<div style=\"width:100%;\"><div style=\"position:relative;width:100%;height:0;padding-bottom:60%;\"><iframe src=\"data:text/html;charset=utf-8;base64,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\" style=\"position:absolute;width:100%;height:100%;left:0;top:0;border:none !important;\" allowfullscreen webkitallowfullscreen mozallowfullscreen></iframe></div></div>"
      ],
      "text/plain": [
       "<folium.folium.Map at 0x116e13668>"
      ]
     },
     "execution_count": 5,
     "metadata": {},
     "output_type": "execute_result"
    }
   ],
   "source": [
    "'''\n",
    "Plot markers\n",
    "'''\n",
    "\n",
    "rows = df.index.tolist()\n",
    "\n",
    "marker_points = []\n",
    "for row in rows:\n",
    "    marker_points.append((df.iloc[row].Latitude,df.iloc[row].Longitude))\n",
    "\n",
    "# Set map centerpoint\n",
    "coords = marker_points[int((len(marker_points)/2))]\n",
    "       \n",
    "# Define map\n",
    "m = folium.Map(\n",
    "    location = coords,\n",
    "    zoom_start = 7\n",
    ")\n",
    "  \n",
    "# Add points    \n",
    "for mp in marker_points:\n",
    "    folium.Marker(mp).add_to(m)\n",
    "m"
   ]
  },
  {
   "cell_type": "code",
   "execution_count": null,
   "metadata": {},
   "outputs": [],
   "source": [
    "'''\n",
    "Get satellite preview for image\n",
    "'''\n",
    "\n",
    "row = 1\n",
    "\n",
    "figure_layout = {\n",
    "    'width': '100%',\n",
    "    'height': '800px'\n",
    "}\n",
    "fig = gmaps.figure(center = (df.iloc[row].Latitude,df.iloc[row].Longitude), zoom_level = 19,map_type='SATELLITE',layout=figure_layout)\n",
    "fig"
   ]
  },
  {
   "cell_type": "code",
   "execution_count": 6,
   "metadata": {},
   "outputs": [],
   "source": [
    "'''\n",
    "Get all images \n",
    "'''\n",
    "\n",
    "root = os.path.dirname(os.path.abspath('Africa.ipynb'))\n",
    "image_folder = root[:-9]+update_folder[3:]\n",
    "image_folder\n",
    "\n",
    "url = 'https://maps.googleapis.com/maps/api/staticmap?'\n",
    "rows = df.index.tolist()\n",
    "for i in range(0,len(rows)):\n",
    "    row = df.iloc[i]\n",
    "    center = str(row.Latitude)+','+str(row.Longitude)\n",
    "    payload = {\n",
    "        'center': center, \n",
    "        'zoom': 20,\n",
    "        'size': '640x640',\n",
    "        'scale': 2,\n",
    "        'format': 'png32',\n",
    "        'maptype': 'satellite',\n",
    "        'key': token\n",
    "    }\n",
    "    \n",
    "    r = requests.get(url,params=payload,stream=True)\n",
    "\n",
    "    name = df.iloc[i]['Name']\n",
    "    filename = image_folder+name+'.png'\n",
    "    if r.status_code == 200:\n",
    "        with open(filename, 'wb') as f:\n",
    "            r.raw.decode_content = True\n",
    "            shutil.copyfileobj(r.raw, f) "
   ]
  }
 ],
 "metadata": {
  "kernelspec": {
   "display_name": "Python 3",
   "language": "python",
   "name": "python3"
  },
  "language_info": {
   "codemirror_mode": {
    "name": "ipython",
    "version": 3
   },
   "file_extension": ".py",
   "mimetype": "text/x-python",
   "name": "python",
   "nbconvert_exporter": "python",
   "pygments_lexer": "ipython3",
   "version": "3.7.3"
  }
 },
 "nbformat": 4,
 "nbformat_minor": 2
}
