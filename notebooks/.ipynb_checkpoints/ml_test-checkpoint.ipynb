{
 "cells": [
  {
   "cell_type": "markdown",
   "metadata": {},
   "source": [
    "#### Setup"
   ]
  },
  {
   "cell_type": "code",
   "execution_count": 1,
   "metadata": {},
   "outputs": [],
   "source": [
    "import numpy as np\n",
    "import pandas as pd\n",
    "import matplotlib.pyplot as plt\n",
    "from PIL import Image\n",
    "import json\n",
    "import sys\n",
    "from datetime import datetime\n",
    "\n",
    "from sklearn.svm import SVC\n",
    "from sklearn.naive_bayes import GaussianNB\n",
    "from sklearn.neighbors import KNeighborsClassifier\n",
    "from sklearn.tree import DecisionTreeClassifier\n",
    "\n",
    "from sklearn.model_selection import train_test_split\n",
    "from sklearn.metrics import confusion_matrix\n",
    "from sklearn.metrics import classification_report "
   ]
  },
  {
   "cell_type": "code",
   "execution_count": 2,
   "metadata": {},
   "outputs": [],
   "source": [
    "def WriteJSON(obj,filename):\n",
    "    with open(filename, 'w+') as outfile:\n",
    "        try:\n",
    "            obj_json = json.dumps(obj, sort_keys=True, indent=4,default=str)\n",
    "            outfile.write(obj_json)\n",
    "        except Exception as e:\n",
    "            print(e, file=sys.stderr)\n",
    "            print('File not written.')"
   ]
  },
  {
   "cell_type": "code",
   "execution_count": 3,
   "metadata": {},
   "outputs": [],
   "source": [
    "def ReadJSON(filename):\n",
    "    obj = []\n",
    "    try: \n",
    "        with open(filename, 'r') as infile:\n",
    "            obj = json.load(infile)\n",
    "    except Exception as e:\n",
    "        print(e, file=sys.stderr)\n",
    "        print('File not found.')\n",
    "        \n",
    "    return obj"
   ]
  },
  {
   "cell_type": "code",
   "execution_count": 4,
   "metadata": {},
   "outputs": [],
   "source": [
    "def FitAndScoreCLA(features,labels,classifiers,testSize=0.20):\n",
    "\n",
    "    X_train, X_test, y_train, y_test = train_test_split(features,labels,test_size = testSize, random_state=42)\n",
    "    \n",
    "    clfs = []\n",
    "    for classifier in classifiers:\n",
    "        tmp = {}\n",
    "        clf = classifier['Method']\n",
    "        clf.fit(X_train, y_train)\n",
    "        \n",
    "        y_pred = clf.predict(X_test)\n",
    "        \n",
    "        # Get report and matrix for display\n",
    "        print('Classification report for  -',classifier['Name'])\n",
    "        print('-----------------------------------------------------------------------------------------------')\n",
    "        print(\" %s:\\n%s\\n\"% (clf, classification_report(y_test, y_pred)))\n",
    "        \n",
    "        tn, fp, fn, tp = confusion_matrix(y_test,y_pred).ravel()\n",
    "        print(classifier['Name'],'Confusion Matrix')\n",
    "        print('   P0 \\t P1 ')\n",
    "        print('A0',tn,'\\t',fp)\n",
    "        print('A1',fn,'\\t',tp)\n",
    "        print('\\n')\n",
    "        \n",
    "        \n",
    "        # Get report and matrix for file\n",
    "        clr = classification_report(y_test, y_pred,output_dict=True)\n",
    "        cnm = list(confusion_matrix(y_test,y_pred))\n",
    "        \n",
    "        tmp[classifier['Name']] = {'Report':clr,\n",
    "                                  'Matrix':cnm}\n",
    "        clfs.append(tmp)  \n",
    "        \n",
    "    # Open results file, append new result, write to file\n",
    "    resultsObj = ReadJSON(results_file)\n",
    "    \n",
    "    now = datetime.now()\n",
    "    date_time = now.strftime(\"%m/%d/%Y, %H:%M:%S\")\n",
    "    \n",
    "    currResults = {'Description':description,\n",
    "                   'classifiers':clfs,\n",
    "                   'Run Time':date_time,\n",
    "                   'Sample Size':sample_size,\n",
    "                   'Image Resolution':img_size,\n",
    "                   'Counts':{'0':dict(df.Catenary.value_counts())[0],'1':dict(df.Catenary.value_counts())[1]},\n",
    "              }\n",
    "    \n",
    "    resultsObj.append(currResults)\n",
    "    WriteJSON(resultsObj,results_file)"
   ]
  },
  {
   "cell_type": "markdown",
   "metadata": {},
   "source": [
    "### Start Program"
   ]
  },
  {
   "cell_type": "code",
   "execution_count": 6,
   "metadata": {},
   "outputs": [],
   "source": [
    "'''\n",
    "Parameters \n",
    "----------\n",
    "Set for each test. \n",
    "\n",
    "\n",
    "img_folder: Root folder of image collection\n",
    "\n",
    "results_file: JSON file for output of results and metadata\n",
    "\n",
    "description: String for labeling/notes\n",
    "\n",
    "sample_size: Sample size to pull from each csv, 0-1\n",
    "\n",
    "img_size: Native resolution is 1280x1280\n",
    "\n",
    "'''\n",
    "\n",
    "img_folder = '../data/output_images/'\n",
    "\n",
    "results_file = '../data/results/'+'results.json'\n",
    "\n",
    "description = 'Baseline with all 10 image sets.'\n",
    "\n",
    "sample_size = .50\n",
    "\n",
    "img_size = (640,640)"
   ]
  },
  {
   "cell_type": "code",
   "execution_count": 7,
   "metadata": {},
   "outputs": [
    {
     "name": "stdout",
     "output_type": "stream",
     "text": [
      "[Errno 2] File b'../data/output_images/China/CHN.csv' does not exist: b'../data/output_images/China/CHN.csv'\n"
     ]
    },
    {
     "data": {
      "text/html": [
       "<div>\n",
       "<style scoped>\n",
       "    .dataframe tbody tr th:only-of-type {\n",
       "        vertical-align: middle;\n",
       "    }\n",
       "\n",
       "    .dataframe tbody tr th {\n",
       "        vertical-align: top;\n",
       "    }\n",
       "\n",
       "    .dataframe thead th {\n",
       "        text-align: right;\n",
       "    }\n",
       "</style>\n",
       "<table border=\"1\" class=\"dataframe\">\n",
       "  <thead>\n",
       "    <tr style=\"text-align: right;\">\n",
       "      <th></th>\n",
       "      <th>Name</th>\n",
       "      <th>Longitude</th>\n",
       "      <th>Latitude</th>\n",
       "      <th>Catenary</th>\n",
       "      <th>Railway</th>\n",
       "    </tr>\n",
       "  </thead>\n",
       "  <tbody>\n",
       "    <tr>\n",
       "      <th>0</th>\n",
       "      <td>145.038226_-37.910223200000004</td>\n",
       "      <td>145.038226</td>\n",
       "      <td>-37.910223</td>\n",
       "      <td>1</td>\n",
       "      <td>Australia</td>\n",
       "    </tr>\n",
       "    <tr>\n",
       "      <th>1</th>\n",
       "      <td>153.00315669999998_-27.5259447</td>\n",
       "      <td>153.003157</td>\n",
       "      <td>-27.525945</td>\n",
       "      <td>1</td>\n",
       "      <td>Australia</td>\n",
       "    </tr>\n",
       "    <tr>\n",
       "      <th>2</th>\n",
       "      <td>151.17792749999998_-33.5829912</td>\n",
       "      <td>151.177927</td>\n",
       "      <td>-33.582991</td>\n",
       "      <td>1</td>\n",
       "      <td>Australia</td>\n",
       "    </tr>\n",
       "    <tr>\n",
       "      <th>3</th>\n",
       "      <td>151.1934804_-33.8669032</td>\n",
       "      <td>151.193480</td>\n",
       "      <td>-33.866903</td>\n",
       "      <td>1</td>\n",
       "      <td>Australia</td>\n",
       "    </tr>\n",
       "    <tr>\n",
       "      <th>4</th>\n",
       "      <td>152.99821210000002_-27.5279436</td>\n",
       "      <td>152.998212</td>\n",
       "      <td>-27.527944</td>\n",
       "      <td>1</td>\n",
       "      <td>Australia</td>\n",
       "    </tr>\n",
       "  </tbody>\n",
       "</table>\n",
       "</div>"
      ],
      "text/plain": [
       "                             Name   Longitude   Latitude  Catenary    Railway\n",
       "0  145.038226_-37.910223200000004  145.038226 -37.910223         1  Australia\n",
       "1  153.00315669999998_-27.5259447  153.003157 -27.525945         1  Australia\n",
       "2  151.17792749999998_-33.5829912  151.177927 -33.582991         1  Australia\n",
       "3         151.1934804_-33.8669032  151.193480 -33.866903         1  Australia\n",
       "4  152.99821210000002_-27.5279436  152.998212 -27.527944         1  Australia"
      ]
     },
     "execution_count": 7,
     "metadata": {},
     "output_type": "execute_result"
    }
   ],
   "source": [
    "'''\n",
    "Loads csv only, no images.\n",
    "'''\n",
    "\n",
    "# Name of folder\n",
    "names = [\n",
    "    'Australia',\n",
    "    'China',\n",
    "    'Germany',\n",
    "    'NewarkLR',\n",
    "    'Switzerland',\n",
    "    'Amtrak',\n",
    "    'BostonMTBA',\n",
    "    'DenverRTD',\n",
    "    'LosAngelesMR',\n",
    "    'SeattleLLR',\n",
    "    'Netherlands'\n",
    "]\n",
    "\n",
    "# Name of csv\n",
    "abbr = [\n",
    "    'AUS',\n",
    "    'CHN',\n",
    "    'GRM',\n",
    "    'NEW',\n",
    "    'SWZ',\n",
    "    'AMT',\n",
    "    'BOS',\n",
    "    'DEN',\n",
    "    'LAA',\n",
    "    'SEA',\n",
    "    'NET'\n",
    "]\n",
    "locations = dict(zip(names,abbr))\n",
    "\n",
    "# Collect each csv into one df adding railway name\n",
    "frames = []\n",
    "for key,value in locations.items():\n",
    "    try:\n",
    "        filename = img_folder+key+'/'+value+'.csv'\n",
    "        tmp = pd.read_csv(filename,header=0)\n",
    "        tmp['Railway'] = key\n",
    "        \n",
    "        # Take sample from each folder \n",
    "        tmp = tmp.sample(frac=sample_size).reset_index(drop=True)\n",
    "        frames.append(tmp)\n",
    "    except Exception as e:\n",
    "        print(e)\n",
    "\n",
    "df = pd.concat(frames)\n",
    "\n",
    "df = df.dropna()\n",
    "df['Catenary'] = df['Catenary'].astype(int)\n",
    "\n",
    "df.head()"
   ]
  },
  {
   "cell_type": "code",
   "execution_count": 8,
   "metadata": {},
   "outputs": [
    {
     "data": {
      "text/plain": [
       "1    160\n",
       "0     83\n",
       "Name: Catenary, dtype: int64"
      ]
     },
     "execution_count": 8,
     "metadata": {},
     "output_type": "execute_result"
    }
   ],
   "source": [
    "df.Catenary.value_counts()"
   ]
  },
  {
   "cell_type": "code",
   "execution_count": 9,
   "metadata": {},
   "outputs": [
    {
     "data": {
      "text/plain": [
       "(320, 5)"
      ]
     },
     "execution_count": 9,
     "metadata": {},
     "output_type": "execute_result"
    }
   ],
   "source": [
    "'''\n",
    "Open known non-catenary lines and add differntial to df\n",
    "'''\n",
    "\n",
    "zeros = df.Catenary.value_counts()[0]\n",
    "ones = df.Catenary.value_counts()[1]\n",
    "\n",
    "names = [\n",
    "    'Amtrak_non_cat_1',\n",
    "    'Amtrak_non_cat_2',\n",
    "    'Amtrak_non_cat_3'\n",
    "]\n",
    "\n",
    "abbr = [\n",
    "    'ANC',\n",
    "    'ANC2',\n",
    "    'ANC3'\n",
    "]\n",
    "locations = dict(zip(names,abbr))\n",
    "\n",
    "diff = ones - zeros\n",
    "\n",
    "if diff > 0:\n",
    "    frames = []\n",
    "    for key,value in locations.items():\n",
    "        try:\n",
    "            filename = img_folder+key+'/'+value+'.csv'\n",
    "            tmp = pd.read_csv(filename,header=0)\n",
    "            tmp['Railway'] = key\n",
    "            frames.append(tmp)\n",
    "        except Exception as e:\n",
    "            print(e)\n",
    "\n",
    "    try:\n",
    "        duds = pd.concat(frames)\n",
    "        duds = duds.dropna()\n",
    "        duds['Catenary'] = duds['Catenary'].astype(int) \n",
    "        \n",
    "        duds = duds.sample(n=diff).reset_index(drop=True)\n",
    "        df = pd.concat([df,duds]).reset_index(drop=True)\n",
    "    except Exception as e:\n",
    "        print(e)\n",
    "        duds = duds.sample(len(duds.index.tolist())).reset_index(drop=True)\n",
    "        df = pd.concat([df,duds]).reset_index(drop=True)\n",
    "        \n",
    "df.shape"
   ]
  },
  {
   "cell_type": "code",
   "execution_count": 10,
   "metadata": {},
   "outputs": [
    {
     "data": {
      "text/plain": [
       "1    160\n",
       "0    160\n",
       "Name: Catenary, dtype: int64"
      ]
     },
     "execution_count": 10,
     "metadata": {},
     "output_type": "execute_result"
    }
   ],
   "source": [
    "df.Catenary.value_counts()"
   ]
  },
  {
   "cell_type": "code",
   "execution_count": 11,
   "metadata": {},
   "outputs": [
    {
     "data": {
      "text/html": [
       "<div>\n",
       "<style scoped>\n",
       "    .dataframe tbody tr th:only-of-type {\n",
       "        vertical-align: middle;\n",
       "    }\n",
       "\n",
       "    .dataframe tbody tr th {\n",
       "        vertical-align: top;\n",
       "    }\n",
       "\n",
       "    .dataframe thead th {\n",
       "        text-align: right;\n",
       "    }\n",
       "</style>\n",
       "<table border=\"1\" class=\"dataframe\">\n",
       "  <thead>\n",
       "    <tr style=\"text-align: right;\">\n",
       "      <th></th>\n",
       "      <th>Catenary</th>\n",
       "      <th>Image</th>\n",
       "    </tr>\n",
       "  </thead>\n",
       "  <tbody>\n",
       "    <tr>\n",
       "      <th>0</th>\n",
       "      <td>1</td>\n",
       "      <td>[0, 0, 0, 255, 3, 2, 0, 255, 26, 26, 22, 255, ...</td>\n",
       "    </tr>\n",
       "    <tr>\n",
       "      <th>1</th>\n",
       "      <td>1</td>\n",
       "      <td>[108, 96, 86, 255, 94, 81, 71, 255, 78, 70, 62...</td>\n",
       "    </tr>\n",
       "    <tr>\n",
       "      <th>2</th>\n",
       "      <td>1</td>\n",
       "      <td>[62, 68, 49, 255, 35, 43, 26, 255, 35, 43, 25,...</td>\n",
       "    </tr>\n",
       "    <tr>\n",
       "      <th>3</th>\n",
       "      <td>1</td>\n",
       "      <td>[91, 82, 71, 255, 86, 81, 72, 255, 87, 83, 75,...</td>\n",
       "    </tr>\n",
       "    <tr>\n",
       "      <th>4</th>\n",
       "      <td>1</td>\n",
       "      <td>[30, 31, 23, 255, 66, 66, 60, 255, 84, 82, 78,...</td>\n",
       "    </tr>\n",
       "  </tbody>\n",
       "</table>\n",
       "</div>"
      ],
      "text/plain": [
       "   Catenary                                              Image\n",
       "0         1  [0, 0, 0, 255, 3, 2, 0, 255, 26, 26, 22, 255, ...\n",
       "1         1  [108, 96, 86, 255, 94, 81, 71, 255, 78, 70, 62...\n",
       "2         1  [62, 68, 49, 255, 35, 43, 26, 255, 35, 43, 25,...\n",
       "3         1  [91, 82, 71, 255, 86, 81, 72, 255, 87, 83, 75,...\n",
       "4         1  [30, 31, 23, 255, 66, 66, 60, 255, 84, 82, 78,..."
      ]
     },
     "execution_count": 11,
     "metadata": {},
     "output_type": "execute_result"
    }
   ],
   "source": [
    "'''\n",
    "Load images into df\n",
    "'''\n",
    "rows = df.index.tolist()\n",
    "\n",
    "images = []\n",
    "for row in rows:\n",
    "    img_path = img_folder+df.iloc[row]['Railway']+'/'+df.iloc[row]['Name']+'.png'\n",
    "    img = Image.open(img_path).convert('RGBA')\n",
    "    img.thumbnail(img_size, Image.ANTIALIAS)\n",
    "    data = np.asarray(img)\n",
    "    data = data.flatten()\n",
    "    # Append img instead of data if you want as image       \n",
    "    images.append(data)\n",
    "    \n",
    "df['Image'] = images\n",
    "\n",
    "cols = ['Catenary','Image']\n",
    "df = df[cols]\n",
    "\n",
    "df.head()"
   ]
  },
  {
   "cell_type": "markdown",
   "metadata": {},
   "source": [
    "### Classify"
   ]
  },
  {
   "cell_type": "code",
   "execution_count": 12,
   "metadata": {},
   "outputs": [],
   "source": [
    "labels = np.asarray(df.Catenary.tolist())\n",
    "features = np.asarray(df.Image.tolist())"
   ]
  },
  {
   "cell_type": "code",
   "execution_count": 13,
   "metadata": {},
   "outputs": [],
   "source": [
    "'''\n",
    "Setup classifiers\n",
    "'''\n",
    "\n",
    "BGN = {'Name':'BGN',\n",
    "       'Method': GaussianNB()}\n",
    "\n",
    "DTC = {'Name':'DTC',\n",
    "       'Method': DecisionTreeClassifier()}\n",
    "\n",
    "KNN = {'Name':'KNN',\n",
    "       'Method': KNeighborsClassifier()}\n",
    "\n",
    "SVM = {'Name':'SVM',\n",
    "       'Method': SVC(gamma=0.001)}\n",
    "\n",
    "\n",
    "classifiers = [BGN,DTC,KNN,SVM]"
   ]
  },
  {
   "cell_type": "code",
   "execution_count": null,
   "metadata": {},
   "outputs": [
    {
     "name": "stdout",
     "output_type": "stream",
     "text": [
      "Classification report for  - BGN\n",
      "-----------------------------------------------------------------------------------------------\n",
      " GaussianNB(priors=None, var_smoothing=1e-09):\n",
      "              precision    recall  f1-score   support\n",
      "\n",
      "           0       0.55      0.61      0.58        28\n",
      "           1       0.67      0.61      0.64        36\n",
      "\n",
      "    accuracy                           0.61        64\n",
      "   macro avg       0.61      0.61      0.61        64\n",
      "weighted avg       0.61      0.61      0.61        64\n",
      "\n",
      "\n",
      "BGN Confusion Matrix\n",
      "   P0 \t P1 \n",
      "A0 17 \t 11\n",
      "A1 14 \t 22\n",
      "\n",
      "\n"
     ]
    }
   ],
   "source": [
    "'''\n",
    "Run Classifier\n",
    "'''\n",
    "\n",
    "FitAndScoreCLA(features,labels,classifiers)"
   ]
  }
 ],
 "metadata": {
  "kernelspec": {
   "display_name": "Python 3",
   "language": "python",
   "name": "python3"
  },
  "language_info": {
   "codemirror_mode": {
    "name": "ipython",
    "version": 3
   },
   "file_extension": ".py",
   "mimetype": "text/x-python",
   "name": "python",
   "nbconvert_exporter": "python",
   "pygments_lexer": "ipython3",
   "version": "3.7.3"
  }
 },
 "nbformat": 4,
 "nbformat_minor": 2
}
