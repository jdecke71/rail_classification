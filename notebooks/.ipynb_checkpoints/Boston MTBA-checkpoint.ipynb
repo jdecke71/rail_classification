{
 "cells": [
  {
   "cell_type": "code",
   "execution_count": 1,
   "metadata": {},
   "outputs": [],
   "source": [
    "import pandas as pd\n",
    "import geopandas as gpd\n",
    "import matplotlib.pyplot as plt\n",
    "from shapely.geometry import mapping\n",
    "import folium\n",
    "import gmaps\n",
    "import os\n",
    "import requests\n",
    "import shutil"
   ]
  },
  {
   "cell_type": "code",
   "execution_count": 13,
   "metadata": {},
   "outputs": [],
   "source": [
    "with open('../resources/key.txt') as f:\n",
    "    token = f.read()\n",
    "    \n",
    "gmaps.configure(api_key = token)"
   ]
  },
  {
   "cell_type": "code",
   "execution_count": 10,
   "metadata": {},
   "outputs": [],
   "source": [
    "input_folder = '../data/railways/mbta_rapid_transit/'\n",
    "input_file = input_folder+'MBTA_ARC.shp'\n",
    "\n",
    "output_folder = '../data/output_images/BostonMTBA/'\n",
    "output_csv = output_folder+'BOS.csv'"
   ]
  },
  {
   "cell_type": "markdown",
   "metadata": {},
   "source": [
    "### Import Routes"
   ]
  },
  {
   "cell_type": "code",
   "execution_count": 6,
   "metadata": {
    "scrolled": true
   },
   "outputs": [
    {
     "data": {
      "text/html": [
       "<div>\n",
       "<style scoped>\n",
       "    .dataframe tbody tr th:only-of-type {\n",
       "        vertical-align: middle;\n",
       "    }\n",
       "\n",
       "    .dataframe tbody tr th {\n",
       "        vertical-align: top;\n",
       "    }\n",
       "\n",
       "    .dataframe thead th {\n",
       "        text-align: right;\n",
       "    }\n",
       "</style>\n",
       "<table border=\"1\" class=\"dataframe\">\n",
       "  <thead>\n",
       "    <tr style=\"text-align: right;\">\n",
       "      <th></th>\n",
       "      <th>LINE</th>\n",
       "      <th>ROUTE</th>\n",
       "      <th>GRADE</th>\n",
       "      <th>SHAPE_LEN</th>\n",
       "      <th>geometry</th>\n",
       "    </tr>\n",
       "  </thead>\n",
       "  <tbody>\n",
       "    <tr>\n",
       "      <th>0</th>\n",
       "      <td>GREEN</td>\n",
       "      <td>C D</td>\n",
       "      <td>7</td>\n",
       "      <td>458.386096</td>\n",
       "      <td>LINESTRING (-71.10139485815532 42.347577953996...</td>\n",
       "    </tr>\n",
       "    <tr>\n",
       "      <th>1</th>\n",
       "      <td>GREEN</td>\n",
       "      <td>B C D E</td>\n",
       "      <td>7</td>\n",
       "      <td>2121.006147</td>\n",
       "      <td>LINESTRING (-71.07920620455907 42.349579702367...</td>\n",
       "    </tr>\n",
       "    <tr>\n",
       "      <th>2</th>\n",
       "      <td>RED</td>\n",
       "      <td>A - Ashmont B - Braintree  C - Alewife</td>\n",
       "      <td>7</td>\n",
       "      <td>7955.708839</td>\n",
       "      <td>LINESTRING (-71.08197671857094 42.361992845118...</td>\n",
       "    </tr>\n",
       "    <tr>\n",
       "      <th>3</th>\n",
       "      <td>GREEN</td>\n",
       "      <td>C E</td>\n",
       "      <td>7</td>\n",
       "      <td>1241.873692</td>\n",
       "      <td>LINESTRING (-71.05945866821224 42.359296597842...</td>\n",
       "    </tr>\n",
       "    <tr>\n",
       "      <th>4</th>\n",
       "      <td>GREEN</td>\n",
       "      <td>B C D</td>\n",
       "      <td>7</td>\n",
       "      <td>1466.201312</td>\n",
       "      <td>LINESTRING (-71.09616476184985 42.348960933708...</td>\n",
       "    </tr>\n",
       "  </tbody>\n",
       "</table>\n",
       "</div>"
      ],
      "text/plain": [
       "    LINE                                   ROUTE  GRADE    SHAPE_LEN  \\\n",
       "0  GREEN                                     C D      7   458.386096   \n",
       "1  GREEN                                 B C D E      7  2121.006147   \n",
       "2    RED  A - Ashmont B - Braintree  C - Alewife      7  7955.708839   \n",
       "3  GREEN                                     C E      7  1241.873692   \n",
       "4  GREEN                                   B C D      7  1466.201312   \n",
       "\n",
       "                                            geometry  \n",
       "0  LINESTRING (-71.10139485815532 42.347577953996...  \n",
       "1  LINESTRING (-71.07920620455907 42.349579702367...  \n",
       "2  LINESTRING (-71.08197671857094 42.361992845118...  \n",
       "3  LINESTRING (-71.05945866821224 42.359296597842...  \n",
       "4  LINESTRING (-71.09616476184985 42.348960933708...  "
      ]
     },
     "execution_count": 6,
     "metadata": {},
     "output_type": "execute_result"
    }
   ],
   "source": [
    "routes = gpd.read_file(input_file)\n",
    "\n",
    "routes = routes.to_crs({'init' :'epsg:4269'})\n",
    "\n",
    "routes.head()"
   ]
  },
  {
   "cell_type": "code",
   "execution_count": 5,
   "metadata": {},
   "outputs": [
    {
     "data": {
      "text/plain": [
       "(136, 5)"
      ]
     },
     "execution_count": 5,
     "metadata": {},
     "output_type": "execute_result"
    }
   ],
   "source": [
    "routes.shape"
   ]
  },
  {
   "cell_type": "code",
   "execution_count": 7,
   "metadata": {},
   "outputs": [
    {
     "name": "stdout",
     "output_type": "stream",
     "text": [
      "Skipped route number 0 because 'LineString' object is not iterable\n",
      "Skipped route number 1 because 'LineString' object is not iterable\n",
      "Skipped route number 2 because 'LineString' object is not iterable\n",
      "Skipped route number 3 because 'LineString' object is not iterable\n",
      "Skipped route number 4 because 'LineString' object is not iterable\n",
      "Skipped route number 5 because 'LineString' object is not iterable\n",
      "Skipped route number 6 because 'LineString' object is not iterable\n",
      "Skipped route number 7 because 'LineString' object is not iterable\n",
      "Skipped route number 8 because 'LineString' object is not iterable\n",
      "Skipped route number 9 because 'LineString' object is not iterable\n",
      "Skipped route number 10 because 'LineString' object is not iterable\n",
      "Skipped route number 11 because 'LineString' object is not iterable\n",
      "Skipped route number 12 because 'LineString' object is not iterable\n",
      "Skipped route number 13 because 'LineString' object is not iterable\n",
      "Skipped route number 14 because 'LineString' object is not iterable\n",
      "Skipped route number 15 because 'LineString' object is not iterable\n",
      "Skipped route number 16 because 'LineString' object is not iterable\n",
      "Skipped route number 17 because 'LineString' object is not iterable\n",
      "Skipped route number 18 because 'LineString' object is not iterable\n",
      "Skipped route number 19 because 'LineString' object is not iterable\n",
      "Skipped route number 20 because 'LineString' object is not iterable\n",
      "Skipped route number 21 because 'LineString' object is not iterable\n",
      "Skipped route number 22 because 'LineString' object is not iterable\n",
      "Skipped route number 23 because 'LineString' object is not iterable\n",
      "Skipped route number 29 because 'LineString' object is not iterable\n",
      "Skipped route number 30 because 'LineString' object is not iterable\n",
      "Skipped route number 31 because 'LineString' object is not iterable\n",
      "Skipped route number 32 because 'LineString' object is not iterable\n",
      "Skipped route number 33 because 'LineString' object is not iterable\n",
      "Skipped route number 34 because 'LineString' object is not iterable\n",
      "Skipped route number 35 because 'LineString' object is not iterable\n",
      "Skipped route number 36 because 'LineString' object is not iterable\n",
      "Skipped route number 37 because 'LineString' object is not iterable\n",
      "Skipped route number 38 because 'LineString' object is not iterable\n",
      "Skipped route number 39 because 'LineString' object is not iterable\n",
      "Skipped route number 40 because 'LineString' object is not iterable\n",
      "Skipped route number 41 because 'LineString' object is not iterable\n",
      "Skipped route number 42 because 'LineString' object is not iterable\n",
      "Skipped route number 43 because 'LineString' object is not iterable\n",
      "Skipped route number 44 because 'LineString' object is not iterable\n",
      "Skipped route number 45 because 'LineString' object is not iterable\n",
      "Skipped route number 46 because 'LineString' object is not iterable\n",
      "Skipped route number 47 because 'LineString' object is not iterable\n",
      "Skipped route number 48 because 'LineString' object is not iterable\n",
      "Skipped route number 50 because 'LineString' object is not iterable\n",
      "Skipped route number 51 because 'LineString' object is not iterable\n",
      "Skipped route number 52 because 'LineString' object is not iterable\n",
      "Skipped route number 53 because 'LineString' object is not iterable\n",
      "Skipped route number 54 because 'LineString' object is not iterable\n",
      "Skipped route number 56 because 'LineString' object is not iterable\n",
      "Skipped route number 57 because 'LineString' object is not iterable\n",
      "Skipped route number 59 because 'LineString' object is not iterable\n",
      "Skipped route number 60 because 'LineString' object is not iterable\n",
      "Skipped route number 61 because 'LineString' object is not iterable\n",
      "Skipped route number 62 because 'LineString' object is not iterable\n",
      "Skipped route number 63 because 'LineString' object is not iterable\n",
      "Skipped route number 64 because 'LineString' object is not iterable\n",
      "Skipped route number 66 because 'LineString' object is not iterable\n",
      "Skipped route number 67 because 'LineString' object is not iterable\n",
      "Skipped route number 68 because 'LineString' object is not iterable\n",
      "Skipped route number 69 because 'LineString' object is not iterable\n",
      "Skipped route number 70 because 'LineString' object is not iterable\n",
      "Skipped route number 71 because 'LineString' object is not iterable\n",
      "Skipped route number 72 because 'LineString' object is not iterable\n",
      "Skipped route number 73 because 'LineString' object is not iterable\n",
      "Skipped route number 74 because 'LineString' object is not iterable\n",
      "Skipped route number 75 because 'LineString' object is not iterable\n",
      "Skipped route number 76 because 'LineString' object is not iterable\n",
      "Skipped route number 77 because 'LineString' object is not iterable\n",
      "Skipped route number 78 because 'LineString' object is not iterable\n",
      "Skipped route number 79 because 'LineString' object is not iterable\n",
      "Skipped route number 80 because 'LineString' object is not iterable\n",
      "Skipped route number 81 because 'LineString' object is not iterable\n",
      "Skipped route number 82 because 'LineString' object is not iterable\n",
      "Skipped route number 83 because 'LineString' object is not iterable\n",
      "Skipped route number 84 because 'LineString' object is not iterable\n",
      "Skipped route number 85 because 'LineString' object is not iterable\n",
      "Skipped route number 86 because 'LineString' object is not iterable\n",
      "Skipped route number 87 because 'LineString' object is not iterable\n",
      "Skipped route number 88 because 'LineString' object is not iterable\n",
      "Skipped route number 89 because 'LineString' object is not iterable\n",
      "Skipped route number 90 because 'LineString' object is not iterable\n",
      "Skipped route number 91 because 'LineString' object is not iterable\n",
      "Skipped route number 92 because 'LineString' object is not iterable\n",
      "Skipped route number 93 because 'LineString' object is not iterable\n",
      "Skipped route number 94 because 'LineString' object is not iterable\n",
      "Skipped route number 95 because 'LineString' object is not iterable\n",
      "Skipped route number 96 because 'LineString' object is not iterable\n",
      "Skipped route number 98 because 'LineString' object is not iterable\n",
      "Skipped route number 99 because 'LineString' object is not iterable\n",
      "Skipped route number 100 because 'LineString' object is not iterable\n",
      "Skipped route number 101 because 'LineString' object is not iterable\n",
      "Skipped route number 102 because 'LineString' object is not iterable\n",
      "Skipped route number 103 because 'LineString' object is not iterable\n",
      "Skipped route number 104 because 'LineString' object is not iterable\n",
      "Skipped route number 105 because 'LineString' object is not iterable\n",
      "Skipped route number 106 because 'LineString' object is not iterable\n",
      "Skipped route number 107 because 'LineString' object is not iterable\n",
      "Skipped route number 108 because 'LineString' object is not iterable\n",
      "Skipped route number 109 because 'LineString' object is not iterable\n",
      "Skipped route number 110 because 'LineString' object is not iterable\n",
      "Skipped route number 111 because 'LineString' object is not iterable\n",
      "Skipped route number 112 because 'LineString' object is not iterable\n",
      "Skipped route number 113 because 'LineString' object is not iterable\n",
      "Skipped route number 114 because 'LineString' object is not iterable\n",
      "Skipped route number 115 because 'LineString' object is not iterable\n",
      "Skipped route number 116 because 'LineString' object is not iterable\n",
      "Skipped route number 117 because 'LineString' object is not iterable\n",
      "Skipped route number 118 because 'LineString' object is not iterable\n",
      "Skipped route number 119 because 'LineString' object is not iterable\n",
      "Skipped route number 120 because 'LineString' object is not iterable\n",
      "Skipped route number 121 because 'LineString' object is not iterable\n",
      "Skipped route number 122 because 'LineString' object is not iterable\n",
      "Skipped route number 123 because 'LineString' object is not iterable\n",
      "Skipped route number 124 because 'LineString' object is not iterable\n",
      "Skipped route number 125 because 'LineString' object is not iterable\n",
      "Skipped route number 126 because 'LineString' object is not iterable\n",
      "Skipped route number 127 because 'LineString' object is not iterable\n",
      "Skipped route number 128 because 'LineString' object is not iterable\n",
      "Skipped route number 129 because 'LineString' object is not iterable\n",
      "Skipped route number 130 because 'LineString' object is not iterable\n",
      "Skipped route number 131 because 'LineString' object is not iterable\n",
      "Skipped route number 132 because 'LineString' object is not iterable\n",
      "Skipped route number 133 because 'LineString' object is not iterable\n",
      "Skipped route number 134 because 'LineString' object is not iterable\n",
      "Skipped route number 135 because 'LineString' object is not iterable\n",
      "354 points\n"
     ]
    }
   ],
   "source": [
    "'''\n",
    "Get all points\n",
    "'''\n",
    "\n",
    "points = []\n",
    "for i in range(0,len(routes.index.tolist())):\n",
    "#     print('Route',i)\n",
    "    try:\n",
    "        route = routes.iloc[i]\n",
    "        g = [m for m in route.geometry]\n",
    "#         print('\\t',len(g),'sections')\n",
    "        for j in range(0,len(g)):\n",
    "#             print('   section',j)\n",
    "            sec_points = mapping(g[j])[\"coordinates\"]\n",
    "            for k in range(0,len(sec_points)):\n",
    "#                 print('      point',k)\n",
    "                points.append(sec_points[k])\n",
    "    except Exception as e:\n",
    "        print(\"Skipped route number\",i,'because',e)\n",
    "\n",
    "print(len(points),'points')"
   ]
  },
  {
   "cell_type": "code",
   "execution_count": null,
   "metadata": {},
   "outputs": [],
   "source": [
    "'''\n",
    "Get points for 1 or more routes\n",
    "'''\n",
    "\n",
    "rows = [0]\n",
    "\n",
    "points = []\n",
    "for i in range(0,len(routes.OBJECTID.tolist())):\n",
    "    if i in rows:\n",
    "    #     print('Route',i)\n",
    "        try:\n",
    "            route = routes.iloc[i]\n",
    "            g = [m for m in route.geometry]\n",
    "    #         print('\\t',len(g),'sections')\n",
    "            for j in range(0,len(g)):\n",
    "    #             print('   section',j)\n",
    "                sec_points = mapping(g[j])[\"coordinates\"]\n",
    "                for k in range(0,len(sec_points)):\n",
    "    #                 print('      point',k)\n",
    "                    points.append(sec_points[k])\n",
    "        except Exception as e:\n",
    "            print(\"Skipped route number\",i,'because',e)\n",
    "\n",
    "print(len(points),'points')"
   ]
  },
  {
   "cell_type": "code",
   "execution_count": null,
   "metadata": {},
   "outputs": [],
   "source": [
    "'''\n",
    "Get points for single route/section\n",
    "'''\n",
    "\n",
    "row = 0\n",
    "section = 0\n",
    "\n",
    "points = []\n",
    "try:\n",
    "    route = routes.iloc[row]\n",
    "    g = [i for i in route.geometry]\n",
    "    len(g)\n",
    "\n",
    "    points = mapping(g[section])[\"coordinates\"]\n",
    "except Exception as e:\n",
    "    print(\"Skipped route number\",row,'because',e)\n",
    "    \n",
    "print(len(points),'points')"
   ]
  },
  {
   "cell_type": "code",
   "execution_count": 8,
   "metadata": {},
   "outputs": [
    {
     "name": "stdout",
     "output_type": "stream",
     "text": [
      "51\n"
     ]
    }
   ],
   "source": [
    "'''\n",
    "Get subselection of points\n",
    "'''\n",
    "\n",
    "route_points = []\n",
    "for point in range(0,len(points),7):\n",
    "    tmp = points[point]\n",
    "    route_points.append(tmp)\n",
    "\n",
    "print(len(route_points))"
   ]
  },
  {
   "cell_type": "code",
   "execution_count": 9,
   "metadata": {},
   "outputs": [
    {
     "data": {
      "text/html": [
       "<div>\n",
       "<style scoped>\n",
       "    .dataframe tbody tr th:only-of-type {\n",
       "        vertical-align: middle;\n",
       "    }\n",
       "\n",
       "    .dataframe tbody tr th {\n",
       "        vertical-align: top;\n",
       "    }\n",
       "\n",
       "    .dataframe thead th {\n",
       "        text-align: right;\n",
       "    }\n",
       "</style>\n",
       "<table border=\"1\" class=\"dataframe\">\n",
       "  <thead>\n",
       "    <tr style=\"text-align: right;\">\n",
       "      <th></th>\n",
       "      <th>Name</th>\n",
       "      <th>Longitude</th>\n",
       "      <th>Latitude</th>\n",
       "    </tr>\n",
       "  </thead>\n",
       "  <tbody>\n",
       "    <tr>\n",
       "      <th>0</th>\n",
       "      <td>-71.06445861625593_42.34737609306864</td>\n",
       "      <td>-71.064459</td>\n",
       "      <td>42.347376</td>\n",
       "    </tr>\n",
       "    <tr>\n",
       "      <th>1</th>\n",
       "      <td>-71.0641837596865_42.34846784549941</td>\n",
       "      <td>-71.064184</td>\n",
       "      <td>42.348468</td>\n",
       "    </tr>\n",
       "    <tr>\n",
       "      <th>2</th>\n",
       "      <td>-71.06492663944647_42.34579589916245</td>\n",
       "      <td>-71.064927</td>\n",
       "      <td>42.345796</td>\n",
       "    </tr>\n",
       "    <tr>\n",
       "      <th>3</th>\n",
       "      <td>-71.06492663944647_42.34579589916245</td>\n",
       "      <td>-71.064927</td>\n",
       "      <td>42.345796</td>\n",
       "    </tr>\n",
       "    <tr>\n",
       "      <th>4</th>\n",
       "      <td>-71.06876179011799_42.341708782139065</td>\n",
       "      <td>-71.068762</td>\n",
       "      <td>42.341709</td>\n",
       "    </tr>\n",
       "  </tbody>\n",
       "</table>\n",
       "</div>"
      ],
      "text/plain": [
       "                                    Name  Longitude   Latitude\n",
       "0   -71.06445861625593_42.34737609306864 -71.064459  42.347376\n",
       "1    -71.0641837596865_42.34846784549941 -71.064184  42.348468\n",
       "2   -71.06492663944647_42.34579589916245 -71.064927  42.345796\n",
       "3   -71.06492663944647_42.34579589916245 -71.064927  42.345796\n",
       "4  -71.06876179011799_42.341708782139065 -71.068762  42.341709"
      ]
     },
     "execution_count": 9,
     "metadata": {},
     "output_type": "execute_result"
    }
   ],
   "source": [
    "'''\n",
    "Create dataframe\n",
    "'''\n",
    "\n",
    "df = pd.DataFrame(route_points, columns=['Longitude','Latitude'])\n",
    "\n",
    "tmp = list(df.Latitude.tolist())\n",
    "names = []\n",
    "for i in range(0,len(tmp)):\n",
    "    name = str(df.iloc[i].Longitude)+'_'+str(df.iloc[i].Latitude)\n",
    "    names.append(name)\n",
    "\n",
    "df['Name'] = names\n",
    "\n",
    "columns = ['Name','Longitude','Latitude']\n",
    "df= df[columns]\n",
    "\n",
    "df.head()"
   ]
  },
  {
   "cell_type": "code",
   "execution_count": 10,
   "metadata": {},
   "outputs": [],
   "source": [
    "'''\n",
    "Export points\n",
    "'''\n",
    "\n",
    "df.to_csv(filename,header=True,index=None)"
   ]
  },
  {
   "cell_type": "code",
   "execution_count": 11,
   "metadata": {
    "scrolled": false
   },
   "outputs": [
    {
     "data": {
      "text/html": [
       "<div style=\"width:100%;\"><div style=\"position:relative;width:100%;height:0;padding-bottom:60%;\"><iframe src=\"data:text/html;charset=utf-8;base64,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\" style=\"position:absolute;width:100%;height:100%;left:0;top:0;border:none !important;\" allowfullscreen webkitallowfullscreen mozallowfullscreen></iframe></div></div>"
      ],
      "text/plain": [
       "<folium.folium.Map at 0x104015be0>"
      ]
     },
     "execution_count": 11,
     "metadata": {},
     "output_type": "execute_result"
    }
   ],
   "source": [
    "'''\n",
    "Plot markers\n",
    "'''\n",
    "\n",
    "rows = df.index.tolist()\n",
    "\n",
    "marker_points = []\n",
    "for row in rows:\n",
    "    marker_points.append((df.iloc[row].Latitude,df.iloc[row].Longitude))\n",
    "    \n",
    "# Set map centerpoint\n",
    "coords = marker_points[0]\n",
    "       \n",
    "# Define map\n",
    "m = folium.Map(\n",
    "    location = coords,\n",
    "    zoom_start = 13\n",
    ")\n",
    "  \n",
    "# Add points    \n",
    "for mp in marker_points:\n",
    "    folium.Marker(mp).add_to(m)\n",
    "m"
   ]
  },
  {
   "cell_type": "code",
   "execution_count": 108,
   "metadata": {},
   "outputs": [
    {
     "data": {
      "application/vnd.jupyter.widget-view+json": {
       "model_id": "d2f15aa411824e82b2ed1b6764a96f1c",
       "version_major": 2,
       "version_minor": 0
      },
      "text/plain": [
       "Figure(layout=FigureLayout(height='800px', width='100%'))"
      ]
     },
     "metadata": {},
     "output_type": "display_data"
    }
   ],
   "source": [
    "'''\n",
    "Get satellite preview for image\n",
    "'''\n",
    "\n",
    "row = 0\n",
    "\n",
    "figure_layout = {\n",
    "    'width': '100%',\n",
    "    'height': '800px'\n",
    "}\n",
    "fig = gmaps.figure(center = (df.iloc[row].Latitude,df.iloc[row].Longitude), zoom_level = 19,map_type='SATELLITE',layout=figure_layout)\n",
    "fig"
   ]
  },
  {
   "cell_type": "code",
   "execution_count": 13,
   "metadata": {},
   "outputs": [],
   "source": [
    "'''\n",
    "Get all images \n",
    "'''\n",
    "\n",
    "root = os.path.dirname(os.path.abspath('Africa.ipynb'))\n",
    "image_folder = root[:-9]+output_folder[3:]\n",
    "image_folder\n",
    "\n",
    "url = 'https://maps.googleapis.com/maps/api/staticmap?'\n",
    "rows = df.index.tolist()\n",
    "for i in range(0,2):\n",
    "    row = df.iloc[i]\n",
    "    center = str(row.Latitude)+','+str(row.Longitude)\n",
    "    payload = {\n",
    "        'center': center, \n",
    "        'zoom': 19,\n",
    "        'size': '640x640',\n",
    "        'scale': 2,\n",
    "        'format': 'png32',\n",
    "        'maptype': 'satellite',\n",
    "        'key': token\n",
    "    }\n",
    "    \n",
    "    r = requests.get(url,params=payload,stream=True)\n",
    "\n",
    "    name = df.iloc[i]['Name']\n",
    "    filename = image_folder+name+'.png'\n",
    "    if r.status_code == 200:\n",
    "        with open(filename, 'wb') as f:\n",
    "            r.raw.decode_content = True\n",
    "            shutil.copyfileobj(r.raw, f) "
   ]
  },
  {
   "cell_type": "code",
   "execution_count": null,
   "metadata": {},
   "outputs": [],
   "source": []
  }
 ],
 "metadata": {
  "kernelspec": {
   "display_name": "Python 3",
   "language": "python",
   "name": "python3"
  },
  "language_info": {
   "codemirror_mode": {
    "name": "ipython",
    "version": 3
   },
   "file_extension": ".py",
   "mimetype": "text/x-python",
   "name": "python",
   "nbconvert_exporter": "python",
   "pygments_lexer": "ipython3",
   "version": "3.7.3"
  }
 },
 "nbformat": 4,
 "nbformat_minor": 2
}
