{
 "cells": [
  {
   "cell_type": "code",
   "execution_count": 1,
   "metadata": {},
   "outputs": [],
   "source": [
    "import pandas as pd\n",
    "import geopandas as gpd\n",
    "import matplotlib.pyplot as plt\n",
    "from shapely.geometry import mapping\n",
    "import folium\n",
    "import gmaps\n",
    "import os\n",
    "import requests\n",
    "import shutil"
   ]
  },
  {
   "cell_type": "code",
   "execution_count": 2,
   "metadata": {},
   "outputs": [],
   "source": [
    "with open('../resources/key.txt') as f:\n",
    "    token = f.read()\n",
    "    \n",
    "gmaps.configure(api_key = token)"
   ]
  },
  {
   "cell_type": "code",
   "execution_count": 6,
   "metadata": {},
   "outputs": [],
   "source": [
    "input_folder = '../data/railways/mbta_rapid_transit/'\n",
    "input_file = input_folder+'MBTA_ARC.shp'\n",
    "\n",
    "output_folder = '../data/output_images/BostonMTBA/'\n",
    "output_csv = output_folder+'BOS.csv'\n",
    "\n",
    "update_folder = '../data/output_images/BostonMTBA/set_3/'"
   ]
  },
  {
   "cell_type": "markdown",
   "metadata": {},
   "source": [
    "### Import Routes"
   ]
  },
  {
   "cell_type": "code",
   "execution_count": 8,
   "metadata": {
    "scrolled": true
   },
   "outputs": [
    {
     "data": {
      "text/html": [
       "<div>\n",
       "<style scoped>\n",
       "    .dataframe tbody tr th:only-of-type {\n",
       "        vertical-align: middle;\n",
       "    }\n",
       "\n",
       "    .dataframe tbody tr th {\n",
       "        vertical-align: top;\n",
       "    }\n",
       "\n",
       "    .dataframe thead th {\n",
       "        text-align: right;\n",
       "    }\n",
       "</style>\n",
       "<table border=\"1\" class=\"dataframe\">\n",
       "  <thead>\n",
       "    <tr style=\"text-align: right;\">\n",
       "      <th></th>\n",
       "      <th>LINE</th>\n",
       "      <th>ROUTE</th>\n",
       "      <th>GRADE</th>\n",
       "      <th>SHAPE_LEN</th>\n",
       "      <th>geometry</th>\n",
       "    </tr>\n",
       "  </thead>\n",
       "  <tbody>\n",
       "    <tr>\n",
       "      <th>0</th>\n",
       "      <td>GREEN</td>\n",
       "      <td>C D</td>\n",
       "      <td>7</td>\n",
       "      <td>458.386096</td>\n",
       "      <td>LINESTRING (-71.10139485815532 42.347577953996...</td>\n",
       "    </tr>\n",
       "    <tr>\n",
       "      <th>1</th>\n",
       "      <td>GREEN</td>\n",
       "      <td>B C D E</td>\n",
       "      <td>7</td>\n",
       "      <td>2121.006147</td>\n",
       "      <td>LINESTRING (-71.07920620455907 42.349579702367...</td>\n",
       "    </tr>\n",
       "    <tr>\n",
       "      <th>2</th>\n",
       "      <td>RED</td>\n",
       "      <td>A - Ashmont B - Braintree  C - Alewife</td>\n",
       "      <td>7</td>\n",
       "      <td>7955.708839</td>\n",
       "      <td>LINESTRING (-71.08197671857094 42.361992845118...</td>\n",
       "    </tr>\n",
       "    <tr>\n",
       "      <th>3</th>\n",
       "      <td>GREEN</td>\n",
       "      <td>C E</td>\n",
       "      <td>7</td>\n",
       "      <td>1241.873692</td>\n",
       "      <td>LINESTRING (-71.05945866821224 42.359296597842...</td>\n",
       "    </tr>\n",
       "    <tr>\n",
       "      <th>4</th>\n",
       "      <td>GREEN</td>\n",
       "      <td>B C D</td>\n",
       "      <td>7</td>\n",
       "      <td>1466.201312</td>\n",
       "      <td>LINESTRING (-71.09616476184985 42.348960933708...</td>\n",
       "    </tr>\n",
       "  </tbody>\n",
       "</table>\n",
       "</div>"
      ],
      "text/plain": [
       "    LINE                                   ROUTE  GRADE    SHAPE_LEN  \\\n",
       "0  GREEN                                     C D      7   458.386096   \n",
       "1  GREEN                                 B C D E      7  2121.006147   \n",
       "2    RED  A - Ashmont B - Braintree  C - Alewife      7  7955.708839   \n",
       "3  GREEN                                     C E      7  1241.873692   \n",
       "4  GREEN                                   B C D      7  1466.201312   \n",
       "\n",
       "                                            geometry  \n",
       "0  LINESTRING (-71.10139485815532 42.347577953996...  \n",
       "1  LINESTRING (-71.07920620455907 42.349579702367...  \n",
       "2  LINESTRING (-71.08197671857094 42.361992845118...  \n",
       "3  LINESTRING (-71.05945866821224 42.359296597842...  \n",
       "4  LINESTRING (-71.09616476184985 42.348960933708...  "
      ]
     },
     "execution_count": 8,
     "metadata": {},
     "output_type": "execute_result"
    }
   ],
   "source": [
    "routes = gpd.read_file(input_file)\n",
    "\n",
    "routes = routes.to_crs({'init' :'epsg:4269'})\n",
    "\n",
    "routes.head()"
   ]
  },
  {
   "cell_type": "code",
   "execution_count": 9,
   "metadata": {},
   "outputs": [
    {
     "data": {
      "text/plain": [
       "(136, 5)"
      ]
     },
     "execution_count": 9,
     "metadata": {},
     "output_type": "execute_result"
    }
   ],
   "source": [
    "routes.shape"
   ]
  },
  {
   "cell_type": "code",
   "execution_count": 28,
   "metadata": {},
   "outputs": [
    {
     "data": {
      "text/html": [
       "<div>\n",
       "<style scoped>\n",
       "    .dataframe tbody tr th:only-of-type {\n",
       "        vertical-align: middle;\n",
       "    }\n",
       "\n",
       "    .dataframe tbody tr th {\n",
       "        vertical-align: top;\n",
       "    }\n",
       "\n",
       "    .dataframe thead th {\n",
       "        text-align: right;\n",
       "    }\n",
       "</style>\n",
       "<table border=\"1\" class=\"dataframe\">\n",
       "  <thead>\n",
       "    <tr style=\"text-align: right;\">\n",
       "      <th></th>\n",
       "      <th>Name</th>\n",
       "      <th>Longitude</th>\n",
       "      <th>Latitude</th>\n",
       "      <th>Catenary</th>\n",
       "    </tr>\n",
       "  </thead>\n",
       "  <tbody>\n",
       "    <tr>\n",
       "      <th>0</th>\n",
       "      <td>-70.99141024363398_42.39987983654313</td>\n",
       "      <td>-70.991410</td>\n",
       "      <td>42.399880</td>\n",
       "      <td>1</td>\n",
       "    </tr>\n",
       "    <tr>\n",
       "      <th>1</th>\n",
       "      <td>-70.9916645142435_42.41343348702443</td>\n",
       "      <td>-70.991665</td>\n",
       "      <td>42.413433</td>\n",
       "      <td>1</td>\n",
       "    </tr>\n",
       "    <tr>\n",
       "      <th>2</th>\n",
       "      <td>-70.99169316827988_42.3987030963677</td>\n",
       "      <td>-70.991693</td>\n",
       "      <td>42.398703</td>\n",
       "      <td>1</td>\n",
       "    </tr>\n",
       "    <tr>\n",
       "      <th>3</th>\n",
       "      <td>-70.99195436847552_42.40432141901854</td>\n",
       "      <td>-70.991954</td>\n",
       "      <td>42.404321</td>\n",
       "      <td>1</td>\n",
       "    </tr>\n",
       "    <tr>\n",
       "      <th>4</th>\n",
       "      <td>-70.99217754599157_42.39778478905404</td>\n",
       "      <td>-70.992178</td>\n",
       "      <td>42.397785</td>\n",
       "      <td>1</td>\n",
       "    </tr>\n",
       "  </tbody>\n",
       "</table>\n",
       "</div>"
      ],
      "text/plain": [
       "                                   Name  Longitude   Latitude  Catenary\n",
       "0  -70.99141024363398_42.39987983654313 -70.991410  42.399880         1\n",
       "1   -70.9916645142435_42.41343348702443 -70.991665  42.413433         1\n",
       "2   -70.99169316827988_42.3987030963677 -70.991693  42.398703         1\n",
       "3  -70.99195436847552_42.40432141901854 -70.991954  42.404321         1\n",
       "4  -70.99217754599157_42.39778478905404 -70.992178  42.397785         1"
      ]
     },
     "execution_count": 28,
     "metadata": {},
     "output_type": "execute_result"
    }
   ],
   "source": [
    "'''\n",
    "Open csv with current points\n",
    "'''\n",
    "\n",
    "curr_df = pd.read_csv(output_csv)\n",
    "curr_df.head()"
   ]
  },
  {
   "cell_type": "code",
   "execution_count": 81,
   "metadata": {},
   "outputs": [
    {
     "name": "stdout",
     "output_type": "stream",
     "text": [
      "3441 points\n"
     ]
    }
   ],
   "source": [
    "'''\n",
    "Get all points\n",
    "'''\n",
    "\n",
    "points = []\n",
    "rows = routes.index.tolist()\n",
    "\n",
    "geom_types = routes['geometry'].tolist()\n",
    "for i in rows:\n",
    "    try:\n",
    "        route = routes.loc[i]\n",
    "        if route.geometry.geom_type == 'LineString':\n",
    "            g = route.geometry\n",
    "            sec_points = mapping(g)[\"coordinates\"]\n",
    "            for j in sec_points:\n",
    "                tmp = (j[0],j[1])\n",
    "                points.append(tmp)\n",
    "        elif route.geometry.geom_type == 'MultiLineString':\n",
    "            g = route.geometry\n",
    "            tmp = mapping(g)[\"coordinates\"]\n",
    "            for sec_points in tmp:\n",
    "                for j in sec_points:\n",
    "                    tmp = (j[0],j[1])\n",
    "                    points.append(tmp)\n",
    "    except Exception as e:\n",
    "        print(\"Skipped route number\",i,'because',e)        \n",
    "        \n",
    "    \n",
    "print(len(points),'points')   "
   ]
  },
  {
   "cell_type": "code",
   "execution_count": 82,
   "metadata": {},
   "outputs": [
    {
     "name": "stdout",
     "output_type": "stream",
     "text": [
      "345\n"
     ]
    }
   ],
   "source": [
    "'''\n",
    "Get subselection of points\n",
    "'''\n",
    "curr_points = list(zip(curr_df['Longitude'].tolist(),curr_df['Latitude'].tolist()))\n",
    "# curr_points\n",
    "\n",
    "route_points = []\n",
    "for point in range(0,len(points),10):\n",
    "    tmp = points[point]\n",
    "    if tmp not in curr_points:\n",
    "        route_points.append(tmp)\n",
    "\n",
    "print(len(route_points))"
   ]
  },
  {
   "cell_type": "code",
   "execution_count": 76,
   "metadata": {},
   "outputs": [
    {
     "data": {
      "text/html": [
       "<div>\n",
       "<style scoped>\n",
       "    .dataframe tbody tr th:only-of-type {\n",
       "        vertical-align: middle;\n",
       "    }\n",
       "\n",
       "    .dataframe tbody tr th {\n",
       "        vertical-align: top;\n",
       "    }\n",
       "\n",
       "    .dataframe thead th {\n",
       "        text-align: right;\n",
       "    }\n",
       "</style>\n",
       "<table border=\"1\" class=\"dataframe\">\n",
       "  <thead>\n",
       "    <tr style=\"text-align: right;\">\n",
       "      <th></th>\n",
       "      <th>Name</th>\n",
       "      <th>Longitude</th>\n",
       "      <th>Latitude</th>\n",
       "    </tr>\n",
       "  </thead>\n",
       "  <tbody>\n",
       "    <tr>\n",
       "      <th>0</th>\n",
       "      <td>-71.10139485815532_42.34757795399692</td>\n",
       "      <td>-71.101395</td>\n",
       "      <td>42.347578</td>\n",
       "    </tr>\n",
       "    <tr>\n",
       "      <th>1</th>\n",
       "      <td>-71.07049870402773_42.35190183422198</td>\n",
       "      <td>-71.070499</td>\n",
       "      <td>42.351902</td>\n",
       "    </tr>\n",
       "    <tr>\n",
       "      <th>2</th>\n",
       "      <td>-71.0656533116973_42.35254673312252</td>\n",
       "      <td>-71.065653</td>\n",
       "      <td>42.352547</td>\n",
       "    </tr>\n",
       "    <tr>\n",
       "      <th>3</th>\n",
       "      <td>-71.06476536076444_42.35261548205476</td>\n",
       "      <td>-71.064765</td>\n",
       "      <td>42.352615</td>\n",
       "    </tr>\n",
       "    <tr>\n",
       "      <th>4</th>\n",
       "      <td>-71.06419944915932_42.353629717929635</td>\n",
       "      <td>-71.064199</td>\n",
       "      <td>42.353630</td>\n",
       "    </tr>\n",
       "  </tbody>\n",
       "</table>\n",
       "</div>"
      ],
      "text/plain": [
       "                                    Name  Longitude   Latitude\n",
       "0   -71.10139485815532_42.34757795399692 -71.101395  42.347578\n",
       "1   -71.07049870402773_42.35190183422198 -71.070499  42.351902\n",
       "2    -71.0656533116973_42.35254673312252 -71.065653  42.352547\n",
       "3   -71.06476536076444_42.35261548205476 -71.064765  42.352615\n",
       "4  -71.06419944915932_42.353629717929635 -71.064199  42.353630"
      ]
     },
     "execution_count": 76,
     "metadata": {},
     "output_type": "execute_result"
    }
   ],
   "source": [
    "'''\n",
    "Create dataframe\n",
    "'''\n",
    "\n",
    "df = pd.DataFrame(route_points, columns=['Longitude','Latitude'])\n",
    "\n",
    "tmp = list(df.Latitude.tolist())\n",
    "names = []\n",
    "for i in range(0,len(tmp)):\n",
    "    name = str(df.iloc[i].Longitude)+'_'+str(df.iloc[i].Latitude)\n",
    "    names.append(name)\n",
    "\n",
    "df['Name'] = names\n",
    "\n",
    "columns = ['Name','Longitude','Latitude']\n",
    "df= df[columns]\n",
    "\n",
    "df.head()"
   ]
  },
  {
   "cell_type": "code",
   "execution_count": 38,
   "metadata": {},
   "outputs": [],
   "source": [
    "'''\n",
    "Export points\n",
    "'''\n",
    "with open(output_csv, 'a') as f:\n",
    "    df.to_csv(f, header=False,index=None)\n",
    "\n",
    "# df.to_csv(output_csv,header=True,index=None)\n",
    "# df.to_csv('tmp.csv',header=True,index=None)"
   ]
  },
  {
   "cell_type": "code",
   "execution_count": 83,
   "metadata": {
    "scrolled": false
   },
   "outputs": [
    {
     "data": {
      "text/html": [
       "<div style=\"width:100%;\"><div style=\"position:relative;width:100%;height:0;padding-bottom:60%;\"><iframe src=\"data:text/html;charset=utf-8;base64,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\" style=\"position:absolute;width:100%;height:100%;left:0;top:0;border:none !important;\" allowfullscreen webkitallowfullscreen mozallowfullscreen></iframe></div></div>"
      ],
      "text/plain": [
       "<folium.folium.Map at 0x116ccedd8>"
      ]
     },
     "execution_count": 83,
     "metadata": {},
     "output_type": "execute_result"
    }
   ],
   "source": [
    "'''\n",
    "Plot markers\n",
    "'''\n",
    "\n",
    "rows = df.index.tolist()\n",
    "\n",
    "marker_points = []\n",
    "for row in rows:\n",
    "    marker_points.append((df.iloc[row].Latitude,df.iloc[row].Longitude))\n",
    "    \n",
    "# Set map centerpoint\n",
    "coords = marker_points[0]\n",
    "       \n",
    "# Define map\n",
    "m = folium.Map(\n",
    "    location = coords,\n",
    "    zoom_start = 13\n",
    ")\n",
    "  \n",
    "# Add points    \n",
    "for mp in marker_points:\n",
    "    folium.Marker(mp).add_to(m)\n",
    "m"
   ]
  },
  {
   "cell_type": "code",
   "execution_count": 108,
   "metadata": {},
   "outputs": [
    {
     "data": {
      "application/vnd.jupyter.widget-view+json": {
       "model_id": "d2f15aa411824e82b2ed1b6764a96f1c",
       "version_major": 2,
       "version_minor": 0
      },
      "text/plain": [
       "Figure(layout=FigureLayout(height='800px', width='100%'))"
      ]
     },
     "metadata": {},
     "output_type": "display_data"
    }
   ],
   "source": [
    "'''\n",
    "Get satellite preview for image\n",
    "'''\n",
    "\n",
    "row = 0\n",
    "\n",
    "figure_layout = {\n",
    "    'width': '100%',\n",
    "    'height': '800px'\n",
    "}\n",
    "fig = gmaps.figure(center = (df.iloc[row].Latitude,df.iloc[row].Longitude), zoom_level = 19,map_type='SATELLITE',layout=figure_layout)\n",
    "fig"
   ]
  },
  {
   "cell_type": "code",
   "execution_count": 9,
   "metadata": {},
   "outputs": [],
   "source": [
    "'''\n",
    "Get all images \n",
    "'''\n",
    "\n",
    "root = os.path.dirname(os.path.abspath('Africa.ipynb'))\n",
    "image_folder = root[:-9]+update_folder[3:]\n",
    "image_folder\n",
    "\n",
    "url = 'https://maps.googleapis.com/maps/api/staticmap?'\n",
    "rows = df.index.tolist()\n",
    "for i in range(0,len(rows)):\n",
    "    row = df.iloc[i]\n",
    "    center = str(row.Latitude)+','+str(row.Longitude)\n",
    "    payload = {\n",
    "        'center': center, \n",
    "        'zoom': 20,\n",
    "        'size': '640x640',\n",
    "        'scale': 2,\n",
    "        'format': 'png32',\n",
    "        'maptype': 'satellite',\n",
    "        'key': token\n",
    "    }\n",
    "    \n",
    "    r = requests.get(url,params=payload,stream=True)\n",
    "\n",
    "    name = df.iloc[i]['Name']\n",
    "    filename = image_folder+name+'.png'\n",
    "    if r.status_code == 200:\n",
    "        with open(filename, 'wb') as f:\n",
    "            r.raw.decode_content = True\n",
    "            shutil.copyfileobj(r.raw, f) "
   ]
  },
  {
   "cell_type": "code",
   "execution_count": null,
   "metadata": {},
   "outputs": [],
   "source": []
  }
 ],
 "metadata": {
  "kernelspec": {
   "display_name": "Python 3",
   "language": "python",
   "name": "python3"
  },
  "language_info": {
   "codemirror_mode": {
    "name": "ipython",
    "version": 3
   },
   "file_extension": ".py",
   "mimetype": "text/x-python",
   "name": "python",
   "nbconvert_exporter": "python",
   "pygments_lexer": "ipython3",
   "version": "3.7.3"
  }
 },
 "nbformat": 4,
 "nbformat_minor": 2
}
