{
 "cells": [
  {
   "cell_type": "code",
   "execution_count": 1,
   "metadata": {},
   "outputs": [],
   "source": [
    "import pandas as pd\n",
    "import geopandas as gpd\n",
    "import matplotlib.pyplot as plt\n",
    "from shapely.geometry import mapping\n",
    "import folium\n",
    "import gmaps\n",
    "import os\n",
    "import requests\n",
    "import shutil"
   ]
  },
  {
   "cell_type": "code",
   "execution_count": 2,
   "metadata": {},
   "outputs": [],
   "source": [
    "with open('../resources/key.txt') as f:\n",
    "    token = f.read()\n",
    "    \n",
    "gmaps.configure(api_key = token)"
   ]
  },
  {
   "cell_type": "code",
   "execution_count": 3,
   "metadata": {},
   "outputs": [],
   "source": [
    "'''\n",
    "Set local I/O\n",
    "'''\n",
    "\n",
    "# Set folder and filename for rail GIS file\n",
    "rail_folder = '../data/railways/mbta_rapid_transit/'\n",
    "rail_file = rail_folder+'MBTA_ARC.shp'\n",
    "\n",
    "# Set folder and filename for rail CSV file\n",
    "output_folder = '../data/output_images/BostonMTBA/'\n",
    "output_csv = output_folder+'BOS.csv'\n",
    "\n",
    "# Set folder for new images\n",
    "image_folder = output_folder+'set_3/'"
   ]
  },
  {
   "cell_type": "markdown",
   "metadata": {},
   "source": [
    "### Import Routes"
   ]
  },
  {
   "cell_type": "code",
   "execution_count": 8,
   "metadata": {
    "scrolled": true
   },
   "outputs": [
    {
     "data": {
      "text/html": [
       "<div>\n",
       "<style scoped>\n",
       "    .dataframe tbody tr th:only-of-type {\n",
       "        vertical-align: middle;\n",
       "    }\n",
       "\n",
       "    .dataframe tbody tr th {\n",
       "        vertical-align: top;\n",
       "    }\n",
       "\n",
       "    .dataframe thead th {\n",
       "        text-align: right;\n",
       "    }\n",
       "</style>\n",
       "<table border=\"1\" class=\"dataframe\">\n",
       "  <thead>\n",
       "    <tr style=\"text-align: right;\">\n",
       "      <th></th>\n",
       "      <th>LINE</th>\n",
       "      <th>ROUTE</th>\n",
       "      <th>GRADE</th>\n",
       "      <th>SHAPE_LEN</th>\n",
       "      <th>geometry</th>\n",
       "    </tr>\n",
       "  </thead>\n",
       "  <tbody>\n",
       "    <tr>\n",
       "      <th>0</th>\n",
       "      <td>GREEN</td>\n",
       "      <td>C D</td>\n",
       "      <td>7</td>\n",
       "      <td>458.386096</td>\n",
       "      <td>LINESTRING (-71.10139485815532 42.347577953996...</td>\n",
       "    </tr>\n",
       "    <tr>\n",
       "      <th>1</th>\n",
       "      <td>GREEN</td>\n",
       "      <td>B C D E</td>\n",
       "      <td>7</td>\n",
       "      <td>2121.006147</td>\n",
       "      <td>LINESTRING (-71.07920620455907 42.349579702367...</td>\n",
       "    </tr>\n",
       "    <tr>\n",
       "      <th>2</th>\n",
       "      <td>RED</td>\n",
       "      <td>A - Ashmont B - Braintree  C - Alewife</td>\n",
       "      <td>7</td>\n",
       "      <td>7955.708839</td>\n",
       "      <td>LINESTRING (-71.08197671857094 42.361992845118...</td>\n",
       "    </tr>\n",
       "    <tr>\n",
       "      <th>3</th>\n",
       "      <td>GREEN</td>\n",
       "      <td>C E</td>\n",
       "      <td>7</td>\n",
       "      <td>1241.873692</td>\n",
       "      <td>LINESTRING (-71.05945866821224 42.359296597842...</td>\n",
       "    </tr>\n",
       "    <tr>\n",
       "      <th>4</th>\n",
       "      <td>GREEN</td>\n",
       "      <td>B C D</td>\n",
       "      <td>7</td>\n",
       "      <td>1466.201312</td>\n",
       "      <td>LINESTRING (-71.09616476184985 42.348960933708...</td>\n",
       "    </tr>\n",
       "  </tbody>\n",
       "</table>\n",
       "</div>"
      ],
      "text/plain": [
       "    LINE                                   ROUTE  GRADE    SHAPE_LEN  \\\n",
       "0  GREEN                                     C D      7   458.386096   \n",
       "1  GREEN                                 B C D E      7  2121.006147   \n",
       "2    RED  A - Ashmont B - Braintree  C - Alewife      7  7955.708839   \n",
       "3  GREEN                                     C E      7  1241.873692   \n",
       "4  GREEN                                   B C D      7  1466.201312   \n",
       "\n",
       "                                            geometry  \n",
       "0  LINESTRING (-71.10139485815532 42.347577953996...  \n",
       "1  LINESTRING (-71.07920620455907 42.349579702367...  \n",
       "2  LINESTRING (-71.08197671857094 42.361992845118...  \n",
       "3  LINESTRING (-71.05945866821224 42.359296597842...  \n",
       "4  LINESTRING (-71.09616476184985 42.348960933708...  "
      ]
     },
     "execution_count": 8,
     "metadata": {},
     "output_type": "execute_result"
    }
   ],
   "source": [
    "routes = gpd.read_file(rail_file)\n",
    "routes = routes.to_crs({'init' :'epsg:4269'})\n",
    "routes.head()"
   ]
  },
  {
   "cell_type": "code",
   "execution_count": 5,
   "metadata": {},
   "outputs": [
    {
     "data": {
      "text/plain": [
       "(136, 5)"
      ]
     },
     "execution_count": 5,
     "metadata": {},
     "output_type": "execute_result"
    }
   ],
   "source": [
    "routes.shape"
   ]
  },
  {
   "cell_type": "code",
   "execution_count": 6,
   "metadata": {},
   "outputs": [
    {
     "name": "stdout",
     "output_type": "stream",
     "text": [
      "3441 points\n"
     ]
    }
   ],
   "source": [
    "'''\n",
    "Get all points\n",
    "'''\n",
    "\n",
    "points = []\n",
    "rows = routes.index.tolist()\n",
    "\n",
    "geom_types = routes['geometry'].tolist()\n",
    "for i in rows:\n",
    "    try:\n",
    "        route = routes.loc[i]\n",
    "        if route.geometry.geom_type == 'LineString':\n",
    "            g = route.geometry\n",
    "            sec_points = mapping(g)[\"coordinates\"]\n",
    "            for j in sec_points:\n",
    "                tmp = (j[0],j[1])\n",
    "                points.append(tmp)\n",
    "        elif route.geometry.geom_type == 'MultiLineString':\n",
    "            g = route.geometry\n",
    "            tmp = mapping(g)[\"coordinates\"]\n",
    "            for sec_points in tmp:\n",
    "                for j in sec_points:\n",
    "                    tmp = (j[0],j[1])\n",
    "                    points.append(tmp)\n",
    "    except Exception as e:\n",
    "        print(\"Skipped route number\",i,'because',e)        \n",
    "        \n",
    "    \n",
    "print(len(points),'points')   "
   ]
  },
  {
   "cell_type": "code",
   "execution_count": null,
   "metadata": {},
   "outputs": [],
   "source": [
    "'''\n",
    "Get points for 1 or more routes\n",
    "'''\n",
    "\n",
    "rows = [0]\n",
    "\n",
    "points = []\n",
    "for i in range(0,len(routes.OBJECTID.tolist())):\n",
    "    if i in rows:\n",
    "    #     print('Route',i)\n",
    "        try:\n",
    "            route = routes.iloc[i]\n",
    "            g = [m for m in route.geometry]\n",
    "    #         print('\\t',len(g),'sections')\n",
    "            for j in range(0,len(g)):\n",
    "    #             print('   section',j)\n",
    "                sec_points = mapping(g[j])[\"coordinates\"]\n",
    "                for k in range(0,len(sec_points)):\n",
    "    #                 print('      point',k)\n",
    "                    points.append(sec_points[k])\n",
    "        except Exception as e:\n",
    "            print(\"Skipped route number\",i,'because',e)\n",
    "\n",
    "print(len(points),'points')"
   ]
  },
  {
   "cell_type": "code",
   "execution_count": null,
   "metadata": {},
   "outputs": [],
   "source": [
    "'''\n",
    "Get points for single route/section\n",
    "'''\n",
    "\n",
    "row = 0\n",
    "section = 0\n",
    "\n",
    "points = []\n",
    "try:\n",
    "    route = routes.iloc[row]\n",
    "    g = [i for i in route.geometry]\n",
    "    len(g)\n",
    "\n",
    "    points = mapping(g[section])[\"coordinates\"]\n",
    "except Exception as e:\n",
    "    print(\"Skipped route number\",row,'because',e)\n",
    "    \n",
    "print(len(points),'points')"
   ]
  },
  {
   "cell_type": "markdown",
   "metadata": {},
   "source": [
    "##### Get nth number"
   ]
  },
  {
   "cell_type": "code",
   "execution_count": 11,
   "metadata": {},
   "outputs": [
    {
     "data": {
      "text/html": [
       "<div>\n",
       "<style scoped>\n",
       "    .dataframe tbody tr th:only-of-type {\n",
       "        vertical-align: middle;\n",
       "    }\n",
       "\n",
       "    .dataframe tbody tr th {\n",
       "        vertical-align: top;\n",
       "    }\n",
       "\n",
       "    .dataframe thead th {\n",
       "        text-align: right;\n",
       "    }\n",
       "</style>\n",
       "<table border=\"1\" class=\"dataframe\">\n",
       "  <thead>\n",
       "    <tr style=\"text-align: right;\">\n",
       "      <th></th>\n",
       "      <th>Name</th>\n",
       "      <th>Longitude</th>\n",
       "      <th>Latitude</th>\n",
       "      <th>Catenary</th>\n",
       "    </tr>\n",
       "  </thead>\n",
       "  <tbody>\n",
       "    <tr>\n",
       "      <th>0</th>\n",
       "      <td>-70.99141024363398_42.39987983654313</td>\n",
       "      <td>-70.991410</td>\n",
       "      <td>42.399880</td>\n",
       "      <td>1</td>\n",
       "    </tr>\n",
       "    <tr>\n",
       "      <th>1</th>\n",
       "      <td>-70.9916645142435_42.41343348702443</td>\n",
       "      <td>-70.991665</td>\n",
       "      <td>42.413433</td>\n",
       "      <td>1</td>\n",
       "    </tr>\n",
       "    <tr>\n",
       "      <th>2</th>\n",
       "      <td>-70.99169316827988_42.3987030963677</td>\n",
       "      <td>-70.991693</td>\n",
       "      <td>42.398703</td>\n",
       "      <td>1</td>\n",
       "    </tr>\n",
       "    <tr>\n",
       "      <th>3</th>\n",
       "      <td>-70.99195436847552_42.40432141901854</td>\n",
       "      <td>-70.991954</td>\n",
       "      <td>42.404321</td>\n",
       "      <td>1</td>\n",
       "    </tr>\n",
       "    <tr>\n",
       "      <th>4</th>\n",
       "      <td>-70.99217754599157_42.39778478905404</td>\n",
       "      <td>-70.992178</td>\n",
       "      <td>42.397785</td>\n",
       "      <td>1</td>\n",
       "    </tr>\n",
       "  </tbody>\n",
       "</table>\n",
       "</div>"
      ],
      "text/plain": [
       "                                   Name  Longitude   Latitude  Catenary\n",
       "0  -70.99141024363398_42.39987983654313 -70.991410  42.399880         1\n",
       "1   -70.9916645142435_42.41343348702443 -70.991665  42.413433         1\n",
       "2   -70.99169316827988_42.3987030963677 -70.991693  42.398703         1\n",
       "3  -70.99195436847552_42.40432141901854 -70.991954  42.404321         1\n",
       "4  -70.99217754599157_42.39778478905404 -70.992178  42.397785         1"
      ]
     },
     "execution_count": 11,
     "metadata": {},
     "output_type": "execute_result"
    }
   ],
   "source": [
    "'''\n",
    "Open csv with current points\n",
    "'''\n",
    "\n",
    "curr_df = pd.read_csv(output_csv)\n",
    "curr_df.head()"
   ]
  },
  {
   "cell_type": "code",
   "execution_count": 22,
   "metadata": {},
   "outputs": [
    {
     "name": "stdout",
     "output_type": "stream",
     "text": [
      "50\n"
     ]
    }
   ],
   "source": [
    "'''\n",
    "Get subselection of points excuding current points\n",
    "'''\n",
    "rows = curr_df.index.tolist()\n",
    "curr_points = []\n",
    "for row in rows:\n",
    "    tmp = curr_df.iloc[row].Name\n",
    "    space = tmp.find('_') \n",
    "    longitude = tmp[:space]\n",
    "    latitude = tmp[space+1:]\n",
    "    curr_points.append((longitude,latitude))\n",
    "\n",
    "route_points = []\n",
    "for point in range(0,len(points),70):\n",
    "    tmp = points[point]\n",
    "    if tmp not in curr_points:\n",
    "        route_points.append(tmp)\n",
    "\n",
    "print(len(route_points))"
   ]
  },
  {
   "cell_type": "code",
   "execution_count": 23,
   "metadata": {},
   "outputs": [
    {
     "data": {
      "text/html": [
       "<div>\n",
       "<style scoped>\n",
       "    .dataframe tbody tr th:only-of-type {\n",
       "        vertical-align: middle;\n",
       "    }\n",
       "\n",
       "    .dataframe tbody tr th {\n",
       "        vertical-align: top;\n",
       "    }\n",
       "\n",
       "    .dataframe thead th {\n",
       "        text-align: right;\n",
       "    }\n",
       "</style>\n",
       "<table border=\"1\" class=\"dataframe\">\n",
       "  <thead>\n",
       "    <tr style=\"text-align: right;\">\n",
       "      <th></th>\n",
       "      <th>Name</th>\n",
       "      <th>Longitude</th>\n",
       "      <th>Latitude</th>\n",
       "    </tr>\n",
       "  </thead>\n",
       "  <tbody>\n",
       "    <tr>\n",
       "      <th>0</th>\n",
       "      <td>-71.10139485815532_42.34757795399692</td>\n",
       "      <td>-71.101395</td>\n",
       "      <td>42.347578</td>\n",
       "    </tr>\n",
       "    <tr>\n",
       "      <th>1</th>\n",
       "      <td>-71.08325875948356_42.36210602464876</td>\n",
       "      <td>-71.083259</td>\n",
       "      <td>42.362106</td>\n",
       "    </tr>\n",
       "    <tr>\n",
       "      <th>2</th>\n",
       "      <td>-71.1195685905525_42.383786413544435</td>\n",
       "      <td>-71.119569</td>\n",
       "      <td>42.383786</td>\n",
       "    </tr>\n",
       "    <tr>\n",
       "      <th>3</th>\n",
       "      <td>-71.0579980278602_42.36115026198538</td>\n",
       "      <td>-71.057998</td>\n",
       "      <td>42.361150</td>\n",
       "    </tr>\n",
       "    <tr>\n",
       "      <th>4</th>\n",
       "      <td>-71.09146005378248_42.34802592449595</td>\n",
       "      <td>-71.091460</td>\n",
       "      <td>42.348026</td>\n",
       "    </tr>\n",
       "  </tbody>\n",
       "</table>\n",
       "</div>"
      ],
      "text/plain": [
       "                                   Name  Longitude   Latitude\n",
       "0  -71.10139485815532_42.34757795399692 -71.101395  42.347578\n",
       "1  -71.08325875948356_42.36210602464876 -71.083259  42.362106\n",
       "2  -71.1195685905525_42.383786413544435 -71.119569  42.383786\n",
       "3   -71.0579980278602_42.36115026198538 -71.057998  42.361150\n",
       "4  -71.09146005378248_42.34802592449595 -71.091460  42.348026"
      ]
     },
     "execution_count": 23,
     "metadata": {},
     "output_type": "execute_result"
    }
   ],
   "source": [
    "'''\n",
    "Create dataframe\n",
    "'''\n",
    "\n",
    "df = pd.DataFrame(route_points, columns=['Longitude','Latitude'])\n",
    "\n",
    "tmp = list(df.Latitude.tolist())\n",
    "names = []\n",
    "for i in range(0,len(tmp)):\n",
    "    name = str(df.iloc[i].Longitude)+'_'+str(df.iloc[i].Latitude)\n",
    "    names.append(name)\n",
    "\n",
    "df['Name'] = names\n",
    "\n",
    "columns = ['Name','Longitude','Latitude']\n",
    "df= df[columns]\n",
    "\n",
    "df.head()"
   ]
  },
  {
   "cell_type": "code",
   "execution_count": 25,
   "metadata": {
    "scrolled": false
   },
   "outputs": [
    {
     "data": {
      "text/html": [
       "<div style=\"width:100%;\"><div style=\"position:relative;width:100%;height:0;padding-bottom:60%;\"><iframe src=\"data:text/html;charset=utf-8;base64,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\" style=\"position:absolute;width:100%;height:100%;left:0;top:0;border:none !important;\" allowfullscreen webkitallowfullscreen mozallowfullscreen></iframe></div></div>"
      ],
      "text/plain": [
       "<folium.folium.Map at 0x11dd98f60>"
      ]
     },
     "execution_count": 25,
     "metadata": {},
     "output_type": "execute_result"
    }
   ],
   "source": [
    "'''\n",
    "Plot markers\n",
    "'''\n",
    "\n",
    "rows = df.index.tolist()\n",
    "\n",
    "marker_points = []\n",
    "for row in rows:\n",
    "    marker_points.append((df.iloc[row].Latitude,df.iloc[row].Longitude))\n",
    "    \n",
    "# Set map centerpoint\n",
    "coords = marker_points[0]\n",
    "       \n",
    "# Define map\n",
    "m = folium.Map(\n",
    "    location = coords,\n",
    "    zoom_start = 13\n",
    ")\n",
    "  \n",
    "# Add points    \n",
    "for mp in marker_points:\n",
    "    folium.Marker(mp).add_to(m)\n",
    "m"
   ]
  },
  {
   "cell_type": "code",
   "execution_count": 108,
   "metadata": {},
   "outputs": [
    {
     "data": {
      "application/vnd.jupyter.widget-view+json": {
       "model_id": "d2f15aa411824e82b2ed1b6764a96f1c",
       "version_major": 2,
       "version_minor": 0
      },
      "text/plain": [
       "Figure(layout=FigureLayout(height='800px', width='100%'))"
      ]
     },
     "metadata": {},
     "output_type": "display_data"
    }
   ],
   "source": [
    "'''\n",
    "Get satellite preview for image\n",
    "'''\n",
    "\n",
    "row = 0\n",
    "\n",
    "figure_layout = {\n",
    "    'width': '100%',\n",
    "    'height': '800px'\n",
    "}\n",
    "fig = gmaps.figure(center = (df.iloc[row].Latitude,df.iloc[row].Longitude), zoom_level = 19,map_type='SATELLITE',layout=figure_layout)\n",
    "fig"
   ]
  },
  {
   "cell_type": "code",
   "execution_count": 24,
   "metadata": {},
   "outputs": [],
   "source": [
    "'''\n",
    "Export points\n",
    "'''\n",
    "\n",
    "# Update\n",
    "with open(output_csv, 'a') as f:\n",
    "    df.to_csv(f, header=False,index=None)\n",
    "\n",
    "# Write new\n",
    "# df.to_csv(output_csv,header=True,index=None)\n",
    "# df.to_csv('tmp.csv',header=True,index=None)"
   ]
  },
  {
   "cell_type": "code",
   "execution_count": 99,
   "metadata": {},
   "outputs": [],
   "source": [
    "'''\n",
    "Get all images \n",
    "'''\n",
    "\n",
    "root = os.path.dirname(os.path.abspath('Collection.ipynb'))\n",
    "img_folder = root[:-9]+image_folder[3:]\n",
    "img_folder\n",
    "\n",
    "url = 'https://maps.googleapis.com/maps/api/staticmap?'\n",
    "rows = df.index.tolist()\n",
    "for i in range(0,len(rows)):\n",
    "    row = df.iloc[i]\n",
    "    center = str(row.Latitude)+','+str(row.Longitude)\n",
    "    payload = {\n",
    "        'center': center, \n",
    "        'zoom': 20,\n",
    "        'size': '640x640',\n",
    "        'scale': 2,\n",
    "        'format': 'png32',\n",
    "        'maptype': 'satellite',\n",
    "        'key': token\n",
    "    }\n",
    "    \n",
    "    r = requests.get(url,params=payload,stream=True)\n",
    "\n",
    "    name = df.iloc[i]['Name']\n",
    "    filename = img_folder+name+'.png'\n",
    "    if r.status_code == 200:\n",
    "        with open(filename, 'wb') as f:\n",
    "            r.raw.decode_content = True\n",
    "            shutil.copyfileobj(r.raw, f) "
   ]
  },
  {
   "cell_type": "code",
   "execution_count": null,
   "metadata": {},
   "outputs": [],
   "source": []
  }
 ],
 "metadata": {
  "kernelspec": {
   "display_name": "Python 3",
   "language": "python",
   "name": "python3"
  },
  "language_info": {
   "codemirror_mode": {
    "name": "ipython",
    "version": 3
   },
   "file_extension": ".py",
   "mimetype": "text/x-python",
   "name": "python",
   "nbconvert_exporter": "python",
   "pygments_lexer": "ipython3",
   "version": "3.7.3"
  }
 },
 "nbformat": 4,
 "nbformat_minor": 2
}
