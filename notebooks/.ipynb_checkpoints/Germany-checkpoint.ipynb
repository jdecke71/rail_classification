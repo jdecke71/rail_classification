{
 "cells": [
  {
   "cell_type": "code",
   "execution_count": 1,
   "metadata": {},
   "outputs": [],
   "source": [
    "import pandas as pd\n",
    "import geopandas as gpd\n",
    "import matplotlib.pyplot as plt\n",
    "from shapely.geometry import mapping\n",
    "import folium\n",
    "import googlemaps\n",
    "import gmaps\n",
    "import os\n",
    "import requests\n",
    "import shutil\n",
    "from google.cloud import translate\n",
    "from IPython.display import Image"
   ]
  },
  {
   "cell_type": "code",
   "execution_count": 2,
   "metadata": {},
   "outputs": [],
   "source": [
    "with open('../resources/key.txt') as f:\n",
    "    token = f.read()\n",
    "    \n",
    "gmaps.configure(api_key = token)"
   ]
  },
  {
   "cell_type": "code",
   "execution_count": 3,
   "metadata": {},
   "outputs": [],
   "source": [
    "input_folder = '../data/railways/germany-railways-shape/'\n",
    "input_file = input_folder+'railways.shp'\n",
    "\n",
    "output_folder = '../data/output_images/Germany/'\n",
    "output_csv = output_folder+'GRM.csv'\n",
    "\n",
    "update_folder = output_folder+'/set_2/'"
   ]
  },
  {
   "cell_type": "markdown",
   "metadata": {},
   "source": [
    "#### Import routes"
   ]
  },
  {
   "cell_type": "code",
   "execution_count": 12,
   "metadata": {},
   "outputs": [
    {
     "data": {
      "text/html": [
       "<div>\n",
       "<style scoped>\n",
       "    .dataframe tbody tr th:only-of-type {\n",
       "        vertical-align: middle;\n",
       "    }\n",
       "\n",
       "    .dataframe tbody tr th {\n",
       "        vertical-align: top;\n",
       "    }\n",
       "\n",
       "    .dataframe thead th {\n",
       "        text-align: right;\n",
       "    }\n",
       "</style>\n",
       "<table border=\"1\" class=\"dataframe\">\n",
       "  <thead>\n",
       "    <tr style=\"text-align: right;\">\n",
       "      <th></th>\n",
       "      <th>osm_id</th>\n",
       "      <th>name</th>\n",
       "      <th>type</th>\n",
       "      <th>geometry</th>\n",
       "    </tr>\n",
       "  </thead>\n",
       "  <tbody>\n",
       "    <tr>\n",
       "      <th>0</th>\n",
       "      <td>2402605</td>\n",
       "      <td>None</td>\n",
       "      <td>tram</td>\n",
       "      <td>LINESTRING (10.9021988 48.3521243, 10.9021953 ...</td>\n",
       "    </tr>\n",
       "    <tr>\n",
       "      <th>1</th>\n",
       "      <td>2402606</td>\n",
       "      <td>3</td>\n",
       "      <td>tram</td>\n",
       "      <td>LINESTRING (10.8937679 48.31041820000001, 10.8...</td>\n",
       "    </tr>\n",
       "    <tr>\n",
       "      <th>2</th>\n",
       "      <td>2467882</td>\n",
       "      <td>Stadtbahn U1, U13</td>\n",
       "      <td>rail</td>\n",
       "      <td>LINESTRING (9.2172812 48.803314, 9.21760910000...</td>\n",
       "    </tr>\n",
       "    <tr>\n",
       "      <th>3</th>\n",
       "      <td>2481116</td>\n",
       "      <td>None</td>\n",
       "      <td>rail</td>\n",
       "      <td>LINESTRING (10.8690368 48.3937811, 10.8681289 ...</td>\n",
       "    </tr>\n",
       "    <tr>\n",
       "      <th>4</th>\n",
       "      <td>2571242</td>\n",
       "      <td>Staudenbahn</td>\n",
       "      <td>preserved</td>\n",
       "      <td>LINESTRING (10.5939151 48.146509, 10.5935423 4...</td>\n",
       "    </tr>\n",
       "  </tbody>\n",
       "</table>\n",
       "</div>"
      ],
      "text/plain": [
       "    osm_id               name       type  \\\n",
       "0  2402605               None       tram   \n",
       "1  2402606                  3       tram   \n",
       "2  2467882  Stadtbahn U1, U13       rail   \n",
       "3  2481116               None       rail   \n",
       "4  2571242        Staudenbahn  preserved   \n",
       "\n",
       "                                            geometry  \n",
       "0  LINESTRING (10.9021988 48.3521243, 10.9021953 ...  \n",
       "1  LINESTRING (10.8937679 48.31041820000001, 10.8...  \n",
       "2  LINESTRING (9.2172812 48.803314, 9.21760910000...  \n",
       "3  LINESTRING (10.8690368 48.3937811, 10.8681289 ...  \n",
       "4  LINESTRING (10.5939151 48.146509, 10.5935423 4...  "
      ]
     },
     "execution_count": 12,
     "metadata": {},
     "output_type": "execute_result"
    }
   ],
   "source": [
    "routes = gpd.read_file(input_file)\n",
    "\n",
    "routes = routes.to_crs({'init' :'epsg:4326'})\n",
    "\n",
    "routes.head()"
   ]
  },
  {
   "cell_type": "code",
   "execution_count": 4,
   "metadata": {},
   "outputs": [
    {
     "data": {
      "text/plain": [
       "(60612, 4)"
      ]
     },
     "execution_count": 4,
     "metadata": {},
     "output_type": "execute_result"
    }
   ],
   "source": [
    "routes.shape"
   ]
  },
  {
   "cell_type": "code",
   "execution_count": 5,
   "metadata": {},
   "outputs": [
    {
     "data": {
      "text/plain": [
       "rail                46835\n",
       "tram                 4360\n",
       "light_rail           2396\n",
       "abandoned            2196\n",
       "platform             1546\n",
       "disused              1495\n",
       "subway                746\n",
       "preserved             464\n",
       "narrow_gauge          254\n",
       "construction          133\n",
       "turntable              55\n",
       "monorail               41\n",
       "station                23\n",
       "halt                   13\n",
       "preserved;narrow       12\n",
       "rack                    9\n",
       "viaduct                 4\n",
       "funicular               4\n",
       "footway                 3\n",
       "crossing                3\n",
       "level_crossing          3\n",
       "spur                    3\n",
       "<unterschiedlich        3\n",
       "service                 3\n",
       "plattform               2\n",
       "incline                 2\n",
       "peoplemover             1\n",
       "abandoned;light_        1\n",
       "Brexbachtalbahn         1\n",
       "container_termin        1\n",
       "Name: type, dtype: int64"
      ]
     },
     "execution_count": 5,
     "metadata": {},
     "output_type": "execute_result"
    }
   ],
   "source": [
    "routes['type'].value_counts()"
   ]
  },
  {
   "cell_type": "code",
   "execution_count": 13,
   "metadata": {},
   "outputs": [
    {
     "data": {
      "text/html": [
       "<div>\n",
       "<style scoped>\n",
       "    .dataframe tbody tr th:only-of-type {\n",
       "        vertical-align: middle;\n",
       "    }\n",
       "\n",
       "    .dataframe tbody tr th {\n",
       "        vertical-align: top;\n",
       "    }\n",
       "\n",
       "    .dataframe thead th {\n",
       "        text-align: right;\n",
       "    }\n",
       "</style>\n",
       "<table border=\"1\" class=\"dataframe\">\n",
       "  <thead>\n",
       "    <tr style=\"text-align: right;\">\n",
       "      <th></th>\n",
       "      <th>osm_id</th>\n",
       "      <th>name</th>\n",
       "      <th>type</th>\n",
       "      <th>geometry</th>\n",
       "    </tr>\n",
       "  </thead>\n",
       "  <tbody>\n",
       "    <tr>\n",
       "      <th>5</th>\n",
       "      <td>2588600</td>\n",
       "      <td>S3, S31</td>\n",
       "      <td>light_rail</td>\n",
       "      <td>LINESTRING (9.872649300000001 53.473188, 9.862...</td>\n",
       "    </tr>\n",
       "    <tr>\n",
       "      <th>171</th>\n",
       "      <td>4158975</td>\n",
       "      <td>None</td>\n",
       "      <td>light_rail</td>\n",
       "      <td>LINESTRING (8.403577 48.9847996, 8.4036445 48....</td>\n",
       "    </tr>\n",
       "    <tr>\n",
       "      <th>288</th>\n",
       "      <td>4242974</td>\n",
       "      <td>None</td>\n",
       "      <td>light_rail</td>\n",
       "      <td>LINESTRING (8.4029946 49.08933, 8.402808200000...</td>\n",
       "    </tr>\n",
       "    <tr>\n",
       "      <th>355</th>\n",
       "      <td>4251699</td>\n",
       "      <td>None</td>\n",
       "      <td>light_rail</td>\n",
       "      <td>LINESTRING (8.401653100000003 48.989128, 8.402...</td>\n",
       "    </tr>\n",
       "    <tr>\n",
       "      <th>356</th>\n",
       "      <td>4251700</td>\n",
       "      <td>None</td>\n",
       "      <td>light_rail</td>\n",
       "      <td>LINESTRING (8.398828200000001 48.9905039, 8.40...</td>\n",
       "    </tr>\n",
       "  </tbody>\n",
       "</table>\n",
       "</div>"
      ],
      "text/plain": [
       "      osm_id     name        type  \\\n",
       "5    2588600  S3, S31  light_rail   \n",
       "171  4158975     None  light_rail   \n",
       "288  4242974     None  light_rail   \n",
       "355  4251699     None  light_rail   \n",
       "356  4251700     None  light_rail   \n",
       "\n",
       "                                              geometry  \n",
       "5    LINESTRING (9.872649300000001 53.473188, 9.862...  \n",
       "171  LINESTRING (8.403577 48.9847996, 8.4036445 48....  \n",
       "288  LINESTRING (8.4029946 49.08933, 8.402808200000...  \n",
       "355  LINESTRING (8.401653100000003 48.989128, 8.402...  \n",
       "356  LINESTRING (8.398828200000001 48.9905039, 8.40...  "
      ]
     },
     "execution_count": 13,
     "metadata": {},
     "output_type": "execute_result"
    }
   ],
   "source": [
    "routes = routes[routes['type']=='light_rail']\n",
    "routes.head()"
   ]
  },
  {
   "cell_type": "markdown",
   "metadata": {},
   "source": [
    "#### Get points from routes"
   ]
  },
  {
   "cell_type": "code",
   "execution_count": 18,
   "metadata": {},
   "outputs": [
    {
     "name": "stdout",
     "output_type": "stream",
     "text": [
      "14032 points\n"
     ]
    }
   ],
   "source": [
    "'''\n",
    "Get all points\n",
    "'''\n",
    "\n",
    "points = []\n",
    "rows = routes.index.tolist()\n",
    "\n",
    "for i in rows:\n",
    "    try:\n",
    "        route = routes.loc[i]\n",
    "        g = route.geometry\n",
    "        sec_points = mapping(g)[\"coordinates\"]\n",
    "        for j in sec_points:\n",
    "            tmp = (j[0],j[1])\n",
    "            points.append(tmp)\n",
    "    except Exception as e:\n",
    "        print(\"Skipped route number\",i,'because',e)        \n",
    "        \n",
    "    \n",
    "print(len(points),'points')   "
   ]
  },
  {
   "cell_type": "code",
   "execution_count": 19,
   "metadata": {},
   "outputs": [
    {
     "name": "stdout",
     "output_type": "stream",
     "text": [
      "50 points\n"
     ]
    }
   ],
   "source": [
    "'''\n",
    "Get subselection of points\n",
    "'''\n",
    "\n",
    "route_points = []\n",
    "for point in range(0,len(points),285):\n",
    "    tmp = points[point]\n",
    "    route_points.append(tmp)\n",
    "\n",
    "print(len(route_points),'points')"
   ]
  },
  {
   "cell_type": "markdown",
   "metadata": {},
   "source": [
    "#### Create working dataset"
   ]
  },
  {
   "cell_type": "code",
   "execution_count": 10,
   "metadata": {},
   "outputs": [
    {
     "data": {
      "text/html": [
       "<div>\n",
       "<style scoped>\n",
       "    .dataframe tbody tr th:only-of-type {\n",
       "        vertical-align: middle;\n",
       "    }\n",
       "\n",
       "    .dataframe tbody tr th {\n",
       "        vertical-align: top;\n",
       "    }\n",
       "\n",
       "    .dataframe thead th {\n",
       "        text-align: right;\n",
       "    }\n",
       "</style>\n",
       "<table border=\"1\" class=\"dataframe\">\n",
       "  <thead>\n",
       "    <tr style=\"text-align: right;\">\n",
       "      <th></th>\n",
       "      <th>Name</th>\n",
       "      <th>Longitude</th>\n",
       "      <th>Latitude</th>\n",
       "    </tr>\n",
       "  </thead>\n",
       "  <tbody>\n",
       "    <tr>\n",
       "      <th>0</th>\n",
       "      <td>9.8726493_53.473188</td>\n",
       "      <td>9.872649</td>\n",
       "      <td>53.473188</td>\n",
       "    </tr>\n",
       "    <tr>\n",
       "      <th>1</th>\n",
       "      <td>8.5764313_48.7932684</td>\n",
       "      <td>8.576431</td>\n",
       "      <td>48.793268</td>\n",
       "    </tr>\n",
       "    <tr>\n",
       "      <th>2</th>\n",
       "      <td>13.3286934_52.5048651</td>\n",
       "      <td>13.328693</td>\n",
       "      <td>52.504865</td>\n",
       "    </tr>\n",
       "    <tr>\n",
       "      <th>3</th>\n",
       "      <td>13.3437392_52.5198835</td>\n",
       "      <td>13.343739</td>\n",
       "      <td>52.519883</td>\n",
       "    </tr>\n",
       "    <tr>\n",
       "      <th>4</th>\n",
       "      <td>8.389252_48.9419229</td>\n",
       "      <td>8.389252</td>\n",
       "      <td>48.941923</td>\n",
       "    </tr>\n",
       "  </tbody>\n",
       "</table>\n",
       "</div>"
      ],
      "text/plain": [
       "                    Name  Longitude   Latitude\n",
       "0    9.8726493_53.473188   9.872649  53.473188\n",
       "1   8.5764313_48.7932684   8.576431  48.793268\n",
       "2  13.3286934_52.5048651  13.328693  52.504865\n",
       "3  13.3437392_52.5198835  13.343739  52.519883\n",
       "4    8.389252_48.9419229   8.389252  48.941923"
      ]
     },
     "execution_count": 10,
     "metadata": {},
     "output_type": "execute_result"
    }
   ],
   "source": [
    "'''\n",
    "Create dataframe\n",
    "'''\n",
    "\n",
    "df = pd.DataFrame(route_points, columns=['Longitude','Latitude'])\n",
    "\n",
    "tmp = list(df.Latitude.tolist())\n",
    "names = []\n",
    "for i in range(0,len(tmp)):\n",
    "    name = str(df.iloc[i].Longitude)+'_'+str(df.iloc[i].Latitude)\n",
    "    names.append(name)\n",
    "\n",
    "df['Name'] = names\n",
    "\n",
    "columns = ['Name','Longitude','Latitude']\n",
    "df= df[columns]\n",
    "\n",
    "df.head()"
   ]
  },
  {
   "cell_type": "code",
   "execution_count": 28,
   "metadata": {},
   "outputs": [],
   "source": [
    "'''\n",
    "Export points\n",
    "'''\n",
    "\n",
    "df.to_csv(output_csv,header=True,index=None)"
   ]
  },
  {
   "cell_type": "code",
   "execution_count": 4,
   "metadata": {},
   "outputs": [
    {
     "data": {
      "text/html": [
       "<div>\n",
       "<style scoped>\n",
       "    .dataframe tbody tr th:only-of-type {\n",
       "        vertical-align: middle;\n",
       "    }\n",
       "\n",
       "    .dataframe tbody tr th {\n",
       "        vertical-align: top;\n",
       "    }\n",
       "\n",
       "    .dataframe thead th {\n",
       "        text-align: right;\n",
       "    }\n",
       "</style>\n",
       "<table border=\"1\" class=\"dataframe\">\n",
       "  <thead>\n",
       "    <tr style=\"text-align: right;\">\n",
       "      <th></th>\n",
       "      <th>Name</th>\n",
       "      <th>Longitude</th>\n",
       "      <th>Latitude</th>\n",
       "      <th>Catenary</th>\n",
       "    </tr>\n",
       "  </thead>\n",
       "  <tbody>\n",
       "    <tr>\n",
       "      <th>0</th>\n",
       "      <td>10.0131888_53.5214443</td>\n",
       "      <td>10.013189</td>\n",
       "      <td>53.521444</td>\n",
       "      <td>1</td>\n",
       "    </tr>\n",
       "    <tr>\n",
       "      <th>1</th>\n",
       "      <td>10.0465429_53.5869819</td>\n",
       "      <td>10.046543</td>\n",
       "      <td>53.586982</td>\n",
       "      <td>1</td>\n",
       "    </tr>\n",
       "    <tr>\n",
       "      <th>2</th>\n",
       "      <td>10.1325456_53.4974332</td>\n",
       "      <td>10.132546</td>\n",
       "      <td>53.497433</td>\n",
       "      <td>0</td>\n",
       "    </tr>\n",
       "    <tr>\n",
       "      <th>3</th>\n",
       "      <td>12.3158729_51.320704</td>\n",
       "      <td>12.315873</td>\n",
       "      <td>51.320704</td>\n",
       "      <td>1</td>\n",
       "    </tr>\n",
       "    <tr>\n",
       "      <th>4</th>\n",
       "      <td>12.3881185_51.0477387</td>\n",
       "      <td>12.388118</td>\n",
       "      <td>51.047739</td>\n",
       "      <td>0</td>\n",
       "    </tr>\n",
       "  </tbody>\n",
       "</table>\n",
       "</div>"
      ],
      "text/plain": [
       "                    Name  Longitude   Latitude  Catenary\n",
       "0  10.0131888_53.5214443  10.013189  53.521444         1\n",
       "1  10.0465429_53.5869819  10.046543  53.586982         1\n",
       "2  10.1325456_53.4974332  10.132546  53.497433         0\n",
       "3   12.3158729_51.320704  12.315873  51.320704         1\n",
       "4  12.3881185_51.0477387  12.388118  51.047739         0"
      ]
     },
     "execution_count": 4,
     "metadata": {},
     "output_type": "execute_result"
    }
   ],
   "source": [
    "'''\n",
    "Open csv\n",
    "'''\n",
    "\n",
    "df = pd.read_csv(output_csv)\n",
    "df.head()"
   ]
  },
  {
   "cell_type": "code",
   "execution_count": 5,
   "metadata": {
    "scrolled": false
   },
   "outputs": [
    {
     "data": {
      "text/html": [
       "<div style=\"width:100%;\"><div style=\"position:relative;width:100%;height:0;padding-bottom:60%;\"><iframe src=\"data:text/html;charset=utf-8;base64,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\" style=\"position:absolute;width:100%;height:100%;left:0;top:0;border:none !important;\" allowfullscreen webkitallowfullscreen mozallowfullscreen></iframe></div></div>"
      ],
      "text/plain": [
       "<folium.folium.Map at 0x11a3116d8>"
      ]
     },
     "execution_count": 5,
     "metadata": {},
     "output_type": "execute_result"
    }
   ],
   "source": [
    "'''\n",
    "Plot markers\n",
    "'''\n",
    "\n",
    "rows = df.index.tolist()\n",
    "\n",
    "marker_points = []\n",
    "for row in rows:\n",
    "    marker_points.append((df.iloc[row].Latitude,df.iloc[row].Longitude))\n",
    "\n",
    "# Set map centerpoint\n",
    "coords = marker_points[int((len(marker_points)/2))]\n",
    "       \n",
    "# Define map\n",
    "m = folium.Map(\n",
    "    location = coords,\n",
    "    zoom_start = 7\n",
    ")\n",
    "  \n",
    "# Add points    \n",
    "for mp in marker_points:\n",
    "    folium.Marker(mp).add_to(m)\n",
    "m"
   ]
  },
  {
   "cell_type": "code",
   "execution_count": 30,
   "metadata": {},
   "outputs": [
    {
     "data": {
      "application/vnd.jupyter.widget-view+json": {
       "model_id": "71d8b59be6954555a2ae32a741c875e8",
       "version_major": 2,
       "version_minor": 0
      },
      "text/plain": [
       "Figure(layout=FigureLayout(height='800px', width='100%'))"
      ]
     },
     "metadata": {},
     "output_type": "display_data"
    }
   ],
   "source": [
    "'''\n",
    "Get satellite preview for image\n",
    "'''\n",
    "\n",
    "row = 1\n",
    "\n",
    "figure_layout = {\n",
    "    'width': '100%',\n",
    "    'height': '800px'\n",
    "}\n",
    "fig = gmaps.figure(center = (df.iloc[row].Latitude,df.iloc[row].Longitude), zoom_level = 19,map_type='SATELLITE',layout=figure_layout)\n",
    "fig"
   ]
  },
  {
   "cell_type": "code",
   "execution_count": 6,
   "metadata": {},
   "outputs": [],
   "source": [
    "'''\n",
    "Get all images \n",
    "'''\n",
    "\n",
    "root = os.path.dirname(os.path.abspath('Africa.ipynb'))\n",
    "image_folder = root[:-9]+update_folder[3:]\n",
    "image_folder\n",
    "\n",
    "url = 'https://maps.googleapis.com/maps/api/staticmap?'\n",
    "rows = df.index.tolist()\n",
    "for i in range(0,len(rows)):\n",
    "    row = df.iloc[i]\n",
    "    center = str(row.Latitude)+','+str(row.Longitude)\n",
    "    payload = {\n",
    "        'center': center, \n",
    "        'zoom': 20,\n",
    "        'size': '640x640',\n",
    "        'scale': 2,\n",
    "        'format': 'png32',\n",
    "        'maptype': 'satellite',\n",
    "        'key': token\n",
    "    }\n",
    "    \n",
    "    r = requests.get(url,params=payload,stream=True)\n",
    "\n",
    "    name = df.iloc[i]['Name']\n",
    "    filename = image_folder+name+'.png'\n",
    "    if r.status_code == 200:\n",
    "        with open(filename, 'wb') as f:\n",
    "            r.raw.decode_content = True\n",
    "            shutil.copyfileobj(r.raw, f) "
   ]
  },
  {
   "cell_type": "code",
   "execution_count": null,
   "metadata": {},
   "outputs": [],
   "source": []
  }
 ],
 "metadata": {
  "kernelspec": {
   "display_name": "Python 3",
   "language": "python",
   "name": "python3"
  },
  "language_info": {
   "codemirror_mode": {
    "name": "ipython",
    "version": 3
   },
   "file_extension": ".py",
   "mimetype": "text/x-python",
   "name": "python",
   "nbconvert_exporter": "python",
   "pygments_lexer": "ipython3",
   "version": "3.7.3"
  }
 },
 "nbformat": 4,
 "nbformat_minor": 2
}
