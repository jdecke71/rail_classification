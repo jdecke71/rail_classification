{
 "cells": [
  {
   "cell_type": "code",
   "execution_count": 1,
   "metadata": {},
   "outputs": [],
   "source": [
    "import pandas as pd\n",
    "import geopandas as gpd\n",
    "import matplotlib.pyplot as plt\n",
    "from shapely.geometry import mapping\n",
    "import folium\n",
    "import gmaps\n",
    "import os\n",
    "import requests\n",
    "import shutil"
   ]
  },
  {
   "cell_type": "code",
   "execution_count": 13,
   "metadata": {},
   "outputs": [],
   "source": [
    "with open('../resources/key.txt') as f:\n",
    "    token = f.read()\n",
    "    \n",
    "gmaps.configure(api_key = token)"
   ]
  },
  {
   "cell_type": "code",
   "execution_count": 10,
   "metadata": {},
   "outputs": [],
   "source": [
    "input_folder = '../data/railways/Newark_LR/'\n",
    "input_file = input_folder+'Passenger_Railroad_Lines_in_New_Jersey.shp'\n",
    "\n",
    "output_folder = '../data/output_images/NewarkLR/'\n",
    "output_csv = output_folder+'NEW.csv'"
   ]
  },
  {
   "cell_type": "markdown",
   "metadata": {},
   "source": [
    "### Import Routes"
   ]
  },
  {
   "cell_type": "code",
   "execution_count": 3,
   "metadata": {},
   "outputs": [
    {
     "data": {
      "text/html": [
       "<div>\n",
       "<style scoped>\n",
       "    .dataframe tbody tr th:only-of-type {\n",
       "        vertical-align: middle;\n",
       "    }\n",
       "\n",
       "    .dataframe tbody tr th {\n",
       "        vertical-align: top;\n",
       "    }\n",
       "\n",
       "    .dataframe thead th {\n",
       "        text-align: right;\n",
       "    }\n",
       "</style>\n",
       "<table border=\"1\" class=\"dataframe\">\n",
       "  <thead>\n",
       "    <tr style=\"text-align: right;\">\n",
       "      <th></th>\n",
       "      <th>OBJECTID</th>\n",
       "      <th>RAIL_LINE</th>\n",
       "      <th>SERVICE</th>\n",
       "      <th>Shape_Leng</th>\n",
       "      <th>DATE_STAMP</th>\n",
       "      <th>geometry</th>\n",
       "    </tr>\n",
       "  </thead>\n",
       "  <tbody>\n",
       "    <tr>\n",
       "      <th>0</th>\n",
       "      <td>1</td>\n",
       "      <td>ATLANTIC CITY RAIL LINE</td>\n",
       "      <td>None</td>\n",
       "      <td>356957.019400</td>\n",
       "      <td>2016-08-30T00:00:00.000Z</td>\n",
       "      <td>LINESTRING (-74.44147959928382 39.363302944444...</td>\n",
       "    </tr>\n",
       "    <tr>\n",
       "      <th>1</th>\n",
       "      <td>2</td>\n",
       "      <td>BERGEN COUNTY LINE</td>\n",
       "      <td>HOBOKEN</td>\n",
       "      <td>155780.575084</td>\n",
       "      <td>2013-11-04T00:00:00.000Z</td>\n",
       "      <td>LINESTRING (-74.02804352228098 40.734841217805...</td>\n",
       "    </tr>\n",
       "    <tr>\n",
       "      <th>2</th>\n",
       "      <td>3</td>\n",
       "      <td>MAIN LINE</td>\n",
       "      <td>HOBOKEN</td>\n",
       "      <td>161721.051881</td>\n",
       "      <td>2013-11-04T00:00:00.000Z</td>\n",
       "      <td>LINESTRING (-74.1534482892289 41.1135474560739...</td>\n",
       "    </tr>\n",
       "    <tr>\n",
       "      <th>3</th>\n",
       "      <td>4</td>\n",
       "      <td>MEADOWLANDS RAIL LINE</td>\n",
       "      <td>None</td>\n",
       "      <td>56328.562168</td>\n",
       "      <td>2013-11-04T00:00:00.000Z</td>\n",
       "      <td>LINESTRING (-74.02804352228098 40.734841217805...</td>\n",
       "    </tr>\n",
       "    <tr>\n",
       "      <th>4</th>\n",
       "      <td>5</td>\n",
       "      <td>MONTCLAIR BOONTON LINE</td>\n",
       "      <td>NEW YORK CITY</td>\n",
       "      <td>328910.733006</td>\n",
       "      <td>2013-11-04T00:00:00.000Z</td>\n",
       "      <td>LINESTRING (-74.83535386691111 40.851441958709...</td>\n",
       "    </tr>\n",
       "  </tbody>\n",
       "</table>\n",
       "</div>"
      ],
      "text/plain": [
       "   OBJECTID                RAIL_LINE        SERVICE     Shape_Leng  \\\n",
       "0         1  ATLANTIC CITY RAIL LINE           None  356957.019400   \n",
       "1         2       BERGEN COUNTY LINE        HOBOKEN  155780.575084   \n",
       "2         3                MAIN LINE        HOBOKEN  161721.051881   \n",
       "3         4    MEADOWLANDS RAIL LINE           None   56328.562168   \n",
       "4         5   MONTCLAIR BOONTON LINE  NEW YORK CITY  328910.733006   \n",
       "\n",
       "                 DATE_STAMP                                           geometry  \n",
       "0  2016-08-30T00:00:00.000Z  LINESTRING (-74.44147959928382 39.363302944444...  \n",
       "1  2013-11-04T00:00:00.000Z  LINESTRING (-74.02804352228098 40.734841217805...  \n",
       "2  2013-11-04T00:00:00.000Z  LINESTRING (-74.1534482892289 41.1135474560739...  \n",
       "3  2013-11-04T00:00:00.000Z  LINESTRING (-74.02804352228098 40.734841217805...  \n",
       "4  2013-11-04T00:00:00.000Z  LINESTRING (-74.83535386691111 40.851441958709...  "
      ]
     },
     "execution_count": 3,
     "metadata": {},
     "output_type": "execute_result"
    }
   ],
   "source": [
    "routes = gpd.read_file(input_file)\n",
    "\n",
    "routes = routes.to_crs({'init' :'epsg:4269'})\n",
    "\n",
    "routes.head()"
   ]
  },
  {
   "cell_type": "code",
   "execution_count": 4,
   "metadata": {},
   "outputs": [
    {
     "data": {
      "text/plain": [
       "(30, 6)"
      ]
     },
     "execution_count": 4,
     "metadata": {},
     "output_type": "execute_result"
    }
   ],
   "source": [
    "# Number of routes\n",
    "routes.shape"
   ]
  },
  {
   "cell_type": "code",
   "execution_count": 5,
   "metadata": {},
   "outputs": [
    {
     "name": "stdout",
     "output_type": "stream",
     "text": [
      "Skipped route number 0 because 'LineString' object is not iterable\n",
      "Skipped route number 1 because 'LineString' object is not iterable\n",
      "Skipped route number 2 because 'LineString' object is not iterable\n",
      "Skipped route number 3 because 'LineString' object is not iterable\n",
      "Skipped route number 4 because 'LineString' object is not iterable\n",
      "Skipped route number 5 because 'LineString' object is not iterable\n",
      "Skipped route number 6 because 'LineString' object is not iterable\n",
      "Skipped route number 7 because 'LineString' object is not iterable\n",
      "Skipped route number 8 because 'LineString' object is not iterable\n",
      "Skipped route number 9 because 'LineString' object is not iterable\n",
      "Skipped route number 10 because 'LineString' object is not iterable\n",
      "Skipped route number 11 because 'LineString' object is not iterable\n",
      "Skipped route number 12 because 'LineString' object is not iterable\n",
      "Skipped route number 13 because 'LineString' object is not iterable\n",
      "Skipped route number 14 because 'LineString' object is not iterable\n",
      "Skipped route number 15 because 'LineString' object is not iterable\n",
      "Skipped route number 16 because 'LineString' object is not iterable\n",
      "Skipped route number 17 because 'LineString' object is not iterable\n",
      "Skipped route number 18 because 'LineString' object is not iterable\n",
      "Skipped route number 19 because 'LineString' object is not iterable\n",
      "Skipped route number 20 because 'LineString' object is not iterable\n",
      "Skipped route number 25 because 'LineString' object is not iterable\n",
      "Skipped route number 27 because 'LineString' object is not iterable\n",
      "Skipped route number 29 because 'LineString' object is not iterable\n",
      "1328 points\n"
     ]
    }
   ],
   "source": [
    "'''\n",
    "Get all points\n",
    "'''\n",
    "\n",
    "points = []\n",
    "for i in range(0,len(routes.OBJECTID.tolist())):\n",
    "    try:\n",
    "        route = routes.iloc[i]\n",
    "        g = [m for m in route.geometry]\n",
    "        for j in range(0,len(g)):\n",
    "            sec_points = mapping(g[j])[\"coordinates\"]\n",
    "            for k in range(0,len(sec_points)):\n",
    "                points.append(sec_points[k])\n",
    "    except Exception as e:\n",
    "        print(\"Skipped route number\",i,'because',e)\n",
    "\n",
    "print(len(points),'points')"
   ]
  },
  {
   "cell_type": "code",
   "execution_count": null,
   "metadata": {},
   "outputs": [],
   "source": [
    "'''\n",
    "Get points for 1 or more routes\n",
    "'''\n",
    "\n",
    "rows = [0]\n",
    "\n",
    "points = []\n",
    "for i in range(0,len(routes.OBJECTID.tolist())):\n",
    "    if i in rows:\n",
    "    #     print('Route',i)\n",
    "        try:\n",
    "            route = routes.iloc[i]\n",
    "            g = [m for m in route.geometry]\n",
    "    #         print('\\t',len(g),'sections')\n",
    "            for j in range(0,len(g)):\n",
    "    #             print('   section',j)\n",
    "                sec_points = mapping(g[j])[\"coordinates\"]\n",
    "                for k in range(0,len(sec_points)):\n",
    "    #                 print('      point',k)\n",
    "                    points.append(sec_points[k])\n",
    "        except Exception as e:\n",
    "            print(\"Skipped route number\",i,'because',e)\n",
    "\n",
    "print(len(points),'points')"
   ]
  },
  {
   "cell_type": "code",
   "execution_count": null,
   "metadata": {},
   "outputs": [],
   "source": [
    "'''\n",
    "Get points for single route/section\n",
    "'''\n",
    "\n",
    "row = 0\n",
    "section = 0\n",
    "\n",
    "points = []\n",
    "try:\n",
    "    route = routes.iloc[row]\n",
    "    g = [i for i in route.geometry]\n",
    "    len(g)\n",
    "\n",
    "    points = mapping(g[section])[\"coordinates\"]\n",
    "except Exception as e:\n",
    "    print(\"Skipped route number\",row,'because',e)\n",
    "    \n",
    "print(len(points),'points')"
   ]
  },
  {
   "cell_type": "code",
   "execution_count": 6,
   "metadata": {},
   "outputs": [
    {
     "name": "stdout",
     "output_type": "stream",
     "text": [
      "48\n"
     ]
    }
   ],
   "source": [
    "'''\n",
    "Get subselection of points\n",
    "'''\n",
    "\n",
    "route_points = []\n",
    "for point in range(0,len(points),28):\n",
    "    tmp = points[point]\n",
    "    route_points.append(tmp)\n",
    "\n",
    "print(len(route_points))"
   ]
  },
  {
   "cell_type": "code",
   "execution_count": 7,
   "metadata": {},
   "outputs": [
    {
     "data": {
      "text/html": [
       "<div>\n",
       "<style scoped>\n",
       "    .dataframe tbody tr th:only-of-type {\n",
       "        vertical-align: middle;\n",
       "    }\n",
       "\n",
       "    .dataframe tbody tr th {\n",
       "        vertical-align: top;\n",
       "    }\n",
       "\n",
       "    .dataframe thead th {\n",
       "        text-align: right;\n",
       "    }\n",
       "</style>\n",
       "<table border=\"1\" class=\"dataframe\">\n",
       "  <thead>\n",
       "    <tr style=\"text-align: right;\">\n",
       "      <th></th>\n",
       "      <th>Name</th>\n",
       "      <th>Longitude</th>\n",
       "      <th>Latitude</th>\n",
       "    </tr>\n",
       "  </thead>\n",
       "  <tbody>\n",
       "    <tr>\n",
       "      <th>0</th>\n",
       "      <td>-74.05845669376798_40.70884040173425</td>\n",
       "      <td>-74.058457</td>\n",
       "      <td>40.708840</td>\n",
       "    </tr>\n",
       "    <tr>\n",
       "      <th>1</th>\n",
       "      <td>-74.12620906945746_40.654272756355624</td>\n",
       "      <td>-74.126209</td>\n",
       "      <td>40.654273</td>\n",
       "    </tr>\n",
       "    <tr>\n",
       "      <th>2</th>\n",
       "      <td>-74.03693162147681_40.73212872881783</td>\n",
       "      <td>-74.036932</td>\n",
       "      <td>40.732129</td>\n",
       "    </tr>\n",
       "    <tr>\n",
       "      <th>3</th>\n",
       "      <td>-74.03701150336938_40.72429823532735</td>\n",
       "      <td>-74.037012</td>\n",
       "      <td>40.724298</td>\n",
       "    </tr>\n",
       "    <tr>\n",
       "      <th>4</th>\n",
       "      <td>-74.03434450827966_40.71743624880018</td>\n",
       "      <td>-74.034345</td>\n",
       "      <td>40.717436</td>\n",
       "    </tr>\n",
       "  </tbody>\n",
       "</table>\n",
       "</div>"
      ],
      "text/plain": [
       "                                    Name  Longitude   Latitude\n",
       "0   -74.05845669376798_40.70884040173425 -74.058457  40.708840\n",
       "1  -74.12620906945746_40.654272756355624 -74.126209  40.654273\n",
       "2   -74.03693162147681_40.73212872881783 -74.036932  40.732129\n",
       "3   -74.03701150336938_40.72429823532735 -74.037012  40.724298\n",
       "4   -74.03434450827966_40.71743624880018 -74.034345  40.717436"
      ]
     },
     "execution_count": 7,
     "metadata": {},
     "output_type": "execute_result"
    }
   ],
   "source": [
    "'''\n",
    "Create dataframe\n",
    "'''\n",
    "\n",
    "df = pd.DataFrame(route_points, columns=['Longitude','Latitude'])\n",
    "\n",
    "tmp = list(df.Latitude.tolist())\n",
    "names = []\n",
    "for i in range(0,len(tmp)):\n",
    "    name = str(df.iloc[i].Longitude)+'_'+str(df.iloc[i].Latitude)\n",
    "    names.append(name)\n",
    "\n",
    "df['Name'] = names\n",
    "\n",
    "columns = ['Name','Longitude','Latitude']\n",
    "df= df[columns]\n",
    "\n",
    "\n",
    "df.head()"
   ]
  },
  {
   "cell_type": "code",
   "execution_count": 8,
   "metadata": {},
   "outputs": [],
   "source": [
    "'''\n",
    "Export points\n",
    "'''\n",
    "\n",
    "df.to_csv(output_csv,header=True,index=None)"
   ]
  },
  {
   "cell_type": "code",
   "execution_count": 28,
   "metadata": {
    "scrolled": false
   },
   "outputs": [
    {
     "data": {
      "text/html": [
       "<div style=\"width:100%;\"><div style=\"position:relative;width:100%;height:0;padding-bottom:60%;\"><iframe src=\"data:text/html;charset=utf-8;base64,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\" style=\"position:absolute;width:100%;height:100%;left:0;top:0;border:none !important;\" allowfullscreen webkitallowfullscreen mozallowfullscreen></iframe></div></div>"
      ],
      "text/plain": [
       "<folium.folium.Map at 0x11d75b828>"
      ]
     },
     "execution_count": 28,
     "metadata": {},
     "output_type": "execute_result"
    }
   ],
   "source": [
    "'''\n",
    "Plot markers\n",
    "'''\n",
    "\n",
    "rows = df.index.tolist()\n",
    "\n",
    "marker_points = []\n",
    "for row in rows:\n",
    "    marker_points.append((df.iloc[row].Latitude,df.iloc[row].Longitude))\n",
    "    \n",
    "# Set map centerpoint\n",
    "coords = marker_points[0]\n",
    "       \n",
    "# Define map\n",
    "m = folium.Map(\n",
    "    location = coords,\n",
    "    zoom_start = 13\n",
    ")\n",
    "  \n",
    "# Add points    \n",
    "for mp in marker_points:\n",
    "    folium.Marker(mp).add_to(m)\n",
    "m"
   ]
  },
  {
   "cell_type": "code",
   "execution_count": 29,
   "metadata": {},
   "outputs": [
    {
     "data": {
      "application/vnd.jupyter.widget-view+json": {
       "model_id": "17eff2ae4de04c1b82a6d910e5f863db",
       "version_major": 2,
       "version_minor": 0
      },
      "text/plain": [
       "Figure(layout=FigureLayout(height='800px', width='100%'))"
      ]
     },
     "metadata": {},
     "output_type": "display_data"
    }
   ],
   "source": [
    "'''\n",
    "Get satellite preview for image\n",
    "'''\n",
    "\n",
    "row = 0\n",
    "\n",
    "figure_layout = {\n",
    "    'width': '100%',\n",
    "    'height': '800px'\n",
    "}\n",
    "fig = gmaps.figure(center = (df.iloc[row].Latitude,df.iloc[row].Longitude), zoom_level = 19,map_type='SATELLITE',layout=figure_layout)\n",
    "fig"
   ]
  },
  {
   "cell_type": "code",
   "execution_count": 30,
   "metadata": {},
   "outputs": [],
   "source": [
    "'''\n",
    "Get all images \n",
    "'''\n",
    "\n",
    "root = os.path.dirname(os.path.abspath('Africa.ipynb'))\n",
    "image_folder = root[:-9]+output_folder[3:]\n",
    "image_folder\n",
    "\n",
    "url = 'https://maps.googleapis.com/maps/api/staticmap?'\n",
    "rows = df.index.tolist()\n",
    "for i in range(0,len(rows)):\n",
    "    row = df.iloc[i]\n",
    "    center = str(row.Latitude)+','+str(row.Longitude)\n",
    "    payload = {\n",
    "        'center': center, \n",
    "        'zoom': 19,\n",
    "        'size': '640x640',\n",
    "        'scale': 2,\n",
    "        'format': 'png32',\n",
    "        'maptype': 'satellite',\n",
    "        'key': token\n",
    "    }\n",
    "    \n",
    "    r = requests.get(url,params=payload,stream=True)\n",
    "\n",
    "    name = df.iloc[i]['Name']\n",
    "    filename = image_folder+name+'.png'\n",
    "    if r.status_code == 200:\n",
    "        with open(filename, 'wb') as f:\n",
    "            r.raw.decode_content = True\n",
    "            shutil.copyfileobj(r.raw, f) "
   ]
  },
  {
   "cell_type": "code",
   "execution_count": null,
   "metadata": {},
   "outputs": [],
   "source": []
  }
 ],
 "metadata": {
  "kernelspec": {
   "display_name": "Python 3",
   "language": "python",
   "name": "python3"
  },
  "language_info": {
   "codemirror_mode": {
    "name": "ipython",
    "version": 3
   },
   "file_extension": ".py",
   "mimetype": "text/x-python",
   "name": "python",
   "nbconvert_exporter": "python",
   "pygments_lexer": "ipython3",
   "version": "3.7.3"
  }
 },
 "nbformat": 4,
 "nbformat_minor": 2
}
