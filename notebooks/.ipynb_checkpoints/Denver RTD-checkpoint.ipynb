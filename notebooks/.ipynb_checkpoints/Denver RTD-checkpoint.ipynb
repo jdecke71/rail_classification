{
 "cells": [
  {
   "cell_type": "code",
   "execution_count": 1,
   "metadata": {},
   "outputs": [],
   "source": [
    "import pandas as pd\n",
    "import geopandas as gpd\n",
    "import matplotlib.pyplot as plt\n",
    "from shapely.geometry import mapping\n",
    "import folium\n",
    "import gmaps\n",
    "import os\n",
    "import requests\n",
    "import shutil"
   ]
  },
  {
   "cell_type": "code",
   "execution_count": 2,
   "metadata": {},
   "outputs": [],
   "source": [
    "with open('../resources/key.txt') as f:\n",
    "    token = f.read()\n",
    "    \n",
    "gmaps.configure(api_key = token)"
   ]
  },
  {
   "cell_type": "code",
   "execution_count": 3,
   "metadata": {},
   "outputs": [],
   "source": [
    "input_folder = '../data/railways/denver_RTD/'\n",
    "input_file = input_folder+'LightrailLines_Center.shp'\n",
    "\n",
    "output_folder = '../data/output_images/DenverRTD/'\n",
    "output_csv = output_folder+'DEN.csv'"
   ]
  },
  {
   "cell_type": "markdown",
   "metadata": {},
   "source": [
    "### Import Routes"
   ]
  },
  {
   "cell_type": "code",
   "execution_count": 4,
   "metadata": {},
   "outputs": [
    {
     "data": {
      "text/html": [
       "<div>\n",
       "<style scoped>\n",
       "    .dataframe tbody tr th:only-of-type {\n",
       "        vertical-align: middle;\n",
       "    }\n",
       "\n",
       "    .dataframe tbody tr th {\n",
       "        vertical-align: top;\n",
       "    }\n",
       "\n",
       "    .dataframe thead th {\n",
       "        text-align: right;\n",
       "    }\n",
       "</style>\n",
       "<table border=\"1\" class=\"dataframe\">\n",
       "  <thead>\n",
       "    <tr style=\"text-align: right;\">\n",
       "      <th></th>\n",
       "      <th>OBJECTID</th>\n",
       "      <th>PROJECTCOR</th>\n",
       "      <th>SOURCE</th>\n",
       "      <th>Shape__Len</th>\n",
       "      <th>geometry</th>\n",
       "    </tr>\n",
       "  </thead>\n",
       "  <tbody>\n",
       "    <tr>\n",
       "      <th>0</th>\n",
       "      <td>142</td>\n",
       "      <td>110</td>\n",
       "      <td>A-Line</td>\n",
       "      <td>87291.422422</td>\n",
       "      <td>(LINESTRING (-105.001090582883 39.753148821931...</td>\n",
       "    </tr>\n",
       "    <tr>\n",
       "      <th>1</th>\n",
       "      <td>143</td>\n",
       "      <td>112</td>\n",
       "      <td>G-Line</td>\n",
       "      <td>35177.373865</td>\n",
       "      <td>(LINESTRING (-105.137784196155 39.786794639271...</td>\n",
       "    </tr>\n",
       "    <tr>\n",
       "      <th>2</th>\n",
       "      <td>144</td>\n",
       "      <td>113</td>\n",
       "      <td>B-Line</td>\n",
       "      <td>7281.026112</td>\n",
       "      <td>(LINESTRING (-105.007403102142 39.806185928394...</td>\n",
       "    </tr>\n",
       "    <tr>\n",
       "      <th>3</th>\n",
       "      <td>145</td>\n",
       "      <td>109</td>\n",
       "      <td>L-Line</td>\n",
       "      <td>2816.281729</td>\n",
       "      <td>(LINESTRING (-104.988737522449 39.748187234728...</td>\n",
       "    </tr>\n",
       "    <tr>\n",
       "      <th>4</th>\n",
       "      <td>146</td>\n",
       "      <td>113</td>\n",
       "      <td>B-G Lines</td>\n",
       "      <td>20179.760544</td>\n",
       "      <td>(LINESTRING (-104.999945166902 39.754022112124...</td>\n",
       "    </tr>\n",
       "  </tbody>\n",
       "</table>\n",
       "</div>"
      ],
      "text/plain": [
       "   OBJECTID  PROJECTCOR     SOURCE    Shape__Len  \\\n",
       "0       142         110     A-Line  87291.422422   \n",
       "1       143         112     G-Line  35177.373865   \n",
       "2       144         113     B-Line   7281.026112   \n",
       "3       145         109     L-Line   2816.281729   \n",
       "4       146         113  B-G Lines  20179.760544   \n",
       "\n",
       "                                            geometry  \n",
       "0  (LINESTRING (-105.001090582883 39.753148821931...  \n",
       "1  (LINESTRING (-105.137784196155 39.786794639271...  \n",
       "2  (LINESTRING (-105.007403102142 39.806185928394...  \n",
       "3  (LINESTRING (-104.988737522449 39.748187234728...  \n",
       "4  (LINESTRING (-104.999945166902 39.754022112124...  "
      ]
     },
     "execution_count": 4,
     "metadata": {},
     "output_type": "execute_result"
    }
   ],
   "source": [
    "routes = gpd.read_file(input_file)\n",
    "\n",
    "routes.head()"
   ]
  },
  {
   "cell_type": "code",
   "execution_count": 4,
   "metadata": {},
   "outputs": [
    {
     "data": {
      "text/plain": [
       "(84, 5)"
      ]
     },
     "execution_count": 4,
     "metadata": {},
     "output_type": "execute_result"
    }
   ],
   "source": [
    "# Number of routes\n",
    "routes.shape"
   ]
  },
  {
   "cell_type": "code",
   "execution_count": 5,
   "metadata": {},
   "outputs": [
    {
     "name": "stdout",
     "output_type": "stream",
     "text": [
      "14230 points\n"
     ]
    }
   ],
   "source": [
    "'''\n",
    "Get all points\n",
    "'''\n",
    "\n",
    "points = []\n",
    "for i in range(0,len(routes.OBJECTID.tolist())):\n",
    "    try:\n",
    "        route = routes.iloc[i]\n",
    "        g = [m for m in route.geometry]\n",
    "        for j in range(0,len(g)):\n",
    "            sec_points = mapping(g[j])[\"coordinates\"]\n",
    "            for k in range(0,len(sec_points)):\n",
    "                points.append(sec_points[k])\n",
    "    except Exception as e:\n",
    "        pass\n",
    "#         print(\"Skipped route number\",i,'because',e)\n",
    "\n",
    "print(len(points),'points')"
   ]
  },
  {
   "cell_type": "code",
   "execution_count": null,
   "metadata": {},
   "outputs": [],
   "source": [
    "'''\n",
    "Get points for 1 or more routes\n",
    "'''\n",
    "\n",
    "rows = [0]\n",
    "\n",
    "points = []\n",
    "for i in range(0,len(routes.OBJECTID.tolist())):\n",
    "    if i in rows:\n",
    "    #     print('Route',i)\n",
    "        try:\n",
    "            route = routes.iloc[i]\n",
    "            g = [m for m in route.geometry]\n",
    "    #         print('\\t',len(g),'sections')\n",
    "            for j in range(0,len(g)):\n",
    "    #             print('   section',j)\n",
    "                sec_points = mapping(g[j])[\"coordinates\"]\n",
    "                for k in range(0,len(sec_points)):\n",
    "    #                 print('      point',k)\n",
    "#                     points.append(sec_points[k])\n",
    "        except Exception as e:\n",
    "            print(\"Skipped route number\",i,'because',e)\n",
    "\n",
    "print(len(points),'points')"
   ]
  },
  {
   "cell_type": "code",
   "execution_count": null,
   "metadata": {},
   "outputs": [],
   "source": [
    "'''\n",
    "Get points for single route/section\n",
    "'''\n",
    "\n",
    "row = 0\n",
    "section = 0\n",
    "\n",
    "points = []\n",
    "try:\n",
    "    route = routes.iloc[row]\n",
    "    g = [i for i in route.geometry]\n",
    "    len(g)\n",
    "\n",
    "    points = mapping(g[section])[\"coordinates\"]\n",
    "except Exception as e:\n",
    "    print(\"Skipped route number\",row,'because',e)\n",
    "    \n",
    "print(len(points),'points')"
   ]
  },
  {
   "cell_type": "code",
   "execution_count": 6,
   "metadata": {},
   "outputs": [
    {
     "name": "stdout",
     "output_type": "stream",
     "text": [
      "50\n"
     ]
    }
   ],
   "source": [
    "'''\n",
    "Get subselection of points\n",
    "'''\n",
    "\n",
    "route_points = []\n",
    "for point in range(0,len(points),290):\n",
    "    tmp = points[point]\n",
    "    route_points.append(tmp)\n",
    "\n",
    "print(len(route_points))"
   ]
  },
  {
   "cell_type": "code",
   "execution_count": 7,
   "metadata": {},
   "outputs": [
    {
     "data": {
      "text/html": [
       "<div>\n",
       "<style scoped>\n",
       "    .dataframe tbody tr th:only-of-type {\n",
       "        vertical-align: middle;\n",
       "    }\n",
       "\n",
       "    .dataframe tbody tr th {\n",
       "        vertical-align: top;\n",
       "    }\n",
       "\n",
       "    .dataframe thead th {\n",
       "        text-align: right;\n",
       "    }\n",
       "</style>\n",
       "<table border=\"1\" class=\"dataframe\">\n",
       "  <thead>\n",
       "    <tr style=\"text-align: right;\">\n",
       "      <th></th>\n",
       "      <th>Name</th>\n",
       "      <th>Longitude</th>\n",
       "      <th>Latitude</th>\n",
       "    </tr>\n",
       "  </thead>\n",
       "  <tbody>\n",
       "    <tr>\n",
       "      <th>0</th>\n",
       "      <td>-105.001090582883_39.7531488219317</td>\n",
       "      <td>-105.001091</td>\n",
       "      <td>39.753149</td>\n",
       "    </tr>\n",
       "    <tr>\n",
       "      <th>1</th>\n",
       "      <td>-104.971298339626_39.7725748058909</td>\n",
       "      <td>-104.971298</td>\n",
       "      <td>39.772575</td>\n",
       "    </tr>\n",
       "    <tr>\n",
       "      <th>2</th>\n",
       "      <td>-104.946459678545_39.7758692108252</td>\n",
       "      <td>-104.946460</td>\n",
       "      <td>39.775869</td>\n",
       "    </tr>\n",
       "    <tr>\n",
       "      <th>3</th>\n",
       "      <td>-104.776118952483_39.8273629960361</td>\n",
       "      <td>-104.776119</td>\n",
       "      <td>39.827363</td>\n",
       "    </tr>\n",
       "    <tr>\n",
       "      <th>4</th>\n",
       "      <td>-104.865441855775_39.7687013714991</td>\n",
       "      <td>-104.865442</td>\n",
       "      <td>39.768701</td>\n",
       "    </tr>\n",
       "  </tbody>\n",
       "</table>\n",
       "</div>"
      ],
      "text/plain": [
       "                                 Name   Longitude   Latitude\n",
       "0  -105.001090582883_39.7531488219317 -105.001091  39.753149\n",
       "1  -104.971298339626_39.7725748058909 -104.971298  39.772575\n",
       "2  -104.946459678545_39.7758692108252 -104.946460  39.775869\n",
       "3  -104.776118952483_39.8273629960361 -104.776119  39.827363\n",
       "4  -104.865441855775_39.7687013714991 -104.865442  39.768701"
      ]
     },
     "execution_count": 7,
     "metadata": {},
     "output_type": "execute_result"
    }
   ],
   "source": [
    "'''\n",
    "Create dataframe\n",
    "'''\n",
    "\n",
    "df = pd.DataFrame(route_points, columns=['Longitude','Latitude'])\n",
    "\n",
    "tmp = list(df.Latitude.tolist())\n",
    "names = []\n",
    "for i in range(0,len(tmp)):\n",
    "    name = str(df.iloc[i].Longitude)+'_'+str(df.iloc[i].Latitude)\n",
    "    names.append(name)\n",
    "\n",
    "df['Name'] = names\n",
    "\n",
    "columns = ['Name','Longitude','Latitude']\n",
    "df= df[columns]\n",
    "\n",
    "\n",
    "df.head()"
   ]
  },
  {
   "cell_type": "code",
   "execution_count": 8,
   "metadata": {},
   "outputs": [],
   "source": [
    "'''\n",
    "Export points\n",
    "'''\n",
    "\n",
    "df.to_csv(output_csv,header=True,index=None)"
   ]
  },
  {
   "cell_type": "code",
   "execution_count": 9,
   "metadata": {
    "scrolled": false
   },
   "outputs": [
    {
     "data": {
      "text/html": [
       "<div style=\"width:100%;\"><div style=\"position:relative;width:100%;height:0;padding-bottom:60%;\"><iframe src=\"data:text/html;charset=utf-8;base64,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\" style=\"position:absolute;width:100%;height:100%;left:0;top:0;border:none !important;\" allowfullscreen webkitallowfullscreen mozallowfullscreen></iframe></div></div>"
      ],
      "text/plain": [
       "<folium.folium.Map at 0x11f3bc7b8>"
      ]
     },
     "execution_count": 9,
     "metadata": {},
     "output_type": "execute_result"
    }
   ],
   "source": [
    "'''\n",
    "Plot markers\n",
    "'''\n",
    "\n",
    "rows = df.index.tolist()\n",
    "\n",
    "marker_points = []\n",
    "for row in rows:\n",
    "    marker_points.append((df.iloc[row].Latitude,df.iloc[row].Longitude))\n",
    "    \n",
    "# Set map centerpoint\n",
    "coords = marker_points[0]\n",
    "       \n",
    "# Define map\n",
    "m = folium.Map(\n",
    "    location = coords,\n",
    "    zoom_start = 13\n",
    ")\n",
    "  \n",
    "# Add points    \n",
    "for mp in marker_points:\n",
    "    folium.Marker(mp).add_to(m)\n",
    "m"
   ]
  },
  {
   "cell_type": "code",
   "execution_count": null,
   "metadata": {},
   "outputs": [],
   "source": [
    "'''\n",
    "Get satellite preview for image\n",
    "'''\n",
    "\n",
    "row = 10\n",
    "\n",
    "figure_layout = {\n",
    "    'width': '100%',\n",
    "    'height': '800px'\n",
    "}\n",
    "fig = gmaps.figure(center = (df.iloc[row].Latitude,df.iloc[row].Longitude), zoom_level = 19,map_type='SATELLITE',layout=figure_layout)\n",
    "fig"
   ]
  },
  {
   "cell_type": "code",
   "execution_count": 12,
   "metadata": {},
   "outputs": [],
   "source": [
    "'''\n",
    "Get all images \n",
    "'''\n",
    "\n",
    "root = os.path.dirname(os.path.abspath('Africa.ipynb'))\n",
    "image_folder = root[:-9]+output_folder[3:]\n",
    "image_folder\n",
    "\n",
    "url = 'https://maps.googleapis.com/maps/api/staticmap?'\n",
    "rows = df.index.tolist()\n",
    "for i in range(2,len(rows)):\n",
    "    row = df.iloc[i]\n",
    "    center = str(row.Latitude)+','+str(row.Longitude)\n",
    "    payload = {\n",
    "        'center': center, \n",
    "        'zoom': 19,\n",
    "        'size': '640x640',\n",
    "        'scale': 2,\n",
    "        'format': 'png32',\n",
    "        'maptype': 'satellite',\n",
    "        'key': token\n",
    "    }\n",
    "    \n",
    "    r = requests.get(url,params=payload,stream=True)\n",
    "\n",
    "    name = df.iloc[i]['Name']\n",
    "    filename = image_folder+name+'.png'\n",
    "    if r.status_code == 200:\n",
    "        with open(filename, 'wb') as f:\n",
    "            r.raw.decode_content = True\n",
    "            shutil.copyfileobj(r.raw, f) "
   ]
  },
  {
   "cell_type": "code",
   "execution_count": null,
   "metadata": {},
   "outputs": [],
   "source": []
  }
 ],
 "metadata": {
  "kernelspec": {
   "display_name": "Python 3",
   "language": "python",
   "name": "python3"
  },
  "language_info": {
   "codemirror_mode": {
    "name": "ipython",
    "version": 3
   },
   "file_extension": ".py",
   "mimetype": "text/x-python",
   "name": "python",
   "nbconvert_exporter": "python",
   "pygments_lexer": "ipython3",
   "version": "3.7.3"
  }
 },
 "nbformat": 4,
 "nbformat_minor": 2
}
