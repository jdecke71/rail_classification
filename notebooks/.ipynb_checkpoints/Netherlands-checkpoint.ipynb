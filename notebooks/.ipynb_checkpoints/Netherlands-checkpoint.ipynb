{
 "cells": [
  {
   "cell_type": "code",
   "execution_count": 1,
   "metadata": {},
   "outputs": [],
   "source": [
    "import pandas as pd\n",
    "import geopandas as gpd\n",
    "import matplotlib.pyplot as plt\n",
    "from shapely.geometry import mapping\n",
    "import folium\n",
    "import gmaps\n",
    "import os\n",
    "import requests\n",
    "import shutil"
   ]
  },
  {
   "cell_type": "code",
   "execution_count": 13,
   "metadata": {},
   "outputs": [],
   "source": [
    "with open('../resources/key.txt') as f:\n",
    "    token = f.read()\n",
    "    \n",
    "gmaps.configure(api_key = token)"
   ]
  },
  {
   "cell_type": "code",
   "execution_count": 10,
   "metadata": {},
   "outputs": [],
   "source": [
    "input_folder = '../data/railways/nl/shapes_voor_website/'\n",
    "input_file = input_folder+'spoor.shp'\n",
    "\n",
    "output_folder = '../data/output_images/Netherlands/'\n",
    "output_csv = output_folder+'NET.csv'"
   ]
  },
  {
   "cell_type": "markdown",
   "metadata": {},
   "source": [
    "### Import Routes"
   ]
  },
  {
   "cell_type": "code",
   "execution_count": 4,
   "metadata": {},
   "outputs": [
    {
     "data": {
      "text/html": [
       "<div>\n",
       "<style scoped>\n",
       "    .dataframe tbody tr th:only-of-type {\n",
       "        vertical-align: middle;\n",
       "    }\n",
       "\n",
       "    .dataframe tbody tr th {\n",
       "        vertical-align: top;\n",
       "    }\n",
       "\n",
       "    .dataframe thead th {\n",
       "        text-align: right;\n",
       "    }\n",
       "</style>\n",
       "<table border=\"1\" class=\"dataframe\">\n",
       "  <thead>\n",
       "    <tr style=\"text-align: right;\">\n",
       "      <th></th>\n",
       "      <th>ID</th>\n",
       "      <th>OBJECTNAAM</th>\n",
       "      <th>GEOCODE</th>\n",
       "      <th>SPOORNUMME</th>\n",
       "      <th>KMVAN</th>\n",
       "      <th>KMTOT</th>\n",
       "      <th>geometry</th>\n",
       "    </tr>\n",
       "  </thead>\n",
       "  <tbody>\n",
       "    <tr>\n",
       "      <th>0</th>\n",
       "      <td>1438188</td>\n",
       "      <td>as-spoor</td>\n",
       "      <td>950</td>\n",
       "      <td>RK</td>\n",
       "      <td>13.118</td>\n",
       "      <td>13.186</td>\n",
       "      <td>LINESTRING (4.355233512313273 51.8764085151107...</td>\n",
       "    </tr>\n",
       "    <tr>\n",
       "      <th>1</th>\n",
       "      <td>30843554</td>\n",
       "      <td>as-spoor</td>\n",
       "      <td>917</td>\n",
       "      <td>27</td>\n",
       "      <td>78.130</td>\n",
       "      <td>78.495</td>\n",
       "      <td>LINESTRING (4.866888980297831 52.3913574208449...</td>\n",
       "    </tr>\n",
       "    <tr>\n",
       "      <th>2</th>\n",
       "      <td>30843539</td>\n",
       "      <td>as-spoor</td>\n",
       "      <td>917</td>\n",
       "      <td>982AR</td>\n",
       "      <td>78.230</td>\n",
       "      <td>78.230</td>\n",
       "      <td>LINESTRING (4.868201802003703 52.3909277632807...</td>\n",
       "    </tr>\n",
       "    <tr>\n",
       "      <th>3</th>\n",
       "      <td>28786315</td>\n",
       "      <td>as-spoor</td>\n",
       "      <td>544</td>\n",
       "      <td>1113V</td>\n",
       "      <td>1.083</td>\n",
       "      <td>1.128</td>\n",
       "      <td>LINESTRING (4.786112083302916 51.5956615365737...</td>\n",
       "    </tr>\n",
       "    <tr>\n",
       "      <th>4</th>\n",
       "      <td>28826889</td>\n",
       "      <td>as-spoor</td>\n",
       "      <td>467</td>\n",
       "      <td>None</td>\n",
       "      <td>103.811</td>\n",
       "      <td>103.813</td>\n",
       "      <td>LINESTRING (4.442601229605728 51.896203285737,...</td>\n",
       "    </tr>\n",
       "  </tbody>\n",
       "</table>\n",
       "</div>"
      ],
      "text/plain": [
       "         ID OBJECTNAAM GEOCODE SPOORNUMME    KMVAN    KMTOT  \\\n",
       "0   1438188   as-spoor     950         RK   13.118   13.186   \n",
       "1  30843554   as-spoor     917         27   78.130   78.495   \n",
       "2  30843539   as-spoor     917      982AR   78.230   78.230   \n",
       "3  28786315   as-spoor     544      1113V    1.083    1.128   \n",
       "4  28826889   as-spoor     467       None  103.811  103.813   \n",
       "\n",
       "                                            geometry  \n",
       "0  LINESTRING (4.355233512313273 51.8764085151107...  \n",
       "1  LINESTRING (4.866888980297831 52.3913574208449...  \n",
       "2  LINESTRING (4.868201802003703 52.3909277632807...  \n",
       "3  LINESTRING (4.786112083302916 51.5956615365737...  \n",
       "4  LINESTRING (4.442601229605728 51.896203285737,...  "
      ]
     },
     "execution_count": 4,
     "metadata": {},
     "output_type": "execute_result"
    }
   ],
   "source": [
    "routes = gpd.read_file(input_file)\n",
    "\n",
    "routes = routes.to_crs({'init' :'epsg:4269'})\n",
    "\n",
    "routes.head()"
   ]
  },
  {
   "cell_type": "code",
   "execution_count": 4,
   "metadata": {},
   "outputs": [
    {
     "data": {
      "text/plain": [
       "(16544, 7)"
      ]
     },
     "execution_count": 4,
     "metadata": {},
     "output_type": "execute_result"
    }
   ],
   "source": [
    "# Number of routes\n",
    "routes.shape"
   ]
  },
  {
   "cell_type": "code",
   "execution_count": 6,
   "metadata": {},
   "outputs": [],
   "source": [
    "tmp = routes.iloc[0]"
   ]
  },
  {
   "cell_type": "code",
   "execution_count": 15,
   "metadata": {},
   "outputs": [
    {
     "data": {
      "text/plain": [
       "[(4.355233512313273, 51.876408515110725),\n",
       " (4.354917511750246, 51.87638804807558),\n",
       " (4.354247125378726, 51.87634213558934)]"
      ]
     },
     "execution_count": 15,
     "metadata": {},
     "output_type": "execute_result"
    }
   ],
   "source": [
    "list(tmp.geometry.coords)"
   ]
  },
  {
   "cell_type": "code",
   "execution_count": 5,
   "metadata": {},
   "outputs": [
    {
     "name": "stdout",
     "output_type": "stream",
     "text": [
      "69 points\n"
     ]
    }
   ],
   "source": [
    "'''\n",
    "Get all points\n",
    "'''\n",
    "# len(routes.ID.tolist())\n",
    "points = []\n",
    "for i in range(0,10):\n",
    "    try:\n",
    "        route = routes.iloc[i]\n",
    "        g = list(route.geometry.coords)\n",
    "        for j in range(0,len(g)):\n",
    "            sec_points = g[j]\n",
    "            points.append(sec_points)\n",
    "    except Exception as e:\n",
    "        print(\"Skipped route number\",i,'because',e)\n",
    "\n",
    "print(len(points),'points')"
   ]
  },
  {
   "cell_type": "code",
   "execution_count": null,
   "metadata": {},
   "outputs": [],
   "source": [
    "'''\n",
    "Get points for 1 or more routes\n",
    "'''\n",
    "\n",
    "rows = [0]\n",
    "\n",
    "points = []\n",
    "for i in range(0,len(routes.ID.tolist())):\n",
    "    if i in rows:\n",
    "    #     print('Route',i)\n",
    "        try:\n",
    "            route = routes.iloc[i]\n",
    "            g = list(route.geometry.coords)\n",
    "            for j in range(0,len(g)):\n",
    "                sec_points = mapping(g[j])[\"coordinates\"]\n",
    "                for k in range(0,len(sec_points)):\n",
    "                    sec_points = g[j]\n",
    "                    points.append(sec_points)\n",
    "        except Exception as e:\n",
    "            print(\"Skipped route number\",i,'because',e)\n",
    "\n",
    "print(len(points),'points')"
   ]
  },
  {
   "cell_type": "code",
   "execution_count": null,
   "metadata": {},
   "outputs": [],
   "source": [
    "'''\n",
    "Get points for single route/section\n",
    "'''\n",
    "\n",
    "row = 0\n",
    "section = 0\n",
    "\n",
    "points = []\n",
    "try:\n",
    "    route = routes.iloc[row]\n",
    "    g = [i for i in route.geometry]\n",
    "    len(g)\n",
    "\n",
    "    points = mapping(g[section])[\"coordinates\"]\n",
    "except Exception as e:\n",
    "    print(\"Skipped route number\",row,'because',e)\n",
    "    \n",
    "print(len(points),'points')"
   ]
  },
  {
   "cell_type": "code",
   "execution_count": 7,
   "metadata": {},
   "outputs": [
    {
     "name": "stdout",
     "output_type": "stream",
     "text": [
      "35\n"
     ]
    }
   ],
   "source": [
    "'''\n",
    "Get subselection of points\n",
    "'''\n",
    "\n",
    "route_points = []\n",
    "for point in range(0,len(points),2):\n",
    "    tmp = points[point]\n",
    "    route_points.append(tmp)\n",
    "\n",
    "print(len(route_points))"
   ]
  },
  {
   "cell_type": "code",
   "execution_count": 8,
   "metadata": {},
   "outputs": [
    {
     "data": {
      "text/html": [
       "<div>\n",
       "<style scoped>\n",
       "    .dataframe tbody tr th:only-of-type {\n",
       "        vertical-align: middle;\n",
       "    }\n",
       "\n",
       "    .dataframe tbody tr th {\n",
       "        vertical-align: top;\n",
       "    }\n",
       "\n",
       "    .dataframe thead th {\n",
       "        text-align: right;\n",
       "    }\n",
       "</style>\n",
       "<table border=\"1\" class=\"dataframe\">\n",
       "  <thead>\n",
       "    <tr style=\"text-align: right;\">\n",
       "      <th></th>\n",
       "      <th>Name</th>\n",
       "      <th>Longitude</th>\n",
       "      <th>Latitude</th>\n",
       "    </tr>\n",
       "  </thead>\n",
       "  <tbody>\n",
       "    <tr>\n",
       "      <th>0</th>\n",
       "      <td>4.355233512313273_51.876408515110725</td>\n",
       "      <td>4.355234</td>\n",
       "      <td>51.876409</td>\n",
       "    </tr>\n",
       "    <tr>\n",
       "      <th>1</th>\n",
       "      <td>4.354247125378726_51.87634213558934</td>\n",
       "      <td>4.354247</td>\n",
       "      <td>51.876342</td>\n",
       "    </tr>\n",
       "    <tr>\n",
       "      <th>2</th>\n",
       "      <td>4.867079960936101_52.39127084540921</td>\n",
       "      <td>4.867080</td>\n",
       "      <td>52.391271</td>\n",
       "    </tr>\n",
       "    <tr>\n",
       "      <th>3</th>\n",
       "      <td>4.868556529472031_52.39061170118105</td>\n",
       "      <td>4.868557</td>\n",
       "      <td>52.390612</td>\n",
       "    </tr>\n",
       "    <tr>\n",
       "      <th>4</th>\n",
       "      <td>4.869092383207482_52.390372322562406</td>\n",
       "      <td>4.869092</td>\n",
       "      <td>52.390372</td>\n",
       "    </tr>\n",
       "  </tbody>\n",
       "</table>\n",
       "</div>"
      ],
      "text/plain": [
       "                                   Name  Longitude   Latitude\n",
       "0  4.355233512313273_51.876408515110725   4.355234  51.876409\n",
       "1   4.354247125378726_51.87634213558934   4.354247  51.876342\n",
       "2   4.867079960936101_52.39127084540921   4.867080  52.391271\n",
       "3   4.868556529472031_52.39061170118105   4.868557  52.390612\n",
       "4  4.869092383207482_52.390372322562406   4.869092  52.390372"
      ]
     },
     "execution_count": 8,
     "metadata": {},
     "output_type": "execute_result"
    }
   ],
   "source": [
    "'''\n",
    "Create dataframe\n",
    "'''\n",
    "\n",
    "df = pd.DataFrame(route_points, columns=['Longitude','Latitude'])\n",
    "\n",
    "tmp = list(df.Latitude.tolist())\n",
    "names = []\n",
    "for i in range(0,len(tmp)):\n",
    "    name = str(df.iloc[i].Longitude)+'_'+str(df.iloc[i].Latitude)\n",
    "    names.append(name)\n",
    "\n",
    "df['Name'] = names\n",
    "\n",
    "columns = ['Name','Longitude','Latitude']\n",
    "df= df[columns]\n",
    "\n",
    "df.head()"
   ]
  },
  {
   "cell_type": "code",
   "execution_count": 9,
   "metadata": {},
   "outputs": [],
   "source": [
    "'''\n",
    "Export points\n",
    "'''\n",
    "\n",
    "df.to_csv(output_csv,header=True,index=None)"
   ]
  },
  {
   "cell_type": "code",
   "execution_count": 36,
   "metadata": {
    "scrolled": false
   },
   "outputs": [
    {
     "data": {
      "text/html": [
       "<div style=\"width:100%;\"><div style=\"position:relative;width:100%;height:0;padding-bottom:60%;\"><iframe src=\"data:text/html;charset=utf-8;base64,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\" style=\"position:absolute;width:100%;height:100%;left:0;top:0;border:none !important;\" allowfullscreen webkitallowfullscreen mozallowfullscreen></iframe></div></div>"
      ],
      "text/plain": [
       "<folium.folium.Map at 0x1250dba20>"
      ]
     },
     "execution_count": 36,
     "metadata": {},
     "output_type": "execute_result"
    }
   ],
   "source": [
    "'''\n",
    "Plot markers\n",
    "'''\n",
    "\n",
    "rows = df.index.tolist()\n",
    "\n",
    "marker_points = []\n",
    "for row in rows:\n",
    "    marker_points.append((df.iloc[row].Latitude,df.iloc[row].Longitude))\n",
    "    \n",
    "# Set map centerpoint\n",
    "coords = marker_points[0]\n",
    "       \n",
    "# Define map\n",
    "m = folium.Map(\n",
    "    location = coords,\n",
    "    zoom_start = 13\n",
    ")\n",
    "  \n",
    "# Add points    \n",
    "for mp in marker_points:\n",
    "    folium.Marker(mp).add_to(m)\n",
    "m"
   ]
  },
  {
   "cell_type": "code",
   "execution_count": null,
   "metadata": {},
   "outputs": [],
   "source": [
    "'''\n",
    "Get satellite preview for image\n",
    "'''\n",
    "\n",
    "row = 0\n",
    "\n",
    "figure_layout = {\n",
    "    'width': '100%',\n",
    "    'height': '800px'\n",
    "}\n",
    "fig = gmaps.figure(center = (df.iloc[row].Latitude,df.iloc[row].Longitude), zoom_level = 19,map_type='SATELLITE',layout=figure_layout)\n",
    "fig"
   ]
  },
  {
   "cell_type": "code",
   "execution_count": 39,
   "metadata": {},
   "outputs": [],
   "source": [
    "'''\n",
    "Get all images \n",
    "'''\n",
    "\n",
    "root = os.path.dirname(os.path.abspath('Africa.ipynb'))\n",
    "image_folder = root[:-9]+output_folder[3:]\n",
    "image_folder\n",
    "\n",
    "url = 'https://maps.googleapis.com/maps/api/staticmap?'\n",
    "rows = df.index.tolist()\n",
    "for i in range(2,len(rows)):\n",
    "    row = df.iloc[i]\n",
    "    center = str(row.Latitude)+','+str(row.Longitude)\n",
    "    payload = {\n",
    "        'center': center, \n",
    "        'zoom': 19,\n",
    "        'size': '640x640',\n",
    "        'scale': 2,\n",
    "        'format': 'png32',\n",
    "        'maptype': 'satellite',\n",
    "        'key': token\n",
    "    }\n",
    "    \n",
    "    r = requests.get(url,params=payload,stream=True)\n",
    "\n",
    "    filename = image_folder+str(i)+'.png'\n",
    "    if r.status_code == 200:\n",
    "        with open(filename, 'wb') as f:\n",
    "            r.raw.decode_content = True\n",
    "            shutil.copyfileobj(r.raw, f) "
   ]
  },
  {
   "cell_type": "code",
   "execution_count": null,
   "metadata": {},
   "outputs": [],
   "source": []
  }
 ],
 "metadata": {
  "kernelspec": {
   "display_name": "Python 3",
   "language": "python",
   "name": "python3"
  },
  "language_info": {
   "codemirror_mode": {
    "name": "ipython",
    "version": 3
   },
   "file_extension": ".py",
   "mimetype": "text/x-python",
   "name": "python",
   "nbconvert_exporter": "python",
   "pygments_lexer": "ipython3",
   "version": "3.7.3"
  }
 },
 "nbformat": 4,
 "nbformat_minor": 2
}
