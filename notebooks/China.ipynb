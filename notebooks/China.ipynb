{
 "cells": [
  {
   "cell_type": "code",
   "execution_count": 3,
   "metadata": {},
   "outputs": [],
   "source": [
    "import pandas as pd\n",
    "import geopandas as gpd\n",
    "import matplotlib.pyplot as plt\n",
    "from shapely.geometry import mapping\n",
    "import folium\n",
    "import googlemaps\n",
    "import gmaps\n",
    "import os\n",
    "import requests\n",
    "import shutil\n",
    "from google.cloud import translate\n",
    "from IPython.display import Image"
   ]
  },
  {
   "cell_type": "code",
   "execution_count": 13,
   "metadata": {},
   "outputs": [],
   "source": [
    "with open('../resources/key.txt') as f:\n",
    "    token = f.read()\n",
    "    \n",
    "gmaps.configure(api_key = token)"
   ]
  },
  {
   "cell_type": "code",
   "execution_count": 10,
   "metadata": {},
   "outputs": [],
   "source": [
    "input_folder = '../data/railways/China_HSR_2016_lines/'\n",
    "input_file = input_folder+'China_HSR_2016_lines.shp'\n",
    "\n",
    "output_folder = '../data/output_images/China/'\n",
    "output_csv = output_folder+'CHN.csv'"
   ]
  },
  {
   "cell_type": "markdown",
   "metadata": {},
   "source": [
    "#### Import routes"
   ]
  },
  {
   "cell_type": "code",
   "execution_count": 11,
   "metadata": {},
   "outputs": [
    {
     "data": {
      "text/html": [
       "<div>\n",
       "<style scoped>\n",
       "    .dataframe tbody tr th:only-of-type {\n",
       "        vertical-align: middle;\n",
       "    }\n",
       "\n",
       "    .dataframe tbody tr th {\n",
       "        vertical-align: top;\n",
       "    }\n",
       "\n",
       "    .dataframe thead th {\n",
       "        text-align: right;\n",
       "    }\n",
       "</style>\n",
       "<table border=\"1\" class=\"dataframe\">\n",
       "  <thead>\n",
       "    <tr style=\"text-align: right;\">\n",
       "      <th></th>\n",
       "      <th>OBJECTID</th>\n",
       "      <th>line_chin</th>\n",
       "      <th>line_py</th>\n",
       "      <th>condition</th>\n",
       "      <th>speed_txt</th>\n",
       "      <th>kph</th>\n",
       "      <th>geometry</th>\n",
       "    </tr>\n",
       "  </thead>\n",
       "  <tbody>\n",
       "    <tr>\n",
       "      <th>0</th>\n",
       "      <td>1</td>\n",
       "      <td>京石动车组</td>\n",
       "      <td>jīng shí dòng chē zǔ</td>\n",
       "      <td>Upgrade</td>\n",
       "      <td>200-250km/hr</td>\n",
       "      <td>200</td>\n",
       "      <td>LINESTRING Z (115.637697612 39.03169797600003 ...</td>\n",
       "    </tr>\n",
       "    <tr>\n",
       "      <th>1</th>\n",
       "      <td>2</td>\n",
       "      <td>杭甬线</td>\n",
       "      <td>háng yǒng xiàn</td>\n",
       "      <td>Existing</td>\n",
       "      <td>300+km/hr</td>\n",
       "      <td>300</td>\n",
       "      <td>LINESTRING Z (120.208261468 30.29341594800007 ...</td>\n",
       "    </tr>\n",
       "    <tr>\n",
       "      <th>2</th>\n",
       "      <td>3</td>\n",
       "      <td>宁杭客运专线</td>\n",
       "      <td>níng háng kè yùn zhuān xiàn</td>\n",
       "      <td>Existing</td>\n",
       "      <td>300+km/hr</td>\n",
       "      <td>300</td>\n",
       "      <td>(LINESTRING Z (120.18048509 30.33301164900007 ...</td>\n",
       "    </tr>\n",
       "    <tr>\n",
       "      <th>3</th>\n",
       "      <td>4</td>\n",
       "      <td>汉宜</td>\n",
       "      <td>hàn yí</td>\n",
       "      <td>New</td>\n",
       "      <td>200-250km/hr</td>\n",
       "      <td>200</td>\n",
       "      <td>LINESTRING Z (111.3649862190001 30.66111361200...</td>\n",
       "    </tr>\n",
       "    <tr>\n",
       "      <th>4</th>\n",
       "      <td>5</td>\n",
       "      <td>京港通道</td>\n",
       "      <td>jīng gǎng tōng dào</td>\n",
       "      <td>Existing</td>\n",
       "      <td>300+km/hr</td>\n",
       "      <td>300</td>\n",
       "      <td>(LINESTRING Z (113.2928800510001 22.9317548520...</td>\n",
       "    </tr>\n",
       "  </tbody>\n",
       "</table>\n",
       "</div>"
      ],
      "text/plain": [
       "   OBJECTID line_chin                      line_py condition     speed_txt  \\\n",
       "0         1     京石动车组         jīng shí dòng chē zǔ   Upgrade  200-250km/hr   \n",
       "1         2       杭甬线               háng yǒng xiàn  Existing     300+km/hr   \n",
       "2         3    宁杭客运专线  níng háng kè yùn zhuān xiàn  Existing     300+km/hr   \n",
       "3         4        汉宜                       hàn yí       New  200-250km/hr   \n",
       "4         5      京港通道           jīng gǎng tōng dào  Existing     300+km/hr   \n",
       "\n",
       "   kph                                           geometry  \n",
       "0  200  LINESTRING Z (115.637697612 39.03169797600003 ...  \n",
       "1  300  LINESTRING Z (120.208261468 30.29341594800007 ...  \n",
       "2  300  (LINESTRING Z (120.18048509 30.33301164900007 ...  \n",
       "3  200  LINESTRING Z (111.3649862190001 30.66111361200...  \n",
       "4  300  (LINESTRING Z (113.2928800510001 22.9317548520...  "
      ]
     },
     "execution_count": 11,
     "metadata": {},
     "output_type": "execute_result"
    }
   ],
   "source": [
    "routes = gpd.read_file(input_file)\n",
    "\n",
    "routes = routes.to_crs({'init' :'epsg:4326'})\n",
    "\n",
    "routes.head()"
   ]
  },
  {
   "cell_type": "code",
   "execution_count": 12,
   "metadata": {},
   "outputs": [
    {
     "data": {
      "text/plain": [
       "(79, 7)"
      ]
     },
     "execution_count": 12,
     "metadata": {},
     "output_type": "execute_result"
    }
   ],
   "source": [
    "routes.shape"
   ]
  },
  {
   "cell_type": "code",
   "execution_count": 14,
   "metadata": {},
   "outputs": [
    {
     "data": {
      "text/plain": [
       "200    38\n",
       "250    25\n",
       "300    16\n",
       "Name: kph, dtype: int64"
      ]
     },
     "execution_count": 14,
     "metadata": {},
     "output_type": "execute_result"
    }
   ],
   "source": [
    "routes['kph'].value_counts()"
   ]
  },
  {
   "cell_type": "code",
   "execution_count": 19,
   "metadata": {},
   "outputs": [
    {
     "data": {
      "text/html": [
       "<div>\n",
       "<style scoped>\n",
       "    .dataframe tbody tr th:only-of-type {\n",
       "        vertical-align: middle;\n",
       "    }\n",
       "\n",
       "    .dataframe tbody tr th {\n",
       "        vertical-align: top;\n",
       "    }\n",
       "\n",
       "    .dataframe thead th {\n",
       "        text-align: right;\n",
       "    }\n",
       "</style>\n",
       "<table border=\"1\" class=\"dataframe\">\n",
       "  <thead>\n",
       "    <tr style=\"text-align: right;\">\n",
       "      <th></th>\n",
       "      <th>OBJECTID</th>\n",
       "      <th>line_chin</th>\n",
       "      <th>line_py</th>\n",
       "      <th>condition</th>\n",
       "      <th>speed_txt</th>\n",
       "      <th>kph</th>\n",
       "      <th>geometry</th>\n",
       "    </tr>\n",
       "  </thead>\n",
       "  <tbody>\n",
       "    <tr>\n",
       "      <th>1</th>\n",
       "      <td>2</td>\n",
       "      <td>杭甬线</td>\n",
       "      <td>háng yǒng xiàn</td>\n",
       "      <td>Existing</td>\n",
       "      <td>300+km/hr</td>\n",
       "      <td>300</td>\n",
       "      <td>LINESTRING Z (120.208261468 30.29341594800007 ...</td>\n",
       "    </tr>\n",
       "    <tr>\n",
       "      <th>2</th>\n",
       "      <td>3</td>\n",
       "      <td>宁杭客运专线</td>\n",
       "      <td>níng háng kè yùn zhuān xiàn</td>\n",
       "      <td>Existing</td>\n",
       "      <td>300+km/hr</td>\n",
       "      <td>300</td>\n",
       "      <td>(LINESTRING Z (120.18048509 30.33301164900007 ...</td>\n",
       "    </tr>\n",
       "    <tr>\n",
       "      <th>4</th>\n",
       "      <td>5</td>\n",
       "      <td>京港通道</td>\n",
       "      <td>jīng gǎng tōng dào</td>\n",
       "      <td>Existing</td>\n",
       "      <td>300+km/hr</td>\n",
       "      <td>300</td>\n",
       "      <td>(LINESTRING Z (113.2928800510001 22.9317548520...</td>\n",
       "    </tr>\n",
       "    <tr>\n",
       "      <th>10</th>\n",
       "      <td>11</td>\n",
       "      <td>盘营联络线</td>\n",
       "      <td>pán yíng lián lào xiàn</td>\n",
       "      <td>Existing</td>\n",
       "      <td>300+km/hr</td>\n",
       "      <td>300</td>\n",
       "      <td>(LINESTRING Z (122.578932277 40.86892311900004...</td>\n",
       "    </tr>\n",
       "    <tr>\n",
       "      <th>24</th>\n",
       "      <td>25</td>\n",
       "      <td>台灣高鐵</td>\n",
       "      <td>tái wān gāo tiě</td>\n",
       "      <td>Existing</td>\n",
       "      <td>300+km/hr</td>\n",
       "      <td>300</td>\n",
       "      <td>LINESTRING Z (120.307548868 22.68714827100007 ...</td>\n",
       "    </tr>\n",
       "  </tbody>\n",
       "</table>\n",
       "</div>"
      ],
      "text/plain": [
       "    OBJECTID line_chin                      line_py condition  speed_txt  kph  \\\n",
       "1          2       杭甬线               háng yǒng xiàn  Existing  300+km/hr  300   \n",
       "2          3    宁杭客运专线  níng háng kè yùn zhuān xiàn  Existing  300+km/hr  300   \n",
       "4          5      京港通道           jīng gǎng tōng dào  Existing  300+km/hr  300   \n",
       "10        11     盘营联络线       pán yíng lián lào xiàn  Existing  300+km/hr  300   \n",
       "24        25      台灣高鐵              tái wān gāo tiě  Existing  300+km/hr  300   \n",
       "\n",
       "                                             geometry  \n",
       "1   LINESTRING Z (120.208261468 30.29341594800007 ...  \n",
       "2   (LINESTRING Z (120.18048509 30.33301164900007 ...  \n",
       "4   (LINESTRING Z (113.2928800510001 22.9317548520...  \n",
       "10  (LINESTRING Z (122.578932277 40.86892311900004...  \n",
       "24  LINESTRING Z (120.307548868 22.68714827100007 ...  "
      ]
     },
     "execution_count": 19,
     "metadata": {},
     "output_type": "execute_result"
    }
   ],
   "source": [
    "routes = routes[routes['kph']==300]\n",
    "routes.head()"
   ]
  },
  {
   "cell_type": "markdown",
   "metadata": {},
   "source": [
    "#### Get points from routes"
   ]
  },
  {
   "cell_type": "code",
   "execution_count": 52,
   "metadata": {},
   "outputs": [
    {
     "name": "stdout",
     "output_type": "stream",
     "text": [
      "8046 points\n"
     ]
    }
   ],
   "source": [
    "'''\n",
    "Get all points\n",
    "'''\n",
    "\n",
    "points = []\n",
    "rows = routes.index.tolist()\n",
    "\n",
    "geom_types = routes['geometry'].tolist()\n",
    "for i in rows:\n",
    "    try:\n",
    "        route = routes.loc[i]\n",
    "        if route.geometry.geom_type == 'LineString':\n",
    "            g = route.geometry\n",
    "            sec_points = mapping(g)[\"coordinates\"]\n",
    "            for j in sec_points:\n",
    "                tmp = (j[0],j[1])\n",
    "                points.append(tmp)\n",
    "        else:\n",
    "            g = [m for m in route.geometry]\n",
    "            for j in range(0,len(g)):\n",
    "                sec_points = mapping(g[j])[\"coordinates\"]\n",
    "                for k in range(0,len(sec_points)):\n",
    "                    tmp = (sec_points[k][0],sec_points[k][1])\n",
    "                    points.append(tmp)\n",
    "    except Exception as e:\n",
    "        print(\"Skipped route number\",i,'because',e)        \n",
    "        \n",
    "    \n",
    "print(len(points),'points')   "
   ]
  },
  {
   "cell_type": "code",
   "execution_count": 53,
   "metadata": {},
   "outputs": [
    {
     "name": "stdout",
     "output_type": "stream",
     "text": [
      "50 points\n"
     ]
    }
   ],
   "source": [
    "'''\n",
    "Get subselection of points\n",
    "'''\n",
    "\n",
    "route_points = []\n",
    "for point in range(0,len(points),163):\n",
    "    tmp = points[point]\n",
    "    route_points.append(tmp)\n",
    "\n",
    "print(len(route_points),'points')"
   ]
  },
  {
   "cell_type": "markdown",
   "metadata": {},
   "source": [
    "#### Create working dataset"
   ]
  },
  {
   "cell_type": "code",
   "execution_count": 54,
   "metadata": {},
   "outputs": [
    {
     "data": {
      "text/html": [
       "<div>\n",
       "<style scoped>\n",
       "    .dataframe tbody tr th:only-of-type {\n",
       "        vertical-align: middle;\n",
       "    }\n",
       "\n",
       "    .dataframe tbody tr th {\n",
       "        vertical-align: top;\n",
       "    }\n",
       "\n",
       "    .dataframe thead th {\n",
       "        text-align: right;\n",
       "    }\n",
       "</style>\n",
       "<table border=\"1\" class=\"dataframe\">\n",
       "  <thead>\n",
       "    <tr style=\"text-align: right;\">\n",
       "      <th></th>\n",
       "      <th>Name</th>\n",
       "      <th>Longitude</th>\n",
       "      <th>Latitude</th>\n",
       "    </tr>\n",
       "  </thead>\n",
       "  <tbody>\n",
       "    <tr>\n",
       "      <th>0</th>\n",
       "      <td>120.20826146800005_30.293415948000074</td>\n",
       "      <td>120.208261</td>\n",
       "      <td>30.293416</td>\n",
       "    </tr>\n",
       "    <tr>\n",
       "      <th>1</th>\n",
       "      <td>121.53196055800004_29.93712074200005</td>\n",
       "      <td>121.531961</td>\n",
       "      <td>29.937121</td>\n",
       "    </tr>\n",
       "    <tr>\n",
       "      <th>2</th>\n",
       "      <td>120.00065641200001_30.981595850000073</td>\n",
       "      <td>120.000656</td>\n",
       "      <td>30.981596</td>\n",
       "    </tr>\n",
       "    <tr>\n",
       "      <th>3</th>\n",
       "      <td>113.7733801930001_22.851714791000063</td>\n",
       "      <td>113.773380</td>\n",
       "      <td>22.851715</td>\n",
       "    </tr>\n",
       "    <tr>\n",
       "      <th>4</th>\n",
       "      <td>115.7645844220001_39.05651377700008</td>\n",
       "      <td>115.764584</td>\n",
       "      <td>39.056514</td>\n",
       "    </tr>\n",
       "  </tbody>\n",
       "</table>\n",
       "</div>"
      ],
      "text/plain": [
       "                                    Name   Longitude   Latitude\n",
       "0  120.20826146800005_30.293415948000074  120.208261  30.293416\n",
       "1   121.53196055800004_29.93712074200005  121.531961  29.937121\n",
       "2  120.00065641200001_30.981595850000073  120.000656  30.981596\n",
       "3   113.7733801930001_22.851714791000063  113.773380  22.851715\n",
       "4    115.7645844220001_39.05651377700008  115.764584  39.056514"
      ]
     },
     "execution_count": 54,
     "metadata": {},
     "output_type": "execute_result"
    }
   ],
   "source": [
    "'''\n",
    "Create dataframe\n",
    "'''\n",
    "\n",
    "df = pd.DataFrame(route_points, columns=['Longitude','Latitude'])\n",
    "\n",
    "tmp = list(df.Latitude.tolist())\n",
    "names = []\n",
    "for i in range(0,len(tmp)):\n",
    "    name = str(df.iloc[i].Longitude)+'_'+str(df.iloc[i].Latitude)\n",
    "    names.append(name)\n",
    "\n",
    "df['Name'] = names\n",
    "\n",
    "columns = ['Name','Longitude','Latitude']\n",
    "df= df[columns]\n",
    "\n",
    "df.head()"
   ]
  },
  {
   "cell_type": "code",
   "execution_count": 190,
   "metadata": {},
   "outputs": [],
   "source": [
    "'''\n",
    "Export points\n",
    "'''\n",
    "\n",
    "df.to_csv(output_csv,header=True,index=None)"
   ]
  },
  {
   "cell_type": "code",
   "execution_count": 55,
   "metadata": {
    "scrolled": false
   },
   "outputs": [
    {
     "data": {
      "text/html": [
       "<div style=\"width:100%;\"><div style=\"position:relative;width:100%;height:0;padding-bottom:60%;\"><iframe src=\"data:text/html;charset=utf-8;base64,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\" style=\"position:absolute;width:100%;height:100%;left:0;top:0;border:none !important;\" allowfullscreen webkitallowfullscreen mozallowfullscreen></iframe></div></div>"
      ],
      "text/plain": [
       "<folium.folium.Map at 0x11d2dee48>"
      ]
     },
     "execution_count": 55,
     "metadata": {},
     "output_type": "execute_result"
    }
   ],
   "source": [
    "'''\n",
    "Plot markers\n",
    "'''\n",
    "\n",
    "rows = df.index.tolist()\n",
    "\n",
    "marker_points = []\n",
    "for row in rows:\n",
    "    marker_points.append((df.iloc[row].Latitude,df.iloc[row].Longitude))\n",
    "\n",
    "# Set map centerpoint\n",
    "coords = marker_points[int((len(marker_points)/2))]\n",
    "       \n",
    "# Define map\n",
    "m = folium.Map(\n",
    "    location = coords,\n",
    "    zoom_start = 7\n",
    ")\n",
    "  \n",
    "# Add points    \n",
    "for mp in marker_points:\n",
    "    folium.Marker(mp).add_to(m)\n",
    "m"
   ]
  },
  {
   "cell_type": "code",
   "execution_count": 191,
   "metadata": {},
   "outputs": [
    {
     "data": {
      "application/vnd.jupyter.widget-view+json": {
       "model_id": "f36733d0ec124e7e8e98623ee250a6a8",
       "version_major": 2,
       "version_minor": 0
      },
      "text/plain": [
       "Figure(layout=FigureLayout(height='800px', width='100%'))"
      ]
     },
     "metadata": {},
     "output_type": "display_data"
    }
   ],
   "source": [
    "'''\n",
    "Get satellite preview for image\n",
    "'''\n",
    "\n",
    "row = 1\n",
    "\n",
    "figure_layout = {\n",
    "    'width': '100%',\n",
    "    'height': '800px'\n",
    "}\n",
    "fig = gmaps.figure(center = (df.iloc[row].Latitude,df.iloc[row].Longitude), zoom_level = 19,map_type='SATELLITE',layout=figure_layout)\n",
    "fig"
   ]
  },
  {
   "cell_type": "code",
   "execution_count": 192,
   "metadata": {},
   "outputs": [],
   "source": [
    "'''\n",
    "Get all images \n",
    "'''\n",
    "\n",
    "root = os.path.dirname(os.path.abspath('Africa.ipynb'))\n",
    "image_folder = root[:-9]+output_folder[3:]\n",
    "image_folder\n",
    "\n",
    "url = 'https://maps.googleapis.com/maps/api/staticmap?'\n",
    "rows = df.index.tolist()\n",
    "for i in range(0,len(rows)):\n",
    "    row = df.iloc[i]\n",
    "    center = str(row.Latitude)+','+str(row.Longitude)\n",
    "    payload = {\n",
    "        'center': center, \n",
    "        'zoom': 19,\n",
    "        'size': '640x640',\n",
    "        'scale': 2,\n",
    "        'format': 'png32',\n",
    "        'maptype': 'satellite',\n",
    "        'key': token\n",
    "    }\n",
    "    \n",
    "    r = requests.get(url,params=payload,stream=True)\n",
    "\n",
    "    name = df.iloc[i]['Name']\n",
    "    filename = image_folder+name+'.png'\n",
    "    if r.status_code == 200:\n",
    "        with open(filename, 'wb') as f:\n",
    "            r.raw.decode_content = True\n",
    "            shutil.copyfileobj(r.raw, f) "
   ]
  }
 ],
 "metadata": {
  "kernelspec": {
   "display_name": "Python 3",
   "language": "python",
   "name": "python3"
  },
  "language_info": {
   "codemirror_mode": {
    "name": "ipython",
    "version": 3
   },
   "file_extension": ".py",
   "mimetype": "text/x-python",
   "name": "python",
   "nbconvert_exporter": "python",
   "pygments_lexer": "ipython3",
   "version": "3.7.3"
  }
 },
 "nbformat": 4,
 "nbformat_minor": 2
}
