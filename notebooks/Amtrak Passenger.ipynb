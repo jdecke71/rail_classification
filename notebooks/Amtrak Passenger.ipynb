{
 "cells": [
  {
   "cell_type": "code",
   "execution_count": 1,
   "metadata": {},
   "outputs": [],
   "source": [
    "import pandas as pd\n",
    "import geopandas as gpd\n",
    "import matplotlib.pyplot as plt\n",
    "from shapely.geometry import mapping\n",
    "import folium\n",
    "import googlemaps\n",
    "import gmaps\n",
    "import os\n",
    "import requests\n",
    "import shutil"
   ]
  },
  {
   "cell_type": "code",
   "execution_count": 2,
   "metadata": {},
   "outputs": [],
   "source": [
    "with open('../resources/key.txt') as f:\n",
    "    token = f.read()\n",
    "    \n",
    "gmaps.configure(api_key = token)"
   ]
  },
  {
   "cell_type": "code",
   "execution_count": 15,
   "metadata": {},
   "outputs": [],
   "source": [
    "input_folder = '../data/railways/Amtrak_Routes/'\n",
    "input_file = input_folder+'Amtrak_Routes.shp'\n",
    "\n",
    "output_folder = '../data/output_images/Amtrak_non_cat/'\n",
    "output_csv = output_folder+'AMT_3.csv'"
   ]
  },
  {
   "cell_type": "markdown",
   "metadata": {},
   "source": [
    "#### Import routes"
   ]
  },
  {
   "cell_type": "code",
   "execution_count": 16,
   "metadata": {},
   "outputs": [
    {
     "data": {
      "text/html": [
       "<div>\n",
       "<style scoped>\n",
       "    .dataframe tbody tr th:only-of-type {\n",
       "        vertical-align: middle;\n",
       "    }\n",
       "\n",
       "    .dataframe tbody tr th {\n",
       "        vertical-align: top;\n",
       "    }\n",
       "\n",
       "    .dataframe thead th {\n",
       "        text-align: right;\n",
       "    }\n",
       "</style>\n",
       "<table border=\"1\" class=\"dataframe\">\n",
       "  <thead>\n",
       "    <tr style=\"text-align: right;\">\n",
       "      <th></th>\n",
       "      <th>OBJECTID</th>\n",
       "      <th>NAME</th>\n",
       "      <th>Shape_Leng</th>\n",
       "      <th>ShapeSTLen</th>\n",
       "      <th>geometry</th>\n",
       "    </tr>\n",
       "  </thead>\n",
       "  <tbody>\n",
       "    <tr>\n",
       "      <th>0</th>\n",
       "      <td>1</td>\n",
       "      <td>Acela</td>\n",
       "      <td>7.410105e+05</td>\n",
       "      <td>9.779207e+05</td>\n",
       "      <td>(LINESTRING (-77.01421252564722 38.88359551476...</td>\n",
       "    </tr>\n",
       "    <tr>\n",
       "      <th>1</th>\n",
       "      <td>2</td>\n",
       "      <td>Adirondack</td>\n",
       "      <td>6.156754e+05</td>\n",
       "      <td>8.437497e+05</td>\n",
       "      <td>(LINESTRING (-73.74197100078742 42.64026759195...</td>\n",
       "    </tr>\n",
       "    <tr>\n",
       "      <th>2</th>\n",
       "      <td>3</td>\n",
       "      <td>Auto Train</td>\n",
       "      <td>1.474024e+06</td>\n",
       "      <td>1.776112e+06</td>\n",
       "      <td>(LINESTRING (-81.31769605926888 28.75892312078...</td>\n",
       "    </tr>\n",
       "    <tr>\n",
       "      <th>3</th>\n",
       "      <td>4</td>\n",
       "      <td>Blue Water</td>\n",
       "      <td>5.114384e+05</td>\n",
       "      <td>6.939223e+05</td>\n",
       "      <td>(LINESTRING (-87.63609509602139 41.81771709246...</td>\n",
       "    </tr>\n",
       "    <tr>\n",
       "      <th>4</th>\n",
       "      <td>5</td>\n",
       "      <td>California Zephyr</td>\n",
       "      <td>4.313889e+06</td>\n",
       "      <td>5.672842e+06</td>\n",
       "      <td>(LINESTRING (-108.5558964471134 39.06262618765...</td>\n",
       "    </tr>\n",
       "    <tr>\n",
       "      <th>5</th>\n",
       "      <td>6</td>\n",
       "      <td>Capitol Limited</td>\n",
       "      <td>1.287416e+06</td>\n",
       "      <td>1.703070e+06</td>\n",
       "      <td>(LINESTRING (-77.00406395874353 38.90377238870...</td>\n",
       "    </tr>\n",
       "    <tr>\n",
       "      <th>6</th>\n",
       "      <td>7</td>\n",
       "      <td>Cardinal</td>\n",
       "      <td>1.865049e+06</td>\n",
       "      <td>2.409211e+06</td>\n",
       "      <td>(LINESTRING (-80.87038216800727 37.65237912675...</td>\n",
       "    </tr>\n",
       "    <tr>\n",
       "      <th>7</th>\n",
       "      <td>8</td>\n",
       "      <td>Carolinian/Piedmont</td>\n",
       "      <td>1.166213e+06</td>\n",
       "      <td>1.473517e+06</td>\n",
       "      <td>(LINESTRING (-80.82749062344509 35.23795489421...</td>\n",
       "    </tr>\n",
       "    <tr>\n",
       "      <th>8</th>\n",
       "      <td>9</td>\n",
       "      <td>Cascades</td>\n",
       "      <td>7.556294e+05</td>\n",
       "      <td>1.105895e+06</td>\n",
       "      <td>(LINESTRING (-123.0638470134628 44.04802609166...</td>\n",
       "    </tr>\n",
       "    <tr>\n",
       "      <th>9</th>\n",
       "      <td>10</td>\n",
       "      <td>Chicago - St.Louis</td>\n",
       "      <td>4.545767e+05</td>\n",
       "      <td>5.950266e+05</td>\n",
       "      <td>(LINESTRING (-90.20919290538818 38.62454351388...</td>\n",
       "    </tr>\n",
       "  </tbody>\n",
       "</table>\n",
       "</div>"
      ],
      "text/plain": [
       "   OBJECTID                 NAME    Shape_Leng    ShapeSTLen  \\\n",
       "0         1                Acela  7.410105e+05  9.779207e+05   \n",
       "1         2           Adirondack  6.156754e+05  8.437497e+05   \n",
       "2         3           Auto Train  1.474024e+06  1.776112e+06   \n",
       "3         4           Blue Water  5.114384e+05  6.939223e+05   \n",
       "4         5    California Zephyr  4.313889e+06  5.672842e+06   \n",
       "5         6      Capitol Limited  1.287416e+06  1.703070e+06   \n",
       "6         7             Cardinal  1.865049e+06  2.409211e+06   \n",
       "7         8  Carolinian/Piedmont  1.166213e+06  1.473517e+06   \n",
       "8         9             Cascades  7.556294e+05  1.105895e+06   \n",
       "9        10   Chicago - St.Louis  4.545767e+05  5.950266e+05   \n",
       "\n",
       "                                            geometry  \n",
       "0  (LINESTRING (-77.01421252564722 38.88359551476...  \n",
       "1  (LINESTRING (-73.74197100078742 42.64026759195...  \n",
       "2  (LINESTRING (-81.31769605926888 28.75892312078...  \n",
       "3  (LINESTRING (-87.63609509602139 41.81771709246...  \n",
       "4  (LINESTRING (-108.5558964471134 39.06262618765...  \n",
       "5  (LINESTRING (-77.00406395874353 38.90377238870...  \n",
       "6  (LINESTRING (-80.87038216800727 37.65237912675...  \n",
       "7  (LINESTRING (-80.82749062344509 35.23795489421...  \n",
       "8  (LINESTRING (-123.0638470134628 44.04802609166...  \n",
       "9  (LINESTRING (-90.20919290538818 38.62454351388...  "
      ]
     },
     "execution_count": 16,
     "metadata": {},
     "output_type": "execute_result"
    }
   ],
   "source": [
    "routes = gpd.read_file(input_file)\n",
    "routes.head(10)"
   ]
  },
  {
   "cell_type": "markdown",
   "metadata": {},
   "source": [
    "#### Get points from routes"
   ]
  },
  {
   "cell_type": "code",
   "execution_count": 12,
   "metadata": {},
   "outputs": [
    {
     "name": "stdout",
     "output_type": "stream",
     "text": [
      "Skipped route number 0 because 'LineString' object is not iterable\n",
      "Skipped route number 1 because 'LineString' object is not iterable\n",
      "Skipped route number 3 because 'LineString' object is not iterable\n",
      "Skipped route number 5 because 'LineString' object is not iterable\n",
      "Skipped route number 6 because 'LineString' object is not iterable\n",
      "Skipped route number 7 because 'LineString' object is not iterable\n",
      "Skipped route number 9 because 'LineString' object is not iterable\n",
      "Skipped route number 11 because 'LineString' object is not iterable\n",
      "Skipped route number 14 because 'LineString' object is not iterable\n",
      "Skipped route number 15 because 'LineString' object is not iterable\n",
      "Skipped route number 17 because 'LineString' object is not iterable\n",
      "Skipped route number 18 because 'LineString' object is not iterable\n",
      "Skipped route number 21 because 'LineString' object is not iterable\n",
      "Skipped route number 23 because 'LineString' object is not iterable\n",
      "Skipped route number 24 because 'LineString' object is not iterable\n",
      "Skipped route number 26 because 'LineString' object is not iterable\n",
      "Skipped route number 27 because 'LineString' object is not iterable\n",
      "Skipped route number 28 because 'LineString' object is not iterable\n",
      "Skipped route number 29 because 'LineString' object is not iterable\n",
      "Skipped route number 30 because 'LineString' object is not iterable\n",
      "Skipped route number 31 because 'LineString' object is not iterable\n",
      "Skipped route number 32 because 'LineString' object is not iterable\n",
      "Skipped route number 33 because 'LineString' object is not iterable\n",
      "Skipped route number 34 because 'LineString' object is not iterable\n",
      "Skipped route number 35 because 'LineString' object is not iterable\n",
      "Skipped route number 36 because 'LineString' object is not iterable\n",
      "Skipped route number 38 because 'LineString' object is not iterable\n",
      "Skipped route number 39 because 'LineString' object is not iterable\n",
      "Skipped route number 41 because 'LineString' object is not iterable\n",
      "Skipped route number 42 because 'LineString' object is not iterable\n",
      "Skipped route number 43 because 'LineString' object is not iterable\n",
      "Skipped route number 45 because 'LineString' object is not iterable\n",
      "Skipped route number 46 because 'LineString' object is not iterable\n",
      "Skipped route number 47 because 'LineString' object is not iterable\n",
      "Skipped route number 48 because 'LineString' object is not iterable\n",
      "Skipped route number 52 because 'LineString' object is not iterable\n",
      "Skipped route number 53 because 'LineString' object is not iterable\n",
      "Skipped route number 54 because 'LineString' object is not iterable\n",
      "Skipped route number 57 because 'LineString' object is not iterable\n",
      "Skipped route number 58 because 'LineString' object is not iterable\n",
      "Skipped route number 59 because 'LineString' object is not iterable\n",
      "Skipped route number 62 because 'LineString' object is not iterable\n",
      "Skipped route number 65 because 'LineString' object is not iterable\n",
      "Skipped route number 66 because 'LineString' object is not iterable\n",
      "Skipped route number 67 because 'LineString' object is not iterable\n",
      "Skipped route number 73 because 'LineString' object is not iterable\n",
      "Skipped route number 75 because 'LineString' object is not iterable\n",
      "Skipped route number 76 because 'LineString' object is not iterable\n",
      "Skipped route number 77 because 'LineString' object is not iterable\n",
      "Skipped route number 78 because 'LineString' object is not iterable\n",
      "10638 points\n"
     ]
    }
   ],
   "source": [
    "'''\n",
    "Get all points\n",
    "'''\n",
    "\n",
    "points = []\n",
    "for i in range(0,len(routes.OBJECTID.tolist())):\n",
    "    try:\n",
    "        route = routes.iloc[i]\n",
    "        g = [m for m in route.geometry]\n",
    "        for j in range(0,len(g)):\n",
    "            sec_points = mapping(g[j])[\"coordinates\"]\n",
    "            for k in range(0,len(sec_points)):\n",
    "                points.append(sec_points[k])\n",
    "    except Exception as e:\n",
    "        print(\"Skipped route number\",i,'because',e)\n",
    "\n",
    "print(len(points),'points')"
   ]
  },
  {
   "cell_type": "code",
   "execution_count": 17,
   "metadata": {},
   "outputs": [
    {
     "name": "stdout",
     "output_type": "stream",
     "text": [
      "10234 points\n"
     ]
    }
   ],
   "source": [
    "'''\n",
    "Get points for 1 or more routes\n",
    "'''\n",
    "\n",
    "rows = [8]\n",
    "\n",
    "points = []\n",
    "for i in range(0,len(routes.OBJECTID.tolist())):\n",
    "    if i in rows:\n",
    "        try:\n",
    "            route = routes.iloc[i]\n",
    "            g = [m for m in route.geometry]\n",
    "            for j in range(0,len(g)):\n",
    "                sec_points = mapping(g[j])[\"coordinates\"]\n",
    "                for k in range(0,len(sec_points)):\n",
    "                    points.append(sec_points[k])\n",
    "        except Exception as e:\n",
    "            print(\"Skipped route number\",i,'because',e)\n",
    "\n",
    "print(len(points),'points')"
   ]
  },
  {
   "cell_type": "code",
   "execution_count": null,
   "metadata": {},
   "outputs": [],
   "source": [
    "'''\n",
    "Get points for single route/section\n",
    "'''\n",
    "\n",
    "row = 0\n",
    "section = 0\n",
    "\n",
    "points = []\n",
    "try:\n",
    "    route = routes.iloc[row]\n",
    "    g = [i for i in route.geometry]\n",
    "    len(g)\n",
    "\n",
    "    points = mapping(g[section])[\"coordinates\"]\n",
    "except Exception as e:\n",
    "    print(\"Skipped route number\",row,'because',e)\n",
    "    \n",
    "print(len(points),'points')"
   ]
  },
  {
   "cell_type": "code",
   "execution_count": 22,
   "metadata": {},
   "outputs": [
    {
     "name": "stdout",
     "output_type": "stream",
     "text": [
      "103 points\n"
     ]
    }
   ],
   "source": [
    "'''\n",
    "Get subselection of points\n",
    "'''\n",
    "\n",
    "route_points = []\n",
    "for point in range(0,len(points),100):\n",
    "    tmp = points[point]\n",
    "    route_points.append(tmp)\n",
    "\n",
    "print(len(route_points),'points')"
   ]
  },
  {
   "cell_type": "markdown",
   "metadata": {},
   "source": [
    "#### Create working dataset"
   ]
  },
  {
   "cell_type": "code",
   "execution_count": 23,
   "metadata": {},
   "outputs": [
    {
     "data": {
      "text/html": [
       "<div>\n",
       "<style scoped>\n",
       "    .dataframe tbody tr th:only-of-type {\n",
       "        vertical-align: middle;\n",
       "    }\n",
       "\n",
       "    .dataframe tbody tr th {\n",
       "        vertical-align: top;\n",
       "    }\n",
       "\n",
       "    .dataframe thead th {\n",
       "        text-align: right;\n",
       "    }\n",
       "</style>\n",
       "<table border=\"1\" class=\"dataframe\">\n",
       "  <thead>\n",
       "    <tr style=\"text-align: right;\">\n",
       "      <th></th>\n",
       "      <th>Name</th>\n",
       "      <th>Longitude</th>\n",
       "      <th>Latitude</th>\n",
       "    </tr>\n",
       "  </thead>\n",
       "  <tbody>\n",
       "    <tr>\n",
       "      <th>0</th>\n",
       "      <td>-123.0638470134628_44.04802609166963</td>\n",
       "      <td>-123.063847</td>\n",
       "      <td>44.048026</td>\n",
       "    </tr>\n",
       "    <tr>\n",
       "      <th>1</th>\n",
       "      <td>-123.10804673953896_44.05779527583565</td>\n",
       "      <td>-123.108047</td>\n",
       "      <td>44.057795</td>\n",
       "    </tr>\n",
       "    <tr>\n",
       "      <th>2</th>\n",
       "      <td>-123.15816369803602_44.10154325401387</td>\n",
       "      <td>-123.158164</td>\n",
       "      <td>44.101543</td>\n",
       "    </tr>\n",
       "    <tr>\n",
       "      <th>3</th>\n",
       "      <td>-123.20147978999476_44.2292928872626</td>\n",
       "      <td>-123.201480</td>\n",
       "      <td>44.229293</td>\n",
       "    </tr>\n",
       "    <tr>\n",
       "      <th>4</th>\n",
       "      <td>-123.16478181221127_44.28074264405279</td>\n",
       "      <td>-123.164782</td>\n",
       "      <td>44.280743</td>\n",
       "    </tr>\n",
       "  </tbody>\n",
       "</table>\n",
       "</div>"
      ],
      "text/plain": [
       "                                    Name   Longitude   Latitude\n",
       "0   -123.0638470134628_44.04802609166963 -123.063847  44.048026\n",
       "1  -123.10804673953896_44.05779527583565 -123.108047  44.057795\n",
       "2  -123.15816369803602_44.10154325401387 -123.158164  44.101543\n",
       "3   -123.20147978999476_44.2292928872626 -123.201480  44.229293\n",
       "4  -123.16478181221127_44.28074264405279 -123.164782  44.280743"
      ]
     },
     "execution_count": 23,
     "metadata": {},
     "output_type": "execute_result"
    }
   ],
   "source": [
    "'''\n",
    "Create dataframe\n",
    "'''\n",
    "\n",
    "df = pd.DataFrame(route_points, columns=['Longitude','Latitude'])\n",
    "\n",
    "tmp = list(df.Latitude.tolist())\n",
    "names = []\n",
    "for i in range(0,len(tmp)):\n",
    "    name = str(df.iloc[i].Longitude)+'_'+str(df.iloc[i].Latitude)\n",
    "    names.append(name)\n",
    "\n",
    "df['Name'] = names\n",
    "\n",
    "columns = ['Name','Longitude','Latitude']\n",
    "df= df[columns]\n",
    "\n",
    "df.head()"
   ]
  },
  {
   "cell_type": "code",
   "execution_count": 24,
   "metadata": {},
   "outputs": [],
   "source": [
    "'''\n",
    "Export points\n",
    "'''\n",
    "\n",
    "df.to_csv(output_csv,header=True,index=None)"
   ]
  },
  {
   "cell_type": "code",
   "execution_count": 25,
   "metadata": {
    "scrolled": false
   },
   "outputs": [
    {
     "data": {
      "text/html": [
       "<div style=\"width:100%;\"><div style=\"position:relative;width:100%;height:0;padding-bottom:60%;\"><iframe src=\"data:text/html;charset=utf-8;base64,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\" style=\"position:absolute;width:100%;height:100%;left:0;top:0;border:none !important;\" allowfullscreen webkitallowfullscreen mozallowfullscreen></iframe></div></div>"
      ],
      "text/plain": [
       "<folium.folium.Map at 0x120d26f28>"
      ]
     },
     "execution_count": 25,
     "metadata": {},
     "output_type": "execute_result"
    }
   ],
   "source": [
    "'''\n",
    "Plot markers\n",
    "'''\n",
    "\n",
    "rows = df.index.tolist()\n",
    "\n",
    "marker_points = []\n",
    "for row in rows:\n",
    "    marker_points.append((df.iloc[row].Latitude,df.iloc[row].Longitude))\n",
    "\n",
    "# Set map centerpoint\n",
    "coords = marker_points[int((len(marker_points)/2))]\n",
    "       \n",
    "# Define map\n",
    "m = folium.Map(\n",
    "    location = coords,\n",
    "    zoom_start = 7\n",
    ")\n",
    "  \n",
    "# Add points    \n",
    "for mp in marker_points:\n",
    "    folium.Marker(mp).add_to(m)\n",
    "m"
   ]
  },
  {
   "cell_type": "code",
   "execution_count": 26,
   "metadata": {},
   "outputs": [
    {
     "data": {
      "application/vnd.jupyter.widget-view+json": {
       "model_id": "aedd8884c2e34d3ca856790625bb971f",
       "version_major": 2,
       "version_minor": 0
      },
      "text/plain": [
       "Figure(layout=FigureLayout(height='800px', width='100%'))"
      ]
     },
     "metadata": {},
     "output_type": "display_data"
    }
   ],
   "source": [
    "'''\n",
    "Get satellite preview for image\n",
    "'''\n",
    "\n",
    "row = 0\n",
    "\n",
    "figure_layout = {\n",
    "    'width': '100%',\n",
    "    'height': '800px'\n",
    "}\n",
    "fig = gmaps.figure(center = (df.iloc[row].Latitude,df.iloc[row].Longitude), zoom_level = 19,map_type='SATELLITE',layout=figure_layout)\n",
    "fig"
   ]
  },
  {
   "cell_type": "code",
   "execution_count": 27,
   "metadata": {},
   "outputs": [],
   "source": [
    "'''\n",
    "Get all images \n",
    "'''\n",
    "\n",
    "root = os.path.dirname(os.path.abspath('Africa.ipynb'))\n",
    "image_folder = root[:-9]+output_folder[3:]\n",
    "image_folder\n",
    "\n",
    "url = 'https://maps.googleapis.com/maps/api/staticmap?'\n",
    "rows = df.index.tolist()\n",
    "for i in range(0,len(rows)):\n",
    "    row = df.iloc[i]\n",
    "    center = str(row.Latitude)+','+str(row.Longitude)\n",
    "    payload = {\n",
    "        'center': center, \n",
    "        'zoom': 19,\n",
    "        'size': '640x640',\n",
    "        'scale': 2,\n",
    "        'format': 'png32',\n",
    "        'maptype': 'satellite',\n",
    "        'key': token\n",
    "    }\n",
    "    \n",
    "    r = requests.get(url,params=payload,stream=True)\n",
    "\n",
    "    name = df.iloc[i]['Name']\n",
    "    filename = image_folder+name+'.png'\n",
    "    if r.status_code == 200:\n",
    "        with open(filename, 'wb') as f:\n",
    "            r.raw.decode_content = True\n",
    "            shutil.copyfileobj(r.raw, f) "
   ]
  },
  {
   "cell_type": "code",
   "execution_count": null,
   "metadata": {},
   "outputs": [],
   "source": []
  }
 ],
 "metadata": {
  "kernelspec": {
   "display_name": "Python 3",
   "language": "python",
   "name": "python3"
  },
  "language_info": {
   "codemirror_mode": {
    "name": "ipython",
    "version": 3
   },
   "file_extension": ".py",
   "mimetype": "text/x-python",
   "name": "python",
   "nbconvert_exporter": "python",
   "pygments_lexer": "ipython3",
   "version": "3.7.3"
  }
 },
 "nbformat": 4,
 "nbformat_minor": 2
}
