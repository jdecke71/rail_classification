{
 "cells": [
  {
   "cell_type": "code",
   "execution_count": 1,
   "metadata": {},
   "outputs": [],
   "source": [
    "import pandas as pd\n",
    "import geopandas as gpd\n",
    "import matplotlib.pyplot as plt\n",
    "from shapely.geometry import mapping\n",
    "import folium\n",
    "import googlemaps\n",
    "import gmaps\n",
    "import os\n",
    "import requests\n",
    "import shutil"
   ]
  },
  {
   "cell_type": "code",
   "execution_count": 2,
   "metadata": {},
   "outputs": [],
   "source": [
    "with open('../resources/key.txt') as f:\n",
    "    token = f.read()\n",
    "    \n",
    "gmaps.configure(api_key = token)"
   ]
  },
  {
   "cell_type": "code",
   "execution_count": 23,
   "metadata": {},
   "outputs": [],
   "source": [
    "input_folder = '../data/railways/Amtrak_Routes/'\n",
    "input_file = input_folder+'Amtrak_Routes.shp'\n",
    "\n",
    "output_folder = '../data/output_images/Amtrak_non_cat_3/'\n",
    "output_csv = output_folder+'ANC3.csv'\n",
    "\n",
    "update_folder = output_folder+'/set_2/'"
   ]
  },
  {
   "cell_type": "markdown",
   "metadata": {},
   "source": [
    "#### Import routes"
   ]
  },
  {
   "cell_type": "code",
   "execution_count": 4,
   "metadata": {},
   "outputs": [
    {
     "data": {
      "text/html": [
       "<div>\n",
       "<style scoped>\n",
       "    .dataframe tbody tr th:only-of-type {\n",
       "        vertical-align: middle;\n",
       "    }\n",
       "\n",
       "    .dataframe tbody tr th {\n",
       "        vertical-align: top;\n",
       "    }\n",
       "\n",
       "    .dataframe thead th {\n",
       "        text-align: right;\n",
       "    }\n",
       "</style>\n",
       "<table border=\"1\" class=\"dataframe\">\n",
       "  <thead>\n",
       "    <tr style=\"text-align: right;\">\n",
       "      <th></th>\n",
       "      <th>OBJECTID</th>\n",
       "      <th>NAME</th>\n",
       "      <th>Shape_Leng</th>\n",
       "      <th>ShapeSTLen</th>\n",
       "      <th>geometry</th>\n",
       "    </tr>\n",
       "  </thead>\n",
       "  <tbody>\n",
       "    <tr>\n",
       "      <th>0</th>\n",
       "      <td>1</td>\n",
       "      <td>Acela</td>\n",
       "      <td>7.410105e+05</td>\n",
       "      <td>9.779207e+05</td>\n",
       "      <td>(LINESTRING (-77.01421252564722 38.88359551476...</td>\n",
       "    </tr>\n",
       "    <tr>\n",
       "      <th>1</th>\n",
       "      <td>2</td>\n",
       "      <td>Adirondack</td>\n",
       "      <td>6.156754e+05</td>\n",
       "      <td>8.437497e+05</td>\n",
       "      <td>(LINESTRING (-73.74197100078742 42.64026759195...</td>\n",
       "    </tr>\n",
       "    <tr>\n",
       "      <th>2</th>\n",
       "      <td>3</td>\n",
       "      <td>Auto Train</td>\n",
       "      <td>1.474024e+06</td>\n",
       "      <td>1.776112e+06</td>\n",
       "      <td>(LINESTRING (-81.31769605926888 28.75892312078...</td>\n",
       "    </tr>\n",
       "    <tr>\n",
       "      <th>3</th>\n",
       "      <td>4</td>\n",
       "      <td>Blue Water</td>\n",
       "      <td>5.114384e+05</td>\n",
       "      <td>6.939223e+05</td>\n",
       "      <td>(LINESTRING (-87.63609509602139 41.81771709246...</td>\n",
       "    </tr>\n",
       "    <tr>\n",
       "      <th>4</th>\n",
       "      <td>5</td>\n",
       "      <td>California Zephyr</td>\n",
       "      <td>4.313889e+06</td>\n",
       "      <td>5.672842e+06</td>\n",
       "      <td>(LINESTRING (-108.5558964471134 39.06262618765...</td>\n",
       "    </tr>\n",
       "    <tr>\n",
       "      <th>5</th>\n",
       "      <td>6</td>\n",
       "      <td>Capitol Limited</td>\n",
       "      <td>1.287416e+06</td>\n",
       "      <td>1.703070e+06</td>\n",
       "      <td>(LINESTRING (-77.00406395874353 38.90377238870...</td>\n",
       "    </tr>\n",
       "    <tr>\n",
       "      <th>6</th>\n",
       "      <td>7</td>\n",
       "      <td>Cardinal</td>\n",
       "      <td>1.865049e+06</td>\n",
       "      <td>2.409211e+06</td>\n",
       "      <td>(LINESTRING (-80.87038216800727 37.65237912675...</td>\n",
       "    </tr>\n",
       "    <tr>\n",
       "      <th>7</th>\n",
       "      <td>8</td>\n",
       "      <td>Carolinian/Piedmont</td>\n",
       "      <td>1.166213e+06</td>\n",
       "      <td>1.473517e+06</td>\n",
       "      <td>(LINESTRING (-80.82749062344509 35.23795489421...</td>\n",
       "    </tr>\n",
       "    <tr>\n",
       "      <th>8</th>\n",
       "      <td>9</td>\n",
       "      <td>Cascades</td>\n",
       "      <td>7.556294e+05</td>\n",
       "      <td>1.105895e+06</td>\n",
       "      <td>(LINESTRING (-123.0638470134628 44.04802609166...</td>\n",
       "    </tr>\n",
       "    <tr>\n",
       "      <th>9</th>\n",
       "      <td>10</td>\n",
       "      <td>Chicago - St.Louis</td>\n",
       "      <td>4.545767e+05</td>\n",
       "      <td>5.950266e+05</td>\n",
       "      <td>(LINESTRING (-90.20919290538818 38.62454351388...</td>\n",
       "    </tr>\n",
       "  </tbody>\n",
       "</table>\n",
       "</div>"
      ],
      "text/plain": [
       "   OBJECTID                 NAME    Shape_Leng    ShapeSTLen  \\\n",
       "0         1                Acela  7.410105e+05  9.779207e+05   \n",
       "1         2           Adirondack  6.156754e+05  8.437497e+05   \n",
       "2         3           Auto Train  1.474024e+06  1.776112e+06   \n",
       "3         4           Blue Water  5.114384e+05  6.939223e+05   \n",
       "4         5    California Zephyr  4.313889e+06  5.672842e+06   \n",
       "5         6      Capitol Limited  1.287416e+06  1.703070e+06   \n",
       "6         7             Cardinal  1.865049e+06  2.409211e+06   \n",
       "7         8  Carolinian/Piedmont  1.166213e+06  1.473517e+06   \n",
       "8         9             Cascades  7.556294e+05  1.105895e+06   \n",
       "9        10   Chicago - St.Louis  4.545767e+05  5.950266e+05   \n",
       "\n",
       "                                            geometry  \n",
       "0  (LINESTRING (-77.01421252564722 38.88359551476...  \n",
       "1  (LINESTRING (-73.74197100078742 42.64026759195...  \n",
       "2  (LINESTRING (-81.31769605926888 28.75892312078...  \n",
       "3  (LINESTRING (-87.63609509602139 41.81771709246...  \n",
       "4  (LINESTRING (-108.5558964471134 39.06262618765...  \n",
       "5  (LINESTRING (-77.00406395874353 38.90377238870...  \n",
       "6  (LINESTRING (-80.87038216800727 37.65237912675...  \n",
       "7  (LINESTRING (-80.82749062344509 35.23795489421...  \n",
       "8  (LINESTRING (-123.0638470134628 44.04802609166...  \n",
       "9  (LINESTRING (-90.20919290538818 38.62454351388...  "
      ]
     },
     "execution_count": 4,
     "metadata": {},
     "output_type": "execute_result"
    }
   ],
   "source": [
    "routes = gpd.read_file(input_file)\n",
    "routes.head(10)"
   ]
  },
  {
   "cell_type": "markdown",
   "metadata": {},
   "source": [
    "#### Get points from routes"
   ]
  },
  {
   "cell_type": "code",
   "execution_count": 12,
   "metadata": {},
   "outputs": [
    {
     "name": "stdout",
     "output_type": "stream",
     "text": [
      "Skipped route number 0 because 'LineString' object is not iterable\n",
      "Skipped route number 1 because 'LineString' object is not iterable\n",
      "Skipped route number 3 because 'LineString' object is not iterable\n",
      "Skipped route number 5 because 'LineString' object is not iterable\n",
      "Skipped route number 6 because 'LineString' object is not iterable\n",
      "Skipped route number 7 because 'LineString' object is not iterable\n",
      "Skipped route number 9 because 'LineString' object is not iterable\n",
      "Skipped route number 11 because 'LineString' object is not iterable\n",
      "Skipped route number 14 because 'LineString' object is not iterable\n",
      "Skipped route number 15 because 'LineString' object is not iterable\n",
      "Skipped route number 17 because 'LineString' object is not iterable\n",
      "Skipped route number 18 because 'LineString' object is not iterable\n",
      "Skipped route number 21 because 'LineString' object is not iterable\n",
      "Skipped route number 23 because 'LineString' object is not iterable\n",
      "Skipped route number 24 because 'LineString' object is not iterable\n",
      "Skipped route number 26 because 'LineString' object is not iterable\n",
      "Skipped route number 27 because 'LineString' object is not iterable\n",
      "Skipped route number 28 because 'LineString' object is not iterable\n",
      "Skipped route number 29 because 'LineString' object is not iterable\n",
      "Skipped route number 30 because 'LineString' object is not iterable\n",
      "Skipped route number 31 because 'LineString' object is not iterable\n",
      "Skipped route number 32 because 'LineString' object is not iterable\n",
      "Skipped route number 33 because 'LineString' object is not iterable\n",
      "Skipped route number 34 because 'LineString' object is not iterable\n",
      "Skipped route number 35 because 'LineString' object is not iterable\n",
      "Skipped route number 36 because 'LineString' object is not iterable\n",
      "Skipped route number 38 because 'LineString' object is not iterable\n",
      "Skipped route number 39 because 'LineString' object is not iterable\n",
      "Skipped route number 41 because 'LineString' object is not iterable\n",
      "Skipped route number 42 because 'LineString' object is not iterable\n",
      "Skipped route number 43 because 'LineString' object is not iterable\n",
      "Skipped route number 45 because 'LineString' object is not iterable\n",
      "Skipped route number 46 because 'LineString' object is not iterable\n",
      "Skipped route number 47 because 'LineString' object is not iterable\n",
      "Skipped route number 48 because 'LineString' object is not iterable\n",
      "Skipped route number 52 because 'LineString' object is not iterable\n",
      "Skipped route number 53 because 'LineString' object is not iterable\n",
      "Skipped route number 54 because 'LineString' object is not iterable\n",
      "Skipped route number 57 because 'LineString' object is not iterable\n",
      "Skipped route number 58 because 'LineString' object is not iterable\n",
      "Skipped route number 59 because 'LineString' object is not iterable\n",
      "Skipped route number 62 because 'LineString' object is not iterable\n",
      "Skipped route number 65 because 'LineString' object is not iterable\n",
      "Skipped route number 66 because 'LineString' object is not iterable\n",
      "Skipped route number 67 because 'LineString' object is not iterable\n",
      "Skipped route number 73 because 'LineString' object is not iterable\n",
      "Skipped route number 75 because 'LineString' object is not iterable\n",
      "Skipped route number 76 because 'LineString' object is not iterable\n",
      "Skipped route number 77 because 'LineString' object is not iterable\n",
      "Skipped route number 78 because 'LineString' object is not iterable\n",
      "10638 points\n"
     ]
    }
   ],
   "source": [
    "'''\n",
    "Get all points\n",
    "'''\n",
    "\n",
    "points = []\n",
    "for i in range(0,len(routes.OBJECTID.tolist())):\n",
    "    try:\n",
    "        route = routes.iloc[i]\n",
    "        g = [m for m in route.geometry]\n",
    "        for j in range(0,len(g)):\n",
    "            sec_points = mapping(g[j])[\"coordinates\"]\n",
    "            for k in range(0,len(sec_points)):\n",
    "                points.append(sec_points[k])\n",
    "    except Exception as e:\n",
    "        print(\"Skipped route number\",i,'because',e)\n",
    "\n",
    "print(len(points),'points')"
   ]
  },
  {
   "cell_type": "code",
   "execution_count": 17,
   "metadata": {},
   "outputs": [
    {
     "name": "stdout",
     "output_type": "stream",
     "text": [
      "10234 points\n"
     ]
    }
   ],
   "source": [
    "'''\n",
    "Get points for 1 or more routes\n",
    "'''\n",
    "\n",
    "rows = [8]\n",
    "\n",
    "points = []\n",
    "for i in range(0,len(routes.OBJECTID.tolist())):\n",
    "    if i in rows:\n",
    "        try:\n",
    "            route = routes.iloc[i]\n",
    "            g = [m for m in route.geometry]\n",
    "            for j in range(0,len(g)):\n",
    "                sec_points = mapping(g[j])[\"coordinates\"]\n",
    "                for k in range(0,len(sec_points)):\n",
    "                    points.append(sec_points[k])\n",
    "        except Exception as e:\n",
    "            print(\"Skipped route number\",i,'because',e)\n",
    "\n",
    "print(len(points),'points')"
   ]
  },
  {
   "cell_type": "code",
   "execution_count": null,
   "metadata": {},
   "outputs": [],
   "source": [
    "'''\n",
    "Get points for single route/section\n",
    "'''\n",
    "\n",
    "row = 0\n",
    "section = 0\n",
    "\n",
    "points = []\n",
    "try:\n",
    "    route = routes.iloc[row]\n",
    "    g = [i for i in route.geometry]\n",
    "    len(g)\n",
    "\n",
    "    points = mapping(g[section])[\"coordinates\"]\n",
    "except Exception as e:\n",
    "    print(\"Skipped route number\",row,'because',e)\n",
    "    \n",
    "print(len(points),'points')"
   ]
  },
  {
   "cell_type": "code",
   "execution_count": 22,
   "metadata": {},
   "outputs": [
    {
     "name": "stdout",
     "output_type": "stream",
     "text": [
      "103 points\n"
     ]
    }
   ],
   "source": [
    "'''\n",
    "Get subselection of points\n",
    "'''\n",
    "\n",
    "route_points = []\n",
    "for point in range(0,len(points),100):\n",
    "    tmp = points[point]\n",
    "    route_points.append(tmp)\n",
    "\n",
    "print(len(route_points),'points')"
   ]
  },
  {
   "cell_type": "markdown",
   "metadata": {},
   "source": [
    "#### Create working dataset"
   ]
  },
  {
   "cell_type": "code",
   "execution_count": 23,
   "metadata": {},
   "outputs": [
    {
     "data": {
      "text/html": [
       "<div>\n",
       "<style scoped>\n",
       "    .dataframe tbody tr th:only-of-type {\n",
       "        vertical-align: middle;\n",
       "    }\n",
       "\n",
       "    .dataframe tbody tr th {\n",
       "        vertical-align: top;\n",
       "    }\n",
       "\n",
       "    .dataframe thead th {\n",
       "        text-align: right;\n",
       "    }\n",
       "</style>\n",
       "<table border=\"1\" class=\"dataframe\">\n",
       "  <thead>\n",
       "    <tr style=\"text-align: right;\">\n",
       "      <th></th>\n",
       "      <th>Name</th>\n",
       "      <th>Longitude</th>\n",
       "      <th>Latitude</th>\n",
       "    </tr>\n",
       "  </thead>\n",
       "  <tbody>\n",
       "    <tr>\n",
       "      <th>0</th>\n",
       "      <td>-123.0638470134628_44.04802609166963</td>\n",
       "      <td>-123.063847</td>\n",
       "      <td>44.048026</td>\n",
       "    </tr>\n",
       "    <tr>\n",
       "      <th>1</th>\n",
       "      <td>-123.10804673953896_44.05779527583565</td>\n",
       "      <td>-123.108047</td>\n",
       "      <td>44.057795</td>\n",
       "    </tr>\n",
       "    <tr>\n",
       "      <th>2</th>\n",
       "      <td>-123.15816369803602_44.10154325401387</td>\n",
       "      <td>-123.158164</td>\n",
       "      <td>44.101543</td>\n",
       "    </tr>\n",
       "    <tr>\n",
       "      <th>3</th>\n",
       "      <td>-123.20147978999476_44.2292928872626</td>\n",
       "      <td>-123.201480</td>\n",
       "      <td>44.229293</td>\n",
       "    </tr>\n",
       "    <tr>\n",
       "      <th>4</th>\n",
       "      <td>-123.16478181221127_44.28074264405279</td>\n",
       "      <td>-123.164782</td>\n",
       "      <td>44.280743</td>\n",
       "    </tr>\n",
       "  </tbody>\n",
       "</table>\n",
       "</div>"
      ],
      "text/plain": [
       "                                    Name   Longitude   Latitude\n",
       "0   -123.0638470134628_44.04802609166963 -123.063847  44.048026\n",
       "1  -123.10804673953896_44.05779527583565 -123.108047  44.057795\n",
       "2  -123.15816369803602_44.10154325401387 -123.158164  44.101543\n",
       "3   -123.20147978999476_44.2292928872626 -123.201480  44.229293\n",
       "4  -123.16478181221127_44.28074264405279 -123.164782  44.280743"
      ]
     },
     "execution_count": 23,
     "metadata": {},
     "output_type": "execute_result"
    }
   ],
   "source": [
    "'''\n",
    "Create dataframe\n",
    "'''\n",
    "\n",
    "df = pd.DataFrame(route_points, columns=['Longitude','Latitude'])\n",
    "\n",
    "tmp = list(df.Latitude.tolist())\n",
    "names = []\n",
    "for i in range(0,len(tmp)):\n",
    "    name = str(df.iloc[i].Longitude)+'_'+str(df.iloc[i].Latitude)\n",
    "    names.append(name)\n",
    "\n",
    "df['Name'] = names\n",
    "\n",
    "columns = ['Name','Longitude','Latitude']\n",
    "df= df[columns]\n",
    "\n",
    "df.head()"
   ]
  },
  {
   "cell_type": "code",
   "execution_count": 24,
   "metadata": {},
   "outputs": [],
   "source": [
    "'''\n",
    "Export points\n",
    "'''\n",
    "\n",
    "df.to_csv(output_csv,header=True,index=None)"
   ]
  },
  {
   "cell_type": "code",
   "execution_count": 24,
   "metadata": {},
   "outputs": [
    {
     "data": {
      "text/html": [
       "<div>\n",
       "<style scoped>\n",
       "    .dataframe tbody tr th:only-of-type {\n",
       "        vertical-align: middle;\n",
       "    }\n",
       "\n",
       "    .dataframe tbody tr th {\n",
       "        vertical-align: top;\n",
       "    }\n",
       "\n",
       "    .dataframe thead th {\n",
       "        text-align: right;\n",
       "    }\n",
       "</style>\n",
       "<table border=\"1\" class=\"dataframe\">\n",
       "  <thead>\n",
       "    <tr style=\"text-align: right;\">\n",
       "      <th></th>\n",
       "      <th>Name</th>\n",
       "      <th>Longitude</th>\n",
       "      <th>Latitude</th>\n",
       "      <th>Catenary</th>\n",
       "    </tr>\n",
       "  </thead>\n",
       "  <tbody>\n",
       "    <tr>\n",
       "      <th>0</th>\n",
       "      <td>-123.0638470134628_44.04802609166963</td>\n",
       "      <td>-123.063847</td>\n",
       "      <td>44.048026</td>\n",
       "      <td>0</td>\n",
       "    </tr>\n",
       "    <tr>\n",
       "      <th>1</th>\n",
       "      <td>-123.10804673953896_44.05779527583565</td>\n",
       "      <td>-123.108047</td>\n",
       "      <td>44.057795</td>\n",
       "      <td>0</td>\n",
       "    </tr>\n",
       "    <tr>\n",
       "      <th>2</th>\n",
       "      <td>-123.15816369803602_44.10154325401387</td>\n",
       "      <td>-123.158164</td>\n",
       "      <td>44.101543</td>\n",
       "      <td>0</td>\n",
       "    </tr>\n",
       "    <tr>\n",
       "      <th>3</th>\n",
       "      <td>-123.20147978999476_44.2292928872626</td>\n",
       "      <td>-123.201480</td>\n",
       "      <td>44.229293</td>\n",
       "      <td>0</td>\n",
       "    </tr>\n",
       "    <tr>\n",
       "      <th>4</th>\n",
       "      <td>-123.16478181221127_44.28074264405279</td>\n",
       "      <td>-123.164782</td>\n",
       "      <td>44.280743</td>\n",
       "      <td>0</td>\n",
       "    </tr>\n",
       "  </tbody>\n",
       "</table>\n",
       "</div>"
      ],
      "text/plain": [
       "                                    Name   Longitude   Latitude  Catenary\n",
       "0   -123.0638470134628_44.04802609166963 -123.063847  44.048026         0\n",
       "1  -123.10804673953896_44.05779527583565 -123.108047  44.057795         0\n",
       "2  -123.15816369803602_44.10154325401387 -123.158164  44.101543         0\n",
       "3   -123.20147978999476_44.2292928872626 -123.201480  44.229293         0\n",
       "4  -123.16478181221127_44.28074264405279 -123.164782  44.280743         0"
      ]
     },
     "execution_count": 24,
     "metadata": {},
     "output_type": "execute_result"
    }
   ],
   "source": [
    "'''\n",
    "Open csv\n",
    "'''\n",
    "\n",
    "df = pd.read_csv(output_csv)\n",
    "df.head()"
   ]
  },
  {
   "cell_type": "code",
   "execution_count": 25,
   "metadata": {
    "scrolled": false
   },
   "outputs": [
    {
     "data": {
      "text/html": [
       "<div style=\"width:100%;\"><div style=\"position:relative;width:100%;height:0;padding-bottom:60%;\"><iframe src=\"data:text/html;charset=utf-8;base64,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\" style=\"position:absolute;width:100%;height:100%;left:0;top:0;border:none !important;\" allowfullscreen webkitallowfullscreen mozallowfullscreen></iframe></div></div>"
      ],
      "text/plain": [
       "<folium.folium.Map at 0x11d43bfd0>"
      ]
     },
     "execution_count": 25,
     "metadata": {},
     "output_type": "execute_result"
    }
   ],
   "source": [
    "'''\n",
    "Plot markers\n",
    "'''\n",
    "\n",
    "rows = df.index.tolist()\n",
    "\n",
    "marker_points = []\n",
    "for row in rows:\n",
    "    marker_points.append((df.iloc[row].Latitude,df.iloc[row].Longitude))\n",
    "\n",
    "# Set map centerpoint\n",
    "coords = marker_points[int((len(marker_points)/2))]\n",
    "       \n",
    "# Define map\n",
    "m = folium.Map(\n",
    "    location = coords,\n",
    "    zoom_start = 7\n",
    ")\n",
    "  \n",
    "# Add points    \n",
    "for mp in marker_points:\n",
    "    folium.Marker(mp).add_to(m)\n",
    "m"
   ]
  },
  {
   "cell_type": "code",
   "execution_count": 26,
   "metadata": {},
   "outputs": [
    {
     "data": {
      "application/vnd.jupyter.widget-view+json": {
       "model_id": "aedd8884c2e34d3ca856790625bb971f",
       "version_major": 2,
       "version_minor": 0
      },
      "text/plain": [
       "Figure(layout=FigureLayout(height='800px', width='100%'))"
      ]
     },
     "metadata": {},
     "output_type": "display_data"
    }
   ],
   "source": [
    "'''\n",
    "Get satellite preview for image\n",
    "'''\n",
    "\n",
    "row = 0\n",
    "\n",
    "figure_layout = {\n",
    "    'width': '100%',\n",
    "    'height': '800px'\n",
    "}\n",
    "fig = gmaps.figure(center = (df.iloc[row].Latitude,df.iloc[row].Longitude), zoom_level = 19,map_type='SATELLITE',layout=figure_layout)\n",
    "fig"
   ]
  },
  {
   "cell_type": "code",
   "execution_count": 26,
   "metadata": {},
   "outputs": [],
   "source": [
    "'''\n",
    "Get all images \n",
    "'''\n",
    "\n",
    "root = os.path.dirname(os.path.abspath('Africa.ipynb'))\n",
    "image_folder = root[:-9]+update_folder[3:]\n",
    "image_folder\n",
    "\n",
    "url = 'https://maps.googleapis.com/maps/api/staticmap?'\n",
    "rows = df.index.tolist()\n",
    "for i in range(0,len(rows)):\n",
    "    row = df.iloc[i]\n",
    "    center = str(row.Latitude)+','+str(row.Longitude)\n",
    "    payload = {\n",
    "        'center': center, \n",
    "        'zoom': 20,\n",
    "        'size': '640x640',\n",
    "        'scale': 2,\n",
    "        'format': 'png32',\n",
    "        'maptype': 'satellite',\n",
    "        'key': token\n",
    "    }\n",
    "    \n",
    "    r = requests.get(url,params=payload,stream=True)\n",
    "\n",
    "    name = df.iloc[i]['Name']\n",
    "    filename = image_folder+name+'.png'\n",
    "    if r.status_code == 200:\n",
    "        with open(filename, 'wb') as f:\n",
    "            r.raw.decode_content = True\n",
    "            shutil.copyfileobj(r.raw, f) "
   ]
  },
  {
   "cell_type": "code",
   "execution_count": null,
   "metadata": {},
   "outputs": [],
   "source": []
  }
 ],
 "metadata": {
  "kernelspec": {
   "display_name": "Python 3",
   "language": "python",
   "name": "python3"
  },
  "language_info": {
   "codemirror_mode": {
    "name": "ipython",
    "version": 3
   },
   "file_extension": ".py",
   "mimetype": "text/x-python",
   "name": "python",
   "nbconvert_exporter": "python",
   "pygments_lexer": "ipython3",
   "version": "3.6.8"
  }
 },
 "nbformat": 4,
 "nbformat_minor": 2
}
