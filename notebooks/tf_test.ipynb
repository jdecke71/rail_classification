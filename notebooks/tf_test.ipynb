{
 "cells": [
  {
   "cell_type": "markdown",
   "metadata": {},
   "source": [
    "### Setup"
   ]
  },
  {
   "cell_type": "code",
   "execution_count": 1,
   "metadata": {},
   "outputs": [],
   "source": [
    "%run -i '../scripts/tf_test.py'"
   ]
  },
  {
   "cell_type": "code",
   "execution_count": 2,
   "metadata": {},
   "outputs": [
    {
     "data": {
      "text/plain": [
       "'1.13.1'"
      ]
     },
     "execution_count": 2,
     "metadata": {},
     "output_type": "execute_result"
    }
   ],
   "source": [
    "import tensorflow as tf\n",
    "tf.enable_eager_execution()\n",
    "\n",
    "from tensorflow.keras.preprocessing.image import ImageDataGenerator\n",
    "tf.__version__"
   ]
  },
  {
   "cell_type": "code",
   "execution_count": 3,
   "metadata": {},
   "outputs": [],
   "source": [
    "AUTOTUNE = tf.data.experimental.AUTOTUNE"
   ]
  },
  {
   "cell_type": "code",
   "execution_count": 4,
   "metadata": {},
   "outputs": [
    {
     "name": "stdout",
     "output_type": "stream",
     "text": [
      "[name: \"/device:CPU:0\"\n",
      "device_type: \"CPU\"\n",
      "memory_limit: 268435456\n",
      "locality {\n",
      "}\n",
      "incarnation: 9557547591947972776\n",
      "]\n"
     ]
    }
   ],
   "source": [
    "from tensorflow.python.client import device_lib\n",
    "print(device_lib.list_local_devices())"
   ]
  },
  {
   "cell_type": "markdown",
   "metadata": {},
   "source": [
    "## Start program"
   ]
  },
  {
   "cell_type": "markdown",
   "metadata": {},
   "source": [
    "### Select a model"
   ]
  },
  {
   "cell_type": "code",
   "execution_count": 5,
   "metadata": {},
   "outputs": [
    {
     "name": "stdout",
     "output_type": "stream",
     "text": [
      "WARNING:tensorflow:From /Users/jessedecker/miniconda3/envs/tf/lib/python3.6/site-packages/tensorflow/python/ops/resource_variable_ops.py:642: colocate_with (from tensorflow.python.framework.ops) is deprecated and will be removed in a future version.\n",
      "Instructions for updating:\n",
      "Colocations handled automatically by placer.\n",
      "WARNING:tensorflow:From /Users/jessedecker/miniconda3/envs/tf/lib/python3.6/site-packages/tensorflow/python/keras/layers/core.py:143: calling dropout (from tensorflow.python.ops.nn_ops) with keep_prob is deprecated and will be removed in a future version.\n",
      "Instructions for updating:\n",
      "Please use `rate` instead of `keep_prob`. Rate should be set to `rate = 1 - keep_prob`.\n"
     ]
    }
   ],
   "source": [
    "'''\n",
    "Model \n",
    "'''\n",
    "\n",
    "img_size = [224,224]\n",
    "\n",
    "mobile_net = tf.keras.applications.MobileNetV2(input_shape=(224, 224, 3), include_top=False)\n",
    "mobile_net.trainable=False\n",
    "\n",
    "model = tf.keras.Sequential([\n",
    "    mobile_net,\n",
    "    tf.keras.layers.GlobalAveragePooling2D(),\n",
    "    tf.keras.layers.Dense(32, activation = 'relu'),\n",
    "    tf.keras.layers.Dropout(0.5),\n",
    "    tf.keras.layers.Dense(32, activation='relu'),\n",
    "    tf.keras.layers.Dropout(0.5),\n",
    "    tf.keras.layers.Dense(1, activation='sigmoid')\n",
    "])"
   ]
  },
  {
   "cell_type": "code",
   "execution_count": 29,
   "metadata": {},
   "outputs": [
    {
     "name": "stdout",
     "output_type": "stream",
     "text": [
      "Downloading data from https://github.com/fchollet/deep-learning-models/releases/download/v0.2/resnet50_weights_tf_dim_ordering_tf_kernels.h5\n",
      "102858752/102853048 [==============================] - 11s 0us/step\n"
     ]
    }
   ],
   "source": [
    "'''\n",
    "Model \n",
    "'''\n",
    "\n",
    "img_size = [224,224]\n",
    "\n",
    "app = tf.keras.applications.ResNet50(input_shape=(224, 224, 3))\n",
    "app.trainable=False\n",
    "\n",
    "model = tf.keras.Sequential([\n",
    "  app,\n",
    "#   tf.keras.layers.GlobalAveragePooling2D(),\n",
    "  tf.keras.layers.Dense(2, activation = 'sigmoid')\n",
    "])"
   ]
  },
  {
   "cell_type": "code",
   "execution_count": 42,
   "metadata": {},
   "outputs": [],
   "source": [
    "'''\n",
    "Model \n",
    "'''\n",
    "\n",
    "img_size = [320,320]\n",
    "\n",
    "model = tf.keras.models.Sequential([\n",
    "    tf.keras.layers.Conv2D(32,kernel_size=(3,3), strides=(1, 1),activation='relu',input_shape=(320,320,3)),\n",
    "#     tf.keras.layers.Dense(batch_size, activation=tf.nn.relu),\n",
    "    tf.keras.layers.Dropout(0.2),\n",
    "    tf.keras.layers.Dense(2, activation=tf.nn.sigmoid)\n",
    "])"
   ]
  },
  {
   "cell_type": "code",
   "execution_count": 21,
   "metadata": {},
   "outputs": [],
   "source": [
    "'''\n",
    "Model \n",
    "'''\n",
    "\n",
    "img_size = [320,320]\n",
    "\n",
    "model = tf.keras.models.Sequential([\n",
    "    tf.keras.layers.Flatten(input_shape=(320,320,3)),\n",
    "    tf.keras.layers.Dense(2, activation=tf.nn.relu),\n",
    "    tf.keras.layers.Dropout(0.2),\n",
    "    tf.keras.layers.Dense(2, activation=tf.nn.sigmoid)\n",
    "])"
   ]
  },
  {
   "cell_type": "markdown",
   "metadata": {},
   "source": [
    "### Load Data"
   ]
  },
  {
   "cell_type": "code",
   "execution_count": 6,
   "metadata": {},
   "outputs": [],
   "source": [
    "'''\n",
    "Set Params\n",
    "\n",
    "sample_size: 0-1\n",
    "'''\n",
    "\n",
    "sample_size = 1.0\n",
    "\n",
    "batch_size = 64"
   ]
  },
  {
   "cell_type": "code",
   "execution_count": 7,
   "metadata": {},
   "outputs": [
    {
     "name": "stdout",
     "output_type": "stream",
     "text": [
      "[Errno 2] File b'../data/output_images/China/CHN.csv' does not exist: b'../data/output_images/China/CHN.csv'\n",
      "1    320\n",
      "0    320\n",
      "Name: Catenary, dtype: int64\n",
      "640\n"
     ]
    }
   ],
   "source": [
    "'''\n",
    "Load CSVs\n",
    "'''\n",
    "\n",
    "df = GetCSVs(sample_size)\n",
    "print(df['Catenary'].value_counts())\n",
    "\n",
    "img_paths,labels = GetPaths(df)"
   ]
  },
  {
   "cell_type": "code",
   "execution_count": 8,
   "metadata": {},
   "outputs": [
    {
     "name": "stdout",
     "output_type": "stream",
     "text": [
      "(224, 224, 3)\n",
      "(224, 224, 3)\n"
     ]
    }
   ],
   "source": [
    "'''\n",
    "Split, shuffle, and batch images into train/test datasets\n",
    "'''\n",
    "\n",
    "train_image_label_ds, test_image_label_ds = SplitDataSet(img_paths, labels)\n",
    "\n",
    "train_ds = ShuffleBatch(train_image_label_ds,len(img_paths),BATCH_SIZE = batch_size) \n",
    "test_ds = ShuffleBatch(test_image_label_ds,len(img_paths),BATCH_SIZE = batch_size)"
   ]
  },
  {
   "cell_type": "markdown",
   "metadata": {},
   "source": [
    "### Compile, Fit, and Evaluate"
   ]
  },
  {
   "cell_type": "code",
   "execution_count": 9,
   "metadata": {},
   "outputs": [],
   "source": [
    "model.compile(optimizer='rmsprop',\n",
    "              loss=tf.keras.losses.binary_crossentropy,\n",
    "              metrics=['accuracy'])"
   ]
  },
  {
   "cell_type": "code",
   "execution_count": 38,
   "metadata": {},
   "outputs": [
    {
     "name": "stdout",
     "output_type": "stream",
     "text": [
      "Epoch 1/10\n",
      "5/5 [==============================] - 41s 8s/step - loss: 0.7488 - acc: 0.5656\n",
      "Epoch 2/10\n",
      "5/5 [==============================] - 32s 6s/step - loss: 0.6867 - acc: 0.5938\n",
      "Epoch 3/10\n",
      "5/5 [==============================] - 32s 6s/step - loss: 0.6036 - acc: 0.6891\n",
      "Epoch 4/10\n",
      "5/5 [==============================] - 32s 6s/step - loss: 0.5870 - acc: 0.6719\n",
      "Epoch 5/10\n",
      "5/5 [==============================] - 32s 6s/step - loss: 0.5363 - acc: 0.7250\n",
      "Epoch 6/10\n",
      "5/5 [==============================] - 32s 6s/step - loss: 0.4927 - acc: 0.7469\n",
      "Epoch 7/10\n",
      "5/5 [==============================] - 32s 6s/step - loss: 0.4836 - acc: 0.7719\n",
      "Epoch 8/10\n",
      "5/5 [==============================] - 32s 6s/step - loss: 0.4648 - acc: 0.7844\n",
      "Epoch 9/10\n",
      "5/5 [==============================] - 32s 6s/step - loss: 0.4251 - acc: 0.8156\n",
      "Epoch 10/10\n",
      "5/5 [==============================] - 32s 6s/step - loss: 0.4090 - acc: 0.8266\n",
      "5/5 [==============================] - 40s 8s/step - loss: 0.8573 - acc: 0.6953\n"
     ]
    },
    {
     "data": {
      "text/plain": [
       "[0.8572579145431518, 0.6953125]"
      ]
     },
     "execution_count": 38,
     "metadata": {},
     "output_type": "execute_result"
    }
   ],
   "source": [
    "steps_per_epoch = int(tf.ceil(len(img_paths)/batch_size).numpy())\n",
    "\n",
    "model.fit(train_ds,steps_per_epoch=steps_per_epoch, epochs=10)\n",
    "\n",
    "model.evaluate(test_ds,steps=steps_per_epoch)"
   ]
  },
  {
   "cell_type": "code",
   "execution_count": null,
   "metadata": {},
   "outputs": [],
   "source": []
  }
 ],
 "metadata": {
  "kernelspec": {
   "display_name": "Python 3",
   "language": "python",
   "name": "python3"
  },
  "language_info": {
   "codemirror_mode": {
    "name": "ipython",
    "version": 3
   },
   "file_extension": ".py",
   "mimetype": "text/x-python",
   "name": "python",
   "nbconvert_exporter": "python",
   "pygments_lexer": "ipython3",
   "version": "3.6.8"
  }
 },
 "nbformat": 4,
 "nbformat_minor": 2
}
