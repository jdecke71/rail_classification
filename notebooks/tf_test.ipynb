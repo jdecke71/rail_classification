{
 "cells": [
  {
   "cell_type": "markdown",
   "metadata": {},
   "source": [
    "### Setup"
   ]
  },
  {
   "cell_type": "code",
   "execution_count": 13,
   "metadata": {},
   "outputs": [],
   "source": [
    "%run -i '../scripts/tf_test.py'"
   ]
  },
  {
   "cell_type": "code",
   "execution_count": 2,
   "metadata": {},
   "outputs": [
    {
     "data": {
      "text/plain": [
       "'1.13.1'"
      ]
     },
     "execution_count": 2,
     "metadata": {},
     "output_type": "execute_result"
    }
   ],
   "source": [
    "import tensorflow as tf\n",
    "tf.enable_eager_execution()\n",
    "\n",
    "from tensorflow.keras.preprocessing.image import ImageDataGenerator\n",
    "tf.__version__"
   ]
  },
  {
   "cell_type": "code",
   "execution_count": 3,
   "metadata": {},
   "outputs": [],
   "source": [
    "AUTOTUNE = tf.data.experimental.AUTOTUNE"
   ]
  },
  {
   "cell_type": "code",
   "execution_count": 4,
   "metadata": {},
   "outputs": [
    {
     "name": "stdout",
     "output_type": "stream",
     "text": [
      "[name: \"/device:CPU:0\"\n",
      "device_type: \"CPU\"\n",
      "memory_limit: 268435456\n",
      "locality {\n",
      "}\n",
      "incarnation: 14784590721083732387\n",
      "]\n"
     ]
    }
   ],
   "source": [
    "from tensorflow.python.client import device_lib\n",
    "print(device_lib.list_local_devices())"
   ]
  },
  {
   "cell_type": "markdown",
   "metadata": {},
   "source": [
    "## Start program"
   ]
  },
  {
   "cell_type": "markdown",
   "metadata": {},
   "source": [
    "### Select a model"
   ]
  },
  {
   "cell_type": "code",
   "execution_count": 14,
   "metadata": {},
   "outputs": [],
   "source": [
    "'''\n",
    "Model \n",
    "'''\n",
    "\n",
    "img_size = [224,224]\n",
    "\n",
    "mobile_net = tf.keras.applications.MobileNetV2(input_shape=(224, 224, 3), include_top=False)\n",
    "mobile_net.trainable=False\n",
    "\n",
    "model = tf.keras.Sequential([\n",
    "    mobile_net,\n",
    "    tf.keras.layers.GlobalAveragePooling2D(),\n",
    "    tf.keras.layers.Dense(32, activation = 'relu'),\n",
    "    tf.keras.layers.Dropout(0.5),\n",
    "    tf.keras.layers.Dense(32, activation='relu'),\n",
    "    tf.keras.layers.Dropout(0.5),\n",
    "    tf.keras.layers.Dense(1, activation='sigmoid')\n",
    "])"
   ]
  },
  {
   "cell_type": "code",
   "execution_count": 29,
   "metadata": {},
   "outputs": [
    {
     "name": "stdout",
     "output_type": "stream",
     "text": [
      "Downloading data from https://github.com/fchollet/deep-learning-models/releases/download/v0.2/resnet50_weights_tf_dim_ordering_tf_kernels.h5\n",
      "102858752/102853048 [==============================] - 11s 0us/step\n"
     ]
    }
   ],
   "source": [
    "'''\n",
    "Model \n",
    "'''\n",
    "\n",
    "img_size = [224,224]\n",
    "\n",
    "app = tf.keras.applications.ResNet50(input_shape=(224, 224, 3))\n",
    "app.trainable=False\n",
    "\n",
    "model = tf.keras.Sequential([\n",
    "  app,\n",
    "#   tf.keras.layers.GlobalAveragePooling2D(),\n",
    "  tf.keras.layers.Dense(2, activation = 'sigmoid')\n",
    "])"
   ]
  },
  {
   "cell_type": "code",
   "execution_count": 42,
   "metadata": {},
   "outputs": [],
   "source": [
    "'''\n",
    "Model \n",
    "'''\n",
    "\n",
    "img_size = [320,320]\n",
    "\n",
    "model = tf.keras.models.Sequential([\n",
    "    tf.keras.layers.Conv2D(32,kernel_size=(3,3), strides=(1, 1),activation='relu',input_shape=(320,320,3)),\n",
    "#     tf.keras.layers.Dense(batch_size, activation=tf.nn.relu),\n",
    "    tf.keras.layers.Dropout(0.2),\n",
    "    tf.keras.layers.Dense(2, activation=tf.nn.sigmoid)\n",
    "])"
   ]
  },
  {
   "cell_type": "code",
   "execution_count": 21,
   "metadata": {},
   "outputs": [],
   "source": [
    "'''\n",
    "Model \n",
    "'''\n",
    "\n",
    "img_size = [320,320]\n",
    "\n",
    "model = tf.keras.models.Sequential([\n",
    "    tf.keras.layers.Flatten(input_shape=(320,320,3)),\n",
    "    tf.keras.layers.Dense(2, activation=tf.nn.relu),\n",
    "    tf.keras.layers.Dropout(0.2),\n",
    "    tf.keras.layers.Dense(2, activation=tf.nn.sigmoid)\n",
    "])"
   ]
  },
  {
   "cell_type": "markdown",
   "metadata": {},
   "source": [
    "### Load Data"
   ]
  },
  {
   "cell_type": "code",
   "execution_count": 15,
   "metadata": {},
   "outputs": [],
   "source": [
    "'''\n",
    "Set Params\n",
    "\n",
    "sample_size: 0-1\n",
    "'''\n",
    "\n",
    "sample_size = 1.0\n",
    "\n",
    "batch_size = 32"
   ]
  },
  {
   "cell_type": "code",
   "execution_count": 16,
   "metadata": {},
   "outputs": [
    {
     "name": "stdout",
     "output_type": "stream",
     "text": [
      "[Errno 2] File b'../data/output_images/China/CHN.csv' does not exist: b'../data/output_images/China/CHN.csv'\n",
      "1    466\n",
      "0    466\n",
      "Name: Catenary, dtype: int64\n",
      "932\n"
     ]
    }
   ],
   "source": [
    "'''\n",
    "Load CSVs\n",
    "'''\n",
    "\n",
    "df = GetCSVs(sample_size)\n",
    "print(df['Catenary'].value_counts())\n",
    "\n",
    "img_paths,labels = GetPaths(df)"
   ]
  },
  {
   "cell_type": "code",
   "execution_count": 18,
   "metadata": {},
   "outputs": [
    {
     "name": "stdout",
     "output_type": "stream",
     "text": [
      "(224, 224, 3)\n",
      "(224, 224, 3)\n"
     ]
    }
   ],
   "source": [
    "'''\n",
    "Split, shuffle, and batch images into train/test datasets\n",
    "'''\n",
    "\n",
    "train_image_label_ds, test_image_label_ds = SplitDataSet(img_paths, labels)\n",
    "\n",
    "train_ds = ShuffleBatch(train_image_label_ds,len(img_paths),BATCH_SIZE = batch_size) \n",
    "test_ds = ShuffleBatch(test_image_label_ds,len(img_paths),BATCH_SIZE = batch_size)"
   ]
  },
  {
   "cell_type": "markdown",
   "metadata": {},
   "source": [
    "### Compile, Fit, and Evaluate"
   ]
  },
  {
   "cell_type": "code",
   "execution_count": 19,
   "metadata": {},
   "outputs": [],
   "source": [
    "model.compile(optimizer='rmsprop',\n",
    "              loss=tf.keras.losses.binary_crossentropy,\n",
    "              metrics=['accuracy'])"
   ]
  },
  {
   "cell_type": "code",
   "execution_count": 20,
   "metadata": {},
   "outputs": [
    {
     "name": "stdout",
     "output_type": "stream",
     "text": [
      "Epoch 1/10\n",
      "WARNING:tensorflow:From /Users/jessedecker/miniconda3/envs/tf/lib/python3.6/site-packages/tensorflow/python/ops/math_ops.py:3066: to_int32 (from tensorflow.python.ops.math_ops) is deprecated and will be removed in a future version.\n",
      "Instructions for updating:\n",
      "Use tf.cast instead.\n",
      "30/30 [==============================] - 74s 2s/step - loss: 0.7416 - acc: 0.4990\n",
      "Epoch 2/10\n",
      "30/30 [==============================] - 60s 2s/step - loss: 0.6974 - acc: 0.5281\n",
      "Epoch 3/10\n",
      "30/30 [==============================] - 52s 2s/step - loss: 0.6822 - acc: 0.5583\n",
      "Epoch 4/10\n",
      "30/30 [==============================] - 52s 2s/step - loss: 0.6541 - acc: 0.5906\n",
      "Epoch 5/10\n",
      "30/30 [==============================] - 52s 2s/step - loss: 0.6361 - acc: 0.6073\n",
      "Epoch 6/10\n",
      "30/30 [==============================] - 52s 2s/step - loss: 0.6279 - acc: 0.6542\n",
      "Epoch 7/10\n",
      "30/30 [==============================] - 52s 2s/step - loss: 0.6061 - acc: 0.6271\n",
      "Epoch 8/10\n",
      "30/30 [==============================] - 54s 2s/step - loss: 0.5846 - acc: 0.6604\n",
      "Epoch 9/10\n",
      "30/30 [==============================] - 56s 2s/step - loss: 0.5913 - acc: 0.6562\n",
      "Epoch 10/10\n",
      "30/30 [==============================] - 56s 2s/step - loss: 0.5694 - acc: 0.6802\n",
      "30/30 [==============================] - 65s 2s/step - loss: 0.7175 - acc: 0.5688\n"
     ]
    },
    {
     "data": {
      "text/plain": [
       "[0.7175362467765808, 0.56875]"
      ]
     },
     "execution_count": 20,
     "metadata": {},
     "output_type": "execute_result"
    }
   ],
   "source": [
    "steps_per_epoch = int(tf.ceil(len(img_paths)/batch_size).numpy())\n",
    "\n",
    "model.fit(train_ds,steps_per_epoch=steps_per_epoch, epochs=10)\n",
    "\n",
    "model.evaluate(test_ds,steps=steps_per_epoch)"
   ]
  },
  {
   "cell_type": "code",
   "execution_count": null,
   "metadata": {},
   "outputs": [],
   "source": []
  }
 ],
 "metadata": {
  "kernelspec": {
   "display_name": "Python 3",
   "language": "python",
   "name": "python3"
  },
  "language_info": {
   "codemirror_mode": {
    "name": "ipython",
    "version": 3
   },
   "file_extension": ".py",
   "mimetype": "text/x-python",
   "name": "python",
   "nbconvert_exporter": "python",
   "pygments_lexer": "ipython3",
   "version": "3.6.8"
  }
 },
 "nbformat": 4,
 "nbformat_minor": 2
}
